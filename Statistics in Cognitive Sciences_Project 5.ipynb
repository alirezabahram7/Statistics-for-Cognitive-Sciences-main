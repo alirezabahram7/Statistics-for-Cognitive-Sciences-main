{
 "cells": [
  {
   "cell_type": "markdown",
   "metadata": {},
   "source": [
    "# Part A.\n",
    "\n",
    "In a study of memory processes, animals were tested in a one-trial avoidance-learning task. The animals were presented with a fear-producing stimulus on the learning trial as soon as they stepped across a line in the test chamber. The dependent variable was the time it took them to step across the line on the test trial. Three groups of animals differed in terms of the area in which they had electrodes implanted in their cortex (Neutral site, Area A, or Area B). Each group was further divided and given electrical stimulation 50, 100, or 150 milliseconds after crossing the line and being presented with the fear-inducing stimulus. If the brain area that was stimulated is involved in memory, stimulation would be expected to interfere with memory consolidation and retard learning of the avoidance response, and the animal should not show any hesitancy in recrossing the line. The data on latency to recross the line are as follows:\n",
    "\n",
    "<img src=\"files/p9.png\" width=\"600\"/>\n",
    "\n",
    "The data are found in https://github.com/amanirad/Statistics-in-Cognitive-Sciences.\n",
    "\n",
    "- Run the Run the appropriate analysis of variance and state your conclusions and interpret the results.\n",
    "- Use the Bonferroni test to compare the neutral site to each of the other areas, ignoring the length of stimulation. \n",
    "- Use simple effects to examine the effect of delay of stimulation in area A for the data."
   ]
  },
  {
   "cell_type": "code",
   "execution_count": 645,
   "metadata": {},
   "outputs": [],
   "source": [
    "data = read.table('project_5.dat', header = TRUE)"
   ]
  },
  {
   "cell_type": "code",
   "execution_count": 646,
   "metadata": {
    "scrolled": false
   },
   "outputs": [
    {
     "data": {
      "text/html": [
       "<table class=\"dataframe\">\n",
       "<caption>A data.frame: 45 × 3</caption>\n",
       "<thead>\n",
       "\t<tr><th scope=col>Area</th><th scope=col>Duration</th><th scope=col>Time</th></tr>\n",
       "\t<tr><th scope=col>&lt;int&gt;</th><th scope=col>&lt;int&gt;</th><th scope=col>&lt;int&gt;</th></tr>\n",
       "</thead>\n",
       "<tbody>\n",
       "\t<tr><td>1</td><td>1</td><td>25</td></tr>\n",
       "\t<tr><td>1</td><td>1</td><td>30</td></tr>\n",
       "\t<tr><td>1</td><td>1</td><td>28</td></tr>\n",
       "\t<tr><td>1</td><td>1</td><td>40</td></tr>\n",
       "\t<tr><td>1</td><td>1</td><td>20</td></tr>\n",
       "\t<tr><td>1</td><td>2</td><td>30</td></tr>\n",
       "\t<tr><td>1</td><td>2</td><td>25</td></tr>\n",
       "\t<tr><td>1</td><td>2</td><td>27</td></tr>\n",
       "\t<tr><td>1</td><td>2</td><td>35</td></tr>\n",
       "\t<tr><td>1</td><td>2</td><td>23</td></tr>\n",
       "\t<tr><td>1</td><td>3</td><td>28</td></tr>\n",
       "\t<tr><td>1</td><td>3</td><td>31</td></tr>\n",
       "\t<tr><td>1</td><td>3</td><td>26</td></tr>\n",
       "\t<tr><td>1</td><td>3</td><td>20</td></tr>\n",
       "\t<tr><td>1</td><td>3</td><td>35</td></tr>\n",
       "\t<tr><td>2</td><td>1</td><td>11</td></tr>\n",
       "\t<tr><td>2</td><td>1</td><td>18</td></tr>\n",
       "\t<tr><td>2</td><td>1</td><td>26</td></tr>\n",
       "\t<tr><td>2</td><td>1</td><td>15</td></tr>\n",
       "\t<tr><td>2</td><td>1</td><td>14</td></tr>\n",
       "\t<tr><td>2</td><td>2</td><td>31</td></tr>\n",
       "\t<tr><td>2</td><td>2</td><td>20</td></tr>\n",
       "\t<tr><td>2</td><td>2</td><td>22</td></tr>\n",
       "\t<tr><td>2</td><td>2</td><td>23</td></tr>\n",
       "\t<tr><td>2</td><td>2</td><td>19</td></tr>\n",
       "\t<tr><td>2</td><td>3</td><td>23</td></tr>\n",
       "\t<tr><td>2</td><td>3</td><td>28</td></tr>\n",
       "\t<tr><td>2</td><td>3</td><td>35</td></tr>\n",
       "\t<tr><td>2</td><td>3</td><td>27</td></tr>\n",
       "\t<tr><td>2</td><td>3</td><td>21</td></tr>\n",
       "\t<tr><td>3</td><td>1</td><td>23</td></tr>\n",
       "\t<tr><td>3</td><td>1</td><td>30</td></tr>\n",
       "\t<tr><td>3</td><td>1</td><td>18</td></tr>\n",
       "\t<tr><td>3</td><td>1</td><td>28</td></tr>\n",
       "\t<tr><td>3</td><td>1</td><td>23</td></tr>\n",
       "\t<tr><td>3</td><td>2</td><td>18</td></tr>\n",
       "\t<tr><td>3</td><td>2</td><td>24</td></tr>\n",
       "\t<tr><td>3</td><td>2</td><td> 9</td></tr>\n",
       "\t<tr><td>3</td><td>2</td><td>16</td></tr>\n",
       "\t<tr><td>3</td><td>2</td><td>13</td></tr>\n",
       "\t<tr><td>3</td><td>3</td><td>28</td></tr>\n",
       "\t<tr><td>3</td><td>3</td><td>21</td></tr>\n",
       "\t<tr><td>3</td><td>3</td><td>30</td></tr>\n",
       "\t<tr><td>3</td><td>3</td><td>30</td></tr>\n",
       "\t<tr><td>3</td><td>3</td><td>23</td></tr>\n",
       "</tbody>\n",
       "</table>\n"
      ],
      "text/latex": [
       "A data.frame: 45 × 3\n",
       "\\begin{tabular}{lll}\n",
       " Area & Duration & Time\\\\\n",
       " <int> & <int> & <int>\\\\\n",
       "\\hline\n",
       "\t 1 & 1 & 25\\\\\n",
       "\t 1 & 1 & 30\\\\\n",
       "\t 1 & 1 & 28\\\\\n",
       "\t 1 & 1 & 40\\\\\n",
       "\t 1 & 1 & 20\\\\\n",
       "\t 1 & 2 & 30\\\\\n",
       "\t 1 & 2 & 25\\\\\n",
       "\t 1 & 2 & 27\\\\\n",
       "\t 1 & 2 & 35\\\\\n",
       "\t 1 & 2 & 23\\\\\n",
       "\t 1 & 3 & 28\\\\\n",
       "\t 1 & 3 & 31\\\\\n",
       "\t 1 & 3 & 26\\\\\n",
       "\t 1 & 3 & 20\\\\\n",
       "\t 1 & 3 & 35\\\\\n",
       "\t 2 & 1 & 11\\\\\n",
       "\t 2 & 1 & 18\\\\\n",
       "\t 2 & 1 & 26\\\\\n",
       "\t 2 & 1 & 15\\\\\n",
       "\t 2 & 1 & 14\\\\\n",
       "\t 2 & 2 & 31\\\\\n",
       "\t 2 & 2 & 20\\\\\n",
       "\t 2 & 2 & 22\\\\\n",
       "\t 2 & 2 & 23\\\\\n",
       "\t 2 & 2 & 19\\\\\n",
       "\t 2 & 3 & 23\\\\\n",
       "\t 2 & 3 & 28\\\\\n",
       "\t 2 & 3 & 35\\\\\n",
       "\t 2 & 3 & 27\\\\\n",
       "\t 2 & 3 & 21\\\\\n",
       "\t 3 & 1 & 23\\\\\n",
       "\t 3 & 1 & 30\\\\\n",
       "\t 3 & 1 & 18\\\\\n",
       "\t 3 & 1 & 28\\\\\n",
       "\t 3 & 1 & 23\\\\\n",
       "\t 3 & 2 & 18\\\\\n",
       "\t 3 & 2 & 24\\\\\n",
       "\t 3 & 2 &  9\\\\\n",
       "\t 3 & 2 & 16\\\\\n",
       "\t 3 & 2 & 13\\\\\n",
       "\t 3 & 3 & 28\\\\\n",
       "\t 3 & 3 & 21\\\\\n",
       "\t 3 & 3 & 30\\\\\n",
       "\t 3 & 3 & 30\\\\\n",
       "\t 3 & 3 & 23\\\\\n",
       "\\end{tabular}\n"
      ],
      "text/markdown": [
       "\n",
       "A data.frame: 45 × 3\n",
       "\n",
       "| Area &lt;int&gt; | Duration &lt;int&gt; | Time &lt;int&gt; |\n",
       "|---|---|---|\n",
       "| 1 | 1 | 25 |\n",
       "| 1 | 1 | 30 |\n",
       "| 1 | 1 | 28 |\n",
       "| 1 | 1 | 40 |\n",
       "| 1 | 1 | 20 |\n",
       "| 1 | 2 | 30 |\n",
       "| 1 | 2 | 25 |\n",
       "| 1 | 2 | 27 |\n",
       "| 1 | 2 | 35 |\n",
       "| 1 | 2 | 23 |\n",
       "| 1 | 3 | 28 |\n",
       "| 1 | 3 | 31 |\n",
       "| 1 | 3 | 26 |\n",
       "| 1 | 3 | 20 |\n",
       "| 1 | 3 | 35 |\n",
       "| 2 | 1 | 11 |\n",
       "| 2 | 1 | 18 |\n",
       "| 2 | 1 | 26 |\n",
       "| 2 | 1 | 15 |\n",
       "| 2 | 1 | 14 |\n",
       "| 2 | 2 | 31 |\n",
       "| 2 | 2 | 20 |\n",
       "| 2 | 2 | 22 |\n",
       "| 2 | 2 | 23 |\n",
       "| 2 | 2 | 19 |\n",
       "| 2 | 3 | 23 |\n",
       "| 2 | 3 | 28 |\n",
       "| 2 | 3 | 35 |\n",
       "| 2 | 3 | 27 |\n",
       "| 2 | 3 | 21 |\n",
       "| 3 | 1 | 23 |\n",
       "| 3 | 1 | 30 |\n",
       "| 3 | 1 | 18 |\n",
       "| 3 | 1 | 28 |\n",
       "| 3 | 1 | 23 |\n",
       "| 3 | 2 | 18 |\n",
       "| 3 | 2 | 24 |\n",
       "| 3 | 2 |  9 |\n",
       "| 3 | 2 | 16 |\n",
       "| 3 | 2 | 13 |\n",
       "| 3 | 3 | 28 |\n",
       "| 3 | 3 | 21 |\n",
       "| 3 | 3 | 30 |\n",
       "| 3 | 3 | 30 |\n",
       "| 3 | 3 | 23 |\n",
       "\n"
      ],
      "text/plain": [
       "   Area Duration Time\n",
       "1  1    1        25  \n",
       "2  1    1        30  \n",
       "3  1    1        28  \n",
       "4  1    1        40  \n",
       "5  1    1        20  \n",
       "6  1    2        30  \n",
       "7  1    2        25  \n",
       "8  1    2        27  \n",
       "9  1    2        35  \n",
       "10 1    2        23  \n",
       "11 1    3        28  \n",
       "12 1    3        31  \n",
       "13 1    3        26  \n",
       "14 1    3        20  \n",
       "15 1    3        35  \n",
       "16 2    1        11  \n",
       "17 2    1        18  \n",
       "18 2    1        26  \n",
       "19 2    1        15  \n",
       "20 2    1        14  \n",
       "21 2    2        31  \n",
       "22 2    2        20  \n",
       "23 2    2        22  \n",
       "24 2    2        23  \n",
       "25 2    2        19  \n",
       "26 2    3        23  \n",
       "27 2    3        28  \n",
       "28 2    3        35  \n",
       "29 2    3        27  \n",
       "30 2    3        21  \n",
       "31 3    1        23  \n",
       "32 3    1        30  \n",
       "33 3    1        18  \n",
       "34 3    1        28  \n",
       "35 3    1        23  \n",
       "36 3    2        18  \n",
       "37 3    2        24  \n",
       "38 3    2         9  \n",
       "39 3    2        16  \n",
       "40 3    2        13  \n",
       "41 3    3        28  \n",
       "42 3    3        21  \n",
       "43 3    3        30  \n",
       "44 3    3        30  \n",
       "45 3    3        23  "
      ]
     },
     "metadata": {},
     "output_type": "display_data"
    }
   ],
   "source": [
    "data"
   ]
  },
  {
   "cell_type": "code",
   "execution_count": 647,
   "metadata": {},
   "outputs": [
    {
     "data": {
      "text/html": [
       "<table class=\"dataframe\">\n",
       "<caption>A data.frame: 45 × 3</caption>\n",
       "<thead>\n",
       "\t<tr><th scope=col>Area</th><th scope=col>Duration</th><th scope=col>Time</th></tr>\n",
       "\t<tr><th scope=col>&lt;chr&gt;</th><th scope=col>&lt;chr&gt;</th><th scope=col>&lt;int&gt;</th></tr>\n",
       "</thead>\n",
       "<tbody>\n",
       "\t<tr><td>N</td><td>50 </td><td>25</td></tr>\n",
       "\t<tr><td>N</td><td>50 </td><td>30</td></tr>\n",
       "\t<tr><td>N</td><td>50 </td><td>28</td></tr>\n",
       "\t<tr><td>N</td><td>50 </td><td>40</td></tr>\n",
       "\t<tr><td>N</td><td>50 </td><td>20</td></tr>\n",
       "\t<tr><td>N</td><td>100</td><td>30</td></tr>\n",
       "\t<tr><td>N</td><td>100</td><td>25</td></tr>\n",
       "\t<tr><td>N</td><td>100</td><td>27</td></tr>\n",
       "\t<tr><td>N</td><td>100</td><td>35</td></tr>\n",
       "\t<tr><td>N</td><td>100</td><td>23</td></tr>\n",
       "\t<tr><td>N</td><td>150</td><td>28</td></tr>\n",
       "\t<tr><td>N</td><td>150</td><td>31</td></tr>\n",
       "\t<tr><td>N</td><td>150</td><td>26</td></tr>\n",
       "\t<tr><td>N</td><td>150</td><td>20</td></tr>\n",
       "\t<tr><td>N</td><td>150</td><td>35</td></tr>\n",
       "\t<tr><td>A</td><td>50 </td><td>11</td></tr>\n",
       "\t<tr><td>A</td><td>50 </td><td>18</td></tr>\n",
       "\t<tr><td>A</td><td>50 </td><td>26</td></tr>\n",
       "\t<tr><td>A</td><td>50 </td><td>15</td></tr>\n",
       "\t<tr><td>A</td><td>50 </td><td>14</td></tr>\n",
       "\t<tr><td>A</td><td>100</td><td>31</td></tr>\n",
       "\t<tr><td>A</td><td>100</td><td>20</td></tr>\n",
       "\t<tr><td>A</td><td>100</td><td>22</td></tr>\n",
       "\t<tr><td>A</td><td>100</td><td>23</td></tr>\n",
       "\t<tr><td>A</td><td>100</td><td>19</td></tr>\n",
       "\t<tr><td>A</td><td>150</td><td>23</td></tr>\n",
       "\t<tr><td>A</td><td>150</td><td>28</td></tr>\n",
       "\t<tr><td>A</td><td>150</td><td>35</td></tr>\n",
       "\t<tr><td>A</td><td>150</td><td>27</td></tr>\n",
       "\t<tr><td>A</td><td>150</td><td>21</td></tr>\n",
       "\t<tr><td>B</td><td>50 </td><td>23</td></tr>\n",
       "\t<tr><td>B</td><td>50 </td><td>30</td></tr>\n",
       "\t<tr><td>B</td><td>50 </td><td>18</td></tr>\n",
       "\t<tr><td>B</td><td>50 </td><td>28</td></tr>\n",
       "\t<tr><td>B</td><td>50 </td><td>23</td></tr>\n",
       "\t<tr><td>B</td><td>100</td><td>18</td></tr>\n",
       "\t<tr><td>B</td><td>100</td><td>24</td></tr>\n",
       "\t<tr><td>B</td><td>100</td><td> 9</td></tr>\n",
       "\t<tr><td>B</td><td>100</td><td>16</td></tr>\n",
       "\t<tr><td>B</td><td>100</td><td>13</td></tr>\n",
       "\t<tr><td>B</td><td>150</td><td>28</td></tr>\n",
       "\t<tr><td>B</td><td>150</td><td>21</td></tr>\n",
       "\t<tr><td>B</td><td>150</td><td>30</td></tr>\n",
       "\t<tr><td>B</td><td>150</td><td>30</td></tr>\n",
       "\t<tr><td>B</td><td>150</td><td>23</td></tr>\n",
       "</tbody>\n",
       "</table>\n"
      ],
      "text/latex": [
       "A data.frame: 45 × 3\n",
       "\\begin{tabular}{lll}\n",
       " Area & Duration & Time\\\\\n",
       " <chr> & <chr> & <int>\\\\\n",
       "\\hline\n",
       "\t N & 50  & 25\\\\\n",
       "\t N & 50  & 30\\\\\n",
       "\t N & 50  & 28\\\\\n",
       "\t N & 50  & 40\\\\\n",
       "\t N & 50  & 20\\\\\n",
       "\t N & 100 & 30\\\\\n",
       "\t N & 100 & 25\\\\\n",
       "\t N & 100 & 27\\\\\n",
       "\t N & 100 & 35\\\\\n",
       "\t N & 100 & 23\\\\\n",
       "\t N & 150 & 28\\\\\n",
       "\t N & 150 & 31\\\\\n",
       "\t N & 150 & 26\\\\\n",
       "\t N & 150 & 20\\\\\n",
       "\t N & 150 & 35\\\\\n",
       "\t A & 50  & 11\\\\\n",
       "\t A & 50  & 18\\\\\n",
       "\t A & 50  & 26\\\\\n",
       "\t A & 50  & 15\\\\\n",
       "\t A & 50  & 14\\\\\n",
       "\t A & 100 & 31\\\\\n",
       "\t A & 100 & 20\\\\\n",
       "\t A & 100 & 22\\\\\n",
       "\t A & 100 & 23\\\\\n",
       "\t A & 100 & 19\\\\\n",
       "\t A & 150 & 23\\\\\n",
       "\t A & 150 & 28\\\\\n",
       "\t A & 150 & 35\\\\\n",
       "\t A & 150 & 27\\\\\n",
       "\t A & 150 & 21\\\\\n",
       "\t B & 50  & 23\\\\\n",
       "\t B & 50  & 30\\\\\n",
       "\t B & 50  & 18\\\\\n",
       "\t B & 50  & 28\\\\\n",
       "\t B & 50  & 23\\\\\n",
       "\t B & 100 & 18\\\\\n",
       "\t B & 100 & 24\\\\\n",
       "\t B & 100 &  9\\\\\n",
       "\t B & 100 & 16\\\\\n",
       "\t B & 100 & 13\\\\\n",
       "\t B & 150 & 28\\\\\n",
       "\t B & 150 & 21\\\\\n",
       "\t B & 150 & 30\\\\\n",
       "\t B & 150 & 30\\\\\n",
       "\t B & 150 & 23\\\\\n",
       "\\end{tabular}\n"
      ],
      "text/markdown": [
       "\n",
       "A data.frame: 45 × 3\n",
       "\n",
       "| Area &lt;chr&gt; | Duration &lt;chr&gt; | Time &lt;int&gt; |\n",
       "|---|---|---|\n",
       "| N | 50  | 25 |\n",
       "| N | 50  | 30 |\n",
       "| N | 50  | 28 |\n",
       "| N | 50  | 40 |\n",
       "| N | 50  | 20 |\n",
       "| N | 100 | 30 |\n",
       "| N | 100 | 25 |\n",
       "| N | 100 | 27 |\n",
       "| N | 100 | 35 |\n",
       "| N | 100 | 23 |\n",
       "| N | 150 | 28 |\n",
       "| N | 150 | 31 |\n",
       "| N | 150 | 26 |\n",
       "| N | 150 | 20 |\n",
       "| N | 150 | 35 |\n",
       "| A | 50  | 11 |\n",
       "| A | 50  | 18 |\n",
       "| A | 50  | 26 |\n",
       "| A | 50  | 15 |\n",
       "| A | 50  | 14 |\n",
       "| A | 100 | 31 |\n",
       "| A | 100 | 20 |\n",
       "| A | 100 | 22 |\n",
       "| A | 100 | 23 |\n",
       "| A | 100 | 19 |\n",
       "| A | 150 | 23 |\n",
       "| A | 150 | 28 |\n",
       "| A | 150 | 35 |\n",
       "| A | 150 | 27 |\n",
       "| A | 150 | 21 |\n",
       "| B | 50  | 23 |\n",
       "| B | 50  | 30 |\n",
       "| B | 50  | 18 |\n",
       "| B | 50  | 28 |\n",
       "| B | 50  | 23 |\n",
       "| B | 100 | 18 |\n",
       "| B | 100 | 24 |\n",
       "| B | 100 |  9 |\n",
       "| B | 100 | 16 |\n",
       "| B | 100 | 13 |\n",
       "| B | 150 | 28 |\n",
       "| B | 150 | 21 |\n",
       "| B | 150 | 30 |\n",
       "| B | 150 | 30 |\n",
       "| B | 150 | 23 |\n",
       "\n"
      ],
      "text/plain": [
       "   Area Duration Time\n",
       "1  N    50       25  \n",
       "2  N    50       30  \n",
       "3  N    50       28  \n",
       "4  N    50       40  \n",
       "5  N    50       20  \n",
       "6  N    100      30  \n",
       "7  N    100      25  \n",
       "8  N    100      27  \n",
       "9  N    100      35  \n",
       "10 N    100      23  \n",
       "11 N    150      28  \n",
       "12 N    150      31  \n",
       "13 N    150      26  \n",
       "14 N    150      20  \n",
       "15 N    150      35  \n",
       "16 A    50       11  \n",
       "17 A    50       18  \n",
       "18 A    50       26  \n",
       "19 A    50       15  \n",
       "20 A    50       14  \n",
       "21 A    100      31  \n",
       "22 A    100      20  \n",
       "23 A    100      22  \n",
       "24 A    100      23  \n",
       "25 A    100      19  \n",
       "26 A    150      23  \n",
       "27 A    150      28  \n",
       "28 A    150      35  \n",
       "29 A    150      27  \n",
       "30 A    150      21  \n",
       "31 B    50       23  \n",
       "32 B    50       30  \n",
       "33 B    50       18  \n",
       "34 B    50       28  \n",
       "35 B    50       23  \n",
       "36 B    100      18  \n",
       "37 B    100      24  \n",
       "38 B    100       9  \n",
       "39 B    100      16  \n",
       "40 B    100      13  \n",
       "41 B    150      28  \n",
       "42 B    150      21  \n",
       "43 B    150      30  \n",
       "44 B    150      30  \n",
       "45 B    150      23  "
      ]
     },
     "metadata": {},
     "output_type": "display_data"
    }
   ],
   "source": [
    "library(stringr)\n",
    "data$Area <- str_replace(data$Area, \"1\", \"N\")\n",
    "data$Area <- str_replace(data$Area, \"2\", \"A\")\n",
    "data$Area <- str_replace(data$Area, \"3\", \"B\")\n",
    "\n",
    "data$Duration <- str_replace(data$Duration, \"1\", \"50\")\n",
    "data$Duration <- str_replace(data$Duration, \"2\", \"100\")\n",
    "data$Duration <- str_replace(data$Duration, \"3\", \"150\")\n",
    "data"
   ]
  },
  {
   "cell_type": "code",
   "execution_count": 451,
   "metadata": {},
   "outputs": [],
   "source": [
    "library(magrittr)\n",
    "library(rstatix)"
   ]
  },
  {
   "cell_type": "code",
   "execution_count": 648,
   "metadata": {
    "scrolled": false
   },
   "outputs": [
    {
     "data": {
      "text/html": [
       "<table class=\"dataframe\">\n",
       "<caption>A tibble: 9 × 15</caption>\n",
       "<thead>\n",
       "\t<tr><th scope=col>Area</th><th scope=col>Duration</th><th scope=col>variable</th><th scope=col>n</th><th scope=col>min</th><th scope=col>max</th><th scope=col>median</th><th scope=col>q1</th><th scope=col>q3</th><th scope=col>iqr</th><th scope=col>mad</th><th scope=col>mean</th><th scope=col>sd</th><th scope=col>se</th><th scope=col>ci</th></tr>\n",
       "\t<tr><th scope=col>&lt;chr&gt;</th><th scope=col>&lt;chr&gt;</th><th scope=col>&lt;fct&gt;</th><th scope=col>&lt;dbl&gt;</th><th scope=col>&lt;dbl&gt;</th><th scope=col>&lt;dbl&gt;</th><th scope=col>&lt;dbl&gt;</th><th scope=col>&lt;dbl&gt;</th><th scope=col>&lt;dbl&gt;</th><th scope=col>&lt;dbl&gt;</th><th scope=col>&lt;dbl&gt;</th><th scope=col>&lt;dbl&gt;</th><th scope=col>&lt;dbl&gt;</th><th scope=col>&lt;dbl&gt;</th><th scope=col>&lt;dbl&gt;</th></tr>\n",
       "</thead>\n",
       "<tbody>\n",
       "\t<tr><td>A</td><td>100</td><td>Time</td><td>5</td><td>19</td><td>31</td><td>22</td><td>20</td><td>23</td><td>3</td><td>2.965</td><td>23.0</td><td>4.743</td><td>2.121</td><td>5.890</td></tr>\n",
       "\t<tr><td>A</td><td>150</td><td>Time</td><td>5</td><td>21</td><td>35</td><td>27</td><td>23</td><td>28</td><td>5</td><td>5.930</td><td>26.8</td><td>5.404</td><td>2.417</td><td>6.710</td></tr>\n",
       "\t<tr><td>A</td><td>50 </td><td>Time</td><td>5</td><td>11</td><td>26</td><td>15</td><td>14</td><td>18</td><td>4</td><td>4.448</td><td>16.8</td><td>5.718</td><td>2.557</td><td>7.100</td></tr>\n",
       "\t<tr><td>B</td><td>100</td><td>Time</td><td>5</td><td> 9</td><td>24</td><td>16</td><td>13</td><td>18</td><td>5</td><td>4.448</td><td>16.0</td><td>5.612</td><td>2.510</td><td>6.969</td></tr>\n",
       "\t<tr><td>B</td><td>150</td><td>Time</td><td>5</td><td>21</td><td>30</td><td>28</td><td>23</td><td>30</td><td>7</td><td>2.965</td><td>26.4</td><td>4.159</td><td>1.860</td><td>5.164</td></tr>\n",
       "\t<tr><td>B</td><td>50 </td><td>Time</td><td>5</td><td>18</td><td>30</td><td>23</td><td>23</td><td>28</td><td>5</td><td>7.413</td><td>24.4</td><td>4.722</td><td>2.112</td><td>5.863</td></tr>\n",
       "\t<tr><td>N</td><td>100</td><td>Time</td><td>5</td><td>23</td><td>35</td><td>27</td><td>25</td><td>30</td><td>5</td><td>4.448</td><td>28.0</td><td>4.690</td><td>2.098</td><td>5.824</td></tr>\n",
       "\t<tr><td>N</td><td>150</td><td>Time</td><td>5</td><td>20</td><td>35</td><td>28</td><td>26</td><td>31</td><td>5</td><td>4.448</td><td>28.0</td><td>5.612</td><td>2.510</td><td>6.969</td></tr>\n",
       "\t<tr><td>N</td><td>50 </td><td>Time</td><td>5</td><td>20</td><td>40</td><td>28</td><td>25</td><td>30</td><td>5</td><td>4.448</td><td>28.6</td><td>7.403</td><td>3.311</td><td>9.192</td></tr>\n",
       "</tbody>\n",
       "</table>\n"
      ],
      "text/latex": [
       "A tibble: 9 × 15\n",
       "\\begin{tabular}{lllllllllllllll}\n",
       " Area & Duration & variable & n & min & max & median & q1 & q3 & iqr & mad & mean & sd & se & ci\\\\\n",
       " <chr> & <chr> & <fct> & <dbl> & <dbl> & <dbl> & <dbl> & <dbl> & <dbl> & <dbl> & <dbl> & <dbl> & <dbl> & <dbl> & <dbl>\\\\\n",
       "\\hline\n",
       "\t A & 100 & Time & 5 & 19 & 31 & 22 & 20 & 23 & 3 & 2.965 & 23.0 & 4.743 & 2.121 & 5.890\\\\\n",
       "\t A & 150 & Time & 5 & 21 & 35 & 27 & 23 & 28 & 5 & 5.930 & 26.8 & 5.404 & 2.417 & 6.710\\\\\n",
       "\t A & 50  & Time & 5 & 11 & 26 & 15 & 14 & 18 & 4 & 4.448 & 16.8 & 5.718 & 2.557 & 7.100\\\\\n",
       "\t B & 100 & Time & 5 &  9 & 24 & 16 & 13 & 18 & 5 & 4.448 & 16.0 & 5.612 & 2.510 & 6.969\\\\\n",
       "\t B & 150 & Time & 5 & 21 & 30 & 28 & 23 & 30 & 7 & 2.965 & 26.4 & 4.159 & 1.860 & 5.164\\\\\n",
       "\t B & 50  & Time & 5 & 18 & 30 & 23 & 23 & 28 & 5 & 7.413 & 24.4 & 4.722 & 2.112 & 5.863\\\\\n",
       "\t N & 100 & Time & 5 & 23 & 35 & 27 & 25 & 30 & 5 & 4.448 & 28.0 & 4.690 & 2.098 & 5.824\\\\\n",
       "\t N & 150 & Time & 5 & 20 & 35 & 28 & 26 & 31 & 5 & 4.448 & 28.0 & 5.612 & 2.510 & 6.969\\\\\n",
       "\t N & 50  & Time & 5 & 20 & 40 & 28 & 25 & 30 & 5 & 4.448 & 28.6 & 7.403 & 3.311 & 9.192\\\\\n",
       "\\end{tabular}\n"
      ],
      "text/markdown": [
       "\n",
       "A tibble: 9 × 15\n",
       "\n",
       "| Area &lt;chr&gt; | Duration &lt;chr&gt; | variable &lt;fct&gt; | n &lt;dbl&gt; | min &lt;dbl&gt; | max &lt;dbl&gt; | median &lt;dbl&gt; | q1 &lt;dbl&gt; | q3 &lt;dbl&gt; | iqr &lt;dbl&gt; | mad &lt;dbl&gt; | mean &lt;dbl&gt; | sd &lt;dbl&gt; | se &lt;dbl&gt; | ci &lt;dbl&gt; |\n",
       "|---|---|---|---|---|---|---|---|---|---|---|---|---|---|---|\n",
       "| A | 100 | Time | 5 | 19 | 31 | 22 | 20 | 23 | 3 | 2.965 | 23.0 | 4.743 | 2.121 | 5.890 |\n",
       "| A | 150 | Time | 5 | 21 | 35 | 27 | 23 | 28 | 5 | 5.930 | 26.8 | 5.404 | 2.417 | 6.710 |\n",
       "| A | 50  | Time | 5 | 11 | 26 | 15 | 14 | 18 | 4 | 4.448 | 16.8 | 5.718 | 2.557 | 7.100 |\n",
       "| B | 100 | Time | 5 |  9 | 24 | 16 | 13 | 18 | 5 | 4.448 | 16.0 | 5.612 | 2.510 | 6.969 |\n",
       "| B | 150 | Time | 5 | 21 | 30 | 28 | 23 | 30 | 7 | 2.965 | 26.4 | 4.159 | 1.860 | 5.164 |\n",
       "| B | 50  | Time | 5 | 18 | 30 | 23 | 23 | 28 | 5 | 7.413 | 24.4 | 4.722 | 2.112 | 5.863 |\n",
       "| N | 100 | Time | 5 | 23 | 35 | 27 | 25 | 30 | 5 | 4.448 | 28.0 | 4.690 | 2.098 | 5.824 |\n",
       "| N | 150 | Time | 5 | 20 | 35 | 28 | 26 | 31 | 5 | 4.448 | 28.0 | 5.612 | 2.510 | 6.969 |\n",
       "| N | 50  | Time | 5 | 20 | 40 | 28 | 25 | 30 | 5 | 4.448 | 28.6 | 7.403 | 3.311 | 9.192 |\n",
       "\n"
      ],
      "text/plain": [
       "  Area Duration variable n min max median q1 q3 iqr mad   mean sd    se   \n",
       "1 A    100      Time     5 19  31  22     20 23 3   2.965 23.0 4.743 2.121\n",
       "2 A    150      Time     5 21  35  27     23 28 5   5.930 26.8 5.404 2.417\n",
       "3 A    50       Time     5 11  26  15     14 18 4   4.448 16.8 5.718 2.557\n",
       "4 B    100      Time     5  9  24  16     13 18 5   4.448 16.0 5.612 2.510\n",
       "5 B    150      Time     5 21  30  28     23 30 7   2.965 26.4 4.159 1.860\n",
       "6 B    50       Time     5 18  30  23     23 28 5   7.413 24.4 4.722 2.112\n",
       "7 N    100      Time     5 23  35  27     25 30 5   4.448 28.0 4.690 2.098\n",
       "8 N    150      Time     5 20  35  28     26 31 5   4.448 28.0 5.612 2.510\n",
       "9 N    50       Time     5 20  40  28     25 30 5   4.448 28.6 7.403 3.311\n",
       "  ci   \n",
       "1 5.890\n",
       "2 6.710\n",
       "3 7.100\n",
       "4 6.969\n",
       "5 5.164\n",
       "6 5.863\n",
       "7 5.824\n",
       "8 6.969\n",
       "9 9.192"
      ]
     },
     "metadata": {},
     "output_type": "display_data"
    }
   ],
   "source": [
    "data %>% group_by(Area,Duration) %>% get_summary_stats(Time)"
   ]
  },
  {
   "cell_type": "code",
   "execution_count": 453,
   "metadata": {},
   "outputs": [],
   "source": [
    "library(ggpubr)"
   ]
  },
  {
   "cell_type": "code",
   "execution_count": 649,
   "metadata": {
    "scrolled": false
   },
   "outputs": [
    {
     "data": {
      "image/png": "[encoded data removed]",
      "text/plain": [
       "plot without title"
      ]
     },
     "metadata": {
      "image/png": {
       "height": 420,
       "width": 420
      }
     },
     "output_type": "display_data"
    }
   ],
   "source": [
    "ggboxplot(data, x=\"Area\", y=\"Time\", color=\"Duration\",add=\"point\")"
   ]
  },
  {
   "cell_type": "code",
   "execution_count": 650,
   "metadata": {},
   "outputs": [
    {
     "data": {
      "text/html": [
       "<table class=\"dataframe\">\n",
       "<caption>A tibble: 3 × 5</caption>\n",
       "<thead>\n",
       "\t<tr><th scope=col>Area</th><th scope=col>Duration</th><th scope=col>Time</th><th scope=col>is.outlier</th><th scope=col>is.extreme</th></tr>\n",
       "\t<tr><th scope=col>&lt;chr&gt;</th><th scope=col>&lt;chr&gt;</th><th scope=col>&lt;int&gt;</th><th scope=col>&lt;lgl&gt;</th><th scope=col>&lt;lgl&gt;</th></tr>\n",
       "</thead>\n",
       "<tbody>\n",
       "\t<tr><td>A</td><td>100</td><td>31</td><td>TRUE</td><td>FALSE</td></tr>\n",
       "\t<tr><td>A</td><td>50 </td><td>26</td><td>TRUE</td><td>FALSE</td></tr>\n",
       "\t<tr><td>N</td><td>50 </td><td>40</td><td>TRUE</td><td>FALSE</td></tr>\n",
       "</tbody>\n",
       "</table>\n"
      ],
      "text/latex": [
       "A tibble: 3 × 5\n",
       "\\begin{tabular}{lllll}\n",
       " Area & Duration & Time & is.outlier & is.extreme\\\\\n",
       " <chr> & <chr> & <int> & <lgl> & <lgl>\\\\\n",
       "\\hline\n",
       "\t A & 100 & 31 & TRUE & FALSE\\\\\n",
       "\t A & 50  & 26 & TRUE & FALSE\\\\\n",
       "\t N & 50  & 40 & TRUE & FALSE\\\\\n",
       "\\end{tabular}\n"
      ],
      "text/markdown": [
       "\n",
       "A tibble: 3 × 5\n",
       "\n",
       "| Area &lt;chr&gt; | Duration &lt;chr&gt; | Time &lt;int&gt; | is.outlier &lt;lgl&gt; | is.extreme &lt;lgl&gt; |\n",
       "|---|---|---|---|---|\n",
       "| A | 100 | 31 | TRUE | FALSE |\n",
       "| A | 50  | 26 | TRUE | FALSE |\n",
       "| N | 50  | 40 | TRUE | FALSE |\n",
       "\n"
      ],
      "text/plain": [
       "  Area Duration Time is.outlier is.extreme\n",
       "1 A    100      31   TRUE       FALSE     \n",
       "2 A    50       26   TRUE       FALSE     \n",
       "3 N    50       40   TRUE       FALSE     "
      ]
     },
     "metadata": {},
     "output_type": "display_data"
    }
   ],
   "source": [
    "data %>% group_by(Area,Duration) %>% identify_outliers(Time)"
   ]
  },
  {
   "cell_type": "markdown",
   "metadata": {},
   "source": [
    "از ان جایی که آوتلایر بسیار پرتی نداریم موردی را حذف نمی کنیم"
   ]
  },
  {
   "cell_type": "code",
   "execution_count": 651,
   "metadata": {},
   "outputs": [
    {
     "data": {
      "image/png": "[encoded data removed]",
      "text/plain": [
       "plot without title"
      ]
     },
     "metadata": {
      "image/png": {
       "height": 420,
       "width": 420
      }
     },
     "output_type": "display_data"
    }
   ],
   "source": [
    "ggqqplot(data,\"Time\")"
   ]
  },
  {
   "cell_type": "code",
   "execution_count": 72,
   "metadata": {
    "scrolled": true
   },
   "outputs": [
    {
     "data": {
      "image/png": "[encoded data removed]",
      "text/plain": [
       "plot without title"
      ]
     },
     "metadata": {
      "image/png": {
       "height": 420,
       "width": 420
      }
     },
     "output_type": "display_data"
    }
   ],
   "source": [
    "ggqqplot(data, \"Time\") + facet_grid(Area ~ Duration)"
   ]
  },
  {
   "cell_type": "markdown",
   "metadata": {},
   "source": [
    "همانطور که از باکسپلاتها برمیآید اوزیع تقریبا نرمال ست"
   ]
  },
  {
   "cell_type": "code",
   "execution_count": 652,
   "metadata": {
    "scrolled": true
   },
   "outputs": [
    {
     "data": {
      "text/html": [
       "<table class=\"dataframe\">\n",
       "<caption>A tibble: 9 × 5</caption>\n",
       "<thead>\n",
       "\t<tr><th scope=col>Area</th><th scope=col>Duration</th><th scope=col>variable</th><th scope=col>statistic</th><th scope=col>p</th></tr>\n",
       "\t<tr><th scope=col>&lt;chr&gt;</th><th scope=col>&lt;chr&gt;</th><th scope=col>&lt;chr&gt;</th><th scope=col>&lt;dbl&gt;</th><th scope=col>&lt;dbl&gt;</th></tr>\n",
       "</thead>\n",
       "<tbody>\n",
       "\t<tr><td>A</td><td>100</td><td>Time</td><td>0.8409519</td><td>0.1675703</td></tr>\n",
       "\t<tr><td>A</td><td>150</td><td>Time</td><td>0.9460349</td><td>0.7088551</td></tr>\n",
       "\t<tr><td>A</td><td>50 </td><td>Time</td><td>0.9141809</td><td>0.4931178</td></tr>\n",
       "\t<tr><td>B</td><td>100</td><td>Time</td><td>0.9913625</td><td>0.9842414</td></tr>\n",
       "\t<tr><td>B</td><td>150</td><td>Time</td><td>0.8504109</td><td>0.1958209</td></tr>\n",
       "\t<tr><td>B</td><td>50 </td><td>Time</td><td>0.9452666</td><td>0.7033700</td></tr>\n",
       "\t<tr><td>N</td><td>100</td><td>Time</td><td>0.9581566</td><td>0.7950916</td></tr>\n",
       "\t<tr><td>N</td><td>150</td><td>Time</td><td>0.9913625</td><td>0.9842414</td></tr>\n",
       "\t<tr><td>N</td><td>50 </td><td>Time</td><td>0.9591148</td><td>0.8018062</td></tr>\n",
       "</tbody>\n",
       "</table>\n"
      ],
      "text/latex": [
       "A tibble: 9 × 5\n",
       "\\begin{tabular}{lllll}\n",
       " Area & Duration & variable & statistic & p\\\\\n",
       " <chr> & <chr> & <chr> & <dbl> & <dbl>\\\\\n",
       "\\hline\n",
       "\t A & 100 & Time & 0.8409519 & 0.1675703\\\\\n",
       "\t A & 150 & Time & 0.9460349 & 0.7088551\\\\\n",
       "\t A & 50  & Time & 0.9141809 & 0.4931178\\\\\n",
       "\t B & 100 & Time & 0.9913625 & 0.9842414\\\\\n",
       "\t B & 150 & Time & 0.8504109 & 0.1958209\\\\\n",
       "\t B & 50  & Time & 0.9452666 & 0.7033700\\\\\n",
       "\t N & 100 & Time & 0.9581566 & 0.7950916\\\\\n",
       "\t N & 150 & Time & 0.9913625 & 0.9842414\\\\\n",
       "\t N & 50  & Time & 0.9591148 & 0.8018062\\\\\n",
       "\\end{tabular}\n"
      ],
      "text/markdown": [
       "\n",
       "A tibble: 9 × 5\n",
       "\n",
       "| Area &lt;chr&gt; | Duration &lt;chr&gt; | variable &lt;chr&gt; | statistic &lt;dbl&gt; | p &lt;dbl&gt; |\n",
       "|---|---|---|---|---|\n",
       "| A | 100 | Time | 0.8409519 | 0.1675703 |\n",
       "| A | 150 | Time | 0.9460349 | 0.7088551 |\n",
       "| A | 50  | Time | 0.9141809 | 0.4931178 |\n",
       "| B | 100 | Time | 0.9913625 | 0.9842414 |\n",
       "| B | 150 | Time | 0.8504109 | 0.1958209 |\n",
       "| B | 50  | Time | 0.9452666 | 0.7033700 |\n",
       "| N | 100 | Time | 0.9581566 | 0.7950916 |\n",
       "| N | 150 | Time | 0.9913625 | 0.9842414 |\n",
       "| N | 50  | Time | 0.9591148 | 0.8018062 |\n",
       "\n"
      ],
      "text/plain": [
       "  Area Duration variable statistic p        \n",
       "1 A    100      Time     0.8409519 0.1675703\n",
       "2 A    150      Time     0.9460349 0.7088551\n",
       "3 A    50       Time     0.9141809 0.4931178\n",
       "4 B    100      Time     0.9913625 0.9842414\n",
       "5 B    150      Time     0.8504109 0.1958209\n",
       "6 B    50       Time     0.9452666 0.7033700\n",
       "7 N    100      Time     0.9581566 0.7950916\n",
       "8 N    150      Time     0.9913625 0.9842414\n",
       "9 N    50       Time     0.9591148 0.8018062"
      ]
     },
     "metadata": {},
     "output_type": "display_data"
    }
   ],
   "source": [
    "data %>% group_by(Area,Duration) %>% shapiro_test(Time)"
   ]
  },
  {
   "cell_type": "markdown",
   "metadata": {},
   "source": [
    "نرمالیتی با توجه به بزرگ بودن پی برقرار است"
   ]
  },
  {
   "cell_type": "code",
   "execution_count": 74,
   "metadata": {},
   "outputs": [
    {
     "data": {
      "text/html": [
       "<table class=\"dataframe\">\n",
       "<caption>A tibble: 1 × 4</caption>\n",
       "<thead>\n",
       "\t<tr><th scope=col>df1</th><th scope=col>df2</th><th scope=col>statistic</th><th scope=col>p</th></tr>\n",
       "\t<tr><th scope=col>&lt;int&gt;</th><th scope=col>&lt;int&gt;</th><th scope=col>&lt;dbl&gt;</th><th scope=col>&lt;dbl&gt;</th></tr>\n",
       "</thead>\n",
       "<tbody>\n",
       "\t<tr><td>8</td><td>36</td><td>0.1355422</td><td>0.9970647</td></tr>\n",
       "</tbody>\n",
       "</table>\n"
      ],
      "text/latex": [
       "A tibble: 1 × 4\n",
       "\\begin{tabular}{llll}\n",
       " df1 & df2 & statistic & p\\\\\n",
       " <int> & <int> & <dbl> & <dbl>\\\\\n",
       "\\hline\n",
       "\t 8 & 36 & 0.1355422 & 0.9970647\\\\\n",
       "\\end{tabular}\n"
      ],
      "text/markdown": [
       "\n",
       "A tibble: 1 × 4\n",
       "\n",
       "| df1 &lt;int&gt; | df2 &lt;int&gt; | statistic &lt;dbl&gt; | p &lt;dbl&gt; |\n",
       "|---|---|---|---|\n",
       "| 8 | 36 | 0.1355422 | 0.9970647 |\n",
       "\n"
      ],
      "text/plain": [
       "  df1 df2 statistic p        \n",
       "1 8   36  0.1355422 0.9970647"
      ]
     },
     "metadata": {},
     "output_type": "display_data"
    }
   ],
   "source": [
    "data %>% levene_test(Time ~ Duration*Area)"
   ]
  },
  {
   "cell_type": "markdown",
   "metadata": {},
   "source": [
    "همگنی واریانس ها برقرار است"
   ]
  },
  {
   "cell_type": "code",
   "execution_count": 653,
   "metadata": {},
   "outputs": [
    {
     "data": {
      "text/html": [
       "<table class=\"dataframe\">\n",
       "<caption>A anova_test: 3 × 7</caption>\n",
       "<thead>\n",
       "\t<tr><th></th><th scope=col>Effect</th><th scope=col>DFn</th><th scope=col>DFd</th><th scope=col>F</th><th scope=col>p</th><th scope=col>p&lt;.05</th><th scope=col>ges</th></tr>\n",
       "\t<tr><th></th><th scope=col>&lt;chr&gt;</th><th scope=col>&lt;dbl&gt;</th><th scope=col>&lt;dbl&gt;</th><th scope=col>&lt;dbl&gt;</th><th scope=col>&lt;dbl&gt;</th><th scope=col>&lt;chr&gt;</th><th scope=col>&lt;dbl&gt;</th></tr>\n",
       "</thead>\n",
       "<tbody>\n",
       "\t<tr><th scope=row>1</th><td>Duration     </td><td>2</td><td>36</td><td>3.217</td><td>0.052</td><td> </td><td>0.152</td></tr>\n",
       "\t<tr><th scope=row>2</th><td>Area         </td><td>2</td><td>36</td><td>6.074</td><td>0.005</td><td>*</td><td>0.252</td></tr>\n",
       "\t<tr><th scope=row>3</th><td>Duration:Area</td><td>4</td><td>36</td><td>3.172</td><td>0.025</td><td>*</td><td>0.261</td></tr>\n",
       "</tbody>\n",
       "</table>\n"
      ],
      "text/latex": [
       "A anova\\_test: 3 × 7\n",
       "\\begin{tabular}{r|lllllll}\n",
       "  & Effect & DFn & DFd & F & p & p<.05 & ges\\\\\n",
       "  & <chr> & <dbl> & <dbl> & <dbl> & <dbl> & <chr> & <dbl>\\\\\n",
       "\\hline\n",
       "\t1 & Duration      & 2 & 36 & 3.217 & 0.052 &   & 0.152\\\\\n",
       "\t2 & Area          & 2 & 36 & 6.074 & 0.005 & * & 0.252\\\\\n",
       "\t3 & Duration:Area & 4 & 36 & 3.172 & 0.025 & * & 0.261\\\\\n",
       "\\end{tabular}\n"
      ],
      "text/markdown": [
       "\n",
       "A anova_test: 3 × 7\n",
       "\n",
       "| <!--/--> | Effect &lt;chr&gt; | DFn &lt;dbl&gt; | DFd &lt;dbl&gt; | F &lt;dbl&gt; | p &lt;dbl&gt; | p&lt;.05 &lt;chr&gt; | ges &lt;dbl&gt; |\n",
       "|---|---|---|---|---|---|---|---|\n",
       "| 1 | Duration      | 2 | 36 | 3.217 | 0.052 | <!----> | 0.152 |\n",
       "| 2 | Area          | 2 | 36 | 6.074 | 0.005 | * | 0.252 |\n",
       "| 3 | Duration:Area | 4 | 36 | 3.172 | 0.025 | * | 0.261 |\n",
       "\n"
      ],
      "text/plain": [
       "  Effect        DFn DFd F     p     p<.05 ges  \n",
       "1 Duration      2   36  3.217 0.052       0.152\n",
       "2 Area          2   36  6.074 0.005 *     0.252\n",
       "3 Duration:Area 4   36  3.172 0.025 *     0.261"
      ]
     },
     "metadata": {},
     "output_type": "display_data"
    }
   ],
   "source": [
    "data %>% anova_test(Time ~ Duration*Area)"
   ]
  },
  {
   "cell_type": "markdown",
   "metadata": {},
   "source": [
    "از آنجایی که فرض صفر ما برابر بودن میانگین زمان به ازای طول زمانی و ناحیه تحریکی است، و تعداد متغیرها بیش از دو تاست (9 حالت) از آنوای two-way استفاده می کنیم\n",
    "می بینیم که مدت زمان تحریک به تنهایی تفاوتی ایجاد نمی کند اما ناحیه تحریک و ترکیب تاثیر ناحیه و مدت زمان باعث ایجاد تفاوت می شود."
   ]
  },
  {
   "cell_type": "markdown",
   "metadata": {},
   "source": [
    "## Post-hoc tests"
   ]
  },
  {
   "cell_type": "code",
   "execution_count": 656,
   "metadata": {},
   "outputs": [
    {
     "data": {
      "text/html": [
       "<table class=\"dataframe\">\n",
       "<caption>A grouped_anova_test: 3 × 9</caption>\n",
       "<thead>\n",
       "\t<tr><th scope=col>Duration</th><th scope=col>Effect</th><th scope=col>DFn</th><th scope=col>DFd</th><th scope=col>F</th><th scope=col>p</th><th scope=col>p&lt;.05</th><th scope=col>ges</th><th scope=col>p.adj</th></tr>\n",
       "\t<tr><th scope=col>&lt;chr&gt;</th><th scope=col>&lt;chr&gt;</th><th scope=col>&lt;dbl&gt;</th><th scope=col>&lt;dbl&gt;</th><th scope=col>&lt;dbl&gt;</th><th scope=col>&lt;dbl&gt;</th><th scope=col>&lt;chr&gt;</th><th scope=col>&lt;dbl&gt;</th><th scope=col>&lt;dbl&gt;</th></tr>\n",
       "</thead>\n",
       "<tbody>\n",
       "\t<tr><td>100</td><td>Area</td><td>2</td><td>12</td><td>7.171</td><td>0.009</td><td>*</td><td>0.544</td><td>0.027</td></tr>\n",
       "\t<tr><td>150</td><td>Area</td><td>2</td><td>12</td><td>0.133</td><td>0.876</td><td> </td><td>0.022</td><td>1.000</td></tr>\n",
       "\t<tr><td>50 </td><td>Area</td><td>2</td><td>12</td><td>4.887</td><td>0.028</td><td>*</td><td>0.449</td><td>0.084</td></tr>\n",
       "</tbody>\n",
       "</table>\n"
      ],
      "text/latex": [
       "A grouped\\_anova\\_test: 3 × 9\n",
       "\\begin{tabular}{lllllllll}\n",
       " Duration & Effect & DFn & DFd & F & p & p<.05 & ges & p.adj\\\\\n",
       " <chr> & <chr> & <dbl> & <dbl> & <dbl> & <dbl> & <chr> & <dbl> & <dbl>\\\\\n",
       "\\hline\n",
       "\t 100 & Area & 2 & 12 & 7.171 & 0.009 & * & 0.544 & 0.027\\\\\n",
       "\t 150 & Area & 2 & 12 & 0.133 & 0.876 &   & 0.022 & 1.000\\\\\n",
       "\t 50  & Area & 2 & 12 & 4.887 & 0.028 & * & 0.449 & 0.084\\\\\n",
       "\\end{tabular}\n"
      ],
      "text/markdown": [
       "\n",
       "A grouped_anova_test: 3 × 9\n",
       "\n",
       "| Duration &lt;chr&gt; | Effect &lt;chr&gt; | DFn &lt;dbl&gt; | DFd &lt;dbl&gt; | F &lt;dbl&gt; | p &lt;dbl&gt; | p&lt;.05 &lt;chr&gt; | ges &lt;dbl&gt; | p.adj &lt;dbl&gt; |\n",
       "|---|---|---|---|---|---|---|---|---|\n",
       "| 100 | Area | 2 | 12 | 7.171 | 0.009 | * | 0.544 | 0.027 |\n",
       "| 150 | Area | 2 | 12 | 0.133 | 0.876 | <!----> | 0.022 | 1.000 |\n",
       "| 50  | Area | 2 | 12 | 4.887 | 0.028 | * | 0.449 | 0.084 |\n",
       "\n"
      ],
      "text/plain": [
       "  Duration Effect DFn DFd F     p     p<.05 ges   p.adj\n",
       "1 100      Area   2   12  7.171 0.009 *     0.544 0.027\n",
       "2 150      Area   2   12  0.133 0.876       0.022 1.000\n",
       "3 50       Area   2   12  4.887 0.028 *     0.449 0.084"
      ]
     },
     "metadata": {},
     "output_type": "display_data"
    }
   ],
   "source": [
    "data %>% group_by(Duration) %>% anova_test(Time ~ Area) %>% adjust_pvalue(method=\"bonferroni\")"
   ]
  },
  {
   "cell_type": "code",
   "execution_count": 459,
   "metadata": {
    "scrolled": true
   },
   "outputs": [
    {
     "data": {
      "text/html": [
       "<table class=\"dataframe\">\n",
       "<caption>A rstatix_test: 9 × 10</caption>\n",
       "<thead>\n",
       "\t<tr><th></th><th scope=col>Duration</th><th scope=col>term</th><th scope=col>.y.</th><th scope=col>group1</th><th scope=col>group2</th><th scope=col>df</th><th scope=col>statistic</th><th scope=col>p</th><th scope=col>p.adj</th><th scope=col>p.adj.signif</th></tr>\n",
       "\t<tr><th></th><th scope=col>&lt;fct&gt;</th><th scope=col>&lt;chr&gt;</th><th scope=col>&lt;chr&gt;</th><th scope=col>&lt;chr&gt;</th><th scope=col>&lt;chr&gt;</th><th scope=col>&lt;dbl&gt;</th><th scope=col>&lt;dbl&gt;</th><th scope=col>&lt;dbl&gt;</th><th scope=col>&lt;dbl&gt;</th><th scope=col>&lt;chr&gt;</th></tr>\n",
       "</thead>\n",
       "<tbody>\n",
       "\t<tr><th scope=row>1</th><td>100</td><td>Area</td><td>Time</td><td>A</td><td>B</td><td>36</td><td> 2.0443342</td><td>0.048287184</td><td>0.144861551</td><td>ns</td></tr>\n",
       "\t<tr><th scope=row>2</th><td>100</td><td>Area</td><td>Time</td><td>A</td><td>N</td><td>36</td><td>-1.4602387</td><td>0.152897216</td><td>0.458691648</td><td>ns</td></tr>\n",
       "\t<tr><th scope=row>3</th><td>100</td><td>Area</td><td>Time</td><td>B</td><td>N</td><td>36</td><td>-3.5045730</td><td>0.001243002</td><td>0.003729006</td><td>**</td></tr>\n",
       "\t<tr><th scope=row>4</th><td>150</td><td>Area</td><td>Time</td><td>A</td><td>B</td><td>36</td><td> 0.1168191</td><td>0.907652697</td><td>1.000000000</td><td>ns</td></tr>\n",
       "\t<tr><th scope=row>5</th><td>150</td><td>Area</td><td>Time</td><td>A</td><td>N</td><td>36</td><td>-0.3504573</td><td>0.728037926</td><td>1.000000000</td><td>ns</td></tr>\n",
       "\t<tr><th scope=row>6</th><td>150</td><td>Area</td><td>Time</td><td>B</td><td>N</td><td>36</td><td>-0.4672764</td><td>0.643118245</td><td>1.000000000</td><td>ns</td></tr>\n",
       "\t<tr><th scope=row>7</th><td>50 </td><td>Area</td><td>Time</td><td>A</td><td>B</td><td>36</td><td>-2.2195629</td><td>0.032836378</td><td>0.098509134</td><td>ns</td></tr>\n",
       "\t<tr><th scope=row>8</th><td>50 </td><td>Area</td><td>Time</td><td>A</td><td>N</td><td>36</td><td>-3.4461634</td><td>0.001462476</td><td>0.004387428</td><td>**</td></tr>\n",
       "\t<tr><th scope=row>9</th><td>50 </td><td>Area</td><td>Time</td><td>B</td><td>N</td><td>36</td><td>-1.2266005</td><td>0.227935062</td><td>0.683805185</td><td>ns</td></tr>\n",
       "</tbody>\n",
       "</table>\n"
      ],
      "text/latex": [
       "A rstatix\\_test: 9 × 10\n",
       "\\begin{tabular}{r|llllllllll}\n",
       "  & Duration & term & .y. & group1 & group2 & df & statistic & p & p.adj & p.adj.signif\\\\\n",
       "  & <fct> & <chr> & <chr> & <chr> & <chr> & <dbl> & <dbl> & <dbl> & <dbl> & <chr>\\\\\n",
       "\\hline\n",
       "\t1 & 100 & Area & Time & A & B & 36 &  2.0443342 & 0.048287184 & 0.144861551 & ns\\\\\n",
       "\t2 & 100 & Area & Time & A & N & 36 & -1.4602387 & 0.152897216 & 0.458691648 & ns\\\\\n",
       "\t3 & 100 & Area & Time & B & N & 36 & -3.5045730 & 0.001243002 & 0.003729006 & **\\\\\n",
       "\t4 & 150 & Area & Time & A & B & 36 &  0.1168191 & 0.907652697 & 1.000000000 & ns\\\\\n",
       "\t5 & 150 & Area & Time & A & N & 36 & -0.3504573 & 0.728037926 & 1.000000000 & ns\\\\\n",
       "\t6 & 150 & Area & Time & B & N & 36 & -0.4672764 & 0.643118245 & 1.000000000 & ns\\\\\n",
       "\t7 & 50  & Area & Time & A & B & 36 & -2.2195629 & 0.032836378 & 0.098509134 & ns\\\\\n",
       "\t8 & 50  & Area & Time & A & N & 36 & -3.4461634 & 0.001462476 & 0.004387428 & **\\\\\n",
       "\t9 & 50  & Area & Time & B & N & 36 & -1.2266005 & 0.227935062 & 0.683805185 & ns\\\\\n",
       "\\end{tabular}\n"
      ],
      "text/markdown": [
       "\n",
       "A rstatix_test: 9 × 10\n",
       "\n",
       "| <!--/--> | Duration &lt;fct&gt; | term &lt;chr&gt; | .y. &lt;chr&gt; | group1 &lt;chr&gt; | group2 &lt;chr&gt; | df &lt;dbl&gt; | statistic &lt;dbl&gt; | p &lt;dbl&gt; | p.adj &lt;dbl&gt; | p.adj.signif &lt;chr&gt; |\n",
       "|---|---|---|---|---|---|---|---|---|---|---|\n",
       "| 1 | 100 | Area | Time | A | B | 36 |  2.0443342 | 0.048287184 | 0.144861551 | ns |\n",
       "| 2 | 100 | Area | Time | A | N | 36 | -1.4602387 | 0.152897216 | 0.458691648 | ns |\n",
       "| 3 | 100 | Area | Time | B | N | 36 | -3.5045730 | 0.001243002 | 0.003729006 | ** |\n",
       "| 4 | 150 | Area | Time | A | B | 36 |  0.1168191 | 0.907652697 | 1.000000000 | ns |\n",
       "| 5 | 150 | Area | Time | A | N | 36 | -0.3504573 | 0.728037926 | 1.000000000 | ns |\n",
       "| 6 | 150 | Area | Time | B | N | 36 | -0.4672764 | 0.643118245 | 1.000000000 | ns |\n",
       "| 7 | 50  | Area | Time | A | B | 36 | -2.2195629 | 0.032836378 | 0.098509134 | ns |\n",
       "| 8 | 50  | Area | Time | A | N | 36 | -3.4461634 | 0.001462476 | 0.004387428 | ** |\n",
       "| 9 | 50  | Area | Time | B | N | 36 | -1.2266005 | 0.227935062 | 0.683805185 | ns |\n",
       "\n"
      ],
      "text/plain": [
       "  Duration term .y.  group1 group2 df statistic  p           p.adj      \n",
       "1 100      Area Time A      B      36  2.0443342 0.048287184 0.144861551\n",
       "2 100      Area Time A      N      36 -1.4602387 0.152897216 0.458691648\n",
       "3 100      Area Time B      N      36 -3.5045730 0.001243002 0.003729006\n",
       "4 150      Area Time A      B      36  0.1168191 0.907652697 1.000000000\n",
       "5 150      Area Time A      N      36 -0.3504573 0.728037926 1.000000000\n",
       "6 150      Area Time B      N      36 -0.4672764 0.643118245 1.000000000\n",
       "7 50       Area Time A      B      36 -2.2195629 0.032836378 0.098509134\n",
       "8 50       Area Time A      N      36 -3.4461634 0.001462476 0.004387428\n",
       "9 50       Area Time B      N      36 -1.2266005 0.227935062 0.683805185\n",
       "  p.adj.signif\n",
       "1 ns          \n",
       "2 ns          \n",
       "3 **          \n",
       "4 ns          \n",
       "5 ns          \n",
       "6 ns          \n",
       "7 ns          \n",
       "8 **          \n",
       "9 ns          "
      ]
     },
     "metadata": {},
     "output_type": "display_data"
    }
   ],
   "source": [
    "pwc1 = data %>% group_by(Duration) %>% emmeans_test(Time ~ Area, p.adjust.method = \"bonferroni\")\n",
    "pwc1"
   ]
  },
  {
   "cell_type": "markdown",
   "metadata": {},
   "source": [
    ". از این داده ها برمی آید که در بازه زمانی 100 اختلاف مشهودی بین منطقه بی و خنثی دیده می شود و در بازه زمانی 50 اختلاف مشهودی در منطقه آ و خنثی داریم در دیگر حالات نفاوت مشهودی دیده نمیشود"
   ]
  },
  {
   "cell_type": "code",
   "execution_count": 657,
   "metadata": {},
   "outputs": [
    {
     "data": {
      "text/html": [
       "<table class=\"dataframe\">\n",
       "<caption>A grouped_anova_test: 3 × 9</caption>\n",
       "<thead>\n",
       "\t<tr><th scope=col>Area</th><th scope=col>Effect</th><th scope=col>DFn</th><th scope=col>DFd</th><th scope=col>F</th><th scope=col>p</th><th scope=col>p&lt;.05</th><th scope=col>ges</th><th scope=col>p.adj</th></tr>\n",
       "\t<tr><th scope=col>&lt;chr&gt;</th><th scope=col>&lt;chr&gt;</th><th scope=col>&lt;dbl&gt;</th><th scope=col>&lt;dbl&gt;</th><th scope=col>&lt;dbl&gt;</th><th scope=col>&lt;dbl&gt;</th><th scope=col>&lt;chr&gt;</th><th scope=col>&lt;dbl&gt;</th><th scope=col>&lt;dbl&gt;</th></tr>\n",
       "</thead>\n",
       "<tbody>\n",
       "\t<tr><td>A</td><td>Duration</td><td>2</td><td>12</td><td>4.528</td><td>0.034</td><td>*</td><td>0.430</td><td>0.102</td></tr>\n",
       "\t<tr><td>B</td><td>Duration</td><td>2</td><td>12</td><td>6.425</td><td>0.013</td><td>*</td><td>0.517</td><td>0.039</td></tr>\n",
       "\t<tr><td>N</td><td>Duration</td><td>2</td><td>12</td><td>0.017</td><td>0.984</td><td> </td><td>0.003</td><td>1.000</td></tr>\n",
       "</tbody>\n",
       "</table>\n"
      ],
      "text/latex": [
       "A grouped\\_anova\\_test: 3 × 9\n",
       "\\begin{tabular}{lllllllll}\n",
       " Area & Effect & DFn & DFd & F & p & p<.05 & ges & p.adj\\\\\n",
       " <chr> & <chr> & <dbl> & <dbl> & <dbl> & <dbl> & <chr> & <dbl> & <dbl>\\\\\n",
       "\\hline\n",
       "\t A & Duration & 2 & 12 & 4.528 & 0.034 & * & 0.430 & 0.102\\\\\n",
       "\t B & Duration & 2 & 12 & 6.425 & 0.013 & * & 0.517 & 0.039\\\\\n",
       "\t N & Duration & 2 & 12 & 0.017 & 0.984 &   & 0.003 & 1.000\\\\\n",
       "\\end{tabular}\n"
      ],
      "text/markdown": [
       "\n",
       "A grouped_anova_test: 3 × 9\n",
       "\n",
       "| Area &lt;chr&gt; | Effect &lt;chr&gt; | DFn &lt;dbl&gt; | DFd &lt;dbl&gt; | F &lt;dbl&gt; | p &lt;dbl&gt; | p&lt;.05 &lt;chr&gt; | ges &lt;dbl&gt; | p.adj &lt;dbl&gt; |\n",
       "|---|---|---|---|---|---|---|---|---|\n",
       "| A | Duration | 2 | 12 | 4.528 | 0.034 | * | 0.430 | 0.102 |\n",
       "| B | Duration | 2 | 12 | 6.425 | 0.013 | * | 0.517 | 0.039 |\n",
       "| N | Duration | 2 | 12 | 0.017 | 0.984 | <!----> | 0.003 | 1.000 |\n",
       "\n"
      ],
      "text/plain": [
       "  Area Effect   DFn DFd F     p     p<.05 ges   p.adj\n",
       "1 A    Duration 2   12  4.528 0.034 *     0.430 0.102\n",
       "2 B    Duration 2   12  6.425 0.013 *     0.517 0.039\n",
       "3 N    Duration 2   12  0.017 0.984       0.003 1.000"
      ]
     },
     "metadata": {},
     "output_type": "display_data"
    }
   ],
   "source": [
    "data %>% group_by(Area) %>% anova_test(Time ~ Duration) %>% adjust_pvalue(method=\"bonferroni\")"
   ]
  },
  {
   "cell_type": "code",
   "execution_count": 658,
   "metadata": {},
   "outputs": [
    {
     "data": {
      "text/html": [
       "<table class=\"dataframe\">\n",
       "<caption>A rstatix_test: 9 × 10</caption>\n",
       "<thead>\n",
       "\t<tr><th></th><th scope=col>Area</th><th scope=col>term</th><th scope=col>.y.</th><th scope=col>group1</th><th scope=col>group2</th><th scope=col>df</th><th scope=col>statistic</th><th scope=col>p</th><th scope=col>p.adj</th><th scope=col>p.adj.signif</th></tr>\n",
       "\t<tr><th></th><th scope=col>&lt;fct&gt;</th><th scope=col>&lt;chr&gt;</th><th scope=col>&lt;chr&gt;</th><th scope=col>&lt;chr&gt;</th><th scope=col>&lt;chr&gt;</th><th scope=col>&lt;dbl&gt;</th><th scope=col>&lt;dbl&gt;</th><th scope=col>&lt;dbl&gt;</th><th scope=col>&lt;dbl&gt;</th><th scope=col>&lt;chr&gt;</th></tr>\n",
       "</thead>\n",
       "<tbody>\n",
       "\t<tr><th scope=row>1</th><td>A</td><td>Duration</td><td>Time</td><td>100</td><td>150</td><td>36</td><td>-1.109781e+00</td><td>0.274451549</td><td>0.82335465</td><td>ns</td></tr>\n",
       "\t<tr><th scope=row>2</th><td>A</td><td>Duration</td><td>Time</td><td>100</td><td>50 </td><td>36</td><td> 1.810696e+00</td><td>0.078540225</td><td>0.23562068</td><td>ns</td></tr>\n",
       "\t<tr><th scope=row>3</th><td>A</td><td>Duration</td><td>Time</td><td>150</td><td>50 </td><td>36</td><td> 2.920477e+00</td><td>0.005998172</td><td>0.01799451</td><td>* </td></tr>\n",
       "\t<tr><th scope=row>4</th><td>B</td><td>Duration</td><td>Time</td><td>100</td><td>150</td><td>36</td><td>-3.037297e+00</td><td>0.004422238</td><td>0.01326671</td><td>* </td></tr>\n",
       "\t<tr><th scope=row>5</th><td>B</td><td>Duration</td><td>Time</td><td>100</td><td>50 </td><td>36</td><td>-2.453201e+00</td><td>0.019133592</td><td>0.05740078</td><td>ns</td></tr>\n",
       "\t<tr><th scope=row>6</th><td>B</td><td>Duration</td><td>Time</td><td>150</td><td>50 </td><td>36</td><td> 5.840955e-01</td><td>0.562798509</td><td>1.00000000</td><td>ns</td></tr>\n",
       "\t<tr><th scope=row>7</th><td>N</td><td>Duration</td><td>Time</td><td>100</td><td>150</td><td>36</td><td> 6.484763e-16</td><td>1.000000000</td><td>1.00000000</td><td>ns</td></tr>\n",
       "\t<tr><th scope=row>8</th><td>N</td><td>Duration</td><td>Time</td><td>100</td><td>50 </td><td>36</td><td>-1.752286e-01</td><td>0.861881846</td><td>1.00000000</td><td>ns</td></tr>\n",
       "\t<tr><th scope=row>9</th><td>N</td><td>Duration</td><td>Time</td><td>150</td><td>50 </td><td>36</td><td>-1.752286e-01</td><td>0.861881846</td><td>1.00000000</td><td>ns</td></tr>\n",
       "</tbody>\n",
       "</table>\n"
      ],
      "text/latex": [
       "A rstatix\\_test: 9 × 10\n",
       "\\begin{tabular}{r|llllllllll}\n",
       "  & Area & term & .y. & group1 & group2 & df & statistic & p & p.adj & p.adj.signif\\\\\n",
       "  & <fct> & <chr> & <chr> & <chr> & <chr> & <dbl> & <dbl> & <dbl> & <dbl> & <chr>\\\\\n",
       "\\hline\n",
       "\t1 & A & Duration & Time & 100 & 150 & 36 & -1.109781e+00 & 0.274451549 & 0.82335465 & ns\\\\\n",
       "\t2 & A & Duration & Time & 100 & 50  & 36 &  1.810696e+00 & 0.078540225 & 0.23562068 & ns\\\\\n",
       "\t3 & A & Duration & Time & 150 & 50  & 36 &  2.920477e+00 & 0.005998172 & 0.01799451 & * \\\\\n",
       "\t4 & B & Duration & Time & 100 & 150 & 36 & -3.037297e+00 & 0.004422238 & 0.01326671 & * \\\\\n",
       "\t5 & B & Duration & Time & 100 & 50  & 36 & -2.453201e+00 & 0.019133592 & 0.05740078 & ns\\\\\n",
       "\t6 & B & Duration & Time & 150 & 50  & 36 &  5.840955e-01 & 0.562798509 & 1.00000000 & ns\\\\\n",
       "\t7 & N & Duration & Time & 100 & 150 & 36 &  6.484763e-16 & 1.000000000 & 1.00000000 & ns\\\\\n",
       "\t8 & N & Duration & Time & 100 & 50  & 36 & -1.752286e-01 & 0.861881846 & 1.00000000 & ns\\\\\n",
       "\t9 & N & Duration & Time & 150 & 50  & 36 & -1.752286e-01 & 0.861881846 & 1.00000000 & ns\\\\\n",
       "\\end{tabular}\n"
      ],
      "text/markdown": [
       "\n",
       "A rstatix_test: 9 × 10\n",
       "\n",
       "| <!--/--> | Area &lt;fct&gt; | term &lt;chr&gt; | .y. &lt;chr&gt; | group1 &lt;chr&gt; | group2 &lt;chr&gt; | df &lt;dbl&gt; | statistic &lt;dbl&gt; | p &lt;dbl&gt; | p.adj &lt;dbl&gt; | p.adj.signif &lt;chr&gt; |\n",
       "|---|---|---|---|---|---|---|---|---|---|---|\n",
       "| 1 | A | Duration | Time | 100 | 150 | 36 | -1.109781e+00 | 0.274451549 | 0.82335465 | ns |\n",
       "| 2 | A | Duration | Time | 100 | 50  | 36 |  1.810696e+00 | 0.078540225 | 0.23562068 | ns |\n",
       "| 3 | A | Duration | Time | 150 | 50  | 36 |  2.920477e+00 | 0.005998172 | 0.01799451 | *  |\n",
       "| 4 | B | Duration | Time | 100 | 150 | 36 | -3.037297e+00 | 0.004422238 | 0.01326671 | *  |\n",
       "| 5 | B | Duration | Time | 100 | 50  | 36 | -2.453201e+00 | 0.019133592 | 0.05740078 | ns |\n",
       "| 6 | B | Duration | Time | 150 | 50  | 36 |  5.840955e-01 | 0.562798509 | 1.00000000 | ns |\n",
       "| 7 | N | Duration | Time | 100 | 150 | 36 |  6.484763e-16 | 1.000000000 | 1.00000000 | ns |\n",
       "| 8 | N | Duration | Time | 100 | 50  | 36 | -1.752286e-01 | 0.861881846 | 1.00000000 | ns |\n",
       "| 9 | N | Duration | Time | 150 | 50  | 36 | -1.752286e-01 | 0.861881846 | 1.00000000 | ns |\n",
       "\n"
      ],
      "text/plain": [
       "  Area term     .y.  group1 group2 df statistic     p           p.adj     \n",
       "1 A    Duration Time 100    150    36 -1.109781e+00 0.274451549 0.82335465\n",
       "2 A    Duration Time 100    50     36  1.810696e+00 0.078540225 0.23562068\n",
       "3 A    Duration Time 150    50     36  2.920477e+00 0.005998172 0.01799451\n",
       "4 B    Duration Time 100    150    36 -3.037297e+00 0.004422238 0.01326671\n",
       "5 B    Duration Time 100    50     36 -2.453201e+00 0.019133592 0.05740078\n",
       "6 B    Duration Time 150    50     36  5.840955e-01 0.562798509 1.00000000\n",
       "7 N    Duration Time 100    150    36  6.484763e-16 1.000000000 1.00000000\n",
       "8 N    Duration Time 100    50     36 -1.752286e-01 0.861881846 1.00000000\n",
       "9 N    Duration Time 150    50     36 -1.752286e-01 0.861881846 1.00000000\n",
       "  p.adj.signif\n",
       "1 ns          \n",
       "2 ns          \n",
       "3 *           \n",
       "4 *           \n",
       "5 ns          \n",
       "6 ns          \n",
       "7 ns          \n",
       "8 ns          \n",
       "9 ns          "
      ]
     },
     "metadata": {},
     "output_type": "display_data"
    }
   ],
   "source": [
    "pwc = data %>% group_by(Area) %>% emmeans_test(Time ~ Duration, p.adjust.method = \"bonferroni\")\n",
    "pwc"
   ]
  },
  {
   "cell_type": "markdown",
   "metadata": {},
   "source": [
    "  در منطقه آ تفاوت مشهودی بین مدت زمان 50 و 100 و در منطقه بی تفاوت مشهود در مدت  زمان 100 و 150 داریم. بقیه حالات تفاوت محسوسی در زمان پاسخ ندارند  "
   ]
  },
  {
   "cell_type": "code",
   "execution_count": 659,
   "metadata": {},
   "outputs": [
    {
     "data": {
      "text/html": [
       "<table class=\"dataframe\">\n",
       "<caption>A rstatix_test: 9 × 10</caption>\n",
       "<thead>\n",
       "\t<tr><th></th><th scope=col>Area</th><th scope=col>.y.</th><th scope=col>group1</th><th scope=col>group2</th><th scope=col>n1</th><th scope=col>n2</th><th scope=col>p</th><th scope=col>p.signif</th><th scope=col>p.adj</th><th scope=col>p.adj.signif</th></tr>\n",
       "\t<tr><th></th><th scope=col>&lt;chr&gt;</th><th scope=col>&lt;chr&gt;</th><th scope=col>&lt;chr&gt;</th><th scope=col>&lt;chr&gt;</th><th scope=col>&lt;int&gt;</th><th scope=col>&lt;int&gt;</th><th scope=col>&lt;dbl&gt;</th><th scope=col>&lt;chr&gt;</th><th scope=col>&lt;dbl&gt;</th><th scope=col>&lt;chr&gt;</th></tr>\n",
       "</thead>\n",
       "<tbody>\n",
       "\t<tr><th scope=row>1</th><td>A</td><td>Time</td><td>100</td><td>150</td><td>5</td><td>5</td><td>0.27900</td><td>ns</td><td>0.8380</td><td>ns</td></tr>\n",
       "\t<tr><th scope=row>2</th><td>A</td><td>Time</td><td>100</td><td>50 </td><td>5</td><td>5</td><td>0.08940</td><td>ns</td><td>0.2680</td><td>ns</td></tr>\n",
       "\t<tr><th scope=row>3</th><td>A</td><td>Time</td><td>150</td><td>50 </td><td>5</td><td>5</td><td>0.01150</td><td>* </td><td>0.0344</td><td>* </td></tr>\n",
       "\t<tr><th scope=row>4</th><td>B</td><td>Time</td><td>100</td><td>150</td><td>5</td><td>5</td><td>0.00549</td><td>**</td><td>0.0165</td><td>* </td></tr>\n",
       "\t<tr><th scope=row>5</th><td>B</td><td>Time</td><td>100</td><td>50 </td><td>5</td><td>5</td><td>0.01830</td><td>* </td><td>0.0550</td><td>ns</td></tr>\n",
       "\t<tr><th scope=row>6</th><td>B</td><td>Time</td><td>150</td><td>50 </td><td>5</td><td>5</td><td>0.52800</td><td>ns</td><td>1.0000</td><td>ns</td></tr>\n",
       "\t<tr><th scope=row>7</th><td>N</td><td>Time</td><td>100</td><td>150</td><td>5</td><td>5</td><td>1.00000</td><td>ns</td><td>1.0000</td><td>ns</td></tr>\n",
       "\t<tr><th scope=row>8</th><td>N</td><td>Time</td><td>100</td><td>50 </td><td>5</td><td>5</td><td>0.87700</td><td>ns</td><td>1.0000</td><td>ns</td></tr>\n",
       "\t<tr><th scope=row>9</th><td>N</td><td>Time</td><td>150</td><td>50 </td><td>5</td><td>5</td><td>0.87700</td><td>ns</td><td>1.0000</td><td>ns</td></tr>\n",
       "</tbody>\n",
       "</table>\n"
      ],
      "text/latex": [
       "A rstatix\\_test: 9 × 10\n",
       "\\begin{tabular}{r|llllllllll}\n",
       "  & Area & .y. & group1 & group2 & n1 & n2 & p & p.signif & p.adj & p.adj.signif\\\\\n",
       "  & <chr> & <chr> & <chr> & <chr> & <int> & <int> & <dbl> & <chr> & <dbl> & <chr>\\\\\n",
       "\\hline\n",
       "\t1 & A & Time & 100 & 150 & 5 & 5 & 0.27900 & ns & 0.8380 & ns\\\\\n",
       "\t2 & A & Time & 100 & 50  & 5 & 5 & 0.08940 & ns & 0.2680 & ns\\\\\n",
       "\t3 & A & Time & 150 & 50  & 5 & 5 & 0.01150 & *  & 0.0344 & * \\\\\n",
       "\t4 & B & Time & 100 & 150 & 5 & 5 & 0.00549 & ** & 0.0165 & * \\\\\n",
       "\t5 & B & Time & 100 & 50  & 5 & 5 & 0.01830 & *  & 0.0550 & ns\\\\\n",
       "\t6 & B & Time & 150 & 50  & 5 & 5 & 0.52800 & ns & 1.0000 & ns\\\\\n",
       "\t7 & N & Time & 100 & 150 & 5 & 5 & 1.00000 & ns & 1.0000 & ns\\\\\n",
       "\t8 & N & Time & 100 & 50  & 5 & 5 & 0.87700 & ns & 1.0000 & ns\\\\\n",
       "\t9 & N & Time & 150 & 50  & 5 & 5 & 0.87700 & ns & 1.0000 & ns\\\\\n",
       "\\end{tabular}\n"
      ],
      "text/markdown": [
       "\n",
       "A rstatix_test: 9 × 10\n",
       "\n",
       "| <!--/--> | Area &lt;chr&gt; | .y. &lt;chr&gt; | group1 &lt;chr&gt; | group2 &lt;chr&gt; | n1 &lt;int&gt; | n2 &lt;int&gt; | p &lt;dbl&gt; | p.signif &lt;chr&gt; | p.adj &lt;dbl&gt; | p.adj.signif &lt;chr&gt; |\n",
       "|---|---|---|---|---|---|---|---|---|---|---|\n",
       "| 1 | A | Time | 100 | 150 | 5 | 5 | 0.27900 | ns | 0.8380 | ns |\n",
       "| 2 | A | Time | 100 | 50  | 5 | 5 | 0.08940 | ns | 0.2680 | ns |\n",
       "| 3 | A | Time | 150 | 50  | 5 | 5 | 0.01150 | *  | 0.0344 | *  |\n",
       "| 4 | B | Time | 100 | 150 | 5 | 5 | 0.00549 | ** | 0.0165 | *  |\n",
       "| 5 | B | Time | 100 | 50  | 5 | 5 | 0.01830 | *  | 0.0550 | ns |\n",
       "| 6 | B | Time | 150 | 50  | 5 | 5 | 0.52800 | ns | 1.0000 | ns |\n",
       "| 7 | N | Time | 100 | 150 | 5 | 5 | 1.00000 | ns | 1.0000 | ns |\n",
       "| 8 | N | Time | 100 | 50  | 5 | 5 | 0.87700 | ns | 1.0000 | ns |\n",
       "| 9 | N | Time | 150 | 50  | 5 | 5 | 0.87700 | ns | 1.0000 | ns |\n",
       "\n"
      ],
      "text/plain": [
       "  Area .y.  group1 group2 n1 n2 p       p.signif p.adj  p.adj.signif\n",
       "1 A    Time 100    150    5  5  0.27900 ns       0.8380 ns          \n",
       "2 A    Time 100    50     5  5  0.08940 ns       0.2680 ns          \n",
       "3 A    Time 150    50     5  5  0.01150 *        0.0344 *           \n",
       "4 B    Time 100    150    5  5  0.00549 **       0.0165 *           \n",
       "5 B    Time 100    50     5  5  0.01830 *        0.0550 ns          \n",
       "6 B    Time 150    50     5  5  0.52800 ns       1.0000 ns          \n",
       "7 N    Time 100    150    5  5  1.00000 ns       1.0000 ns          \n",
       "8 N    Time 100    50     5  5  0.87700 ns       1.0000 ns          \n",
       "9 N    Time 150    50     5  5  0.87700 ns       1.0000 ns          "
      ]
     },
     "metadata": {},
     "output_type": "display_data"
    }
   ],
   "source": [
    "data %>% group_by(Area) %>% pairwise_t_test(Time ~ Duration, p.adjust.method = \"bonferroni\")"
   ]
  },
  {
   "cell_type": "markdown",
   "metadata": {},
   "source": [
    "نتیجه به دست امده از تی تست جفتی با نتیجه ایمینز تست یکسان است"
   ]
  },
  {
   "cell_type": "code",
   "execution_count": 660,
   "metadata": {},
   "outputs": [],
   "source": [
    "b = ggboxplot(data, x=\"Area\", y=\"Time\",color=\"Duration\")"
   ]
  },
  {
   "cell_type": "code",
   "execution_count": 661,
   "metadata": {
    "scrolled": true
   },
   "outputs": [
    {
     "data": {
      "image/png": "[encoded data removed]",
      "text/plain": [
       "plot without title"
      ]
     },
     "metadata": {
      "image/png": {
       "height": 420,
       "width": 420
      }
     },
     "output_type": "display_data"
    }
   ],
   "source": [
    "pwc = pwc %>% add_xy_position(x=\"Area\")\n",
    "b + stat_pvalue_manual(pwc)"
   ]
  },
  {
   "cell_type": "markdown",
   "metadata": {},
   "source": [
    "تفاوتها روی نمودار قابل مشاهده ست"
   ]
  },
  {
   "cell_type": "code",
   "execution_count": 662,
   "metadata": {},
   "outputs": [
    {
     "data": {
      "text/html": [
       "<table class=\"dataframe\">\n",
       "<caption>A rstatix_test: 3 × 9</caption>\n",
       "<thead>\n",
       "\t<tr><th></th><th scope=col>term</th><th scope=col>.y.</th><th scope=col>group1</th><th scope=col>group2</th><th scope=col>df</th><th scope=col>statistic</th><th scope=col>p</th><th scope=col>p.adj</th><th scope=col>p.adj.signif</th></tr>\n",
       "\t<tr><th></th><th scope=col>&lt;chr&gt;</th><th scope=col>&lt;chr&gt;</th><th scope=col>&lt;chr&gt;</th><th scope=col>&lt;chr&gt;</th><th scope=col>&lt;dbl&gt;</th><th scope=col>&lt;dbl&gt;</th><th scope=col>&lt;dbl&gt;</th><th scope=col>&lt;dbl&gt;</th><th scope=col>&lt;chr&gt;</th></tr>\n",
       "</thead>\n",
       "<tbody>\n",
       "\t<tr><th scope=row>1</th><td>Area</td><td>Time</td><td>A</td><td>B</td><td>42</td><td>-0.02943603</td><td>0.97665627</td><td>1.00000000</td><td>ns</td></tr>\n",
       "\t<tr><th scope=row>2</th><td>Area</td><td>Time</td><td>A</td><td>N</td><td>42</td><td>-2.64924233</td><td>0.01132008</td><td>0.03396023</td><td>* </td></tr>\n",
       "\t<tr><th scope=row>3</th><td>Area</td><td>Time</td><td>B</td><td>N</td><td>42</td><td>-2.61980630</td><td>0.01219155</td><td>0.03657466</td><td>* </td></tr>\n",
       "</tbody>\n",
       "</table>\n"
      ],
      "text/latex": [
       "A rstatix\\_test: 3 × 9\n",
       "\\begin{tabular}{r|lllllllll}\n",
       "  & term & .y. & group1 & group2 & df & statistic & p & p.adj & p.adj.signif\\\\\n",
       "  & <chr> & <chr> & <chr> & <chr> & <dbl> & <dbl> & <dbl> & <dbl> & <chr>\\\\\n",
       "\\hline\n",
       "\t1 & Area & Time & A & B & 42 & -0.02943603 & 0.97665627 & 1.00000000 & ns\\\\\n",
       "\t2 & Area & Time & A & N & 42 & -2.64924233 & 0.01132008 & 0.03396023 & * \\\\\n",
       "\t3 & Area & Time & B & N & 42 & -2.61980630 & 0.01219155 & 0.03657466 & * \\\\\n",
       "\\end{tabular}\n"
      ],
      "text/markdown": [
       "\n",
       "A rstatix_test: 3 × 9\n",
       "\n",
       "| <!--/--> | term &lt;chr&gt; | .y. &lt;chr&gt; | group1 &lt;chr&gt; | group2 &lt;chr&gt; | df &lt;dbl&gt; | statistic &lt;dbl&gt; | p &lt;dbl&gt; | p.adj &lt;dbl&gt; | p.adj.signif &lt;chr&gt; |\n",
       "|---|---|---|---|---|---|---|---|---|---|\n",
       "| 1 | Area | Time | A | B | 42 | -0.02943603 | 0.97665627 | 1.00000000 | ns |\n",
       "| 2 | Area | Time | A | N | 42 | -2.64924233 | 0.01132008 | 0.03396023 | *  |\n",
       "| 3 | Area | Time | B | N | 42 | -2.61980630 | 0.01219155 | 0.03657466 | *  |\n",
       "\n"
      ],
      "text/plain": [
       "  term .y.  group1 group2 df statistic   p          p.adj      p.adj.signif\n",
       "1 Area Time A      B      42 -0.02943603 0.97665627 1.00000000 ns          \n",
       "2 Area Time A      N      42 -2.64924233 0.01132008 0.03396023 *           \n",
       "3 Area Time B      N      42 -2.61980630 0.01219155 0.03657466 *           "
      ]
     },
     "metadata": {},
     "output_type": "display_data"
    }
   ],
   "source": [
    "pwcA = data %>% emmeans_test(Time ~ Area, p.adjust.method = \"bonferroni\")\n",
    "pwcA"
   ]
  },
  {
   "cell_type": "markdown",
   "metadata": {},
   "source": [
    "با در نظر نگرفتن مدت زمانی و اجرای تست براساس منطقه می بینیم که بین منطقه آ و بی تفاوت مشهودی نیست اما بین این مناطق با منطقه خنثی تفاوت قابل توجهی در زمان آزمونه دیده می شود"
   ]
  },
  {
   "cell_type": "code",
   "execution_count": 101,
   "metadata": {},
   "outputs": [],
   "source": [
    "bA = ggboxplot(data, x=\"Area\", y=\"Time\")"
   ]
  },
  {
   "cell_type": "code",
   "execution_count": 102,
   "metadata": {},
   "outputs": [
    {
     "data": {
      "image/png": "[encoded data removed]",
      "text/plain": [
       "plot without title"
      ]
     },
     "metadata": {
      "image/png": {
       "height": 420,
       "width": 420
      }
     },
     "output_type": "display_data"
    }
   ],
   "source": [
    "pwcA = pwcA %>% add_xy_position(x=\"Area\")\n",
    "bA + stat_pvalue_manual(pwcA)"
   ]
  },
  {
   "cell_type": "code",
   "execution_count": 90,
   "metadata": {},
   "outputs": [
    {
     "data": {
      "text/html": [
       "<table class=\"dataframe\">\n",
       "<caption>A data.frame: 15 × 3</caption>\n",
       "<thead>\n",
       "\t<tr><th></th><th scope=col>Area</th><th scope=col>Duration</th><th scope=col>Time</th></tr>\n",
       "\t<tr><th></th><th scope=col>&lt;chr&gt;</th><th scope=col>&lt;chr&gt;</th><th scope=col>&lt;int&gt;</th></tr>\n",
       "</thead>\n",
       "<tbody>\n",
       "\t<tr><th scope=row>16</th><td>A</td><td>50 </td><td>11</td></tr>\n",
       "\t<tr><th scope=row>17</th><td>A</td><td>50 </td><td>18</td></tr>\n",
       "\t<tr><th scope=row>18</th><td>A</td><td>50 </td><td>26</td></tr>\n",
       "\t<tr><th scope=row>19</th><td>A</td><td>50 </td><td>15</td></tr>\n",
       "\t<tr><th scope=row>20</th><td>A</td><td>50 </td><td>14</td></tr>\n",
       "\t<tr><th scope=row>21</th><td>A</td><td>100</td><td>31</td></tr>\n",
       "\t<tr><th scope=row>22</th><td>A</td><td>100</td><td>20</td></tr>\n",
       "\t<tr><th scope=row>23</th><td>A</td><td>100</td><td>22</td></tr>\n",
       "\t<tr><th scope=row>24</th><td>A</td><td>100</td><td>23</td></tr>\n",
       "\t<tr><th scope=row>25</th><td>A</td><td>100</td><td>19</td></tr>\n",
       "\t<tr><th scope=row>26</th><td>A</td><td>150</td><td>23</td></tr>\n",
       "\t<tr><th scope=row>27</th><td>A</td><td>150</td><td>28</td></tr>\n",
       "\t<tr><th scope=row>28</th><td>A</td><td>150</td><td>35</td></tr>\n",
       "\t<tr><th scope=row>29</th><td>A</td><td>150</td><td>27</td></tr>\n",
       "\t<tr><th scope=row>30</th><td>A</td><td>150</td><td>21</td></tr>\n",
       "</tbody>\n",
       "</table>\n"
      ],
      "text/latex": [
       "A data.frame: 15 × 3\n",
       "\\begin{tabular}{r|lll}\n",
       "  & Area & Duration & Time\\\\\n",
       "  & <chr> & <chr> & <int>\\\\\n",
       "\\hline\n",
       "\t16 & A & 50  & 11\\\\\n",
       "\t17 & A & 50  & 18\\\\\n",
       "\t18 & A & 50  & 26\\\\\n",
       "\t19 & A & 50  & 15\\\\\n",
       "\t20 & A & 50  & 14\\\\\n",
       "\t21 & A & 100 & 31\\\\\n",
       "\t22 & A & 100 & 20\\\\\n",
       "\t23 & A & 100 & 22\\\\\n",
       "\t24 & A & 100 & 23\\\\\n",
       "\t25 & A & 100 & 19\\\\\n",
       "\t26 & A & 150 & 23\\\\\n",
       "\t27 & A & 150 & 28\\\\\n",
       "\t28 & A & 150 & 35\\\\\n",
       "\t29 & A & 150 & 27\\\\\n",
       "\t30 & A & 150 & 21\\\\\n",
       "\\end{tabular}\n"
      ],
      "text/markdown": [
       "\n",
       "A data.frame: 15 × 3\n",
       "\n",
       "| <!--/--> | Area &lt;chr&gt; | Duration &lt;chr&gt; | Time &lt;int&gt; |\n",
       "|---|---|---|---|\n",
       "| 16 | A | 50  | 11 |\n",
       "| 17 | A | 50  | 18 |\n",
       "| 18 | A | 50  | 26 |\n",
       "| 19 | A | 50  | 15 |\n",
       "| 20 | A | 50  | 14 |\n",
       "| 21 | A | 100 | 31 |\n",
       "| 22 | A | 100 | 20 |\n",
       "| 23 | A | 100 | 22 |\n",
       "| 24 | A | 100 | 23 |\n",
       "| 25 | A | 100 | 19 |\n",
       "| 26 | A | 150 | 23 |\n",
       "| 27 | A | 150 | 28 |\n",
       "| 28 | A | 150 | 35 |\n",
       "| 29 | A | 150 | 27 |\n",
       "| 30 | A | 150 | 21 |\n",
       "\n"
      ],
      "text/plain": [
       "   Area Duration Time\n",
       "16 A    50       11  \n",
       "17 A    50       18  \n",
       "18 A    50       26  \n",
       "19 A    50       15  \n",
       "20 A    50       14  \n",
       "21 A    100      31  \n",
       "22 A    100      20  \n",
       "23 A    100      22  \n",
       "24 A    100      23  \n",
       "25 A    100      19  \n",
       "26 A    150      23  \n",
       "27 A    150      28  \n",
       "28 A    150      35  \n",
       "29 A    150      27  \n",
       "30 A    150      21  "
      ]
     },
     "metadata": {},
     "output_type": "display_data"
    }
   ],
   "source": [
    "areaA_data <- subset(data, Area == \"A\")\n",
    "areaA_data"
   ]
  },
  {
   "cell_type": "markdown",
   "metadata": {},
   "source": [
    "می خواهیم تاثیر مدت زمان تحریک را فقط بر منطقه آ ببینیم پس تنها اطلاعات مربوط به منطقه آ را بررسی میکنیم"
   ]
  },
  {
   "cell_type": "code",
   "execution_count": 103,
   "metadata": {},
   "outputs": [
    {
     "data": {
      "text/html": [
       "<table class=\"dataframe\">\n",
       "<caption>A anova_test: 1 × 7</caption>\n",
       "<thead>\n",
       "\t<tr><th></th><th scope=col>Effect</th><th scope=col>DFn</th><th scope=col>DFd</th><th scope=col>F</th><th scope=col>p</th><th scope=col>p&lt;.05</th><th scope=col>ges</th></tr>\n",
       "\t<tr><th></th><th scope=col>&lt;chr&gt;</th><th scope=col>&lt;dbl&gt;</th><th scope=col>&lt;dbl&gt;</th><th scope=col>&lt;dbl&gt;</th><th scope=col>&lt;dbl&gt;</th><th scope=col>&lt;chr&gt;</th><th scope=col>&lt;dbl&gt;</th></tr>\n",
       "</thead>\n",
       "<tbody>\n",
       "\t<tr><th scope=row>1</th><td>Duration</td><td>2</td><td>12</td><td>4.528</td><td>0.034</td><td>*</td><td>0.43</td></tr>\n",
       "</tbody>\n",
       "</table>\n"
      ],
      "text/latex": [
       "A anova\\_test: 1 × 7\n",
       "\\begin{tabular}{r|lllllll}\n",
       "  & Effect & DFn & DFd & F & p & p<.05 & ges\\\\\n",
       "  & <chr> & <dbl> & <dbl> & <dbl> & <dbl> & <chr> & <dbl>\\\\\n",
       "\\hline\n",
       "\t1 & Duration & 2 & 12 & 4.528 & 0.034 & * & 0.43\\\\\n",
       "\\end{tabular}\n"
      ],
      "text/markdown": [
       "\n",
       "A anova_test: 1 × 7\n",
       "\n",
       "| <!--/--> | Effect &lt;chr&gt; | DFn &lt;dbl&gt; | DFd &lt;dbl&gt; | F &lt;dbl&gt; | p &lt;dbl&gt; | p&lt;.05 &lt;chr&gt; | ges &lt;dbl&gt; |\n",
       "|---|---|---|---|---|---|---|---|\n",
       "| 1 | Duration | 2 | 12 | 4.528 | 0.034 | * | 0.43 |\n",
       "\n"
      ],
      "text/plain": [
       "  Effect   DFn DFd F     p     p<.05 ges \n",
       "1 Duration 2   12  4.528 0.034 *     0.43"
      ]
     },
     "metadata": {},
     "output_type": "display_data"
    }
   ],
   "source": [
    "areaA_data %>% anova_test(Time ~ Duration)"
   ]
  },
  {
   "cell_type": "code",
   "execution_count": 104,
   "metadata": {},
   "outputs": [
    {
     "data": {
      "text/html": [
       "<table class=\"dataframe\">\n",
       "<caption>A rstatix_test: 3 × 9</caption>\n",
       "<thead>\n",
       "\t<tr><th></th><th scope=col>term</th><th scope=col>.y.</th><th scope=col>group1</th><th scope=col>group2</th><th scope=col>df</th><th scope=col>statistic</th><th scope=col>p</th><th scope=col>p.adj</th><th scope=col>p.adj.signif</th></tr>\n",
       "\t<tr><th></th><th scope=col>&lt;chr&gt;</th><th scope=col>&lt;chr&gt;</th><th scope=col>&lt;chr&gt;</th><th scope=col>&lt;chr&gt;</th><th scope=col>&lt;dbl&gt;</th><th scope=col>&lt;dbl&gt;</th><th scope=col>&lt;dbl&gt;</th><th scope=col>&lt;dbl&gt;</th><th scope=col>&lt;chr&gt;</th></tr>\n",
       "</thead>\n",
       "<tbody>\n",
       "\t<tr><th scope=row>1</th><td>Duration</td><td>Time</td><td>100</td><td>150</td><td>12</td><td>-1.132773</td><td>0.2794359</td><td>0.83830783</td><td>ns</td></tr>\n",
       "\t<tr><th scope=row>2</th><td>Duration</td><td>Time</td><td>100</td><td>50 </td><td>12</td><td> 1.848209</td><td>0.0893546</td><td>0.26806379</td><td>ns</td></tr>\n",
       "\t<tr><th scope=row>3</th><td>Duration</td><td>Time</td><td>150</td><td>50 </td><td>12</td><td> 2.980982</td><td>0.0114648</td><td>0.03439441</td><td>* </td></tr>\n",
       "</tbody>\n",
       "</table>\n"
      ],
      "text/latex": [
       "A rstatix\\_test: 3 × 9\n",
       "\\begin{tabular}{r|lllllllll}\n",
       "  & term & .y. & group1 & group2 & df & statistic & p & p.adj & p.adj.signif\\\\\n",
       "  & <chr> & <chr> & <chr> & <chr> & <dbl> & <dbl> & <dbl> & <dbl> & <chr>\\\\\n",
       "\\hline\n",
       "\t1 & Duration & Time & 100 & 150 & 12 & -1.132773 & 0.2794359 & 0.83830783 & ns\\\\\n",
       "\t2 & Duration & Time & 100 & 50  & 12 &  1.848209 & 0.0893546 & 0.26806379 & ns\\\\\n",
       "\t3 & Duration & Time & 150 & 50  & 12 &  2.980982 & 0.0114648 & 0.03439441 & * \\\\\n",
       "\\end{tabular}\n"
      ],
      "text/markdown": [
       "\n",
       "A rstatix_test: 3 × 9\n",
       "\n",
       "| <!--/--> | term &lt;chr&gt; | .y. &lt;chr&gt; | group1 &lt;chr&gt; | group2 &lt;chr&gt; | df &lt;dbl&gt; | statistic &lt;dbl&gt; | p &lt;dbl&gt; | p.adj &lt;dbl&gt; | p.adj.signif &lt;chr&gt; |\n",
       "|---|---|---|---|---|---|---|---|---|---|\n",
       "| 1 | Duration | Time | 100 | 150 | 12 | -1.132773 | 0.2794359 | 0.83830783 | ns |\n",
       "| 2 | Duration | Time | 100 | 50  | 12 |  1.848209 | 0.0893546 | 0.26806379 | ns |\n",
       "| 3 | Duration | Time | 150 | 50  | 12 |  2.980982 | 0.0114648 | 0.03439441 | *  |\n",
       "\n"
      ],
      "text/plain": [
       "  term     .y.  group1 group2 df statistic p         p.adj      p.adj.signif\n",
       "1 Duration Time 100    150    12 -1.132773 0.2794359 0.83830783 ns          \n",
       "2 Duration Time 100    50     12  1.848209 0.0893546 0.26806379 ns          \n",
       "3 Duration Time 150    50     12  2.980982 0.0114648 0.03439441 *           "
      ]
     },
     "metadata": {},
     "output_type": "display_data"
    }
   ],
   "source": [
    "pwc_arA = areaA_data %>% emmeans_test(Time ~ Duration, p.adjust.method = \"bonferroni\")\n",
    "pwc_arA"
   ]
  },
  {
   "cell_type": "markdown",
   "metadata": {},
   "source": [
    "تفاوت در منطقه آ فقط بین مدت زمان 50 و 100 قابل مشاهده ست در واقع این تاخیر 100 میلی ثانیه ای است که باعث تفاوت معناداری در زمان انجام آزمونه می گردد"
   ]
  },
  {
   "cell_type": "code",
   "execution_count": 105,
   "metadata": {},
   "outputs": [],
   "source": [
    "b_arA = ggboxplot(data, x=\"Duration\", y=\"Time\")"
   ]
  },
  {
   "cell_type": "code",
   "execution_count": 106,
   "metadata": {},
   "outputs": [
    {
     "data": {
      "image/png": "[encoded data removed]",
      "text/plain": [
       "plot without title"
      ]
     },
     "metadata": {
      "image/png": {
       "height": 420,
       "width": 420
      }
     },
     "output_type": "display_data"
    }
   ],
   "source": [
    "pwc_arA = pwc_arA %>% add_xy_position(x=\"Duration\")\n",
    "b_arA + stat_pvalue_manual(pwc_arA)"
   ]
  },
  {
   "cell_type": "markdown",
   "metadata": {},
   "source": [
    "# Part B. \n",
    "Three researchers ran a study comparing different treatments for posttraumatic stress disorder (PTSD). They used three groups (plus a waiting list control). One group received Stress Inoculation Therapy (SIT), another received a Prolonged Exposure (PE) treatment, and a third received standard Supportive Counseling (SC). All clients were measured at Pretreatment, Posttreatment, and a 3.5-month Follow-up. The data below closely approximate the data that they collected, and the dependent variable is a measure of PTSD.\n",
    "\n",
    "<img src=\"files/p10.png\" width=\"600\"/>\n",
    "\n",
    "- Run a repeated measures analysis of variance on these data. Draw the appropriate conclusions.\n",
    "- Run a mixed models analysis of variance, specifying an appropriate form for the covariance matrix, and compare the results with those you obtained above.\n",
    "- The following data come from above data with some observations deleted. (An entry of “999” represents a missing observation.)\n",
    "\n",
    "<img src=\"files/p11.png\" width=\"600\"/>\n",
    "\n",
    "    - Analyze these data using a standard repeated measures analysis of variance.\n",
    "    - How do your results differ from the results you found above.\n",
    "    - Now analyze the new data using a mixed models approach withan appropriate form for the covariance matrix. How do those results differ from the results you found above?\n"
   ]
  },
  {
   "cell_type": "markdown",
   "metadata": {},
   "source": [
    "## make data frame"
   ]
  },
  {
   "cell_type": "code",
   "execution_count": 581,
   "metadata": {},
   "outputs": [],
   "source": [
    "PTSD_data <- data.frame(\n",
    "    Therapy = c(\"SIT\", \"SIT\",\"SIT\", \"SIT\", \"SIT\",\"SIT\", \"SIT\",\"SIT\", \"SIT\", \"SIT\", \"SIT\",\"SIT\",\"SIT\",\"SIT\", \"SIT\",\"SIT\", \"SIT\", \"SIT\", \"SIT\",\"SIT\",\"SIT\",\"SIT\", \"SIT\",\"SIT\", \"SIT\", \"SIT\", \"SIT\",\"SIT\",\"SIT\",\"SIT\",\"SIT\",\"SIT\", \"SIT\", \"SIT\", \"SIT\",\"SIT\",\"SIT\",\"SIT\", \"SIT\",\"SIT\", \"SIT\", \"SIT\", \"SIT\",\"SIT\",\"SIT\",\n",
    "              \"PE\", \"PE\",\"PE\", \"PE\", \"PE\",\"PE\", \"PE\",\"PE\", \"PE\", \"PE\", \"PE\",\"PE\",\"PE\",\"PE\", \"PE\",\"PE\", \"PE\", \"PE\", \"PE\",\"PE\",\"PE\",\"PE\", \"PE\",\"PE\", \"PE\", \"PE\", \"PE\",\"PE\",\"PE\",\"PE\",\"PE\",\"PE\", \"PE\", \"PE\", \"PE\",\"PE\",\"PE\",\"PE\", \"PE\",\"PE\", \"PE\", \"PE\", \"PE\",\"PE\",\"PE\",\n",
    "                \"SC\", \"SC\",\"SC\", \"SC\", \"SC\",\"SC\", \"SC\",\"SC\", \"SC\", \"SC\", \"SC\",\"SC\",\"SC\",\"SC\", \"SC\",\"SC\", \"SC\", \"SC\", \"SC\",\"SC\",\"SC\",\"SC\", \"SC\",\"SC\", \"SC\", \"SC\", \"SC\",\"SC\",\"SC\",\"SC\",\"SC\",\"SC\", \"SC\", \"SC\", \"SC\",\"SC\",\"SC\",\"SC\", \"SC\",\"SC\", \"SC\", \"SC\", \"SC\",\"SC\",\"SC\"\n",
    "               ),\n",
    "    Period = c(\n",
    "                     \"Pre\", \"Pre\",\"Pre\", \"Pre\", \"Pre\",\"Pre\", \"Pre\",\"Pre\", \"Pre\", \"Pre\",\"Pre\", \"Pre\",\"Pre\", \"Pre\", \"Pre\",\n",
    "                     \"Post\",\"Post\",\"Post\",\"Post\",\"Post\",\"Post\",\"Post\",\"Post\",\"Post\",\"Post\",\"Post\",\"Post\",\"Post\",\"Post\",\"Post\",\n",
    "                     \"Followup\",\"Followup\",\"Followup\",\"Followup\",\"Followup\",\"Followup\",\"Followup\",\"Followup\",\"Followup\",\"Followup\",\"Followup\",\"Followup\",\"Followup\",\"Followup\",\"Followup\",\n",
    "                     \"Pre\", \"Pre\",\"Pre\", \"Pre\", \"Pre\",\"Pre\", \"Pre\",\"Pre\", \"Pre\", \"Pre\",\"Pre\", \"Pre\",\"Pre\", \"Pre\", \"Pre\",\n",
    "                     \"Post\",\"Post\",\"Post\",\"Post\",\"Post\",\"Post\",\"Post\",\"Post\",\"Post\",\"Post\",\"Post\",\"Post\",\"Post\",\"Post\",\"Post\",\n",
    "                     \"Followup\",\"Followup\",\"Followup\",\"Followup\",\"Followup\",\"Followup\",\"Followup\",\"Followup\",\"Followup\",\"Followup\",\"Followup\",\"Followup\",\"Followup\",\"Followup\",\"Followup\",\n",
    "                     \"Pre\", \"Pre\",\"Pre\", \"Pre\", \"Pre\",\"Pre\", \"Pre\",\"Pre\", \"Pre\", \"Pre\",\"Pre\", \"Pre\",\"Pre\", \"Pre\", \"Pre\",\n",
    "                     \"Post\",\"Post\",\"Post\",\"Post\",\"Post\",\"Post\",\"Post\",\"Post\",\"Post\",\"Post\",\"Post\",\"Post\",\"Post\",\"Post\",\"Post\",\n",
    "                     \"Followup\",\"Followup\",\"Followup\",\"Followup\",\"Followup\",\"Followup\",\"Followup\",\"Followup\",\"Followup\",\"Followup\",\"Followup\",\"Followup\",\"Followup\",\"Followup\",\"Followup\"   \n",
    "                 ),\n",
    "    PTSD_M=c(19,28,18,23,21,24,26,15,18,34,20,34,29,33,22,\n",
    "            6,14,6,6,6,10,10,6,8,13,10,10,16,19,7,\n",
    "             1,16,8,11,13,8,7,13,6,8,16,1,23,39,16,\n",
    "             20,21,36,25,26,30,19,19,22,22,24,28,29,27,27,\n",
    "             5,18,26,11,2,31,6,7,4,17,19,22,23,15,7,\n",
    "             0,21,17,9,7,10,11,5,4,20,1,16,20,20,3,\n",
    "             12,27,24,32,26,18,38,26,23,22,34,22,27,23,26,\n",
    "             14,18,19,21,20,20,35,22,10,19,27,15,18,21,18,\n",
    "             18,9,13,11,18,26,34,22,8,19,23,12,13,19,13\n",
    "            ),\n",
    "    ID=c(1,2,3,4,5,6,7,8,9,10,11,12,13,14,15,\n",
    "         1,2,3,4,5,6,7,8,9,10,11,12,13,14,15,\n",
    "         1,2,3,4,5,6,7,8,9,10,11,12,13,14,15,\n",
    "         16,17,18,19,20,21,22,23,24,25,26,27,28,29,30,\n",
    "         16,17,18,19,20,21,22,23,24,25,26,27,28,29,30,\n",
    "         16,17,18,19,20,21,22,23,24,25,26,27,28,29,30,\n",
    "         31,32,33,34,35,36,37,38,39,40,41,42,43,44,45,\n",
    "         31,32,33,34,35,36,37,38,39,40,41,42,43,44,45,\n",
    "         31,32,33,34,35,36,37,38,39,40,41,42,43,44,45\n",
    "        )\n",
    ")"
   ]
  },
  {
   "cell_type": "markdown",
   "metadata": {},
   "source": [
    "#### Add ID column to data"
   ]
  },
  {
   "cell_type": "code",
   "execution_count": 542,
   "metadata": {},
   "outputs": [],
   "source": [
    "# PTSD_data$ID <- seq.int(nrow(PTSD_data))"
   ]
  },
  {
   "cell_type": "code",
   "execution_count": 582,
   "metadata": {},
   "outputs": [
    {
     "data": {
      "text/html": [
       "<table class=\"dataframe\">\n",
       "<caption>A data.frame: 135 × 4</caption>\n",
       "<thead>\n",
       "\t<tr><th scope=col>Therapy</th><th scope=col>Period</th><th scope=col>PTSD_M</th><th scope=col>ID</th></tr>\n",
       "\t<tr><th scope=col>&lt;chr&gt;</th><th scope=col>&lt;chr&gt;</th><th scope=col>&lt;dbl&gt;</th><th scope=col>&lt;dbl&gt;</th></tr>\n",
       "</thead>\n",
       "<tbody>\n",
       "\t<tr><td>SIT</td><td>Pre </td><td>19</td><td> 1</td></tr>\n",
       "\t<tr><td>SIT</td><td>Pre </td><td>28</td><td> 2</td></tr>\n",
       "\t<tr><td>SIT</td><td>Pre </td><td>18</td><td> 3</td></tr>\n",
       "\t<tr><td>SIT</td><td>Pre </td><td>23</td><td> 4</td></tr>\n",
       "\t<tr><td>SIT</td><td>Pre </td><td>21</td><td> 5</td></tr>\n",
       "\t<tr><td>SIT</td><td>Pre </td><td>24</td><td> 6</td></tr>\n",
       "\t<tr><td>SIT</td><td>Pre </td><td>26</td><td> 7</td></tr>\n",
       "\t<tr><td>SIT</td><td>Pre </td><td>15</td><td> 8</td></tr>\n",
       "\t<tr><td>SIT</td><td>Pre </td><td>18</td><td> 9</td></tr>\n",
       "\t<tr><td>SIT</td><td>Pre </td><td>34</td><td>10</td></tr>\n",
       "\t<tr><td>SIT</td><td>Pre </td><td>20</td><td>11</td></tr>\n",
       "\t<tr><td>SIT</td><td>Pre </td><td>34</td><td>12</td></tr>\n",
       "\t<tr><td>SIT</td><td>Pre </td><td>29</td><td>13</td></tr>\n",
       "\t<tr><td>SIT</td><td>Pre </td><td>33</td><td>14</td></tr>\n",
       "\t<tr><td>SIT</td><td>Pre </td><td>22</td><td>15</td></tr>\n",
       "\t<tr><td>SIT</td><td>Post</td><td> 6</td><td> 1</td></tr>\n",
       "\t<tr><td>SIT</td><td>Post</td><td>14</td><td> 2</td></tr>\n",
       "\t<tr><td>SIT</td><td>Post</td><td> 6</td><td> 3</td></tr>\n",
       "\t<tr><td>SIT</td><td>Post</td><td> 6</td><td> 4</td></tr>\n",
       "\t<tr><td>SIT</td><td>Post</td><td> 6</td><td> 5</td></tr>\n",
       "\t<tr><td>SIT</td><td>Post</td><td>10</td><td> 6</td></tr>\n",
       "\t<tr><td>SIT</td><td>Post</td><td>10</td><td> 7</td></tr>\n",
       "\t<tr><td>SIT</td><td>Post</td><td> 6</td><td> 8</td></tr>\n",
       "\t<tr><td>SIT</td><td>Post</td><td> 8</td><td> 9</td></tr>\n",
       "\t<tr><td>SIT</td><td>Post</td><td>13</td><td>10</td></tr>\n",
       "\t<tr><td>SIT</td><td>Post</td><td>10</td><td>11</td></tr>\n",
       "\t<tr><td>SIT</td><td>Post</td><td>10</td><td>12</td></tr>\n",
       "\t<tr><td>SIT</td><td>Post</td><td>16</td><td>13</td></tr>\n",
       "\t<tr><td>SIT</td><td>Post</td><td>19</td><td>14</td></tr>\n",
       "\t<tr><td>SIT</td><td>Post</td><td> 7</td><td>15</td></tr>\n",
       "\t<tr><td>...</td><td>...</td><td>...</td><td>...</td></tr>\n",
       "\t<tr><td>SC</td><td>Post    </td><td>14</td><td>31</td></tr>\n",
       "\t<tr><td>SC</td><td>Post    </td><td>18</td><td>32</td></tr>\n",
       "\t<tr><td>SC</td><td>Post    </td><td>19</td><td>33</td></tr>\n",
       "\t<tr><td>SC</td><td>Post    </td><td>21</td><td>34</td></tr>\n",
       "\t<tr><td>SC</td><td>Post    </td><td>20</td><td>35</td></tr>\n",
       "\t<tr><td>SC</td><td>Post    </td><td>20</td><td>36</td></tr>\n",
       "\t<tr><td>SC</td><td>Post    </td><td>35</td><td>37</td></tr>\n",
       "\t<tr><td>SC</td><td>Post    </td><td>22</td><td>38</td></tr>\n",
       "\t<tr><td>SC</td><td>Post    </td><td>10</td><td>39</td></tr>\n",
       "\t<tr><td>SC</td><td>Post    </td><td>19</td><td>40</td></tr>\n",
       "\t<tr><td>SC</td><td>Post    </td><td>27</td><td>41</td></tr>\n",
       "\t<tr><td>SC</td><td>Post    </td><td>15</td><td>42</td></tr>\n",
       "\t<tr><td>SC</td><td>Post    </td><td>18</td><td>43</td></tr>\n",
       "\t<tr><td>SC</td><td>Post    </td><td>21</td><td>44</td></tr>\n",
       "\t<tr><td>SC</td><td>Post    </td><td>18</td><td>45</td></tr>\n",
       "\t<tr><td>SC</td><td>Followup</td><td>18</td><td>31</td></tr>\n",
       "\t<tr><td>SC</td><td>Followup</td><td> 9</td><td>32</td></tr>\n",
       "\t<tr><td>SC</td><td>Followup</td><td>13</td><td>33</td></tr>\n",
       "\t<tr><td>SC</td><td>Followup</td><td>11</td><td>34</td></tr>\n",
       "\t<tr><td>SC</td><td>Followup</td><td>18</td><td>35</td></tr>\n",
       "\t<tr><td>SC</td><td>Followup</td><td>26</td><td>36</td></tr>\n",
       "\t<tr><td>SC</td><td>Followup</td><td>34</td><td>37</td></tr>\n",
       "\t<tr><td>SC</td><td>Followup</td><td>22</td><td>38</td></tr>\n",
       "\t<tr><td>SC</td><td>Followup</td><td> 8</td><td>39</td></tr>\n",
       "\t<tr><td>SC</td><td>Followup</td><td>19</td><td>40</td></tr>\n",
       "\t<tr><td>SC</td><td>Followup</td><td>23</td><td>41</td></tr>\n",
       "\t<tr><td>SC</td><td>Followup</td><td>12</td><td>42</td></tr>\n",
       "\t<tr><td>SC</td><td>Followup</td><td>13</td><td>43</td></tr>\n",
       "\t<tr><td>SC</td><td>Followup</td><td>19</td><td>44</td></tr>\n",
       "\t<tr><td>SC</td><td>Followup</td><td>13</td><td>45</td></tr>\n",
       "</tbody>\n",
       "</table>\n"
      ],
      "text/latex": [
       "A data.frame: 135 × 4\n",
       "\\begin{tabular}{llll}\n",
       " Therapy & Period & PTSD\\_M & ID\\\\\n",
       " <chr> & <chr> & <dbl> & <dbl>\\\\\n",
       "\\hline\n",
       "\t SIT & Pre  & 19 &  1\\\\\n",
       "\t SIT & Pre  & 28 &  2\\\\\n",
       "\t SIT & Pre  & 18 &  3\\\\\n",
       "\t SIT & Pre  & 23 &  4\\\\\n",
       "\t SIT & Pre  & 21 &  5\\\\\n",
       "\t SIT & Pre  & 24 &  6\\\\\n",
       "\t SIT & Pre  & 26 &  7\\\\\n",
       "\t SIT & Pre  & 15 &  8\\\\\n",
       "\t SIT & Pre  & 18 &  9\\\\\n",
       "\t SIT & Pre  & 34 & 10\\\\\n",
       "\t SIT & Pre  & 20 & 11\\\\\n",
       "\t SIT & Pre  & 34 & 12\\\\\n",
       "\t SIT & Pre  & 29 & 13\\\\\n",
       "\t SIT & Pre  & 33 & 14\\\\\n",
       "\t SIT & Pre  & 22 & 15\\\\\n",
       "\t SIT & Post &  6 &  1\\\\\n",
       "\t SIT & Post & 14 &  2\\\\\n",
       "\t SIT & Post &  6 &  3\\\\\n",
       "\t SIT & Post &  6 &  4\\\\\n",
       "\t SIT & Post &  6 &  5\\\\\n",
       "\t SIT & Post & 10 &  6\\\\\n",
       "\t SIT & Post & 10 &  7\\\\\n",
       "\t SIT & Post &  6 &  8\\\\\n",
       "\t SIT & Post &  8 &  9\\\\\n",
       "\t SIT & Post & 13 & 10\\\\\n",
       "\t SIT & Post & 10 & 11\\\\\n",
       "\t SIT & Post & 10 & 12\\\\\n",
       "\t SIT & Post & 16 & 13\\\\\n",
       "\t SIT & Post & 19 & 14\\\\\n",
       "\t SIT & Post &  7 & 15\\\\\n",
       "\t ... & ... & ... & ...\\\\\n",
       "\t SC & Post     & 14 & 31\\\\\n",
       "\t SC & Post     & 18 & 32\\\\\n",
       "\t SC & Post     & 19 & 33\\\\\n",
       "\t SC & Post     & 21 & 34\\\\\n",
       "\t SC & Post     & 20 & 35\\\\\n",
       "\t SC & Post     & 20 & 36\\\\\n",
       "\t SC & Post     & 35 & 37\\\\\n",
       "\t SC & Post     & 22 & 38\\\\\n",
       "\t SC & Post     & 10 & 39\\\\\n",
       "\t SC & Post     & 19 & 40\\\\\n",
       "\t SC & Post     & 27 & 41\\\\\n",
       "\t SC & Post     & 15 & 42\\\\\n",
       "\t SC & Post     & 18 & 43\\\\\n",
       "\t SC & Post     & 21 & 44\\\\\n",
       "\t SC & Post     & 18 & 45\\\\\n",
       "\t SC & Followup & 18 & 31\\\\\n",
       "\t SC & Followup &  9 & 32\\\\\n",
       "\t SC & Followup & 13 & 33\\\\\n",
       "\t SC & Followup & 11 & 34\\\\\n",
       "\t SC & Followup & 18 & 35\\\\\n",
       "\t SC & Followup & 26 & 36\\\\\n",
       "\t SC & Followup & 34 & 37\\\\\n",
       "\t SC & Followup & 22 & 38\\\\\n",
       "\t SC & Followup &  8 & 39\\\\\n",
       "\t SC & Followup & 19 & 40\\\\\n",
       "\t SC & Followup & 23 & 41\\\\\n",
       "\t SC & Followup & 12 & 42\\\\\n",
       "\t SC & Followup & 13 & 43\\\\\n",
       "\t SC & Followup & 19 & 44\\\\\n",
       "\t SC & Followup & 13 & 45\\\\\n",
       "\\end{tabular}\n"
      ],
      "text/markdown": [
       "\n",
       "A data.frame: 135 × 4\n",
       "\n",
       "| Therapy &lt;chr&gt; | Period &lt;chr&gt; | PTSD_M &lt;dbl&gt; | ID &lt;dbl&gt; |\n",
       "|---|---|---|---|\n",
       "| SIT | Pre  | 19 |  1 |\n",
       "| SIT | Pre  | 28 |  2 |\n",
       "| SIT | Pre  | 18 |  3 |\n",
       "| SIT | Pre  | 23 |  4 |\n",
       "| SIT | Pre  | 21 |  5 |\n",
       "| SIT | Pre  | 24 |  6 |\n",
       "| SIT | Pre  | 26 |  7 |\n",
       "| SIT | Pre  | 15 |  8 |\n",
       "| SIT | Pre  | 18 |  9 |\n",
       "| SIT | Pre  | 34 | 10 |\n",
       "| SIT | Pre  | 20 | 11 |\n",
       "| SIT | Pre  | 34 | 12 |\n",
       "| SIT | Pre  | 29 | 13 |\n",
       "| SIT | Pre  | 33 | 14 |\n",
       "| SIT | Pre  | 22 | 15 |\n",
       "| SIT | Post |  6 |  1 |\n",
       "| SIT | Post | 14 |  2 |\n",
       "| SIT | Post |  6 |  3 |\n",
       "| SIT | Post |  6 |  4 |\n",
       "| SIT | Post |  6 |  5 |\n",
       "| SIT | Post | 10 |  6 |\n",
       "| SIT | Post | 10 |  7 |\n",
       "| SIT | Post |  6 |  8 |\n",
       "| SIT | Post |  8 |  9 |\n",
       "| SIT | Post | 13 | 10 |\n",
       "| SIT | Post | 10 | 11 |\n",
       "| SIT | Post | 10 | 12 |\n",
       "| SIT | Post | 16 | 13 |\n",
       "| SIT | Post | 19 | 14 |\n",
       "| SIT | Post |  7 | 15 |\n",
       "| ... | ... | ... | ... |\n",
       "| SC | Post     | 14 | 31 |\n",
       "| SC | Post     | 18 | 32 |\n",
       "| SC | Post     | 19 | 33 |\n",
       "| SC | Post     | 21 | 34 |\n",
       "| SC | Post     | 20 | 35 |\n",
       "| SC | Post     | 20 | 36 |\n",
       "| SC | Post     | 35 | 37 |\n",
       "| SC | Post     | 22 | 38 |\n",
       "| SC | Post     | 10 | 39 |\n",
       "| SC | Post     | 19 | 40 |\n",
       "| SC | Post     | 27 | 41 |\n",
       "| SC | Post     | 15 | 42 |\n",
       "| SC | Post     | 18 | 43 |\n",
       "| SC | Post     | 21 | 44 |\n",
       "| SC | Post     | 18 | 45 |\n",
       "| SC | Followup | 18 | 31 |\n",
       "| SC | Followup |  9 | 32 |\n",
       "| SC | Followup | 13 | 33 |\n",
       "| SC | Followup | 11 | 34 |\n",
       "| SC | Followup | 18 | 35 |\n",
       "| SC | Followup | 26 | 36 |\n",
       "| SC | Followup | 34 | 37 |\n",
       "| SC | Followup | 22 | 38 |\n",
       "| SC | Followup |  8 | 39 |\n",
       "| SC | Followup | 19 | 40 |\n",
       "| SC | Followup | 23 | 41 |\n",
       "| SC | Followup | 12 | 42 |\n",
       "| SC | Followup | 13 | 43 |\n",
       "| SC | Followup | 19 | 44 |\n",
       "| SC | Followup | 13 | 45 |\n",
       "\n"
      ],
      "text/plain": [
       "    Therapy Period   PTSD_M ID \n",
       "1   SIT     Pre      19      1 \n",
       "2   SIT     Pre      28      2 \n",
       "3   SIT     Pre      18      3 \n",
       "4   SIT     Pre      23      4 \n",
       "5   SIT     Pre      21      5 \n",
       "6   SIT     Pre      24      6 \n",
       "7   SIT     Pre      26      7 \n",
       "8   SIT     Pre      15      8 \n",
       "9   SIT     Pre      18      9 \n",
       "10  SIT     Pre      34     10 \n",
       "11  SIT     Pre      20     11 \n",
       "12  SIT     Pre      34     12 \n",
       "13  SIT     Pre      29     13 \n",
       "14  SIT     Pre      33     14 \n",
       "15  SIT     Pre      22     15 \n",
       "16  SIT     Post      6      1 \n",
       "17  SIT     Post     14      2 \n",
       "18  SIT     Post      6      3 \n",
       "19  SIT     Post      6      4 \n",
       "20  SIT     Post      6      5 \n",
       "21  SIT     Post     10      6 \n",
       "22  SIT     Post     10      7 \n",
       "23  SIT     Post      6      8 \n",
       "24  SIT     Post      8      9 \n",
       "25  SIT     Post     13     10 \n",
       "26  SIT     Post     10     11 \n",
       "27  SIT     Post     10     12 \n",
       "28  SIT     Post     16     13 \n",
       "29  SIT     Post     19     14 \n",
       "30  SIT     Post      7     15 \n",
       "... ...     ...      ...    ...\n",
       "106 SC      Post     14     31 \n",
       "107 SC      Post     18     32 \n",
       "108 SC      Post     19     33 \n",
       "109 SC      Post     21     34 \n",
       "110 SC      Post     20     35 \n",
       "111 SC      Post     20     36 \n",
       "112 SC      Post     35     37 \n",
       "113 SC      Post     22     38 \n",
       "114 SC      Post     10     39 \n",
       "115 SC      Post     19     40 \n",
       "116 SC      Post     27     41 \n",
       "117 SC      Post     15     42 \n",
       "118 SC      Post     18     43 \n",
       "119 SC      Post     21     44 \n",
       "120 SC      Post     18     45 \n",
       "121 SC      Followup 18     31 \n",
       "122 SC      Followup  9     32 \n",
       "123 SC      Followup 13     33 \n",
       "124 SC      Followup 11     34 \n",
       "125 SC      Followup 18     35 \n",
       "126 SC      Followup 26     36 \n",
       "127 SC      Followup 34     37 \n",
       "128 SC      Followup 22     38 \n",
       "129 SC      Followup  8     39 \n",
       "130 SC      Followup 19     40 \n",
       "131 SC      Followup 23     41 \n",
       "132 SC      Followup 12     42 \n",
       "133 SC      Followup 13     43 \n",
       "134 SC      Followup 19     44 \n",
       "135 SC      Followup 13     45 "
      ]
     },
     "metadata": {},
     "output_type": "display_data"
    }
   ],
   "source": [
    "PTSD_data"
   ]
  },
  {
   "cell_type": "code",
   "execution_count": 583,
   "metadata": {},
   "outputs": [
    {
     "data": {
      "image/png": "[encoded data removed]",
      "text/plain": [
       "plot without title"
      ]
     },
     "metadata": {
      "image/png": {
       "height": 420,
       "width": 420
      }
     },
     "output_type": "display_data"
    }
   ],
   "source": [
    "plot(PTSD_data$PTSD_M)"
   ]
  },
  {
   "cell_type": "code",
   "execution_count": 584,
   "metadata": {},
   "outputs": [
    {
     "data": {
      "image/png": "[encoded data removed]",
      "text/plain": [
       "plot without title"
      ]
     },
     "metadata": {
      "image/png": {
       "height": 420,
       "width": 420
      }
     },
     "output_type": "display_data"
    }
   ],
   "source": [
    "ggplot(PTSD_data %>% group_by(Period), aes(x = PTSD_M, fill = Therapy)) +\n",
    "  geom_density(alpha = 0.5) +\n",
    "  scale_fill_manual(values = c(\"SIT\" = \"yellow\", \"PE\" = \"red\",\"SC\"=\"blue\"))"
   ]
  },
  {
   "cell_type": "code",
   "execution_count": 585,
   "metadata": {},
   "outputs": [
    {
     "data": {
      "text/html": [
       "<table class=\"dataframe\">\n",
       "<caption>A tibble: 9 × 15</caption>\n",
       "<thead>\n",
       "\t<tr><th scope=col>Therapy</th><th scope=col>Period</th><th scope=col>variable</th><th scope=col>n</th><th scope=col>min</th><th scope=col>max</th><th scope=col>median</th><th scope=col>q1</th><th scope=col>q3</th><th scope=col>iqr</th><th scope=col>mad</th><th scope=col>mean</th><th scope=col>sd</th><th scope=col>se</th><th scope=col>ci</th></tr>\n",
       "\t<tr><th scope=col>&lt;chr&gt;</th><th scope=col>&lt;chr&gt;</th><th scope=col>&lt;fct&gt;</th><th scope=col>&lt;dbl&gt;</th><th scope=col>&lt;dbl&gt;</th><th scope=col>&lt;dbl&gt;</th><th scope=col>&lt;dbl&gt;</th><th scope=col>&lt;dbl&gt;</th><th scope=col>&lt;dbl&gt;</th><th scope=col>&lt;dbl&gt;</th><th scope=col>&lt;dbl&gt;</th><th scope=col>&lt;dbl&gt;</th><th scope=col>&lt;dbl&gt;</th><th scope=col>&lt;dbl&gt;</th><th scope=col>&lt;dbl&gt;</th></tr>\n",
       "</thead>\n",
       "<tbody>\n",
       "\t<tr><td>PE </td><td>Followup</td><td>PTSD_M</td><td>15</td><td> 0</td><td>21</td><td>10</td><td> 4.5</td><td>18.5</td><td>14.0</td><td>10.378</td><td>10.933</td><td>7.535</td><td>1.946</td><td>4.173</td></tr>\n",
       "\t<tr><td>PE </td><td>Post    </td><td>PTSD_M</td><td>15</td><td> 2</td><td>31</td><td>15</td><td> 6.5</td><td>20.5</td><td>14.0</td><td>11.861</td><td>14.200</td><td>8.962</td><td>2.314</td><td>4.963</td></tr>\n",
       "\t<tr><td>PE </td><td>Pre     </td><td>PTSD_M</td><td>15</td><td>19</td><td>36</td><td>25</td><td>21.5</td><td>27.5</td><td> 6.0</td><td> 4.448</td><td>25.000</td><td>4.721</td><td>1.219</td><td>2.614</td></tr>\n",
       "\t<tr><td>SC </td><td>Followup</td><td>PTSD_M</td><td>15</td><td> 8</td><td>34</td><td>18</td><td>12.5</td><td>20.5</td><td> 8.0</td><td> 7.413</td><td>17.200</td><td>7.043</td><td>1.818</td><td>3.900</td></tr>\n",
       "\t<tr><td>SC </td><td>Post    </td><td>PTSD_M</td><td>15</td><td>10</td><td>35</td><td>19</td><td>18.0</td><td>21.0</td><td> 3.0</td><td> 2.965</td><td>19.800</td><td>5.697</td><td>1.471</td><td>3.155</td></tr>\n",
       "\t<tr><td>SC </td><td>Pre     </td><td>PTSD_M</td><td>15</td><td>12</td><td>38</td><td>26</td><td>22.5</td><td>27.0</td><td> 4.5</td><td> 4.448</td><td>25.333</td><td>6.287</td><td>1.623</td><td>3.482</td></tr>\n",
       "\t<tr><td>SIT</td><td>Followup</td><td>PTSD_M</td><td>15</td><td> 1</td><td>39</td><td>11</td><td> 7.5</td><td>16.0</td><td> 8.5</td><td> 7.413</td><td>12.400</td><td>9.448</td><td>2.439</td><td>5.232</td></tr>\n",
       "\t<tr><td>SIT</td><td>Post    </td><td>PTSD_M</td><td>15</td><td> 6</td><td>19</td><td>10</td><td> 6.0</td><td>11.5</td><td> 5.5</td><td> 5.930</td><td> 9.800</td><td>4.092</td><td>1.056</td><td>2.266</td></tr>\n",
       "\t<tr><td>SIT</td><td>Pre     </td><td>PTSD_M</td><td>15</td><td>15</td><td>34</td><td>23</td><td>19.5</td><td>28.5</td><td> 9.0</td><td> 7.413</td><td>24.267</td><td>6.170</td><td>1.593</td><td>3.417</td></tr>\n",
       "</tbody>\n",
       "</table>\n"
      ],
      "text/latex": [
       "A tibble: 9 × 15\n",
       "\\begin{tabular}{lllllllllllllll}\n",
       " Therapy & Period & variable & n & min & max & median & q1 & q3 & iqr & mad & mean & sd & se & ci\\\\\n",
       " <chr> & <chr> & <fct> & <dbl> & <dbl> & <dbl> & <dbl> & <dbl> & <dbl> & <dbl> & <dbl> & <dbl> & <dbl> & <dbl> & <dbl>\\\\\n",
       "\\hline\n",
       "\t PE  & Followup & PTSD\\_M & 15 &  0 & 21 & 10 &  4.5 & 18.5 & 14.0 & 10.378 & 10.933 & 7.535 & 1.946 & 4.173\\\\\n",
       "\t PE  & Post     & PTSD\\_M & 15 &  2 & 31 & 15 &  6.5 & 20.5 & 14.0 & 11.861 & 14.200 & 8.962 & 2.314 & 4.963\\\\\n",
       "\t PE  & Pre      & PTSD\\_M & 15 & 19 & 36 & 25 & 21.5 & 27.5 &  6.0 &  4.448 & 25.000 & 4.721 & 1.219 & 2.614\\\\\n",
       "\t SC  & Followup & PTSD\\_M & 15 &  8 & 34 & 18 & 12.5 & 20.5 &  8.0 &  7.413 & 17.200 & 7.043 & 1.818 & 3.900\\\\\n",
       "\t SC  & Post     & PTSD\\_M & 15 & 10 & 35 & 19 & 18.0 & 21.0 &  3.0 &  2.965 & 19.800 & 5.697 & 1.471 & 3.155\\\\\n",
       "\t SC  & Pre      & PTSD\\_M & 15 & 12 & 38 & 26 & 22.5 & 27.0 &  4.5 &  4.448 & 25.333 & 6.287 & 1.623 & 3.482\\\\\n",
       "\t SIT & Followup & PTSD\\_M & 15 &  1 & 39 & 11 &  7.5 & 16.0 &  8.5 &  7.413 & 12.400 & 9.448 & 2.439 & 5.232\\\\\n",
       "\t SIT & Post     & PTSD\\_M & 15 &  6 & 19 & 10 &  6.0 & 11.5 &  5.5 &  5.930 &  9.800 & 4.092 & 1.056 & 2.266\\\\\n",
       "\t SIT & Pre      & PTSD\\_M & 15 & 15 & 34 & 23 & 19.5 & 28.5 &  9.0 &  7.413 & 24.267 & 6.170 & 1.593 & 3.417\\\\\n",
       "\\end{tabular}\n"
      ],
      "text/markdown": [
       "\n",
       "A tibble: 9 × 15\n",
       "\n",
       "| Therapy &lt;chr&gt; | Period &lt;chr&gt; | variable &lt;fct&gt; | n &lt;dbl&gt; | min &lt;dbl&gt; | max &lt;dbl&gt; | median &lt;dbl&gt; | q1 &lt;dbl&gt; | q3 &lt;dbl&gt; | iqr &lt;dbl&gt; | mad &lt;dbl&gt; | mean &lt;dbl&gt; | sd &lt;dbl&gt; | se &lt;dbl&gt; | ci &lt;dbl&gt; |\n",
       "|---|---|---|---|---|---|---|---|---|---|---|---|---|---|---|\n",
       "| PE  | Followup | PTSD_M | 15 |  0 | 21 | 10 |  4.5 | 18.5 | 14.0 | 10.378 | 10.933 | 7.535 | 1.946 | 4.173 |\n",
       "| PE  | Post     | PTSD_M | 15 |  2 | 31 | 15 |  6.5 | 20.5 | 14.0 | 11.861 | 14.200 | 8.962 | 2.314 | 4.963 |\n",
       "| PE  | Pre      | PTSD_M | 15 | 19 | 36 | 25 | 21.5 | 27.5 |  6.0 |  4.448 | 25.000 | 4.721 | 1.219 | 2.614 |\n",
       "| SC  | Followup | PTSD_M | 15 |  8 | 34 | 18 | 12.5 | 20.5 |  8.0 |  7.413 | 17.200 | 7.043 | 1.818 | 3.900 |\n",
       "| SC  | Post     | PTSD_M | 15 | 10 | 35 | 19 | 18.0 | 21.0 |  3.0 |  2.965 | 19.800 | 5.697 | 1.471 | 3.155 |\n",
       "| SC  | Pre      | PTSD_M | 15 | 12 | 38 | 26 | 22.5 | 27.0 |  4.5 |  4.448 | 25.333 | 6.287 | 1.623 | 3.482 |\n",
       "| SIT | Followup | PTSD_M | 15 |  1 | 39 | 11 |  7.5 | 16.0 |  8.5 |  7.413 | 12.400 | 9.448 | 2.439 | 5.232 |\n",
       "| SIT | Post     | PTSD_M | 15 |  6 | 19 | 10 |  6.0 | 11.5 |  5.5 |  5.930 |  9.800 | 4.092 | 1.056 | 2.266 |\n",
       "| SIT | Pre      | PTSD_M | 15 | 15 | 34 | 23 | 19.5 | 28.5 |  9.0 |  7.413 | 24.267 | 6.170 | 1.593 | 3.417 |\n",
       "\n"
      ],
      "text/plain": [
       "  Therapy Period   variable n  min max median q1   q3   iqr  mad    mean  \n",
       "1 PE      Followup PTSD_M   15  0  21  10      4.5 18.5 14.0 10.378 10.933\n",
       "2 PE      Post     PTSD_M   15  2  31  15      6.5 20.5 14.0 11.861 14.200\n",
       "3 PE      Pre      PTSD_M   15 19  36  25     21.5 27.5  6.0  4.448 25.000\n",
       "4 SC      Followup PTSD_M   15  8  34  18     12.5 20.5  8.0  7.413 17.200\n",
       "5 SC      Post     PTSD_M   15 10  35  19     18.0 21.0  3.0  2.965 19.800\n",
       "6 SC      Pre      PTSD_M   15 12  38  26     22.5 27.0  4.5  4.448 25.333\n",
       "7 SIT     Followup PTSD_M   15  1  39  11      7.5 16.0  8.5  7.413 12.400\n",
       "8 SIT     Post     PTSD_M   15  6  19  10      6.0 11.5  5.5  5.930  9.800\n",
       "9 SIT     Pre      PTSD_M   15 15  34  23     19.5 28.5  9.0  7.413 24.267\n",
       "  sd    se    ci   \n",
       "1 7.535 1.946 4.173\n",
       "2 8.962 2.314 4.963\n",
       "3 4.721 1.219 2.614\n",
       "4 7.043 1.818 3.900\n",
       "5 5.697 1.471 3.155\n",
       "6 6.287 1.623 3.482\n",
       "7 9.448 2.439 5.232\n",
       "8 4.092 1.056 2.266\n",
       "9 6.170 1.593 3.417"
      ]
     },
     "metadata": {},
     "output_type": "display_data"
    }
   ],
   "source": [
    "PTSD_data %>% group_by(Therapy,Period) %>% get_summary_stats(PTSD_M)"
   ]
  },
  {
   "cell_type": "markdown",
   "metadata": {},
   "source": [
    "همانطور که در جدول بالا می توان دید میانگین و میانه معیار سنجش ( به جز در درمان اس آی تی) در سه حالت پیش و پس و فالوآپ بهبود داشته (کمترشده) است. در حالت درمان اس آی تی بهبود بسیار مشهودی هم در میانه هم در میانیگن در حالت پست دیده می شود اما این بهبود در مرحله فالوآپ کاهش می یابد. در مجموع اما می توان دید که در هر سه درمان، بهبود قابل توجهی داشته ایم "
   ]
  },
  {
   "cell_type": "code",
   "execution_count": 586,
   "metadata": {},
   "outputs": [
    {
     "data": {
      "image/png": "[encoded data removed]",
      "text/plain": [
       "plot without title"
      ]
     },
     "metadata": {
      "image/png": {
       "height": 420,
       "width": 420
      }
     },
     "output_type": "display_data"
    }
   ],
   "source": [
    "ggboxplot(PTSD_data, x=\"Therapy\", y=\"PTSD_M\", color=\"Period\", add=\"point\")"
   ]
  },
  {
   "cell_type": "code",
   "execution_count": 587,
   "metadata": {},
   "outputs": [
    {
     "data": {
      "text/html": [
       "<table class=\"dataframe\">\n",
       "<caption>A tibble: 8 × 6</caption>\n",
       "<thead>\n",
       "\t<tr><th scope=col>Therapy</th><th scope=col>Period</th><th scope=col>PTSD_M</th><th scope=col>ID</th><th scope=col>is.outlier</th><th scope=col>is.extreme</th></tr>\n",
       "\t<tr><th scope=col>&lt;chr&gt;</th><th scope=col>&lt;chr&gt;</th><th scope=col>&lt;dbl&gt;</th><th scope=col>&lt;dbl&gt;</th><th scope=col>&lt;lgl&gt;</th><th scope=col>&lt;lgl&gt;</th></tr>\n",
       "</thead>\n",
       "<tbody>\n",
       "\t<tr><td>SC </td><td>Followup</td><td>34</td><td>37</td><td>TRUE</td><td>FALSE</td></tr>\n",
       "\t<tr><td>SC </td><td>Post    </td><td>35</td><td>37</td><td>TRUE</td><td> TRUE</td></tr>\n",
       "\t<tr><td>SC </td><td>Post    </td><td>10</td><td>39</td><td>TRUE</td><td>FALSE</td></tr>\n",
       "\t<tr><td>SC </td><td>Post    </td><td>27</td><td>41</td><td>TRUE</td><td>FALSE</td></tr>\n",
       "\t<tr><td>SC </td><td>Pre     </td><td>12</td><td>31</td><td>TRUE</td><td>FALSE</td></tr>\n",
       "\t<tr><td>SC </td><td>Pre     </td><td>38</td><td>37</td><td>TRUE</td><td>FALSE</td></tr>\n",
       "\t<tr><td>SC </td><td>Pre     </td><td>34</td><td>41</td><td>TRUE</td><td>FALSE</td></tr>\n",
       "\t<tr><td>SIT</td><td>Followup</td><td>39</td><td>14</td><td>TRUE</td><td>FALSE</td></tr>\n",
       "</tbody>\n",
       "</table>\n"
      ],
      "text/latex": [
       "A tibble: 8 × 6\n",
       "\\begin{tabular}{llllll}\n",
       " Therapy & Period & PTSD\\_M & ID & is.outlier & is.extreme\\\\\n",
       " <chr> & <chr> & <dbl> & <dbl> & <lgl> & <lgl>\\\\\n",
       "\\hline\n",
       "\t SC  & Followup & 34 & 37 & TRUE & FALSE\\\\\n",
       "\t SC  & Post     & 35 & 37 & TRUE &  TRUE\\\\\n",
       "\t SC  & Post     & 10 & 39 & TRUE & FALSE\\\\\n",
       "\t SC  & Post     & 27 & 41 & TRUE & FALSE\\\\\n",
       "\t SC  & Pre      & 12 & 31 & TRUE & FALSE\\\\\n",
       "\t SC  & Pre      & 38 & 37 & TRUE & FALSE\\\\\n",
       "\t SC  & Pre      & 34 & 41 & TRUE & FALSE\\\\\n",
       "\t SIT & Followup & 39 & 14 & TRUE & FALSE\\\\\n",
       "\\end{tabular}\n"
      ],
      "text/markdown": [
       "\n",
       "A tibble: 8 × 6\n",
       "\n",
       "| Therapy &lt;chr&gt; | Period &lt;chr&gt; | PTSD_M &lt;dbl&gt; | ID &lt;dbl&gt; | is.outlier &lt;lgl&gt; | is.extreme &lt;lgl&gt; |\n",
       "|---|---|---|---|---|---|\n",
       "| SC  | Followup | 34 | 37 | TRUE | FALSE |\n",
       "| SC  | Post     | 35 | 37 | TRUE |  TRUE |\n",
       "| SC  | Post     | 10 | 39 | TRUE | FALSE |\n",
       "| SC  | Post     | 27 | 41 | TRUE | FALSE |\n",
       "| SC  | Pre      | 12 | 31 | TRUE | FALSE |\n",
       "| SC  | Pre      | 38 | 37 | TRUE | FALSE |\n",
       "| SC  | Pre      | 34 | 41 | TRUE | FALSE |\n",
       "| SIT | Followup | 39 | 14 | TRUE | FALSE |\n",
       "\n"
      ],
      "text/plain": [
       "  Therapy Period   PTSD_M ID is.outlier is.extreme\n",
       "1 SC      Followup 34     37 TRUE       FALSE     \n",
       "2 SC      Post     35     37 TRUE        TRUE     \n",
       "3 SC      Post     10     39 TRUE       FALSE     \n",
       "4 SC      Post     27     41 TRUE       FALSE     \n",
       "5 SC      Pre      12     31 TRUE       FALSE     \n",
       "6 SC      Pre      38     37 TRUE       FALSE     \n",
       "7 SC      Pre      34     41 TRUE       FALSE     \n",
       "8 SIT     Followup 39     14 TRUE       FALSE     "
      ]
     },
     "metadata": {},
     "output_type": "display_data"
    }
   ],
   "source": [
    "PTSD_data %>% group_by(Therapy,Period) %>% identify_outliers(PTSD_M)"
   ]
  },
  {
   "cell_type": "code",
   "execution_count": 588,
   "metadata": {
    "scrolled": false
   },
   "outputs": [
    {
     "data": {
      "text/html": [
       "<table class=\"dataframe\">\n",
       "<caption>A data.frame: 134 × 4</caption>\n",
       "<thead>\n",
       "\t<tr><th></th><th scope=col>Therapy</th><th scope=col>Period</th><th scope=col>PTSD_M</th><th scope=col>ID</th></tr>\n",
       "\t<tr><th></th><th scope=col>&lt;chr&gt;</th><th scope=col>&lt;chr&gt;</th><th scope=col>&lt;dbl&gt;</th><th scope=col>&lt;dbl&gt;</th></tr>\n",
       "</thead>\n",
       "<tbody>\n",
       "\t<tr><th scope=row>1</th><td>SIT</td><td>Pre </td><td>19</td><td> 1</td></tr>\n",
       "\t<tr><th scope=row>2</th><td>SIT</td><td>Pre </td><td>28</td><td> 2</td></tr>\n",
       "\t<tr><th scope=row>3</th><td>SIT</td><td>Pre </td><td>18</td><td> 3</td></tr>\n",
       "\t<tr><th scope=row>4</th><td>SIT</td><td>Pre </td><td>23</td><td> 4</td></tr>\n",
       "\t<tr><th scope=row>5</th><td>SIT</td><td>Pre </td><td>21</td><td> 5</td></tr>\n",
       "\t<tr><th scope=row>6</th><td>SIT</td><td>Pre </td><td>24</td><td> 6</td></tr>\n",
       "\t<tr><th scope=row>7</th><td>SIT</td><td>Pre </td><td>26</td><td> 7</td></tr>\n",
       "\t<tr><th scope=row>8</th><td>SIT</td><td>Pre </td><td>15</td><td> 8</td></tr>\n",
       "\t<tr><th scope=row>9</th><td>SIT</td><td>Pre </td><td>18</td><td> 9</td></tr>\n",
       "\t<tr><th scope=row>10</th><td>SIT</td><td>Pre </td><td>34</td><td>10</td></tr>\n",
       "\t<tr><th scope=row>11</th><td>SIT</td><td>Pre </td><td>20</td><td>11</td></tr>\n",
       "\t<tr><th scope=row>12</th><td>SIT</td><td>Pre </td><td>34</td><td>12</td></tr>\n",
       "\t<tr><th scope=row>13</th><td>SIT</td><td>Pre </td><td>29</td><td>13</td></tr>\n",
       "\t<tr><th scope=row>14</th><td>SIT</td><td>Pre </td><td>33</td><td>14</td></tr>\n",
       "\t<tr><th scope=row>15</th><td>SIT</td><td>Pre </td><td>22</td><td>15</td></tr>\n",
       "\t<tr><th scope=row>16</th><td>SIT</td><td>Post</td><td> 6</td><td> 1</td></tr>\n",
       "\t<tr><th scope=row>17</th><td>SIT</td><td>Post</td><td>14</td><td> 2</td></tr>\n",
       "\t<tr><th scope=row>18</th><td>SIT</td><td>Post</td><td> 6</td><td> 3</td></tr>\n",
       "\t<tr><th scope=row>19</th><td>SIT</td><td>Post</td><td> 6</td><td> 4</td></tr>\n",
       "\t<tr><th scope=row>20</th><td>SIT</td><td>Post</td><td> 6</td><td> 5</td></tr>\n",
       "\t<tr><th scope=row>21</th><td>SIT</td><td>Post</td><td>10</td><td> 6</td></tr>\n",
       "\t<tr><th scope=row>22</th><td>SIT</td><td>Post</td><td>10</td><td> 7</td></tr>\n",
       "\t<tr><th scope=row>23</th><td>SIT</td><td>Post</td><td> 6</td><td> 8</td></tr>\n",
       "\t<tr><th scope=row>24</th><td>SIT</td><td>Post</td><td> 8</td><td> 9</td></tr>\n",
       "\t<tr><th scope=row>25</th><td>SIT</td><td>Post</td><td>13</td><td>10</td></tr>\n",
       "\t<tr><th scope=row>26</th><td>SIT</td><td>Post</td><td>10</td><td>11</td></tr>\n",
       "\t<tr><th scope=row>27</th><td>SIT</td><td>Post</td><td>10</td><td>12</td></tr>\n",
       "\t<tr><th scope=row>28</th><td>SIT</td><td>Post</td><td>16</td><td>13</td></tr>\n",
       "\t<tr><th scope=row>29</th><td>SIT</td><td>Post</td><td>19</td><td>14</td></tr>\n",
       "\t<tr><th scope=row>30</th><td>SIT</td><td>Post</td><td> 7</td><td>15</td></tr>\n",
       "\t<tr><th scope=row>...</th><td>...</td><td>...</td><td>...</td><td>...</td></tr>\n",
       "\t<tr><th scope=row>105</th><td>SC</td><td>Pre     </td><td>26</td><td>45</td></tr>\n",
       "\t<tr><th scope=row>106</th><td>SC</td><td>Post    </td><td>14</td><td>31</td></tr>\n",
       "\t<tr><th scope=row>107</th><td>SC</td><td>Post    </td><td>18</td><td>32</td></tr>\n",
       "\t<tr><th scope=row>108</th><td>SC</td><td>Post    </td><td>19</td><td>33</td></tr>\n",
       "\t<tr><th scope=row>109</th><td>SC</td><td>Post    </td><td>21</td><td>34</td></tr>\n",
       "\t<tr><th scope=row>110</th><td>SC</td><td>Post    </td><td>20</td><td>35</td></tr>\n",
       "\t<tr><th scope=row>111</th><td>SC</td><td>Post    </td><td>20</td><td>36</td></tr>\n",
       "\t<tr><th scope=row>113</th><td>SC</td><td>Post    </td><td>22</td><td>38</td></tr>\n",
       "\t<tr><th scope=row>114</th><td>SC</td><td>Post    </td><td>10</td><td>39</td></tr>\n",
       "\t<tr><th scope=row>115</th><td>SC</td><td>Post    </td><td>19</td><td>40</td></tr>\n",
       "\t<tr><th scope=row>116</th><td>SC</td><td>Post    </td><td>27</td><td>41</td></tr>\n",
       "\t<tr><th scope=row>117</th><td>SC</td><td>Post    </td><td>15</td><td>42</td></tr>\n",
       "\t<tr><th scope=row>118</th><td>SC</td><td>Post    </td><td>18</td><td>43</td></tr>\n",
       "\t<tr><th scope=row>119</th><td>SC</td><td>Post    </td><td>21</td><td>44</td></tr>\n",
       "\t<tr><th scope=row>120</th><td>SC</td><td>Post    </td><td>18</td><td>45</td></tr>\n",
       "\t<tr><th scope=row>121</th><td>SC</td><td>Followup</td><td>18</td><td>31</td></tr>\n",
       "\t<tr><th scope=row>122</th><td>SC</td><td>Followup</td><td> 9</td><td>32</td></tr>\n",
       "\t<tr><th scope=row>123</th><td>SC</td><td>Followup</td><td>13</td><td>33</td></tr>\n",
       "\t<tr><th scope=row>124</th><td>SC</td><td>Followup</td><td>11</td><td>34</td></tr>\n",
       "\t<tr><th scope=row>125</th><td>SC</td><td>Followup</td><td>18</td><td>35</td></tr>\n",
       "\t<tr><th scope=row>126</th><td>SC</td><td>Followup</td><td>26</td><td>36</td></tr>\n",
       "\t<tr><th scope=row>127</th><td>SC</td><td>Followup</td><td>34</td><td>37</td></tr>\n",
       "\t<tr><th scope=row>128</th><td>SC</td><td>Followup</td><td>22</td><td>38</td></tr>\n",
       "\t<tr><th scope=row>129</th><td>SC</td><td>Followup</td><td> 8</td><td>39</td></tr>\n",
       "\t<tr><th scope=row>130</th><td>SC</td><td>Followup</td><td>19</td><td>40</td></tr>\n",
       "\t<tr><th scope=row>131</th><td>SC</td><td>Followup</td><td>23</td><td>41</td></tr>\n",
       "\t<tr><th scope=row>132</th><td>SC</td><td>Followup</td><td>12</td><td>42</td></tr>\n",
       "\t<tr><th scope=row>133</th><td>SC</td><td>Followup</td><td>13</td><td>43</td></tr>\n",
       "\t<tr><th scope=row>134</th><td>SC</td><td>Followup</td><td>19</td><td>44</td></tr>\n",
       "\t<tr><th scope=row>135</th><td>SC</td><td>Followup</td><td>13</td><td>45</td></tr>\n",
       "</tbody>\n",
       "</table>\n"
      ],
      "text/latex": [
       "A data.frame: 134 × 4\n",
       "\\begin{tabular}{r|llll}\n",
       "  & Therapy & Period & PTSD\\_M & ID\\\\\n",
       "  & <chr> & <chr> & <dbl> & <dbl>\\\\\n",
       "\\hline\n",
       "\t1 & SIT & Pre  & 19 &  1\\\\\n",
       "\t2 & SIT & Pre  & 28 &  2\\\\\n",
       "\t3 & SIT & Pre  & 18 &  3\\\\\n",
       "\t4 & SIT & Pre  & 23 &  4\\\\\n",
       "\t5 & SIT & Pre  & 21 &  5\\\\\n",
       "\t6 & SIT & Pre  & 24 &  6\\\\\n",
       "\t7 & SIT & Pre  & 26 &  7\\\\\n",
       "\t8 & SIT & Pre  & 15 &  8\\\\\n",
       "\t9 & SIT & Pre  & 18 &  9\\\\\n",
       "\t10 & SIT & Pre  & 34 & 10\\\\\n",
       "\t11 & SIT & Pre  & 20 & 11\\\\\n",
       "\t12 & SIT & Pre  & 34 & 12\\\\\n",
       "\t13 & SIT & Pre  & 29 & 13\\\\\n",
       "\t14 & SIT & Pre  & 33 & 14\\\\\n",
       "\t15 & SIT & Pre  & 22 & 15\\\\\n",
       "\t16 & SIT & Post &  6 &  1\\\\\n",
       "\t17 & SIT & Post & 14 &  2\\\\\n",
       "\t18 & SIT & Post &  6 &  3\\\\\n",
       "\t19 & SIT & Post &  6 &  4\\\\\n",
       "\t20 & SIT & Post &  6 &  5\\\\\n",
       "\t21 & SIT & Post & 10 &  6\\\\\n",
       "\t22 & SIT & Post & 10 &  7\\\\\n",
       "\t23 & SIT & Post &  6 &  8\\\\\n",
       "\t24 & SIT & Post &  8 &  9\\\\\n",
       "\t25 & SIT & Post & 13 & 10\\\\\n",
       "\t26 & SIT & Post & 10 & 11\\\\\n",
       "\t27 & SIT & Post & 10 & 12\\\\\n",
       "\t28 & SIT & Post & 16 & 13\\\\\n",
       "\t29 & SIT & Post & 19 & 14\\\\\n",
       "\t30 & SIT & Post &  7 & 15\\\\\n",
       "\t... & ... & ... & ... & ...\\\\\n",
       "\t105 & SC & Pre      & 26 & 45\\\\\n",
       "\t106 & SC & Post     & 14 & 31\\\\\n",
       "\t107 & SC & Post     & 18 & 32\\\\\n",
       "\t108 & SC & Post     & 19 & 33\\\\\n",
       "\t109 & SC & Post     & 21 & 34\\\\\n",
       "\t110 & SC & Post     & 20 & 35\\\\\n",
       "\t111 & SC & Post     & 20 & 36\\\\\n",
       "\t113 & SC & Post     & 22 & 38\\\\\n",
       "\t114 & SC & Post     & 10 & 39\\\\\n",
       "\t115 & SC & Post     & 19 & 40\\\\\n",
       "\t116 & SC & Post     & 27 & 41\\\\\n",
       "\t117 & SC & Post     & 15 & 42\\\\\n",
       "\t118 & SC & Post     & 18 & 43\\\\\n",
       "\t119 & SC & Post     & 21 & 44\\\\\n",
       "\t120 & SC & Post     & 18 & 45\\\\\n",
       "\t121 & SC & Followup & 18 & 31\\\\\n",
       "\t122 & SC & Followup &  9 & 32\\\\\n",
       "\t123 & SC & Followup & 13 & 33\\\\\n",
       "\t124 & SC & Followup & 11 & 34\\\\\n",
       "\t125 & SC & Followup & 18 & 35\\\\\n",
       "\t126 & SC & Followup & 26 & 36\\\\\n",
       "\t127 & SC & Followup & 34 & 37\\\\\n",
       "\t128 & SC & Followup & 22 & 38\\\\\n",
       "\t129 & SC & Followup &  8 & 39\\\\\n",
       "\t130 & SC & Followup & 19 & 40\\\\\n",
       "\t131 & SC & Followup & 23 & 41\\\\\n",
       "\t132 & SC & Followup & 12 & 42\\\\\n",
       "\t133 & SC & Followup & 13 & 43\\\\\n",
       "\t134 & SC & Followup & 19 & 44\\\\\n",
       "\t135 & SC & Followup & 13 & 45\\\\\n",
       "\\end{tabular}\n"
      ],
      "text/markdown": [
       "\n",
       "A data.frame: 134 × 4\n",
       "\n",
       "| <!--/--> | Therapy &lt;chr&gt; | Period &lt;chr&gt; | PTSD_M &lt;dbl&gt; | ID &lt;dbl&gt; |\n",
       "|---|---|---|---|---|\n",
       "| 1 | SIT | Pre  | 19 |  1 |\n",
       "| 2 | SIT | Pre  | 28 |  2 |\n",
       "| 3 | SIT | Pre  | 18 |  3 |\n",
       "| 4 | SIT | Pre  | 23 |  4 |\n",
       "| 5 | SIT | Pre  | 21 |  5 |\n",
       "| 6 | SIT | Pre  | 24 |  6 |\n",
       "| 7 | SIT | Pre  | 26 |  7 |\n",
       "| 8 | SIT | Pre  | 15 |  8 |\n",
       "| 9 | SIT | Pre  | 18 |  9 |\n",
       "| 10 | SIT | Pre  | 34 | 10 |\n",
       "| 11 | SIT | Pre  | 20 | 11 |\n",
       "| 12 | SIT | Pre  | 34 | 12 |\n",
       "| 13 | SIT | Pre  | 29 | 13 |\n",
       "| 14 | SIT | Pre  | 33 | 14 |\n",
       "| 15 | SIT | Pre  | 22 | 15 |\n",
       "| 16 | SIT | Post |  6 |  1 |\n",
       "| 17 | SIT | Post | 14 |  2 |\n",
       "| 18 | SIT | Post |  6 |  3 |\n",
       "| 19 | SIT | Post |  6 |  4 |\n",
       "| 20 | SIT | Post |  6 |  5 |\n",
       "| 21 | SIT | Post | 10 |  6 |\n",
       "| 22 | SIT | Post | 10 |  7 |\n",
       "| 23 | SIT | Post |  6 |  8 |\n",
       "| 24 | SIT | Post |  8 |  9 |\n",
       "| 25 | SIT | Post | 13 | 10 |\n",
       "| 26 | SIT | Post | 10 | 11 |\n",
       "| 27 | SIT | Post | 10 | 12 |\n",
       "| 28 | SIT | Post | 16 | 13 |\n",
       "| 29 | SIT | Post | 19 | 14 |\n",
       "| 30 | SIT | Post |  7 | 15 |\n",
       "| ... | ... | ... | ... | ... |\n",
       "| 105 | SC | Pre      | 26 | 45 |\n",
       "| 106 | SC | Post     | 14 | 31 |\n",
       "| 107 | SC | Post     | 18 | 32 |\n",
       "| 108 | SC | Post     | 19 | 33 |\n",
       "| 109 | SC | Post     | 21 | 34 |\n",
       "| 110 | SC | Post     | 20 | 35 |\n",
       "| 111 | SC | Post     | 20 | 36 |\n",
       "| 113 | SC | Post     | 22 | 38 |\n",
       "| 114 | SC | Post     | 10 | 39 |\n",
       "| 115 | SC | Post     | 19 | 40 |\n",
       "| 116 | SC | Post     | 27 | 41 |\n",
       "| 117 | SC | Post     | 15 | 42 |\n",
       "| 118 | SC | Post     | 18 | 43 |\n",
       "| 119 | SC | Post     | 21 | 44 |\n",
       "| 120 | SC | Post     | 18 | 45 |\n",
       "| 121 | SC | Followup | 18 | 31 |\n",
       "| 122 | SC | Followup |  9 | 32 |\n",
       "| 123 | SC | Followup | 13 | 33 |\n",
       "| 124 | SC | Followup | 11 | 34 |\n",
       "| 125 | SC | Followup | 18 | 35 |\n",
       "| 126 | SC | Followup | 26 | 36 |\n",
       "| 127 | SC | Followup | 34 | 37 |\n",
       "| 128 | SC | Followup | 22 | 38 |\n",
       "| 129 | SC | Followup |  8 | 39 |\n",
       "| 130 | SC | Followup | 19 | 40 |\n",
       "| 131 | SC | Followup | 23 | 41 |\n",
       "| 132 | SC | Followup | 12 | 42 |\n",
       "| 133 | SC | Followup | 13 | 43 |\n",
       "| 134 | SC | Followup | 19 | 44 |\n",
       "| 135 | SC | Followup | 13 | 45 |\n",
       "\n"
      ],
      "text/plain": [
       "    Therapy Period   PTSD_M ID \n",
       "1   SIT     Pre      19      1 \n",
       "2   SIT     Pre      28      2 \n",
       "3   SIT     Pre      18      3 \n",
       "4   SIT     Pre      23      4 \n",
       "5   SIT     Pre      21      5 \n",
       "6   SIT     Pre      24      6 \n",
       "7   SIT     Pre      26      7 \n",
       "8   SIT     Pre      15      8 \n",
       "9   SIT     Pre      18      9 \n",
       "10  SIT     Pre      34     10 \n",
       "11  SIT     Pre      20     11 \n",
       "12  SIT     Pre      34     12 \n",
       "13  SIT     Pre      29     13 \n",
       "14  SIT     Pre      33     14 \n",
       "15  SIT     Pre      22     15 \n",
       "16  SIT     Post      6      1 \n",
       "17  SIT     Post     14      2 \n",
       "18  SIT     Post      6      3 \n",
       "19  SIT     Post      6      4 \n",
       "20  SIT     Post      6      5 \n",
       "21  SIT     Post     10      6 \n",
       "22  SIT     Post     10      7 \n",
       "23  SIT     Post      6      8 \n",
       "24  SIT     Post      8      9 \n",
       "25  SIT     Post     13     10 \n",
       "26  SIT     Post     10     11 \n",
       "27  SIT     Post     10     12 \n",
       "28  SIT     Post     16     13 \n",
       "29  SIT     Post     19     14 \n",
       "30  SIT     Post      7     15 \n",
       "... ...     ...      ...    ...\n",
       "105 SC      Pre      26     45 \n",
       "106 SC      Post     14     31 \n",
       "107 SC      Post     18     32 \n",
       "108 SC      Post     19     33 \n",
       "109 SC      Post     21     34 \n",
       "110 SC      Post     20     35 \n",
       "111 SC      Post     20     36 \n",
       "113 SC      Post     22     38 \n",
       "114 SC      Post     10     39 \n",
       "115 SC      Post     19     40 \n",
       "116 SC      Post     27     41 \n",
       "117 SC      Post     15     42 \n",
       "118 SC      Post     18     43 \n",
       "119 SC      Post     21     44 \n",
       "120 SC      Post     18     45 \n",
       "121 SC      Followup 18     31 \n",
       "122 SC      Followup  9     32 \n",
       "123 SC      Followup 13     33 \n",
       "124 SC      Followup 11     34 \n",
       "125 SC      Followup 18     35 \n",
       "126 SC      Followup 26     36 \n",
       "127 SC      Followup 34     37 \n",
       "128 SC      Followup 22     38 \n",
       "129 SC      Followup  8     39 \n",
       "130 SC      Followup 19     40 \n",
       "131 SC      Followup 23     41 \n",
       "132 SC      Followup 12     42 \n",
       "133 SC      Followup 13     43 \n",
       "134 SC      Followup 19     44 \n",
       "135 SC      Followup 13     45 "
      ]
     },
     "metadata": {},
     "output_type": "display_data"
    }
   ],
   "source": [
    "PTSD_data <- PTSD_data[-c(112),]\n",
    "\n",
    "PTSD_data"
   ]
  },
  {
   "cell_type": "markdown",
   "metadata": {},
   "source": [
    " فقط یک مقدار اکستریم داریم پس فقط آن مورد را حذف کردیم"
   ]
  },
  {
   "cell_type": "code",
   "execution_count": 589,
   "metadata": {},
   "outputs": [
    {
     "data": {
      "image/png": "[encoded data removed]",
      "text/plain": [
       "plot without title"
      ]
     },
     "metadata": {
      "image/png": {
       "height": 420,
       "width": 420
      }
     },
     "output_type": "display_data"
    }
   ],
   "source": [
    "ggqqplot(PTSD_data,\"PTSD_M\")"
   ]
  },
  {
   "cell_type": "code",
   "execution_count": 590,
   "metadata": {},
   "outputs": [
    {
     "data": {
      "image/png": "[encoded data removed]",
      "text/plain": [
       "plot without title"
      ]
     },
     "metadata": {
      "image/png": {
       "height": 420,
       "width": 420
      }
     },
     "output_type": "display_data"
    }
   ],
   "source": [
    "ggqqplot(PTSD_data,\"PTSD_M\") + facet_grid(Therapy ~ Period)"
   ]
  },
  {
   "cell_type": "code",
   "execution_count": 591,
   "metadata": {
    "scrolled": true
   },
   "outputs": [
    {
     "data": {
      "text/html": [
       "<table class=\"dataframe\">\n",
       "<caption>A tibble: 9 × 5</caption>\n",
       "<thead>\n",
       "\t<tr><th scope=col>Therapy</th><th scope=col>Period</th><th scope=col>variable</th><th scope=col>statistic</th><th scope=col>p</th></tr>\n",
       "\t<tr><th scope=col>&lt;chr&gt;</th><th scope=col>&lt;chr&gt;</th><th scope=col>&lt;chr&gt;</th><th scope=col>&lt;dbl&gt;</th><th scope=col>&lt;dbl&gt;</th></tr>\n",
       "</thead>\n",
       "<tbody>\n",
       "\t<tr><td>PE </td><td>Followup</td><td>PTSD_M</td><td>0.9066639</td><td>0.12036543</td></tr>\n",
       "\t<tr><td>PE </td><td>Post    </td><td>PTSD_M</td><td>0.9427547</td><td>0.41827489</td></tr>\n",
       "\t<tr><td>PE </td><td>Pre     </td><td>PTSD_M</td><td>0.9433104</td><td>0.42582430</td></tr>\n",
       "\t<tr><td>SC </td><td>Followup</td><td>PTSD_M</td><td>0.9320402</td><td>0.29265792</td></tr>\n",
       "\t<tr><td>SC </td><td>Post    </td><td>PTSD_M</td><td>0.9461264</td><td>0.50233576</td></tr>\n",
       "\t<tr><td>SC </td><td>Pre     </td><td>PTSD_M</td><td>0.9565449</td><td>0.63261887</td></tr>\n",
       "\t<tr><td>SIT</td><td>Followup</td><td>PTSD_M</td><td>0.8594653</td><td>0.02370838</td></tr>\n",
       "\t<tr><td>SIT</td><td>Post    </td><td>PTSD_M</td><td>0.8607188</td><td>0.02471639</td></tr>\n",
       "\t<tr><td>SIT</td><td>Pre     </td><td>PTSD_M</td><td>0.9334535</td><td>0.30710484</td></tr>\n",
       "</tbody>\n",
       "</table>\n"
      ],
      "text/latex": [
       "A tibble: 9 × 5\n",
       "\\begin{tabular}{lllll}\n",
       " Therapy & Period & variable & statistic & p\\\\\n",
       " <chr> & <chr> & <chr> & <dbl> & <dbl>\\\\\n",
       "\\hline\n",
       "\t PE  & Followup & PTSD\\_M & 0.9066639 & 0.12036543\\\\\n",
       "\t PE  & Post     & PTSD\\_M & 0.9427547 & 0.41827489\\\\\n",
       "\t PE  & Pre      & PTSD\\_M & 0.9433104 & 0.42582430\\\\\n",
       "\t SC  & Followup & PTSD\\_M & 0.9320402 & 0.29265792\\\\\n",
       "\t SC  & Post     & PTSD\\_M & 0.9461264 & 0.50233576\\\\\n",
       "\t SC  & Pre      & PTSD\\_M & 0.9565449 & 0.63261887\\\\\n",
       "\t SIT & Followup & PTSD\\_M & 0.8594653 & 0.02370838\\\\\n",
       "\t SIT & Post     & PTSD\\_M & 0.8607188 & 0.02471639\\\\\n",
       "\t SIT & Pre      & PTSD\\_M & 0.9334535 & 0.30710484\\\\\n",
       "\\end{tabular}\n"
      ],
      "text/markdown": [
       "\n",
       "A tibble: 9 × 5\n",
       "\n",
       "| Therapy &lt;chr&gt; | Period &lt;chr&gt; | variable &lt;chr&gt; | statistic &lt;dbl&gt; | p &lt;dbl&gt; |\n",
       "|---|---|---|---|---|\n",
       "| PE  | Followup | PTSD_M | 0.9066639 | 0.12036543 |\n",
       "| PE  | Post     | PTSD_M | 0.9427547 | 0.41827489 |\n",
       "| PE  | Pre      | PTSD_M | 0.9433104 | 0.42582430 |\n",
       "| SC  | Followup | PTSD_M | 0.9320402 | 0.29265792 |\n",
       "| SC  | Post     | PTSD_M | 0.9461264 | 0.50233576 |\n",
       "| SC  | Pre      | PTSD_M | 0.9565449 | 0.63261887 |\n",
       "| SIT | Followup | PTSD_M | 0.8594653 | 0.02370838 |\n",
       "| SIT | Post     | PTSD_M | 0.8607188 | 0.02471639 |\n",
       "| SIT | Pre      | PTSD_M | 0.9334535 | 0.30710484 |\n",
       "\n"
      ],
      "text/plain": [
       "  Therapy Period   variable statistic p         \n",
       "1 PE      Followup PTSD_M   0.9066639 0.12036543\n",
       "2 PE      Post     PTSD_M   0.9427547 0.41827489\n",
       "3 PE      Pre      PTSD_M   0.9433104 0.42582430\n",
       "4 SC      Followup PTSD_M   0.9320402 0.29265792\n",
       "5 SC      Post     PTSD_M   0.9461264 0.50233576\n",
       "6 SC      Pre      PTSD_M   0.9565449 0.63261887\n",
       "7 SIT     Followup PTSD_M   0.8594653 0.02370838\n",
       "8 SIT     Post     PTSD_M   0.8607188 0.02471639\n",
       "9 SIT     Pre      PTSD_M   0.9334535 0.30710484"
      ]
     },
     "metadata": {},
     "output_type": "display_data"
    }
   ],
   "source": [
    "PTSD_data %>% group_by(Therapy,Period) %>% shapiro_test(PTSD_M)"
   ]
  },
  {
   "cell_type": "markdown",
   "metadata": {},
   "source": [
    "می بینیم که به جز در حالت درمان اس آی تی و در مرحله پست و فالوآپ در همه حالات مقدار پی بزرگتر از 0.05 است و در نتیجه فقط برای آن حالات فرض نرمالیتی برقرار است. اما وجود دو پی کوچک می تواند مارا به سمت آزمونهای ناپارامتریک ببرد. در اینجا بافرض نرمالیتی ادامه تحلیل را پیش میبریم. در غیر این صورت باید سمت آزمونهایی مثل فریدمن برویم "
   ]
  },
  {
   "cell_type": "code",
   "execution_count": 593,
   "metadata": {},
   "outputs": [
    {
     "data": {
      "text/html": [
       "<table class=\"dataframe\">\n",
       "<caption>A tibble: 1 × 4</caption>\n",
       "<thead>\n",
       "\t<tr><th scope=col>df1</th><th scope=col>df2</th><th scope=col>statistic</th><th scope=col>p</th></tr>\n",
       "\t<tr><th scope=col>&lt;int&gt;</th><th scope=col>&lt;int&gt;</th><th scope=col>&lt;dbl&gt;</th><th scope=col>&lt;dbl&gt;</th></tr>\n",
       "</thead>\n",
       "<tbody>\n",
       "\t<tr><td>8</td><td>125</td><td>2.37206</td><td>0.0206107</td></tr>\n",
       "</tbody>\n",
       "</table>\n"
      ],
      "text/latex": [
       "A tibble: 1 × 4\n",
       "\\begin{tabular}{llll}\n",
       " df1 & df2 & statistic & p\\\\\n",
       " <int> & <int> & <dbl> & <dbl>\\\\\n",
       "\\hline\n",
       "\t 8 & 125 & 2.37206 & 0.0206107\\\\\n",
       "\\end{tabular}\n"
      ],
      "text/markdown": [
       "\n",
       "A tibble: 1 × 4\n",
       "\n",
       "| df1 &lt;int&gt; | df2 &lt;int&gt; | statistic &lt;dbl&gt; | p &lt;dbl&gt; |\n",
       "|---|---|---|---|\n",
       "| 8 | 125 | 2.37206 | 0.0206107 |\n",
       "\n"
      ],
      "text/plain": [
       "  df1 df2 statistic p        \n",
       "1 8   125 2.37206   0.0206107"
      ]
     },
     "metadata": {},
     "output_type": "display_data"
    }
   ],
   "source": [
    "PTSD_data %>% levene_test(PTSD_M ~ Period*Therapy)"
   ]
  },
  {
   "cell_type": "markdown",
   "metadata": {},
   "source": [
    "نتیجه آزمون لیون از همگن نبودن واریانس ها خبر می دهد که همین امر لزوم استفاده از آزمونهای ناپارامتریک را در پی دارد اما با توجه به درخواست صورت سوال فرض را بر همگن بودن میگیریم"
   ]
  },
  {
   "cell_type": "code",
   "execution_count": 597,
   "metadata": {},
   "outputs": [],
   "source": [
    "library(rstatix)"
   ]
  },
  {
   "cell_type": "code",
   "execution_count": 598,
   "metadata": {},
   "outputs": [],
   "source": [
    "model <- PTSD_M ~ Therapy + Period + Therapy:Period"
   ]
  },
  {
   "cell_type": "code",
   "execution_count": 599,
   "metadata": {},
   "outputs": [
    {
     "data": {
      "text/html": [
       "<table class=\"dataframe\">\n",
       "<caption>A anova_test: 3 × 7</caption>\n",
       "<thead>\n",
       "\t<tr><th></th><th scope=col>Effect</th><th scope=col>DFn</th><th scope=col>DFd</th><th scope=col>F</th><th scope=col>p</th><th scope=col>p&lt;.05</th><th scope=col>ges</th></tr>\n",
       "\t<tr><th></th><th scope=col>&lt;chr&gt;</th><th scope=col>&lt;dbl&gt;</th><th scope=col>&lt;dbl&gt;</th><th scope=col>&lt;dbl&gt;</th><th scope=col>&lt;dbl&gt;</th><th scope=col>&lt;chr&gt;</th><th scope=col>&lt;dbl&gt;</th></tr>\n",
       "</thead>\n",
       "<tbody>\n",
       "\t<tr><th scope=row>1</th><td>Therapy       </td><td>2</td><td>125</td><td> 6.297</td><td>2.00e-03</td><td>*</td><td>0.092</td></tr>\n",
       "\t<tr><th scope=row>2</th><td>Period        </td><td>2</td><td>125</td><td>39.852</td><td>4.09e-14</td><td>*</td><td>0.389</td></tr>\n",
       "\t<tr><th scope=row>3</th><td>Therapy:Period</td><td>4</td><td>125</td><td> 1.820</td><td>1.29e-01</td><td> </td><td>0.055</td></tr>\n",
       "</tbody>\n",
       "</table>\n"
      ],
      "text/latex": [
       "A anova\\_test: 3 × 7\n",
       "\\begin{tabular}{r|lllllll}\n",
       "  & Effect & DFn & DFd & F & p & p<.05 & ges\\\\\n",
       "  & <chr> & <dbl> & <dbl> & <dbl> & <dbl> & <chr> & <dbl>\\\\\n",
       "\\hline\n",
       "\t1 & Therapy        & 2 & 125 &  6.297 & 2.00e-03 & * & 0.092\\\\\n",
       "\t2 & Period         & 2 & 125 & 39.852 & 4.09e-14 & * & 0.389\\\\\n",
       "\t3 & Therapy:Period & 4 & 125 &  1.820 & 1.29e-01 &   & 0.055\\\\\n",
       "\\end{tabular}\n"
      ],
      "text/markdown": [
       "\n",
       "A anova_test: 3 × 7\n",
       "\n",
       "| <!--/--> | Effect &lt;chr&gt; | DFn &lt;dbl&gt; | DFd &lt;dbl&gt; | F &lt;dbl&gt; | p &lt;dbl&gt; | p&lt;.05 &lt;chr&gt; | ges &lt;dbl&gt; |\n",
       "|---|---|---|---|---|---|---|---|\n",
       "| 1 | Therapy        | 2 | 125 |  6.297 | 2.00e-03 | * | 0.092 |\n",
       "| 2 | Period         | 2 | 125 | 39.852 | 4.09e-14 | * | 0.389 |\n",
       "| 3 | Therapy:Period | 4 | 125 |  1.820 | 1.29e-01 | <!----> | 0.055 |\n",
       "\n"
      ],
      "text/plain": [
       "  Effect         DFn DFd F      p        p<.05 ges  \n",
       "1 Therapy        2   125  6.297 2.00e-03 *     0.092\n",
       "2 Period         2   125 39.852 4.09e-14 *     0.389\n",
       "3 Therapy:Period 4   125  1.820 1.29e-01       0.055"
      ]
     },
     "metadata": {},
     "output_type": "display_data"
    }
   ],
   "source": [
    "\n",
    "Rm_results = anova_test(data = PTSD_data,dv = PTSD_M, wid = ID, within = c(Period,Therapy),formula = model)\n",
    "Rm_results\n"
   ]
  },
  {
   "cell_type": "markdown",
   "metadata": {},
   "source": [
    ". با فرض ویدین سابجکت بودن نوع درمان، از آنوای ریپیتد استفاده میکنیم نتایج به دست آمده فرض صفر ما را رد می کند (در نتیجه انواع درمان بر بهبود اختلال پسارخداد تاثیر می گذارد)"
   ]
  },
  {
   "cell_type": "code",
   "execution_count": 530,
   "metadata": {},
   "outputs": [
    {
     "data": {
      "text/plain": [
       "    Effect               DFn             DFd            F         \n",
       " Length:3           Min.   :2.000   Min.   :125   Min.   : 1.820  \n",
       " Class :character   1st Qu.:2.000   1st Qu.:125   1st Qu.: 4.059  \n",
       " Mode  :character   Median :2.000   Median :125   Median : 6.297  \n",
       "                    Mean   :2.667   Mean   :125   Mean   :15.990  \n",
       "                    3rd Qu.:3.000   3rd Qu.:125   3rd Qu.:23.075  \n",
       "                    Max.   :4.000   Max.   :125   Max.   :39.852  \n",
       "       p              p<.05                ges        \n",
       " Min.   :0.00000   Length:3           Min.   :0.0550  \n",
       " 1st Qu.:0.00100   Class :character   1st Qu.:0.0735  \n",
       " Median :0.00200   Mode  :character   Median :0.0920  \n",
       " Mean   :0.04367                      Mean   :0.1787  \n",
       " 3rd Qu.:0.06550                      3rd Qu.:0.2405  \n",
       " Max.   :0.12900                      Max.   :0.3890  "
      ]
     },
     "metadata": {},
     "output_type": "display_data"
    }
   ],
   "source": [
    "summary(Rm_results)"
   ]
  },
  {
   "cell_type": "markdown",
   "metadata": {},
   "source": [
    "## PostHocTests"
   ]
  },
  {
   "cell_type": "code",
   "execution_count": 600,
   "metadata": {},
   "outputs": [
    {
     "data": {
      "text/html": [
       "<table class=\"dataframe\">\n",
       "<caption>A grouped_anova_test: 3 × 9</caption>\n",
       "<thead>\n",
       "\t<tr><th scope=col>Therapy</th><th scope=col>Effect</th><th scope=col>DFn</th><th scope=col>DFd</th><th scope=col>F</th><th scope=col>p</th><th scope=col>p&lt;.05</th><th scope=col>ges</th><th scope=col>p.adj</th></tr>\n",
       "\t<tr><th scope=col>&lt;chr&gt;</th><th scope=col>&lt;chr&gt;</th><th scope=col>&lt;dbl&gt;</th><th scope=col>&lt;dbl&gt;</th><th scope=col>&lt;dbl&gt;</th><th scope=col>&lt;dbl&gt;</th><th scope=col>&lt;chr&gt;</th><th scope=col>&lt;dbl&gt;</th><th scope=col>&lt;dbl&gt;</th></tr>\n",
       "</thead>\n",
       "<tbody>\n",
       "\t<tr><td>PE </td><td>Period</td><td>2</td><td>42</td><td>15.302</td><td>1.02e-05</td><td>*</td><td>0.422</td><td>3.06e-05</td></tr>\n",
       "\t<tr><td>SC </td><td>Period</td><td>2</td><td>41</td><td> 7.869</td><td>1.00e-03</td><td>*</td><td>0.277</td><td>3.00e-03</td></tr>\n",
       "\t<tr><td>SIT</td><td>Period</td><td>2</td><td>42</td><td>18.578</td><td>1.66e-06</td><td>*</td><td>0.469</td><td>4.98e-06</td></tr>\n",
       "</tbody>\n",
       "</table>\n"
      ],
      "text/latex": [
       "A grouped\\_anova\\_test: 3 × 9\n",
       "\\begin{tabular}{lllllllll}\n",
       " Therapy & Effect & DFn & DFd & F & p & p<.05 & ges & p.adj\\\\\n",
       " <chr> & <chr> & <dbl> & <dbl> & <dbl> & <dbl> & <chr> & <dbl> & <dbl>\\\\\n",
       "\\hline\n",
       "\t PE  & Period & 2 & 42 & 15.302 & 1.02e-05 & * & 0.422 & 3.06e-05\\\\\n",
       "\t SC  & Period & 2 & 41 &  7.869 & 1.00e-03 & * & 0.277 & 3.00e-03\\\\\n",
       "\t SIT & Period & 2 & 42 & 18.578 & 1.66e-06 & * & 0.469 & 4.98e-06\\\\\n",
       "\\end{tabular}\n"
      ],
      "text/markdown": [
       "\n",
       "A grouped_anova_test: 3 × 9\n",
       "\n",
       "| Therapy &lt;chr&gt; | Effect &lt;chr&gt; | DFn &lt;dbl&gt; | DFd &lt;dbl&gt; | F &lt;dbl&gt; | p &lt;dbl&gt; | p&lt;.05 &lt;chr&gt; | ges &lt;dbl&gt; | p.adj &lt;dbl&gt; |\n",
       "|---|---|---|---|---|---|---|---|---|\n",
       "| PE  | Period | 2 | 42 | 15.302 | 1.02e-05 | * | 0.422 | 3.06e-05 |\n",
       "| SC  | Period | 2 | 41 |  7.869 | 1.00e-03 | * | 0.277 | 3.00e-03 |\n",
       "| SIT | Period | 2 | 42 | 18.578 | 1.66e-06 | * | 0.469 | 4.98e-06 |\n",
       "\n"
      ],
      "text/plain": [
       "  Therapy Effect DFn DFd F      p        p<.05 ges   p.adj   \n",
       "1 PE      Period 2   42  15.302 1.02e-05 *     0.422 3.06e-05\n",
       "2 SC      Period 2   41   7.869 1.00e-03 *     0.277 3.00e-03\n",
       "3 SIT     Period 2   42  18.578 1.66e-06 *     0.469 4.98e-06"
      ]
     },
     "metadata": {},
     "output_type": "display_data"
    }
   ],
   "source": [
    "PTSD_data %>% group_by(Therapy) %>% anova_test(dv = PTSD_M, wid = ID, within = Period,formula = PTSD_M ~ Period ) %>% adjust_pvalue(method=\"bonferroni\")\n"
   ]
  },
  {
   "cell_type": "markdown",
   "metadata": {},
   "source": [
    "در هر سه حالت درمان فرض صفر رد می شود و تفاوت در معیار سنجش داریم"
   ]
  },
  {
   "cell_type": "code",
   "execution_count": 601,
   "metadata": {},
   "outputs": [],
   "source": [
    "library(tidyverse)\n",
    "library(rstatix)"
   ]
  },
  {
   "cell_type": "code",
   "execution_count": 603,
   "metadata": {},
   "outputs": [
    {
     "data": {
      "text/html": [
       "<table class=\"dataframe\">\n",
       "<caption>A rstatix_test: 9 × 10</caption>\n",
       "<thead>\n",
       "\t<tr><th></th><th scope=col>Therapy</th><th scope=col>.y.</th><th scope=col>group1</th><th scope=col>group2</th><th scope=col>n1</th><th scope=col>n2</th><th scope=col>p</th><th scope=col>p.signif</th><th scope=col>p.adj</th><th scope=col>p.adj.signif</th></tr>\n",
       "\t<tr><th></th><th scope=col>&lt;chr&gt;</th><th scope=col>&lt;chr&gt;</th><th scope=col>&lt;chr&gt;</th><th scope=col>&lt;chr&gt;</th><th scope=col>&lt;int&gt;</th><th scope=col>&lt;int&gt;</th><th scope=col>&lt;dbl&gt;</th><th scope=col>&lt;chr&gt;</th><th scope=col>&lt;dbl&gt;</th><th scope=col>&lt;chr&gt;</th></tr>\n",
       "</thead>\n",
       "<tbody>\n",
       "\t<tr><th scope=row>1</th><td>PE </td><td>PTSD_M</td><td>Followup</td><td>Post</td><td>15</td><td>15</td><td>2.27e-01</td><td>ns  </td><td>6.80e-01</td><td>ns  </td></tr>\n",
       "\t<tr><th scope=row>2</th><td>PE </td><td>PTSD_M</td><td>Followup</td><td>Pre </td><td>15</td><td>15</td><td>4.20e-06</td><td>****</td><td>1.26e-05</td><td>****</td></tr>\n",
       "\t<tr><th scope=row>3</th><td>PE </td><td>PTSD_M</td><td>Post    </td><td>Pre </td><td>15</td><td>15</td><td>2.11e-04</td><td>*** </td><td>6.32e-04</td><td>*** </td></tr>\n",
       "\t<tr><th scope=row>4</th><td>SC </td><td>PTSD_M</td><td>Followup</td><td>Post</td><td>15</td><td>14</td><td>4.98e-01</td><td>ns  </td><td>1.00e+00</td><td>ns  </td></tr>\n",
       "\t<tr><th scope=row>5</th><td>SC </td><td>PTSD_M</td><td>Followup</td><td>Pre </td><td>15</td><td>15</td><td>5.64e-04</td><td>*** </td><td>1.69e-03</td><td>**  </td></tr>\n",
       "\t<tr><th scope=row>6</th><td>SC </td><td>PTSD_M</td><td>Post    </td><td>Pre </td><td>14</td><td>15</td><td>4.70e-03</td><td>**  </td><td>1.41e-02</td><td>*   </td></tr>\n",
       "\t<tr><th scope=row>7</th><td>SIT</td><td>PTSD_M</td><td>Followup</td><td>Post</td><td>15</td><td>15</td><td>3.10e-01</td><td>ns  </td><td>9.30e-01</td><td>ns  </td></tr>\n",
       "\t<tr><th scope=row>8</th><td>SIT</td><td>PTSD_M</td><td>Followup</td><td>Pre </td><td>15</td><td>15</td><td>2.90e-05</td><td>****</td><td>8.69e-05</td><td>****</td></tr>\n",
       "\t<tr><th scope=row>9</th><td>SIT</td><td>PTSD_M</td><td>Post    </td><td>Pre </td><td>15</td><td>15</td><td>1.01e-06</td><td>****</td><td>3.04e-06</td><td>****</td></tr>\n",
       "</tbody>\n",
       "</table>\n"
      ],
      "text/latex": [
       "A rstatix\\_test: 9 × 10\n",
       "\\begin{tabular}{r|llllllllll}\n",
       "  & Therapy & .y. & group1 & group2 & n1 & n2 & p & p.signif & p.adj & p.adj.signif\\\\\n",
       "  & <chr> & <chr> & <chr> & <chr> & <int> & <int> & <dbl> & <chr> & <dbl> & <chr>\\\\\n",
       "\\hline\n",
       "\t1 & PE  & PTSD\\_M & Followup & Post & 15 & 15 & 2.27e-01 & ns   & 6.80e-01 & ns  \\\\\n",
       "\t2 & PE  & PTSD\\_M & Followup & Pre  & 15 & 15 & 4.20e-06 & **** & 1.26e-05 & ****\\\\\n",
       "\t3 & PE  & PTSD\\_M & Post     & Pre  & 15 & 15 & 2.11e-04 & ***  & 6.32e-04 & *** \\\\\n",
       "\t4 & SC  & PTSD\\_M & Followup & Post & 15 & 14 & 4.98e-01 & ns   & 1.00e+00 & ns  \\\\\n",
       "\t5 & SC  & PTSD\\_M & Followup & Pre  & 15 & 15 & 5.64e-04 & ***  & 1.69e-03 & **  \\\\\n",
       "\t6 & SC  & PTSD\\_M & Post     & Pre  & 14 & 15 & 4.70e-03 & **   & 1.41e-02 & *   \\\\\n",
       "\t7 & SIT & PTSD\\_M & Followup & Post & 15 & 15 & 3.10e-01 & ns   & 9.30e-01 & ns  \\\\\n",
       "\t8 & SIT & PTSD\\_M & Followup & Pre  & 15 & 15 & 2.90e-05 & **** & 8.69e-05 & ****\\\\\n",
       "\t9 & SIT & PTSD\\_M & Post     & Pre  & 15 & 15 & 1.01e-06 & **** & 3.04e-06 & ****\\\\\n",
       "\\end{tabular}\n"
      ],
      "text/markdown": [
       "\n",
       "A rstatix_test: 9 × 10\n",
       "\n",
       "| <!--/--> | Therapy &lt;chr&gt; | .y. &lt;chr&gt; | group1 &lt;chr&gt; | group2 &lt;chr&gt; | n1 &lt;int&gt; | n2 &lt;int&gt; | p &lt;dbl&gt; | p.signif &lt;chr&gt; | p.adj &lt;dbl&gt; | p.adj.signif &lt;chr&gt; |\n",
       "|---|---|---|---|---|---|---|---|---|---|---|\n",
       "| 1 | PE  | PTSD_M | Followup | Post | 15 | 15 | 2.27e-01 | ns   | 6.80e-01 | ns   |\n",
       "| 2 | PE  | PTSD_M | Followup | Pre  | 15 | 15 | 4.20e-06 | **** | 1.26e-05 | **** |\n",
       "| 3 | PE  | PTSD_M | Post     | Pre  | 15 | 15 | 2.11e-04 | ***  | 6.32e-04 | ***  |\n",
       "| 4 | SC  | PTSD_M | Followup | Post | 15 | 14 | 4.98e-01 | ns   | 1.00e+00 | ns   |\n",
       "| 5 | SC  | PTSD_M | Followup | Pre  | 15 | 15 | 5.64e-04 | ***  | 1.69e-03 | **   |\n",
       "| 6 | SC  | PTSD_M | Post     | Pre  | 14 | 15 | 4.70e-03 | **   | 1.41e-02 | *    |\n",
       "| 7 | SIT | PTSD_M | Followup | Post | 15 | 15 | 3.10e-01 | ns   | 9.30e-01 | ns   |\n",
       "| 8 | SIT | PTSD_M | Followup | Pre  | 15 | 15 | 2.90e-05 | **** | 8.69e-05 | **** |\n",
       "| 9 | SIT | PTSD_M | Post     | Pre  | 15 | 15 | 1.01e-06 | **** | 3.04e-06 | **** |\n",
       "\n"
      ],
      "text/plain": [
       "  Therapy .y.    group1   group2 n1 n2 p        p.signif p.adj    p.adj.signif\n",
       "1 PE      PTSD_M Followup Post   15 15 2.27e-01 ns       6.80e-01 ns          \n",
       "2 PE      PTSD_M Followup Pre    15 15 4.20e-06 ****     1.26e-05 ****        \n",
       "3 PE      PTSD_M Post     Pre    15 15 2.11e-04 ***      6.32e-04 ***         \n",
       "4 SC      PTSD_M Followup Post   15 14 4.98e-01 ns       1.00e+00 ns          \n",
       "5 SC      PTSD_M Followup Pre    15 15 5.64e-04 ***      1.69e-03 **          \n",
       "6 SC      PTSD_M Post     Pre    14 15 4.70e-03 **       1.41e-02 *           \n",
       "7 SIT     PTSD_M Followup Post   15 15 3.10e-01 ns       9.30e-01 ns          \n",
       "8 SIT     PTSD_M Followup Pre    15 15 2.90e-05 ****     8.69e-05 ****        \n",
       "9 SIT     PTSD_M Post     Pre    15 15 1.01e-06 ****     3.04e-06 ****        "
      ]
     },
     "metadata": {},
     "output_type": "display_data"
    }
   ],
   "source": [
    "PTSD_data %>% group_by(Therapy) %>% pairwise_t_test(formula = PTSD_M ~ Period,paired=TRUE, p.adjust.method = \"bonferroni\")\n"
   ]
  },
  {
   "cell_type": "markdown",
   "metadata": {},
   "source": [
    "می شود از این داده ها اینطور استنباط کرد در همه درمان ها تفاوت معنا داری بین حالت پست و فالوآپ وجود ندارد اما بین حالات پیش و پست، و پیش و فالوآپ تفاوت معناداری مشاهده می شود"
   ]
  },
  {
   "cell_type": "code",
   "execution_count": 549,
   "metadata": {
    "scrolled": true
   },
   "outputs": [
    {
     "data": {
      "text/html": [
       "<table class=\"dataframe\">\n",
       "<caption>A grouped_anova_test: 3 × 9</caption>\n",
       "<thead>\n",
       "\t<tr><th scope=col>Period</th><th scope=col>Effect</th><th scope=col>DFn</th><th scope=col>DFd</th><th scope=col>F</th><th scope=col>p</th><th scope=col>p&lt;.05</th><th scope=col>ges</th><th scope=col>p.adj</th></tr>\n",
       "\t<tr><th scope=col>&lt;chr&gt;</th><th scope=col>&lt;chr&gt;</th><th scope=col>&lt;dbl&gt;</th><th scope=col>&lt;dbl&gt;</th><th scope=col>&lt;dbl&gt;</th><th scope=col>&lt;dbl&gt;</th><th scope=col>&lt;chr&gt;</th><th scope=col>&lt;dbl&gt;</th><th scope=col>&lt;dbl&gt;</th></tr>\n",
       "</thead>\n",
       "<tbody>\n",
       "\t<tr><td>Followup</td><td>Therapy</td><td>2</td><td>42</td><td>2.471</td><td>0.097000</td><td> </td><td>0.105</td><td>0.291000</td></tr>\n",
       "\t<tr><td>Post    </td><td>Therapy</td><td>2</td><td>42</td><td>8.728</td><td>0.000676</td><td>*</td><td>0.294</td><td>0.002028</td></tr>\n",
       "\t<tr><td>Pre     </td><td>Therapy</td><td>2</td><td>42</td><td>0.134</td><td>0.875000</td><td> </td><td>0.006</td><td>1.000000</td></tr>\n",
       "</tbody>\n",
       "</table>\n"
      ],
      "text/latex": [
       "A grouped\\_anova\\_test: 3 × 9\n",
       "\\begin{tabular}{lllllllll}\n",
       " Period & Effect & DFn & DFd & F & p & p<.05 & ges & p.adj\\\\\n",
       " <chr> & <chr> & <dbl> & <dbl> & <dbl> & <dbl> & <chr> & <dbl> & <dbl>\\\\\n",
       "\\hline\n",
       "\t Followup & Therapy & 2 & 42 & 2.471 & 0.097000 &   & 0.105 & 0.291000\\\\\n",
       "\t Post     & Therapy & 2 & 42 & 8.728 & 0.000676 & * & 0.294 & 0.002028\\\\\n",
       "\t Pre      & Therapy & 2 & 42 & 0.134 & 0.875000 &   & 0.006 & 1.000000\\\\\n",
       "\\end{tabular}\n"
      ],
      "text/markdown": [
       "\n",
       "A grouped_anova_test: 3 × 9\n",
       "\n",
       "| Period &lt;chr&gt; | Effect &lt;chr&gt; | DFn &lt;dbl&gt; | DFd &lt;dbl&gt; | F &lt;dbl&gt; | p &lt;dbl&gt; | p&lt;.05 &lt;chr&gt; | ges &lt;dbl&gt; | p.adj &lt;dbl&gt; |\n",
       "|---|---|---|---|---|---|---|---|---|\n",
       "| Followup | Therapy | 2 | 42 | 2.471 | 0.097000 | <!----> | 0.105 | 0.291000 |\n",
       "| Post     | Therapy | 2 | 42 | 8.728 | 0.000676 | * | 0.294 | 0.002028 |\n",
       "| Pre      | Therapy | 2 | 42 | 0.134 | 0.875000 | <!----> | 0.006 | 1.000000 |\n",
       "\n"
      ],
      "text/plain": [
       "  Period   Effect  DFn DFd F     p        p<.05 ges   p.adj   \n",
       "1 Followup Therapy 2   42  2.471 0.097000       0.105 0.291000\n",
       "2 Post     Therapy 2   42  8.728 0.000676 *     0.294 0.002028\n",
       "3 Pre      Therapy 2   42  0.134 0.875000       0.006 1.000000"
      ]
     },
     "metadata": {},
     "output_type": "display_data"
    }
   ],
   "source": [
    "PTSD_data %>% group_by(Period) %>% anova_test(dv = PTSD_M, wid = ID,within = Therapy,formula = PTSD_M ~ Therapy ) %>% adjust_pvalue(method=\"bonferroni\")\n"
   ]
  },
  {
   "cell_type": "code",
   "execution_count": 550,
   "metadata": {},
   "outputs": [
    {
     "data": {
      "text/html": [
       "<table class=\"dataframe\">\n",
       "<caption>A rstatix_test: 9 × 11</caption>\n",
       "<thead>\n",
       "\t<tr><th></th><th scope=col>Period</th><th scope=col>.y.</th><th scope=col>group1</th><th scope=col>group2</th><th scope=col>n1</th><th scope=col>n2</th><th scope=col>statistic</th><th scope=col>df</th><th scope=col>p</th><th scope=col>p.adj</th><th scope=col>p.adj.signif</th></tr>\n",
       "\t<tr><th></th><th scope=col>&lt;chr&gt;</th><th scope=col>&lt;chr&gt;</th><th scope=col>&lt;chr&gt;</th><th scope=col>&lt;chr&gt;</th><th scope=col>&lt;int&gt;</th><th scope=col>&lt;int&gt;</th><th scope=col>&lt;dbl&gt;</th><th scope=col>&lt;dbl&gt;</th><th scope=col>&lt;dbl&gt;</th><th scope=col>&lt;dbl&gt;</th><th scope=col>&lt;chr&gt;</th></tr>\n",
       "</thead>\n",
       "<tbody>\n",
       "\t<tr><th scope=row>1</th><td>Followup</td><td>PTSD_M</td><td>PE</td><td>SC </td><td>15</td><td>15</td><td>-2.1640873</td><td>14</td><td>4.80e-02</td><td>0.145000</td><td>ns </td></tr>\n",
       "\t<tr><th scope=row>2</th><td>Followup</td><td>PTSD_M</td><td>PE</td><td>SIT</td><td>15</td><td>15</td><td>-0.5815421</td><td>14</td><td>5.70e-01</td><td>1.000000</td><td>ns </td></tr>\n",
       "\t<tr><th scope=row>3</th><td>Followup</td><td>PTSD_M</td><td>SC</td><td>SIT</td><td>15</td><td>15</td><td> 1.5630556</td><td>14</td><td>1.40e-01</td><td>0.420000</td><td>ns </td></tr>\n",
       "\t<tr><th scope=row>4</th><td>Post    </td><td>PTSD_M</td><td>PE</td><td>SC </td><td>15</td><td>15</td><td>-2.0252516</td><td>14</td><td>6.20e-02</td><td>0.187000</td><td>ns </td></tr>\n",
       "\t<tr><th scope=row>5</th><td>Post    </td><td>PTSD_M</td><td>PE</td><td>SIT</td><td>15</td><td>15</td><td> 2.0713324</td><td>14</td><td>5.70e-02</td><td>0.172000</td><td>ns </td></tr>\n",
       "\t<tr><th scope=row>6</th><td>Post    </td><td>PTSD_M</td><td>SC</td><td>SIT</td><td>15</td><td>15</td><td> 5.7552609</td><td>14</td><td>4.98e-05</td><td>0.000149</td><td>***</td></tr>\n",
       "\t<tr><th scope=row>7</th><td>Pre     </td><td>PTSD_M</td><td>PE</td><td>SC </td><td>15</td><td>15</td><td>-0.1524986</td><td>14</td><td>8.81e-01</td><td>1.000000</td><td>ns </td></tr>\n",
       "\t<tr><th scope=row>8</th><td>Pre     </td><td>PTSD_M</td><td>PE</td><td>SIT</td><td>15</td><td>15</td><td> 0.3832364</td><td>14</td><td>7.07e-01</td><td>1.000000</td><td>ns </td></tr>\n",
       "\t<tr><th scope=row>9</th><td>Pre     </td><td>PTSD_M</td><td>SC</td><td>SIT</td><td>15</td><td>15</td><td> 0.4650186</td><td>14</td><td>6.49e-01</td><td>1.000000</td><td>ns </td></tr>\n",
       "</tbody>\n",
       "</table>\n"
      ],
      "text/latex": [
       "A rstatix\\_test: 9 × 11\n",
       "\\begin{tabular}{r|lllllllllll}\n",
       "  & Period & .y. & group1 & group2 & n1 & n2 & statistic & df & p & p.adj & p.adj.signif\\\\\n",
       "  & <chr> & <chr> & <chr> & <chr> & <int> & <int> & <dbl> & <dbl> & <dbl> & <dbl> & <chr>\\\\\n",
       "\\hline\n",
       "\t1 & Followup & PTSD\\_M & PE & SC  & 15 & 15 & -2.1640873 & 14 & 4.80e-02 & 0.145000 & ns \\\\\n",
       "\t2 & Followup & PTSD\\_M & PE & SIT & 15 & 15 & -0.5815421 & 14 & 5.70e-01 & 1.000000 & ns \\\\\n",
       "\t3 & Followup & PTSD\\_M & SC & SIT & 15 & 15 &  1.5630556 & 14 & 1.40e-01 & 0.420000 & ns \\\\\n",
       "\t4 & Post     & PTSD\\_M & PE & SC  & 15 & 15 & -2.0252516 & 14 & 6.20e-02 & 0.187000 & ns \\\\\n",
       "\t5 & Post     & PTSD\\_M & PE & SIT & 15 & 15 &  2.0713324 & 14 & 5.70e-02 & 0.172000 & ns \\\\\n",
       "\t6 & Post     & PTSD\\_M & SC & SIT & 15 & 15 &  5.7552609 & 14 & 4.98e-05 & 0.000149 & ***\\\\\n",
       "\t7 & Pre      & PTSD\\_M & PE & SC  & 15 & 15 & -0.1524986 & 14 & 8.81e-01 & 1.000000 & ns \\\\\n",
       "\t8 & Pre      & PTSD\\_M & PE & SIT & 15 & 15 &  0.3832364 & 14 & 7.07e-01 & 1.000000 & ns \\\\\n",
       "\t9 & Pre      & PTSD\\_M & SC & SIT & 15 & 15 &  0.4650186 & 14 & 6.49e-01 & 1.000000 & ns \\\\\n",
       "\\end{tabular}\n"
      ],
      "text/markdown": [
       "\n",
       "A rstatix_test: 9 × 11\n",
       "\n",
       "| <!--/--> | Period &lt;chr&gt; | .y. &lt;chr&gt; | group1 &lt;chr&gt; | group2 &lt;chr&gt; | n1 &lt;int&gt; | n2 &lt;int&gt; | statistic &lt;dbl&gt; | df &lt;dbl&gt; | p &lt;dbl&gt; | p.adj &lt;dbl&gt; | p.adj.signif &lt;chr&gt; |\n",
       "|---|---|---|---|---|---|---|---|---|---|---|---|\n",
       "| 1 | Followup | PTSD_M | PE | SC  | 15 | 15 | -2.1640873 | 14 | 4.80e-02 | 0.145000 | ns  |\n",
       "| 2 | Followup | PTSD_M | PE | SIT | 15 | 15 | -0.5815421 | 14 | 5.70e-01 | 1.000000 | ns  |\n",
       "| 3 | Followup | PTSD_M | SC | SIT | 15 | 15 |  1.5630556 | 14 | 1.40e-01 | 0.420000 | ns  |\n",
       "| 4 | Post     | PTSD_M | PE | SC  | 15 | 15 | -2.0252516 | 14 | 6.20e-02 | 0.187000 | ns  |\n",
       "| 5 | Post     | PTSD_M | PE | SIT | 15 | 15 |  2.0713324 | 14 | 5.70e-02 | 0.172000 | ns  |\n",
       "| 6 | Post     | PTSD_M | SC | SIT | 15 | 15 |  5.7552609 | 14 | 4.98e-05 | 0.000149 | *** |\n",
       "| 7 | Pre      | PTSD_M | PE | SC  | 15 | 15 | -0.1524986 | 14 | 8.81e-01 | 1.000000 | ns  |\n",
       "| 8 | Pre      | PTSD_M | PE | SIT | 15 | 15 |  0.3832364 | 14 | 7.07e-01 | 1.000000 | ns  |\n",
       "| 9 | Pre      | PTSD_M | SC | SIT | 15 | 15 |  0.4650186 | 14 | 6.49e-01 | 1.000000 | ns  |\n",
       "\n"
      ],
      "text/plain": [
       "  Period   .y.    group1 group2 n1 n2 statistic  df p        p.adj   \n",
       "1 Followup PTSD_M PE     SC     15 15 -2.1640873 14 4.80e-02 0.145000\n",
       "2 Followup PTSD_M PE     SIT    15 15 -0.5815421 14 5.70e-01 1.000000\n",
       "3 Followup PTSD_M SC     SIT    15 15  1.5630556 14 1.40e-01 0.420000\n",
       "4 Post     PTSD_M PE     SC     15 15 -2.0252516 14 6.20e-02 0.187000\n",
       "5 Post     PTSD_M PE     SIT    15 15  2.0713324 14 5.70e-02 0.172000\n",
       "6 Post     PTSD_M SC     SIT    15 15  5.7552609 14 4.98e-05 0.000149\n",
       "7 Pre      PTSD_M PE     SC     15 15 -0.1524986 14 8.81e-01 1.000000\n",
       "8 Pre      PTSD_M PE     SIT    15 15  0.3832364 14 7.07e-01 1.000000\n",
       "9 Pre      PTSD_M SC     SIT    15 15  0.4650186 14 6.49e-01 1.000000\n",
       "  p.adj.signif\n",
       "1 ns          \n",
       "2 ns          \n",
       "3 ns          \n",
       "4 ns          \n",
       "5 ns          \n",
       "6 ***         \n",
       "7 ns          \n",
       "8 ns          \n",
       "9 ns          "
      ]
     },
     "metadata": {},
     "output_type": "display_data"
    }
   ],
   "source": [
    "PTSD_data %>% group_by(Period) %>% pairwise_t_test(PTSD_M ~ Therapy, paired=TRUE,p.adjust.method = \"bonferroni\" )"
   ]
  },
  {
   "cell_type": "markdown",
   "metadata": {},
   "source": [
    "به طور کلی تفاوت چشمگیری بین شیوه های درمان دیده نمی شود تنها بین روش درمان اس آی تی و اس سی، در مرحله پست تفاوت مشهودی داریم "
   ]
  },
  {
   "cell_type": "markdown",
   "metadata": {},
   "source": [
    "## Run a mixed models analysis of variance, specifying an appropriate form for the covariance matrix, and compare the results with those you obtained above.\n"
   ]
  },
  {
   "cell_type": "code",
   "execution_count": 411,
   "metadata": {},
   "outputs": [
    {
     "data": {
      "text/html": [
       "<table class=\"dataframe\">\n",
       "<caption>A anova_test: 3 × 7</caption>\n",
       "<thead>\n",
       "\t<tr><th></th><th scope=col>Effect</th><th scope=col>DFn</th><th scope=col>DFd</th><th scope=col>F</th><th scope=col>p</th><th scope=col>p&lt;.05</th><th scope=col>ges</th></tr>\n",
       "\t<tr><th></th><th scope=col>&lt;chr&gt;</th><th scope=col>&lt;dbl&gt;</th><th scope=col>&lt;dbl&gt;</th><th scope=col>&lt;dbl&gt;</th><th scope=col>&lt;dbl&gt;</th><th scope=col>&lt;chr&gt;</th><th scope=col>&lt;dbl&gt;</th></tr>\n",
       "</thead>\n",
       "<tbody>\n",
       "\t<tr><th scope=row>1</th><td>Therapy       </td><td>2</td><td>118</td><td> 7.458</td><td>8.91e-04</td><td>*</td><td>0.112</td></tr>\n",
       "\t<tr><th scope=row>2</th><td>Period        </td><td>2</td><td>118</td><td>55.148</td><td>1.23e-17</td><td>*</td><td>0.483</td></tr>\n",
       "\t<tr><th scope=row>3</th><td>Therapy:Period</td><td>4</td><td>118</td><td> 2.085</td><td>8.70e-02</td><td> </td><td>0.066</td></tr>\n",
       "</tbody>\n",
       "</table>\n"
      ],
      "text/latex": [
       "A anova\\_test: 3 × 7\n",
       "\\begin{tabular}{r|lllllll}\n",
       "  & Effect & DFn & DFd & F & p & p<.05 & ges\\\\\n",
       "  & <chr> & <dbl> & <dbl> & <dbl> & <dbl> & <chr> & <dbl>\\\\\n",
       "\\hline\n",
       "\t1 & Therapy        & 2 & 118 &  7.458 & 8.91e-04 & * & 0.112\\\\\n",
       "\t2 & Period         & 2 & 118 & 55.148 & 1.23e-17 & * & 0.483\\\\\n",
       "\t3 & Therapy:Period & 4 & 118 &  2.085 & 8.70e-02 &   & 0.066\\\\\n",
       "\\end{tabular}\n"
      ],
      "text/markdown": [
       "\n",
       "A anova_test: 3 × 7\n",
       "\n",
       "| <!--/--> | Effect &lt;chr&gt; | DFn &lt;dbl&gt; | DFd &lt;dbl&gt; | F &lt;dbl&gt; | p &lt;dbl&gt; | p&lt;.05 &lt;chr&gt; | ges &lt;dbl&gt; |\n",
       "|---|---|---|---|---|---|---|---|\n",
       "| 1 | Therapy        | 2 | 118 |  7.458 | 8.91e-04 | * | 0.112 |\n",
       "| 2 | Period         | 2 | 118 | 55.148 | 1.23e-17 | * | 0.483 |\n",
       "| 3 | Therapy:Period | 4 | 118 |  2.085 | 8.70e-02 | <!----> | 0.066 |\n",
       "\n"
      ],
      "text/plain": [
       "  Effect         DFn DFd F      p        p<.05 ges  \n",
       "1 Therapy        2   118  7.458 8.91e-04 *     0.112\n",
       "2 Period         2   118 55.148 1.23e-17 *     0.483\n",
       "3 Therapy:Period 4   118  2.085 8.70e-02       0.066"
      ]
     },
     "metadata": {},
     "output_type": "display_data"
    }
   ],
   "source": [
    "Mixed_results = anova_test(data = PTSD_data,dv = PTSD_M, wid = ID, between = Therapy, within = Period,formula = model)\n",
    "Mixed_results"
   ]
  },
  {
   "cell_type": "markdown",
   "metadata": {},
   "source": [
    "نتایج انوای میکس و آنوای ریپیتدد جز در مقدار پی یکسان است"
   ]
  },
  {
   "cell_type": "code",
   "execution_count": 412,
   "metadata": {},
   "outputs": [
    {
     "data": {
      "text/plain": [
       "    Effect               DFn             DFd            F         \n",
       " Length:3           Min.   :2.000   Min.   :118   Min.   : 2.085  \n",
       " Class :character   1st Qu.:2.000   1st Qu.:118   1st Qu.: 4.771  \n",
       " Mode  :character   Median :2.000   Median :118   Median : 7.458  \n",
       "                    Mean   :2.667   Mean   :118   Mean   :21.564  \n",
       "                    3rd Qu.:3.000   3rd Qu.:118   3rd Qu.:31.303  \n",
       "                    Max.   :4.000   Max.   :118   Max.   :55.148  \n",
       "       p                p<.05                ges        \n",
       " Min.   :0.0000000   Length:3           Min.   :0.0660  \n",
       " 1st Qu.:0.0004455   Class :character   1st Qu.:0.0890  \n",
       " Median :0.0008910   Mode  :character   Median :0.1120  \n",
       " Mean   :0.0292970                      Mean   :0.2203  \n",
       " 3rd Qu.:0.0439455                      3rd Qu.:0.2975  \n",
       " Max.   :0.0870000                      Max.   :0.4830  "
      ]
     },
     "metadata": {},
     "output_type": "display_data"
    }
   ],
   "source": [
    "summary(Mixed_results)"
   ]
  },
  {
   "cell_type": "markdown",
   "metadata": {},
   "source": [
    "## PostHocTests"
   ]
  },
  {
   "cell_type": "code",
   "execution_count": 551,
   "metadata": {},
   "outputs": [
    {
     "data": {
      "text/html": [
       "<table class=\"dataframe\">\n",
       "<caption>A grouped_anova_test: 3 × 9</caption>\n",
       "<thead>\n",
       "\t<tr><th scope=col>Therapy</th><th scope=col>Effect</th><th scope=col>DFn</th><th scope=col>DFd</th><th scope=col>F</th><th scope=col>p</th><th scope=col>p&lt;.05</th><th scope=col>ges</th><th scope=col>p.adj</th></tr>\n",
       "\t<tr><th scope=col>&lt;chr&gt;</th><th scope=col>&lt;chr&gt;</th><th scope=col>&lt;dbl&gt;</th><th scope=col>&lt;dbl&gt;</th><th scope=col>&lt;dbl&gt;</th><th scope=col>&lt;dbl&gt;</th><th scope=col>&lt;chr&gt;</th><th scope=col>&lt;dbl&gt;</th><th scope=col>&lt;dbl&gt;</th></tr>\n",
       "</thead>\n",
       "<tbody>\n",
       "\t<tr><td>PE </td><td>Period</td><td>2</td><td>42</td><td>15.302</td><td>1.02e-05</td><td>*</td><td>0.422</td><td>3.06e-05</td></tr>\n",
       "\t<tr><td>SC </td><td>Period</td><td>2</td><td>42</td><td> 6.386</td><td>4.00e-03</td><td>*</td><td>0.233</td><td>1.20e-02</td></tr>\n",
       "\t<tr><td>SIT</td><td>Period</td><td>2</td><td>42</td><td>18.578</td><td>1.66e-06</td><td>*</td><td>0.469</td><td>4.98e-06</td></tr>\n",
       "</tbody>\n",
       "</table>\n"
      ],
      "text/latex": [
       "A grouped\\_anova\\_test: 3 × 9\n",
       "\\begin{tabular}{lllllllll}\n",
       " Therapy & Effect & DFn & DFd & F & p & p<.05 & ges & p.adj\\\\\n",
       " <chr> & <chr> & <dbl> & <dbl> & <dbl> & <dbl> & <chr> & <dbl> & <dbl>\\\\\n",
       "\\hline\n",
       "\t PE  & Period & 2 & 42 & 15.302 & 1.02e-05 & * & 0.422 & 3.06e-05\\\\\n",
       "\t SC  & Period & 2 & 42 &  6.386 & 4.00e-03 & * & 0.233 & 1.20e-02\\\\\n",
       "\t SIT & Period & 2 & 42 & 18.578 & 1.66e-06 & * & 0.469 & 4.98e-06\\\\\n",
       "\\end{tabular}\n"
      ],
      "text/markdown": [
       "\n",
       "A grouped_anova_test: 3 × 9\n",
       "\n",
       "| Therapy &lt;chr&gt; | Effect &lt;chr&gt; | DFn &lt;dbl&gt; | DFd &lt;dbl&gt; | F &lt;dbl&gt; | p &lt;dbl&gt; | p&lt;.05 &lt;chr&gt; | ges &lt;dbl&gt; | p.adj &lt;dbl&gt; |\n",
       "|---|---|---|---|---|---|---|---|---|\n",
       "| PE  | Period | 2 | 42 | 15.302 | 1.02e-05 | * | 0.422 | 3.06e-05 |\n",
       "| SC  | Period | 2 | 42 |  6.386 | 4.00e-03 | * | 0.233 | 1.20e-02 |\n",
       "| SIT | Period | 2 | 42 | 18.578 | 1.66e-06 | * | 0.469 | 4.98e-06 |\n",
       "\n"
      ],
      "text/plain": [
       "  Therapy Effect DFn DFd F      p        p<.05 ges   p.adj   \n",
       "1 PE      Period 2   42  15.302 1.02e-05 *     0.422 3.06e-05\n",
       "2 SC      Period 2   42   6.386 4.00e-03 *     0.233 1.20e-02\n",
       "3 SIT     Period 2   42  18.578 1.66e-06 *     0.469 4.98e-06"
      ]
     },
     "metadata": {},
     "output_type": "display_data"
    }
   ],
   "source": [
    "PTSD_data %>% group_by(Therapy) %>% anova_test(dv = PTSD_M, wid = ID, within = Period,formula = PTSD_M ~ Period ) %>% adjust_pvalue(method=\"bonferroni\")\n"
   ]
  },
  {
   "cell_type": "code",
   "execution_count": 552,
   "metadata": {},
   "outputs": [
    {
     "data": {
      "text/html": [
       "<table class=\"dataframe\">\n",
       "<caption>A rstatix_test: 9 × 11</caption>\n",
       "<thead>\n",
       "\t<tr><th></th><th scope=col>Therapy</th><th scope=col>.y.</th><th scope=col>group1</th><th scope=col>group2</th><th scope=col>n1</th><th scope=col>n2</th><th scope=col>statistic</th><th scope=col>df</th><th scope=col>p</th><th scope=col>p.adj</th><th scope=col>p.adj.signif</th></tr>\n",
       "\t<tr><th></th><th scope=col>&lt;chr&gt;</th><th scope=col>&lt;chr&gt;</th><th scope=col>&lt;chr&gt;</th><th scope=col>&lt;chr&gt;</th><th scope=col>&lt;int&gt;</th><th scope=col>&lt;int&gt;</th><th scope=col>&lt;dbl&gt;</th><th scope=col>&lt;dbl&gt;</th><th scope=col>&lt;dbl&gt;</th><th scope=col>&lt;dbl&gt;</th><th scope=col>&lt;chr&gt;</th></tr>\n",
       "</thead>\n",
       "<tbody>\n",
       "\t<tr><th scope=row>1</th><td>PE </td><td>PTSD_M</td><td>Followup</td><td>Post</td><td>15</td><td>15</td><td> -1.602227</td><td>14</td><td>1.31e-01</td><td>3.93e-01</td><td>ns  </td></tr>\n",
       "\t<tr><th scope=row>2</th><td>PE </td><td>PTSD_M</td><td>Followup</td><td>Pre </td><td>15</td><td>15</td><td> -7.313226</td><td>14</td><td>3.83e-06</td><td>1.15e-05</td><td>****</td></tr>\n",
       "\t<tr><th scope=row>3</th><td>PE </td><td>PTSD_M</td><td>Post    </td><td>Pre </td><td>15</td><td>15</td><td> -6.090176</td><td>14</td><td>2.79e-05</td><td>8.37e-05</td><td>****</td></tr>\n",
       "\t<tr><th scope=row>4</th><td>SC </td><td>PTSD_M</td><td>Followup</td><td>Post</td><td>15</td><td>15</td><td> -2.356691</td><td>14</td><td>3.40e-02</td><td>1.00e-01</td><td>ns  </td></tr>\n",
       "\t<tr><th scope=row>5</th><td>SC </td><td>PTSD_M</td><td>Followup</td><td>Pre </td><td>15</td><td>15</td><td> -3.873783</td><td>14</td><td>2.00e-03</td><td>5.00e-03</td><td>**  </td></tr>\n",
       "\t<tr><th scope=row>6</th><td>SC </td><td>PTSD_M</td><td>Post    </td><td>Pre </td><td>15</td><td>15</td><td> -4.956407</td><td>14</td><td>2.11e-04</td><td>6.33e-04</td><td>*** </td></tr>\n",
       "\t<tr><th scope=row>7</th><td>SIT</td><td>PTSD_M</td><td>Followup</td><td>Post</td><td>15</td><td>15</td><td>  1.381699</td><td>14</td><td>1.89e-01</td><td>5.67e-01</td><td>ns  </td></tr>\n",
       "\t<tr><th scope=row>8</th><td>SIT</td><td>PTSD_M</td><td>Followup</td><td>Pre </td><td>15</td><td>15</td><td> -4.737232</td><td>14</td><td>3.18e-04</td><td>9.54e-04</td><td>*** </td></tr>\n",
       "\t<tr><th scope=row>9</th><td>SIT</td><td>PTSD_M</td><td>Post    </td><td>Pre </td><td>15</td><td>15</td><td>-14.015635</td><td>14</td><td>1.25e-09</td><td>3.75e-09</td><td>****</td></tr>\n",
       "</tbody>\n",
       "</table>\n"
      ],
      "text/latex": [
       "A rstatix\\_test: 9 × 11\n",
       "\\begin{tabular}{r|lllllllllll}\n",
       "  & Therapy & .y. & group1 & group2 & n1 & n2 & statistic & df & p & p.adj & p.adj.signif\\\\\n",
       "  & <chr> & <chr> & <chr> & <chr> & <int> & <int> & <dbl> & <dbl> & <dbl> & <dbl> & <chr>\\\\\n",
       "\\hline\n",
       "\t1 & PE  & PTSD\\_M & Followup & Post & 15 & 15 &  -1.602227 & 14 & 1.31e-01 & 3.93e-01 & ns  \\\\\n",
       "\t2 & PE  & PTSD\\_M & Followup & Pre  & 15 & 15 &  -7.313226 & 14 & 3.83e-06 & 1.15e-05 & ****\\\\\n",
       "\t3 & PE  & PTSD\\_M & Post     & Pre  & 15 & 15 &  -6.090176 & 14 & 2.79e-05 & 8.37e-05 & ****\\\\\n",
       "\t4 & SC  & PTSD\\_M & Followup & Post & 15 & 15 &  -2.356691 & 14 & 3.40e-02 & 1.00e-01 & ns  \\\\\n",
       "\t5 & SC  & PTSD\\_M & Followup & Pre  & 15 & 15 &  -3.873783 & 14 & 2.00e-03 & 5.00e-03 & **  \\\\\n",
       "\t6 & SC  & PTSD\\_M & Post     & Pre  & 15 & 15 &  -4.956407 & 14 & 2.11e-04 & 6.33e-04 & *** \\\\\n",
       "\t7 & SIT & PTSD\\_M & Followup & Post & 15 & 15 &   1.381699 & 14 & 1.89e-01 & 5.67e-01 & ns  \\\\\n",
       "\t8 & SIT & PTSD\\_M & Followup & Pre  & 15 & 15 &  -4.737232 & 14 & 3.18e-04 & 9.54e-04 & *** \\\\\n",
       "\t9 & SIT & PTSD\\_M & Post     & Pre  & 15 & 15 & -14.015635 & 14 & 1.25e-09 & 3.75e-09 & ****\\\\\n",
       "\\end{tabular}\n"
      ],
      "text/markdown": [
       "\n",
       "A rstatix_test: 9 × 11\n",
       "\n",
       "| <!--/--> | Therapy &lt;chr&gt; | .y. &lt;chr&gt; | group1 &lt;chr&gt; | group2 &lt;chr&gt; | n1 &lt;int&gt; | n2 &lt;int&gt; | statistic &lt;dbl&gt; | df &lt;dbl&gt; | p &lt;dbl&gt; | p.adj &lt;dbl&gt; | p.adj.signif &lt;chr&gt; |\n",
       "|---|---|---|---|---|---|---|---|---|---|---|---|\n",
       "| 1 | PE  | PTSD_M | Followup | Post | 15 | 15 |  -1.602227 | 14 | 1.31e-01 | 3.93e-01 | ns   |\n",
       "| 2 | PE  | PTSD_M | Followup | Pre  | 15 | 15 |  -7.313226 | 14 | 3.83e-06 | 1.15e-05 | **** |\n",
       "| 3 | PE  | PTSD_M | Post     | Pre  | 15 | 15 |  -6.090176 | 14 | 2.79e-05 | 8.37e-05 | **** |\n",
       "| 4 | SC  | PTSD_M | Followup | Post | 15 | 15 |  -2.356691 | 14 | 3.40e-02 | 1.00e-01 | ns   |\n",
       "| 5 | SC  | PTSD_M | Followup | Pre  | 15 | 15 |  -3.873783 | 14 | 2.00e-03 | 5.00e-03 | **   |\n",
       "| 6 | SC  | PTSD_M | Post     | Pre  | 15 | 15 |  -4.956407 | 14 | 2.11e-04 | 6.33e-04 | ***  |\n",
       "| 7 | SIT | PTSD_M | Followup | Post | 15 | 15 |   1.381699 | 14 | 1.89e-01 | 5.67e-01 | ns   |\n",
       "| 8 | SIT | PTSD_M | Followup | Pre  | 15 | 15 |  -4.737232 | 14 | 3.18e-04 | 9.54e-04 | ***  |\n",
       "| 9 | SIT | PTSD_M | Post     | Pre  | 15 | 15 | -14.015635 | 14 | 1.25e-09 | 3.75e-09 | **** |\n",
       "\n"
      ],
      "text/plain": [
       "  Therapy .y.    group1   group2 n1 n2 statistic  df p        p.adj   \n",
       "1 PE      PTSD_M Followup Post   15 15  -1.602227 14 1.31e-01 3.93e-01\n",
       "2 PE      PTSD_M Followup Pre    15 15  -7.313226 14 3.83e-06 1.15e-05\n",
       "3 PE      PTSD_M Post     Pre    15 15  -6.090176 14 2.79e-05 8.37e-05\n",
       "4 SC      PTSD_M Followup Post   15 15  -2.356691 14 3.40e-02 1.00e-01\n",
       "5 SC      PTSD_M Followup Pre    15 15  -3.873783 14 2.00e-03 5.00e-03\n",
       "6 SC      PTSD_M Post     Pre    15 15  -4.956407 14 2.11e-04 6.33e-04\n",
       "7 SIT     PTSD_M Followup Post   15 15   1.381699 14 1.89e-01 5.67e-01\n",
       "8 SIT     PTSD_M Followup Pre    15 15  -4.737232 14 3.18e-04 9.54e-04\n",
       "9 SIT     PTSD_M Post     Pre    15 15 -14.015635 14 1.25e-09 3.75e-09\n",
       "  p.adj.signif\n",
       "1 ns          \n",
       "2 ****        \n",
       "3 ****        \n",
       "4 ns          \n",
       "5 **          \n",
       "6 ***         \n",
       "7 ns          \n",
       "8 ***         \n",
       "9 ****        "
      ]
     },
     "metadata": {},
     "output_type": "display_data"
    }
   ],
   "source": [
    "PTSD_data %>% group_by(Therapy) %>% pairwise_t_test(formula = PTSD_M ~ Period,paired=TRUE, p.adjust.method = \"bonferroni\")\n"
   ]
  },
  {
   "cell_type": "code",
   "execution_count": 553,
   "metadata": {},
   "outputs": [
    {
     "data": {
      "text/html": [
       "<table class=\"dataframe\">\n",
       "<caption>A grouped_anova_test: 3 × 9</caption>\n",
       "<thead>\n",
       "\t<tr><th scope=col>Period</th><th scope=col>Effect</th><th scope=col>DFn</th><th scope=col>DFd</th><th scope=col>F</th><th scope=col>p</th><th scope=col>p&lt;.05</th><th scope=col>ges</th><th scope=col>p.adj</th></tr>\n",
       "\t<tr><th scope=col>&lt;chr&gt;</th><th scope=col>&lt;chr&gt;</th><th scope=col>&lt;dbl&gt;</th><th scope=col>&lt;dbl&gt;</th><th scope=col>&lt;dbl&gt;</th><th scope=col>&lt;dbl&gt;</th><th scope=col>&lt;chr&gt;</th><th scope=col>&lt;dbl&gt;</th><th scope=col>&lt;dbl&gt;</th></tr>\n",
       "</thead>\n",
       "<tbody>\n",
       "\t<tr><td>Followup</td><td>Therapy</td><td>2</td><td>42</td><td>2.471</td><td>0.097000</td><td> </td><td>0.105</td><td>0.291000</td></tr>\n",
       "\t<tr><td>Post    </td><td>Therapy</td><td>2</td><td>42</td><td>8.728</td><td>0.000676</td><td>*</td><td>0.294</td><td>0.002028</td></tr>\n",
       "\t<tr><td>Pre     </td><td>Therapy</td><td>2</td><td>42</td><td>0.134</td><td>0.875000</td><td> </td><td>0.006</td><td>1.000000</td></tr>\n",
       "</tbody>\n",
       "</table>\n"
      ],
      "text/latex": [
       "A grouped\\_anova\\_test: 3 × 9\n",
       "\\begin{tabular}{lllllllll}\n",
       " Period & Effect & DFn & DFd & F & p & p<.05 & ges & p.adj\\\\\n",
       " <chr> & <chr> & <dbl> & <dbl> & <dbl> & <dbl> & <chr> & <dbl> & <dbl>\\\\\n",
       "\\hline\n",
       "\t Followup & Therapy & 2 & 42 & 2.471 & 0.097000 &   & 0.105 & 0.291000\\\\\n",
       "\t Post     & Therapy & 2 & 42 & 8.728 & 0.000676 & * & 0.294 & 0.002028\\\\\n",
       "\t Pre      & Therapy & 2 & 42 & 0.134 & 0.875000 &   & 0.006 & 1.000000\\\\\n",
       "\\end{tabular}\n"
      ],
      "text/markdown": [
       "\n",
       "A grouped_anova_test: 3 × 9\n",
       "\n",
       "| Period &lt;chr&gt; | Effect &lt;chr&gt; | DFn &lt;dbl&gt; | DFd &lt;dbl&gt; | F &lt;dbl&gt; | p &lt;dbl&gt; | p&lt;.05 &lt;chr&gt; | ges &lt;dbl&gt; | p.adj &lt;dbl&gt; |\n",
       "|---|---|---|---|---|---|---|---|---|\n",
       "| Followup | Therapy | 2 | 42 | 2.471 | 0.097000 | <!----> | 0.105 | 0.291000 |\n",
       "| Post     | Therapy | 2 | 42 | 8.728 | 0.000676 | * | 0.294 | 0.002028 |\n",
       "| Pre      | Therapy | 2 | 42 | 0.134 | 0.875000 | <!----> | 0.006 | 1.000000 |\n",
       "\n"
      ],
      "text/plain": [
       "  Period   Effect  DFn DFd F     p        p<.05 ges   p.adj   \n",
       "1 Followup Therapy 2   42  2.471 0.097000       0.105 0.291000\n",
       "2 Post     Therapy 2   42  8.728 0.000676 *     0.294 0.002028\n",
       "3 Pre      Therapy 2   42  0.134 0.875000       0.006 1.000000"
      ]
     },
     "metadata": {},
     "output_type": "display_data"
    }
   ],
   "source": [
    "PTSD_data %>% group_by(Period) %>% anova_test(dv = PTSD_M, wid = ID, between = Therapy,formula = PTSD_M ~ Therapy ) %>% adjust_pvalue(method=\"bonferroni\")\n"
   ]
  },
  {
   "cell_type": "code",
   "execution_count": 554,
   "metadata": {},
   "outputs": [
    {
     "data": {
      "text/html": [
       "<table class=\"dataframe\">\n",
       "<caption>A rstatix_test: 9 × 11</caption>\n",
       "<thead>\n",
       "\t<tr><th></th><th scope=col>Period</th><th scope=col>.y.</th><th scope=col>group1</th><th scope=col>group2</th><th scope=col>n1</th><th scope=col>n2</th><th scope=col>statistic</th><th scope=col>df</th><th scope=col>p</th><th scope=col>p.adj</th><th scope=col>p.adj.signif</th></tr>\n",
       "\t<tr><th></th><th scope=col>&lt;chr&gt;</th><th scope=col>&lt;chr&gt;</th><th scope=col>&lt;chr&gt;</th><th scope=col>&lt;chr&gt;</th><th scope=col>&lt;int&gt;</th><th scope=col>&lt;int&gt;</th><th scope=col>&lt;dbl&gt;</th><th scope=col>&lt;dbl&gt;</th><th scope=col>&lt;dbl&gt;</th><th scope=col>&lt;dbl&gt;</th><th scope=col>&lt;chr&gt;</th></tr>\n",
       "</thead>\n",
       "<tbody>\n",
       "\t<tr><th scope=row>1</th><td>Followup</td><td>PTSD_M</td><td>PE</td><td>SC </td><td>15</td><td>15</td><td>-2.1640873</td><td>14</td><td>4.80e-02</td><td>0.145000</td><td>ns </td></tr>\n",
       "\t<tr><th scope=row>2</th><td>Followup</td><td>PTSD_M</td><td>PE</td><td>SIT</td><td>15</td><td>15</td><td>-0.5815421</td><td>14</td><td>5.70e-01</td><td>1.000000</td><td>ns </td></tr>\n",
       "\t<tr><th scope=row>3</th><td>Followup</td><td>PTSD_M</td><td>SC</td><td>SIT</td><td>15</td><td>15</td><td> 1.5630556</td><td>14</td><td>1.40e-01</td><td>0.420000</td><td>ns </td></tr>\n",
       "\t<tr><th scope=row>4</th><td>Post    </td><td>PTSD_M</td><td>PE</td><td>SC </td><td>15</td><td>15</td><td>-2.0252516</td><td>14</td><td>6.20e-02</td><td>0.187000</td><td>ns </td></tr>\n",
       "\t<tr><th scope=row>5</th><td>Post    </td><td>PTSD_M</td><td>PE</td><td>SIT</td><td>15</td><td>15</td><td> 2.0713324</td><td>14</td><td>5.70e-02</td><td>0.172000</td><td>ns </td></tr>\n",
       "\t<tr><th scope=row>6</th><td>Post    </td><td>PTSD_M</td><td>SC</td><td>SIT</td><td>15</td><td>15</td><td> 5.7552609</td><td>14</td><td>4.98e-05</td><td>0.000149</td><td>***</td></tr>\n",
       "\t<tr><th scope=row>7</th><td>Pre     </td><td>PTSD_M</td><td>PE</td><td>SC </td><td>15</td><td>15</td><td>-0.1524986</td><td>14</td><td>8.81e-01</td><td>1.000000</td><td>ns </td></tr>\n",
       "\t<tr><th scope=row>8</th><td>Pre     </td><td>PTSD_M</td><td>PE</td><td>SIT</td><td>15</td><td>15</td><td> 0.3832364</td><td>14</td><td>7.07e-01</td><td>1.000000</td><td>ns </td></tr>\n",
       "\t<tr><th scope=row>9</th><td>Pre     </td><td>PTSD_M</td><td>SC</td><td>SIT</td><td>15</td><td>15</td><td> 0.4650186</td><td>14</td><td>6.49e-01</td><td>1.000000</td><td>ns </td></tr>\n",
       "</tbody>\n",
       "</table>\n"
      ],
      "text/latex": [
       "A rstatix\\_test: 9 × 11\n",
       "\\begin{tabular}{r|lllllllllll}\n",
       "  & Period & .y. & group1 & group2 & n1 & n2 & statistic & df & p & p.adj & p.adj.signif\\\\\n",
       "  & <chr> & <chr> & <chr> & <chr> & <int> & <int> & <dbl> & <dbl> & <dbl> & <dbl> & <chr>\\\\\n",
       "\\hline\n",
       "\t1 & Followup & PTSD\\_M & PE & SC  & 15 & 15 & -2.1640873 & 14 & 4.80e-02 & 0.145000 & ns \\\\\n",
       "\t2 & Followup & PTSD\\_M & PE & SIT & 15 & 15 & -0.5815421 & 14 & 5.70e-01 & 1.000000 & ns \\\\\n",
       "\t3 & Followup & PTSD\\_M & SC & SIT & 15 & 15 &  1.5630556 & 14 & 1.40e-01 & 0.420000 & ns \\\\\n",
       "\t4 & Post     & PTSD\\_M & PE & SC  & 15 & 15 & -2.0252516 & 14 & 6.20e-02 & 0.187000 & ns \\\\\n",
       "\t5 & Post     & PTSD\\_M & PE & SIT & 15 & 15 &  2.0713324 & 14 & 5.70e-02 & 0.172000 & ns \\\\\n",
       "\t6 & Post     & PTSD\\_M & SC & SIT & 15 & 15 &  5.7552609 & 14 & 4.98e-05 & 0.000149 & ***\\\\\n",
       "\t7 & Pre      & PTSD\\_M & PE & SC  & 15 & 15 & -0.1524986 & 14 & 8.81e-01 & 1.000000 & ns \\\\\n",
       "\t8 & Pre      & PTSD\\_M & PE & SIT & 15 & 15 &  0.3832364 & 14 & 7.07e-01 & 1.000000 & ns \\\\\n",
       "\t9 & Pre      & PTSD\\_M & SC & SIT & 15 & 15 &  0.4650186 & 14 & 6.49e-01 & 1.000000 & ns \\\\\n",
       "\\end{tabular}\n"
      ],
      "text/markdown": [
       "\n",
       "A rstatix_test: 9 × 11\n",
       "\n",
       "| <!--/--> | Period &lt;chr&gt; | .y. &lt;chr&gt; | group1 &lt;chr&gt; | group2 &lt;chr&gt; | n1 &lt;int&gt; | n2 &lt;int&gt; | statistic &lt;dbl&gt; | df &lt;dbl&gt; | p &lt;dbl&gt; | p.adj &lt;dbl&gt; | p.adj.signif &lt;chr&gt; |\n",
       "|---|---|---|---|---|---|---|---|---|---|---|---|\n",
       "| 1 | Followup | PTSD_M | PE | SC  | 15 | 15 | -2.1640873 | 14 | 4.80e-02 | 0.145000 | ns  |\n",
       "| 2 | Followup | PTSD_M | PE | SIT | 15 | 15 | -0.5815421 | 14 | 5.70e-01 | 1.000000 | ns  |\n",
       "| 3 | Followup | PTSD_M | SC | SIT | 15 | 15 |  1.5630556 | 14 | 1.40e-01 | 0.420000 | ns  |\n",
       "| 4 | Post     | PTSD_M | PE | SC  | 15 | 15 | -2.0252516 | 14 | 6.20e-02 | 0.187000 | ns  |\n",
       "| 5 | Post     | PTSD_M | PE | SIT | 15 | 15 |  2.0713324 | 14 | 5.70e-02 | 0.172000 | ns  |\n",
       "| 6 | Post     | PTSD_M | SC | SIT | 15 | 15 |  5.7552609 | 14 | 4.98e-05 | 0.000149 | *** |\n",
       "| 7 | Pre      | PTSD_M | PE | SC  | 15 | 15 | -0.1524986 | 14 | 8.81e-01 | 1.000000 | ns  |\n",
       "| 8 | Pre      | PTSD_M | PE | SIT | 15 | 15 |  0.3832364 | 14 | 7.07e-01 | 1.000000 | ns  |\n",
       "| 9 | Pre      | PTSD_M | SC | SIT | 15 | 15 |  0.4650186 | 14 | 6.49e-01 | 1.000000 | ns  |\n",
       "\n"
      ],
      "text/plain": [
       "  Period   .y.    group1 group2 n1 n2 statistic  df p        p.adj   \n",
       "1 Followup PTSD_M PE     SC     15 15 -2.1640873 14 4.80e-02 0.145000\n",
       "2 Followup PTSD_M PE     SIT    15 15 -0.5815421 14 5.70e-01 1.000000\n",
       "3 Followup PTSD_M SC     SIT    15 15  1.5630556 14 1.40e-01 0.420000\n",
       "4 Post     PTSD_M PE     SC     15 15 -2.0252516 14 6.20e-02 0.187000\n",
       "5 Post     PTSD_M PE     SIT    15 15  2.0713324 14 5.70e-02 0.172000\n",
       "6 Post     PTSD_M SC     SIT    15 15  5.7552609 14 4.98e-05 0.000149\n",
       "7 Pre      PTSD_M PE     SC     15 15 -0.1524986 14 8.81e-01 1.000000\n",
       "8 Pre      PTSD_M PE     SIT    15 15  0.3832364 14 7.07e-01 1.000000\n",
       "9 Pre      PTSD_M SC     SIT    15 15  0.4650186 14 6.49e-01 1.000000\n",
       "  p.adj.signif\n",
       "1 ns          \n",
       "2 ns          \n",
       "3 ns          \n",
       "4 ns          \n",
       "5 ns          \n",
       "6 ***         \n",
       "7 ns          \n",
       "8 ns          \n",
       "9 ns          "
      ]
     },
     "metadata": {},
     "output_type": "display_data"
    }
   ],
   "source": [
    "PTSD_data %>% group_by(Period) %>% pairwise_t_test(PTSD_M ~ Therapy, paired=TRUE,p.adjust.method = \"bonferroni\" )"
   ]
  },
  {
   "cell_type": "markdown",
   "metadata": {},
   "source": [
    "همه نتایج یکسان است و تنها تفاوتی اگر هم باشد در میزان پی است"
   ]
  },
  {
   "cell_type": "code",
   "execution_count": 573,
   "metadata": {},
   "outputs": [],
   "source": [
    "library(nlme)"
   ]
  },
  {
   "cell_type": "code",
   "execution_count": 577,
   "metadata": {
    "scrolled": false
   },
   "outputs": [
    {
     "data": {
      "text/plain": [
       "Linear mixed-effects model fit by REML\n",
       "  Data: PTSD_data \n",
       "       AIC      BIC    logLik\n",
       "  904.8497 938.8851 -440.4249\n",
       "\n",
       "Random effects:\n",
       " Formula: ~1 | ID\n",
       "        (Intercept) Residual\n",
       "StdDev:    6.434523 2.412946\n",
       "\n",
       "Correlation Structure: AR(1)\n",
       " Formula: ~1 | ID \n",
       " Parameter estimate(s):\n",
       "Phi \n",
       "  0 \n",
       "Fixed effects:  PTSD_M ~ Therapy * Period \n",
       "                     Value Std.Error  DF   t-value p-value\n",
       "(Intercept)      17.659259 0.5914539 126 29.857371  0.0000\n",
       "Therapy1         -0.948148 0.8364422 126 -1.133549  0.2591\n",
       "Therapy2          3.118519 0.8364422 126  3.728313  0.0003\n",
       "Period1          -4.148148 0.8364422 126 -4.959277  0.0000\n",
       "Period2          -3.059259 0.8364422 126 -3.657467  0.0004\n",
       "Therapy1:Period1 -1.629630 1.1829079 126 -1.377647  0.1708\n",
       "Therapy2:Period1  0.570370 1.1829079 126  0.482176  0.6305\n",
       "Therapy1:Period2  0.548148 1.1829079 126  0.463390  0.6439\n",
       "Therapy2:Period2  2.081481 1.1829079 126  1.759631  0.0809\n",
       " Correlation: \n",
       "                 (Intr) Thrpy1 Thrpy2 Perid1 Perid2 Th1:P1 Th2:P1 Th1:P2\n",
       "Therapy1          0.00                                                  \n",
       "Therapy2          0.00  -0.50                                           \n",
       "Period1           0.00   0.00   0.00                                    \n",
       "Period2           0.00   0.00   0.00  -0.50                             \n",
       "Therapy1:Period1  0.00   0.00   0.00   0.00   0.00                      \n",
       "Therapy2:Period1  0.00   0.00   0.00   0.00   0.00  -0.50               \n",
       "Therapy1:Period2  0.00   0.00   0.00   0.00   0.00  -0.50   0.25        \n",
       "Therapy2:Period2  0.00   0.00   0.00   0.00   0.00   0.25  -0.50  -0.50 \n",
       "\n",
       "Standardized Within-Group Residuals:\n",
       "        Min          Q1         Med          Q3         Max \n",
       "-0.68125665 -0.22140841 -0.01362513  0.18734558  1.35910701 \n",
       "\n",
       "Number of Observations: 135\n",
       "Number of Groups: 135 "
      ]
     },
     "metadata": {},
     "output_type": "display_data"
    }
   ],
   "source": [
    "mixed_model <- lme(\n",
    "  fixed = PTSD_M ~ Therapy * Period,\n",
    "  random = ~1 | ID,\n",
    "  data = PTSD_data,\n",
    "  correlation = corAR1(form = ~1 | ID),\n",
    "  method = \"REML\"\n",
    ")\n",
    "summary(mixed_model)\n"
   ]
  },
  {
   "cell_type": "code",
   "execution_count": 578,
   "metadata": {},
   "outputs": [
    {
     "data": {
      "text/html": [
       "<table class=\"dataframe\">\n",
       "<caption>A anova.lme: 4 × 4</caption>\n",
       "<thead>\n",
       "\t<tr><th></th><th scope=col>numDF</th><th scope=col>denDF</th><th scope=col>F-value</th><th scope=col>p-value</th></tr>\n",
       "\t<tr><th></th><th scope=col>&lt;int&gt;</th><th scope=col>&lt;dbl&gt;</th><th scope=col>&lt;dbl&gt;</th><th scope=col>&lt;dbl&gt;</th></tr>\n",
       "</thead>\n",
       "<tbody>\n",
       "\t<tr><th scope=row>(Intercept)</th><td>1</td><td>126</td><td>891.462580</td><td>0.000000e+00</td></tr>\n",
       "\t<tr><th scope=row>Therapy</th><td>2</td><td>126</td><td>  7.306019</td><td>9.952377e-04</td></tr>\n",
       "\t<tr><th scope=row>Period</th><td>2</td><td>126</td><td> 37.406583</td><td>1.767475e-13</td></tr>\n",
       "\t<tr><th scope=row>Therapy:Period</th><td>4</td><td>126</td><td>  2.089899</td><td>8.597242e-02</td></tr>\n",
       "</tbody>\n",
       "</table>\n"
      ],
      "text/latex": [
       "A anova.lme: 4 × 4\n",
       "\\begin{tabular}{r|llll}\n",
       "  & numDF & denDF & F-value & p-value\\\\\n",
       "  & <int> & <dbl> & <dbl> & <dbl>\\\\\n",
       "\\hline\n",
       "\t(Intercept) & 1 & 126 & 891.462580 & 0.000000e+00\\\\\n",
       "\tTherapy & 2 & 126 &   7.306019 & 9.952377e-04\\\\\n",
       "\tPeriod & 2 & 126 &  37.406583 & 1.767475e-13\\\\\n",
       "\tTherapy:Period & 4 & 126 &   2.089899 & 8.597242e-02\\\\\n",
       "\\end{tabular}\n"
      ],
      "text/markdown": [
       "\n",
       "A anova.lme: 4 × 4\n",
       "\n",
       "| <!--/--> | numDF &lt;int&gt; | denDF &lt;dbl&gt; | F-value &lt;dbl&gt; | p-value &lt;dbl&gt; |\n",
       "|---|---|---|---|---|\n",
       "| (Intercept) | 1 | 126 | 891.462580 | 0.000000e+00 |\n",
       "| Therapy | 2 | 126 |   7.306019 | 9.952377e-04 |\n",
       "| Period | 2 | 126 |  37.406583 | 1.767475e-13 |\n",
       "| Therapy:Period | 4 | 126 |   2.089899 | 8.597242e-02 |\n",
       "\n"
      ],
      "text/plain": [
       "               numDF denDF F-value    p-value     \n",
       "(Intercept)    1     126   891.462580 0.000000e+00\n",
       "Therapy        2     126     7.306019 9.952377e-04\n",
       "Period         2     126    37.406583 1.767475e-13\n",
       "Therapy:Period 4     126     2.089899 8.597242e-02"
      ]
     },
     "metadata": {},
     "output_type": "display_data"
    }
   ],
   "source": [
    "anova(mixed_model)"
   ]
  },
  {
   "cell_type": "markdown",
   "metadata": {},
   "source": [
    "تابع lme برای فیت کردن مدل استفاده می شود.\n",
    "\n",
    "\n",
    "در متغیر fixed مقدار متغیر وابسته مان دربرابر متغیرهای دیگر(نوع درمان و دوره زمانی) قرار می گیرد (معیار سنجش خروجی)\n",
    "\n",
    "  آرگومان رندم شامل مقدار آی دی است به عنوان مشخصه ای از افراد که در آزمایه های مختلف در دوره های مختلف شرکت می کنند.\n",
    "  \n",
    "در متغیر دیتا داده هایمان را قرار می دهیم\n",
    "\n",
    "آرگومان همبستگی ساختار همبستگی مورد استفاده را مشخص می کند. در این مورد، از یک ساختار خودرگرسیون استفاده می‌شود، که در آن مشاهدات درون فردی (در دوره های پیش؛ پس و فالوآپ) بیشتر از مشاهدات افراد دیگر با یکدیگر همبستگی دارند.\n",
    "\n",
    "تابع corAR1 برای تعیین این ساختار استفاده می شود. \n",
    "\n",
    "\n",
    "آرگومان متد مشخص می کند که مدل با استفاده از برآورد حداکثر درستنمایی محدود (REML) برازش  کند.\n",
    "\n",
    "برای مشاهده نتایج مدل از تابع سامری استفاده می شود.\n",
    "\n",
    "در نهایت، تابع آنووا برای انجام یک تحلیل واریانس بر روی مدل، مورد استفاده قرار می گیرد.\n"
   ]
  },
  {
   "cell_type": "code",
   "execution_count": 574,
   "metadata": {},
   "outputs": [
    {
     "name": "stderr",
     "output_type": "stream",
     "text": [
      "NOTE: Results may be misleading due to involvement in interactions\n",
      "\n"
     ]
    },
    {
     "data": {
      "text/plain": [
       " contrast estimate   SE  df t.ratio p.value\n",
       " PE - SC     -4.07 1.45 126  -2.807  0.0159\n",
       " PE - SIT     1.22 1.45 126   0.844  0.6767\n",
       " SC - SIT     5.29 1.45 126   3.651  0.0011\n",
       "\n",
       "Results are averaged over the levels of: Period \n",
       "Degrees-of-freedom method: containment \n",
       "P value adjustment: tukey method for comparing a family of 3 estimates "
      ]
     },
     "metadata": {},
     "output_type": "display_data"
    }
   ],
   "source": [
    "library(emmeans)\n",
    "pairwise_results <- emmeans(mixed_model, ~ Therapy)\n",
    "pairwise_contrasts <- contrast(pairwise_results, method = \"pairwise\")\n",
    "pairwise_contrasts"
   ]
  },
  {
   "cell_type": "markdown",
   "metadata": {},
   "source": [
    "تفاوت مشهود بین اس سی و پی ای است"
   ]
  },
  {
   "cell_type": "code",
   "execution_count": 575,
   "metadata": {},
   "outputs": [
    {
     "name": "stderr",
     "output_type": "stream",
     "text": [
      "NOTE: Results may be misleading due to involvement in interactions\n",
      "\n"
     ]
    },
    {
     "data": {
      "text/plain": [
       " contrast        estimate   SE  df t.ratio p.value\n",
       " Followup - Post    -1.09 1.45 126  -0.752  0.7332\n",
       " Followup - Pre    -11.36 1.45 126  -7.838  <.0001\n",
       " Post - Pre        -10.27 1.45 126  -7.087  <.0001\n",
       "\n",
       "Results are averaged over the levels of: Therapy \n",
       "Degrees-of-freedom method: containment \n",
       "P value adjustment: tukey method for comparing a family of 3 estimates "
      ]
     },
     "metadata": {},
     "output_type": "display_data"
    }
   ],
   "source": [
    "pairwise_results <- emmeans(mixed_model, ~ Period)\n",
    "pairwise_contrasts <- contrast(pairwise_results, method = \"pairwise\")\n",
    "pairwise_contrasts"
   ]
  },
  {
   "cell_type": "markdown",
   "metadata": {},
   "source": [
    "نتایج  به دست آمده در اینجا از مشاهدات قبل حمایت می کند. تفاوت عمده بین حالا پیش و پس؛ و پیش و فالوآپ است"
   ]
  },
  {
   "cell_type": "markdown",
   "metadata": {},
   "source": [
    "## The following data come from above data with some observations deleted"
   ]
  },
  {
   "cell_type": "code",
   "execution_count": 615,
   "metadata": {},
   "outputs": [],
   "source": [
    "PTSD_data_r <- data.frame(\n",
    "    Therapy = c(\"SIT\", \"SIT\",\"SIT\", \"SIT\", \"SIT\",\"SIT\", \"SIT\",\"SIT\", \"SIT\", \"SIT\", \"SIT\",\"SIT\",\"SIT\",\"SIT\", \"SIT\",\"SIT\", \"SIT\", \"SIT\", \"SIT\",\"SIT\",\"SIT\",\"SIT\", \"SIT\",\"SIT\", \"SIT\", \"SIT\", \"SIT\",\"SIT\",\"SIT\",\"SIT\",\"SIT\",\"SIT\", \"SIT\", \"SIT\", \"SIT\",\"SIT\",\"SIT\",\"SIT\", \"SIT\",\"SIT\", \"SIT\", \"SIT\", \"SIT\",\"SIT\",\"SIT\",\n",
    "              \"PE\", \"PE\",\"PE\", \"PE\", \"PE\",\"PE\", \"PE\",\"PE\", \"PE\", \"PE\", \"PE\",\"PE\",\"PE\",\"PE\", \"PE\",\"PE\", \"PE\", \"PE\", \"PE\",\"PE\",\"PE\",\"PE\", \"PE\",\"PE\", \"PE\", \"PE\", \"PE\",\"PE\",\"PE\",\"PE\",\"PE\",\"PE\", \"PE\", \"PE\", \"PE\",\"PE\",\"PE\",\"PE\", \"PE\",\"PE\", \"PE\", \"PE\", \"PE\",\"PE\",\"PE\",\n",
    "                \"SC\", \"SC\",\"SC\", \"SC\", \"SC\",\"SC\", \"SC\",\"SC\", \"SC\", \"SC\", \"SC\",\"SC\",\"SC\",\"SC\", \"SC\",\"SC\", \"SC\", \"SC\", \"SC\",\"SC\",\"SC\",\"SC\", \"SC\",\"SC\", \"SC\", \"SC\", \"SC\",\"SC\",\"SC\",\"SC\",\"SC\",\"SC\", \"SC\", \"SC\", \"SC\",\"SC\",\"SC\",\"SC\", \"SC\",\"SC\", \"SC\", \"SC\", \"SC\",\"SC\",\"SC\"\n",
    "               ),\n",
    "    Period = c(\n",
    "                     \"Pre\", \"Pre\",\"Pre\", \"Pre\", \"Pre\",\"Pre\", \"Pre\",\"Pre\", \"Pre\", \"Pre\",\"Pre\", \"Pre\",\"Pre\", \"Pre\", \"Pre\",\n",
    "                     \"Post\",\"Post\",\"Post\",\"Post\",\"Post\",\"Post\",\"Post\",\"Post\",\"Post\",\"Post\",\"Post\",\"Post\",\"Post\",\"Post\",\"Post\",\n",
    "                     \"Followup\",\"Followup\",\"Followup\",\"Followup\",\"Followup\",\"Followup\",\"Followup\",\"Followup\",\"Followup\",\"Followup\",\"Followup\",\"Followup\",\"Followup\",\"Followup\",\"Followup\",\n",
    "                     \"Pre\", \"Pre\",\"Pre\", \"Pre\", \"Pre\",\"Pre\", \"Pre\",\"Pre\", \"Pre\", \"Pre\",\"Pre\", \"Pre\",\"Pre\", \"Pre\", \"Pre\",\n",
    "                     \"Post\",\"Post\",\"Post\",\"Post\",\"Post\",\"Post\",\"Post\",\"Post\",\"Post\",\"Post\",\"Post\",\"Post\",\"Post\",\"Post\",\"Post\",\n",
    "                     \"Followup\",\"Followup\",\"Followup\",\"Followup\",\"Followup\",\"Followup\",\"Followup\",\"Followup\",\"Followup\",\"Followup\",\"Followup\",\"Followup\",\"Followup\",\"Followup\",\"Followup\",\n",
    "                     \"Pre\", \"Pre\",\"Pre\", \"Pre\", \"Pre\",\"Pre\", \"Pre\",\"Pre\", \"Pre\", \"Pre\",\"Pre\", \"Pre\",\"Pre\", \"Pre\", \"Pre\",\n",
    "                     \"Post\",\"Post\",\"Post\",\"Post\",\"Post\",\"Post\",\"Post\",\"Post\",\"Post\",\"Post\",\"Post\",\"Post\",\"Post\",\"Post\",\"Post\",\n",
    "                     \"Followup\",\"Followup\",\"Followup\",\"Followup\",\"Followup\",\"Followup\",\"Followup\",\"Followup\",\"Followup\",\"Followup\",\"Followup\",\"Followup\",\"Followup\",\"Followup\",\"Followup\"   \n",
    "                 ),\n",
    "    PTSD_M=c(19,28,18,999,21,24,26,15,18,34,20,34,29,33,22,\n",
    "            6,14,6,6,6,10,10,6,8,13,999,10,16,19,7,\n",
    "             1,16,8,11,13,8,999,13,6,8,999,1,23,39,16,\n",
    "             20,999,36,25,26,30,19,19,22,22,24,28,29,27,27,\n",
    "             5,999,26,11,999,31,6,7,4,17,19,22,23,15,7,\n",
    "             0,21,17,9,7,10,11,999,999,20,1,16,20,20,3,\n",
    "             12,27,24,32,26,18,38,26,23,22,34,22,27,23,26,\n",
    "             14,18,999,21,20,20,35,22,10,19,999,15,18,21,18,\n",
    "             18,9,13,11,18,26,34,999,8,19,999,12,13,19,13\n",
    "            ),\n",
    "        ID=c(1,2,3,4,5,6,7,8,9,10,11,12,13,14,15,\n",
    "         1,2,3,4,5,6,7,8,9,10,11,12,13,14,15,\n",
    "         1,2,3,4,5,6,7,8,9,10,11,12,13,14,15,\n",
    "         16,17,18,19,20,21,22,23,24,25,26,27,28,29,30,\n",
    "         16,17,18,19,20,21,22,23,24,25,26,27,28,29,30,\n",
    "         16,17,18,19,20,21,22,23,24,25,26,27,28,29,30,\n",
    "         31,32,33,34,35,36,37,38,39,40,41,42,43,44,45,\n",
    "         31,32,33,34,35,36,37,38,39,40,41,42,43,44,45,\n",
    "         31,32,33,34,35,36,37,38,39,40,41,42,43,44,45\n",
    "        )\n",
    ")"
   ]
  },
  {
   "cell_type": "code",
   "execution_count": 242,
   "metadata": {},
   "outputs": [],
   "source": [
    "# PTSD_data_r$ID <- seq.int(nrow(PTSD_data_r))"
   ]
  },
  {
   "cell_type": "code",
   "execution_count": 616,
   "metadata": {},
   "outputs": [
    {
     "data": {
      "text/html": [
       "<table class=\"dataframe\">\n",
       "<caption>A data.frame: 135 × 4</caption>\n",
       "<thead>\n",
       "\t<tr><th scope=col>Therapy</th><th scope=col>Period</th><th scope=col>PTSD_M</th><th scope=col>ID</th></tr>\n",
       "\t<tr><th scope=col>&lt;chr&gt;</th><th scope=col>&lt;chr&gt;</th><th scope=col>&lt;dbl&gt;</th><th scope=col>&lt;dbl&gt;</th></tr>\n",
       "</thead>\n",
       "<tbody>\n",
       "\t<tr><td>SIT</td><td>Pre </td><td> 19</td><td> 1</td></tr>\n",
       "\t<tr><td>SIT</td><td>Pre </td><td> 28</td><td> 2</td></tr>\n",
       "\t<tr><td>SIT</td><td>Pre </td><td> 18</td><td> 3</td></tr>\n",
       "\t<tr><td>SIT</td><td>Pre </td><td>999</td><td> 4</td></tr>\n",
       "\t<tr><td>SIT</td><td>Pre </td><td> 21</td><td> 5</td></tr>\n",
       "\t<tr><td>SIT</td><td>Pre </td><td> 24</td><td> 6</td></tr>\n",
       "\t<tr><td>SIT</td><td>Pre </td><td> 26</td><td> 7</td></tr>\n",
       "\t<tr><td>SIT</td><td>Pre </td><td> 15</td><td> 8</td></tr>\n",
       "\t<tr><td>SIT</td><td>Pre </td><td> 18</td><td> 9</td></tr>\n",
       "\t<tr><td>SIT</td><td>Pre </td><td> 34</td><td>10</td></tr>\n",
       "\t<tr><td>SIT</td><td>Pre </td><td> 20</td><td>11</td></tr>\n",
       "\t<tr><td>SIT</td><td>Pre </td><td> 34</td><td>12</td></tr>\n",
       "\t<tr><td>SIT</td><td>Pre </td><td> 29</td><td>13</td></tr>\n",
       "\t<tr><td>SIT</td><td>Pre </td><td> 33</td><td>14</td></tr>\n",
       "\t<tr><td>SIT</td><td>Pre </td><td> 22</td><td>15</td></tr>\n",
       "\t<tr><td>SIT</td><td>Post</td><td>  6</td><td> 1</td></tr>\n",
       "\t<tr><td>SIT</td><td>Post</td><td> 14</td><td> 2</td></tr>\n",
       "\t<tr><td>SIT</td><td>Post</td><td>  6</td><td> 3</td></tr>\n",
       "\t<tr><td>SIT</td><td>Post</td><td>  6</td><td> 4</td></tr>\n",
       "\t<tr><td>SIT</td><td>Post</td><td>  6</td><td> 5</td></tr>\n",
       "\t<tr><td>SIT</td><td>Post</td><td> 10</td><td> 6</td></tr>\n",
       "\t<tr><td>SIT</td><td>Post</td><td> 10</td><td> 7</td></tr>\n",
       "\t<tr><td>SIT</td><td>Post</td><td>  6</td><td> 8</td></tr>\n",
       "\t<tr><td>SIT</td><td>Post</td><td>  8</td><td> 9</td></tr>\n",
       "\t<tr><td>SIT</td><td>Post</td><td> 13</td><td>10</td></tr>\n",
       "\t<tr><td>SIT</td><td>Post</td><td>999</td><td>11</td></tr>\n",
       "\t<tr><td>SIT</td><td>Post</td><td> 10</td><td>12</td></tr>\n",
       "\t<tr><td>SIT</td><td>Post</td><td> 16</td><td>13</td></tr>\n",
       "\t<tr><td>SIT</td><td>Post</td><td> 19</td><td>14</td></tr>\n",
       "\t<tr><td>SIT</td><td>Post</td><td>  7</td><td>15</td></tr>\n",
       "\t<tr><td>...</td><td>...</td><td>...</td><td>...</td></tr>\n",
       "\t<tr><td>SC</td><td>Post    </td><td> 14</td><td>31</td></tr>\n",
       "\t<tr><td>SC</td><td>Post    </td><td> 18</td><td>32</td></tr>\n",
       "\t<tr><td>SC</td><td>Post    </td><td>999</td><td>33</td></tr>\n",
       "\t<tr><td>SC</td><td>Post    </td><td> 21</td><td>34</td></tr>\n",
       "\t<tr><td>SC</td><td>Post    </td><td> 20</td><td>35</td></tr>\n",
       "\t<tr><td>SC</td><td>Post    </td><td> 20</td><td>36</td></tr>\n",
       "\t<tr><td>SC</td><td>Post    </td><td> 35</td><td>37</td></tr>\n",
       "\t<tr><td>SC</td><td>Post    </td><td> 22</td><td>38</td></tr>\n",
       "\t<tr><td>SC</td><td>Post    </td><td> 10</td><td>39</td></tr>\n",
       "\t<tr><td>SC</td><td>Post    </td><td> 19</td><td>40</td></tr>\n",
       "\t<tr><td>SC</td><td>Post    </td><td>999</td><td>41</td></tr>\n",
       "\t<tr><td>SC</td><td>Post    </td><td> 15</td><td>42</td></tr>\n",
       "\t<tr><td>SC</td><td>Post    </td><td> 18</td><td>43</td></tr>\n",
       "\t<tr><td>SC</td><td>Post    </td><td> 21</td><td>44</td></tr>\n",
       "\t<tr><td>SC</td><td>Post    </td><td> 18</td><td>45</td></tr>\n",
       "\t<tr><td>SC</td><td>Followup</td><td> 18</td><td>31</td></tr>\n",
       "\t<tr><td>SC</td><td>Followup</td><td>  9</td><td>32</td></tr>\n",
       "\t<tr><td>SC</td><td>Followup</td><td> 13</td><td>33</td></tr>\n",
       "\t<tr><td>SC</td><td>Followup</td><td> 11</td><td>34</td></tr>\n",
       "\t<tr><td>SC</td><td>Followup</td><td> 18</td><td>35</td></tr>\n",
       "\t<tr><td>SC</td><td>Followup</td><td> 26</td><td>36</td></tr>\n",
       "\t<tr><td>SC</td><td>Followup</td><td> 34</td><td>37</td></tr>\n",
       "\t<tr><td>SC</td><td>Followup</td><td>999</td><td>38</td></tr>\n",
       "\t<tr><td>SC</td><td>Followup</td><td>  8</td><td>39</td></tr>\n",
       "\t<tr><td>SC</td><td>Followup</td><td> 19</td><td>40</td></tr>\n",
       "\t<tr><td>SC</td><td>Followup</td><td>999</td><td>41</td></tr>\n",
       "\t<tr><td>SC</td><td>Followup</td><td> 12</td><td>42</td></tr>\n",
       "\t<tr><td>SC</td><td>Followup</td><td> 13</td><td>43</td></tr>\n",
       "\t<tr><td>SC</td><td>Followup</td><td> 19</td><td>44</td></tr>\n",
       "\t<tr><td>SC</td><td>Followup</td><td> 13</td><td>45</td></tr>\n",
       "</tbody>\n",
       "</table>\n"
      ],
      "text/latex": [
       "A data.frame: 135 × 4\n",
       "\\begin{tabular}{llll}\n",
       " Therapy & Period & PTSD\\_M & ID\\\\\n",
       " <chr> & <chr> & <dbl> & <dbl>\\\\\n",
       "\\hline\n",
       "\t SIT & Pre  &  19 &  1\\\\\n",
       "\t SIT & Pre  &  28 &  2\\\\\n",
       "\t SIT & Pre  &  18 &  3\\\\\n",
       "\t SIT & Pre  & 999 &  4\\\\\n",
       "\t SIT & Pre  &  21 &  5\\\\\n",
       "\t SIT & Pre  &  24 &  6\\\\\n",
       "\t SIT & Pre  &  26 &  7\\\\\n",
       "\t SIT & Pre  &  15 &  8\\\\\n",
       "\t SIT & Pre  &  18 &  9\\\\\n",
       "\t SIT & Pre  &  34 & 10\\\\\n",
       "\t SIT & Pre  &  20 & 11\\\\\n",
       "\t SIT & Pre  &  34 & 12\\\\\n",
       "\t SIT & Pre  &  29 & 13\\\\\n",
       "\t SIT & Pre  &  33 & 14\\\\\n",
       "\t SIT & Pre  &  22 & 15\\\\\n",
       "\t SIT & Post &   6 &  1\\\\\n",
       "\t SIT & Post &  14 &  2\\\\\n",
       "\t SIT & Post &   6 &  3\\\\\n",
       "\t SIT & Post &   6 &  4\\\\\n",
       "\t SIT & Post &   6 &  5\\\\\n",
       "\t SIT & Post &  10 &  6\\\\\n",
       "\t SIT & Post &  10 &  7\\\\\n",
       "\t SIT & Post &   6 &  8\\\\\n",
       "\t SIT & Post &   8 &  9\\\\\n",
       "\t SIT & Post &  13 & 10\\\\\n",
       "\t SIT & Post & 999 & 11\\\\\n",
       "\t SIT & Post &  10 & 12\\\\\n",
       "\t SIT & Post &  16 & 13\\\\\n",
       "\t SIT & Post &  19 & 14\\\\\n",
       "\t SIT & Post &   7 & 15\\\\\n",
       "\t ... & ... & ... & ...\\\\\n",
       "\t SC & Post     &  14 & 31\\\\\n",
       "\t SC & Post     &  18 & 32\\\\\n",
       "\t SC & Post     & 999 & 33\\\\\n",
       "\t SC & Post     &  21 & 34\\\\\n",
       "\t SC & Post     &  20 & 35\\\\\n",
       "\t SC & Post     &  20 & 36\\\\\n",
       "\t SC & Post     &  35 & 37\\\\\n",
       "\t SC & Post     &  22 & 38\\\\\n",
       "\t SC & Post     &  10 & 39\\\\\n",
       "\t SC & Post     &  19 & 40\\\\\n",
       "\t SC & Post     & 999 & 41\\\\\n",
       "\t SC & Post     &  15 & 42\\\\\n",
       "\t SC & Post     &  18 & 43\\\\\n",
       "\t SC & Post     &  21 & 44\\\\\n",
       "\t SC & Post     &  18 & 45\\\\\n",
       "\t SC & Followup &  18 & 31\\\\\n",
       "\t SC & Followup &   9 & 32\\\\\n",
       "\t SC & Followup &  13 & 33\\\\\n",
       "\t SC & Followup &  11 & 34\\\\\n",
       "\t SC & Followup &  18 & 35\\\\\n",
       "\t SC & Followup &  26 & 36\\\\\n",
       "\t SC & Followup &  34 & 37\\\\\n",
       "\t SC & Followup & 999 & 38\\\\\n",
       "\t SC & Followup &   8 & 39\\\\\n",
       "\t SC & Followup &  19 & 40\\\\\n",
       "\t SC & Followup & 999 & 41\\\\\n",
       "\t SC & Followup &  12 & 42\\\\\n",
       "\t SC & Followup &  13 & 43\\\\\n",
       "\t SC & Followup &  19 & 44\\\\\n",
       "\t SC & Followup &  13 & 45\\\\\n",
       "\\end{tabular}\n"
      ],
      "text/markdown": [
       "\n",
       "A data.frame: 135 × 4\n",
       "\n",
       "| Therapy &lt;chr&gt; | Period &lt;chr&gt; | PTSD_M &lt;dbl&gt; | ID &lt;dbl&gt; |\n",
       "|---|---|---|---|\n",
       "| SIT | Pre  |  19 |  1 |\n",
       "| SIT | Pre  |  28 |  2 |\n",
       "| SIT | Pre  |  18 |  3 |\n",
       "| SIT | Pre  | 999 |  4 |\n",
       "| SIT | Pre  |  21 |  5 |\n",
       "| SIT | Pre  |  24 |  6 |\n",
       "| SIT | Pre  |  26 |  7 |\n",
       "| SIT | Pre  |  15 |  8 |\n",
       "| SIT | Pre  |  18 |  9 |\n",
       "| SIT | Pre  |  34 | 10 |\n",
       "| SIT | Pre  |  20 | 11 |\n",
       "| SIT | Pre  |  34 | 12 |\n",
       "| SIT | Pre  |  29 | 13 |\n",
       "| SIT | Pre  |  33 | 14 |\n",
       "| SIT | Pre  |  22 | 15 |\n",
       "| SIT | Post |   6 |  1 |\n",
       "| SIT | Post |  14 |  2 |\n",
       "| SIT | Post |   6 |  3 |\n",
       "| SIT | Post |   6 |  4 |\n",
       "| SIT | Post |   6 |  5 |\n",
       "| SIT | Post |  10 |  6 |\n",
       "| SIT | Post |  10 |  7 |\n",
       "| SIT | Post |   6 |  8 |\n",
       "| SIT | Post |   8 |  9 |\n",
       "| SIT | Post |  13 | 10 |\n",
       "| SIT | Post | 999 | 11 |\n",
       "| SIT | Post |  10 | 12 |\n",
       "| SIT | Post |  16 | 13 |\n",
       "| SIT | Post |  19 | 14 |\n",
       "| SIT | Post |   7 | 15 |\n",
       "| ... | ... | ... | ... |\n",
       "| SC | Post     |  14 | 31 |\n",
       "| SC | Post     |  18 | 32 |\n",
       "| SC | Post     | 999 | 33 |\n",
       "| SC | Post     |  21 | 34 |\n",
       "| SC | Post     |  20 | 35 |\n",
       "| SC | Post     |  20 | 36 |\n",
       "| SC | Post     |  35 | 37 |\n",
       "| SC | Post     |  22 | 38 |\n",
       "| SC | Post     |  10 | 39 |\n",
       "| SC | Post     |  19 | 40 |\n",
       "| SC | Post     | 999 | 41 |\n",
       "| SC | Post     |  15 | 42 |\n",
       "| SC | Post     |  18 | 43 |\n",
       "| SC | Post     |  21 | 44 |\n",
       "| SC | Post     |  18 | 45 |\n",
       "| SC | Followup |  18 | 31 |\n",
       "| SC | Followup |   9 | 32 |\n",
       "| SC | Followup |  13 | 33 |\n",
       "| SC | Followup |  11 | 34 |\n",
       "| SC | Followup |  18 | 35 |\n",
       "| SC | Followup |  26 | 36 |\n",
       "| SC | Followup |  34 | 37 |\n",
       "| SC | Followup | 999 | 38 |\n",
       "| SC | Followup |   8 | 39 |\n",
       "| SC | Followup |  19 | 40 |\n",
       "| SC | Followup | 999 | 41 |\n",
       "| SC | Followup |  12 | 42 |\n",
       "| SC | Followup |  13 | 43 |\n",
       "| SC | Followup |  19 | 44 |\n",
       "| SC | Followup |  13 | 45 |\n",
       "\n"
      ],
      "text/plain": [
       "    Therapy Period   PTSD_M ID \n",
       "1   SIT     Pre       19     1 \n",
       "2   SIT     Pre       28     2 \n",
       "3   SIT     Pre       18     3 \n",
       "4   SIT     Pre      999     4 \n",
       "5   SIT     Pre       21     5 \n",
       "6   SIT     Pre       24     6 \n",
       "7   SIT     Pre       26     7 \n",
       "8   SIT     Pre       15     8 \n",
       "9   SIT     Pre       18     9 \n",
       "10  SIT     Pre       34    10 \n",
       "11  SIT     Pre       20    11 \n",
       "12  SIT     Pre       34    12 \n",
       "13  SIT     Pre       29    13 \n",
       "14  SIT     Pre       33    14 \n",
       "15  SIT     Pre       22    15 \n",
       "16  SIT     Post       6     1 \n",
       "17  SIT     Post      14     2 \n",
       "18  SIT     Post       6     3 \n",
       "19  SIT     Post       6     4 \n",
       "20  SIT     Post       6     5 \n",
       "21  SIT     Post      10     6 \n",
       "22  SIT     Post      10     7 \n",
       "23  SIT     Post       6     8 \n",
       "24  SIT     Post       8     9 \n",
       "25  SIT     Post      13    10 \n",
       "26  SIT     Post     999    11 \n",
       "27  SIT     Post      10    12 \n",
       "28  SIT     Post      16    13 \n",
       "29  SIT     Post      19    14 \n",
       "30  SIT     Post       7    15 \n",
       "... ...     ...      ...    ...\n",
       "106 SC      Post      14    31 \n",
       "107 SC      Post      18    32 \n",
       "108 SC      Post     999    33 \n",
       "109 SC      Post      21    34 \n",
       "110 SC      Post      20    35 \n",
       "111 SC      Post      20    36 \n",
       "112 SC      Post      35    37 \n",
       "113 SC      Post      22    38 \n",
       "114 SC      Post      10    39 \n",
       "115 SC      Post      19    40 \n",
       "116 SC      Post     999    41 \n",
       "117 SC      Post      15    42 \n",
       "118 SC      Post      18    43 \n",
       "119 SC      Post      21    44 \n",
       "120 SC      Post      18    45 \n",
       "121 SC      Followup  18    31 \n",
       "122 SC      Followup   9    32 \n",
       "123 SC      Followup  13    33 \n",
       "124 SC      Followup  11    34 \n",
       "125 SC      Followup  18    35 \n",
       "126 SC      Followup  26    36 \n",
       "127 SC      Followup  34    37 \n",
       "128 SC      Followup 999    38 \n",
       "129 SC      Followup   8    39 \n",
       "130 SC      Followup  19    40 \n",
       "131 SC      Followup 999    41 \n",
       "132 SC      Followup  12    42 \n",
       "133 SC      Followup  13    43 \n",
       "134 SC      Followup  19    44 \n",
       "135 SC      Followup  13    45 "
      ]
     },
     "metadata": {},
     "output_type": "display_data"
    }
   ],
   "source": [
    "PTSD_data_r"
   ]
  },
  {
   "cell_type": "code",
   "execution_count": 617,
   "metadata": {
    "scrolled": true
   },
   "outputs": [
    {
     "data": {
      "text/html": [
       "<table class=\"dataframe\">\n",
       "<caption>A tibble: 9 × 15</caption>\n",
       "<thead>\n",
       "\t<tr><th scope=col>Therapy</th><th scope=col>Period</th><th scope=col>variable</th><th scope=col>n</th><th scope=col>min</th><th scope=col>max</th><th scope=col>median</th><th scope=col>q1</th><th scope=col>q3</th><th scope=col>iqr</th><th scope=col>mad</th><th scope=col>mean</th><th scope=col>sd</th><th scope=col>se</th><th scope=col>ci</th></tr>\n",
       "\t<tr><th scope=col>&lt;chr&gt;</th><th scope=col>&lt;chr&gt;</th><th scope=col>&lt;fct&gt;</th><th scope=col>&lt;dbl&gt;</th><th scope=col>&lt;dbl&gt;</th><th scope=col>&lt;dbl&gt;</th><th scope=col>&lt;dbl&gt;</th><th scope=col>&lt;dbl&gt;</th><th scope=col>&lt;dbl&gt;</th><th scope=col>&lt;dbl&gt;</th><th scope=col>&lt;dbl&gt;</th><th scope=col>&lt;dbl&gt;</th><th scope=col>&lt;dbl&gt;</th><th scope=col>&lt;dbl&gt;</th><th scope=col>&lt;dbl&gt;</th></tr>\n",
       "</thead>\n",
       "<tbody>\n",
       "\t<tr><td>PE </td><td>Followup</td><td>PTSD_M</td><td>15</td><td> 0</td><td>999</td><td>16</td><td> 8.0</td><td>20.0</td><td>12.0</td><td> 8.896</td><td>143.533</td><td>347.390</td><td>89.696</td><td>192.378</td></tr>\n",
       "\t<tr><td>PE </td><td>Post    </td><td>PTSD_M</td><td>15</td><td> 4</td><td>999</td><td>17</td><td> 7.0</td><td>24.5</td><td>17.5</td><td>14.826</td><td>146.067</td><td>346.389</td><td>89.437</td><td>191.824</td></tr>\n",
       "\t<tr><td>PE </td><td>Pre     </td><td>PTSD_M</td><td>15</td><td>19</td><td>999</td><td>26</td><td>22.0</td><td>28.5</td><td> 6.5</td><td> 5.930</td><td> 90.200</td><td>251.454</td><td>64.925</td><td>139.250</td></tr>\n",
       "\t<tr><td>SC </td><td>Followup</td><td>PTSD_M</td><td>15</td><td> 8</td><td>999</td><td>18</td><td>12.5</td><td>22.5</td><td>10.0</td><td> 8.896</td><td>147.400</td><td>345.814</td><td>89.289</td><td>191.505</td></tr>\n",
       "\t<tr><td>SC </td><td>Post    </td><td>PTSD_M</td><td>15</td><td>10</td><td>999</td><td>20</td><td>18.0</td><td>21.5</td><td> 3.5</td><td> 2.965</td><td>149.933</td><td>344.762</td><td>89.017</td><td>190.923</td></tr>\n",
       "\t<tr><td>SC </td><td>Pre     </td><td>PTSD_M</td><td>15</td><td>12</td><td> 38</td><td>26</td><td>22.5</td><td>27.0</td><td> 4.5</td><td> 4.448</td><td> 25.333</td><td>  6.287</td><td> 1.623</td><td>  3.482</td></tr>\n",
       "\t<tr><td>SIT</td><td>Followup</td><td>PTSD_M</td><td>15</td><td> 1</td><td>999</td><td>13</td><td> 8.0</td><td>19.5</td><td>11.5</td><td> 7.413</td><td>144.067</td><td>347.226</td><td>89.653</td><td>192.287</td></tr>\n",
       "\t<tr><td>SIT</td><td>Post    </td><td>PTSD_M</td><td>15</td><td> 6</td><td>999</td><td>10</td><td> 6.0</td><td>13.5</td><td> 7.5</td><td> 5.930</td><td> 75.733</td><td>255.447</td><td>65.956</td><td>141.462</td></tr>\n",
       "\t<tr><td>SIT</td><td>Pre     </td><td>PTSD_M</td><td>15</td><td>15</td><td>999</td><td>24</td><td>19.5</td><td>31.0</td><td>11.5</td><td> 7.413</td><td> 89.333</td><td>251.727</td><td>64.996</td><td>139.402</td></tr>\n",
       "</tbody>\n",
       "</table>\n"
      ],
      "text/latex": [
       "A tibble: 9 × 15\n",
       "\\begin{tabular}{lllllllllllllll}\n",
       " Therapy & Period & variable & n & min & max & median & q1 & q3 & iqr & mad & mean & sd & se & ci\\\\\n",
       " <chr> & <chr> & <fct> & <dbl> & <dbl> & <dbl> & <dbl> & <dbl> & <dbl> & <dbl> & <dbl> & <dbl> & <dbl> & <dbl> & <dbl>\\\\\n",
       "\\hline\n",
       "\t PE  & Followup & PTSD\\_M & 15 &  0 & 999 & 16 &  8.0 & 20.0 & 12.0 &  8.896 & 143.533 & 347.390 & 89.696 & 192.378\\\\\n",
       "\t PE  & Post     & PTSD\\_M & 15 &  4 & 999 & 17 &  7.0 & 24.5 & 17.5 & 14.826 & 146.067 & 346.389 & 89.437 & 191.824\\\\\n",
       "\t PE  & Pre      & PTSD\\_M & 15 & 19 & 999 & 26 & 22.0 & 28.5 &  6.5 &  5.930 &  90.200 & 251.454 & 64.925 & 139.250\\\\\n",
       "\t SC  & Followup & PTSD\\_M & 15 &  8 & 999 & 18 & 12.5 & 22.5 & 10.0 &  8.896 & 147.400 & 345.814 & 89.289 & 191.505\\\\\n",
       "\t SC  & Post     & PTSD\\_M & 15 & 10 & 999 & 20 & 18.0 & 21.5 &  3.5 &  2.965 & 149.933 & 344.762 & 89.017 & 190.923\\\\\n",
       "\t SC  & Pre      & PTSD\\_M & 15 & 12 &  38 & 26 & 22.5 & 27.0 &  4.5 &  4.448 &  25.333 &   6.287 &  1.623 &   3.482\\\\\n",
       "\t SIT & Followup & PTSD\\_M & 15 &  1 & 999 & 13 &  8.0 & 19.5 & 11.5 &  7.413 & 144.067 & 347.226 & 89.653 & 192.287\\\\\n",
       "\t SIT & Post     & PTSD\\_M & 15 &  6 & 999 & 10 &  6.0 & 13.5 &  7.5 &  5.930 &  75.733 & 255.447 & 65.956 & 141.462\\\\\n",
       "\t SIT & Pre      & PTSD\\_M & 15 & 15 & 999 & 24 & 19.5 & 31.0 & 11.5 &  7.413 &  89.333 & 251.727 & 64.996 & 139.402\\\\\n",
       "\\end{tabular}\n"
      ],
      "text/markdown": [
       "\n",
       "A tibble: 9 × 15\n",
       "\n",
       "| Therapy &lt;chr&gt; | Period &lt;chr&gt; | variable &lt;fct&gt; | n &lt;dbl&gt; | min &lt;dbl&gt; | max &lt;dbl&gt; | median &lt;dbl&gt; | q1 &lt;dbl&gt; | q3 &lt;dbl&gt; | iqr &lt;dbl&gt; | mad &lt;dbl&gt; | mean &lt;dbl&gt; | sd &lt;dbl&gt; | se &lt;dbl&gt; | ci &lt;dbl&gt; |\n",
       "|---|---|---|---|---|---|---|---|---|---|---|---|---|---|---|\n",
       "| PE  | Followup | PTSD_M | 15 |  0 | 999 | 16 |  8.0 | 20.0 | 12.0 |  8.896 | 143.533 | 347.390 | 89.696 | 192.378 |\n",
       "| PE  | Post     | PTSD_M | 15 |  4 | 999 | 17 |  7.0 | 24.5 | 17.5 | 14.826 | 146.067 | 346.389 | 89.437 | 191.824 |\n",
       "| PE  | Pre      | PTSD_M | 15 | 19 | 999 | 26 | 22.0 | 28.5 |  6.5 |  5.930 |  90.200 | 251.454 | 64.925 | 139.250 |\n",
       "| SC  | Followup | PTSD_M | 15 |  8 | 999 | 18 | 12.5 | 22.5 | 10.0 |  8.896 | 147.400 | 345.814 | 89.289 | 191.505 |\n",
       "| SC  | Post     | PTSD_M | 15 | 10 | 999 | 20 | 18.0 | 21.5 |  3.5 |  2.965 | 149.933 | 344.762 | 89.017 | 190.923 |\n",
       "| SC  | Pre      | PTSD_M | 15 | 12 |  38 | 26 | 22.5 | 27.0 |  4.5 |  4.448 |  25.333 |   6.287 |  1.623 |   3.482 |\n",
       "| SIT | Followup | PTSD_M | 15 |  1 | 999 | 13 |  8.0 | 19.5 | 11.5 |  7.413 | 144.067 | 347.226 | 89.653 | 192.287 |\n",
       "| SIT | Post     | PTSD_M | 15 |  6 | 999 | 10 |  6.0 | 13.5 |  7.5 |  5.930 |  75.733 | 255.447 | 65.956 | 141.462 |\n",
       "| SIT | Pre      | PTSD_M | 15 | 15 | 999 | 24 | 19.5 | 31.0 | 11.5 |  7.413 |  89.333 | 251.727 | 64.996 | 139.402 |\n",
       "\n"
      ],
      "text/plain": [
       "  Therapy Period   variable n  min max median q1   q3   iqr  mad    mean   \n",
       "1 PE      Followup PTSD_M   15  0  999 16      8.0 20.0 12.0  8.896 143.533\n",
       "2 PE      Post     PTSD_M   15  4  999 17      7.0 24.5 17.5 14.826 146.067\n",
       "3 PE      Pre      PTSD_M   15 19  999 26     22.0 28.5  6.5  5.930  90.200\n",
       "4 SC      Followup PTSD_M   15  8  999 18     12.5 22.5 10.0  8.896 147.400\n",
       "5 SC      Post     PTSD_M   15 10  999 20     18.0 21.5  3.5  2.965 149.933\n",
       "6 SC      Pre      PTSD_M   15 12   38 26     22.5 27.0  4.5  4.448  25.333\n",
       "7 SIT     Followup PTSD_M   15  1  999 13      8.0 19.5 11.5  7.413 144.067\n",
       "8 SIT     Post     PTSD_M   15  6  999 10      6.0 13.5  7.5  5.930  75.733\n",
       "9 SIT     Pre      PTSD_M   15 15  999 24     19.5 31.0 11.5  7.413  89.333\n",
       "  sd      se     ci     \n",
       "1 347.390 89.696 192.378\n",
       "2 346.389 89.437 191.824\n",
       "3 251.454 64.925 139.250\n",
       "4 345.814 89.289 191.505\n",
       "5 344.762 89.017 190.923\n",
       "6   6.287  1.623   3.482\n",
       "7 347.226 89.653 192.287\n",
       "8 255.447 65.956 141.462\n",
       "9 251.727 64.996 139.402"
      ]
     },
     "metadata": {},
     "output_type": "display_data"
    }
   ],
   "source": [
    "PTSD_data_r %>% group_by(Therapy,Period) %>% get_summary_stats(PTSD_M)"
   ]
  },
  {
   "cell_type": "code",
   "execution_count": 618,
   "metadata": {},
   "outputs": [
    {
     "data": {
      "image/png": "[encoded data removed]",
      "text/plain": [
       "plot without title"
      ]
     },
     "metadata": {
      "image/png": {
       "height": 420,
       "width": 420
      }
     },
     "output_type": "display_data"
    }
   ],
   "source": [
    "ggboxplot(PTSD_data_r, x=\"Therapy\", y=\"PTSD_M\", color=\"Period\", add=\"point\")"
   ]
  },
  {
   "cell_type": "code",
   "execution_count": 619,
   "metadata": {},
   "outputs": [
    {
     "data": {
      "text/html": [
       "<table class=\"dataframe\">\n",
       "<caption>A tibble: 19 × 6</caption>\n",
       "<thead>\n",
       "\t<tr><th scope=col>Therapy</th><th scope=col>Period</th><th scope=col>PTSD_M</th><th scope=col>ID</th><th scope=col>is.outlier</th><th scope=col>is.extreme</th></tr>\n",
       "\t<tr><th scope=col>&lt;chr&gt;</th><th scope=col>&lt;chr&gt;</th><th scope=col>&lt;dbl&gt;</th><th scope=col>&lt;dbl&gt;</th><th scope=col>&lt;lgl&gt;</th><th scope=col>&lt;lgl&gt;</th></tr>\n",
       "</thead>\n",
       "<tbody>\n",
       "\t<tr><td>PE </td><td>Followup</td><td>999</td><td>23</td><td>TRUE</td><td> TRUE</td></tr>\n",
       "\t<tr><td>PE </td><td>Followup</td><td>999</td><td>24</td><td>TRUE</td><td> TRUE</td></tr>\n",
       "\t<tr><td>PE </td><td>Post    </td><td>999</td><td>17</td><td>TRUE</td><td> TRUE</td></tr>\n",
       "\t<tr><td>PE </td><td>Post    </td><td>999</td><td>20</td><td>TRUE</td><td> TRUE</td></tr>\n",
       "\t<tr><td>PE </td><td>Pre     </td><td>999</td><td>17</td><td>TRUE</td><td> TRUE</td></tr>\n",
       "\t<tr><td>SC </td><td>Followup</td><td>999</td><td>38</td><td>TRUE</td><td> TRUE</td></tr>\n",
       "\t<tr><td>SC </td><td>Followup</td><td>999</td><td>41</td><td>TRUE</td><td> TRUE</td></tr>\n",
       "\t<tr><td>SC </td><td>Post    </td><td>999</td><td>33</td><td>TRUE</td><td> TRUE</td></tr>\n",
       "\t<tr><td>SC </td><td>Post    </td><td> 35</td><td>37</td><td>TRUE</td><td> TRUE</td></tr>\n",
       "\t<tr><td>SC </td><td>Post    </td><td> 10</td><td>39</td><td>TRUE</td><td>FALSE</td></tr>\n",
       "\t<tr><td>SC </td><td>Post    </td><td>999</td><td>41</td><td>TRUE</td><td> TRUE</td></tr>\n",
       "\t<tr><td>SC </td><td>Pre     </td><td> 12</td><td>31</td><td>TRUE</td><td>FALSE</td></tr>\n",
       "\t<tr><td>SC </td><td>Pre     </td><td> 38</td><td>37</td><td>TRUE</td><td>FALSE</td></tr>\n",
       "\t<tr><td>SC </td><td>Pre     </td><td> 34</td><td>41</td><td>TRUE</td><td>FALSE</td></tr>\n",
       "\t<tr><td>SIT</td><td>Followup</td><td>999</td><td> 7</td><td>TRUE</td><td> TRUE</td></tr>\n",
       "\t<tr><td>SIT</td><td>Followup</td><td>999</td><td>11</td><td>TRUE</td><td> TRUE</td></tr>\n",
       "\t<tr><td>SIT</td><td>Followup</td><td> 39</td><td>14</td><td>TRUE</td><td>FALSE</td></tr>\n",
       "\t<tr><td>SIT</td><td>Post    </td><td>999</td><td>11</td><td>TRUE</td><td> TRUE</td></tr>\n",
       "\t<tr><td>SIT</td><td>Pre     </td><td>999</td><td> 4</td><td>TRUE</td><td> TRUE</td></tr>\n",
       "</tbody>\n",
       "</table>\n"
      ],
      "text/latex": [
       "A tibble: 19 × 6\n",
       "\\begin{tabular}{llllll}\n",
       " Therapy & Period & PTSD\\_M & ID & is.outlier & is.extreme\\\\\n",
       " <chr> & <chr> & <dbl> & <dbl> & <lgl> & <lgl>\\\\\n",
       "\\hline\n",
       "\t PE  & Followup & 999 & 23 & TRUE &  TRUE\\\\\n",
       "\t PE  & Followup & 999 & 24 & TRUE &  TRUE\\\\\n",
       "\t PE  & Post     & 999 & 17 & TRUE &  TRUE\\\\\n",
       "\t PE  & Post     & 999 & 20 & TRUE &  TRUE\\\\\n",
       "\t PE  & Pre      & 999 & 17 & TRUE &  TRUE\\\\\n",
       "\t SC  & Followup & 999 & 38 & TRUE &  TRUE\\\\\n",
       "\t SC  & Followup & 999 & 41 & TRUE &  TRUE\\\\\n",
       "\t SC  & Post     & 999 & 33 & TRUE &  TRUE\\\\\n",
       "\t SC  & Post     &  35 & 37 & TRUE &  TRUE\\\\\n",
       "\t SC  & Post     &  10 & 39 & TRUE & FALSE\\\\\n",
       "\t SC  & Post     & 999 & 41 & TRUE &  TRUE\\\\\n",
       "\t SC  & Pre      &  12 & 31 & TRUE & FALSE\\\\\n",
       "\t SC  & Pre      &  38 & 37 & TRUE & FALSE\\\\\n",
       "\t SC  & Pre      &  34 & 41 & TRUE & FALSE\\\\\n",
       "\t SIT & Followup & 999 &  7 & TRUE &  TRUE\\\\\n",
       "\t SIT & Followup & 999 & 11 & TRUE &  TRUE\\\\\n",
       "\t SIT & Followup &  39 & 14 & TRUE & FALSE\\\\\n",
       "\t SIT & Post     & 999 & 11 & TRUE &  TRUE\\\\\n",
       "\t SIT & Pre      & 999 &  4 & TRUE &  TRUE\\\\\n",
       "\\end{tabular}\n"
      ],
      "text/markdown": [
       "\n",
       "A tibble: 19 × 6\n",
       "\n",
       "| Therapy &lt;chr&gt; | Period &lt;chr&gt; | PTSD_M &lt;dbl&gt; | ID &lt;dbl&gt; | is.outlier &lt;lgl&gt; | is.extreme &lt;lgl&gt; |\n",
       "|---|---|---|---|---|---|\n",
       "| PE  | Followup | 999 | 23 | TRUE |  TRUE |\n",
       "| PE  | Followup | 999 | 24 | TRUE |  TRUE |\n",
       "| PE  | Post     | 999 | 17 | TRUE |  TRUE |\n",
       "| PE  | Post     | 999 | 20 | TRUE |  TRUE |\n",
       "| PE  | Pre      | 999 | 17 | TRUE |  TRUE |\n",
       "| SC  | Followup | 999 | 38 | TRUE |  TRUE |\n",
       "| SC  | Followup | 999 | 41 | TRUE |  TRUE |\n",
       "| SC  | Post     | 999 | 33 | TRUE |  TRUE |\n",
       "| SC  | Post     |  35 | 37 | TRUE |  TRUE |\n",
       "| SC  | Post     |  10 | 39 | TRUE | FALSE |\n",
       "| SC  | Post     | 999 | 41 | TRUE |  TRUE |\n",
       "| SC  | Pre      |  12 | 31 | TRUE | FALSE |\n",
       "| SC  | Pre      |  38 | 37 | TRUE | FALSE |\n",
       "| SC  | Pre      |  34 | 41 | TRUE | FALSE |\n",
       "| SIT | Followup | 999 |  7 | TRUE |  TRUE |\n",
       "| SIT | Followup | 999 | 11 | TRUE |  TRUE |\n",
       "| SIT | Followup |  39 | 14 | TRUE | FALSE |\n",
       "| SIT | Post     | 999 | 11 | TRUE |  TRUE |\n",
       "| SIT | Pre      | 999 |  4 | TRUE |  TRUE |\n",
       "\n"
      ],
      "text/plain": [
       "   Therapy Period   PTSD_M ID is.outlier is.extreme\n",
       "1  PE      Followup 999    23 TRUE        TRUE     \n",
       "2  PE      Followup 999    24 TRUE        TRUE     \n",
       "3  PE      Post     999    17 TRUE        TRUE     \n",
       "4  PE      Post     999    20 TRUE        TRUE     \n",
       "5  PE      Pre      999    17 TRUE        TRUE     \n",
       "6  SC      Followup 999    38 TRUE        TRUE     \n",
       "7  SC      Followup 999    41 TRUE        TRUE     \n",
       "8  SC      Post     999    33 TRUE        TRUE     \n",
       "9  SC      Post      35    37 TRUE        TRUE     \n",
       "10 SC      Post      10    39 TRUE       FALSE     \n",
       "11 SC      Post     999    41 TRUE        TRUE     \n",
       "12 SC      Pre       12    31 TRUE       FALSE     \n",
       "13 SC      Pre       38    37 TRUE       FALSE     \n",
       "14 SC      Pre       34    41 TRUE       FALSE     \n",
       "15 SIT     Followup 999     7 TRUE        TRUE     \n",
       "16 SIT     Followup 999    11 TRUE        TRUE     \n",
       "17 SIT     Followup  39    14 TRUE       FALSE     \n",
       "18 SIT     Post     999    11 TRUE        TRUE     \n",
       "19 SIT     Pre      999     4 TRUE        TRUE     "
      ]
     },
     "metadata": {},
     "output_type": "display_data"
    }
   ],
   "source": [
    "PTSD_data_r %>% group_by(Therapy,Period) %>% identify_outliers(PTSD_M)"
   ]
  },
  {
   "cell_type": "code",
   "execution_count": 620,
   "metadata": {},
   "outputs": [
    {
     "data": {
      "text/html": [
       "<table class=\"dataframe\">\n",
       "<caption>A data.frame: 121 × 4</caption>\n",
       "<thead>\n",
       "\t<tr><th></th><th scope=col>Therapy</th><th scope=col>Period</th><th scope=col>PTSD_M</th><th scope=col>ID</th></tr>\n",
       "\t<tr><th></th><th scope=col>&lt;chr&gt;</th><th scope=col>&lt;chr&gt;</th><th scope=col>&lt;dbl&gt;</th><th scope=col>&lt;dbl&gt;</th></tr>\n",
       "</thead>\n",
       "<tbody>\n",
       "\t<tr><th scope=row>1</th><td>SIT</td><td>Pre     </td><td>19</td><td> 1</td></tr>\n",
       "\t<tr><th scope=row>2</th><td>SIT</td><td>Pre     </td><td>28</td><td> 2</td></tr>\n",
       "\t<tr><th scope=row>3</th><td>SIT</td><td>Pre     </td><td>18</td><td> 3</td></tr>\n",
       "\t<tr><th scope=row>5</th><td>SIT</td><td>Pre     </td><td>21</td><td> 5</td></tr>\n",
       "\t<tr><th scope=row>6</th><td>SIT</td><td>Pre     </td><td>24</td><td> 6</td></tr>\n",
       "\t<tr><th scope=row>7</th><td>SIT</td><td>Pre     </td><td>26</td><td> 7</td></tr>\n",
       "\t<tr><th scope=row>8</th><td>SIT</td><td>Pre     </td><td>15</td><td> 8</td></tr>\n",
       "\t<tr><th scope=row>9</th><td>SIT</td><td>Pre     </td><td>18</td><td> 9</td></tr>\n",
       "\t<tr><th scope=row>10</th><td>SIT</td><td>Pre     </td><td>34</td><td>10</td></tr>\n",
       "\t<tr><th scope=row>11</th><td>SIT</td><td>Pre     </td><td>20</td><td>11</td></tr>\n",
       "\t<tr><th scope=row>12</th><td>SIT</td><td>Pre     </td><td>34</td><td>12</td></tr>\n",
       "\t<tr><th scope=row>13</th><td>SIT</td><td>Pre     </td><td>29</td><td>13</td></tr>\n",
       "\t<tr><th scope=row>14</th><td>SIT</td><td>Pre     </td><td>33</td><td>14</td></tr>\n",
       "\t<tr><th scope=row>15</th><td>SIT</td><td>Pre     </td><td>22</td><td>15</td></tr>\n",
       "\t<tr><th scope=row>16</th><td>SIT</td><td>Post    </td><td> 6</td><td> 1</td></tr>\n",
       "\t<tr><th scope=row>17</th><td>SIT</td><td>Post    </td><td>14</td><td> 2</td></tr>\n",
       "\t<tr><th scope=row>18</th><td>SIT</td><td>Post    </td><td> 6</td><td> 3</td></tr>\n",
       "\t<tr><th scope=row>19</th><td>SIT</td><td>Post    </td><td> 6</td><td> 4</td></tr>\n",
       "\t<tr><th scope=row>20</th><td>SIT</td><td>Post    </td><td> 6</td><td> 5</td></tr>\n",
       "\t<tr><th scope=row>21</th><td>SIT</td><td>Post    </td><td>10</td><td> 6</td></tr>\n",
       "\t<tr><th scope=row>22</th><td>SIT</td><td>Post    </td><td>10</td><td> 7</td></tr>\n",
       "\t<tr><th scope=row>23</th><td>SIT</td><td>Post    </td><td> 6</td><td> 8</td></tr>\n",
       "\t<tr><th scope=row>24</th><td>SIT</td><td>Post    </td><td> 8</td><td> 9</td></tr>\n",
       "\t<tr><th scope=row>25</th><td>SIT</td><td>Post    </td><td>13</td><td>10</td></tr>\n",
       "\t<tr><th scope=row>27</th><td>SIT</td><td>Post    </td><td>10</td><td>12</td></tr>\n",
       "\t<tr><th scope=row>28</th><td>SIT</td><td>Post    </td><td>16</td><td>13</td></tr>\n",
       "\t<tr><th scope=row>29</th><td>SIT</td><td>Post    </td><td>19</td><td>14</td></tr>\n",
       "\t<tr><th scope=row>30</th><td>SIT</td><td>Post    </td><td> 7</td><td>15</td></tr>\n",
       "\t<tr><th scope=row>31</th><td>SIT</td><td>Followup</td><td> 1</td><td> 1</td></tr>\n",
       "\t<tr><th scope=row>32</th><td>SIT</td><td>Followup</td><td>16</td><td> 2</td></tr>\n",
       "\t<tr><th scope=row>...</th><td>...</td><td>...</td><td>...</td><td>...</td></tr>\n",
       "\t<tr><th scope=row>101</th><td>SC</td><td>Pre     </td><td>34</td><td>41</td></tr>\n",
       "\t<tr><th scope=row>102</th><td>SC</td><td>Pre     </td><td>22</td><td>42</td></tr>\n",
       "\t<tr><th scope=row>103</th><td>SC</td><td>Pre     </td><td>27</td><td>43</td></tr>\n",
       "\t<tr><th scope=row>104</th><td>SC</td><td>Pre     </td><td>23</td><td>44</td></tr>\n",
       "\t<tr><th scope=row>105</th><td>SC</td><td>Pre     </td><td>26</td><td>45</td></tr>\n",
       "\t<tr><th scope=row>106</th><td>SC</td><td>Post    </td><td>14</td><td>31</td></tr>\n",
       "\t<tr><th scope=row>107</th><td>SC</td><td>Post    </td><td>18</td><td>32</td></tr>\n",
       "\t<tr><th scope=row>109</th><td>SC</td><td>Post    </td><td>21</td><td>34</td></tr>\n",
       "\t<tr><th scope=row>110</th><td>SC</td><td>Post    </td><td>20</td><td>35</td></tr>\n",
       "\t<tr><th scope=row>111</th><td>SC</td><td>Post    </td><td>20</td><td>36</td></tr>\n",
       "\t<tr><th scope=row>113</th><td>SC</td><td>Post    </td><td>22</td><td>38</td></tr>\n",
       "\t<tr><th scope=row>114</th><td>SC</td><td>Post    </td><td>10</td><td>39</td></tr>\n",
       "\t<tr><th scope=row>115</th><td>SC</td><td>Post    </td><td>19</td><td>40</td></tr>\n",
       "\t<tr><th scope=row>117</th><td>SC</td><td>Post    </td><td>15</td><td>42</td></tr>\n",
       "\t<tr><th scope=row>118</th><td>SC</td><td>Post    </td><td>18</td><td>43</td></tr>\n",
       "\t<tr><th scope=row>119</th><td>SC</td><td>Post    </td><td>21</td><td>44</td></tr>\n",
       "\t<tr><th scope=row>120</th><td>SC</td><td>Post    </td><td>18</td><td>45</td></tr>\n",
       "\t<tr><th scope=row>121</th><td>SC</td><td>Followup</td><td>18</td><td>31</td></tr>\n",
       "\t<tr><th scope=row>122</th><td>SC</td><td>Followup</td><td> 9</td><td>32</td></tr>\n",
       "\t<tr><th scope=row>123</th><td>SC</td><td>Followup</td><td>13</td><td>33</td></tr>\n",
       "\t<tr><th scope=row>124</th><td>SC</td><td>Followup</td><td>11</td><td>34</td></tr>\n",
       "\t<tr><th scope=row>125</th><td>SC</td><td>Followup</td><td>18</td><td>35</td></tr>\n",
       "\t<tr><th scope=row>126</th><td>SC</td><td>Followup</td><td>26</td><td>36</td></tr>\n",
       "\t<tr><th scope=row>127</th><td>SC</td><td>Followup</td><td>34</td><td>37</td></tr>\n",
       "\t<tr><th scope=row>129</th><td>SC</td><td>Followup</td><td> 8</td><td>39</td></tr>\n",
       "\t<tr><th scope=row>130</th><td>SC</td><td>Followup</td><td>19</td><td>40</td></tr>\n",
       "\t<tr><th scope=row>132</th><td>SC</td><td>Followup</td><td>12</td><td>42</td></tr>\n",
       "\t<tr><th scope=row>133</th><td>SC</td><td>Followup</td><td>13</td><td>43</td></tr>\n",
       "\t<tr><th scope=row>134</th><td>SC</td><td>Followup</td><td>19</td><td>44</td></tr>\n",
       "\t<tr><th scope=row>135</th><td>SC</td><td>Followup</td><td>13</td><td>45</td></tr>\n",
       "</tbody>\n",
       "</table>\n"
      ],
      "text/latex": [
       "A data.frame: 121 × 4\n",
       "\\begin{tabular}{r|llll}\n",
       "  & Therapy & Period & PTSD\\_M & ID\\\\\n",
       "  & <chr> & <chr> & <dbl> & <dbl>\\\\\n",
       "\\hline\n",
       "\t1 & SIT & Pre      & 19 &  1\\\\\n",
       "\t2 & SIT & Pre      & 28 &  2\\\\\n",
       "\t3 & SIT & Pre      & 18 &  3\\\\\n",
       "\t5 & SIT & Pre      & 21 &  5\\\\\n",
       "\t6 & SIT & Pre      & 24 &  6\\\\\n",
       "\t7 & SIT & Pre      & 26 &  7\\\\\n",
       "\t8 & SIT & Pre      & 15 &  8\\\\\n",
       "\t9 & SIT & Pre      & 18 &  9\\\\\n",
       "\t10 & SIT & Pre      & 34 & 10\\\\\n",
       "\t11 & SIT & Pre      & 20 & 11\\\\\n",
       "\t12 & SIT & Pre      & 34 & 12\\\\\n",
       "\t13 & SIT & Pre      & 29 & 13\\\\\n",
       "\t14 & SIT & Pre      & 33 & 14\\\\\n",
       "\t15 & SIT & Pre      & 22 & 15\\\\\n",
       "\t16 & SIT & Post     &  6 &  1\\\\\n",
       "\t17 & SIT & Post     & 14 &  2\\\\\n",
       "\t18 & SIT & Post     &  6 &  3\\\\\n",
       "\t19 & SIT & Post     &  6 &  4\\\\\n",
       "\t20 & SIT & Post     &  6 &  5\\\\\n",
       "\t21 & SIT & Post     & 10 &  6\\\\\n",
       "\t22 & SIT & Post     & 10 &  7\\\\\n",
       "\t23 & SIT & Post     &  6 &  8\\\\\n",
       "\t24 & SIT & Post     &  8 &  9\\\\\n",
       "\t25 & SIT & Post     & 13 & 10\\\\\n",
       "\t27 & SIT & Post     & 10 & 12\\\\\n",
       "\t28 & SIT & Post     & 16 & 13\\\\\n",
       "\t29 & SIT & Post     & 19 & 14\\\\\n",
       "\t30 & SIT & Post     &  7 & 15\\\\\n",
       "\t31 & SIT & Followup &  1 &  1\\\\\n",
       "\t32 & SIT & Followup & 16 &  2\\\\\n",
       "\t... & ... & ... & ... & ...\\\\\n",
       "\t101 & SC & Pre      & 34 & 41\\\\\n",
       "\t102 & SC & Pre      & 22 & 42\\\\\n",
       "\t103 & SC & Pre      & 27 & 43\\\\\n",
       "\t104 & SC & Pre      & 23 & 44\\\\\n",
       "\t105 & SC & Pre      & 26 & 45\\\\\n",
       "\t106 & SC & Post     & 14 & 31\\\\\n",
       "\t107 & SC & Post     & 18 & 32\\\\\n",
       "\t109 & SC & Post     & 21 & 34\\\\\n",
       "\t110 & SC & Post     & 20 & 35\\\\\n",
       "\t111 & SC & Post     & 20 & 36\\\\\n",
       "\t113 & SC & Post     & 22 & 38\\\\\n",
       "\t114 & SC & Post     & 10 & 39\\\\\n",
       "\t115 & SC & Post     & 19 & 40\\\\\n",
       "\t117 & SC & Post     & 15 & 42\\\\\n",
       "\t118 & SC & Post     & 18 & 43\\\\\n",
       "\t119 & SC & Post     & 21 & 44\\\\\n",
       "\t120 & SC & Post     & 18 & 45\\\\\n",
       "\t121 & SC & Followup & 18 & 31\\\\\n",
       "\t122 & SC & Followup &  9 & 32\\\\\n",
       "\t123 & SC & Followup & 13 & 33\\\\\n",
       "\t124 & SC & Followup & 11 & 34\\\\\n",
       "\t125 & SC & Followup & 18 & 35\\\\\n",
       "\t126 & SC & Followup & 26 & 36\\\\\n",
       "\t127 & SC & Followup & 34 & 37\\\\\n",
       "\t129 & SC & Followup &  8 & 39\\\\\n",
       "\t130 & SC & Followup & 19 & 40\\\\\n",
       "\t132 & SC & Followup & 12 & 42\\\\\n",
       "\t133 & SC & Followup & 13 & 43\\\\\n",
       "\t134 & SC & Followup & 19 & 44\\\\\n",
       "\t135 & SC & Followup & 13 & 45\\\\\n",
       "\\end{tabular}\n"
      ],
      "text/markdown": [
       "\n",
       "A data.frame: 121 × 4\n",
       "\n",
       "| <!--/--> | Therapy &lt;chr&gt; | Period &lt;chr&gt; | PTSD_M &lt;dbl&gt; | ID &lt;dbl&gt; |\n",
       "|---|---|---|---|---|\n",
       "| 1 | SIT | Pre      | 19 |  1 |\n",
       "| 2 | SIT | Pre      | 28 |  2 |\n",
       "| 3 | SIT | Pre      | 18 |  3 |\n",
       "| 5 | SIT | Pre      | 21 |  5 |\n",
       "| 6 | SIT | Pre      | 24 |  6 |\n",
       "| 7 | SIT | Pre      | 26 |  7 |\n",
       "| 8 | SIT | Pre      | 15 |  8 |\n",
       "| 9 | SIT | Pre      | 18 |  9 |\n",
       "| 10 | SIT | Pre      | 34 | 10 |\n",
       "| 11 | SIT | Pre      | 20 | 11 |\n",
       "| 12 | SIT | Pre      | 34 | 12 |\n",
       "| 13 | SIT | Pre      | 29 | 13 |\n",
       "| 14 | SIT | Pre      | 33 | 14 |\n",
       "| 15 | SIT | Pre      | 22 | 15 |\n",
       "| 16 | SIT | Post     |  6 |  1 |\n",
       "| 17 | SIT | Post     | 14 |  2 |\n",
       "| 18 | SIT | Post     |  6 |  3 |\n",
       "| 19 | SIT | Post     |  6 |  4 |\n",
       "| 20 | SIT | Post     |  6 |  5 |\n",
       "| 21 | SIT | Post     | 10 |  6 |\n",
       "| 22 | SIT | Post     | 10 |  7 |\n",
       "| 23 | SIT | Post     |  6 |  8 |\n",
       "| 24 | SIT | Post     |  8 |  9 |\n",
       "| 25 | SIT | Post     | 13 | 10 |\n",
       "| 27 | SIT | Post     | 10 | 12 |\n",
       "| 28 | SIT | Post     | 16 | 13 |\n",
       "| 29 | SIT | Post     | 19 | 14 |\n",
       "| 30 | SIT | Post     |  7 | 15 |\n",
       "| 31 | SIT | Followup |  1 |  1 |\n",
       "| 32 | SIT | Followup | 16 |  2 |\n",
       "| ... | ... | ... | ... | ... |\n",
       "| 101 | SC | Pre      | 34 | 41 |\n",
       "| 102 | SC | Pre      | 22 | 42 |\n",
       "| 103 | SC | Pre      | 27 | 43 |\n",
       "| 104 | SC | Pre      | 23 | 44 |\n",
       "| 105 | SC | Pre      | 26 | 45 |\n",
       "| 106 | SC | Post     | 14 | 31 |\n",
       "| 107 | SC | Post     | 18 | 32 |\n",
       "| 109 | SC | Post     | 21 | 34 |\n",
       "| 110 | SC | Post     | 20 | 35 |\n",
       "| 111 | SC | Post     | 20 | 36 |\n",
       "| 113 | SC | Post     | 22 | 38 |\n",
       "| 114 | SC | Post     | 10 | 39 |\n",
       "| 115 | SC | Post     | 19 | 40 |\n",
       "| 117 | SC | Post     | 15 | 42 |\n",
       "| 118 | SC | Post     | 18 | 43 |\n",
       "| 119 | SC | Post     | 21 | 44 |\n",
       "| 120 | SC | Post     | 18 | 45 |\n",
       "| 121 | SC | Followup | 18 | 31 |\n",
       "| 122 | SC | Followup |  9 | 32 |\n",
       "| 123 | SC | Followup | 13 | 33 |\n",
       "| 124 | SC | Followup | 11 | 34 |\n",
       "| 125 | SC | Followup | 18 | 35 |\n",
       "| 126 | SC | Followup | 26 | 36 |\n",
       "| 127 | SC | Followup | 34 | 37 |\n",
       "| 129 | SC | Followup |  8 | 39 |\n",
       "| 130 | SC | Followup | 19 | 40 |\n",
       "| 132 | SC | Followup | 12 | 42 |\n",
       "| 133 | SC | Followup | 13 | 43 |\n",
       "| 134 | SC | Followup | 19 | 44 |\n",
       "| 135 | SC | Followup | 13 | 45 |\n",
       "\n"
      ],
      "text/plain": [
       "    Therapy Period   PTSD_M ID \n",
       "1   SIT     Pre      19      1 \n",
       "2   SIT     Pre      28      2 \n",
       "3   SIT     Pre      18      3 \n",
       "5   SIT     Pre      21      5 \n",
       "6   SIT     Pre      24      6 \n",
       "7   SIT     Pre      26      7 \n",
       "8   SIT     Pre      15      8 \n",
       "9   SIT     Pre      18      9 \n",
       "10  SIT     Pre      34     10 \n",
       "11  SIT     Pre      20     11 \n",
       "12  SIT     Pre      34     12 \n",
       "13  SIT     Pre      29     13 \n",
       "14  SIT     Pre      33     14 \n",
       "15  SIT     Pre      22     15 \n",
       "16  SIT     Post      6      1 \n",
       "17  SIT     Post     14      2 \n",
       "18  SIT     Post      6      3 \n",
       "19  SIT     Post      6      4 \n",
       "20  SIT     Post      6      5 \n",
       "21  SIT     Post     10      6 \n",
       "22  SIT     Post     10      7 \n",
       "23  SIT     Post      6      8 \n",
       "24  SIT     Post      8      9 \n",
       "25  SIT     Post     13     10 \n",
       "27  SIT     Post     10     12 \n",
       "28  SIT     Post     16     13 \n",
       "29  SIT     Post     19     14 \n",
       "30  SIT     Post      7     15 \n",
       "31  SIT     Followup  1      1 \n",
       "32  SIT     Followup 16      2 \n",
       "... ...     ...      ...    ...\n",
       "101 SC      Pre      34     41 \n",
       "102 SC      Pre      22     42 \n",
       "103 SC      Pre      27     43 \n",
       "104 SC      Pre      23     44 \n",
       "105 SC      Pre      26     45 \n",
       "106 SC      Post     14     31 \n",
       "107 SC      Post     18     32 \n",
       "109 SC      Post     21     34 \n",
       "110 SC      Post     20     35 \n",
       "111 SC      Post     20     36 \n",
       "113 SC      Post     22     38 \n",
       "114 SC      Post     10     39 \n",
       "115 SC      Post     19     40 \n",
       "117 SC      Post     15     42 \n",
       "118 SC      Post     18     43 \n",
       "119 SC      Post     21     44 \n",
       "120 SC      Post     18     45 \n",
       "121 SC      Followup 18     31 \n",
       "122 SC      Followup  9     32 \n",
       "123 SC      Followup 13     33 \n",
       "124 SC      Followup 11     34 \n",
       "125 SC      Followup 18     35 \n",
       "126 SC      Followup 26     36 \n",
       "127 SC      Followup 34     37 \n",
       "129 SC      Followup  8     39 \n",
       "130 SC      Followup 19     40 \n",
       "132 SC      Followup 12     42 \n",
       "133 SC      Followup 13     43 \n",
       "134 SC      Followup 19     44 \n",
       "135 SC      Followup 13     45 "
      ]
     },
     "metadata": {},
     "output_type": "display_data"
    }
   ],
   "source": [
    "PTSD_data_r <- PTSD_data_r[-c(4,26,37,41,47,62,65,83,84,108,112,116,128,131),]\n",
    "\n",
    "PTSD_data_r"
   ]
  },
  {
   "cell_type": "markdown",
   "metadata": {},
   "source": [
    "با حذف آوتلایرها تقریبا توزیعی مشابه توزیع اصلی پیدا میکنیم و از این بعد همانطور که می بینیم نتایج یکسان است"
   ]
  },
  {
   "cell_type": "code",
   "execution_count": 621,
   "metadata": {},
   "outputs": [
    {
     "data": {
      "image/png": "[encoded data removed]",
      "text/plain": [
       "plot without title"
      ]
     },
     "metadata": {
      "image/png": {
       "height": 420,
       "width": 420
      }
     },
     "output_type": "display_data"
    }
   ],
   "source": [
    "ggboxplot(PTSD_data_r, x=\"Therapy\", y=\"PTSD_M\", color=\"Period\", add=\"point\")"
   ]
  },
  {
   "cell_type": "code",
   "execution_count": 622,
   "metadata": {},
   "outputs": [
    {
     "data": {
      "image/png": "[encoded data removed]",
      "text/plain": [
       "plot without title"
      ]
     },
     "metadata": {
      "image/png": {
       "height": 420,
       "width": 420
      }
     },
     "output_type": "display_data"
    }
   ],
   "source": [
    "ggqqplot(PTSD_data_r,\"PTSD_M\") + facet_grid(Therapy ~ Period)"
   ]
  },
  {
   "cell_type": "code",
   "execution_count": 623,
   "metadata": {
    "scrolled": true
   },
   "outputs": [
    {
     "data": {
      "text/html": [
       "<table class=\"dataframe\">\n",
       "<caption>A tibble: 9 × 5</caption>\n",
       "<thead>\n",
       "\t<tr><th scope=col>Therapy</th><th scope=col>Period</th><th scope=col>variable</th><th scope=col>statistic</th><th scope=col>p</th></tr>\n",
       "\t<tr><th scope=col>&lt;chr&gt;</th><th scope=col>&lt;chr&gt;</th><th scope=col>&lt;chr&gt;</th><th scope=col>&lt;dbl&gt;</th><th scope=col>&lt;dbl&gt;</th></tr>\n",
       "</thead>\n",
       "<tbody>\n",
       "\t<tr><td>PE </td><td>Followup</td><td>PTSD_M</td><td>0.9009280</td><td>0.13770819</td></tr>\n",
       "\t<tr><td>PE </td><td>Post    </td><td>PTSD_M</td><td>0.9264555</td><td>0.30608292</td></tr>\n",
       "\t<tr><td>PE </td><td>Pre     </td><td>PTSD_M</td><td>0.9495808</td><td>0.55421544</td></tr>\n",
       "\t<tr><td>SC </td><td>Followup</td><td>PTSD_M</td><td>0.8800990</td><td>0.07153068</td></tr>\n",
       "\t<tr><td>SC </td><td>Post    </td><td>PTSD_M</td><td>0.8897696</td><td>0.11703650</td></tr>\n",
       "\t<tr><td>SC </td><td>Pre     </td><td>PTSD_M</td><td>0.9565449</td><td>0.63261887</td></tr>\n",
       "\t<tr><td>SIT</td><td>Followup</td><td>PTSD_M</td><td>0.8628778</td><td>0.04204853</td></tr>\n",
       "\t<tr><td>SIT</td><td>Post    </td><td>PTSD_M</td><td>0.8526016</td><td>0.02409691</td></tr>\n",
       "\t<tr><td>SIT</td><td>Pre     </td><td>PTSD_M</td><td>0.9260857</td><td>0.26868946</td></tr>\n",
       "</tbody>\n",
       "</table>\n"
      ],
      "text/latex": [
       "A tibble: 9 × 5\n",
       "\\begin{tabular}{lllll}\n",
       " Therapy & Period & variable & statistic & p\\\\\n",
       " <chr> & <chr> & <chr> & <dbl> & <dbl>\\\\\n",
       "\\hline\n",
       "\t PE  & Followup & PTSD\\_M & 0.9009280 & 0.13770819\\\\\n",
       "\t PE  & Post     & PTSD\\_M & 0.9264555 & 0.30608292\\\\\n",
       "\t PE  & Pre      & PTSD\\_M & 0.9495808 & 0.55421544\\\\\n",
       "\t SC  & Followup & PTSD\\_M & 0.8800990 & 0.07153068\\\\\n",
       "\t SC  & Post     & PTSD\\_M & 0.8897696 & 0.11703650\\\\\n",
       "\t SC  & Pre      & PTSD\\_M & 0.9565449 & 0.63261887\\\\\n",
       "\t SIT & Followup & PTSD\\_M & 0.8628778 & 0.04204853\\\\\n",
       "\t SIT & Post     & PTSD\\_M & 0.8526016 & 0.02409691\\\\\n",
       "\t SIT & Pre      & PTSD\\_M & 0.9260857 & 0.26868946\\\\\n",
       "\\end{tabular}\n"
      ],
      "text/markdown": [
       "\n",
       "A tibble: 9 × 5\n",
       "\n",
       "| Therapy &lt;chr&gt; | Period &lt;chr&gt; | variable &lt;chr&gt; | statistic &lt;dbl&gt; | p &lt;dbl&gt; |\n",
       "|---|---|---|---|---|\n",
       "| PE  | Followup | PTSD_M | 0.9009280 | 0.13770819 |\n",
       "| PE  | Post     | PTSD_M | 0.9264555 | 0.30608292 |\n",
       "| PE  | Pre      | PTSD_M | 0.9495808 | 0.55421544 |\n",
       "| SC  | Followup | PTSD_M | 0.8800990 | 0.07153068 |\n",
       "| SC  | Post     | PTSD_M | 0.8897696 | 0.11703650 |\n",
       "| SC  | Pre      | PTSD_M | 0.9565449 | 0.63261887 |\n",
       "| SIT | Followup | PTSD_M | 0.8628778 | 0.04204853 |\n",
       "| SIT | Post     | PTSD_M | 0.8526016 | 0.02409691 |\n",
       "| SIT | Pre      | PTSD_M | 0.9260857 | 0.26868946 |\n",
       "\n"
      ],
      "text/plain": [
       "  Therapy Period   variable statistic p         \n",
       "1 PE      Followup PTSD_M   0.9009280 0.13770819\n",
       "2 PE      Post     PTSD_M   0.9264555 0.30608292\n",
       "3 PE      Pre      PTSD_M   0.9495808 0.55421544\n",
       "4 SC      Followup PTSD_M   0.8800990 0.07153068\n",
       "5 SC      Post     PTSD_M   0.8897696 0.11703650\n",
       "6 SC      Pre      PTSD_M   0.9565449 0.63261887\n",
       "7 SIT     Followup PTSD_M   0.8628778 0.04204853\n",
       "8 SIT     Post     PTSD_M   0.8526016 0.02409691\n",
       "9 SIT     Pre      PTSD_M   0.9260857 0.26868946"
      ]
     },
     "metadata": {},
     "output_type": "display_data"
    }
   ],
   "source": [
    "PTSD_data_r %>% group_by(Therapy,Period) %>% shapiro_test(PTSD_M)"
   ]
  },
  {
   "cell_type": "markdown",
   "metadata": {},
   "source": [
    "فقط به ازای یک حالت مقار پی کمتر از 5 صدم داریم"
   ]
  },
  {
   "cell_type": "code",
   "execution_count": 624,
   "metadata": {},
   "outputs": [
    {
     "data": {
      "text/html": [
       "<table class=\"dataframe\">\n",
       "<caption>A tibble: 1 × 4</caption>\n",
       "<thead>\n",
       "\t<tr><th scope=col>df1</th><th scope=col>df2</th><th scope=col>statistic</th><th scope=col>p</th></tr>\n",
       "\t<tr><th scope=col>&lt;int&gt;</th><th scope=col>&lt;int&gt;</th><th scope=col>&lt;dbl&gt;</th><th scope=col>&lt;dbl&gt;</th></tr>\n",
       "</thead>\n",
       "<tbody>\n",
       "\t<tr><td>8</td><td>112</td><td>1.953125</td><td>0.05892031</td></tr>\n",
       "</tbody>\n",
       "</table>\n"
      ],
      "text/latex": [
       "A tibble: 1 × 4\n",
       "\\begin{tabular}{llll}\n",
       " df1 & df2 & statistic & p\\\\\n",
       " <int> & <int> & <dbl> & <dbl>\\\\\n",
       "\\hline\n",
       "\t 8 & 112 & 1.953125 & 0.05892031\\\\\n",
       "\\end{tabular}\n"
      ],
      "text/markdown": [
       "\n",
       "A tibble: 1 × 4\n",
       "\n",
       "| df1 &lt;int&gt; | df2 &lt;int&gt; | statistic &lt;dbl&gt; | p &lt;dbl&gt; |\n",
       "|---|---|---|---|\n",
       "| 8 | 112 | 1.953125 | 0.05892031 |\n",
       "\n"
      ],
      "text/plain": [
       "  df1 df2 statistic p         \n",
       "1 8   112 1.953125  0.05892031"
      ]
     },
     "metadata": {},
     "output_type": "display_data"
    }
   ],
   "source": [
    "PTSD_data_r %>% levene_test(PTSD_M ~ Therapy*Period)"
   ]
  },
  {
   "cell_type": "markdown",
   "metadata": {},
   "source": [
    "بر خلاف بالا همگنی واریانس ها برقرار است"
   ]
  },
  {
   "cell_type": "code",
   "execution_count": 625,
   "metadata": {},
   "outputs": [],
   "source": [
    "model_r <- PTSD_M ~ Therapy + Period + Therapy:Period"
   ]
  },
  {
   "cell_type": "code",
   "execution_count": 626,
   "metadata": {},
   "outputs": [
    {
     "data": {
      "text/html": [
       "<table class=\"dataframe\">\n",
       "<caption>A anova_test: 3 × 7</caption>\n",
       "<thead>\n",
       "\t<tr><th></th><th scope=col>Effect</th><th scope=col>DFn</th><th scope=col>DFd</th><th scope=col>F</th><th scope=col>p</th><th scope=col>p&lt;.05</th><th scope=col>ges</th></tr>\n",
       "\t<tr><th></th><th scope=col>&lt;chr&gt;</th><th scope=col>&lt;dbl&gt;</th><th scope=col>&lt;dbl&gt;</th><th scope=col>&lt;dbl&gt;</th><th scope=col>&lt;dbl&gt;</th><th scope=col>&lt;chr&gt;</th><th scope=col>&lt;dbl&gt;</th></tr>\n",
       "</thead>\n",
       "<tbody>\n",
       "\t<tr><th scope=row>1</th><td>Therapy       </td><td>2</td><td>112</td><td> 3.890</td><td>2.30e-02</td><td>*</td><td>0.065</td></tr>\n",
       "\t<tr><th scope=row>2</th><td>Period        </td><td>2</td><td>112</td><td>36.455</td><td>6.41e-13</td><td>*</td><td>0.394</td></tr>\n",
       "\t<tr><th scope=row>3</th><td>Therapy:Period</td><td>4</td><td>112</td><td> 1.319</td><td>2.67e-01</td><td> </td><td>0.045</td></tr>\n",
       "</tbody>\n",
       "</table>\n"
      ],
      "text/latex": [
       "A anova\\_test: 3 × 7\n",
       "\\begin{tabular}{r|lllllll}\n",
       "  & Effect & DFn & DFd & F & p & p<.05 & ges\\\\\n",
       "  & <chr> & <dbl> & <dbl> & <dbl> & <dbl> & <chr> & <dbl>\\\\\n",
       "\\hline\n",
       "\t1 & Therapy        & 2 & 112 &  3.890 & 2.30e-02 & * & 0.065\\\\\n",
       "\t2 & Period         & 2 & 112 & 36.455 & 6.41e-13 & * & 0.394\\\\\n",
       "\t3 & Therapy:Period & 4 & 112 &  1.319 & 2.67e-01 &   & 0.045\\\\\n",
       "\\end{tabular}\n"
      ],
      "text/markdown": [
       "\n",
       "A anova_test: 3 × 7\n",
       "\n",
       "| <!--/--> | Effect &lt;chr&gt; | DFn &lt;dbl&gt; | DFd &lt;dbl&gt; | F &lt;dbl&gt; | p &lt;dbl&gt; | p&lt;.05 &lt;chr&gt; | ges &lt;dbl&gt; |\n",
       "|---|---|---|---|---|---|---|---|\n",
       "| 1 | Therapy        | 2 | 112 |  3.890 | 2.30e-02 | * | 0.065 |\n",
       "| 2 | Period         | 2 | 112 | 36.455 | 6.41e-13 | * | 0.394 |\n",
       "| 3 | Therapy:Period | 4 | 112 |  1.319 | 2.67e-01 | <!----> | 0.045 |\n",
       "\n"
      ],
      "text/plain": [
       "  Effect         DFn DFd F      p        p<.05 ges  \n",
       "1 Therapy        2   112  3.890 2.30e-02 *     0.065\n",
       "2 Period         2   112 36.455 6.41e-13 *     0.394\n",
       "3 Therapy:Period 4   112  1.319 2.67e-01       0.045"
      ]
     },
     "metadata": {},
     "output_type": "display_data"
    }
   ],
   "source": [
    "Rm_results_r = anova_test(data = PTSD_data_r,dv = PTSD_M, wid = ID, within = c(Period,Therapy),formula = model_r)\n",
    "Rm_results_r"
   ]
  },
  {
   "cell_type": "code",
   "execution_count": 627,
   "metadata": {},
   "outputs": [
    {
     "data": {
      "text/plain": [
       "    Effect               DFn             DFd            F         \n",
       " Length:3           Min.   :2.000   Min.   :112   Min.   : 1.319  \n",
       " Class :character   1st Qu.:2.000   1st Qu.:112   1st Qu.: 2.604  \n",
       " Mode  :character   Median :2.000   Median :112   Median : 3.890  \n",
       "                    Mean   :2.667   Mean   :112   Mean   :13.888  \n",
       "                    3rd Qu.:3.000   3rd Qu.:112   3rd Qu.:20.172  \n",
       "                    Max.   :4.000   Max.   :112   Max.   :36.455  \n",
       "       p              p<.05                ges        \n",
       " Min.   :0.00000   Length:3           Min.   :0.0450  \n",
       " 1st Qu.:0.01150   Class :character   1st Qu.:0.0550  \n",
       " Median :0.02300   Mode  :character   Median :0.0650  \n",
       " Mean   :0.09667                      Mean   :0.1680  \n",
       " 3rd Qu.:0.14500                      3rd Qu.:0.2295  \n",
       " Max.   :0.26700                      Max.   :0.3940  "
      ]
     },
     "metadata": {},
     "output_type": "display_data"
    }
   ],
   "source": [
    "summary(Rm_results_r)"
   ]
  },
  {
   "cell_type": "code",
   "execution_count": 628,
   "metadata": {},
   "outputs": [
    {
     "data": {
      "text/html": [
       "<table class=\"dataframe\">\n",
       "<caption>A anova_test: 3 × 7</caption>\n",
       "<thead>\n",
       "\t<tr><th></th><th scope=col>Effect</th><th scope=col>DFn</th><th scope=col>DFd</th><th scope=col>F</th><th scope=col>p</th><th scope=col>p&lt;.05</th><th scope=col>ges</th></tr>\n",
       "\t<tr><th></th><th scope=col>&lt;chr&gt;</th><th scope=col>&lt;dbl&gt;</th><th scope=col>&lt;dbl&gt;</th><th scope=col>&lt;dbl&gt;</th><th scope=col>&lt;dbl&gt;</th><th scope=col>&lt;chr&gt;</th><th scope=col>&lt;dbl&gt;</th></tr>\n",
       "</thead>\n",
       "<tbody>\n",
       "\t<tr><th scope=row>1</th><td>Therapy       </td><td>2</td><td>112</td><td> 3.890</td><td>2.30e-02</td><td>*</td><td>0.065</td></tr>\n",
       "\t<tr><th scope=row>2</th><td>Period        </td><td>2</td><td>112</td><td>36.455</td><td>6.41e-13</td><td>*</td><td>0.394</td></tr>\n",
       "\t<tr><th scope=row>3</th><td>Therapy:Period</td><td>4</td><td>112</td><td> 1.319</td><td>2.67e-01</td><td> </td><td>0.045</td></tr>\n",
       "</tbody>\n",
       "</table>\n"
      ],
      "text/latex": [
       "A anova\\_test: 3 × 7\n",
       "\\begin{tabular}{r|lllllll}\n",
       "  & Effect & DFn & DFd & F & p & p<.05 & ges\\\\\n",
       "  & <chr> & <dbl> & <dbl> & <dbl> & <dbl> & <chr> & <dbl>\\\\\n",
       "\\hline\n",
       "\t1 & Therapy        & 2 & 112 &  3.890 & 2.30e-02 & * & 0.065\\\\\n",
       "\t2 & Period         & 2 & 112 & 36.455 & 6.41e-13 & * & 0.394\\\\\n",
       "\t3 & Therapy:Period & 4 & 112 &  1.319 & 2.67e-01 &   & 0.045\\\\\n",
       "\\end{tabular}\n"
      ],
      "text/markdown": [
       "\n",
       "A anova_test: 3 × 7\n",
       "\n",
       "| <!--/--> | Effect &lt;chr&gt; | DFn &lt;dbl&gt; | DFd &lt;dbl&gt; | F &lt;dbl&gt; | p &lt;dbl&gt; | p&lt;.05 &lt;chr&gt; | ges &lt;dbl&gt; |\n",
       "|---|---|---|---|---|---|---|---|\n",
       "| 1 | Therapy        | 2 | 112 |  3.890 | 2.30e-02 | * | 0.065 |\n",
       "| 2 | Period         | 2 | 112 | 36.455 | 6.41e-13 | * | 0.394 |\n",
       "| 3 | Therapy:Period | 4 | 112 |  1.319 | 2.67e-01 | <!----> | 0.045 |\n",
       "\n"
      ],
      "text/plain": [
       "  Effect         DFn DFd F      p        p<.05 ges  \n",
       "1 Therapy        2   112  3.890 2.30e-02 *     0.065\n",
       "2 Period         2   112 36.455 6.41e-13 *     0.394\n",
       "3 Therapy:Period 4   112  1.319 2.67e-01       0.045"
      ]
     },
     "metadata": {},
     "output_type": "display_data"
    }
   ],
   "source": [
    "Mixed_results_r = anova_test(data = PTSD_data_r,dv = PTSD_M, wid = ID, between = Therapy, within = Period,formula = model_r)\n",
    "Mixed_results_r"
   ]
  },
  {
   "cell_type": "code",
   "execution_count": 629,
   "metadata": {},
   "outputs": [
    {
     "data": {
      "text/plain": [
       "    Effect               DFn             DFd            F         \n",
       " Length:3           Min.   :2.000   Min.   :112   Min.   : 1.319  \n",
       " Class :character   1st Qu.:2.000   1st Qu.:112   1st Qu.: 2.604  \n",
       " Mode  :character   Median :2.000   Median :112   Median : 3.890  \n",
       "                    Mean   :2.667   Mean   :112   Mean   :13.888  \n",
       "                    3rd Qu.:3.000   3rd Qu.:112   3rd Qu.:20.172  \n",
       "                    Max.   :4.000   Max.   :112   Max.   :36.455  \n",
       "       p              p<.05                ges        \n",
       " Min.   :0.00000   Length:3           Min.   :0.0450  \n",
       " 1st Qu.:0.01150   Class :character   1st Qu.:0.0550  \n",
       " Median :0.02300   Mode  :character   Median :0.0650  \n",
       " Mean   :0.09667                      Mean   :0.1680  \n",
       " 3rd Qu.:0.14500                      3rd Qu.:0.2295  \n",
       " Max.   :0.26700                      Max.   :0.3940  "
      ]
     },
     "metadata": {},
     "output_type": "display_data"
    }
   ],
   "source": [
    "summary(Mixed_results_r)"
   ]
  },
  {
   "cell_type": "code",
   "execution_count": 630,
   "metadata": {},
   "outputs": [
    {
     "data": {
      "text/html": [
       "<table class=\"dataframe\">\n",
       "<caption>A grouped_anova_test: 3 × 9</caption>\n",
       "<thead>\n",
       "\t<tr><th scope=col>Therapy</th><th scope=col>Effect</th><th scope=col>DFn</th><th scope=col>DFd</th><th scope=col>F</th><th scope=col>p</th><th scope=col>p&lt;.05</th><th scope=col>ges</th><th scope=col>p.adj</th></tr>\n",
       "\t<tr><th scope=col>&lt;chr&gt;</th><th scope=col>&lt;chr&gt;</th><th scope=col>&lt;dbl&gt;</th><th scope=col>&lt;dbl&gt;</th><th scope=col>&lt;dbl&gt;</th><th scope=col>&lt;dbl&gt;</th><th scope=col>&lt;chr&gt;</th><th scope=col>&lt;dbl&gt;</th><th scope=col>&lt;dbl&gt;</th></tr>\n",
       "</thead>\n",
       "<tbody>\n",
       "\t<tr><td>PE </td><td>Period</td><td>2</td><td>37</td><td>12.758</td><td>6.11e-05</td><td>*</td><td>0.408</td><td>1.833e-04</td></tr>\n",
       "\t<tr><td>SC </td><td>Period</td><td>2</td><td>37</td><td> 9.044</td><td>6.34e-04</td><td>*</td><td>0.328</td><td>1.902e-03</td></tr>\n",
       "\t<tr><td>SIT</td><td>Period</td><td>2</td><td>38</td><td>16.071</td><td>8.75e-06</td><td>*</td><td>0.458</td><td>2.625e-05</td></tr>\n",
       "</tbody>\n",
       "</table>\n"
      ],
      "text/latex": [
       "A grouped\\_anova\\_test: 3 × 9\n",
       "\\begin{tabular}{lllllllll}\n",
       " Therapy & Effect & DFn & DFd & F & p & p<.05 & ges & p.adj\\\\\n",
       " <chr> & <chr> & <dbl> & <dbl> & <dbl> & <dbl> & <chr> & <dbl> & <dbl>\\\\\n",
       "\\hline\n",
       "\t PE  & Period & 2 & 37 & 12.758 & 6.11e-05 & * & 0.408 & 1.833e-04\\\\\n",
       "\t SC  & Period & 2 & 37 &  9.044 & 6.34e-04 & * & 0.328 & 1.902e-03\\\\\n",
       "\t SIT & Period & 2 & 38 & 16.071 & 8.75e-06 & * & 0.458 & 2.625e-05\\\\\n",
       "\\end{tabular}\n"
      ],
      "text/markdown": [
       "\n",
       "A grouped_anova_test: 3 × 9\n",
       "\n",
       "| Therapy &lt;chr&gt; | Effect &lt;chr&gt; | DFn &lt;dbl&gt; | DFd &lt;dbl&gt; | F &lt;dbl&gt; | p &lt;dbl&gt; | p&lt;.05 &lt;chr&gt; | ges &lt;dbl&gt; | p.adj &lt;dbl&gt; |\n",
       "|---|---|---|---|---|---|---|---|---|\n",
       "| PE  | Period | 2 | 37 | 12.758 | 6.11e-05 | * | 0.408 | 1.833e-04 |\n",
       "| SC  | Period | 2 | 37 |  9.044 | 6.34e-04 | * | 0.328 | 1.902e-03 |\n",
       "| SIT | Period | 2 | 38 | 16.071 | 8.75e-06 | * | 0.458 | 2.625e-05 |\n",
       "\n"
      ],
      "text/plain": [
       "  Therapy Effect DFn DFd F      p        p<.05 ges   p.adj    \n",
       "1 PE      Period 2   37  12.758 6.11e-05 *     0.408 1.833e-04\n",
       "2 SC      Period 2   37   9.044 6.34e-04 *     0.328 1.902e-03\n",
       "3 SIT     Period 2   38  16.071 8.75e-06 *     0.458 2.625e-05"
      ]
     },
     "metadata": {},
     "output_type": "display_data"
    }
   ],
   "source": [
    "PTSD_data_r %>% group_by(Therapy) %>% anova_test(dv = PTSD_M, wid = ID, within = Period,formula = PTSD_M ~ Period ) %>% adjust_pvalue(method=\"bonferroni\")\n"
   ]
  },
  {
   "cell_type": "code",
   "execution_count": 632,
   "metadata": {},
   "outputs": [
    {
     "data": {
      "text/html": [
       "<table class=\"dataframe\">\n",
       "<caption>A rstatix_test: 9 × 10</caption>\n",
       "<thead>\n",
       "\t<tr><th></th><th scope=col>Therapy</th><th scope=col>.y.</th><th scope=col>group1</th><th scope=col>group2</th><th scope=col>n1</th><th scope=col>n2</th><th scope=col>p</th><th scope=col>p.signif</th><th scope=col>p.adj</th><th scope=col>p.adj.signif</th></tr>\n",
       "\t<tr><th></th><th scope=col>&lt;chr&gt;</th><th scope=col>&lt;chr&gt;</th><th scope=col>&lt;chr&gt;</th><th scope=col>&lt;chr&gt;</th><th scope=col>&lt;int&gt;</th><th scope=col>&lt;int&gt;</th><th scope=col>&lt;dbl&gt;</th><th scope=col>&lt;chr&gt;</th><th scope=col>&lt;dbl&gt;</th><th scope=col>&lt;chr&gt;</th></tr>\n",
       "</thead>\n",
       "<tbody>\n",
       "\t<tr><th scope=row>1</th><td>PE </td><td>PTSD_M</td><td>Followup</td><td>Post</td><td>13</td><td>13</td><td>3.11e-01</td><td>ns  </td><td>9.34e-01</td><td>ns  </td></tr>\n",
       "\t<tr><th scope=row>2</th><td>PE </td><td>PTSD_M</td><td>Followup</td><td>Pre </td><td>13</td><td>14</td><td>2.78e-05</td><td>****</td><td>8.35e-05</td><td>****</td></tr>\n",
       "\t<tr><th scope=row>3</th><td>PE </td><td>PTSD_M</td><td>Post    </td><td>Pre </td><td>13</td><td>14</td><td>6.33e-04</td><td>*** </td><td>1.90e-03</td><td>**  </td></tr>\n",
       "\t<tr><th scope=row>4</th><td>SC </td><td>PTSD_M</td><td>Followup</td><td>Post</td><td>13</td><td>12</td><td>5.03e-01</td><td>ns  </td><td>1.00e+00</td><td>ns  </td></tr>\n",
       "\t<tr><th scope=row>5</th><td>SC </td><td>PTSD_M</td><td>Followup</td><td>Pre </td><td>13</td><td>15</td><td>3.26e-04</td><td>*** </td><td>9.78e-04</td><td>*** </td></tr>\n",
       "\t<tr><th scope=row>6</th><td>SC </td><td>PTSD_M</td><td>Post    </td><td>Pre </td><td>12</td><td>15</td><td>3.00e-03</td><td>**  </td><td>9.00e-03</td><td>**  </td></tr>\n",
       "\t<tr><th scope=row>7</th><td>SIT</td><td>PTSD_M</td><td>Followup</td><td>Post</td><td>13</td><td>14</td><td>3.28e-01</td><td>ns  </td><td>9.83e-01</td><td>ns  </td></tr>\n",
       "\t<tr><th scope=row>8</th><td>SIT</td><td>PTSD_M</td><td>Followup</td><td>Pre </td><td>13</td><td>14</td><td>1.30e-04</td><td>*** </td><td>3.90e-04</td><td>*** </td></tr>\n",
       "\t<tr><th scope=row>9</th><td>SIT</td><td>PTSD_M</td><td>Post    </td><td>Pre </td><td>14</td><td>14</td><td>4.42e-06</td><td>****</td><td>1.33e-05</td><td>****</td></tr>\n",
       "</tbody>\n",
       "</table>\n"
      ],
      "text/latex": [
       "A rstatix\\_test: 9 × 10\n",
       "\\begin{tabular}{r|llllllllll}\n",
       "  & Therapy & .y. & group1 & group2 & n1 & n2 & p & p.signif & p.adj & p.adj.signif\\\\\n",
       "  & <chr> & <chr> & <chr> & <chr> & <int> & <int> & <dbl> & <chr> & <dbl> & <chr>\\\\\n",
       "\\hline\n",
       "\t1 & PE  & PTSD\\_M & Followup & Post & 13 & 13 & 3.11e-01 & ns   & 9.34e-01 & ns  \\\\\n",
       "\t2 & PE  & PTSD\\_M & Followup & Pre  & 13 & 14 & 2.78e-05 & **** & 8.35e-05 & ****\\\\\n",
       "\t3 & PE  & PTSD\\_M & Post     & Pre  & 13 & 14 & 6.33e-04 & ***  & 1.90e-03 & **  \\\\\n",
       "\t4 & SC  & PTSD\\_M & Followup & Post & 13 & 12 & 5.03e-01 & ns   & 1.00e+00 & ns  \\\\\n",
       "\t5 & SC  & PTSD\\_M & Followup & Pre  & 13 & 15 & 3.26e-04 & ***  & 9.78e-04 & *** \\\\\n",
       "\t6 & SC  & PTSD\\_M & Post     & Pre  & 12 & 15 & 3.00e-03 & **   & 9.00e-03 & **  \\\\\n",
       "\t7 & SIT & PTSD\\_M & Followup & Post & 13 & 14 & 3.28e-01 & ns   & 9.83e-01 & ns  \\\\\n",
       "\t8 & SIT & PTSD\\_M & Followup & Pre  & 13 & 14 & 1.30e-04 & ***  & 3.90e-04 & *** \\\\\n",
       "\t9 & SIT & PTSD\\_M & Post     & Pre  & 14 & 14 & 4.42e-06 & **** & 1.33e-05 & ****\\\\\n",
       "\\end{tabular}\n"
      ],
      "text/markdown": [
       "\n",
       "A rstatix_test: 9 × 10\n",
       "\n",
       "| <!--/--> | Therapy &lt;chr&gt; | .y. &lt;chr&gt; | group1 &lt;chr&gt; | group2 &lt;chr&gt; | n1 &lt;int&gt; | n2 &lt;int&gt; | p &lt;dbl&gt; | p.signif &lt;chr&gt; | p.adj &lt;dbl&gt; | p.adj.signif &lt;chr&gt; |\n",
       "|---|---|---|---|---|---|---|---|---|---|---|\n",
       "| 1 | PE  | PTSD_M | Followup | Post | 13 | 13 | 3.11e-01 | ns   | 9.34e-01 | ns   |\n",
       "| 2 | PE  | PTSD_M | Followup | Pre  | 13 | 14 | 2.78e-05 | **** | 8.35e-05 | **** |\n",
       "| 3 | PE  | PTSD_M | Post     | Pre  | 13 | 14 | 6.33e-04 | ***  | 1.90e-03 | **   |\n",
       "| 4 | SC  | PTSD_M | Followup | Post | 13 | 12 | 5.03e-01 | ns   | 1.00e+00 | ns   |\n",
       "| 5 | SC  | PTSD_M | Followup | Pre  | 13 | 15 | 3.26e-04 | ***  | 9.78e-04 | ***  |\n",
       "| 6 | SC  | PTSD_M | Post     | Pre  | 12 | 15 | 3.00e-03 | **   | 9.00e-03 | **   |\n",
       "| 7 | SIT | PTSD_M | Followup | Post | 13 | 14 | 3.28e-01 | ns   | 9.83e-01 | ns   |\n",
       "| 8 | SIT | PTSD_M | Followup | Pre  | 13 | 14 | 1.30e-04 | ***  | 3.90e-04 | ***  |\n",
       "| 9 | SIT | PTSD_M | Post     | Pre  | 14 | 14 | 4.42e-06 | **** | 1.33e-05 | **** |\n",
       "\n"
      ],
      "text/plain": [
       "  Therapy .y.    group1   group2 n1 n2 p        p.signif p.adj    p.adj.signif\n",
       "1 PE      PTSD_M Followup Post   13 13 3.11e-01 ns       9.34e-01 ns          \n",
       "2 PE      PTSD_M Followup Pre    13 14 2.78e-05 ****     8.35e-05 ****        \n",
       "3 PE      PTSD_M Post     Pre    13 14 6.33e-04 ***      1.90e-03 **          \n",
       "4 SC      PTSD_M Followup Post   13 12 5.03e-01 ns       1.00e+00 ns          \n",
       "5 SC      PTSD_M Followup Pre    13 15 3.26e-04 ***      9.78e-04 ***         \n",
       "6 SC      PTSD_M Post     Pre    12 15 3.00e-03 **       9.00e-03 **          \n",
       "7 SIT     PTSD_M Followup Post   13 14 3.28e-01 ns       9.83e-01 ns          \n",
       "8 SIT     PTSD_M Followup Pre    13 14 1.30e-04 ***      3.90e-04 ***         \n",
       "9 SIT     PTSD_M Post     Pre    14 14 4.42e-06 ****     1.33e-05 ****        "
      ]
     },
     "metadata": {},
     "output_type": "display_data"
    }
   ],
   "source": [
    "PTSD_data_r %>% group_by(Therapy) %>% pairwise_t_test(PTSD_M ~ Period, paired=TRUE,p.adjust.method = \"bonferroni\" )"
   ]
  },
  {
   "cell_type": "code",
   "execution_count": 636,
   "metadata": {},
   "outputs": [
    {
     "data": {
      "text/html": [
       "<table class=\"dataframe\">\n",
       "<caption>A grouped_anova_test: 3 × 9</caption>\n",
       "<thead>\n",
       "\t<tr><th scope=col>Period</th><th scope=col>Effect</th><th scope=col>DFn</th><th scope=col>DFd</th><th scope=col>F</th><th scope=col>p</th><th scope=col>p&lt;.05</th><th scope=col>ges</th><th scope=col>p.adj</th></tr>\n",
       "\t<tr><th scope=col>&lt;chr&gt;</th><th scope=col>&lt;chr&gt;</th><th scope=col>&lt;dbl&gt;</th><th scope=col>&lt;dbl&gt;</th><th scope=col>&lt;dbl&gt;</th><th scope=col>&lt;dbl&gt;</th><th scope=col>&lt;chr&gt;</th><th scope=col>&lt;dbl&gt;</th><th scope=col>&lt;dbl&gt;</th></tr>\n",
       "</thead>\n",
       "<tbody>\n",
       "\t<tr><td>Followup</td><td>Therapy</td><td>2</td><td>36</td><td>1.079</td><td>0.351</td><td> </td><td>0.057</td><td>1.000</td></tr>\n",
       "\t<tr><td>Post    </td><td>Therapy</td><td>2</td><td>36</td><td>6.126</td><td>0.005</td><td>*</td><td>0.254</td><td>0.015</td></tr>\n",
       "\t<tr><td>Pre     </td><td>Therapy</td><td>2</td><td>40</td><td>0.125</td><td>0.883</td><td> </td><td>0.006</td><td>1.000</td></tr>\n",
       "</tbody>\n",
       "</table>\n"
      ],
      "text/latex": [
       "A grouped\\_anova\\_test: 3 × 9\n",
       "\\begin{tabular}{lllllllll}\n",
       " Period & Effect & DFn & DFd & F & p & p<.05 & ges & p.adj\\\\\n",
       " <chr> & <chr> & <dbl> & <dbl> & <dbl> & <dbl> & <chr> & <dbl> & <dbl>\\\\\n",
       "\\hline\n",
       "\t Followup & Therapy & 2 & 36 & 1.079 & 0.351 &   & 0.057 & 1.000\\\\\n",
       "\t Post     & Therapy & 2 & 36 & 6.126 & 0.005 & * & 0.254 & 0.015\\\\\n",
       "\t Pre      & Therapy & 2 & 40 & 0.125 & 0.883 &   & 0.006 & 1.000\\\\\n",
       "\\end{tabular}\n"
      ],
      "text/markdown": [
       "\n",
       "A grouped_anova_test: 3 × 9\n",
       "\n",
       "| Period &lt;chr&gt; | Effect &lt;chr&gt; | DFn &lt;dbl&gt; | DFd &lt;dbl&gt; | F &lt;dbl&gt; | p &lt;dbl&gt; | p&lt;.05 &lt;chr&gt; | ges &lt;dbl&gt; | p.adj &lt;dbl&gt; |\n",
       "|---|---|---|---|---|---|---|---|---|\n",
       "| Followup | Therapy | 2 | 36 | 1.079 | 0.351 | <!----> | 0.057 | 1.000 |\n",
       "| Post     | Therapy | 2 | 36 | 6.126 | 0.005 | * | 0.254 | 0.015 |\n",
       "| Pre      | Therapy | 2 | 40 | 0.125 | 0.883 | <!----> | 0.006 | 1.000 |\n",
       "\n"
      ],
      "text/plain": [
       "  Period   Effect  DFn DFd F     p     p<.05 ges   p.adj\n",
       "1 Followup Therapy 2   36  1.079 0.351       0.057 1.000\n",
       "2 Post     Therapy 2   36  6.126 0.005 *     0.254 0.015\n",
       "3 Pre      Therapy 2   40  0.125 0.883       0.006 1.000"
      ]
     },
     "metadata": {},
     "output_type": "display_data"
    }
   ],
   "source": [
    "PTSD_data_r %>% group_by(Period) %>% anova_test(dv = PTSD_M, wid = ID, within = Therapy,formula = PTSD_M ~ Therapy ) %>% adjust_pvalue(method=\"bonferroni\")\n"
   ]
  },
  {
   "cell_type": "code",
   "execution_count": 634,
   "metadata": {},
   "outputs": [
    {
     "data": {
      "text/html": [
       "<table class=\"dataframe\">\n",
       "<caption>A rstatix_test: 9 × 10</caption>\n",
       "<thead>\n",
       "\t<tr><th></th><th scope=col>Period</th><th scope=col>.y.</th><th scope=col>group1</th><th scope=col>group2</th><th scope=col>n1</th><th scope=col>n2</th><th scope=col>p</th><th scope=col>p.signif</th><th scope=col>p.adj</th><th scope=col>p.adj.signif</th></tr>\n",
       "\t<tr><th></th><th scope=col>&lt;chr&gt;</th><th scope=col>&lt;chr&gt;</th><th scope=col>&lt;chr&gt;</th><th scope=col>&lt;chr&gt;</th><th scope=col>&lt;int&gt;</th><th scope=col>&lt;int&gt;</th><th scope=col>&lt;dbl&gt;</th><th scope=col>&lt;chr&gt;</th><th scope=col>&lt;dbl&gt;</th><th scope=col>&lt;chr&gt;</th></tr>\n",
       "</thead>\n",
       "<tbody>\n",
       "\t<tr><th scope=row>1</th><td>Followup</td><td>PTSD_M</td><td>PE</td><td>SC </td><td>15</td><td>15</td><td>0.039500</td><td>*  </td><td>0.11800</td><td>ns</td></tr>\n",
       "\t<tr><th scope=row>2</th><td>Followup</td><td>PTSD_M</td><td>PE</td><td>SIT</td><td>15</td><td>15</td><td>0.622000</td><td>ns </td><td>1.00000</td><td>ns</td></tr>\n",
       "\t<tr><th scope=row>3</th><td>Followup</td><td>PTSD_M</td><td>SC</td><td>SIT</td><td>15</td><td>15</td><td>0.111000</td><td>ns </td><td>0.33300</td><td>ns</td></tr>\n",
       "\t<tr><th scope=row>4</th><td>Post    </td><td>PTSD_M</td><td>PE</td><td>SC </td><td>15</td><td>14</td><td>0.056100</td><td>ns </td><td>0.16800</td><td>ns</td></tr>\n",
       "\t<tr><th scope=row>5</th><td>Post    </td><td>PTSD_M</td><td>PE</td><td>SIT</td><td>15</td><td>15</td><td>0.058000</td><td>ns </td><td>0.17400</td><td>ns</td></tr>\n",
       "\t<tr><th scope=row>6</th><td>Post    </td><td>PTSD_M</td><td>SC</td><td>SIT</td><td>14</td><td>15</td><td>0.000369</td><td>***</td><td>0.00111</td><td>**</td></tr>\n",
       "\t<tr><th scope=row>7</th><td>Pre     </td><td>PTSD_M</td><td>PE</td><td>SC </td><td>15</td><td>15</td><td>0.875000</td><td>ns </td><td>1.00000</td><td>ns</td></tr>\n",
       "\t<tr><th scope=row>8</th><td>Pre     </td><td>PTSD_M</td><td>PE</td><td>SIT</td><td>15</td><td>15</td><td>0.730000</td><td>ns </td><td>1.00000</td><td>ns</td></tr>\n",
       "\t<tr><th scope=row>9</th><td>Pre     </td><td>PTSD_M</td><td>SC</td><td>SIT</td><td>15</td><td>15</td><td>0.615000</td><td>ns </td><td>1.00000</td><td>ns</td></tr>\n",
       "</tbody>\n",
       "</table>\n"
      ],
      "text/latex": [
       "A rstatix\\_test: 9 × 10\n",
       "\\begin{tabular}{r|llllllllll}\n",
       "  & Period & .y. & group1 & group2 & n1 & n2 & p & p.signif & p.adj & p.adj.signif\\\\\n",
       "  & <chr> & <chr> & <chr> & <chr> & <int> & <int> & <dbl> & <chr> & <dbl> & <chr>\\\\\n",
       "\\hline\n",
       "\t1 & Followup & PTSD\\_M & PE & SC  & 15 & 15 & 0.039500 & *   & 0.11800 & ns\\\\\n",
       "\t2 & Followup & PTSD\\_M & PE & SIT & 15 & 15 & 0.622000 & ns  & 1.00000 & ns\\\\\n",
       "\t3 & Followup & PTSD\\_M & SC & SIT & 15 & 15 & 0.111000 & ns  & 0.33300 & ns\\\\\n",
       "\t4 & Post     & PTSD\\_M & PE & SC  & 15 & 14 & 0.056100 & ns  & 0.16800 & ns\\\\\n",
       "\t5 & Post     & PTSD\\_M & PE & SIT & 15 & 15 & 0.058000 & ns  & 0.17400 & ns\\\\\n",
       "\t6 & Post     & PTSD\\_M & SC & SIT & 14 & 15 & 0.000369 & *** & 0.00111 & **\\\\\n",
       "\t7 & Pre      & PTSD\\_M & PE & SC  & 15 & 15 & 0.875000 & ns  & 1.00000 & ns\\\\\n",
       "\t8 & Pre      & PTSD\\_M & PE & SIT & 15 & 15 & 0.730000 & ns  & 1.00000 & ns\\\\\n",
       "\t9 & Pre      & PTSD\\_M & SC & SIT & 15 & 15 & 0.615000 & ns  & 1.00000 & ns\\\\\n",
       "\\end{tabular}\n"
      ],
      "text/markdown": [
       "\n",
       "A rstatix_test: 9 × 10\n",
       "\n",
       "| <!--/--> | Period &lt;chr&gt; | .y. &lt;chr&gt; | group1 &lt;chr&gt; | group2 &lt;chr&gt; | n1 &lt;int&gt; | n2 &lt;int&gt; | p &lt;dbl&gt; | p.signif &lt;chr&gt; | p.adj &lt;dbl&gt; | p.adj.signif &lt;chr&gt; |\n",
       "|---|---|---|---|---|---|---|---|---|---|---|\n",
       "| 1 | Followup | PTSD_M | PE | SC  | 15 | 15 | 0.039500 | *   | 0.11800 | ns |\n",
       "| 2 | Followup | PTSD_M | PE | SIT | 15 | 15 | 0.622000 | ns  | 1.00000 | ns |\n",
       "| 3 | Followup | PTSD_M | SC | SIT | 15 | 15 | 0.111000 | ns  | 0.33300 | ns |\n",
       "| 4 | Post     | PTSD_M | PE | SC  | 15 | 14 | 0.056100 | ns  | 0.16800 | ns |\n",
       "| 5 | Post     | PTSD_M | PE | SIT | 15 | 15 | 0.058000 | ns  | 0.17400 | ns |\n",
       "| 6 | Post     | PTSD_M | SC | SIT | 14 | 15 | 0.000369 | *** | 0.00111 | ** |\n",
       "| 7 | Pre      | PTSD_M | PE | SC  | 15 | 15 | 0.875000 | ns  | 1.00000 | ns |\n",
       "| 8 | Pre      | PTSD_M | PE | SIT | 15 | 15 | 0.730000 | ns  | 1.00000 | ns |\n",
       "| 9 | Pre      | PTSD_M | SC | SIT | 15 | 15 | 0.615000 | ns  | 1.00000 | ns |\n",
       "\n"
      ],
      "text/plain": [
       "  Period   .y.    group1 group2 n1 n2 p        p.signif p.adj   p.adj.signif\n",
       "1 Followup PTSD_M PE     SC     15 15 0.039500 *        0.11800 ns          \n",
       "2 Followup PTSD_M PE     SIT    15 15 0.622000 ns       1.00000 ns          \n",
       "3 Followup PTSD_M SC     SIT    15 15 0.111000 ns       0.33300 ns          \n",
       "4 Post     PTSD_M PE     SC     15 14 0.056100 ns       0.16800 ns          \n",
       "5 Post     PTSD_M PE     SIT    15 15 0.058000 ns       0.17400 ns          \n",
       "6 Post     PTSD_M SC     SIT    14 15 0.000369 ***      0.00111 **          \n",
       "7 Pre      PTSD_M PE     SC     15 15 0.875000 ns       1.00000 ns          \n",
       "8 Pre      PTSD_M PE     SIT    15 15 0.730000 ns       1.00000 ns          \n",
       "9 Pre      PTSD_M SC     SIT    15 15 0.615000 ns       1.00000 ns          "
      ]
     },
     "metadata": {},
     "output_type": "display_data"
    }
   ],
   "source": [
    "PTSD_data %>% group_by(Period) %>% pairwise_t_test(PTSD_M ~ Therapy, paired=TRUE,p.adjust.method = \"bonferroni\" )"
   ]
  },
  {
   "cell_type": "markdown",
   "metadata": {},
   "source": [
    "### Now analyze the new data using a mixed models approach withan appropriate form for the covariance matrix. How do those results differ from the results you found above?"
   ]
  },
  {
   "cell_type": "code",
   "execution_count": 638,
   "metadata": {},
   "outputs": [
    {
     "data": {
      "text/plain": [
       "Linear mixed-effects model fit by REML\n",
       "  Data: PTSD_data_r \n",
       "      AIC     BIC    logLik\n",
       "  780.527 813.149 -378.2635\n",
       "\n",
       "Random effects:\n",
       " Formula: ~1 | ID\n",
       "        (Intercept) Residual\n",
       "StdDev: 0.001359459 6.961953\n",
       "\n",
       "Correlation Structure: AR(1)\n",
       " Formula: ~1 | ID \n",
       " Parameter estimate(s):\n",
       "      Phi \n",
       "0.6103026 \n",
       "Fixed effects:  PTSD_M ~ Therapy * Period \n",
       "                     Value Std.Error DF   t-value p-value\n",
       "(Intercept)      17.681910 0.8832886 70 20.018270  0.0000\n",
       "Therapy1         -0.411633 1.2494138 42 -0.329461  0.7434\n",
       "Therapy2          2.680379 1.2528028 42  2.139506  0.0383\n",
       "Period1          -4.335942 0.6628518 70 -6.541344  0.0000\n",
       "Period2          -2.993375 0.5191360 70 -5.766071  0.0000\n",
       "Therapy1:Period1 -2.003029 0.9438645 70 -2.122157  0.0374\n",
       "Therapy2:Period1  0.643473 0.9275509 70  0.693733  0.4901\n",
       "Therapy1:Period2  0.937080 0.7356396 70  1.273830  0.2069\n",
       "Therapy2:Period2  1.880089 0.7453104 70  2.522559  0.0139\n",
       " Correlation: \n",
       "                 (Intr) Thrpy1 Thrpy2 Perid1 Perid2 Th1:P1 Th2:P1 Th1:P2\n",
       "Therapy1          0.001                                                 \n",
       "Therapy2          0.008 -0.505                                          \n",
       "Period1          -0.030 -0.015  0.004                                   \n",
       "Period2           0.136 -0.004  0.020 -0.422                            \n",
       "Therapy1:Period1 -0.015 -0.040  0.023  0.019 -0.018                     \n",
       "Therapy2:Period1  0.004  0.023 -0.028 -0.030 -0.018 -0.495              \n",
       "Therapy1:Period2 -0.004  0.133 -0.079 -0.018  0.006 -0.431  0.239       \n",
       "Therapy2:Period2  0.019 -0.078  0.147 -0.018  0.043  0.232 -0.433 -0.526\n",
       "\n",
       "Standardized Within-Group Residuals:\n",
       "        Min          Q1         Med          Q3         Max \n",
       "-1.89142954 -0.60528716 -0.03576621  0.48799246  3.81548425 \n",
       "\n",
       "Number of Observations: 121\n",
       "Number of Groups: 45 "
      ]
     },
     "metadata": {},
     "output_type": "display_data"
    }
   ],
   "source": [
    "mixed_model_r <- lme(\n",
    "  fixed = PTSD_M ~ Therapy * Period,\n",
    "  random = ~1 | ID,\n",
    "  data = PTSD_data_r,\n",
    "  correlation = corAR1(form = ~1 | ID),\n",
    "  method = \"REML\"\n",
    ")\n",
    "summary(mixed_model_r)\n"
   ]
  },
  {
   "cell_type": "code",
   "execution_count": 639,
   "metadata": {},
   "outputs": [
    {
     "data": {
      "text/html": [
       "<table class=\"dataframe\">\n",
       "<caption>A anova.lme: 4 × 4</caption>\n",
       "<thead>\n",
       "\t<tr><th></th><th scope=col>numDF</th><th scope=col>denDF</th><th scope=col>F-value</th><th scope=col>p-value</th></tr>\n",
       "\t<tr><th></th><th scope=col>&lt;int&gt;</th><th scope=col>&lt;dbl&gt;</th><th scope=col>&lt;dbl&gt;</th><th scope=col>&lt;dbl&gt;</th></tr>\n",
       "</thead>\n",
       "<tbody>\n",
       "\t<tr><th scope=row>(Intercept)</th><td>1</td><td>70</td><td>450.458117</td><td>0.000000e+00</td></tr>\n",
       "\t<tr><th scope=row>Therapy</th><td>2</td><td>42</td><td>  2.006589</td><td>1.471324e-01</td></tr>\n",
       "\t<tr><th scope=row>Period</th><td>2</td><td>70</td><td> 65.767045</td><td>1.110223e-16</td></tr>\n",
       "\t<tr><th scope=row>Therapy:Period</th><td>4</td><td>70</td><td>  5.090706</td><td>1.168282e-03</td></tr>\n",
       "</tbody>\n",
       "</table>\n"
      ],
      "text/latex": [
       "A anova.lme: 4 × 4\n",
       "\\begin{tabular}{r|llll}\n",
       "  & numDF & denDF & F-value & p-value\\\\\n",
       "  & <int> & <dbl> & <dbl> & <dbl>\\\\\n",
       "\\hline\n",
       "\t(Intercept) & 1 & 70 & 450.458117 & 0.000000e+00\\\\\n",
       "\tTherapy & 2 & 42 &   2.006589 & 1.471324e-01\\\\\n",
       "\tPeriod & 2 & 70 &  65.767045 & 1.110223e-16\\\\\n",
       "\tTherapy:Period & 4 & 70 &   5.090706 & 1.168282e-03\\\\\n",
       "\\end{tabular}\n"
      ],
      "text/markdown": [
       "\n",
       "A anova.lme: 4 × 4\n",
       "\n",
       "| <!--/--> | numDF &lt;int&gt; | denDF &lt;dbl&gt; | F-value &lt;dbl&gt; | p-value &lt;dbl&gt; |\n",
       "|---|---|---|---|---|\n",
       "| (Intercept) | 1 | 70 | 450.458117 | 0.000000e+00 |\n",
       "| Therapy | 2 | 42 |   2.006589 | 1.471324e-01 |\n",
       "| Period | 2 | 70 |  65.767045 | 1.110223e-16 |\n",
       "| Therapy:Period | 4 | 70 |   5.090706 | 1.168282e-03 |\n",
       "\n"
      ],
      "text/plain": [
       "               numDF denDF F-value    p-value     \n",
       "(Intercept)    1     70    450.458117 0.000000e+00\n",
       "Therapy        2     42      2.006589 1.471324e-01\n",
       "Period         2     70     65.767045 1.110223e-16\n",
       "Therapy:Period 4     70      5.090706 1.168282e-03"
      ]
     },
     "metadata": {},
     "output_type": "display_data"
    }
   ],
   "source": [
    "anova(mixed_model_r)"
   ]
  },
  {
   "cell_type": "code",
   "execution_count": 663,
   "metadata": {},
   "outputs": [
    {
     "name": "stderr",
     "output_type": "stream",
     "text": [
      "NOTE: Results may be misleading due to involvement in interactions\n",
      "\n"
     ]
    },
    {
     "data": {
      "text/plain": [
       " contrast estimate   SE df t.ratio p.value\n",
       " PE - SC     -3.09 2.17 42  -1.425  0.3376\n",
       " PE - SIT     1.86 2.16 42   0.861  0.6676\n",
       " SC - SIT     4.95 2.16 42   2.288  0.0686\n",
       "\n",
       "Results are averaged over the levels of: Period \n",
       "Degrees-of-freedom method: containment \n",
       "P value adjustment: tukey method for comparing a family of 3 estimates "
      ]
     },
     "metadata": {},
     "output_type": "display_data"
    }
   ],
   "source": [
    "pairwise_results_r <- emmeans(mixed_model_r, ~ Therapy)\n",
    "pairwise_contrasts_r <- contrast(pairwise_results_r, method = \"pairwise\")\n",
    "pairwise_contrasts_r"
   ]
  },
  {
   "cell_type": "markdown",
   "metadata": {},
   "source": [
    "تفاوت مشهودی بین نتایج روش های درمان نیست"
   ]
  },
  {
   "cell_type": "code",
   "execution_count": 641,
   "metadata": {},
   "outputs": [
    {
     "name": "stderr",
     "output_type": "stream",
     "text": [
      "NOTE: Results may be misleading due to involvement in interactions\n",
      "\n"
     ]
    },
    {
     "data": {
      "text/plain": [
       " contrast        estimate    SE df t.ratio p.value\n",
       " Followup - Post    -1.34 1.000 70  -1.343  0.3764\n",
       " Followup - Pre    -11.67 1.203 70  -9.699  <.0001\n",
       " Post - Pre        -10.32 0.968 70 -10.664  <.0001\n",
       "\n",
       "Results are averaged over the levels of: Therapy \n",
       "Degrees-of-freedom method: containment \n",
       "P value adjustment: tukey method for comparing a family of 3 estimates "
      ]
     },
     "metadata": {},
     "output_type": "display_data"
    }
   ],
   "source": [
    "pairwise_results_r <- emmeans(mixed_model_r, ~ Period)\n",
    "pairwise_contrasts_r <- contrast(pairwise_results_r, method = \"pairwise\")\n",
    "pairwise_contrasts_r"
   ]
  },
  {
   "cell_type": "markdown",
   "metadata": {},
   "source": [
    "نتایج در این حالت هم همسان با نتایج فوق است"
   ]
  },
  {
   "cell_type": "markdown",
   "metadata": {},
   "source": []
  }
 ],
 "metadata": {
  "kernelspec": {
   "display_name": "R",
   "language": "R",
   "name": "ir"
  },
  "language_info": {
   "codemirror_mode": "r",
   "file_extension": ".r",
   "mimetype": "text/x-r-source",
   "name": "R",
   "pygments_lexer": "r",
   "version": "4.1.3"
  }
 },
 "nbformat": 4,
 "nbformat_minor": 2
}
