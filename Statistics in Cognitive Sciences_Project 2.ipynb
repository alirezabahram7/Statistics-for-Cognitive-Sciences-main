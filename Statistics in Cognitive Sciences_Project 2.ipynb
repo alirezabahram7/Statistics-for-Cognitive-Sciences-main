{
 "cells": [
  {
   "cell_type": "markdown",
   "metadata": {},
   "source": [
    "# Part A. \n",
    "Much has been made of the concept of experimenter bias, which refers to the fact that even the most conscientious experimenters tend to collect data that come out in the desired direction (they see what they want to see). Suppose we use students as experimenters. All the experi- menters are told that subjects will be given caffeine before the experiment, but one-half of the experimenters are told that we expect caffeine to lead to good performance and one-half are told that we expect it to lead to poor performance. The dependent variable is the number of simple arithmetic problems the subjects can solve in 2 minutes. The data obtained are:\n",
    "\n",
    "\n",
    "<img src=\"files/p22.png\" width=\"500\"/>\n",
    "\n",
    "- Based on these data, what can you conclude?\n",
    "- Construct 95% confidence limits on the true mean difference between two levels at the two times described above.\n",
    "- Calculate an effect size for the data."
   ]
  },
  {
   "cell_type": "markdown",
   "metadata": {},
   "source": [
    "فرض صفر : سوگیری آزمونگر روی دیتاها تاثیری نگذاشته\n",
    "فزض 1 :  سوگیری آزمونگر روی دیتاها تاثیری گذاشته"
   ]
  },
  {
   "cell_type": "code",
   "execution_count": 5,
   "metadata": {},
   "outputs": [],
   "source": [
    "#Load the data\n",
    "expectation_good <- c(19, 15, 22, 13, 18, 15, 20, 25, 22)\n",
    "expectation_poor <- c(14, 18, 17, 12, 21, 21, 24, 14)"
   ]
  },
  {
   "cell_type": "code",
   "execution_count": 21,
   "metadata": {},
   "outputs": [
    {
     "data": {
      "text/html": [
       "<table class=\"dataframe\">\n",
       "<caption>A data.frame: 9 × 1</caption>\n",
       "<thead>\n",
       "\t<tr><th scope=col>eg</th></tr>\n",
       "\t<tr><th scope=col>&lt;dbl&gt;</th></tr>\n",
       "</thead>\n",
       "<tbody>\n",
       "\t<tr><td>19</td></tr>\n",
       "\t<tr><td>15</td></tr>\n",
       "\t<tr><td>22</td></tr>\n",
       "\t<tr><td>13</td></tr>\n",
       "\t<tr><td>18</td></tr>\n",
       "\t<tr><td>15</td></tr>\n",
       "\t<tr><td>20</td></tr>\n",
       "\t<tr><td>25</td></tr>\n",
       "\t<tr><td>22</td></tr>\n",
       "</tbody>\n",
       "</table>\n"
      ],
      "text/latex": [
       "A data.frame: 9 × 1\n",
       "\\begin{tabular}{l}\n",
       " eg\\\\\n",
       " <dbl>\\\\\n",
       "\\hline\n",
       "\t 19\\\\\n",
       "\t 15\\\\\n",
       "\t 22\\\\\n",
       "\t 13\\\\\n",
       "\t 18\\\\\n",
       "\t 15\\\\\n",
       "\t 20\\\\\n",
       "\t 25\\\\\n",
       "\t 22\\\\\n",
       "\\end{tabular}\n"
      ],
      "text/markdown": [
       "\n",
       "A data.frame: 9 × 1\n",
       "\n",
       "| eg &lt;dbl&gt; |\n",
       "|---|\n",
       "| 19 |\n",
       "| 15 |\n",
       "| 22 |\n",
       "| 13 |\n",
       "| 18 |\n",
       "| 15 |\n",
       "| 20 |\n",
       "| 25 |\n",
       "| 22 |\n",
       "\n"
      ],
      "text/plain": [
       "  eg\n",
       "1 19\n",
       "2 15\n",
       "3 22\n",
       "4 13\n",
       "5 18\n",
       "6 15\n",
       "7 20\n",
       "8 25\n",
       "9 22"
      ]
     },
     "metadata": {},
     "output_type": "display_data"
    }
   ],
   "source": [
    "eg_df <- data.frame(\n",
    "    eg = c(19, 15, 22, 13, 18, 15, 20, 25, 22)\n",
    "    )\n",
    "eg_df"
   ]
  },
  {
   "cell_type": "code",
   "execution_count": 22,
   "metadata": {},
   "outputs": [
    {
     "data": {
      "text/html": [
       "<table class=\"dataframe\">\n",
       "<caption>A data.frame: 8 × 1</caption>\n",
       "<thead>\n",
       "\t<tr><th scope=col>ep</th></tr>\n",
       "\t<tr><th scope=col>&lt;dbl&gt;</th></tr>\n",
       "</thead>\n",
       "<tbody>\n",
       "\t<tr><td>14</td></tr>\n",
       "\t<tr><td>18</td></tr>\n",
       "\t<tr><td>17</td></tr>\n",
       "\t<tr><td>12</td></tr>\n",
       "\t<tr><td>21</td></tr>\n",
       "\t<tr><td>21</td></tr>\n",
       "\t<tr><td>24</td></tr>\n",
       "\t<tr><td>14</td></tr>\n",
       "</tbody>\n",
       "</table>\n"
      ],
      "text/latex": [
       "A data.frame: 8 × 1\n",
       "\\begin{tabular}{l}\n",
       " ep\\\\\n",
       " <dbl>\\\\\n",
       "\\hline\n",
       "\t 14\\\\\n",
       "\t 18\\\\\n",
       "\t 17\\\\\n",
       "\t 12\\\\\n",
       "\t 21\\\\\n",
       "\t 21\\\\\n",
       "\t 24\\\\\n",
       "\t 14\\\\\n",
       "\\end{tabular}\n"
      ],
      "text/markdown": [
       "\n",
       "A data.frame: 8 × 1\n",
       "\n",
       "| ep &lt;dbl&gt; |\n",
       "|---|\n",
       "| 14 |\n",
       "| 18 |\n",
       "| 17 |\n",
       "| 12 |\n",
       "| 21 |\n",
       "| 21 |\n",
       "| 24 |\n",
       "| 14 |\n",
       "\n"
      ],
      "text/plain": [
       "  ep\n",
       "1 14\n",
       "2 18\n",
       "3 17\n",
       "4 12\n",
       "5 21\n",
       "6 21\n",
       "7 24\n",
       "8 14"
      ]
     },
     "metadata": {},
     "output_type": "display_data"
    }
   ],
   "source": [
    "ep_df <- data.frame(\n",
    "    ep = c(14, 18, 17, 12, 21, 21, 24, 14)\n",
    "    )\n",
    "ep_df"
   ]
  },
  {
   "cell_type": "code",
   "execution_count": 17,
   "metadata": {},
   "outputs": [],
   "source": [
    "library(magrittr)\n",
    "library(rstatix)"
   ]
  },
  {
   "cell_type": "code",
   "execution_count": 23,
   "metadata": {},
   "outputs": [
    {
     "data": {
      "text/html": [
       "<table class=\"dataframe\">\n",
       "<caption>A tibble: 1 × 13</caption>\n",
       "<thead>\n",
       "\t<tr><th scope=col>variable</th><th scope=col>n</th><th scope=col>min</th><th scope=col>max</th><th scope=col>median</th><th scope=col>q1</th><th scope=col>q3</th><th scope=col>iqr</th><th scope=col>mad</th><th scope=col>mean</th><th scope=col>sd</th><th scope=col>se</th><th scope=col>ci</th></tr>\n",
       "\t<tr><th scope=col>&lt;fct&gt;</th><th scope=col>&lt;dbl&gt;</th><th scope=col>&lt;dbl&gt;</th><th scope=col>&lt;dbl&gt;</th><th scope=col>&lt;dbl&gt;</th><th scope=col>&lt;dbl&gt;</th><th scope=col>&lt;dbl&gt;</th><th scope=col>&lt;dbl&gt;</th><th scope=col>&lt;dbl&gt;</th><th scope=col>&lt;dbl&gt;</th><th scope=col>&lt;dbl&gt;</th><th scope=col>&lt;dbl&gt;</th><th scope=col>&lt;dbl&gt;</th></tr>\n",
       "</thead>\n",
       "<tbody>\n",
       "\t<tr><td>eg</td><td>9</td><td>13</td><td>25</td><td>19</td><td>15</td><td>22</td><td>7</td><td>4.448</td><td>18.778</td><td>3.93</td><td>1.31</td><td>3.021</td></tr>\n",
       "</tbody>\n",
       "</table>\n"
      ],
      "text/latex": [
       "A tibble: 1 × 13\n",
       "\\begin{tabular}{lllllllllllll}\n",
       " variable & n & min & max & median & q1 & q3 & iqr & mad & mean & sd & se & ci\\\\\n",
       " <fct> & <dbl> & <dbl> & <dbl> & <dbl> & <dbl> & <dbl> & <dbl> & <dbl> & <dbl> & <dbl> & <dbl> & <dbl>\\\\\n",
       "\\hline\n",
       "\t eg & 9 & 13 & 25 & 19 & 15 & 22 & 7 & 4.448 & 18.778 & 3.93 & 1.31 & 3.021\\\\\n",
       "\\end{tabular}\n"
      ],
      "text/markdown": [
       "\n",
       "A tibble: 1 × 13\n",
       "\n",
       "| variable &lt;fct&gt; | n &lt;dbl&gt; | min &lt;dbl&gt; | max &lt;dbl&gt; | median &lt;dbl&gt; | q1 &lt;dbl&gt; | q3 &lt;dbl&gt; | iqr &lt;dbl&gt; | mad &lt;dbl&gt; | mean &lt;dbl&gt; | sd &lt;dbl&gt; | se &lt;dbl&gt; | ci &lt;dbl&gt; |\n",
       "|---|---|---|---|---|---|---|---|---|---|---|---|---|\n",
       "| eg | 9 | 13 | 25 | 19 | 15 | 22 | 7 | 4.448 | 18.778 | 3.93 | 1.31 | 3.021 |\n",
       "\n"
      ],
      "text/plain": [
       "  variable n min max median q1 q3 iqr mad   mean   sd   se   ci   \n",
       "1 eg       9 13  25  19     15 22 7   4.448 18.778 3.93 1.31 3.021"
      ]
     },
     "metadata": {},
     "output_type": "display_data"
    }
   ],
   "source": [
    "eg_df %>% get_summary_stats(eg)"
   ]
  },
  {
   "cell_type": "code",
   "execution_count": 24,
   "metadata": {},
   "outputs": [
    {
     "data": {
      "text/html": [
       "<table class=\"dataframe\">\n",
       "<caption>A tibble: 1 × 13</caption>\n",
       "<thead>\n",
       "\t<tr><th scope=col>variable</th><th scope=col>n</th><th scope=col>min</th><th scope=col>max</th><th scope=col>median</th><th scope=col>q1</th><th scope=col>q3</th><th scope=col>iqr</th><th scope=col>mad</th><th scope=col>mean</th><th scope=col>sd</th><th scope=col>se</th><th scope=col>ci</th></tr>\n",
       "\t<tr><th scope=col>&lt;fct&gt;</th><th scope=col>&lt;dbl&gt;</th><th scope=col>&lt;dbl&gt;</th><th scope=col>&lt;dbl&gt;</th><th scope=col>&lt;dbl&gt;</th><th scope=col>&lt;dbl&gt;</th><th scope=col>&lt;dbl&gt;</th><th scope=col>&lt;dbl&gt;</th><th scope=col>&lt;dbl&gt;</th><th scope=col>&lt;dbl&gt;</th><th scope=col>&lt;dbl&gt;</th><th scope=col>&lt;dbl&gt;</th><th scope=col>&lt;dbl&gt;</th></tr>\n",
       "</thead>\n",
       "<tbody>\n",
       "\t<tr><td>ep</td><td>8</td><td>12</td><td>24</td><td>17.5</td><td>14</td><td>21</td><td>7</td><td>5.189</td><td>17.625</td><td>4.173</td><td>1.475</td><td>3.488</td></tr>\n",
       "</tbody>\n",
       "</table>\n"
      ],
      "text/latex": [
       "A tibble: 1 × 13\n",
       "\\begin{tabular}{lllllllllllll}\n",
       " variable & n & min & max & median & q1 & q3 & iqr & mad & mean & sd & se & ci\\\\\n",
       " <fct> & <dbl> & <dbl> & <dbl> & <dbl> & <dbl> & <dbl> & <dbl> & <dbl> & <dbl> & <dbl> & <dbl> & <dbl>\\\\\n",
       "\\hline\n",
       "\t ep & 8 & 12 & 24 & 17.5 & 14 & 21 & 7 & 5.189 & 17.625 & 4.173 & 1.475 & 3.488\\\\\n",
       "\\end{tabular}\n"
      ],
      "text/markdown": [
       "\n",
       "A tibble: 1 × 13\n",
       "\n",
       "| variable &lt;fct&gt; | n &lt;dbl&gt; | min &lt;dbl&gt; | max &lt;dbl&gt; | median &lt;dbl&gt; | q1 &lt;dbl&gt; | q3 &lt;dbl&gt; | iqr &lt;dbl&gt; | mad &lt;dbl&gt; | mean &lt;dbl&gt; | sd &lt;dbl&gt; | se &lt;dbl&gt; | ci &lt;dbl&gt; |\n",
       "|---|---|---|---|---|---|---|---|---|---|---|---|---|\n",
       "| ep | 8 | 12 | 24 | 17.5 | 14 | 21 | 7 | 5.189 | 17.625 | 4.173 | 1.475 | 3.488 |\n",
       "\n"
      ],
      "text/plain": [
       "  variable n min max median q1 q3 iqr mad   mean   sd    se    ci   \n",
       "1 ep       8 12  24  17.5   14 21 7   5.189 17.625 4.173 1.475 3.488"
      ]
     },
     "metadata": {},
     "output_type": "display_data"
    }
   ],
   "source": [
    "ep_df %>% get_summary_stats(ep)"
   ]
  },
  {
   "cell_type": "code",
   "execution_count": 28,
   "metadata": {},
   "outputs": [
    {
     "data": {
      "text/html": [
       "<table class=\"dataframe\">\n",
       "<caption>A data.frame: 0 × 3</caption>\n",
       "<thead>\n",
       "\t<tr><th scope=col>eg</th><th scope=col>is.outlier</th><th scope=col>is.extreme</th></tr>\n",
       "\t<tr><th scope=col>&lt;dbl&gt;</th><th scope=col>&lt;lgl&gt;</th><th scope=col>&lt;lgl&gt;</th></tr>\n",
       "</thead>\n",
       "<tbody>\n",
       "</tbody>\n",
       "</table>\n"
      ],
      "text/latex": [
       "A data.frame: 0 × 3\n",
       "\\begin{tabular}{lll}\n",
       " eg & is.outlier & is.extreme\\\\\n",
       " <dbl> & <lgl> & <lgl>\\\\\n",
       "\\hline\n",
       "\\end{tabular}\n"
      ],
      "text/markdown": [
       "\n",
       "A data.frame: 0 × 3\n",
       "\n",
       "| eg &lt;dbl&gt; | is.outlier &lt;lgl&gt; | is.extreme &lt;lgl&gt; |\n",
       "|---|---|---|\n",
       "\n"
      ],
      "text/plain": [
       "     eg is.outlier is.extreme"
      ]
     },
     "metadata": {},
     "output_type": "display_data"
    }
   ],
   "source": [
    "eg_df %>% identify_outliers(eg)"
   ]
  },
  {
   "cell_type": "code",
   "execution_count": 29,
   "metadata": {},
   "outputs": [
    {
     "data": {
      "text/html": [
       "<table class=\"dataframe\">\n",
       "<caption>A data.frame: 0 × 3</caption>\n",
       "<thead>\n",
       "\t<tr><th scope=col>ep</th><th scope=col>is.outlier</th><th scope=col>is.extreme</th></tr>\n",
       "\t<tr><th scope=col>&lt;dbl&gt;</th><th scope=col>&lt;lgl&gt;</th><th scope=col>&lt;lgl&gt;</th></tr>\n",
       "</thead>\n",
       "<tbody>\n",
       "</tbody>\n",
       "</table>\n"
      ],
      "text/latex": [
       "A data.frame: 0 × 3\n",
       "\\begin{tabular}{lll}\n",
       " ep & is.outlier & is.extreme\\\\\n",
       " <dbl> & <lgl> & <lgl>\\\\\n",
       "\\hline\n",
       "\\end{tabular}\n"
      ],
      "text/markdown": [
       "\n",
       "A data.frame: 0 × 3\n",
       "\n",
       "| ep &lt;dbl&gt; | is.outlier &lt;lgl&gt; | is.extreme &lt;lgl&gt; |\n",
       "|---|---|---|\n",
       "\n"
      ],
      "text/plain": [
       "     ep is.outlier is.extreme"
      ]
     },
     "metadata": {},
     "output_type": "display_data"
    }
   ],
   "source": [
    "ep_df %>% identify_outliers(ep)"
   ]
  },
  {
   "cell_type": "code",
   "execution_count": 30,
   "metadata": {},
   "outputs": [
    {
     "data": {
      "image/png": "[encoded data removed]",
      "text/plain": [
       "plot without title"
      ]
     },
     "metadata": {
      "image/png": {
       "height": 420,
       "width": 420
      }
     },
     "output_type": "display_data"
    }
   ],
   "source": [
    "ggqqplot(eg_df,\"eg\")"
   ]
  },
  {
   "cell_type": "code",
   "execution_count": 31,
   "metadata": {},
   "outputs": [
    {
     "data": {
      "image/png": "[encoded data removed]",
      "text/plain": [
       "plot without title"
      ]
     },
     "metadata": {
      "image/png": {
       "height": 420,
       "width": 420
      }
     },
     "output_type": "display_data"
    }
   ],
   "source": [
    "ggqqplot(ep_df,\"ep\")"
   ]
  },
  {
   "cell_type": "code",
   "execution_count": 32,
   "metadata": {},
   "outputs": [
    {
     "data": {
      "text/html": [
       "<table class=\"dataframe\">\n",
       "<caption>A tibble: 1 × 3</caption>\n",
       "<thead>\n",
       "\t<tr><th scope=col>variable</th><th scope=col>statistic</th><th scope=col>p</th></tr>\n",
       "\t<tr><th scope=col>&lt;chr&gt;</th><th scope=col>&lt;dbl&gt;</th><th scope=col>&lt;dbl&gt;</th></tr>\n",
       "</thead>\n",
       "<tbody>\n",
       "\t<tr><td>eg</td><td>0.9635849</td><td>0.8349957</td></tr>\n",
       "</tbody>\n",
       "</table>\n"
      ],
      "text/latex": [
       "A tibble: 1 × 3\n",
       "\\begin{tabular}{lll}\n",
       " variable & statistic & p\\\\\n",
       " <chr> & <dbl> & <dbl>\\\\\n",
       "\\hline\n",
       "\t eg & 0.9635849 & 0.8349957\\\\\n",
       "\\end{tabular}\n"
      ],
      "text/markdown": [
       "\n",
       "A tibble: 1 × 3\n",
       "\n",
       "| variable &lt;chr&gt; | statistic &lt;dbl&gt; | p &lt;dbl&gt; |\n",
       "|---|---|---|\n",
       "| eg | 0.9635849 | 0.8349957 |\n",
       "\n"
      ],
      "text/plain": [
       "  variable statistic p        \n",
       "1 eg       0.9635849 0.8349957"
      ]
     },
     "metadata": {},
     "output_type": "display_data"
    }
   ],
   "source": [
    "eg_df %>% shapiro_test(eg)"
   ]
  },
  {
   "cell_type": "code",
   "execution_count": 33,
   "metadata": {},
   "outputs": [
    {
     "data": {
      "text/html": [
       "<table class=\"dataframe\">\n",
       "<caption>A tibble: 1 × 3</caption>\n",
       "<thead>\n",
       "\t<tr><th scope=col>variable</th><th scope=col>statistic</th><th scope=col>p</th></tr>\n",
       "\t<tr><th scope=col>&lt;chr&gt;</th><th scope=col>&lt;dbl&gt;</th><th scope=col>&lt;dbl&gt;</th></tr>\n",
       "</thead>\n",
       "<tbody>\n",
       "\t<tr><td>ep</td><td>0.9494584</td><td>0.7057693</td></tr>\n",
       "</tbody>\n",
       "</table>\n"
      ],
      "text/latex": [
       "A tibble: 1 × 3\n",
       "\\begin{tabular}{lll}\n",
       " variable & statistic & p\\\\\n",
       " <chr> & <dbl> & <dbl>\\\\\n",
       "\\hline\n",
       "\t ep & 0.9494584 & 0.7057693\\\\\n",
       "\\end{tabular}\n"
      ],
      "text/markdown": [
       "\n",
       "A tibble: 1 × 3\n",
       "\n",
       "| variable &lt;chr&gt; | statistic &lt;dbl&gt; | p &lt;dbl&gt; |\n",
       "|---|---|---|\n",
       "| ep | 0.9494584 | 0.7057693 |\n",
       "\n"
      ],
      "text/plain": [
       "  variable statistic p        \n",
       "1 ep       0.9494584 0.7057693"
      ]
     },
     "metadata": {},
     "output_type": "display_data"
    }
   ],
   "source": [
    "ep_df %>% shapiro_test(ep)"
   ]
  },
  {
   "cell_type": "markdown",
   "metadata": {},
   "source": [
    "چون مقدار پی در هر دو داده بالاست فرض نرمالیتی برقرار است"
   ]
  },
  {
   "cell_type": "code",
   "execution_count": 34,
   "metadata": {},
   "outputs": [
    {
     "data": {
      "text/plain": [
       "\n",
       "\tWelch Two Sample t-test\n",
       "\n",
       "data:  expectation_good and expectation_poor\n",
       "t = 0.5843, df = 14.502, p-value = 0.568\n",
       "alternative hypothesis: true difference in means is not equal to 0\n",
       "95 percent confidence interval:\n",
       " -3.065004  5.370559\n",
       "sample estimates:\n",
       "mean of x mean of y \n",
       " 18.77778  17.62500 \n"
      ]
     },
     "metadata": {},
     "output_type": "display_data"
    }
   ],
   "source": [
    "t_test_result <- t.test(expectation_good, expectation_poor)\n",
    "t_test_result\n"
   ]
  },
  {
   "cell_type": "markdown",
   "metadata": {},
   "source": [
    "مقدار بزرگ پی نشان از عدم رد فرض صفر می دهد. یعنی داده ها نشانگر تاثیر سوگیری آزمونگر نیستند"
   ]
  },
  {
   "cell_type": "code",
   "execution_count": 10,
   "metadata": {},
   "outputs": [],
   "source": [
    "confidence_intervals <- t.test(expectation_good, expectation_poor, conf.int = TRUE)$conf.int\n"
   ]
  },
  {
   "cell_type": "code",
   "execution_count": 154,
   "metadata": {},
   "outputs": [],
   "source": [
    "mean_diff <- mean(expectation_good) - mean(expectation_poor)\n",
    "pooled_sd <- sqrt(((length(expectation_good)-1)*var(expectation_good) + (length(expectation_poor)-1)*var(expectation_poor))/(length(expectation_good) + length(expectation_poor) - 2))\n",
    "effect_size <- mean_diff / pooled_sd"
   ]
  },
  {
   "cell_type": "code",
   "execution_count": 155,
   "metadata": {},
   "outputs": [
    {
     "name": "stdout",
     "output_type": "stream",
     "text": [
      "\n",
      "95% Confidence Intervals for the True Mean Difference:\n",
      "[1] 0.3460137 2.5539863\n",
      "attr(,\"conf.level\")\n",
      "[1] 0.95\n",
      "\n",
      "Effect size (Cohen's d):\n",
      "[1] 0.2849882\n"
     ]
    }
   ],
   "source": [
    "cat(\"\\n95% Confidence Intervals for the True Mean Difference:\\n\")\n",
    "print(confidence_intervals)\n",
    "\n",
    "cat(\"\\nEffect size (Cohen's d):\\n\")\n",
    "print(effect_size)\n"
   ]
  },
  {
   "cell_type": "markdown",
   "metadata": {},
   "source": [
    "\n",
    "- : مقدار این فاصله اطمینان اعدادی بین 0.3460137 و 2.5539863 است. این به معنی آن است که با اطمینان 95٪، تفاوت میانگین واقعی بین گروه اول و گروه دوم در بازهٔ 0.3460137 تا 2.5539863 قرار دارد.\n",
    "\n",
    "- اندازه اثر: مقدار آن برابر با 0.2849882 است. مقدار کوچک این معیار نشان می دهد که تفاوت معناداری بین دورگوه وجود ندارد.\n",
    "\n",
    "به طور کلی، نتیجه ها نشان می دهد که سوگیری آزمونگر در این داده ها تفاوت معناداری ایجاد نکرده."
   ]
  },
  {
   "cell_type": "markdown",
   "metadata": {},
   "source": [
    "# Part B.\n",
    "The Thematic Apperception Test (TAT) presents participants with ambiguous pictures and asks them to tell a story about them. These stories can be scored in any number of ways. Three researchers asked mothers of 20 normal and 20 schizophrenic children to complete the TAT and then scored for the number of stories (out of 10) that exhibited a positive parent–child relationship. The data follow (https://github.com/amanirad/Statistics-in-Cognitive-Sciences):\n",
    "\n",
    "<img src=\"files/p3.png\" width=\"400\"/>\n",
    "\n",
    "- What would you assume to be the experimental hypothesis behind this study?\n",
    "- What would you conclude with respect to that hypothesis?\n",
    "- Why might it be smart to look at the variances of the two groups?\n",
    "- A significant difference might lead someone to suggest that poor parent–child relationships are the cause of schizophrenia. Why might this be a troublesome conclusion?\n",
    "- Calculate the 95% confidence limits on mean1-mean2 for the data. Calculate Cohen’s d^."
   ]
  },
  {
   "cell_type": "code",
   "execution_count": 38,
   "metadata": {},
   "outputs": [
    {
     "data": {
      "text/html": [
       "<table class=\"dataframe\">\n",
       "<caption>A data.frame: 40 × 2</caption>\n",
       "<thead>\n",
       "\t<tr><th scope=col>GROUP</th><th scope=col>NUMBER</th></tr>\n",
       "\t<tr><th scope=col>&lt;int&gt;</th><th scope=col>&lt;int&gt;</th></tr>\n",
       "</thead>\n",
       "<tbody>\n",
       "\t<tr><td>1</td><td>8</td></tr>\n",
       "\t<tr><td>1</td><td>4</td></tr>\n",
       "\t<tr><td>1</td><td>6</td></tr>\n",
       "\t<tr><td>1</td><td>3</td></tr>\n",
       "\t<tr><td>1</td><td>1</td></tr>\n",
       "\t<tr><td>1</td><td>4</td></tr>\n",
       "\t<tr><td>1</td><td>4</td></tr>\n",
       "\t<tr><td>1</td><td>6</td></tr>\n",
       "\t<tr><td>1</td><td>4</td></tr>\n",
       "\t<tr><td>1</td><td>2</td></tr>\n",
       "\t<tr><td>1</td><td>2</td></tr>\n",
       "\t<tr><td>1</td><td>1</td></tr>\n",
       "\t<tr><td>1</td><td>1</td></tr>\n",
       "\t<tr><td>1</td><td>4</td></tr>\n",
       "\t<tr><td>1</td><td>3</td></tr>\n",
       "\t<tr><td>1</td><td>3</td></tr>\n",
       "\t<tr><td>1</td><td>2</td></tr>\n",
       "\t<tr><td>1</td><td>6</td></tr>\n",
       "\t<tr><td>1</td><td>3</td></tr>\n",
       "\t<tr><td>1</td><td>4</td></tr>\n",
       "\t<tr><td>2</td><td>2</td></tr>\n",
       "\t<tr><td>2</td><td>1</td></tr>\n",
       "\t<tr><td>2</td><td>1</td></tr>\n",
       "\t<tr><td>2</td><td>3</td></tr>\n",
       "\t<tr><td>2</td><td>2</td></tr>\n",
       "\t<tr><td>2</td><td>7</td></tr>\n",
       "\t<tr><td>2</td><td>2</td></tr>\n",
       "\t<tr><td>2</td><td>1</td></tr>\n",
       "\t<tr><td>2</td><td>3</td></tr>\n",
       "\t<tr><td>2</td><td>1</td></tr>\n",
       "\t<tr><td>2</td><td>0</td></tr>\n",
       "\t<tr><td>2</td><td>2</td></tr>\n",
       "\t<tr><td>2</td><td>4</td></tr>\n",
       "\t<tr><td>2</td><td>2</td></tr>\n",
       "\t<tr><td>2</td><td>3</td></tr>\n",
       "\t<tr><td>2</td><td>3</td></tr>\n",
       "\t<tr><td>2</td><td>0</td></tr>\n",
       "\t<tr><td>2</td><td>1</td></tr>\n",
       "\t<tr><td>2</td><td>2</td></tr>\n",
       "\t<tr><td>2</td><td>2</td></tr>\n",
       "</tbody>\n",
       "</table>\n"
      ],
      "text/latex": [
       "A data.frame: 40 × 2\n",
       "\\begin{tabular}{ll}\n",
       " GROUP & NUMBER\\\\\n",
       " <int> & <int>\\\\\n",
       "\\hline\n",
       "\t 1 & 8\\\\\n",
       "\t 1 & 4\\\\\n",
       "\t 1 & 6\\\\\n",
       "\t 1 & 3\\\\\n",
       "\t 1 & 1\\\\\n",
       "\t 1 & 4\\\\\n",
       "\t 1 & 4\\\\\n",
       "\t 1 & 6\\\\\n",
       "\t 1 & 4\\\\\n",
       "\t 1 & 2\\\\\n",
       "\t 1 & 2\\\\\n",
       "\t 1 & 1\\\\\n",
       "\t 1 & 1\\\\\n",
       "\t 1 & 4\\\\\n",
       "\t 1 & 3\\\\\n",
       "\t 1 & 3\\\\\n",
       "\t 1 & 2\\\\\n",
       "\t 1 & 6\\\\\n",
       "\t 1 & 3\\\\\n",
       "\t 1 & 4\\\\\n",
       "\t 2 & 2\\\\\n",
       "\t 2 & 1\\\\\n",
       "\t 2 & 1\\\\\n",
       "\t 2 & 3\\\\\n",
       "\t 2 & 2\\\\\n",
       "\t 2 & 7\\\\\n",
       "\t 2 & 2\\\\\n",
       "\t 2 & 1\\\\\n",
       "\t 2 & 3\\\\\n",
       "\t 2 & 1\\\\\n",
       "\t 2 & 0\\\\\n",
       "\t 2 & 2\\\\\n",
       "\t 2 & 4\\\\\n",
       "\t 2 & 2\\\\\n",
       "\t 2 & 3\\\\\n",
       "\t 2 & 3\\\\\n",
       "\t 2 & 0\\\\\n",
       "\t 2 & 1\\\\\n",
       "\t 2 & 2\\\\\n",
       "\t 2 & 2\\\\\n",
       "\\end{tabular}\n"
      ],
      "text/markdown": [
       "\n",
       "A data.frame: 40 × 2\n",
       "\n",
       "| GROUP &lt;int&gt; | NUMBER &lt;int&gt; |\n",
       "|---|---|\n",
       "| 1 | 8 |\n",
       "| 1 | 4 |\n",
       "| 1 | 6 |\n",
       "| 1 | 3 |\n",
       "| 1 | 1 |\n",
       "| 1 | 4 |\n",
       "| 1 | 4 |\n",
       "| 1 | 6 |\n",
       "| 1 | 4 |\n",
       "| 1 | 2 |\n",
       "| 1 | 2 |\n",
       "| 1 | 1 |\n",
       "| 1 | 1 |\n",
       "| 1 | 4 |\n",
       "| 1 | 3 |\n",
       "| 1 | 3 |\n",
       "| 1 | 2 |\n",
       "| 1 | 6 |\n",
       "| 1 | 3 |\n",
       "| 1 | 4 |\n",
       "| 2 | 2 |\n",
       "| 2 | 1 |\n",
       "| 2 | 1 |\n",
       "| 2 | 3 |\n",
       "| 2 | 2 |\n",
       "| 2 | 7 |\n",
       "| 2 | 2 |\n",
       "| 2 | 1 |\n",
       "| 2 | 3 |\n",
       "| 2 | 1 |\n",
       "| 2 | 0 |\n",
       "| 2 | 2 |\n",
       "| 2 | 4 |\n",
       "| 2 | 2 |\n",
       "| 2 | 3 |\n",
       "| 2 | 3 |\n",
       "| 2 | 0 |\n",
       "| 2 | 1 |\n",
       "| 2 | 2 |\n",
       "| 2 | 2 |\n",
       "\n"
      ],
      "text/plain": [
       "   GROUP NUMBER\n",
       "1  1     8     \n",
       "2  1     4     \n",
       "3  1     6     \n",
       "4  1     3     \n",
       "5  1     1     \n",
       "6  1     4     \n",
       "7  1     4     \n",
       "8  1     6     \n",
       "9  1     4     \n",
       "10 1     2     \n",
       "11 1     2     \n",
       "12 1     1     \n",
       "13 1     1     \n",
       "14 1     4     \n",
       "15 1     3     \n",
       "16 1     3     \n",
       "17 1     2     \n",
       "18 1     6     \n",
       "19 1     3     \n",
       "20 1     4     \n",
       "21 2     2     \n",
       "22 2     1     \n",
       "23 2     1     \n",
       "24 2     3     \n",
       "25 2     2     \n",
       "26 2     7     \n",
       "27 2     2     \n",
       "28 2     1     \n",
       "29 2     3     \n",
       "30 2     1     \n",
       "31 2     0     \n",
       "32 2     2     \n",
       "33 2     4     \n",
       "34 2     2     \n",
       "35 2     3     \n",
       "36 2     3     \n",
       "37 2     0     \n",
       "38 2     1     \n",
       "39 2     2     \n",
       "40 2     2     "
      ]
     },
     "metadata": {},
     "output_type": "display_data"
    }
   ],
   "source": [
    "#load the data\n",
    "tat_dat = read.table('project_2_B.dat', header = TRUE)\n",
    "tat_dat"
   ]
  },
  {
   "cell_type": "code",
   "execution_count": 46,
   "metadata": {},
   "outputs": [
    {
     "data": {
      "text/html": [
       "<table class=\"dataframe\">\n",
       "<caption>A data.frame: 40 × 2</caption>\n",
       "<thead>\n",
       "\t<tr><th scope=col>GROUP</th><th scope=col>NUMBER</th></tr>\n",
       "\t<tr><th scope=col>&lt;chr&gt;</th><th scope=col>&lt;int&gt;</th></tr>\n",
       "</thead>\n",
       "<tbody>\n",
       "\t<tr><td>N</td><td>8</td></tr>\n",
       "\t<tr><td>N</td><td>4</td></tr>\n",
       "\t<tr><td>N</td><td>6</td></tr>\n",
       "\t<tr><td>N</td><td>3</td></tr>\n",
       "\t<tr><td>N</td><td>1</td></tr>\n",
       "\t<tr><td>N</td><td>4</td></tr>\n",
       "\t<tr><td>N</td><td>4</td></tr>\n",
       "\t<tr><td>N</td><td>6</td></tr>\n",
       "\t<tr><td>N</td><td>4</td></tr>\n",
       "\t<tr><td>N</td><td>2</td></tr>\n",
       "\t<tr><td>N</td><td>2</td></tr>\n",
       "\t<tr><td>N</td><td>1</td></tr>\n",
       "\t<tr><td>N</td><td>1</td></tr>\n",
       "\t<tr><td>N</td><td>4</td></tr>\n",
       "\t<tr><td>N</td><td>3</td></tr>\n",
       "\t<tr><td>N</td><td>3</td></tr>\n",
       "\t<tr><td>N</td><td>2</td></tr>\n",
       "\t<tr><td>N</td><td>6</td></tr>\n",
       "\t<tr><td>N</td><td>3</td></tr>\n",
       "\t<tr><td>N</td><td>4</td></tr>\n",
       "\t<tr><td>S</td><td>2</td></tr>\n",
       "\t<tr><td>S</td><td>1</td></tr>\n",
       "\t<tr><td>S</td><td>1</td></tr>\n",
       "\t<tr><td>S</td><td>3</td></tr>\n",
       "\t<tr><td>S</td><td>2</td></tr>\n",
       "\t<tr><td>S</td><td>7</td></tr>\n",
       "\t<tr><td>S</td><td>2</td></tr>\n",
       "\t<tr><td>S</td><td>1</td></tr>\n",
       "\t<tr><td>S</td><td>3</td></tr>\n",
       "\t<tr><td>S</td><td>1</td></tr>\n",
       "\t<tr><td>S</td><td>0</td></tr>\n",
       "\t<tr><td>S</td><td>2</td></tr>\n",
       "\t<tr><td>S</td><td>4</td></tr>\n",
       "\t<tr><td>S</td><td>2</td></tr>\n",
       "\t<tr><td>S</td><td>3</td></tr>\n",
       "\t<tr><td>S</td><td>3</td></tr>\n",
       "\t<tr><td>S</td><td>0</td></tr>\n",
       "\t<tr><td>S</td><td>1</td></tr>\n",
       "\t<tr><td>S</td><td>2</td></tr>\n",
       "\t<tr><td>S</td><td>2</td></tr>\n",
       "</tbody>\n",
       "</table>\n"
      ],
      "text/latex": [
       "A data.frame: 40 × 2\n",
       "\\begin{tabular}{ll}\n",
       " GROUP & NUMBER\\\\\n",
       " <chr> & <int>\\\\\n",
       "\\hline\n",
       "\t N & 8\\\\\n",
       "\t N & 4\\\\\n",
       "\t N & 6\\\\\n",
       "\t N & 3\\\\\n",
       "\t N & 1\\\\\n",
       "\t N & 4\\\\\n",
       "\t N & 4\\\\\n",
       "\t N & 6\\\\\n",
       "\t N & 4\\\\\n",
       "\t N & 2\\\\\n",
       "\t N & 2\\\\\n",
       "\t N & 1\\\\\n",
       "\t N & 1\\\\\n",
       "\t N & 4\\\\\n",
       "\t N & 3\\\\\n",
       "\t N & 3\\\\\n",
       "\t N & 2\\\\\n",
       "\t N & 6\\\\\n",
       "\t N & 3\\\\\n",
       "\t N & 4\\\\\n",
       "\t S & 2\\\\\n",
       "\t S & 1\\\\\n",
       "\t S & 1\\\\\n",
       "\t S & 3\\\\\n",
       "\t S & 2\\\\\n",
       "\t S & 7\\\\\n",
       "\t S & 2\\\\\n",
       "\t S & 1\\\\\n",
       "\t S & 3\\\\\n",
       "\t S & 1\\\\\n",
       "\t S & 0\\\\\n",
       "\t S & 2\\\\\n",
       "\t S & 4\\\\\n",
       "\t S & 2\\\\\n",
       "\t S & 3\\\\\n",
       "\t S & 3\\\\\n",
       "\t S & 0\\\\\n",
       "\t S & 1\\\\\n",
       "\t S & 2\\\\\n",
       "\t S & 2\\\\\n",
       "\\end{tabular}\n"
      ],
      "text/markdown": [
       "\n",
       "A data.frame: 40 × 2\n",
       "\n",
       "| GROUP &lt;chr&gt; | NUMBER &lt;int&gt; |\n",
       "|---|---|\n",
       "| N | 8 |\n",
       "| N | 4 |\n",
       "| N | 6 |\n",
       "| N | 3 |\n",
       "| N | 1 |\n",
       "| N | 4 |\n",
       "| N | 4 |\n",
       "| N | 6 |\n",
       "| N | 4 |\n",
       "| N | 2 |\n",
       "| N | 2 |\n",
       "| N | 1 |\n",
       "| N | 1 |\n",
       "| N | 4 |\n",
       "| N | 3 |\n",
       "| N | 3 |\n",
       "| N | 2 |\n",
       "| N | 6 |\n",
       "| N | 3 |\n",
       "| N | 4 |\n",
       "| S | 2 |\n",
       "| S | 1 |\n",
       "| S | 1 |\n",
       "| S | 3 |\n",
       "| S | 2 |\n",
       "| S | 7 |\n",
       "| S | 2 |\n",
       "| S | 1 |\n",
       "| S | 3 |\n",
       "| S | 1 |\n",
       "| S | 0 |\n",
       "| S | 2 |\n",
       "| S | 4 |\n",
       "| S | 2 |\n",
       "| S | 3 |\n",
       "| S | 3 |\n",
       "| S | 0 |\n",
       "| S | 1 |\n",
       "| S | 2 |\n",
       "| S | 2 |\n",
       "\n"
      ],
      "text/plain": [
       "   GROUP NUMBER\n",
       "1  N     8     \n",
       "2  N     4     \n",
       "3  N     6     \n",
       "4  N     3     \n",
       "5  N     1     \n",
       "6  N     4     \n",
       "7  N     4     \n",
       "8  N     6     \n",
       "9  N     4     \n",
       "10 N     2     \n",
       "11 N     2     \n",
       "12 N     1     \n",
       "13 N     1     \n",
       "14 N     4     \n",
       "15 N     3     \n",
       "16 N     3     \n",
       "17 N     2     \n",
       "18 N     6     \n",
       "19 N     3     \n",
       "20 N     4     \n",
       "21 S     2     \n",
       "22 S     1     \n",
       "23 S     1     \n",
       "24 S     3     \n",
       "25 S     2     \n",
       "26 S     7     \n",
       "27 S     2     \n",
       "28 S     1     \n",
       "29 S     3     \n",
       "30 S     1     \n",
       "31 S     0     \n",
       "32 S     2     \n",
       "33 S     4     \n",
       "34 S     2     \n",
       "35 S     3     \n",
       "36 S     3     \n",
       "37 S     0     \n",
       "38 S     1     \n",
       "39 S     2     \n",
       "40 S     2     "
      ]
     },
     "metadata": {},
     "output_type": "display_data"
    }
   ],
   "source": [
    "library(stringr)\n",
    "tat_dat$GROUP <- str_replace(tat_dat$GROUP, \"1\", \"N\")\n",
    "tat_dat$GROUP <- str_replace(tat_dat$GROUP, \"2\", \"S\")\n",
    "tat_dat"
   ]
  },
  {
   "cell_type": "markdown",
   "metadata": {},
   "source": [
    "فرض 1: بین میانگین امتیاز در رابطه مثبت والد-کودک بین دو گروه تفاوت وجود دارد (کودکان عادی در مقابل کودکان اسکیزوفرنی)\n",
    "به طور خاص، انتظار می رود که مادران کودکان عادی در مقایسه با مادران کودکان اسکیزوفرنی در داستان های رابطه مثبت والد-کودکی امتیاز بیشتری کسب می کنند.\n",
    "\n",
    "فرض 0: بین دو جامعه در امتیاز  رابطه مثبت کودک فرزندی تفاوتی وجود ندارد"
   ]
  },
  {
   "cell_type": "code",
   "execution_count": 47,
   "metadata": {},
   "outputs": [],
   "source": [
    "library(magrittr)\n",
    "library(rstatix)"
   ]
  },
  {
   "cell_type": "code",
   "execution_count": 56,
   "metadata": {},
   "outputs": [
    {
     "data": {
      "text/html": [
       "<table class=\"dataframe\">\n",
       "<caption>A tibble: 2 × 14</caption>\n",
       "<thead>\n",
       "\t<tr><th scope=col>GROUP</th><th scope=col>variable</th><th scope=col>n</th><th scope=col>min</th><th scope=col>max</th><th scope=col>median</th><th scope=col>q1</th><th scope=col>q3</th><th scope=col>iqr</th><th scope=col>mad</th><th scope=col>mean</th><th scope=col>sd</th><th scope=col>se</th><th scope=col>ci</th></tr>\n",
       "\t<tr><th scope=col>&lt;chr&gt;</th><th scope=col>&lt;fct&gt;</th><th scope=col>&lt;dbl&gt;</th><th scope=col>&lt;dbl&gt;</th><th scope=col>&lt;dbl&gt;</th><th scope=col>&lt;dbl&gt;</th><th scope=col>&lt;dbl&gt;</th><th scope=col>&lt;dbl&gt;</th><th scope=col>&lt;dbl&gt;</th><th scope=col>&lt;dbl&gt;</th><th scope=col>&lt;dbl&gt;</th><th scope=col>&lt;dbl&gt;</th><th scope=col>&lt;dbl&gt;</th><th scope=col>&lt;dbl&gt;</th></tr>\n",
       "</thead>\n",
       "<tbody>\n",
       "\t<tr><td>N</td><td>NUMBER</td><td>20</td><td>1</td><td>8</td><td>3.5</td><td>2</td><td>4</td><td>2</td><td>1.483</td><td>3.55</td><td>1.877</td><td>0.420</td><td>0.879</td></tr>\n",
       "\t<tr><td>S</td><td>NUMBER</td><td>20</td><td>0</td><td>7</td><td>2.0</td><td>1</td><td>3</td><td>2</td><td>1.483</td><td>2.10</td><td>1.553</td><td>0.347</td><td>0.727</td></tr>\n",
       "</tbody>\n",
       "</table>\n"
      ],
      "text/latex": [
       "A tibble: 2 × 14\n",
       "\\begin{tabular}{llllllllllllll}\n",
       " GROUP & variable & n & min & max & median & q1 & q3 & iqr & mad & mean & sd & se & ci\\\\\n",
       " <chr> & <fct> & <dbl> & <dbl> & <dbl> & <dbl> & <dbl> & <dbl> & <dbl> & <dbl> & <dbl> & <dbl> & <dbl> & <dbl>\\\\\n",
       "\\hline\n",
       "\t N & NUMBER & 20 & 1 & 8 & 3.5 & 2 & 4 & 2 & 1.483 & 3.55 & 1.877 & 0.420 & 0.879\\\\\n",
       "\t S & NUMBER & 20 & 0 & 7 & 2.0 & 1 & 3 & 2 & 1.483 & 2.10 & 1.553 & 0.347 & 0.727\\\\\n",
       "\\end{tabular}\n"
      ],
      "text/markdown": [
       "\n",
       "A tibble: 2 × 14\n",
       "\n",
       "| GROUP &lt;chr&gt; | variable &lt;fct&gt; | n &lt;dbl&gt; | min &lt;dbl&gt; | max &lt;dbl&gt; | median &lt;dbl&gt; | q1 &lt;dbl&gt; | q3 &lt;dbl&gt; | iqr &lt;dbl&gt; | mad &lt;dbl&gt; | mean &lt;dbl&gt; | sd &lt;dbl&gt; | se &lt;dbl&gt; | ci &lt;dbl&gt; |\n",
       "|---|---|---|---|---|---|---|---|---|---|---|---|---|---|\n",
       "| N | NUMBER | 20 | 1 | 8 | 3.5 | 2 | 4 | 2 | 1.483 | 3.55 | 1.877 | 0.420 | 0.879 |\n",
       "| S | NUMBER | 20 | 0 | 7 | 2.0 | 1 | 3 | 2 | 1.483 | 2.10 | 1.553 | 0.347 | 0.727 |\n",
       "\n"
      ],
      "text/plain": [
       "  GROUP variable n  min max median q1 q3 iqr mad   mean sd    se    ci   \n",
       "1 N     NUMBER   20 1   8   3.5    2  4  2   1.483 3.55 1.877 0.420 0.879\n",
       "2 S     NUMBER   20 0   7   2.0    1  3  2   1.483 2.10 1.553 0.347 0.727"
      ]
     },
     "metadata": {},
     "output_type": "display_data"
    }
   ],
   "source": [
    "tat_dat %>% group_by(GROUP) %>% get_summary_stats(NUMBER)"
   ]
  },
  {
   "cell_type": "markdown",
   "metadata": {},
   "source": [
    "مهم است که به واریانس های دو گروه نگاه کنیم، زیرا تفاوتهای قابل توجه در میانگین ها به تنهایی ممکن است معنی دار نباشد، اگر واریانس ها تفاوت اساسی داشته باشند. واریانس بالا در یک گروه می تواند بر تفسیر نتایج تأثیر بگذارد و ممکن است نشان دهد که عوامل دیگری در تفاوت های مشاهده شده نقش دارند."
   ]
  },
  {
   "cell_type": "markdown",
   "metadata": {},
   "source": [
    "نتیجه گیری اینکه روابط ضعیف والد-کودک علت اسکیزوفرنی است که صرفاً بر اساس یک تفاوت قابل توجه در یک مطالعه است، می تواند به دلایل مختلف نتیجه گیری درستی نباشد:\n",
    "\n",
    "همبستگی در مقابل علیت: یافتن تفاوت معنادار بین دو متغیر لزوماً به معنای رابطه علی نیست. همبستگی به رابطه بین دو متغیر اشاره دارد، اما جهت علیت را تعیین نمی کند. ممکن است عوامل دیگری به طور مستقل هم در روابط ضعیف والدین و هم در ایجاد اسکیزوفرنی نقش داشته باشند.\n",
    "\n",
    "علیت معکوس: این احتمال وجود دارد که وجود اسکیزوفرنی در کودک منجر به ضعف روابط والدین و فرزند شود. چالش های مرتبط با تربیت کودک مبتلا به اسکیزوفرنی، مانند مشکلات ارتباطی یا مشکلات رفتاری، ممکن است روابط والد-کودک را تحت تاثیر قرار دهد. بنابراین، روابط ضعیف والد-کودک می تواند نتیجه یا پیامد داشتن فرزند مبتلا به اسکیزوفرنی باشد نه اینکه علت آن باشد.\n",
    "\n",
    "عوامل مخدوش کننده: عوامل مخدوش کننده متعددی می تواند هم بر روابط والدین و هم در ایجاد اسکیزوفرنی تأثیر بگذارد. این عوامل ممکن است شامل استعداد ژنتیکی، تأثیرات محیطی، وضعیت اجتماعی-اقتصادی یا سایر عوامل خانوادگی باشد. عدم در نظر گرفتن این عوامل مخدوش کننده می تواند منجر به نتیجه گیری های اشتباه در مورد رابطه علی بین روابط والد-کودک و اسکیزوفرنی شود.\n",
    "\n",
    "برای ایجاد یک رابطه علّی بین روابط ضعیف والدین و فرزند و اسکیزوفرنی، تحقیقات بیشتر با استفاده از طرحهای مطالعه قوی، دادههای طولی و ارزیابی جامع عوامل متعدد ضروری است."
   ]
  },
  {
   "cell_type": "code",
   "execution_count": 49,
   "metadata": {},
   "outputs": [],
   "source": [
    "library(ggpubr)"
   ]
  },
  {
   "cell_type": "code",
   "execution_count": 50,
   "metadata": {},
   "outputs": [
    {
     "data": {
      "image/png": "[encoded data removed]",
      "text/plain": [
       "plot without title"
      ]
     },
     "metadata": {
      "image/png": {
       "height": 420,
       "width": 420
      }
     },
     "output_type": "display_data"
    }
   ],
   "source": [
    "ggboxplot(tat_dat, x=\"GROUP\", y=\"NUMBER\",add=\"point\")"
   ]
  },
  {
   "cell_type": "code",
   "execution_count": 51,
   "metadata": {},
   "outputs": [
    {
     "data": {
      "text/html": [
       "<table class=\"dataframe\">\n",
       "<caption>A data.frame: 1 × 4</caption>\n",
       "<thead>\n",
       "\t<tr><th scope=col>GROUP</th><th scope=col>NUMBER</th><th scope=col>is.outlier</th><th scope=col>is.extreme</th></tr>\n",
       "\t<tr><th scope=col>&lt;chr&gt;</th><th scope=col>&lt;int&gt;</th><th scope=col>&lt;lgl&gt;</th><th scope=col>&lt;lgl&gt;</th></tr>\n",
       "</thead>\n",
       "<tbody>\n",
       "\t<tr><td>N</td><td>8</td><td>TRUE</td><td>FALSE</td></tr>\n",
       "</tbody>\n",
       "</table>\n"
      ],
      "text/latex": [
       "A data.frame: 1 × 4\n",
       "\\begin{tabular}{llll}\n",
       " GROUP & NUMBER & is.outlier & is.extreme\\\\\n",
       " <chr> & <int> & <lgl> & <lgl>\\\\\n",
       "\\hline\n",
       "\t N & 8 & TRUE & FALSE\\\\\n",
       "\\end{tabular}\n"
      ],
      "text/markdown": [
       "\n",
       "A data.frame: 1 × 4\n",
       "\n",
       "| GROUP &lt;chr&gt; | NUMBER &lt;int&gt; | is.outlier &lt;lgl&gt; | is.extreme &lt;lgl&gt; |\n",
       "|---|---|---|---|\n",
       "| N | 8 | TRUE | FALSE |\n",
       "\n"
      ],
      "text/plain": [
       "  GROUP NUMBER is.outlier is.extreme\n",
       "1 N     8      TRUE       FALSE     "
      ]
     },
     "metadata": {},
     "output_type": "display_data"
    }
   ],
   "source": [
    "tat_dat %>% identify_outliers(NUMBER)"
   ]
  },
  {
   "cell_type": "code",
   "execution_count": 52,
   "metadata": {},
   "outputs": [
    {
     "data": {
      "image/png": "[encoded data removed]",
      "text/plain": [
       "plot without title"
      ]
     },
     "metadata": {
      "image/png": {
       "height": 420,
       "width": 420
      }
     },
     "output_type": "display_data"
    }
   ],
   "source": [
    "ggqqplot(tat_dat,\"NUMBER\")"
   ]
  },
  {
   "cell_type": "code",
   "execution_count": 53,
   "metadata": {},
   "outputs": [
    {
     "data": {
      "text/html": [
       "<table class=\"dataframe\">\n",
       "<caption>A tibble: 1 × 3</caption>\n",
       "<thead>\n",
       "\t<tr><th scope=col>variable</th><th scope=col>statistic</th><th scope=col>p</th></tr>\n",
       "\t<tr><th scope=col>&lt;chr&gt;</th><th scope=col>&lt;dbl&gt;</th><th scope=col>&lt;dbl&gt;</th></tr>\n",
       "</thead>\n",
       "<tbody>\n",
       "\t<tr><td>NUMBER</td><td>0.9120418</td><td>0.004366185</td></tr>\n",
       "</tbody>\n",
       "</table>\n"
      ],
      "text/latex": [
       "A tibble: 1 × 3\n",
       "\\begin{tabular}{lll}\n",
       " variable & statistic & p\\\\\n",
       " <chr> & <dbl> & <dbl>\\\\\n",
       "\\hline\n",
       "\t NUMBER & 0.9120418 & 0.004366185\\\\\n",
       "\\end{tabular}\n"
      ],
      "text/markdown": [
       "\n",
       "A tibble: 1 × 3\n",
       "\n",
       "| variable &lt;chr&gt; | statistic &lt;dbl&gt; | p &lt;dbl&gt; |\n",
       "|---|---|---|\n",
       "| NUMBER | 0.9120418 | 0.004366185 |\n",
       "\n"
      ],
      "text/plain": [
       "  variable statistic p          \n",
       "1 NUMBER   0.9120418 0.004366185"
      ]
     },
     "metadata": {},
     "output_type": "display_data"
    }
   ],
   "source": [
    "tat_dat %>% shapiro_test(NUMBER)"
   ]
  },
  {
   "cell_type": "markdown",
   "metadata": {},
   "source": [
    "باتوجه به کوچک بودن پی فرض نرمالیتی برقرار نیست"
   ]
  },
  {
   "cell_type": "code",
   "execution_count": 59,
   "metadata": {},
   "outputs": [
    {
     "data": {
      "image/png": "[encoded data removed]",
      "text/plain": [
       "Plot with title \"density.default(x = tat_dat$NUMBER[tat_dat$GROUP == \"N\"])\""
      ]
     },
     "metadata": {
      "image/png": {
       "height": 420,
       "width": 420
      }
     },
     "output_type": "display_data"
    }
   ],
   "source": [
    "plot(density(tat_dat$NUMBER [tat_dat$GROUP=='N']))"
   ]
  },
  {
   "cell_type": "code",
   "execution_count": 60,
   "metadata": {},
   "outputs": [
    {
     "data": {
      "image/png": "[encoded data removed]",
      "text/plain": [
       "Plot with title \"density.default(x = tat_dat$NUMBER[tat_dat$GROUP == \"S\"])\""
      ]
     },
     "metadata": {
      "image/png": {
       "height": 420,
       "width": 420
      }
     },
     "output_type": "display_data"
    }
   ],
   "source": [
    "plot(density(tat_dat$NUMBER [tat_dat$GROUP=='S']))"
   ]
  },
  {
   "cell_type": "code",
   "execution_count": 63,
   "metadata": {},
   "outputs": [],
   "source": [
    "library(lawstat)"
   ]
  },
  {
   "cell_type": "code",
   "execution_count": 65,
   "metadata": {},
   "outputs": [
    {
     "data": {
      "text/plain": [
       "\n",
       "\tm-out-of-n bootstrap symmetry test by Miao, Gel, and Gastwirth (2006)\n",
       "\n",
       "data:  tat_dat$NUMBER[tat_dat$GROUP == \"N\"]\n",
       "Test statistic = 0.16286, p-value = 0.882\n",
       "alternative hypothesis: the distribution is asymmetric.\n",
       "sample estimates:\n",
       "bootstrap optimal m \n",
       "                 20 \n"
      ]
     },
     "metadata": {},
     "output_type": "display_data"
    }
   ],
   "source": [
    "symmetry.test(tat_dat$NUMBER [tat_dat$GROUP=='N'])"
   ]
  },
  {
   "cell_type": "code",
   "execution_count": 64,
   "metadata": {},
   "outputs": [
    {
     "data": {
      "text/plain": [
       "\n",
       "\tm-out-of-n bootstrap symmetry test by Miao, Gel, and Gastwirth (2006)\n",
       "\n",
       "data:  tat_dat$NUMBER[tat_dat$GROUP == \"S\"]\n",
       "Test statistic = 0.4723, p-value = 0.706\n",
       "alternative hypothesis: the distribution is asymmetric.\n",
       "sample estimates:\n",
       "bootstrap optimal m \n",
       "                 16 \n"
      ]
     },
     "metadata": {},
     "output_type": "display_data"
    }
   ],
   "source": [
    "symmetry.test(tat_dat$NUMBER [tat_dat$GROUP=='S'])"
   ]
  },
  {
   "cell_type": "markdown",
   "metadata": {},
   "source": [
    "هر دو داده غیر متقارن هستند"
   ]
  },
  {
   "cell_type": "code",
   "execution_count": 72,
   "metadata": {},
   "outputs": [
    {
     "data": {
      "text/html": [
       "<table class=\"dataframe\">\n",
       "<caption>A rstatix_test: 1 × 7</caption>\n",
       "<thead>\n",
       "\t<tr><th></th><th scope=col>.y.</th><th scope=col>group1</th><th scope=col>group2</th><th scope=col>n1</th><th scope=col>n2</th><th scope=col>statistic</th><th scope=col>p</th></tr>\n",
       "\t<tr><th></th><th scope=col>&lt;chr&gt;</th><th scope=col>&lt;chr&gt;</th><th scope=col>&lt;chr&gt;</th><th scope=col>&lt;int&gt;</th><th scope=col>&lt;int&gt;</th><th scope=col>&lt;dbl&gt;</th><th scope=col>&lt;dbl&gt;</th></tr>\n",
       "</thead>\n",
       "<tbody>\n",
       "\t<tr><th scope=row>1</th><td>NUMBER</td><td>N</td><td>S</td><td>20</td><td>20</td><td>297</td><td>0.00782</td></tr>\n",
       "</tbody>\n",
       "</table>\n"
      ],
      "text/latex": [
       "A rstatix\\_test: 1 × 7\n",
       "\\begin{tabular}{r|lllllll}\n",
       "  & .y. & group1 & group2 & n1 & n2 & statistic & p\\\\\n",
       "  & <chr> & <chr> & <chr> & <int> & <int> & <dbl> & <dbl>\\\\\n",
       "\\hline\n",
       "\t1 & NUMBER & N & S & 20 & 20 & 297 & 0.00782\\\\\n",
       "\\end{tabular}\n"
      ],
      "text/markdown": [
       "\n",
       "A rstatix_test: 1 × 7\n",
       "\n",
       "| <!--/--> | .y. &lt;chr&gt; | group1 &lt;chr&gt; | group2 &lt;chr&gt; | n1 &lt;int&gt; | n2 &lt;int&gt; | statistic &lt;dbl&gt; | p &lt;dbl&gt; |\n",
       "|---|---|---|---|---|---|---|---|\n",
       "| 1 | NUMBER | N | S | 20 | 20 | 297 | 0.00782 |\n",
       "\n"
      ],
      "text/plain": [
       "  .y.    group1 group2 n1 n2 statistic p      \n",
       "1 NUMBER N      S      20 20 297       0.00782"
      ]
     },
     "metadata": {},
     "output_type": "display_data"
    }
   ],
   "source": [
    "tat_dat %>% wilcox_test(NUMBER ~ GROUP)"
   ]
  },
  {
   "cell_type": "markdown",
   "metadata": {},
   "source": [
    "به دلیل نرمال نبودن از تست ویلکاکسن استفاده کردیم\n",
    "مقدار پی کوچک باعث رد شدن فرض صفر می شود. در نتیجه تفاوت بین رابطه والد-کودک در کودکان عادی و اسکیزوفرنیک وجود دارد"
   ]
  },
  {
   "cell_type": "code",
   "execution_count": 109,
   "metadata": {},
   "outputs": [],
   "source": [
    "confidence_intervals <- t.test(tat_dat$NUMBER[tat_dat$GROUP=='N'], tat_dat$NUMBER[tat_dat$GROUP=='S'], conf.int = TRUE)$conf.int"
   ]
  },
  {
   "cell_type": "code",
   "execution_count": 110,
   "metadata": {},
   "outputs": [
    {
     "data": {
      "text/html": [
       "<style>\n",
       ".list-inline {list-style: none; margin:0; padding: 0}\n",
       ".list-inline>li {display: inline-block}\n",
       ".list-inline>li:not(:last-child)::after {content: \"\\00b7\"; padding: 0 .5ex}\n",
       "</style>\n",
       "<ol class=list-inline><li>0.34601374448856</li><li>2.55398625551144</li></ol>\n"
      ],
      "text/latex": [
       "\\begin{enumerate*}\n",
       "\\item 0.34601374448856\n",
       "\\item 2.55398625551144\n",
       "\\end{enumerate*}\n"
      ],
      "text/markdown": [
       "1. 0.34601374448856\n",
       "2. 2.55398625551144\n",
       "\n",
       "\n"
      ],
      "text/plain": [
       "[1] 0.3460137 2.5539863\n",
       "attr(,\"conf.level\")\n",
       "[1] 0.95"
      ]
     },
     "metadata": {},
     "output_type": "display_data"
    }
   ],
   "source": [
    "confidence_intervals"
   ]
  },
  {
   "cell_type": "code",
   "execution_count": 113,
   "metadata": {},
   "outputs": [],
   "source": [
    "mean_diff <- mean(tat_dat$NUMBER[tat_dat$GROUP=='N']) - mean(tat_dat$NUMBER[tat_dat$GROUP=='S'])\n",
    "pooled_sd <- sqrt(((length(tat_dat$NUMBER[tat_dat$GROUP=='N'])-1)*var(tat_dat$NUMBER[tat_dat$GROUP=='N']) + (length(tat_dat$NUMBER[tat_dat$GROUP=='S'])-1)*var(tat_dat$NUMBER[tat_dat$GROUP=='S']))/(length(tat_dat$NUMBER[tat_dat$GROUP=='N']) + length(tat_dat$NUMBER[tat_dat$GROUP=='S']) - 2))\n",
    "cohen_d_effect_size <- mean_diff / pooled_sd"
   ]
  },
  {
   "cell_type": "code",
   "execution_count": 114,
   "metadata": {},
   "outputs": [
    {
     "data": {
      "text/html": [
       "0.841785664057579"
      ],
      "text/latex": [
       "0.841785664057579"
      ],
      "text/markdown": [
       "0.841785664057579"
      ],
      "text/plain": [
       "[1] 0.8417857"
      ]
     },
     "metadata": {},
     "output_type": "display_data"
    }
   ],
   "source": [
    "cohen_d_effect_size"
   ]
  },
  {
   "cell_type": "markdown",
   "metadata": {},
   "source": [
    "مقداراندازه اثر که برابر با 0.841785664057579 (بزرگتر از 0.8 ) است، نشان می دهد که تفاوت استاندارد بین دو گروه، یعنی کودکان نرمال و اسکیزوفرنیک، در رابطهٔ مثبت والد-کودک بسیار قوی است.\n",
    "\n",
    "با توجه به این مقدار بزرگ، می توان نتیجه گرفت که تفاوت در رابطهٔ مثبت والد-کودک بین این دو گروه به شدت قابل توجه و قوی است. این نتیجه نشان می دهد که در گروه اسکیزوفرنیک، رابطهٔ مثبت والد-کودک به طور قابل توجهی ضعیفتر است نسبت به گروه کودکان نرمال.\n"
   ]
  },
  {
   "cell_type": "markdown",
   "metadata": {},
   "source": [
    "# Part C. \n",
    "- Brescoll and Uhlmann (2008) investigated the hypothesis that when an observer views a videotape of a male expressing anger as opposed to sadness, the male in the anger condition is accorded higher status than the male in the sadness condition. For 19 males the mean and standard deviation (in parentheses) of the anger condition were 6.47 (2.25). For the 29 men in the sad condition the mean and standard deviation were 4.05 (1.61). Is this difference significant?\n",
    "- They found the reverse effect for females. They thought that perhaps this latter result was related to the way anger is judged in females compared to males. When they compared judgments of a video of a group of 41 females who expressed anger without an attribution for the source of anger, women’s perceived status had a mean and standard deviation of 3.40 (1.44). When the women on the video gave an external attribution for their anger (an employee stole something), their perceived status had a mean and standard deviation of 5.02 (1.66) with a standard deviation of 1.66.\n",
    "  - Is this difference significant?\n",
    "  - What is the effect size?\n",
    "  - The corresponding means and standard deviations (in parentheses) for males were 5.42 (1.63) in the no-attribution condition and 4.14 (2.46) in the external attribution condition. Do we have evidence of a double standard for males and females?"
   ]
  },
  {
   "cell_type": "code",
   "execution_count": 115,
   "metadata": {},
   "outputs": [],
   "source": [
    "mean_anger <- 6.47\n",
    "sd_anger <- 2.25\n",
    "n_anger <- 19\n",
    "\n",
    "mean_sadness <- 4.05\n",
    "sd_sadness <- 1.61\n",
    "n_sadness <- 29\n"
   ]
  },
  {
   "cell_type": "code",
   "execution_count": 122,
   "metadata": {
    "scrolled": true
   },
   "outputs": [
    {
     "data": {
      "text/html": [
       "4.05689724790181"
      ],
      "text/latex": [
       "4.05689724790181"
      ],
      "text/markdown": [
       "4.05689724790181"
      ],
      "text/plain": [
       "[1] 4.056897"
      ]
     },
     "metadata": {},
     "output_type": "display_data"
    }
   ],
   "source": [
    "mean_diff <- mean_anger - mean_sadness\n",
    "\n",
    "se_diff <- sqrt((sd_anger^2 / n_anger) + (sd_sadness^2 / n_sadness))\n",
    "\n",
    "t_value <- mean_diff / se_diff\n",
    "\n",
    "t_value"
   ]
  },
  {
   "cell_type": "code",
   "execution_count": 123,
   "metadata": {},
   "outputs": [
    {
     "data": {
      "text/html": [
       "0.000327477975680503"
      ],
      "text/latex": [
       "0.000327477975680503"
      ],
      "text/markdown": [
       "0.000327477975680503"
      ],
      "text/plain": [
       "[1] 0.000327478"
      ]
     },
     "metadata": {},
     "output_type": "display_data"
    }
   ],
   "source": [
    "df <- ((sd_anger^2 / n_anger + sd_sadness^2 / n_sadness)^2) / (((sd_anger^2 / n_anger)^2 / (n_anger - 1)) + ((sd_sadness^2 / n_sadness)^2 / (n_sadness - 1)))\n",
    "\n",
    "p_value <- 2 * pt(abs(t_value), df = df, lower.tail = FALSE)\n",
    "p_value"
   ]
  },
  {
   "cell_type": "markdown",
   "metadata": {},
   "source": [
    "مقدار تی بزرگ و پی کوچک نشان از تفاوت معنا دار بین دو حالت خشم و غم در مردان دارد"
   ]
  },
  {
   "cell_type": "code",
   "execution_count": 124,
   "metadata": {},
   "outputs": [
    {
     "data": {
      "text/html": [
       "1.23699832990341"
      ],
      "text/latex": [
       "1.23699832990341"
      ],
      "text/markdown": [
       "1.23699832990341"
      ],
      "text/plain": [
       "[1] 1.236998"
      ]
     },
     "metadata": {},
     "output_type": "display_data"
    }
   ],
   "source": [
    "effect_size1 <- (mean_anger - mean_sadness) / sqrt((sd_anger^2 + sd_sadness^2) / 2)\n",
    "effect_size1\n"
   ]
  },
  {
   "cell_type": "markdown",
   "metadata": {},
   "source": [
    "مقدار بزرگ اندازه اثر بر قابل توجه بودن این تفاوت صحه میگذارد"
   ]
  },
  {
   "cell_type": "markdown",
   "metadata": {},
   "source": [
    "#### Anger without an attribution Vs Anger with an attribution (Females)"
   ]
  },
  {
   "cell_type": "markdown",
   "metadata": {},
   "source": [
    "فرض صفر : تفاوت معنا داری در میانگین حالت خشم بی دلیل و با دلیل در زنان وجود ندارد"
   ]
  },
  {
   "cell_type": "code",
   "execution_count": 125,
   "metadata": {},
   "outputs": [],
   "source": [
    "mean_no_attrib_f <- 3.40\n",
    "sd_no_attrib_f <- 1.44\n",
    "n_no_attrib_f <- 41\n",
    "\n",
    "mean_attrib_f <- 5.02\n",
    "sd_attrib_f <- 1.66\n",
    "n_attrib_f <- 41\n"
   ]
  },
  {
   "cell_type": "code",
   "execution_count": 157,
   "metadata": {},
   "outputs": [
    {
     "data": {
      "text/html": [
       "4.72029723607025"
      ],
      "text/latex": [
       "4.72029723607025"
      ],
      "text/markdown": [
       "4.72029723607025"
      ],
      "text/plain": [
       "[1] 4.720297"
      ]
     },
     "metadata": {},
     "output_type": "display_data"
    }
   ],
   "source": [
    "mean_diff_att_f <- mean_attrib_f - mean_no_attrib_f\n",
    "\n",
    "se_diff_att_f <- sqrt((sd_attrib_f^2 / n_attrib_f) + (sd_no_attrib_f^2 / n_no_attrib_f))\n",
    "\n",
    "t_value_att_f <- mean_diff_att_f / se_diff_att_f\n",
    "\n",
    "t_value_att_f"
   ]
  },
  {
   "cell_type": "code",
   "execution_count": 129,
   "metadata": {},
   "outputs": [
    {
     "data": {
      "text/html": [
       "1.01148075605593e-05"
      ],
      "text/latex": [
       "1.01148075605593e-05"
      ],
      "text/markdown": [
       "1.01148075605593e-05"
      ],
      "text/plain": [
       "[1] 1.011481e-05"
      ]
     },
     "metadata": {},
     "output_type": "display_data"
    }
   ],
   "source": [
    "df_att_f <- ((sd_no_attrib_f^2 / n_no_attrib_f + sd_attrib_f^2 / n_attrib_f)^2) / (((sd_no_attrib_f^2 /n_no_attrib_f)^2 / (n_no_attrib_f - 1)) + ((sd_attrib_f^2 / n_attrib_f)^2 / (n_attrib_f - 1)))\n",
    "\n",
    "p_value_att_f <- 2 * pt(abs(t_value_att_f), df = df_att_f, lower.tail = FALSE)\n",
    "p_value_att_f"
   ]
  },
  {
   "cell_type": "code",
   "execution_count": 132,
   "metadata": {},
   "outputs": [
    {
     "data": {
      "text/html": [
       "1.04253925461224"
      ],
      "text/latex": [
       "1.04253925461224"
      ],
      "text/markdown": [
       "1.04253925461224"
      ],
      "text/plain": [
       "[1] 1.042539"
      ]
     },
     "metadata": {},
     "output_type": "display_data"
    }
   ],
   "source": [
    "effect_size_att_f <- (mean_attrib_f - mean_no_attrib_f) / sqrt((sd_attrib_f^2 + sd_no_attrib_f^2) / 2)\n",
    "effect_size_att_f"
   ]
  },
  {
   "cell_type": "markdown",
   "metadata": {},
   "source": [
    "مقدار تی بالا ، مقدار پی بسیار کوچک در کنار اندازه اثر بزرگ به تفاوت معنا دار خشم بی دلیل و با دلیل، و رد فرض صفر صحه می گذارد."
   ]
  },
  {
   "cell_type": "markdown",
   "metadata": {},
   "source": [
    "#### Anger without an attribution Vs Anger with an attribution (Males)"
   ]
  },
  {
   "cell_type": "code",
   "execution_count": 158,
   "metadata": {},
   "outputs": [],
   "source": [
    "mean_no_attrib_m <-  5.42\n",
    "sd_no_attrib_m <- 1.63\n",
    "n_no_attrib_m <- 41\n",
    "\n",
    "mean_attrib_m <- 4.14 \n",
    "sd_attrib_m <- 2.46\n",
    "n_attrib_m <- 41\n"
   ]
  },
  {
   "cell_type": "code",
   "execution_count": 161,
   "metadata": {},
   "outputs": [
    {
     "data": {
      "text/html": [
       "-2.77734748793268"
      ],
      "text/latex": [
       "-2.77734748793268"
      ],
      "text/markdown": [
       "-2.77734748793268"
      ],
      "text/plain": [
       "[1] -2.777347"
      ]
     },
     "metadata": {},
     "output_type": "display_data"
    }
   ],
   "source": [
    "mean_diff_att_m <- mean_attrib_m - mean_no_attrib_m\n",
    "\n",
    "se_diff_att_m <- sqrt((sd_attrib_m^2 / n_attrib_m) + (sd_no_attrib_m^2 / n_no_attrib_m))\n",
    "\n",
    "t_value_att_m <- mean_diff_att_m / se_diff_att_m\n",
    "\n",
    "t_value_att_m"
   ]
  },
  {
   "cell_type": "code",
   "execution_count": 162,
   "metadata": {},
   "outputs": [
    {
     "data": {
      "text/html": [
       "0.00704070238636966"
      ],
      "text/latex": [
       "0.00704070238636966"
      ],
      "text/markdown": [
       "0.00704070238636966"
      ],
      "text/plain": [
       "[1] 0.007040702"
      ]
     },
     "metadata": {},
     "output_type": "display_data"
    }
   ],
   "source": [
    "df_att_m <- ((sd_no_attrib_m^2 / n_no_attrib_m + sd_attrib_m^2 / n_attrib_m)^2) / (((sd_no_attrib_m^2 /n_no_attrib_m)^2 / (n_no_attrib_m - 1)) + ((sd_attrib_m^2 / n_attrib_m)^2 / (n_attrib_m - 1)))\n",
    "p_value_att_m <- 2 * pt(abs(t_value_att_m), df = df_att_m, lower.tail = FALSE)\n",
    "p_value_att_m"
   ]
  },
  {
   "cell_type": "code",
   "execution_count": 165,
   "metadata": {},
   "outputs": [
    {
     "data": {
      "text/html": [
       "-0.613413443065094"
      ],
      "text/latex": [
       "-0.613413443065094"
      ],
      "text/markdown": [
       "-0.613413443065094"
      ],
      "text/plain": [
       "[1] -0.6134134"
      ]
     },
     "metadata": {},
     "output_type": "display_data"
    }
   ],
   "source": [
    "effect_size_att_m <- (mean_attrib_m - mean_no_attrib_m) / sqrt((sd_attrib_m^2 + sd_no_attrib_m^2) / 2)\n",
    "effect_size_att_m"
   ]
  },
  {
   "cell_type": "markdown",
   "metadata": {},
   "source": [
    "این تفاوت معنا دار در مردان هم مشاهده می شود. با این تفاوت که رابطه معکوس است: یعنی حالت بی دلیل بالاتر از حالت بی دلیل خشم قرار می گیرد."
   ]
  },
  {
   "cell_type": "markdown",
   "metadata": {},
   "source": [
    "# Part D. \n",
    "- Two researchers reported on an intervention program for women with abusive partners. The study involved a 10-week intervention program and a three-year follow-up, and used an experimental (intervention) and control group. At the end of the 10-week intervention period the mean quality-of-life score for the intervention group was 5.03 with a standard deviation of 1.01 and a sample size of 135. For the control group the mean was 4.61 with a standard deviation of 1.13 and a sample size of 130. Do these data indicate that the intervention was successful in terms of the quality-of-life measure?\n",
    "- Calculate a confidence interval for the difference in group means. Then calculate a d-family measure of effect size for that difference.\n",
    "- Another way to investigate the effectiveness of the intervention described above would be to note that the mean quality-of-life score before the intervention was 4.47 with a standard deviation of 1.18. The quality-of-life score was 5.03 after the intervention with a standard deviation of 1.01. The sample size was 135 at each time. What do these data tell you about the effect of the intervention? (Note: You don’t have the difference scores, but assume that the standard deviation of difference scores was 1.30.)\n",
    "- For the control condition of the experiment the beginning and 10-week means were 4.32 and 4.61 with standard deviations of 0.98 and 1.13, respectively. The sample size was 130. Using the data from this group and the intervention group, plot the change in pre- to post-test scores for the two groups and interpret what you see. (If you wish the information, the standard deviation of the difference was 1.25.)"
   ]
  },
  {
   "cell_type": "code",
   "execution_count": 171,
   "metadata": {},
   "outputs": [],
   "source": [
    "mean_intervention <- 5.03\n",
    "sd_intervention <- 1.01\n",
    "n_intervention <- 135"
   ]
  },
  {
   "cell_type": "code",
   "execution_count": 172,
   "metadata": {},
   "outputs": [],
   "source": [
    "mean_control <- 4.61\n",
    "sd_control <- 1.13\n",
    "n_control <- 130"
   ]
  },
  {
   "cell_type": "code",
   "execution_count": 178,
   "metadata": {},
   "outputs": [
    {
     "data": {
      "text/html": [
       "3.1859712096036"
      ],
      "text/latex": [
       "3.1859712096036"
      ],
      "text/markdown": [
       "3.1859712096036"
      ],
      "text/plain": [
       "[1] 3.185971"
      ]
     },
     "metadata": {},
     "output_type": "display_data"
    }
   ],
   "source": [
    "mean_diff <- mean_intervention - mean_control\n",
    "\n",
    "se_diff <- sqrt((sd_intervention^2 / n_intervention) + (sd_control^2 / n_control))\n",
    "\n",
    "t_value <- mean_diff / se_diff\n",
    "\n",
    "t_value"
   ]
  },
  {
   "cell_type": "code",
   "execution_count": 179,
   "metadata": {},
   "outputs": [
    {
     "data": {
      "text/html": [
       "0.00162076375908631"
      ],
      "text/latex": [
       "0.00162076375908631"
      ],
      "text/markdown": [
       "0.00162076375908631"
      ],
      "text/plain": [
       "[1] 0.001620764"
      ]
     },
     "metadata": {},
     "output_type": "display_data"
    }
   ],
   "source": [
    "df<- ((sd_intervention^2 / n_intervention + sd_control^2 / n_control)^2) / (((sd_intervention^2 /n_intervention)^2 / (n_intervention - 1)) + ((sd_control^2 / n_control)^2 / (n_control - 1)))\n",
    "p_value <- 2 * pt(abs(t_value), df = df, lower.tail = FALSE)\n",
    "p_value"
   ]
  },
  {
   "cell_type": "markdown",
   "metadata": {},
   "source": [
    "مقدار تی بزرگ و پی کوچک نشان از رد فرض صفر دارد که یعنی تفاوت معنا داری بین دوگروه کنترل و مورد مداخله وجود دارد"
   ]
  },
  {
   "cell_type": "code",
   "execution_count": 175,
   "metadata": {},
   "outputs": [
    {
     "name": "stdout",
     "output_type": "stream",
     "text": [
      "Confidence Interval for the Difference in Group Means:\n",
      "[1] 0.6808248 0.1591752\n"
     ]
    }
   ],
   "source": [
    "ci_diff <- mean_diff + qt(0.025, df = min(n_intervention - 1, n_control - 1)) * se_diff * c(-1, 1)\n",
    "\n",
    "cat(\"Confidence Interval for the Difference in Group Means:\\n\")\n",
    "print(ci_diff)"
   ]
  },
  {
   "cell_type": "markdown",
   "metadata": {},
   "source": [
    "از آنجایی که فاصله اطمینان صفر را شامل نمی شود، نشان می دهد که بین گروه مداخله و کنترل از نظر معیار کیفیت زندگی تفاوت آماری معنی داری وجود دارد. بنابراین، بر اساس داده ها، مداخله حاکی از موفقیت در بهبود کیفیت زندگی نسبت به گروه کنترل است."
   ]
  },
  {
   "cell_type": "code",
   "execution_count": 176,
   "metadata": {},
   "outputs": [
    {
     "name": "stdout",
     "output_type": "stream",
     "text": [
      "Effect size (Cohen's d):\n",
      "[1] 0.3923248\n"
     ]
    }
   ],
   "source": [
    "pooled_sd <- sqrt(((n_intervention - 1) * sd_intervention^2 + (n_control - 1) * sd_control^2) / (n_intervention + n_control - 2))\n",
    "\n",
    "effect_size <- mean_diff / pooled_sd\n",
    "\n",
    "cat(\"Effect size (Cohen's d):\\n\")\n",
    "print(effect_size)\n"
   ]
  },
  {
   "cell_type": "markdown",
   "metadata": {},
   "source": [
    "مقدار اندازه اثر 0.3923248 به ما نشان می دهد که تفاوت بین دوگروه کنترل و مداخله با یک اندازهٔ اثر کوچک تا متوسط همراه است. این مقدار نشان می دهد که تأثیر این تفاوت نسبتاً کوچک است. ."
   ]
  },
  {
   "cell_type": "markdown",
   "metadata": {},
   "source": [
    "#### Pre|Post Intervention"
   ]
  },
  {
   "cell_type": "code",
   "execution_count": 148,
   "metadata": {},
   "outputs": [
    {
     "name": "stdout",
     "output_type": "stream",
     "text": [
      "Effect size for the difference in pre- and post-intervention scores (Cohen's d):\n",
      "[1] 0.9192388\n"
     ]
    }
   ],
   "source": [
    "mean_pre_intervention <- 4.47\n",
    "sd_pre_intervention <- 1.18\n",
    "n_pre_intervention <- 135\n",
    "\n",
    "mean_post_intervention <- 5.03\n",
    "sd_post_intervention <- 1.01\n",
    "n_post_intervention <- 135\n",
    "\n",
    "sd_diff <- 1.30"
   ]
  },
  {
   "cell_type": "code",
   "execution_count": 180,
   "metadata": {},
   "outputs": [
    {
     "data": {
      "text/html": [
       "-4.18910504001385"
      ],
      "text/latex": [
       "-4.18910504001385"
      ],
      "text/markdown": [
       "-4.18910504001385"
      ],
      "text/plain": [
       "[1] -4.189105"
      ]
     },
     "metadata": {},
     "output_type": "display_data"
    }
   ],
   "source": [
    "mean_diff_pre_post <- mean_pre_intervention - mean_post_intervention\n",
    "\n",
    "se_diff_pre_post <- sqrt((sd_pre_intervention^2 / n_pre_intervention) + (sd_post_intervention^2 / n_post_intervention))\n",
    "\n",
    "t_value_pre_post <- mean_diff_pre_post / se_diff_pre_post\n",
    "\n",
    "t_value_pre_post"
   ]
  },
  {
   "cell_type": "code",
   "execution_count": 183,
   "metadata": {},
   "outputs": [
    {
     "data": {
      "text/html": [
       "3.83131766242809e-05"
      ],
      "text/latex": [
       "3.83131766242809e-05"
      ],
      "text/markdown": [
       "3.83131766242809e-05"
      ],
      "text/plain": [
       "[1] 3.831318e-05"
      ]
     },
     "metadata": {},
     "output_type": "display_data"
    }
   ],
   "source": [
    "df_pre_post<- ((sd_pre_intervention^2 / n_pre_intervention + sd_post_intervention^2 / n_post_intervention)^2) / (((sd_pre_intervention^2 /n_pre_intervention)^2 / (n_pre_intervention - 1)) + ((sd_post_intervention^2 / n_post_intervention)^2 / (n_post_intervention - 1)))\n",
    "p_value_pre_post <- 2 * pt(abs(t_value_pre_post), df = df_pre_post, lower.tail = FALSE)\n",
    "p_value_pre_post"
   ]
  },
  {
   "cell_type": "code",
   "execution_count": 193,
   "metadata": {},
   "outputs": [
    {
     "name": "stdout",
     "output_type": "stream",
     "text": [
      "Effect size (Cohen's d):\n",
      "[1] -0.5098816\n"
     ]
    }
   ],
   "source": [
    "pooled_sd_pre_post <- sqrt(((n_pre_intervention - 1) * sd_pre_intervention^2 + (n_post_intervention - 1) * sd_post_intervention^2) / (n_pre_intervention + n_post_intervention - 2))\n",
    "\n",
    "effect_size_pre_post <- mean_diff_pre_post / pooled_sd_pre_post\n",
    "\n",
    "cat(\"Effect size (Cohen's d):\\n\")\n",
    "print(effect_size_pre_post)\n"
   ]
  },
  {
   "cell_type": "markdown",
   "metadata": {},
   "source": [
    "مقدار تی بزرگ و پی کوچک در کنار اندازه اثر متوسط به تفاوت مداخله در حالت پیش و پس و رد  فرض صفر منجر می شود"
   ]
  },
  {
   "cell_type": "code",
   "execution_count": 196,
   "metadata": {},
   "outputs": [],
   "source": [
    "mean_control_pre <- 4.32\n",
    "mean_control_post <- 4.61\n",
    "sd_control_diff <- 1.25\n",
    "n_control_diff <- 130"
   ]
  },
  {
   "cell_type": "code",
   "execution_count": 194,
   "metadata": {},
   "outputs": [],
   "source": [
    "intervention_diff <- mean_post_intervention - mean_pre_intervention\n",
    "control_diff <- mean_control_post - mean_control_pre"
   ]
  },
  {
   "cell_type": "code",
   "execution_count": 218,
   "metadata": {},
   "outputs": [
    {
     "data": {
      "text/html": [
       "<table class=\"dataframe\">\n",
       "<caption>A data.frame: 4 × 3</caption>\n",
       "<thead>\n",
       "\t<tr><th scope=col>Group</th><th scope=col>Score</th><th scope=col>Time</th></tr>\n",
       "\t<tr><th scope=col>&lt;chr&gt;</th><th scope=col>&lt;dbl&gt;</th><th scope=col>&lt;chr&gt;</th></tr>\n",
       "</thead>\n",
       "<tbody>\n",
       "\t<tr><td>Intervention</td><td>4.47</td><td>Pre </td></tr>\n",
       "\t<tr><td>Intervention</td><td>5.03</td><td>Post</td></tr>\n",
       "\t<tr><td>Control     </td><td>4.32</td><td>Pre </td></tr>\n",
       "\t<tr><td>Control     </td><td>4.61</td><td>Post</td></tr>\n",
       "</tbody>\n",
       "</table>\n"
      ],
      "text/latex": [
       "A data.frame: 4 × 3\n",
       "\\begin{tabular}{lll}\n",
       " Group & Score & Time\\\\\n",
       " <chr> & <dbl> & <chr>\\\\\n",
       "\\hline\n",
       "\t Intervention & 4.47 & Pre \\\\\n",
       "\t Intervention & 5.03 & Post\\\\\n",
       "\t Control      & 4.32 & Pre \\\\\n",
       "\t Control      & 4.61 & Post\\\\\n",
       "\\end{tabular}\n"
      ],
      "text/markdown": [
       "\n",
       "A data.frame: 4 × 3\n",
       "\n",
       "| Group &lt;chr&gt; | Score &lt;dbl&gt; | Time &lt;chr&gt; |\n",
       "|---|---|---|\n",
       "| Intervention | 4.47 | Pre  |\n",
       "| Intervention | 5.03 | Post |\n",
       "| Control      | 4.32 | Pre  |\n",
       "| Control      | 4.61 | Post |\n",
       "\n"
      ],
      "text/plain": [
       "  Group        Score Time\n",
       "1 Intervention 4.47  Pre \n",
       "2 Intervention 5.03  Post\n",
       "3 Control      4.32  Pre \n",
       "4 Control      4.61  Post"
      ]
     },
     "metadata": {},
     "output_type": "display_data"
    }
   ],
   "source": [
    "diff_data <- data.frame(\n",
    "  Group = c(rep(\"Intervention\", 2), rep(\"Control\", 2)),\n",
    "  Score = c(mean_pre_intervention, mean_post_intervention, mean_control_pre, mean_control_post),\n",
    "  Time = rep(c(\"Pre\", \"Post\"), each = 1)\n",
    ")\n",
    "diff_data"
   ]
  },
  {
   "cell_type": "code",
   "execution_count": 226,
   "metadata": {},
   "outputs": [],
   "source": [
    "# Control group data\n",
    "mean_control_pre <- 4.32\n",
    "mean_control_post <- 4.61\n",
    "n_control_diff <- 130\n",
    "\n",
    "# Intervention group data\n",
    "mean_intervention_pre <- 4.47\n",
    "mean_intervention_post <- 5.03\n",
    "n_intervention_diff <- 135"
   ]
  },
  {
   "cell_type": "code",
   "execution_count": 227,
   "metadata": {},
   "outputs": [],
   "source": [
    "# Calculate the change in scores for control and intervention groups\n",
    "diff_control <- mean_control_post - mean_control_pre\n",
    "diff_intervention <- mean_intervention_post - mean_intervention_pre\n",
    "\n",
    "# Standard deviation of the difference\n",
    "sd_diff <- 1.25"
   ]
  },
  {
   "cell_type": "code",
   "execution_count": 228,
   "metadata": {},
   "outputs": [
    {
     "data": {
      "text/html": [
       "<table class=\"dataframe\">\n",
       "<caption>A data.frame: 2 × 2</caption>\n",
       "<thead>\n",
       "\t<tr><th scope=col>Group</th><th scope=col>Change</th></tr>\n",
       "\t<tr><th scope=col>&lt;chr&gt;</th><th scope=col>&lt;dbl&gt;</th></tr>\n",
       "</thead>\n",
       "<tbody>\n",
       "\t<tr><td>Control     </td><td>0.29</td></tr>\n",
       "\t<tr><td>Intervention</td><td>0.56</td></tr>\n",
       "</tbody>\n",
       "</table>\n"
      ],
      "text/latex": [
       "A data.frame: 2 × 2\n",
       "\\begin{tabular}{ll}\n",
       " Group & Change\\\\\n",
       " <chr> & <dbl>\\\\\n",
       "\\hline\n",
       "\t Control      & 0.29\\\\\n",
       "\t Intervention & 0.56\\\\\n",
       "\\end{tabular}\n"
      ],
      "text/markdown": [
       "\n",
       "A data.frame: 2 × 2\n",
       "\n",
       "| Group &lt;chr&gt; | Change &lt;dbl&gt; |\n",
       "|---|---|\n",
       "| Control      | 0.29 |\n",
       "| Intervention | 0.56 |\n",
       "\n"
      ],
      "text/plain": [
       "  Group        Change\n",
       "1 Control      0.29  \n",
       "2 Intervention 0.56  "
      ]
     },
     "metadata": {},
     "output_type": "display_data"
    }
   ],
   "source": [
    "\n",
    "# Create a data frame\n",
    "diff_data <- data.frame(\n",
    "  Group = c(\"Control\", \"Intervention\"),\n",
    "  Change = c(diff_control, diff_intervention)\n",
    ")\n",
    "diff_data"
   ]
  },
  {
   "cell_type": "code",
   "execution_count": 230,
   "metadata": {},
   "outputs": [
    {
     "data": {
      "image/png": "[encoded data removed]",
      "text/plain": [
       "plot without title"
      ]
     },
     "metadata": {
      "image/png": {
       "height": 420,
       "width": 420
      }
     },
     "output_type": "display_data"
    }
   ],
   "source": [
    "# Plot the data\n",
    "ggplot(diff_data, aes(x = Group, y = Change, fill = Group)) +\n",
    "  geom_bar(stat = \"identity\", width = 0.5) +\n",
    "  geom_errorbar(aes(ymin = Change - sd_diff, ymax = Change + sd_diff), width = 0.2, color = \"black\") +\n",
    "  labs(x = \"Group\", y = \"Change in Score\", fill = \"Group\") +\n",
    "  theme_minimal()\n"
   ]
  },
  {
   "cell_type": "markdown",
   "metadata": {},
   "source": [
    "همانطور که مشخص است دامنه تغییرات در حالت مداخله بیشتر از کنترل است. هم چنین میانگین مداخله بیشتر از کنترل است. این امر نشان دهنده تاثیر مثبت مداخله بر امتیازات نهایی است"
   ]
  }
 ],
 "metadata": {
  "kernelspec": {
   "display_name": "R",
   "language": "R",
   "name": "ir"
  },
  "language_info": {
   "codemirror_mode": "r",
   "file_extension": ".r",
   "mimetype": "text/x-r-source",
   "name": "R",
   "pygments_lexer": "r",
   "version": "4.1.3"
  }
 },
 "nbformat": 4,
 "nbformat_minor": 2
}
