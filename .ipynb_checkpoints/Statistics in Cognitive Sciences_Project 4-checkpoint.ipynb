{
 "cells": [
  {
   "cell_type": "markdown",
   "metadata": {},
   "source": [
    "A researcher ran a study in which participants were required to recall a list of words. The conditions varied in terms of whether subjects simply counted the number of letters in a word, thought of a rhyming word, thought of an appropriate adjective, created images of the word, or was told to study the words for later recall. The dependent variable was the number of words recalled on a test trial. These data are shown below.\n",
    "\n",
    "<img src=\"files/p6.png\" width=\"600\"/>\n",
    "\n",
    "The data are found in https://github.com/amanirad/Statistics-in-Cognitive-Sciences.\n",
    "\n",
    "- Run an analysis of variance on these data.\n",
    "\n",
    "- Another aspect of the study is compared Younger and Older subjects on their ability to recall material in the face of instructions telling them that they would be asked to memorize the material for later recall—the Intentional group. (Presumably this task required a high level of processing.) The data follow, where the dependent variable is the number of items recalled. The data are found in https://github.com/amanirad/Statistics-in-Cognitive-Sciences.\n",
    "\n",
    "<img src=\"files/p7.png\" width=\"600\"/>\n",
    "\n",
    "    1. Run the analysis of variance comparing the means of these two groups.\n",
    "    2. Run an independent group’s t test on the data and compare the results to those you obtained in part (1).\n",
    "\n",
    "- Another way of looking at the data is to compare four groups of subjects. One group consisted of Younger subjects who were presented the words to be recalled in a condition that elicited a Low level of processing. A second group involved Younger subjects who were given a task requiring the Highest level of processing. The two other groups were Older subjects who were given tasks requiring either Low or High levels of processing. The data are found in https://github.com/amanirad/Statistics-in-Cognitive-Sciences.\n",
    "\n",
    "<img src=\"files/p8.png\" width=\"600\"/>\n",
    "\n",
    "    1. Run an analysis of variance on these data.\n",
    "    2. Now run a one-way analysis of variance on treatments 1 and 3 combined (n = 20) versus treatments 2 and 4 combined. What question are you answering?\n",
    "    3. Why might your answer to part (2) be difficult to interpret?\n",
    "    4. Now run an analysis of variance on treatments 1 and 2 combined compared with treatments 3 and 4 combined. What hypothesis are we testing?\n",
    "- Suppose that we collected additional data and had two more subjects in the Younger group, with scores of 13 and 15.\n",
    "     1. Rerun the analysis of variance. \n",
    "     2. Run an independent groups t test without pooling the variances.\n",
    "     3. Run an independent groups t test after pooling the variances.\n",
    "     "
   ]
  },
  {
   "cell_type": "markdown",
   "metadata": {},
   "source": [
    "## 4-A"
   ]
  },
  {
   "cell_type": "code",
   "execution_count": 4,
   "metadata": {},
   "outputs": [
    {
     "data": {
      "text/html": [
       "<table class=\"dataframe\">\n",
       "<caption>A data.frame: 50 × 2</caption>\n",
       "<thead>\n",
       "\t<tr><th scope=col>GROUP</th><th scope=col>RECALL</th></tr>\n",
       "\t<tr><th scope=col>&lt;int&gt;</th><th scope=col>&lt;int&gt;</th></tr>\n",
       "</thead>\n",
       "<tbody>\n",
       "\t<tr><td>1</td><td> 9</td></tr>\n",
       "\t<tr><td>1</td><td> 8</td></tr>\n",
       "\t<tr><td>1</td><td> 6</td></tr>\n",
       "\t<tr><td>1</td><td> 8</td></tr>\n",
       "\t<tr><td>1</td><td>10</td></tr>\n",
       "\t<tr><td>1</td><td> 4</td></tr>\n",
       "\t<tr><td>1</td><td> 6</td></tr>\n",
       "\t<tr><td>1</td><td> 5</td></tr>\n",
       "\t<tr><td>1</td><td> 7</td></tr>\n",
       "\t<tr><td>1</td><td> 7</td></tr>\n",
       "\t<tr><td>2</td><td> 7</td></tr>\n",
       "\t<tr><td>2</td><td> 9</td></tr>\n",
       "\t<tr><td>2</td><td> 6</td></tr>\n",
       "\t<tr><td>2</td><td> 6</td></tr>\n",
       "\t<tr><td>2</td><td> 6</td></tr>\n",
       "\t<tr><td>2</td><td>11</td></tr>\n",
       "\t<tr><td>2</td><td> 6</td></tr>\n",
       "\t<tr><td>2</td><td> 3</td></tr>\n",
       "\t<tr><td>2</td><td> 8</td></tr>\n",
       "\t<tr><td>2</td><td> 7</td></tr>\n",
       "\t<tr><td>3</td><td>11</td></tr>\n",
       "\t<tr><td>3</td><td>13</td></tr>\n",
       "\t<tr><td>3</td><td> 8</td></tr>\n",
       "\t<tr><td>3</td><td> 6</td></tr>\n",
       "\t<tr><td>3</td><td>14</td></tr>\n",
       "\t<tr><td>3</td><td>11</td></tr>\n",
       "\t<tr><td>3</td><td>13</td></tr>\n",
       "\t<tr><td>3</td><td>13</td></tr>\n",
       "\t<tr><td>3</td><td>10</td></tr>\n",
       "\t<tr><td>3</td><td>11</td></tr>\n",
       "\t<tr><td>4</td><td>12</td></tr>\n",
       "\t<tr><td>4</td><td>11</td></tr>\n",
       "\t<tr><td>4</td><td>16</td></tr>\n",
       "\t<tr><td>4</td><td>11</td></tr>\n",
       "\t<tr><td>4</td><td> 9</td></tr>\n",
       "\t<tr><td>4</td><td>23</td></tr>\n",
       "\t<tr><td>4</td><td>12</td></tr>\n",
       "\t<tr><td>4</td><td>10</td></tr>\n",
       "\t<tr><td>4</td><td>19</td></tr>\n",
       "\t<tr><td>4</td><td>11</td></tr>\n",
       "\t<tr><td>5</td><td>10</td></tr>\n",
       "\t<tr><td>5</td><td>19</td></tr>\n",
       "\t<tr><td>5</td><td>14</td></tr>\n",
       "\t<tr><td>5</td><td> 5</td></tr>\n",
       "\t<tr><td>5</td><td>10</td></tr>\n",
       "\t<tr><td>5</td><td>11</td></tr>\n",
       "\t<tr><td>5</td><td>14</td></tr>\n",
       "\t<tr><td>5</td><td>15</td></tr>\n",
       "\t<tr><td>5</td><td>11</td></tr>\n",
       "\t<tr><td>5</td><td>11</td></tr>\n",
       "</tbody>\n",
       "</table>\n"
      ],
      "text/latex": [
       "A data.frame: 50 × 2\n",
       "\\begin{tabular}{ll}\n",
       " GROUP & RECALL\\\\\n",
       " <int> & <int>\\\\\n",
       "\\hline\n",
       "\t 1 &  9\\\\\n",
       "\t 1 &  8\\\\\n",
       "\t 1 &  6\\\\\n",
       "\t 1 &  8\\\\\n",
       "\t 1 & 10\\\\\n",
       "\t 1 &  4\\\\\n",
       "\t 1 &  6\\\\\n",
       "\t 1 &  5\\\\\n",
       "\t 1 &  7\\\\\n",
       "\t 1 &  7\\\\\n",
       "\t 2 &  7\\\\\n",
       "\t 2 &  9\\\\\n",
       "\t 2 &  6\\\\\n",
       "\t 2 &  6\\\\\n",
       "\t 2 &  6\\\\\n",
       "\t 2 & 11\\\\\n",
       "\t 2 &  6\\\\\n",
       "\t 2 &  3\\\\\n",
       "\t 2 &  8\\\\\n",
       "\t 2 &  7\\\\\n",
       "\t 3 & 11\\\\\n",
       "\t 3 & 13\\\\\n",
       "\t 3 &  8\\\\\n",
       "\t 3 &  6\\\\\n",
       "\t 3 & 14\\\\\n",
       "\t 3 & 11\\\\\n",
       "\t 3 & 13\\\\\n",
       "\t 3 & 13\\\\\n",
       "\t 3 & 10\\\\\n",
       "\t 3 & 11\\\\\n",
       "\t 4 & 12\\\\\n",
       "\t 4 & 11\\\\\n",
       "\t 4 & 16\\\\\n",
       "\t 4 & 11\\\\\n",
       "\t 4 &  9\\\\\n",
       "\t 4 & 23\\\\\n",
       "\t 4 & 12\\\\\n",
       "\t 4 & 10\\\\\n",
       "\t 4 & 19\\\\\n",
       "\t 4 & 11\\\\\n",
       "\t 5 & 10\\\\\n",
       "\t 5 & 19\\\\\n",
       "\t 5 & 14\\\\\n",
       "\t 5 &  5\\\\\n",
       "\t 5 & 10\\\\\n",
       "\t 5 & 11\\\\\n",
       "\t 5 & 14\\\\\n",
       "\t 5 & 15\\\\\n",
       "\t 5 & 11\\\\\n",
       "\t 5 & 11\\\\\n",
       "\\end{tabular}\n"
      ],
      "text/markdown": [
       "\n",
       "A data.frame: 50 × 2\n",
       "\n",
       "| GROUP &lt;int&gt; | RECALL &lt;int&gt; |\n",
       "|---|---|\n",
       "| 1 |  9 |\n",
       "| 1 |  8 |\n",
       "| 1 |  6 |\n",
       "| 1 |  8 |\n",
       "| 1 | 10 |\n",
       "| 1 |  4 |\n",
       "| 1 |  6 |\n",
       "| 1 |  5 |\n",
       "| 1 |  7 |\n",
       "| 1 |  7 |\n",
       "| 2 |  7 |\n",
       "| 2 |  9 |\n",
       "| 2 |  6 |\n",
       "| 2 |  6 |\n",
       "| 2 |  6 |\n",
       "| 2 | 11 |\n",
       "| 2 |  6 |\n",
       "| 2 |  3 |\n",
       "| 2 |  8 |\n",
       "| 2 |  7 |\n",
       "| 3 | 11 |\n",
       "| 3 | 13 |\n",
       "| 3 |  8 |\n",
       "| 3 |  6 |\n",
       "| 3 | 14 |\n",
       "| 3 | 11 |\n",
       "| 3 | 13 |\n",
       "| 3 | 13 |\n",
       "| 3 | 10 |\n",
       "| 3 | 11 |\n",
       "| 4 | 12 |\n",
       "| 4 | 11 |\n",
       "| 4 | 16 |\n",
       "| 4 | 11 |\n",
       "| 4 |  9 |\n",
       "| 4 | 23 |\n",
       "| 4 | 12 |\n",
       "| 4 | 10 |\n",
       "| 4 | 19 |\n",
       "| 4 | 11 |\n",
       "| 5 | 10 |\n",
       "| 5 | 19 |\n",
       "| 5 | 14 |\n",
       "| 5 |  5 |\n",
       "| 5 | 10 |\n",
       "| 5 | 11 |\n",
       "| 5 | 14 |\n",
       "| 5 | 15 |\n",
       "| 5 | 11 |\n",
       "| 5 | 11 |\n",
       "\n"
      ],
      "text/plain": [
       "   GROUP RECALL\n",
       "1  1      9    \n",
       "2  1      8    \n",
       "3  1      6    \n",
       "4  1      8    \n",
       "5  1     10    \n",
       "6  1      4    \n",
       "7  1      6    \n",
       "8  1      5    \n",
       "9  1      7    \n",
       "10 1      7    \n",
       "11 2      7    \n",
       "12 2      9    \n",
       "13 2      6    \n",
       "14 2      6    \n",
       "15 2      6    \n",
       "16 2     11    \n",
       "17 2      6    \n",
       "18 2      3    \n",
       "19 2      8    \n",
       "20 2      7    \n",
       "21 3     11    \n",
       "22 3     13    \n",
       "23 3      8    \n",
       "24 3      6    \n",
       "25 3     14    \n",
       "26 3     11    \n",
       "27 3     13    \n",
       "28 3     13    \n",
       "29 3     10    \n",
       "30 3     11    \n",
       "31 4     12    \n",
       "32 4     11    \n",
       "33 4     16    \n",
       "34 4     11    \n",
       "35 4      9    \n",
       "36 4     23    \n",
       "37 4     12    \n",
       "38 4     10    \n",
       "39 4     19    \n",
       "40 4     11    \n",
       "41 5     10    \n",
       "42 5     19    \n",
       "43 5     14    \n",
       "44 5      5    \n",
       "45 5     10    \n",
       "46 5     11    \n",
       "47 5     14    \n",
       "48 5     15    \n",
       "49 5     11    \n",
       "50 5     11    "
      ]
     },
     "metadata": {},
     "output_type": "display_data"
    }
   ],
   "source": [
    "#Load The data\n",
    "data = read.table('project_4_A.dat', header = TRUE)\n",
    "data"
   ]
  },
  {
   "cell_type": "code",
   "execution_count": 6,
   "metadata": {},
   "outputs": [
    {
     "data": {
      "text/html": [
       "<table class=\"dataframe\">\n",
       "<caption>A data.frame: 50 × 2</caption>\n",
       "<thead>\n",
       "\t<tr><th scope=col>GROUP</th><th scope=col>RECALL</th></tr>\n",
       "\t<tr><th scope=col>&lt;chr&gt;</th><th scope=col>&lt;int&gt;</th></tr>\n",
       "</thead>\n",
       "<tbody>\n",
       "\t<tr><td>Counting   </td><td> 9</td></tr>\n",
       "\t<tr><td>Counting   </td><td> 8</td></tr>\n",
       "\t<tr><td>Counting   </td><td> 6</td></tr>\n",
       "\t<tr><td>Counting   </td><td> 8</td></tr>\n",
       "\t<tr><td>Counting   </td><td>10</td></tr>\n",
       "\t<tr><td>Counting   </td><td> 4</td></tr>\n",
       "\t<tr><td>Counting   </td><td> 6</td></tr>\n",
       "\t<tr><td>Counting   </td><td> 5</td></tr>\n",
       "\t<tr><td>Counting   </td><td> 7</td></tr>\n",
       "\t<tr><td>Counting   </td><td> 7</td></tr>\n",
       "\t<tr><td>Rhyming    </td><td> 7</td></tr>\n",
       "\t<tr><td>Rhyming    </td><td> 9</td></tr>\n",
       "\t<tr><td>Rhyming    </td><td> 6</td></tr>\n",
       "\t<tr><td>Rhyming    </td><td> 6</td></tr>\n",
       "\t<tr><td>Rhyming    </td><td> 6</td></tr>\n",
       "\t<tr><td>Rhyming    </td><td>11</td></tr>\n",
       "\t<tr><td>Rhyming    </td><td> 6</td></tr>\n",
       "\t<tr><td>Rhyming    </td><td> 3</td></tr>\n",
       "\t<tr><td>Rhyming    </td><td> 8</td></tr>\n",
       "\t<tr><td>Rhyming    </td><td> 7</td></tr>\n",
       "\t<tr><td>Adjective  </td><td>11</td></tr>\n",
       "\t<tr><td>Adjective  </td><td>13</td></tr>\n",
       "\t<tr><td>Adjective  </td><td> 8</td></tr>\n",
       "\t<tr><td>Adjective  </td><td> 6</td></tr>\n",
       "\t<tr><td>Adjective  </td><td>14</td></tr>\n",
       "\t<tr><td>Adjective  </td><td>11</td></tr>\n",
       "\t<tr><td>Adjective  </td><td>13</td></tr>\n",
       "\t<tr><td>Adjective  </td><td>13</td></tr>\n",
       "\t<tr><td>Adjective  </td><td>10</td></tr>\n",
       "\t<tr><td>Adjective  </td><td>11</td></tr>\n",
       "\t<tr><td>Imagery    </td><td>12</td></tr>\n",
       "\t<tr><td>Imagery    </td><td>11</td></tr>\n",
       "\t<tr><td>Imagery    </td><td>16</td></tr>\n",
       "\t<tr><td>Imagery    </td><td>11</td></tr>\n",
       "\t<tr><td>Imagery    </td><td> 9</td></tr>\n",
       "\t<tr><td>Imagery    </td><td>23</td></tr>\n",
       "\t<tr><td>Imagery    </td><td>12</td></tr>\n",
       "\t<tr><td>Imagery    </td><td>10</td></tr>\n",
       "\t<tr><td>Imagery    </td><td>19</td></tr>\n",
       "\t<tr><td>Imagery    </td><td>11</td></tr>\n",
       "\t<tr><td>Intentional</td><td>10</td></tr>\n",
       "\t<tr><td>Intentional</td><td>19</td></tr>\n",
       "\t<tr><td>Intentional</td><td>14</td></tr>\n",
       "\t<tr><td>Intentional</td><td> 5</td></tr>\n",
       "\t<tr><td>Intentional</td><td>10</td></tr>\n",
       "\t<tr><td>Intentional</td><td>11</td></tr>\n",
       "\t<tr><td>Intentional</td><td>14</td></tr>\n",
       "\t<tr><td>Intentional</td><td>15</td></tr>\n",
       "\t<tr><td>Intentional</td><td>11</td></tr>\n",
       "\t<tr><td>Intentional</td><td>11</td></tr>\n",
       "</tbody>\n",
       "</table>\n"
      ],
      "text/latex": [
       "A data.frame: 50 × 2\n",
       "\\begin{tabular}{ll}\n",
       " GROUP & RECALL\\\\\n",
       " <chr> & <int>\\\\\n",
       "\\hline\n",
       "\t Counting    &  9\\\\\n",
       "\t Counting    &  8\\\\\n",
       "\t Counting    &  6\\\\\n",
       "\t Counting    &  8\\\\\n",
       "\t Counting    & 10\\\\\n",
       "\t Counting    &  4\\\\\n",
       "\t Counting    &  6\\\\\n",
       "\t Counting    &  5\\\\\n",
       "\t Counting    &  7\\\\\n",
       "\t Counting    &  7\\\\\n",
       "\t Rhyming     &  7\\\\\n",
       "\t Rhyming     &  9\\\\\n",
       "\t Rhyming     &  6\\\\\n",
       "\t Rhyming     &  6\\\\\n",
       "\t Rhyming     &  6\\\\\n",
       "\t Rhyming     & 11\\\\\n",
       "\t Rhyming     &  6\\\\\n",
       "\t Rhyming     &  3\\\\\n",
       "\t Rhyming     &  8\\\\\n",
       "\t Rhyming     &  7\\\\\n",
       "\t Adjective   & 11\\\\\n",
       "\t Adjective   & 13\\\\\n",
       "\t Adjective   &  8\\\\\n",
       "\t Adjective   &  6\\\\\n",
       "\t Adjective   & 14\\\\\n",
       "\t Adjective   & 11\\\\\n",
       "\t Adjective   & 13\\\\\n",
       "\t Adjective   & 13\\\\\n",
       "\t Adjective   & 10\\\\\n",
       "\t Adjective   & 11\\\\\n",
       "\t Imagery     & 12\\\\\n",
       "\t Imagery     & 11\\\\\n",
       "\t Imagery     & 16\\\\\n",
       "\t Imagery     & 11\\\\\n",
       "\t Imagery     &  9\\\\\n",
       "\t Imagery     & 23\\\\\n",
       "\t Imagery     & 12\\\\\n",
       "\t Imagery     & 10\\\\\n",
       "\t Imagery     & 19\\\\\n",
       "\t Imagery     & 11\\\\\n",
       "\t Intentional & 10\\\\\n",
       "\t Intentional & 19\\\\\n",
       "\t Intentional & 14\\\\\n",
       "\t Intentional &  5\\\\\n",
       "\t Intentional & 10\\\\\n",
       "\t Intentional & 11\\\\\n",
       "\t Intentional & 14\\\\\n",
       "\t Intentional & 15\\\\\n",
       "\t Intentional & 11\\\\\n",
       "\t Intentional & 11\\\\\n",
       "\\end{tabular}\n"
      ],
      "text/markdown": [
       "\n",
       "A data.frame: 50 × 2\n",
       "\n",
       "| GROUP &lt;chr&gt; | RECALL &lt;int&gt; |\n",
       "|---|---|\n",
       "| Counting    |  9 |\n",
       "| Counting    |  8 |\n",
       "| Counting    |  6 |\n",
       "| Counting    |  8 |\n",
       "| Counting    | 10 |\n",
       "| Counting    |  4 |\n",
       "| Counting    |  6 |\n",
       "| Counting    |  5 |\n",
       "| Counting    |  7 |\n",
       "| Counting    |  7 |\n",
       "| Rhyming     |  7 |\n",
       "| Rhyming     |  9 |\n",
       "| Rhyming     |  6 |\n",
       "| Rhyming     |  6 |\n",
       "| Rhyming     |  6 |\n",
       "| Rhyming     | 11 |\n",
       "| Rhyming     |  6 |\n",
       "| Rhyming     |  3 |\n",
       "| Rhyming     |  8 |\n",
       "| Rhyming     |  7 |\n",
       "| Adjective   | 11 |\n",
       "| Adjective   | 13 |\n",
       "| Adjective   |  8 |\n",
       "| Adjective   |  6 |\n",
       "| Adjective   | 14 |\n",
       "| Adjective   | 11 |\n",
       "| Adjective   | 13 |\n",
       "| Adjective   | 13 |\n",
       "| Adjective   | 10 |\n",
       "| Adjective   | 11 |\n",
       "| Imagery     | 12 |\n",
       "| Imagery     | 11 |\n",
       "| Imagery     | 16 |\n",
       "| Imagery     | 11 |\n",
       "| Imagery     |  9 |\n",
       "| Imagery     | 23 |\n",
       "| Imagery     | 12 |\n",
       "| Imagery     | 10 |\n",
       "| Imagery     | 19 |\n",
       "| Imagery     | 11 |\n",
       "| Intentional | 10 |\n",
       "| Intentional | 19 |\n",
       "| Intentional | 14 |\n",
       "| Intentional |  5 |\n",
       "| Intentional | 10 |\n",
       "| Intentional | 11 |\n",
       "| Intentional | 14 |\n",
       "| Intentional | 15 |\n",
       "| Intentional | 11 |\n",
       "| Intentional | 11 |\n",
       "\n"
      ],
      "text/plain": [
       "   GROUP       RECALL\n",
       "1  Counting     9    \n",
       "2  Counting     8    \n",
       "3  Counting     6    \n",
       "4  Counting     8    \n",
       "5  Counting    10    \n",
       "6  Counting     4    \n",
       "7  Counting     6    \n",
       "8  Counting     5    \n",
       "9  Counting     7    \n",
       "10 Counting     7    \n",
       "11 Rhyming      7    \n",
       "12 Rhyming      9    \n",
       "13 Rhyming      6    \n",
       "14 Rhyming      6    \n",
       "15 Rhyming      6    \n",
       "16 Rhyming     11    \n",
       "17 Rhyming      6    \n",
       "18 Rhyming      3    \n",
       "19 Rhyming      8    \n",
       "20 Rhyming      7    \n",
       "21 Adjective   11    \n",
       "22 Adjective   13    \n",
       "23 Adjective    8    \n",
       "24 Adjective    6    \n",
       "25 Adjective   14    \n",
       "26 Adjective   11    \n",
       "27 Adjective   13    \n",
       "28 Adjective   13    \n",
       "29 Adjective   10    \n",
       "30 Adjective   11    \n",
       "31 Imagery     12    \n",
       "32 Imagery     11    \n",
       "33 Imagery     16    \n",
       "34 Imagery     11    \n",
       "35 Imagery      9    \n",
       "36 Imagery     23    \n",
       "37 Imagery     12    \n",
       "38 Imagery     10    \n",
       "39 Imagery     19    \n",
       "40 Imagery     11    \n",
       "41 Intentional 10    \n",
       "42 Intentional 19    \n",
       "43 Intentional 14    \n",
       "44 Intentional  5    \n",
       "45 Intentional 10    \n",
       "46 Intentional 11    \n",
       "47 Intentional 14    \n",
       "48 Intentional 15    \n",
       "49 Intentional 11    \n",
       "50 Intentional 11    "
      ]
     },
     "metadata": {},
     "output_type": "display_data"
    }
   ],
   "source": [
    "#rename the group lables\n",
    "library(stringr)\n",
    "data$GROUP <- str_replace(data$GROUP, \"1\", \"Counting\")\n",
    "data$GROUP <- str_replace(data$GROUP, \"2\", \"Rhyming\")\n",
    "data$GROUP <- str_replace(data$GROUP, \"3\", \"Adjective\")\n",
    "data$GROUP <- str_replace(data$GROUP, \"4\", \"Imagery\")\n",
    "data$GROUP <- str_replace(data$GROUP, \"5\", \"Intentional\")\n",
    "data"
   ]
  },
  {
   "cell_type": "code",
   "execution_count": 8,
   "metadata": {},
   "outputs": [],
   "source": [
    "library(magrittr)\n",
    "library(rstatix)"
   ]
  },
  {
   "cell_type": "code",
   "execution_count": 9,
   "metadata": {},
   "outputs": [
    {
     "data": {
      "text/html": [
       "<table class=\"dataframe\">\n",
       "<caption>A tibble: 5 × 14</caption>\n",
       "<thead>\n",
       "\t<tr><th scope=col>GROUP</th><th scope=col>variable</th><th scope=col>n</th><th scope=col>min</th><th scope=col>max</th><th scope=col>median</th><th scope=col>q1</th><th scope=col>q3</th><th scope=col>iqr</th><th scope=col>mad</th><th scope=col>mean</th><th scope=col>sd</th><th scope=col>se</th><th scope=col>ci</th></tr>\n",
       "\t<tr><th scope=col>&lt;chr&gt;</th><th scope=col>&lt;fct&gt;</th><th scope=col>&lt;dbl&gt;</th><th scope=col>&lt;dbl&gt;</th><th scope=col>&lt;dbl&gt;</th><th scope=col>&lt;dbl&gt;</th><th scope=col>&lt;dbl&gt;</th><th scope=col>&lt;dbl&gt;</th><th scope=col>&lt;dbl&gt;</th><th scope=col>&lt;dbl&gt;</th><th scope=col>&lt;dbl&gt;</th><th scope=col>&lt;dbl&gt;</th><th scope=col>&lt;dbl&gt;</th><th scope=col>&lt;dbl&gt;</th></tr>\n",
       "</thead>\n",
       "<tbody>\n",
       "\t<tr><td>Adjective  </td><td>RECALL</td><td>10</td><td>6</td><td>14</td><td>11.0</td><td>10.25</td><td>13.00</td><td>2.75</td><td>2.965</td><td>11.0</td><td>2.494</td><td>0.789</td><td>1.784</td></tr>\n",
       "\t<tr><td>Counting   </td><td>RECALL</td><td>10</td><td>4</td><td>10</td><td> 7.0</td><td> 6.00</td><td> 8.00</td><td>2.00</td><td>1.483</td><td> 7.0</td><td>1.826</td><td>0.577</td><td>1.306</td></tr>\n",
       "\t<tr><td>Imagery    </td><td>RECALL</td><td>10</td><td>9</td><td>23</td><td>11.5</td><td>11.00</td><td>15.00</td><td>4.00</td><td>1.483</td><td>13.4</td><td>4.502</td><td>1.424</td><td>3.220</td></tr>\n",
       "\t<tr><td>Intentional</td><td>RECALL</td><td>10</td><td>5</td><td>19</td><td>11.0</td><td>10.25</td><td>14.00</td><td>3.75</td><td>2.965</td><td>12.0</td><td>3.742</td><td>1.183</td><td>2.677</td></tr>\n",
       "\t<tr><td>Rhyming    </td><td>RECALL</td><td>10</td><td>3</td><td>11</td><td> 6.5</td><td> 6.00</td><td> 7.75</td><td>1.75</td><td>0.741</td><td> 6.9</td><td>2.132</td><td>0.674</td><td>1.525</td></tr>\n",
       "</tbody>\n",
       "</table>\n"
      ],
      "text/latex": [
       "A tibble: 5 × 14\n",
       "\\begin{tabular}{llllllllllllll}\n",
       " GROUP & variable & n & min & max & median & q1 & q3 & iqr & mad & mean & sd & se & ci\\\\\n",
       " <chr> & <fct> & <dbl> & <dbl> & <dbl> & <dbl> & <dbl> & <dbl> & <dbl> & <dbl> & <dbl> & <dbl> & <dbl> & <dbl>\\\\\n",
       "\\hline\n",
       "\t Adjective   & RECALL & 10 & 6 & 14 & 11.0 & 10.25 & 13.00 & 2.75 & 2.965 & 11.0 & 2.494 & 0.789 & 1.784\\\\\n",
       "\t Counting    & RECALL & 10 & 4 & 10 &  7.0 &  6.00 &  8.00 & 2.00 & 1.483 &  7.0 & 1.826 & 0.577 & 1.306\\\\\n",
       "\t Imagery     & RECALL & 10 & 9 & 23 & 11.5 & 11.00 & 15.00 & 4.00 & 1.483 & 13.4 & 4.502 & 1.424 & 3.220\\\\\n",
       "\t Intentional & RECALL & 10 & 5 & 19 & 11.0 & 10.25 & 14.00 & 3.75 & 2.965 & 12.0 & 3.742 & 1.183 & 2.677\\\\\n",
       "\t Rhyming     & RECALL & 10 & 3 & 11 &  6.5 &  6.00 &  7.75 & 1.75 & 0.741 &  6.9 & 2.132 & 0.674 & 1.525\\\\\n",
       "\\end{tabular}\n"
      ],
      "text/markdown": [
       "\n",
       "A tibble: 5 × 14\n",
       "\n",
       "| GROUP &lt;chr&gt; | variable &lt;fct&gt; | n &lt;dbl&gt; | min &lt;dbl&gt; | max &lt;dbl&gt; | median &lt;dbl&gt; | q1 &lt;dbl&gt; | q3 &lt;dbl&gt; | iqr &lt;dbl&gt; | mad &lt;dbl&gt; | mean &lt;dbl&gt; | sd &lt;dbl&gt; | se &lt;dbl&gt; | ci &lt;dbl&gt; |\n",
       "|---|---|---|---|---|---|---|---|---|---|---|---|---|---|\n",
       "| Adjective   | RECALL | 10 | 6 | 14 | 11.0 | 10.25 | 13.00 | 2.75 | 2.965 | 11.0 | 2.494 | 0.789 | 1.784 |\n",
       "| Counting    | RECALL | 10 | 4 | 10 |  7.0 |  6.00 |  8.00 | 2.00 | 1.483 |  7.0 | 1.826 | 0.577 | 1.306 |\n",
       "| Imagery     | RECALL | 10 | 9 | 23 | 11.5 | 11.00 | 15.00 | 4.00 | 1.483 | 13.4 | 4.502 | 1.424 | 3.220 |\n",
       "| Intentional | RECALL | 10 | 5 | 19 | 11.0 | 10.25 | 14.00 | 3.75 | 2.965 | 12.0 | 3.742 | 1.183 | 2.677 |\n",
       "| Rhyming     | RECALL | 10 | 3 | 11 |  6.5 |  6.00 |  7.75 | 1.75 | 0.741 |  6.9 | 2.132 | 0.674 | 1.525 |\n",
       "\n"
      ],
      "text/plain": [
       "  GROUP       variable n  min max median q1    q3    iqr  mad   mean sd   \n",
       "1 Adjective   RECALL   10 6   14  11.0   10.25 13.00 2.75 2.965 11.0 2.494\n",
       "2 Counting    RECALL   10 4   10   7.0    6.00  8.00 2.00 1.483  7.0 1.826\n",
       "3 Imagery     RECALL   10 9   23  11.5   11.00 15.00 4.00 1.483 13.4 4.502\n",
       "4 Intentional RECALL   10 5   19  11.0   10.25 14.00 3.75 2.965 12.0 3.742\n",
       "5 Rhyming     RECALL   10 3   11   6.5    6.00  7.75 1.75 0.741  6.9 2.132\n",
       "  se    ci   \n",
       "1 0.789 1.784\n",
       "2 0.577 1.306\n",
       "3 1.424 3.220\n",
       "4 1.183 2.677\n",
       "5 0.674 1.525"
      ]
     },
     "metadata": {},
     "output_type": "display_data"
    }
   ],
   "source": [
    "data %>% group_by(GROUP) %>% get_summary_stats(RECALL)"
   ]
  },
  {
   "cell_type": "code",
   "execution_count": 11,
   "metadata": {},
   "outputs": [],
   "source": [
    "library(ggpubr)"
   ]
  },
  {
   "cell_type": "code",
   "execution_count": 13,
   "metadata": {},
   "outputs": [
    {
     "data": {
      "image/png": "[encoded data removed]",
      "text/plain": [
       "plot without title"
      ]
     },
     "metadata": {
      "image/png": {
       "height": 420,
       "width": 420
      }
     },
     "output_type": "display_data"
    }
   ],
   "source": [
    "ggboxplot(data, x=\"GROUP\", y=\"RECALL\", color=\"GROUP\",add=\"point\")"
   ]
  },
  {
   "cell_type": "code",
   "execution_count": 14,
   "metadata": {},
   "outputs": [
    {
     "data": {
      "text/html": [
       "<table class=\"dataframe\">\n",
       "<caption>A tibble: 4 × 4</caption>\n",
       "<thead>\n",
       "\t<tr><th scope=col>GROUP</th><th scope=col>RECALL</th><th scope=col>is.outlier</th><th scope=col>is.extreme</th></tr>\n",
       "\t<tr><th scope=col>&lt;chr&gt;</th><th scope=col>&lt;int&gt;</th><th scope=col>&lt;lgl&gt;</th><th scope=col>&lt;lgl&gt;</th></tr>\n",
       "</thead>\n",
       "<tbody>\n",
       "\t<tr><td>Adjective</td><td> 6</td><td>TRUE</td><td>FALSE</td></tr>\n",
       "\t<tr><td>Imagery  </td><td>23</td><td>TRUE</td><td>FALSE</td></tr>\n",
       "\t<tr><td>Rhyming  </td><td>11</td><td>TRUE</td><td>FALSE</td></tr>\n",
       "\t<tr><td>Rhyming  </td><td> 3</td><td>TRUE</td><td>FALSE</td></tr>\n",
       "</tbody>\n",
       "</table>\n"
      ],
      "text/latex": [
       "A tibble: 4 × 4\n",
       "\\begin{tabular}{llll}\n",
       " GROUP & RECALL & is.outlier & is.extreme\\\\\n",
       " <chr> & <int> & <lgl> & <lgl>\\\\\n",
       "\\hline\n",
       "\t Adjective &  6 & TRUE & FALSE\\\\\n",
       "\t Imagery   & 23 & TRUE & FALSE\\\\\n",
       "\t Rhyming   & 11 & TRUE & FALSE\\\\\n",
       "\t Rhyming   &  3 & TRUE & FALSE\\\\\n",
       "\\end{tabular}\n"
      ],
      "text/markdown": [
       "\n",
       "A tibble: 4 × 4\n",
       "\n",
       "| GROUP &lt;chr&gt; | RECALL &lt;int&gt; | is.outlier &lt;lgl&gt; | is.extreme &lt;lgl&gt; |\n",
       "|---|---|---|---|\n",
       "| Adjective |  6 | TRUE | FALSE |\n",
       "| Imagery   | 23 | TRUE | FALSE |\n",
       "| Rhyming   | 11 | TRUE | FALSE |\n",
       "| Rhyming   |  3 | TRUE | FALSE |\n",
       "\n"
      ],
      "text/plain": [
       "  GROUP     RECALL is.outlier is.extreme\n",
       "1 Adjective  6     TRUE       FALSE     \n",
       "2 Imagery   23     TRUE       FALSE     \n",
       "3 Rhyming   11     TRUE       FALSE     \n",
       "4 Rhyming    3     TRUE       FALSE     "
      ]
     },
     "metadata": {},
     "output_type": "display_data"
    }
   ],
   "source": [
    "data %>% group_by(GROUP) %>% identify_outliers(RECALL)"
   ]
  },
  {
   "cell_type": "markdown",
   "metadata": {},
   "source": [
    "از ان جایی که آوتلایر بسیار پرتی نداریم موردی را حذف نمی کنیم"
   ]
  },
  {
   "cell_type": "code",
   "execution_count": 15,
   "metadata": {},
   "outputs": [
    {
     "data": {
      "image/png": "[encoded data removed]",
      "text/plain": [
       "plot without title"
      ]
     },
     "metadata": {
      "image/png": {
       "height": 420,
       "width": 420
      }
     },
     "output_type": "display_data"
    }
   ],
   "source": [
    "ggqqplot(data,\"RECALL\")"
   ]
  },
  {
   "cell_type": "code",
   "execution_count": 20,
   "metadata": {
    "scrolled": false
   },
   "outputs": [
    {
     "data": {
      "image/png": "[encoded data removed]",
      "text/plain": [
       "plot without title"
      ]
     },
     "metadata": {
      "image/png": {
       "height": 420,
       "width": 420
      }
     },
     "output_type": "display_data"
    }
   ],
   "source": [
    "ggqqplot(data, \"RECALL\",facet.by=\"GROUP\")"
   ]
  },
  {
   "cell_type": "code",
   "execution_count": 19,
   "metadata": {},
   "outputs": [
    {
     "data": {
      "text/html": [
       "<table class=\"dataframe\">\n",
       "<caption>A tibble: 5 × 4</caption>\n",
       "<thead>\n",
       "\t<tr><th scope=col>GROUP</th><th scope=col>variable</th><th scope=col>statistic</th><th scope=col>p</th></tr>\n",
       "\t<tr><th scope=col>&lt;chr&gt;</th><th scope=col>&lt;chr&gt;</th><th scope=col>&lt;dbl&gt;</th><th scope=col>&lt;dbl&gt;</th></tr>\n",
       "</thead>\n",
       "<tbody>\n",
       "\t<tr><td>Adjective  </td><td>RECALL</td><td>0.9060701</td><td>0.25507223</td></tr>\n",
       "\t<tr><td>Counting   </td><td>RECALL</td><td>0.9837163</td><td>0.98192994</td></tr>\n",
       "\t<tr><td>Imagery    </td><td>RECALL</td><td>0.8196730</td><td>0.02511233</td></tr>\n",
       "\t<tr><td>Intentional</td><td>RECALL</td><td>0.9433906</td><td>0.59131985</td></tr>\n",
       "\t<tr><td>Rhyming    </td><td>RECALL</td><td>0.9302385</td><td>0.45024227</td></tr>\n",
       "</tbody>\n",
       "</table>\n"
      ],
      "text/latex": [
       "A tibble: 5 × 4\n",
       "\\begin{tabular}{llll}\n",
       " GROUP & variable & statistic & p\\\\\n",
       " <chr> & <chr> & <dbl> & <dbl>\\\\\n",
       "\\hline\n",
       "\t Adjective   & RECALL & 0.9060701 & 0.25507223\\\\\n",
       "\t Counting    & RECALL & 0.9837163 & 0.98192994\\\\\n",
       "\t Imagery     & RECALL & 0.8196730 & 0.02511233\\\\\n",
       "\t Intentional & RECALL & 0.9433906 & 0.59131985\\\\\n",
       "\t Rhyming     & RECALL & 0.9302385 & 0.45024227\\\\\n",
       "\\end{tabular}\n"
      ],
      "text/markdown": [
       "\n",
       "A tibble: 5 × 4\n",
       "\n",
       "| GROUP &lt;chr&gt; | variable &lt;chr&gt; | statistic &lt;dbl&gt; | p &lt;dbl&gt; |\n",
       "|---|---|---|---|\n",
       "| Adjective   | RECALL | 0.9060701 | 0.25507223 |\n",
       "| Counting    | RECALL | 0.9837163 | 0.98192994 |\n",
       "| Imagery     | RECALL | 0.8196730 | 0.02511233 |\n",
       "| Intentional | RECALL | 0.9433906 | 0.59131985 |\n",
       "| Rhyming     | RECALL | 0.9302385 | 0.45024227 |\n",
       "\n"
      ],
      "text/plain": [
       "  GROUP       variable statistic p         \n",
       "1 Adjective   RECALL   0.9060701 0.25507223\n",
       "2 Counting    RECALL   0.9837163 0.98192994\n",
       "3 Imagery     RECALL   0.8196730 0.02511233\n",
       "4 Intentional RECALL   0.9433906 0.59131985\n",
       "5 Rhyming     RECALL   0.9302385 0.45024227"
      ]
     },
     "metadata": {},
     "output_type": "display_data"
    }
   ],
   "source": [
    "data %>% group_by(GROUP) %>% shapiro_test(RECALL)"
   ]
  },
  {
   "cell_type": "markdown",
   "metadata": {},
   "source": [
    "با وجود یک مقدار پی کوچک فرض نرمالیتی رد می شود و باید سمت آزمونهای ناپارامتریک برویم"
   ]
  },
  {
   "cell_type": "code",
   "execution_count": 24,
   "metadata": {},
   "outputs": [
    {
     "data": {
      "text/html": [
       "<table class=\"dataframe\">\n",
       "<caption>A rstatix_test: 1 × 6</caption>\n",
       "<thead>\n",
       "\t<tr><th></th><th scope=col>.y.</th><th scope=col>n</th><th scope=col>statistic</th><th scope=col>df</th><th scope=col>p</th><th scope=col>method</th></tr>\n",
       "\t<tr><th></th><th scope=col>&lt;chr&gt;</th><th scope=col>&lt;int&gt;</th><th scope=col>&lt;dbl&gt;</th><th scope=col>&lt;int&gt;</th><th scope=col>&lt;dbl&gt;</th><th scope=col>&lt;chr&gt;</th></tr>\n",
       "</thead>\n",
       "<tbody>\n",
       "\t<tr><th scope=row>1</th><td>RECALL</td><td>50</td><td>25.37608</td><td>4</td><td>4.23e-05</td><td>Kruskal-Wallis</td></tr>\n",
       "</tbody>\n",
       "</table>\n"
      ],
      "text/latex": [
       "A rstatix\\_test: 1 × 6\n",
       "\\begin{tabular}{r|llllll}\n",
       "  & .y. & n & statistic & df & p & method\\\\\n",
       "  & <chr> & <int> & <dbl> & <int> & <dbl> & <chr>\\\\\n",
       "\\hline\n",
       "\t1 & RECALL & 50 & 25.37608 & 4 & 4.23e-05 & Kruskal-Wallis\\\\\n",
       "\\end{tabular}\n"
      ],
      "text/markdown": [
       "\n",
       "A rstatix_test: 1 × 6\n",
       "\n",
       "| <!--/--> | .y. &lt;chr&gt; | n &lt;int&gt; | statistic &lt;dbl&gt; | df &lt;int&gt; | p &lt;dbl&gt; | method &lt;chr&gt; |\n",
       "|---|---|---|---|---|---|---|\n",
       "| 1 | RECALL | 50 | 25.37608 | 4 | 4.23e-05 | Kruskal-Wallis |\n",
       "\n"
      ],
      "text/plain": [
       "  .y.    n  statistic df p        method        \n",
       "1 RECALL 50 25.37608  4  4.23e-05 Kruskal-Wallis"
      ]
     },
     "metadata": {},
     "output_type": "display_data"
    }
   ],
   "source": [
    "data %>% kruskal_test(RECALL ~ GROUP)"
   ]
  },
  {
   "cell_type": "code",
   "execution_count": 25,
   "metadata": {},
   "outputs": [
    {
     "data": {
      "text/html": [
       "<table class=\"dataframe\">\n",
       "<caption>A rstatix_test: 1 × 5</caption>\n",
       "<thead>\n",
       "\t<tr><th></th><th scope=col>.y.</th><th scope=col>n</th><th scope=col>effsize</th><th scope=col>method</th><th scope=col>magnitude</th></tr>\n",
       "\t<tr><th></th><th scope=col>&lt;chr&gt;</th><th scope=col>&lt;int&gt;</th><th scope=col>&lt;dbl&gt;</th><th scope=col>&lt;chr&gt;</th><th scope=col>&lt;ord&gt;</th></tr>\n",
       "</thead>\n",
       "<tbody>\n",
       "\t<tr><th scope=row>1</th><td>RECALL</td><td>50</td><td>0.475024</td><td>eta2[H]</td><td>large</td></tr>\n",
       "</tbody>\n",
       "</table>\n"
      ],
      "text/latex": [
       "A rstatix\\_test: 1 × 5\n",
       "\\begin{tabular}{r|lllll}\n",
       "  & .y. & n & effsize & method & magnitude\\\\\n",
       "  & <chr> & <int> & <dbl> & <chr> & <ord>\\\\\n",
       "\\hline\n",
       "\t1 & RECALL & 50 & 0.475024 & eta2{[}H{]} & large\\\\\n",
       "\\end{tabular}\n"
      ],
      "text/markdown": [
       "\n",
       "A rstatix_test: 1 × 5\n",
       "\n",
       "| <!--/--> | .y. &lt;chr&gt; | n &lt;int&gt; | effsize &lt;dbl&gt; | method &lt;chr&gt; | magnitude &lt;ord&gt; |\n",
       "|---|---|---|---|---|---|\n",
       "| 1 | RECALL | 50 | 0.475024 | eta2[H] | large |\n",
       "\n"
      ],
      "text/plain": [
       "  .y.    n  effsize  method  magnitude\n",
       "1 RECALL 50 0.475024 eta2[H] large    "
      ]
     },
     "metadata": {},
     "output_type": "display_data"
    }
   ],
   "source": [
    "data %>% kruskal_effsize(RECALL ~ GROUP)"
   ]
  },
  {
   "cell_type": "markdown",
   "metadata": {},
   "source": [
    " مقدار پی کوچک در آزمون کراسکال و مقدار اندازه اثر بزرگ نشان دهنده تفاوت معنادار بین گروه ها در یادآوری است و در نتیجه فرض صفر رد می شود "
   ]
  },
  {
   "cell_type": "code",
   "execution_count": 26,
   "metadata": {},
   "outputs": [
    {
     "data": {
      "text/html": [
       "<table class=\"dataframe\">\n",
       "<caption>A rstatix_test: 10 × 9</caption>\n",
       "<thead>\n",
       "\t<tr><th></th><th scope=col>.y.</th><th scope=col>group1</th><th scope=col>group2</th><th scope=col>n1</th><th scope=col>n2</th><th scope=col>statistic</th><th scope=col>p</th><th scope=col>p.adj</th><th scope=col>p.adj.signif</th></tr>\n",
       "\t<tr><th></th><th scope=col>&lt;chr&gt;</th><th scope=col>&lt;chr&gt;</th><th scope=col>&lt;chr&gt;</th><th scope=col>&lt;int&gt;</th><th scope=col>&lt;int&gt;</th><th scope=col>&lt;dbl&gt;</th><th scope=col>&lt;dbl&gt;</th><th scope=col>&lt;dbl&gt;</th><th scope=col>&lt;chr&gt;</th></tr>\n",
       "</thead>\n",
       "<tbody>\n",
       "\t<tr><th scope=row>1</th><td>RECALL</td><td>Adjective  </td><td>Counting   </td><td>10</td><td>10</td><td>89.5</td><td>0.003000</td><td>0.030</td><td>* </td></tr>\n",
       "\t<tr><th scope=row>2</th><td>RECALL</td><td>Adjective  </td><td>Imagery    </td><td>10</td><td>10</td><td>40.0</td><td>0.466000</td><td>1.000</td><td>ns</td></tr>\n",
       "\t<tr><th scope=row>3</th><td>RECALL</td><td>Adjective  </td><td>Intentional</td><td>10</td><td>10</td><td>42.5</td><td>0.590000</td><td>1.000</td><td>ns</td></tr>\n",
       "\t<tr><th scope=row>4</th><td>RECALL</td><td>Adjective  </td><td>Rhyming    </td><td>10</td><td>10</td><td>88.0</td><td>0.004000</td><td>0.040</td><td>* </td></tr>\n",
       "\t<tr><th scope=row>5</th><td>RECALL</td><td>Counting   </td><td>Imagery    </td><td>10</td><td>10</td><td> 2.0</td><td>0.000313</td><td>0.003</td><td>**</td></tr>\n",
       "\t<tr><th scope=row>6</th><td>RECALL</td><td>Counting   </td><td>Intentional</td><td>10</td><td>10</td><td> 9.5</td><td>0.002000</td><td>0.024</td><td>* </td></tr>\n",
       "\t<tr><th scope=row>7</th><td>RECALL</td><td>Counting   </td><td>Rhyming    </td><td>10</td><td>10</td><td>52.5</td><td>0.878000</td><td>1.000</td><td>ns</td></tr>\n",
       "\t<tr><th scope=row>8</th><td>RECALL</td><td>Imagery    </td><td>Intentional</td><td>10</td><td>10</td><td>57.0</td><td>0.618000</td><td>1.000</td><td>ns</td></tr>\n",
       "\t<tr><th scope=row>9</th><td>RECALL</td><td>Imagery    </td><td>Rhyming    </td><td>10</td><td>10</td><td>96.0</td><td>0.000521</td><td>0.005</td><td>**</td></tr>\n",
       "\t<tr><th scope=row>10</th><td>RECALL</td><td>Intentional</td><td>Rhyming    </td><td>10</td><td>10</td><td>87.5</td><td>0.005000</td><td>0.048</td><td>* </td></tr>\n",
       "</tbody>\n",
       "</table>\n"
      ],
      "text/latex": [
       "A rstatix\\_test: 10 × 9\n",
       "\\begin{tabular}{r|lllllllll}\n",
       "  & .y. & group1 & group2 & n1 & n2 & statistic & p & p.adj & p.adj.signif\\\\\n",
       "  & <chr> & <chr> & <chr> & <int> & <int> & <dbl> & <dbl> & <dbl> & <chr>\\\\\n",
       "\\hline\n",
       "\t1 & RECALL & Adjective   & Counting    & 10 & 10 & 89.5 & 0.003000 & 0.030 & * \\\\\n",
       "\t2 & RECALL & Adjective   & Imagery     & 10 & 10 & 40.0 & 0.466000 & 1.000 & ns\\\\\n",
       "\t3 & RECALL & Adjective   & Intentional & 10 & 10 & 42.5 & 0.590000 & 1.000 & ns\\\\\n",
       "\t4 & RECALL & Adjective   & Rhyming     & 10 & 10 & 88.0 & 0.004000 & 0.040 & * \\\\\n",
       "\t5 & RECALL & Counting    & Imagery     & 10 & 10 &  2.0 & 0.000313 & 0.003 & **\\\\\n",
       "\t6 & RECALL & Counting    & Intentional & 10 & 10 &  9.5 & 0.002000 & 0.024 & * \\\\\n",
       "\t7 & RECALL & Counting    & Rhyming     & 10 & 10 & 52.5 & 0.878000 & 1.000 & ns\\\\\n",
       "\t8 & RECALL & Imagery     & Intentional & 10 & 10 & 57.0 & 0.618000 & 1.000 & ns\\\\\n",
       "\t9 & RECALL & Imagery     & Rhyming     & 10 & 10 & 96.0 & 0.000521 & 0.005 & **\\\\\n",
       "\t10 & RECALL & Intentional & Rhyming     & 10 & 10 & 87.5 & 0.005000 & 0.048 & * \\\\\n",
       "\\end{tabular}\n"
      ],
      "text/markdown": [
       "\n",
       "A rstatix_test: 10 × 9\n",
       "\n",
       "| <!--/--> | .y. &lt;chr&gt; | group1 &lt;chr&gt; | group2 &lt;chr&gt; | n1 &lt;int&gt; | n2 &lt;int&gt; | statistic &lt;dbl&gt; | p &lt;dbl&gt; | p.adj &lt;dbl&gt; | p.adj.signif &lt;chr&gt; |\n",
       "|---|---|---|---|---|---|---|---|---|---|\n",
       "| 1 | RECALL | Adjective   | Counting    | 10 | 10 | 89.5 | 0.003000 | 0.030 | *  |\n",
       "| 2 | RECALL | Adjective   | Imagery     | 10 | 10 | 40.0 | 0.466000 | 1.000 | ns |\n",
       "| 3 | RECALL | Adjective   | Intentional | 10 | 10 | 42.5 | 0.590000 | 1.000 | ns |\n",
       "| 4 | RECALL | Adjective   | Rhyming     | 10 | 10 | 88.0 | 0.004000 | 0.040 | *  |\n",
       "| 5 | RECALL | Counting    | Imagery     | 10 | 10 |  2.0 | 0.000313 | 0.003 | ** |\n",
       "| 6 | RECALL | Counting    | Intentional | 10 | 10 |  9.5 | 0.002000 | 0.024 | *  |\n",
       "| 7 | RECALL | Counting    | Rhyming     | 10 | 10 | 52.5 | 0.878000 | 1.000 | ns |\n",
       "| 8 | RECALL | Imagery     | Intentional | 10 | 10 | 57.0 | 0.618000 | 1.000 | ns |\n",
       "| 9 | RECALL | Imagery     | Rhyming     | 10 | 10 | 96.0 | 0.000521 | 0.005 | ** |\n",
       "| 10 | RECALL | Intentional | Rhyming     | 10 | 10 | 87.5 | 0.005000 | 0.048 | *  |\n",
       "\n"
      ],
      "text/plain": [
       "   .y.    group1      group2      n1 n2 statistic p        p.adj p.adj.signif\n",
       "1  RECALL Adjective   Counting    10 10 89.5      0.003000 0.030 *           \n",
       "2  RECALL Adjective   Imagery     10 10 40.0      0.466000 1.000 ns          \n",
       "3  RECALL Adjective   Intentional 10 10 42.5      0.590000 1.000 ns          \n",
       "4  RECALL Adjective   Rhyming     10 10 88.0      0.004000 0.040 *           \n",
       "5  RECALL Counting    Imagery     10 10  2.0      0.000313 0.003 **          \n",
       "6  RECALL Counting    Intentional 10 10  9.5      0.002000 0.024 *           \n",
       "7  RECALL Counting    Rhyming     10 10 52.5      0.878000 1.000 ns          \n",
       "8  RECALL Imagery     Intentional 10 10 57.0      0.618000 1.000 ns          \n",
       "9  RECALL Imagery     Rhyming     10 10 96.0      0.000521 0.005 **          \n",
       "10 RECALL Intentional Rhyming     10 10 87.5      0.005000 0.048 *           "
      ]
     },
     "metadata": {},
     "output_type": "display_data"
    }
   ],
   "source": [
    "data %>% wilcox_test(RECALL ~ GROUP, p.adjust.method = \"bonferroni\")"
   ]
  },
  {
   "cell_type": "markdown",
   "metadata": {},
   "source": [
    "با اجرای آزمون پست هاک می بینیم که این تفاوت بین کدام جفت گروه وجود دارد. بین گروه صفت و تصویر، و صفت و عمدی، و شمارشی و قافیه ای، و تصویری و عمدی تفاوت معناداری در یادآوری وجود ندارد. در مابقی جفت گروه ها تفاوت دیده می شود که میزتن بزرگی تفاوت با تعداد ستاره نشان داده شده است"
   ]
  },
  {
   "cell_type": "markdown",
   "metadata": {},
   "source": [
    "## 4-B"
   ]
  },
  {
   "cell_type": "code",
   "execution_count": 27,
   "metadata": {},
   "outputs": [
    {
     "data": {
      "text/html": [
       "<table class=\"dataframe\">\n",
       "<caption>A data.frame: 20 × 2</caption>\n",
       "<thead>\n",
       "\t<tr><th scope=col>Group</th><th scope=col>DV</th></tr>\n",
       "\t<tr><th scope=col>&lt;int&gt;</th><th scope=col>&lt;int&gt;</th></tr>\n",
       "</thead>\n",
       "<tbody>\n",
       "\t<tr><td>1</td><td>21</td></tr>\n",
       "\t<tr><td>1</td><td>19</td></tr>\n",
       "\t<tr><td>1</td><td>17</td></tr>\n",
       "\t<tr><td>1</td><td>15</td></tr>\n",
       "\t<tr><td>1</td><td>22</td></tr>\n",
       "\t<tr><td>1</td><td>16</td></tr>\n",
       "\t<tr><td>1</td><td>22</td></tr>\n",
       "\t<tr><td>1</td><td>22</td></tr>\n",
       "\t<tr><td>1</td><td>18</td></tr>\n",
       "\t<tr><td>1</td><td>21</td></tr>\n",
       "\t<tr><td>2</td><td>10</td></tr>\n",
       "\t<tr><td>2</td><td>19</td></tr>\n",
       "\t<tr><td>2</td><td>14</td></tr>\n",
       "\t<tr><td>2</td><td> 5</td></tr>\n",
       "\t<tr><td>2</td><td>10</td></tr>\n",
       "\t<tr><td>2</td><td>11</td></tr>\n",
       "\t<tr><td>2</td><td>14</td></tr>\n",
       "\t<tr><td>2</td><td>15</td></tr>\n",
       "\t<tr><td>2</td><td>11</td></tr>\n",
       "\t<tr><td>2</td><td>11</td></tr>\n",
       "</tbody>\n",
       "</table>\n"
      ],
      "text/latex": [
       "A data.frame: 20 × 2\n",
       "\\begin{tabular}{ll}\n",
       " Group & DV\\\\\n",
       " <int> & <int>\\\\\n",
       "\\hline\n",
       "\t 1 & 21\\\\\n",
       "\t 1 & 19\\\\\n",
       "\t 1 & 17\\\\\n",
       "\t 1 & 15\\\\\n",
       "\t 1 & 22\\\\\n",
       "\t 1 & 16\\\\\n",
       "\t 1 & 22\\\\\n",
       "\t 1 & 22\\\\\n",
       "\t 1 & 18\\\\\n",
       "\t 1 & 21\\\\\n",
       "\t 2 & 10\\\\\n",
       "\t 2 & 19\\\\\n",
       "\t 2 & 14\\\\\n",
       "\t 2 &  5\\\\\n",
       "\t 2 & 10\\\\\n",
       "\t 2 & 11\\\\\n",
       "\t 2 & 14\\\\\n",
       "\t 2 & 15\\\\\n",
       "\t 2 & 11\\\\\n",
       "\t 2 & 11\\\\\n",
       "\\end{tabular}\n"
      ],
      "text/markdown": [
       "\n",
       "A data.frame: 20 × 2\n",
       "\n",
       "| Group &lt;int&gt; | DV &lt;int&gt; |\n",
       "|---|---|\n",
       "| 1 | 21 |\n",
       "| 1 | 19 |\n",
       "| 1 | 17 |\n",
       "| 1 | 15 |\n",
       "| 1 | 22 |\n",
       "| 1 | 16 |\n",
       "| 1 | 22 |\n",
       "| 1 | 22 |\n",
       "| 1 | 18 |\n",
       "| 1 | 21 |\n",
       "| 2 | 10 |\n",
       "| 2 | 19 |\n",
       "| 2 | 14 |\n",
       "| 2 |  5 |\n",
       "| 2 | 10 |\n",
       "| 2 | 11 |\n",
       "| 2 | 14 |\n",
       "| 2 | 15 |\n",
       "| 2 | 11 |\n",
       "| 2 | 11 |\n",
       "\n"
      ],
      "text/plain": [
       "   Group DV\n",
       "1  1     21\n",
       "2  1     19\n",
       "3  1     17\n",
       "4  1     15\n",
       "5  1     22\n",
       "6  1     16\n",
       "7  1     22\n",
       "8  1     22\n",
       "9  1     18\n",
       "10 1     21\n",
       "11 2     10\n",
       "12 2     19\n",
       "13 2     14\n",
       "14 2      5\n",
       "15 2     10\n",
       "16 2     11\n",
       "17 2     14\n",
       "18 2     15\n",
       "19 2     11\n",
       "20 2     11"
      ]
     },
     "metadata": {},
     "output_type": "display_data"
    }
   ],
   "source": [
    "#Load The data\n",
    "data_y_o = read.table('project_4_B.dat', header = TRUE)\n",
    "data_y_o"
   ]
  },
  {
   "cell_type": "code",
   "execution_count": 29,
   "metadata": {
    "scrolled": true
   },
   "outputs": [
    {
     "data": {
      "text/html": [
       "<table class=\"dataframe\">\n",
       "<caption>A data.frame: 20 × 2</caption>\n",
       "<thead>\n",
       "\t<tr><th scope=col>Group</th><th scope=col>DV</th></tr>\n",
       "\t<tr><th scope=col>&lt;chr&gt;</th><th scope=col>&lt;int&gt;</th></tr>\n",
       "</thead>\n",
       "<tbody>\n",
       "\t<tr><td>Younger</td><td>21</td></tr>\n",
       "\t<tr><td>Younger</td><td>19</td></tr>\n",
       "\t<tr><td>Younger</td><td>17</td></tr>\n",
       "\t<tr><td>Younger</td><td>15</td></tr>\n",
       "\t<tr><td>Younger</td><td>22</td></tr>\n",
       "\t<tr><td>Younger</td><td>16</td></tr>\n",
       "\t<tr><td>Younger</td><td>22</td></tr>\n",
       "\t<tr><td>Younger</td><td>22</td></tr>\n",
       "\t<tr><td>Younger</td><td>18</td></tr>\n",
       "\t<tr><td>Younger</td><td>21</td></tr>\n",
       "\t<tr><td>Older  </td><td>10</td></tr>\n",
       "\t<tr><td>Older  </td><td>19</td></tr>\n",
       "\t<tr><td>Older  </td><td>14</td></tr>\n",
       "\t<tr><td>Older  </td><td> 5</td></tr>\n",
       "\t<tr><td>Older  </td><td>10</td></tr>\n",
       "\t<tr><td>Older  </td><td>11</td></tr>\n",
       "\t<tr><td>Older  </td><td>14</td></tr>\n",
       "\t<tr><td>Older  </td><td>15</td></tr>\n",
       "\t<tr><td>Older  </td><td>11</td></tr>\n",
       "\t<tr><td>Older  </td><td>11</td></tr>\n",
       "</tbody>\n",
       "</table>\n"
      ],
      "text/latex": [
       "A data.frame: 20 × 2\n",
       "\\begin{tabular}{ll}\n",
       " Group & DV\\\\\n",
       " <chr> & <int>\\\\\n",
       "\\hline\n",
       "\t Younger & 21\\\\\n",
       "\t Younger & 19\\\\\n",
       "\t Younger & 17\\\\\n",
       "\t Younger & 15\\\\\n",
       "\t Younger & 22\\\\\n",
       "\t Younger & 16\\\\\n",
       "\t Younger & 22\\\\\n",
       "\t Younger & 22\\\\\n",
       "\t Younger & 18\\\\\n",
       "\t Younger & 21\\\\\n",
       "\t Older   & 10\\\\\n",
       "\t Older   & 19\\\\\n",
       "\t Older   & 14\\\\\n",
       "\t Older   &  5\\\\\n",
       "\t Older   & 10\\\\\n",
       "\t Older   & 11\\\\\n",
       "\t Older   & 14\\\\\n",
       "\t Older   & 15\\\\\n",
       "\t Older   & 11\\\\\n",
       "\t Older   & 11\\\\\n",
       "\\end{tabular}\n"
      ],
      "text/markdown": [
       "\n",
       "A data.frame: 20 × 2\n",
       "\n",
       "| Group &lt;chr&gt; | DV &lt;int&gt; |\n",
       "|---|---|\n",
       "| Younger | 21 |\n",
       "| Younger | 19 |\n",
       "| Younger | 17 |\n",
       "| Younger | 15 |\n",
       "| Younger | 22 |\n",
       "| Younger | 16 |\n",
       "| Younger | 22 |\n",
       "| Younger | 22 |\n",
       "| Younger | 18 |\n",
       "| Younger | 21 |\n",
       "| Older   | 10 |\n",
       "| Older   | 19 |\n",
       "| Older   | 14 |\n",
       "| Older   |  5 |\n",
       "| Older   | 10 |\n",
       "| Older   | 11 |\n",
       "| Older   | 14 |\n",
       "| Older   | 15 |\n",
       "| Older   | 11 |\n",
       "| Older   | 11 |\n",
       "\n"
      ],
      "text/plain": [
       "   Group   DV\n",
       "1  Younger 21\n",
       "2  Younger 19\n",
       "3  Younger 17\n",
       "4  Younger 15\n",
       "5  Younger 22\n",
       "6  Younger 16\n",
       "7  Younger 22\n",
       "8  Younger 22\n",
       "9  Younger 18\n",
       "10 Younger 21\n",
       "11 Older   10\n",
       "12 Older   19\n",
       "13 Older   14\n",
       "14 Older    5\n",
       "15 Older   10\n",
       "16 Older   11\n",
       "17 Older   14\n",
       "18 Older   15\n",
       "19 Older   11\n",
       "20 Older   11"
      ]
     },
     "metadata": {},
     "output_type": "display_data"
    }
   ],
   "source": [
    "#rename the group lables\n",
    "data_y_o$Group <- str_replace(data_y_o$Group, \"1\", \"Younger\")\n",
    "data_y_o$Group <- str_replace(data_y_o$Group, \"2\", \"Older\")\n",
    "data_y_o"
   ]
  },
  {
   "cell_type": "code",
   "execution_count": 30,
   "metadata": {},
   "outputs": [
    {
     "data": {
      "text/html": [
       "<table class=\"dataframe\">\n",
       "<caption>A tibble: 2 × 14</caption>\n",
       "<thead>\n",
       "\t<tr><th scope=col>Group</th><th scope=col>variable</th><th scope=col>n</th><th scope=col>min</th><th scope=col>max</th><th scope=col>median</th><th scope=col>q1</th><th scope=col>q3</th><th scope=col>iqr</th><th scope=col>mad</th><th scope=col>mean</th><th scope=col>sd</th><th scope=col>se</th><th scope=col>ci</th></tr>\n",
       "\t<tr><th scope=col>&lt;chr&gt;</th><th scope=col>&lt;fct&gt;</th><th scope=col>&lt;dbl&gt;</th><th scope=col>&lt;dbl&gt;</th><th scope=col>&lt;dbl&gt;</th><th scope=col>&lt;dbl&gt;</th><th scope=col>&lt;dbl&gt;</th><th scope=col>&lt;dbl&gt;</th><th scope=col>&lt;dbl&gt;</th><th scope=col>&lt;dbl&gt;</th><th scope=col>&lt;dbl&gt;</th><th scope=col>&lt;dbl&gt;</th><th scope=col>&lt;dbl&gt;</th><th scope=col>&lt;dbl&gt;</th></tr>\n",
       "</thead>\n",
       "<tbody>\n",
       "\t<tr><td>Older  </td><td>DV</td><td>10</td><td> 5</td><td>19</td><td>11</td><td>10.25</td><td>14.00</td><td>3.75</td><td>2.965</td><td>12.0</td><td>3.742</td><td>1.183</td><td>2.677</td></tr>\n",
       "\t<tr><td>Younger</td><td>DV</td><td>10</td><td>15</td><td>22</td><td>20</td><td>17.25</td><td>21.75</td><td>4.50</td><td>2.965</td><td>19.3</td><td>2.669</td><td>0.844</td><td>1.909</td></tr>\n",
       "</tbody>\n",
       "</table>\n"
      ],
      "text/latex": [
       "A tibble: 2 × 14\n",
       "\\begin{tabular}{llllllllllllll}\n",
       " Group & variable & n & min & max & median & q1 & q3 & iqr & mad & mean & sd & se & ci\\\\\n",
       " <chr> & <fct> & <dbl> & <dbl> & <dbl> & <dbl> & <dbl> & <dbl> & <dbl> & <dbl> & <dbl> & <dbl> & <dbl> & <dbl>\\\\\n",
       "\\hline\n",
       "\t Older   & DV & 10 &  5 & 19 & 11 & 10.25 & 14.00 & 3.75 & 2.965 & 12.0 & 3.742 & 1.183 & 2.677\\\\\n",
       "\t Younger & DV & 10 & 15 & 22 & 20 & 17.25 & 21.75 & 4.50 & 2.965 & 19.3 & 2.669 & 0.844 & 1.909\\\\\n",
       "\\end{tabular}\n"
      ],
      "text/markdown": [
       "\n",
       "A tibble: 2 × 14\n",
       "\n",
       "| Group &lt;chr&gt; | variable &lt;fct&gt; | n &lt;dbl&gt; | min &lt;dbl&gt; | max &lt;dbl&gt; | median &lt;dbl&gt; | q1 &lt;dbl&gt; | q3 &lt;dbl&gt; | iqr &lt;dbl&gt; | mad &lt;dbl&gt; | mean &lt;dbl&gt; | sd &lt;dbl&gt; | se &lt;dbl&gt; | ci &lt;dbl&gt; |\n",
       "|---|---|---|---|---|---|---|---|---|---|---|---|---|---|\n",
       "| Older   | DV | 10 |  5 | 19 | 11 | 10.25 | 14.00 | 3.75 | 2.965 | 12.0 | 3.742 | 1.183 | 2.677 |\n",
       "| Younger | DV | 10 | 15 | 22 | 20 | 17.25 | 21.75 | 4.50 | 2.965 | 19.3 | 2.669 | 0.844 | 1.909 |\n",
       "\n"
      ],
      "text/plain": [
       "  Group   variable n  min max median q1    q3    iqr  mad   mean sd    se   \n",
       "1 Older   DV       10  5  19  11     10.25 14.00 3.75 2.965 12.0 3.742 1.183\n",
       "2 Younger DV       10 15  22  20     17.25 21.75 4.50 2.965 19.3 2.669 0.844\n",
       "  ci   \n",
       "1 2.677\n",
       "2 1.909"
      ]
     },
     "metadata": {},
     "output_type": "display_data"
    }
   ],
   "source": [
    "data_y_o %>% group_by(Group) %>% get_summary_stats(DV)"
   ]
  },
  {
   "cell_type": "code",
   "execution_count": 31,
   "metadata": {},
   "outputs": [
    {
     "data": {
      "image/png": "[encoded data removed]",
      "text/plain": [
       "plot without title"
      ]
     },
     "metadata": {
      "image/png": {
       "height": 420,
       "width": 420
      }
     },
     "output_type": "display_data"
    }
   ],
   "source": [
    "ggboxplot(data_y_o, x=\"Group\", y=\"DV\", color=\"Group\",add=\"point\")"
   ]
  },
  {
   "cell_type": "code",
   "execution_count": 32,
   "metadata": {},
   "outputs": [
    {
     "data": {
      "text/html": [
       "<table class=\"dataframe\">\n",
       "<caption>A data.frame: 0 × 4</caption>\n",
       "<thead>\n",
       "\t<tr><th scope=col>Group</th><th scope=col>DV</th><th scope=col>is.outlier</th><th scope=col>is.extreme</th></tr>\n",
       "\t<tr><th scope=col>&lt;chr&gt;</th><th scope=col>&lt;int&gt;</th><th scope=col>&lt;lgl&gt;</th><th scope=col>&lt;lgl&gt;</th></tr>\n",
       "</thead>\n",
       "<tbody>\n",
       "</tbody>\n",
       "</table>\n"
      ],
      "text/latex": [
       "A data.frame: 0 × 4\n",
       "\\begin{tabular}{llll}\n",
       " Group & DV & is.outlier & is.extreme\\\\\n",
       " <chr> & <int> & <lgl> & <lgl>\\\\\n",
       "\\hline\n",
       "\\end{tabular}\n"
      ],
      "text/markdown": [
       "\n",
       "A data.frame: 0 × 4\n",
       "\n",
       "| Group &lt;chr&gt; | DV &lt;int&gt; | is.outlier &lt;lgl&gt; | is.extreme &lt;lgl&gt; |\n",
       "|---|---|---|---|\n",
       "\n"
      ],
      "text/plain": [
       "     Group DV is.outlier is.extreme"
      ]
     },
     "metadata": {},
     "output_type": "display_data"
    }
   ],
   "source": [
    "data_y_o %>% group_by(Group) %>% identify_outliers(DV)"
   ]
  },
  {
   "cell_type": "markdown",
   "metadata": {},
   "source": [
    "از ان جایی که آوتلایر بسیار پرتی نداریم موردی را حذف نمی کنیم"
   ]
  },
  {
   "cell_type": "code",
   "execution_count": 33,
   "metadata": {},
   "outputs": [
    {
     "data": {
      "image/png": "[encoded data removed]",
      "text/plain": [
       "plot without title"
      ]
     },
     "metadata": {
      "image/png": {
       "height": 420,
       "width": 420
      }
     },
     "output_type": "display_data"
    }
   ],
   "source": [
    "ggqqplot(data_y_o,\"DV\")"
   ]
  },
  {
   "cell_type": "code",
   "execution_count": 35,
   "metadata": {
    "scrolled": false
   },
   "outputs": [
    {
     "data": {
      "image/png": "[encoded data removed]",
      "text/plain": [
       "plot without title"
      ]
     },
     "metadata": {
      "image/png": {
       "height": 420,
       "width": 420
      }
     },
     "output_type": "display_data"
    }
   ],
   "source": [
    "ggqqplot(data_y_o, \"DV\",facet.by=\"Group\")"
   ]
  },
  {
   "cell_type": "code",
   "execution_count": 36,
   "metadata": {},
   "outputs": [
    {
     "data": {
      "text/html": [
       "<table class=\"dataframe\">\n",
       "<caption>A tibble: 2 × 4</caption>\n",
       "<thead>\n",
       "\t<tr><th scope=col>Group</th><th scope=col>variable</th><th scope=col>statistic</th><th scope=col>p</th></tr>\n",
       "\t<tr><th scope=col>&lt;chr&gt;</th><th scope=col>&lt;chr&gt;</th><th scope=col>&lt;dbl&gt;</th><th scope=col>&lt;dbl&gt;</th></tr>\n",
       "</thead>\n",
       "<tbody>\n",
       "\t<tr><td>Older  </td><td>DV</td><td>0.9433906</td><td>0.5913198</td></tr>\n",
       "\t<tr><td>Younger</td><td>DV</td><td>0.8799043</td><td>0.1301639</td></tr>\n",
       "</tbody>\n",
       "</table>\n"
      ],
      "text/latex": [
       "A tibble: 2 × 4\n",
       "\\begin{tabular}{llll}\n",
       " Group & variable & statistic & p\\\\\n",
       " <chr> & <chr> & <dbl> & <dbl>\\\\\n",
       "\\hline\n",
       "\t Older   & DV & 0.9433906 & 0.5913198\\\\\n",
       "\t Younger & DV & 0.8799043 & 0.1301639\\\\\n",
       "\\end{tabular}\n"
      ],
      "text/markdown": [
       "\n",
       "A tibble: 2 × 4\n",
       "\n",
       "| Group &lt;chr&gt; | variable &lt;chr&gt; | statistic &lt;dbl&gt; | p &lt;dbl&gt; |\n",
       "|---|---|---|---|\n",
       "| Older   | DV | 0.9433906 | 0.5913198 |\n",
       "| Younger | DV | 0.8799043 | 0.1301639 |\n",
       "\n"
      ],
      "text/plain": [
       "  Group   variable statistic p        \n",
       "1 Older   DV       0.9433906 0.5913198\n",
       "2 Younger DV       0.8799043 0.1301639"
      ]
     },
     "metadata": {},
     "output_type": "display_data"
    }
   ],
   "source": [
    "data_y_o %>% group_by(Group) %>% shapiro_test(DV)"
   ]
  },
  {
   "cell_type": "markdown",
   "metadata": {},
   "source": [
    "شرط نرمالیتی برقرار است"
   ]
  },
  {
   "cell_type": "code",
   "execution_count": 37,
   "metadata": {},
   "outputs": [
    {
     "name": "stderr",
     "output_type": "stream",
     "text": [
      "Warning message in leveneTest.default(y = y, group = group, ...):\n",
      "\"group coerced to factor.\"\n"
     ]
    },
    {
     "data": {
      "text/html": [
       "<table class=\"dataframe\">\n",
       "<caption>A tibble: 1 × 4</caption>\n",
       "<thead>\n",
       "\t<tr><th scope=col>df1</th><th scope=col>df2</th><th scope=col>statistic</th><th scope=col>p</th></tr>\n",
       "\t<tr><th scope=col>&lt;int&gt;</th><th scope=col>&lt;int&gt;</th><th scope=col>&lt;dbl&gt;</th><th scope=col>&lt;dbl&gt;</th></tr>\n",
       "</thead>\n",
       "<tbody>\n",
       "\t<tr><td>1</td><td>18</td><td>0.09585799</td><td>0.7604136</td></tr>\n",
       "</tbody>\n",
       "</table>\n"
      ],
      "text/latex": [
       "A tibble: 1 × 4\n",
       "\\begin{tabular}{llll}\n",
       " df1 & df2 & statistic & p\\\\\n",
       " <int> & <int> & <dbl> & <dbl>\\\\\n",
       "\\hline\n",
       "\t 1 & 18 & 0.09585799 & 0.7604136\\\\\n",
       "\\end{tabular}\n"
      ],
      "text/markdown": [
       "\n",
       "A tibble: 1 × 4\n",
       "\n",
       "| df1 &lt;int&gt; | df2 &lt;int&gt; | statistic &lt;dbl&gt; | p &lt;dbl&gt; |\n",
       "|---|---|---|---|\n",
       "| 1 | 18 | 0.09585799 | 0.7604136 |\n",
       "\n"
      ],
      "text/plain": [
       "  df1 df2 statistic  p        \n",
       "1 1   18  0.09585799 0.7604136"
      ]
     },
     "metadata": {},
     "output_type": "display_data"
    }
   ],
   "source": [
    "data_y_o %>% levene_test(DV ~ Group)"
   ]
  },
  {
   "cell_type": "markdown",
   "metadata": {},
   "source": [
    "فرض همگنی واریانس ها برقرار است"
   ]
  },
  {
   "cell_type": "code",
   "execution_count": 47,
   "metadata": {
    "scrolled": true
   },
   "outputs": [
    {
     "data": {
      "text/html": [
       "<table class=\"dataframe\">\n",
       "<caption>A anova_test: 1 × 7</caption>\n",
       "<thead>\n",
       "\t<tr><th></th><th scope=col>Effect</th><th scope=col>DFn</th><th scope=col>DFd</th><th scope=col>F</th><th scope=col>p</th><th scope=col>p&lt;.05</th><th scope=col>ges</th></tr>\n",
       "\t<tr><th></th><th scope=col>&lt;chr&gt;</th><th scope=col>&lt;dbl&gt;</th><th scope=col>&lt;dbl&gt;</th><th scope=col>&lt;dbl&gt;</th><th scope=col>&lt;dbl&gt;</th><th scope=col>&lt;chr&gt;</th><th scope=col>&lt;dbl&gt;</th></tr>\n",
       "</thead>\n",
       "<tbody>\n",
       "\t<tr><th scope=row>1</th><td>Group</td><td>1</td><td>18</td><td>25.229</td><td>8.84e-05</td><td>*</td><td>0.584</td></tr>\n",
       "</tbody>\n",
       "</table>\n"
      ],
      "text/latex": [
       "A anova\\_test: 1 × 7\n",
       "\\begin{tabular}{r|lllllll}\n",
       "  & Effect & DFn & DFd & F & p & p<.05 & ges\\\\\n",
       "  & <chr> & <dbl> & <dbl> & <dbl> & <dbl> & <chr> & <dbl>\\\\\n",
       "\\hline\n",
       "\t1 & Group & 1 & 18 & 25.229 & 8.84e-05 & * & 0.584\\\\\n",
       "\\end{tabular}\n"
      ],
      "text/markdown": [
       "\n",
       "A anova_test: 1 × 7\n",
       "\n",
       "| <!--/--> | Effect &lt;chr&gt; | DFn &lt;dbl&gt; | DFd &lt;dbl&gt; | F &lt;dbl&gt; | p &lt;dbl&gt; | p&lt;.05 &lt;chr&gt; | ges &lt;dbl&gt; |\n",
       "|---|---|---|---|---|---|---|---|\n",
       "| 1 | Group | 1 | 18 | 25.229 | 8.84e-05 | * | 0.584 |\n",
       "\n"
      ],
      "text/plain": [
       "  Effect DFn DFd F      p        p<.05 ges  \n",
       "1 Group  1   18  25.229 8.84e-05 *     0.584"
      ]
     },
     "metadata": {},
     "output_type": "display_data"
    }
   ],
   "source": [
    "data_y_o %>% anova_test(DV ~ Group)"
   ]
  },
  {
   "cell_type": "markdown",
   "metadata": {},
   "source": [
    "مقدارپی کوچک نشان دهنده رد فرض صفر و وجود تفاوت بین دو گروه جوان و پیر است"
   ]
  },
  {
   "cell_type": "code",
   "execution_count": 48,
   "metadata": {},
   "outputs": [
    {
     "data": {
      "text/html": [
       "<table class=\"dataframe\">\n",
       "<caption>A rstatix_test: 1 × 9</caption>\n",
       "<thead>\n",
       "\t<tr><th></th><th scope=col>term</th><th scope=col>group1</th><th scope=col>group2</th><th scope=col>null.value</th><th scope=col>estimate</th><th scope=col>conf.low</th><th scope=col>conf.high</th><th scope=col>p.adj</th><th scope=col>p.adj.signif</th></tr>\n",
       "\t<tr><th></th><th scope=col>&lt;chr&gt;</th><th scope=col>&lt;chr&gt;</th><th scope=col>&lt;chr&gt;</th><th scope=col>&lt;dbl&gt;</th><th scope=col>&lt;dbl&gt;</th><th scope=col>&lt;dbl&gt;</th><th scope=col>&lt;dbl&gt;</th><th scope=col>&lt;dbl&gt;</th><th scope=col>&lt;chr&gt;</th></tr>\n",
       "</thead>\n",
       "<tbody>\n",
       "\t<tr><th scope=row>1</th><td>Group</td><td>Older</td><td>Younger</td><td>0</td><td>7.3</td><td>4.246628</td><td>10.35337</td><td>8.84e-05</td><td>****</td></tr>\n",
       "</tbody>\n",
       "</table>\n"
      ],
      "text/latex": [
       "A rstatix\\_test: 1 × 9\n",
       "\\begin{tabular}{r|lllllllll}\n",
       "  & term & group1 & group2 & null.value & estimate & conf.low & conf.high & p.adj & p.adj.signif\\\\\n",
       "  & <chr> & <chr> & <chr> & <dbl> & <dbl> & <dbl> & <dbl> & <dbl> & <chr>\\\\\n",
       "\\hline\n",
       "\t1 & Group & Older & Younger & 0 & 7.3 & 4.246628 & 10.35337 & 8.84e-05 & ****\\\\\n",
       "\\end{tabular}\n"
      ],
      "text/markdown": [
       "\n",
       "A rstatix_test: 1 × 9\n",
       "\n",
       "| <!--/--> | term &lt;chr&gt; | group1 &lt;chr&gt; | group2 &lt;chr&gt; | null.value &lt;dbl&gt; | estimate &lt;dbl&gt; | conf.low &lt;dbl&gt; | conf.high &lt;dbl&gt; | p.adj &lt;dbl&gt; | p.adj.signif &lt;chr&gt; |\n",
       "|---|---|---|---|---|---|---|---|---|---|\n",
       "| 1 | Group | Older | Younger | 0 | 7.3 | 4.246628 | 10.35337 | 8.84e-05 | **** |\n",
       "\n"
      ],
      "text/plain": [
       "  term  group1 group2  null.value estimate conf.low conf.high p.adj   \n",
       "1 Group Older  Younger 0          7.3      4.246628 10.35337  8.84e-05\n",
       "  p.adj.signif\n",
       "1 ****        "
      ]
     },
     "metadata": {},
     "output_type": "display_data"
    }
   ],
   "source": [
    "data_y_o %>% tukey_hsd(DV ~ Group)"
   ]
  },
  {
   "cell_type": "code",
   "execution_count": 49,
   "metadata": {},
   "outputs": [
    {
     "data": {
      "text/html": [
       "<table class=\"dataframe\">\n",
       "<caption>A rstatix_test: 1 × 8</caption>\n",
       "<thead>\n",
       "\t<tr><th></th><th scope=col>.y.</th><th scope=col>group1</th><th scope=col>group2</th><th scope=col>n1</th><th scope=col>n2</th><th scope=col>statistic</th><th scope=col>df</th><th scope=col>p</th></tr>\n",
       "\t<tr><th></th><th scope=col>&lt;chr&gt;</th><th scope=col>&lt;chr&gt;</th><th scope=col>&lt;chr&gt;</th><th scope=col>&lt;int&gt;</th><th scope=col>&lt;int&gt;</th><th scope=col>&lt;dbl&gt;</th><th scope=col>&lt;dbl&gt;</th><th scope=col>&lt;dbl&gt;</th></tr>\n",
       "</thead>\n",
       "<tbody>\n",
       "\t<tr><th scope=row>1</th><td>DV</td><td>Older</td><td>Younger</td><td>10</td><td>10</td><td>-5.022883</td><td>16.27446</td><td>0.000119</td></tr>\n",
       "</tbody>\n",
       "</table>\n"
      ],
      "text/latex": [
       "A rstatix\\_test: 1 × 8\n",
       "\\begin{tabular}{r|llllllll}\n",
       "  & .y. & group1 & group2 & n1 & n2 & statistic & df & p\\\\\n",
       "  & <chr> & <chr> & <chr> & <int> & <int> & <dbl> & <dbl> & <dbl>\\\\\n",
       "\\hline\n",
       "\t1 & DV & Older & Younger & 10 & 10 & -5.022883 & 16.27446 & 0.000119\\\\\n",
       "\\end{tabular}\n"
      ],
      "text/markdown": [
       "\n",
       "A rstatix_test: 1 × 8\n",
       "\n",
       "| <!--/--> | .y. &lt;chr&gt; | group1 &lt;chr&gt; | group2 &lt;chr&gt; | n1 &lt;int&gt; | n2 &lt;int&gt; | statistic &lt;dbl&gt; | df &lt;dbl&gt; | p &lt;dbl&gt; |\n",
       "|---|---|---|---|---|---|---|---|---|\n",
       "| 1 | DV | Older | Younger | 10 | 10 | -5.022883 | 16.27446 | 0.000119 |\n",
       "\n"
      ],
      "text/plain": [
       "  .y. group1 group2  n1 n2 statistic df       p       \n",
       "1 DV  Older  Younger 10 10 -5.022883 16.27446 0.000119"
      ]
     },
     "metadata": {},
     "output_type": "display_data"
    }
   ],
   "source": [
    "data_y_o %>% t_test(DV ~ Group)"
   ]
  },
  {
   "cell_type": "markdown",
   "metadata": {},
   "source": [
    "تی تست هم از نتیجه آنوا حمایت می کند\n",
    "این نتایج حاکی از آن است که بین میانگین نمرات گروه «پیر» و «جوان» در یادآوری، تفاوت معناداری وجود دارد. آزمون آنوا و تی تست هر دو نشان میدهد که گروه «پیرها» در مقایسه با گروه «جوان» میانگین نمرات پایین تری دارند.\n",
    " آنوا یک ارزیابی کلی از تفاوت های گروهی ارائه می دهد، در حالی که آزمون تی مستقل به طور خاص بر مقایسه میانگین دو گروه تمرکز دارد. هر دو آزمون تفاوت معنی داری را بین گروه 'پیرتر' و 'جوانتر' نشان می دهد، اما آزمون تی اطلاعات دقیق تری در مورد میزان تفاوت ارائه می دهد."
   ]
  },
  {
   "cell_type": "markdown",
   "metadata": {},
   "source": [
    "## 4-C"
   ]
  },
  {
   "cell_type": "markdown",
   "metadata": {},
   "source": [
    "#### 1-Run an analysis of variance on these data."
   ]
  },
  {
   "cell_type": "code",
   "execution_count": 50,
   "metadata": {},
   "outputs": [
    {
     "data": {
      "text/html": [
       "<table class=\"dataframe\">\n",
       "<caption>A data.frame: 40 × 2</caption>\n",
       "<thead>\n",
       "\t<tr><th scope=col>Group</th><th scope=col>Recall</th></tr>\n",
       "\t<tr><th scope=col>&lt;int&gt;</th><th scope=col>&lt;int&gt;</th></tr>\n",
       "</thead>\n",
       "<tbody>\n",
       "\t<tr><td>1</td><td> 8</td></tr>\n",
       "\t<tr><td>1</td><td> 6</td></tr>\n",
       "\t<tr><td>1</td><td> 4</td></tr>\n",
       "\t<tr><td>1</td><td> 6</td></tr>\n",
       "\t<tr><td>1</td><td> 7</td></tr>\n",
       "\t<tr><td>1</td><td> 6</td></tr>\n",
       "\t<tr><td>1</td><td> 5</td></tr>\n",
       "\t<tr><td>1</td><td> 7</td></tr>\n",
       "\t<tr><td>1</td><td> 9</td></tr>\n",
       "\t<tr><td>1</td><td> 7</td></tr>\n",
       "\t<tr><td>2</td><td>21</td></tr>\n",
       "\t<tr><td>2</td><td>19</td></tr>\n",
       "\t<tr><td>2</td><td>17</td></tr>\n",
       "\t<tr><td>2</td><td>15</td></tr>\n",
       "\t<tr><td>2</td><td>22</td></tr>\n",
       "\t<tr><td>2</td><td>16</td></tr>\n",
       "\t<tr><td>2</td><td>22</td></tr>\n",
       "\t<tr><td>2</td><td>22</td></tr>\n",
       "\t<tr><td>2</td><td>18</td></tr>\n",
       "\t<tr><td>2</td><td>21</td></tr>\n",
       "\t<tr><td>3</td><td> 9</td></tr>\n",
       "\t<tr><td>3</td><td> 8</td></tr>\n",
       "\t<tr><td>3</td><td> 6</td></tr>\n",
       "\t<tr><td>3</td><td> 8</td></tr>\n",
       "\t<tr><td>3</td><td>10</td></tr>\n",
       "\t<tr><td>3</td><td> 4</td></tr>\n",
       "\t<tr><td>3</td><td> 6</td></tr>\n",
       "\t<tr><td>3</td><td> 5</td></tr>\n",
       "\t<tr><td>3</td><td> 7</td></tr>\n",
       "\t<tr><td>3</td><td> 7</td></tr>\n",
       "\t<tr><td>4</td><td>10</td></tr>\n",
       "\t<tr><td>4</td><td>19</td></tr>\n",
       "\t<tr><td>4</td><td>14</td></tr>\n",
       "\t<tr><td>4</td><td> 5</td></tr>\n",
       "\t<tr><td>4</td><td>10</td></tr>\n",
       "\t<tr><td>4</td><td>11</td></tr>\n",
       "\t<tr><td>4</td><td>14</td></tr>\n",
       "\t<tr><td>4</td><td>15</td></tr>\n",
       "\t<tr><td>4</td><td>11</td></tr>\n",
       "\t<tr><td>4</td><td>11</td></tr>\n",
       "</tbody>\n",
       "</table>\n"
      ],
      "text/latex": [
       "A data.frame: 40 × 2\n",
       "\\begin{tabular}{ll}\n",
       " Group & Recall\\\\\n",
       " <int> & <int>\\\\\n",
       "\\hline\n",
       "\t 1 &  8\\\\\n",
       "\t 1 &  6\\\\\n",
       "\t 1 &  4\\\\\n",
       "\t 1 &  6\\\\\n",
       "\t 1 &  7\\\\\n",
       "\t 1 &  6\\\\\n",
       "\t 1 &  5\\\\\n",
       "\t 1 &  7\\\\\n",
       "\t 1 &  9\\\\\n",
       "\t 1 &  7\\\\\n",
       "\t 2 & 21\\\\\n",
       "\t 2 & 19\\\\\n",
       "\t 2 & 17\\\\\n",
       "\t 2 & 15\\\\\n",
       "\t 2 & 22\\\\\n",
       "\t 2 & 16\\\\\n",
       "\t 2 & 22\\\\\n",
       "\t 2 & 22\\\\\n",
       "\t 2 & 18\\\\\n",
       "\t 2 & 21\\\\\n",
       "\t 3 &  9\\\\\n",
       "\t 3 &  8\\\\\n",
       "\t 3 &  6\\\\\n",
       "\t 3 &  8\\\\\n",
       "\t 3 & 10\\\\\n",
       "\t 3 &  4\\\\\n",
       "\t 3 &  6\\\\\n",
       "\t 3 &  5\\\\\n",
       "\t 3 &  7\\\\\n",
       "\t 3 &  7\\\\\n",
       "\t 4 & 10\\\\\n",
       "\t 4 & 19\\\\\n",
       "\t 4 & 14\\\\\n",
       "\t 4 &  5\\\\\n",
       "\t 4 & 10\\\\\n",
       "\t 4 & 11\\\\\n",
       "\t 4 & 14\\\\\n",
       "\t 4 & 15\\\\\n",
       "\t 4 & 11\\\\\n",
       "\t 4 & 11\\\\\n",
       "\\end{tabular}\n"
      ],
      "text/markdown": [
       "\n",
       "A data.frame: 40 × 2\n",
       "\n",
       "| Group &lt;int&gt; | Recall &lt;int&gt; |\n",
       "|---|---|\n",
       "| 1 |  8 |\n",
       "| 1 |  6 |\n",
       "| 1 |  4 |\n",
       "| 1 |  6 |\n",
       "| 1 |  7 |\n",
       "| 1 |  6 |\n",
       "| 1 |  5 |\n",
       "| 1 |  7 |\n",
       "| 1 |  9 |\n",
       "| 1 |  7 |\n",
       "| 2 | 21 |\n",
       "| 2 | 19 |\n",
       "| 2 | 17 |\n",
       "| 2 | 15 |\n",
       "| 2 | 22 |\n",
       "| 2 | 16 |\n",
       "| 2 | 22 |\n",
       "| 2 | 22 |\n",
       "| 2 | 18 |\n",
       "| 2 | 21 |\n",
       "| 3 |  9 |\n",
       "| 3 |  8 |\n",
       "| 3 |  6 |\n",
       "| 3 |  8 |\n",
       "| 3 | 10 |\n",
       "| 3 |  4 |\n",
       "| 3 |  6 |\n",
       "| 3 |  5 |\n",
       "| 3 |  7 |\n",
       "| 3 |  7 |\n",
       "| 4 | 10 |\n",
       "| 4 | 19 |\n",
       "| 4 | 14 |\n",
       "| 4 |  5 |\n",
       "| 4 | 10 |\n",
       "| 4 | 11 |\n",
       "| 4 | 14 |\n",
       "| 4 | 15 |\n",
       "| 4 | 11 |\n",
       "| 4 | 11 |\n",
       "\n"
      ],
      "text/plain": [
       "   Group Recall\n",
       "1  1      8    \n",
       "2  1      6    \n",
       "3  1      4    \n",
       "4  1      6    \n",
       "5  1      7    \n",
       "6  1      6    \n",
       "7  1      5    \n",
       "8  1      7    \n",
       "9  1      9    \n",
       "10 1      7    \n",
       "11 2     21    \n",
       "12 2     19    \n",
       "13 2     17    \n",
       "14 2     15    \n",
       "15 2     22    \n",
       "16 2     16    \n",
       "17 2     22    \n",
       "18 2     22    \n",
       "19 2     18    \n",
       "20 2     21    \n",
       "21 3      9    \n",
       "22 3      8    \n",
       "23 3      6    \n",
       "24 3      8    \n",
       "25 3     10    \n",
       "26 3      4    \n",
       "27 3      6    \n",
       "28 3      5    \n",
       "29 3      7    \n",
       "30 3      7    \n",
       "31 4     10    \n",
       "32 4     19    \n",
       "33 4     14    \n",
       "34 4      5    \n",
       "35 4     10    \n",
       "36 4     11    \n",
       "37 4     14    \n",
       "38 4     15    \n",
       "39 4     11    \n",
       "40 4     11    "
      ]
     },
     "metadata": {},
     "output_type": "display_data"
    }
   ],
   "source": [
    "#Load The data\n",
    "data_4g = read.table('project_4_C.dat', header = TRUE)\n",
    "data_4g"
   ]
  },
  {
   "cell_type": "code",
   "execution_count": 51,
   "metadata": {},
   "outputs": [
    {
     "data": {
      "text/html": [
       "<table class=\"dataframe\">\n",
       "<caption>A data.frame: 40 × 2</caption>\n",
       "<thead>\n",
       "\t<tr><th scope=col>Group</th><th scope=col>Recall</th></tr>\n",
       "\t<tr><th scope=col>&lt;chr&gt;</th><th scope=col>&lt;int&gt;</th></tr>\n",
       "</thead>\n",
       "<tbody>\n",
       "\t<tr><td>Younger/Low </td><td> 8</td></tr>\n",
       "\t<tr><td>Younger/Low </td><td> 6</td></tr>\n",
       "\t<tr><td>Younger/Low </td><td> 4</td></tr>\n",
       "\t<tr><td>Younger/Low </td><td> 6</td></tr>\n",
       "\t<tr><td>Younger/Low </td><td> 7</td></tr>\n",
       "\t<tr><td>Younger/Low </td><td> 6</td></tr>\n",
       "\t<tr><td>Younger/Low </td><td> 5</td></tr>\n",
       "\t<tr><td>Younger/Low </td><td> 7</td></tr>\n",
       "\t<tr><td>Younger/Low </td><td> 9</td></tr>\n",
       "\t<tr><td>Younger/Low </td><td> 7</td></tr>\n",
       "\t<tr><td>Younger/High</td><td>21</td></tr>\n",
       "\t<tr><td>Younger/High</td><td>19</td></tr>\n",
       "\t<tr><td>Younger/High</td><td>17</td></tr>\n",
       "\t<tr><td>Younger/High</td><td>15</td></tr>\n",
       "\t<tr><td>Younger/High</td><td>22</td></tr>\n",
       "\t<tr><td>Younger/High</td><td>16</td></tr>\n",
       "\t<tr><td>Younger/High</td><td>22</td></tr>\n",
       "\t<tr><td>Younger/High</td><td>22</td></tr>\n",
       "\t<tr><td>Younger/High</td><td>18</td></tr>\n",
       "\t<tr><td>Younger/High</td><td>21</td></tr>\n",
       "\t<tr><td>Older/Low   </td><td> 9</td></tr>\n",
       "\t<tr><td>Older/Low   </td><td> 8</td></tr>\n",
       "\t<tr><td>Older/Low   </td><td> 6</td></tr>\n",
       "\t<tr><td>Older/Low   </td><td> 8</td></tr>\n",
       "\t<tr><td>Older/Low   </td><td>10</td></tr>\n",
       "\t<tr><td>Older/Low   </td><td> 4</td></tr>\n",
       "\t<tr><td>Older/Low   </td><td> 6</td></tr>\n",
       "\t<tr><td>Older/Low   </td><td> 5</td></tr>\n",
       "\t<tr><td>Older/Low   </td><td> 7</td></tr>\n",
       "\t<tr><td>Older/Low   </td><td> 7</td></tr>\n",
       "\t<tr><td>Older/High  </td><td>10</td></tr>\n",
       "\t<tr><td>Older/High  </td><td>19</td></tr>\n",
       "\t<tr><td>Older/High  </td><td>14</td></tr>\n",
       "\t<tr><td>Older/High  </td><td> 5</td></tr>\n",
       "\t<tr><td>Older/High  </td><td>10</td></tr>\n",
       "\t<tr><td>Older/High  </td><td>11</td></tr>\n",
       "\t<tr><td>Older/High  </td><td>14</td></tr>\n",
       "\t<tr><td>Older/High  </td><td>15</td></tr>\n",
       "\t<tr><td>Older/High  </td><td>11</td></tr>\n",
       "\t<tr><td>Older/High  </td><td>11</td></tr>\n",
       "</tbody>\n",
       "</table>\n"
      ],
      "text/latex": [
       "A data.frame: 40 × 2\n",
       "\\begin{tabular}{ll}\n",
       " Group & Recall\\\\\n",
       " <chr> & <int>\\\\\n",
       "\\hline\n",
       "\t Younger/Low  &  8\\\\\n",
       "\t Younger/Low  &  6\\\\\n",
       "\t Younger/Low  &  4\\\\\n",
       "\t Younger/Low  &  6\\\\\n",
       "\t Younger/Low  &  7\\\\\n",
       "\t Younger/Low  &  6\\\\\n",
       "\t Younger/Low  &  5\\\\\n",
       "\t Younger/Low  &  7\\\\\n",
       "\t Younger/Low  &  9\\\\\n",
       "\t Younger/Low  &  7\\\\\n",
       "\t Younger/High & 21\\\\\n",
       "\t Younger/High & 19\\\\\n",
       "\t Younger/High & 17\\\\\n",
       "\t Younger/High & 15\\\\\n",
       "\t Younger/High & 22\\\\\n",
       "\t Younger/High & 16\\\\\n",
       "\t Younger/High & 22\\\\\n",
       "\t Younger/High & 22\\\\\n",
       "\t Younger/High & 18\\\\\n",
       "\t Younger/High & 21\\\\\n",
       "\t Older/Low    &  9\\\\\n",
       "\t Older/Low    &  8\\\\\n",
       "\t Older/Low    &  6\\\\\n",
       "\t Older/Low    &  8\\\\\n",
       "\t Older/Low    & 10\\\\\n",
       "\t Older/Low    &  4\\\\\n",
       "\t Older/Low    &  6\\\\\n",
       "\t Older/Low    &  5\\\\\n",
       "\t Older/Low    &  7\\\\\n",
       "\t Older/Low    &  7\\\\\n",
       "\t Older/High   & 10\\\\\n",
       "\t Older/High   & 19\\\\\n",
       "\t Older/High   & 14\\\\\n",
       "\t Older/High   &  5\\\\\n",
       "\t Older/High   & 10\\\\\n",
       "\t Older/High   & 11\\\\\n",
       "\t Older/High   & 14\\\\\n",
       "\t Older/High   & 15\\\\\n",
       "\t Older/High   & 11\\\\\n",
       "\t Older/High   & 11\\\\\n",
       "\\end{tabular}\n"
      ],
      "text/markdown": [
       "\n",
       "A data.frame: 40 × 2\n",
       "\n",
       "| Group &lt;chr&gt; | Recall &lt;int&gt; |\n",
       "|---|---|\n",
       "| Younger/Low  |  8 |\n",
       "| Younger/Low  |  6 |\n",
       "| Younger/Low  |  4 |\n",
       "| Younger/Low  |  6 |\n",
       "| Younger/Low  |  7 |\n",
       "| Younger/Low  |  6 |\n",
       "| Younger/Low  |  5 |\n",
       "| Younger/Low  |  7 |\n",
       "| Younger/Low  |  9 |\n",
       "| Younger/Low  |  7 |\n",
       "| Younger/High | 21 |\n",
       "| Younger/High | 19 |\n",
       "| Younger/High | 17 |\n",
       "| Younger/High | 15 |\n",
       "| Younger/High | 22 |\n",
       "| Younger/High | 16 |\n",
       "| Younger/High | 22 |\n",
       "| Younger/High | 22 |\n",
       "| Younger/High | 18 |\n",
       "| Younger/High | 21 |\n",
       "| Older/Low    |  9 |\n",
       "| Older/Low    |  8 |\n",
       "| Older/Low    |  6 |\n",
       "| Older/Low    |  8 |\n",
       "| Older/Low    | 10 |\n",
       "| Older/Low    |  4 |\n",
       "| Older/Low    |  6 |\n",
       "| Older/Low    |  5 |\n",
       "| Older/Low    |  7 |\n",
       "| Older/Low    |  7 |\n",
       "| Older/High   | 10 |\n",
       "| Older/High   | 19 |\n",
       "| Older/High   | 14 |\n",
       "| Older/High   |  5 |\n",
       "| Older/High   | 10 |\n",
       "| Older/High   | 11 |\n",
       "| Older/High   | 14 |\n",
       "| Older/High   | 15 |\n",
       "| Older/High   | 11 |\n",
       "| Older/High   | 11 |\n",
       "\n"
      ],
      "text/plain": [
       "   Group        Recall\n",
       "1  Younger/Low   8    \n",
       "2  Younger/Low   6    \n",
       "3  Younger/Low   4    \n",
       "4  Younger/Low   6    \n",
       "5  Younger/Low   7    \n",
       "6  Younger/Low   6    \n",
       "7  Younger/Low   5    \n",
       "8  Younger/Low   7    \n",
       "9  Younger/Low   9    \n",
       "10 Younger/Low   7    \n",
       "11 Younger/High 21    \n",
       "12 Younger/High 19    \n",
       "13 Younger/High 17    \n",
       "14 Younger/High 15    \n",
       "15 Younger/High 22    \n",
       "16 Younger/High 16    \n",
       "17 Younger/High 22    \n",
       "18 Younger/High 22    \n",
       "19 Younger/High 18    \n",
       "20 Younger/High 21    \n",
       "21 Older/Low     9    \n",
       "22 Older/Low     8    \n",
       "23 Older/Low     6    \n",
       "24 Older/Low     8    \n",
       "25 Older/Low    10    \n",
       "26 Older/Low     4    \n",
       "27 Older/Low     6    \n",
       "28 Older/Low     5    \n",
       "29 Older/Low     7    \n",
       "30 Older/Low     7    \n",
       "31 Older/High   10    \n",
       "32 Older/High   19    \n",
       "33 Older/High   14    \n",
       "34 Older/High    5    \n",
       "35 Older/High   10    \n",
       "36 Older/High   11    \n",
       "37 Older/High   14    \n",
       "38 Older/High   15    \n",
       "39 Older/High   11    \n",
       "40 Older/High   11    "
      ]
     },
     "metadata": {},
     "output_type": "display_data"
    }
   ],
   "source": [
    "#rename the group lables\n",
    "data_4g$Group <- str_replace(data_4g$Group, \"1\", \"Younger/Low\")\n",
    "data_4g$Group <- str_replace(data_4g$Group, \"2\", \"Younger/High\")\n",
    "data_4g$Group <- str_replace(data_4g$Group, \"3\", \"Older/Low\")\n",
    "data_4g$Group <- str_replace(data_4g$Group, \"4\", \"Older/High\")\n",
    "data_4g"
   ]
  },
  {
   "cell_type": "code",
   "execution_count": 52,
   "metadata": {},
   "outputs": [
    {
     "data": {
      "text/html": [
       "<table class=\"dataframe\">\n",
       "<caption>A tibble: 4 × 14</caption>\n",
       "<thead>\n",
       "\t<tr><th scope=col>Group</th><th scope=col>variable</th><th scope=col>n</th><th scope=col>min</th><th scope=col>max</th><th scope=col>median</th><th scope=col>q1</th><th scope=col>q3</th><th scope=col>iqr</th><th scope=col>mad</th><th scope=col>mean</th><th scope=col>sd</th><th scope=col>se</th><th scope=col>ci</th></tr>\n",
       "\t<tr><th scope=col>&lt;chr&gt;</th><th scope=col>&lt;fct&gt;</th><th scope=col>&lt;dbl&gt;</th><th scope=col>&lt;dbl&gt;</th><th scope=col>&lt;dbl&gt;</th><th scope=col>&lt;dbl&gt;</th><th scope=col>&lt;dbl&gt;</th><th scope=col>&lt;dbl&gt;</th><th scope=col>&lt;dbl&gt;</th><th scope=col>&lt;dbl&gt;</th><th scope=col>&lt;dbl&gt;</th><th scope=col>&lt;dbl&gt;</th><th scope=col>&lt;dbl&gt;</th><th scope=col>&lt;dbl&gt;</th></tr>\n",
       "</thead>\n",
       "<tbody>\n",
       "\t<tr><td>Older/High  </td><td>Recall</td><td>10</td><td> 5</td><td>19</td><td>11.0</td><td>10.25</td><td>14.00</td><td>3.75</td><td>2.965</td><td>12.0</td><td>3.742</td><td>1.183</td><td>2.677</td></tr>\n",
       "\t<tr><td>Older/Low   </td><td>Recall</td><td>10</td><td> 4</td><td>10</td><td> 7.0</td><td> 6.00</td><td> 8.00</td><td>2.00</td><td>1.483</td><td> 7.0</td><td>1.826</td><td>0.577</td><td>1.306</td></tr>\n",
       "\t<tr><td>Younger/High</td><td>Recall</td><td>10</td><td>15</td><td>22</td><td>20.0</td><td>17.25</td><td>21.75</td><td>4.50</td><td>2.965</td><td>19.3</td><td>2.669</td><td>0.844</td><td>1.909</td></tr>\n",
       "\t<tr><td>Younger/Low </td><td>Recall</td><td>10</td><td> 4</td><td> 9</td><td> 6.5</td><td> 6.00</td><td> 7.00</td><td>1.00</td><td>0.741</td><td> 6.5</td><td>1.434</td><td>0.453</td><td>1.026</td></tr>\n",
       "</tbody>\n",
       "</table>\n"
      ],
      "text/latex": [
       "A tibble: 4 × 14\n",
       "\\begin{tabular}{llllllllllllll}\n",
       " Group & variable & n & min & max & median & q1 & q3 & iqr & mad & mean & sd & se & ci\\\\\n",
       " <chr> & <fct> & <dbl> & <dbl> & <dbl> & <dbl> & <dbl> & <dbl> & <dbl> & <dbl> & <dbl> & <dbl> & <dbl> & <dbl>\\\\\n",
       "\\hline\n",
       "\t Older/High   & Recall & 10 &  5 & 19 & 11.0 & 10.25 & 14.00 & 3.75 & 2.965 & 12.0 & 3.742 & 1.183 & 2.677\\\\\n",
       "\t Older/Low    & Recall & 10 &  4 & 10 &  7.0 &  6.00 &  8.00 & 2.00 & 1.483 &  7.0 & 1.826 & 0.577 & 1.306\\\\\n",
       "\t Younger/High & Recall & 10 & 15 & 22 & 20.0 & 17.25 & 21.75 & 4.50 & 2.965 & 19.3 & 2.669 & 0.844 & 1.909\\\\\n",
       "\t Younger/Low  & Recall & 10 &  4 &  9 &  6.5 &  6.00 &  7.00 & 1.00 & 0.741 &  6.5 & 1.434 & 0.453 & 1.026\\\\\n",
       "\\end{tabular}\n"
      ],
      "text/markdown": [
       "\n",
       "A tibble: 4 × 14\n",
       "\n",
       "| Group &lt;chr&gt; | variable &lt;fct&gt; | n &lt;dbl&gt; | min &lt;dbl&gt; | max &lt;dbl&gt; | median &lt;dbl&gt; | q1 &lt;dbl&gt; | q3 &lt;dbl&gt; | iqr &lt;dbl&gt; | mad &lt;dbl&gt; | mean &lt;dbl&gt; | sd &lt;dbl&gt; | se &lt;dbl&gt; | ci &lt;dbl&gt; |\n",
       "|---|---|---|---|---|---|---|---|---|---|---|---|---|---|\n",
       "| Older/High   | Recall | 10 |  5 | 19 | 11.0 | 10.25 | 14.00 | 3.75 | 2.965 | 12.0 | 3.742 | 1.183 | 2.677 |\n",
       "| Older/Low    | Recall | 10 |  4 | 10 |  7.0 |  6.00 |  8.00 | 2.00 | 1.483 |  7.0 | 1.826 | 0.577 | 1.306 |\n",
       "| Younger/High | Recall | 10 | 15 | 22 | 20.0 | 17.25 | 21.75 | 4.50 | 2.965 | 19.3 | 2.669 | 0.844 | 1.909 |\n",
       "| Younger/Low  | Recall | 10 |  4 |  9 |  6.5 |  6.00 |  7.00 | 1.00 | 0.741 |  6.5 | 1.434 | 0.453 | 1.026 |\n",
       "\n"
      ],
      "text/plain": [
       "  Group        variable n  min max median q1    q3    iqr  mad   mean sd   \n",
       "1 Older/High   Recall   10  5  19  11.0   10.25 14.00 3.75 2.965 12.0 3.742\n",
       "2 Older/Low    Recall   10  4  10   7.0    6.00  8.00 2.00 1.483  7.0 1.826\n",
       "3 Younger/High Recall   10 15  22  20.0   17.25 21.75 4.50 2.965 19.3 2.669\n",
       "4 Younger/Low  Recall   10  4   9   6.5    6.00  7.00 1.00 0.741  6.5 1.434\n",
       "  se    ci   \n",
       "1 1.183 2.677\n",
       "2 0.577 1.306\n",
       "3 0.844 1.909\n",
       "4 0.453 1.026"
      ]
     },
     "metadata": {},
     "output_type": "display_data"
    }
   ],
   "source": [
    "data_4g %>% group_by(Group) %>% get_summary_stats(Recall)"
   ]
  },
  {
   "cell_type": "code",
   "execution_count": 53,
   "metadata": {},
   "outputs": [
    {
     "data": {
      "image/png": "[encoded data removed]",
      "text/plain": [
       "plot without title"
      ]
     },
     "metadata": {
      "image/png": {
       "height": 420,
       "width": 420
      }
     },
     "output_type": "display_data"
    }
   ],
   "source": [
    "ggboxplot(data_4g, x=\"Group\", y=\"Recall\", color=\"Group\",add=\"point\")"
   ]
  },
  {
   "cell_type": "code",
   "execution_count": 54,
   "metadata": {},
   "outputs": [
    {
     "data": {
      "text/html": [
       "<table class=\"dataframe\">\n",
       "<caption>A tibble: 2 × 4</caption>\n",
       "<thead>\n",
       "\t<tr><th scope=col>Group</th><th scope=col>Recall</th><th scope=col>is.outlier</th><th scope=col>is.extreme</th></tr>\n",
       "\t<tr><th scope=col>&lt;chr&gt;</th><th scope=col>&lt;int&gt;</th><th scope=col>&lt;lgl&gt;</th><th scope=col>&lt;lgl&gt;</th></tr>\n",
       "</thead>\n",
       "<tbody>\n",
       "\t<tr><td>Younger/Low</td><td>4</td><td>TRUE</td><td>FALSE</td></tr>\n",
       "\t<tr><td>Younger/Low</td><td>9</td><td>TRUE</td><td>FALSE</td></tr>\n",
       "</tbody>\n",
       "</table>\n"
      ],
      "text/latex": [
       "A tibble: 2 × 4\n",
       "\\begin{tabular}{llll}\n",
       " Group & Recall & is.outlier & is.extreme\\\\\n",
       " <chr> & <int> & <lgl> & <lgl>\\\\\n",
       "\\hline\n",
       "\t Younger/Low & 4 & TRUE & FALSE\\\\\n",
       "\t Younger/Low & 9 & TRUE & FALSE\\\\\n",
       "\\end{tabular}\n"
      ],
      "text/markdown": [
       "\n",
       "A tibble: 2 × 4\n",
       "\n",
       "| Group &lt;chr&gt; | Recall &lt;int&gt; | is.outlier &lt;lgl&gt; | is.extreme &lt;lgl&gt; |\n",
       "|---|---|---|---|\n",
       "| Younger/Low | 4 | TRUE | FALSE |\n",
       "| Younger/Low | 9 | TRUE | FALSE |\n",
       "\n"
      ],
      "text/plain": [
       "  Group       Recall is.outlier is.extreme\n",
       "1 Younger/Low 4      TRUE       FALSE     \n",
       "2 Younger/Low 9      TRUE       FALSE     "
      ]
     },
     "metadata": {},
     "output_type": "display_data"
    }
   ],
   "source": [
    "data_4g %>% group_by(Group) %>% identify_outliers(Recall)"
   ]
  },
  {
   "cell_type": "code",
   "execution_count": 55,
   "metadata": {},
   "outputs": [
    {
     "data": {
      "image/png": "[encoded data removed]",
      "text/plain": [
       "plot without title"
      ]
     },
     "metadata": {
      "image/png": {
       "height": 420,
       "width": 420
      }
     },
     "output_type": "display_data"
    }
   ],
   "source": [
    "ggqqplot(data_4g,\"Recall\")"
   ]
  },
  {
   "cell_type": "code",
   "execution_count": 56,
   "metadata": {},
   "outputs": [
    {
     "data": {
      "image/png": "[encoded data removed]",
      "text/plain": [
       "plot without title"
      ]
     },
     "metadata": {
      "image/png": {
       "height": 420,
       "width": 420
      }
     },
     "output_type": "display_data"
    }
   ],
   "source": [
    "ggqqplot(data_4g, \"Recall\",facet.by=\"Group\")"
   ]
  },
  {
   "cell_type": "code",
   "execution_count": 57,
   "metadata": {},
   "outputs": [
    {
     "data": {
      "text/html": [
       "<table class=\"dataframe\">\n",
       "<caption>A tibble: 4 × 4</caption>\n",
       "<thead>\n",
       "\t<tr><th scope=col>Group</th><th scope=col>variable</th><th scope=col>statistic</th><th scope=col>p</th></tr>\n",
       "\t<tr><th scope=col>&lt;chr&gt;</th><th scope=col>&lt;chr&gt;</th><th scope=col>&lt;dbl&gt;</th><th scope=col>&lt;dbl&gt;</th></tr>\n",
       "</thead>\n",
       "<tbody>\n",
       "\t<tr><td>Older/High  </td><td>Recall</td><td>0.9433906</td><td>0.5913198</td></tr>\n",
       "\t<tr><td>Older/Low   </td><td>Recall</td><td>0.9837163</td><td>0.9819299</td></tr>\n",
       "\t<tr><td>Younger/High</td><td>Recall</td><td>0.8799043</td><td>0.1301639</td></tr>\n",
       "\t<tr><td>Younger/Low </td><td>Recall</td><td>0.9684244</td><td>0.8758643</td></tr>\n",
       "</tbody>\n",
       "</table>\n"
      ],
      "text/latex": [
       "A tibble: 4 × 4\n",
       "\\begin{tabular}{llll}\n",
       " Group & variable & statistic & p\\\\\n",
       " <chr> & <chr> & <dbl> & <dbl>\\\\\n",
       "\\hline\n",
       "\t Older/High   & Recall & 0.9433906 & 0.5913198\\\\\n",
       "\t Older/Low    & Recall & 0.9837163 & 0.9819299\\\\\n",
       "\t Younger/High & Recall & 0.8799043 & 0.1301639\\\\\n",
       "\t Younger/Low  & Recall & 0.9684244 & 0.8758643\\\\\n",
       "\\end{tabular}\n"
      ],
      "text/markdown": [
       "\n",
       "A tibble: 4 × 4\n",
       "\n",
       "| Group &lt;chr&gt; | variable &lt;chr&gt; | statistic &lt;dbl&gt; | p &lt;dbl&gt; |\n",
       "|---|---|---|---|\n",
       "| Older/High   | Recall | 0.9433906 | 0.5913198 |\n",
       "| Older/Low    | Recall | 0.9837163 | 0.9819299 |\n",
       "| Younger/High | Recall | 0.8799043 | 0.1301639 |\n",
       "| Younger/Low  | Recall | 0.9684244 | 0.8758643 |\n",
       "\n"
      ],
      "text/plain": [
       "  Group        variable statistic p        \n",
       "1 Older/High   Recall   0.9433906 0.5913198\n",
       "2 Older/Low    Recall   0.9837163 0.9819299\n",
       "3 Younger/High Recall   0.8799043 0.1301639\n",
       "4 Younger/Low  Recall   0.9684244 0.8758643"
      ]
     },
     "metadata": {},
     "output_type": "display_data"
    }
   ],
   "source": [
    "data_4g %>% group_by(Group) %>% shapiro_test(Recall)"
   ]
  },
  {
   "cell_type": "markdown",
   "metadata": {},
   "source": [
    "فرض نرمالیتی برقرار است"
   ]
  },
  {
   "cell_type": "code",
   "execution_count": 105,
   "metadata": {},
   "outputs": [
    {
     "name": "stderr",
     "output_type": "stream",
     "text": [
      "Warning message in leveneTest.default(y = y, group = group, ...):\n",
      "\"group coerced to factor.\"\n"
     ]
    },
    {
     "data": {
      "text/html": [
       "<table class=\"dataframe\">\n",
       "<caption>A tibble: 1 × 4</caption>\n",
       "<thead>\n",
       "\t<tr><th scope=col>df1</th><th scope=col>df2</th><th scope=col>statistic</th><th scope=col>p</th></tr>\n",
       "\t<tr><th scope=col>&lt;int&gt;</th><th scope=col>&lt;int&gt;</th><th scope=col>&lt;dbl&gt;</th><th scope=col>&lt;dbl&gt;</th></tr>\n",
       "</thead>\n",
       "<tbody>\n",
       "\t<tr><td>3</td><td>36</td><td>1.812438</td><td>0.1623433</td></tr>\n",
       "</tbody>\n",
       "</table>\n"
      ],
      "text/latex": [
       "A tibble: 1 × 4\n",
       "\\begin{tabular}{llll}\n",
       " df1 & df2 & statistic & p\\\\\n",
       " <int> & <int> & <dbl> & <dbl>\\\\\n",
       "\\hline\n",
       "\t 3 & 36 & 1.812438 & 0.1623433\\\\\n",
       "\\end{tabular}\n"
      ],
      "text/markdown": [
       "\n",
       "A tibble: 1 × 4\n",
       "\n",
       "| df1 &lt;int&gt; | df2 &lt;int&gt; | statistic &lt;dbl&gt; | p &lt;dbl&gt; |\n",
       "|---|---|---|---|\n",
       "| 3 | 36 | 1.812438 | 0.1623433 |\n",
       "\n"
      ],
      "text/plain": [
       "  df1 df2 statistic p        \n",
       "1 3   36  1.812438  0.1623433"
      ]
     },
     "metadata": {},
     "output_type": "display_data"
    }
   ],
   "source": [
    "data_4g %>% levene_test(Recall ~ Group)"
   ]
  },
  {
   "cell_type": "markdown",
   "metadata": {},
   "source": [
    "فرض همگنی واریانسها برقرار است"
   ]
  },
  {
   "cell_type": "code",
   "execution_count": 106,
   "metadata": {},
   "outputs": [
    {
     "data": {
      "text/html": [
       "<table class=\"dataframe\">\n",
       "<caption>A anova_test: 1 × 7</caption>\n",
       "<thead>\n",
       "\t<tr><th></th><th scope=col>Effect</th><th scope=col>DFn</th><th scope=col>DFd</th><th scope=col>F</th><th scope=col>p</th><th scope=col>p&lt;.05</th><th scope=col>ges</th></tr>\n",
       "\t<tr><th></th><th scope=col>&lt;chr&gt;</th><th scope=col>&lt;dbl&gt;</th><th scope=col>&lt;dbl&gt;</th><th scope=col>&lt;dbl&gt;</th><th scope=col>&lt;dbl&gt;</th><th scope=col>&lt;chr&gt;</th><th scope=col>&lt;dbl&gt;</th></tr>\n",
       "</thead>\n",
       "<tbody>\n",
       "\t<tr><th scope=row>1</th><td>Group</td><td>3</td><td>36</td><td>53.301</td><td>2.54e-13</td><td>*</td><td>0.816</td></tr>\n",
       "</tbody>\n",
       "</table>\n"
      ],
      "text/latex": [
       "A anova\\_test: 1 × 7\n",
       "\\begin{tabular}{r|lllllll}\n",
       "  & Effect & DFn & DFd & F & p & p<.05 & ges\\\\\n",
       "  & <chr> & <dbl> & <dbl> & <dbl> & <dbl> & <chr> & <dbl>\\\\\n",
       "\\hline\n",
       "\t1 & Group & 3 & 36 & 53.301 & 2.54e-13 & * & 0.816\\\\\n",
       "\\end{tabular}\n"
      ],
      "text/markdown": [
       "\n",
       "A anova_test: 1 × 7\n",
       "\n",
       "| <!--/--> | Effect &lt;chr&gt; | DFn &lt;dbl&gt; | DFd &lt;dbl&gt; | F &lt;dbl&gt; | p &lt;dbl&gt; | p&lt;.05 &lt;chr&gt; | ges &lt;dbl&gt; |\n",
       "|---|---|---|---|---|---|---|---|\n",
       "| 1 | Group | 3 | 36 | 53.301 | 2.54e-13 | * | 0.816 |\n",
       "\n"
      ],
      "text/plain": [
       "  Effect DFn DFd F      p        p<.05 ges  \n",
       "1 Group  3   36  53.301 2.54e-13 *     0.816"
      ]
     },
     "metadata": {},
     "output_type": "display_data"
    }
   ],
   "source": [
    "data_4g %>% anova_test(Recall ~ Group)"
   ]
  },
  {
   "cell_type": "markdown",
   "metadata": {},
   "source": [
    "فرض صفر که عدم وجود تفاوت بین یادآوری در 4 گروه است رد می شود"
   ]
  },
  {
   "cell_type": "code",
   "execution_count": 60,
   "metadata": {},
   "outputs": [
    {
     "data": {
      "text/html": [
       "<table class=\"dataframe\">\n",
       "<caption>A rstatix_test: 6 × 9</caption>\n",
       "<thead>\n",
       "\t<tr><th></th><th scope=col>term</th><th scope=col>group1</th><th scope=col>group2</th><th scope=col>null.value</th><th scope=col>estimate</th><th scope=col>conf.low</th><th scope=col>conf.high</th><th scope=col>p.adj</th><th scope=col>p.adj.signif</th></tr>\n",
       "\t<tr><th></th><th scope=col>&lt;chr&gt;</th><th scope=col>&lt;chr&gt;</th><th scope=col>&lt;chr&gt;</th><th scope=col>&lt;dbl&gt;</th><th scope=col>&lt;dbl&gt;</th><th scope=col>&lt;dbl&gt;</th><th scope=col>&lt;dbl&gt;</th><th scope=col>&lt;dbl&gt;</th><th scope=col>&lt;chr&gt;</th></tr>\n",
       "</thead>\n",
       "<tbody>\n",
       "\t<tr><th scope=row>1</th><td>Group</td><td>Older/High  </td><td>Older/Low   </td><td>0</td><td> -5.0</td><td> -8.100787</td><td>-1.899213</td><td>6.10e-04</td><td>*** </td></tr>\n",
       "\t<tr><th scope=row>2</th><td>Group</td><td>Older/High  </td><td>Younger/High</td><td>0</td><td>  7.3</td><td>  4.199213</td><td>10.400787</td><td>1.43e-06</td><td>****</td></tr>\n",
       "\t<tr><th scope=row>3</th><td>Group</td><td>Older/High  </td><td>Younger/Low </td><td>0</td><td> -5.5</td><td> -8.600787</td><td>-2.399213</td><td>1.68e-04</td><td>*** </td></tr>\n",
       "\t<tr><th scope=row>4</th><td>Group</td><td>Older/Low   </td><td>Younger/High</td><td>0</td><td> 12.3</td><td>  9.199213</td><td>15.400787</td><td>5.91e-12</td><td>****</td></tr>\n",
       "\t<tr><th scope=row>5</th><td>Group</td><td>Older/Low   </td><td>Younger/Low </td><td>0</td><td> -0.5</td><td> -3.600787</td><td> 2.600787</td><td>9.72e-01</td><td>ns  </td></tr>\n",
       "\t<tr><th scope=row>6</th><td>Group</td><td>Younger/High</td><td>Younger/Low </td><td>0</td><td>-12.8</td><td>-15.900787</td><td>-9.699213</td><td>1.78e-12</td><td>****</td></tr>\n",
       "</tbody>\n",
       "</table>\n"
      ],
      "text/latex": [
       "A rstatix\\_test: 6 × 9\n",
       "\\begin{tabular}{r|lllllllll}\n",
       "  & term & group1 & group2 & null.value & estimate & conf.low & conf.high & p.adj & p.adj.signif\\\\\n",
       "  & <chr> & <chr> & <chr> & <dbl> & <dbl> & <dbl> & <dbl> & <dbl> & <chr>\\\\\n",
       "\\hline\n",
       "\t1 & Group & Older/High   & Older/Low    & 0 &  -5.0 &  -8.100787 & -1.899213 & 6.10e-04 & *** \\\\\n",
       "\t2 & Group & Older/High   & Younger/High & 0 &   7.3 &   4.199213 & 10.400787 & 1.43e-06 & ****\\\\\n",
       "\t3 & Group & Older/High   & Younger/Low  & 0 &  -5.5 &  -8.600787 & -2.399213 & 1.68e-04 & *** \\\\\n",
       "\t4 & Group & Older/Low    & Younger/High & 0 &  12.3 &   9.199213 & 15.400787 & 5.91e-12 & ****\\\\\n",
       "\t5 & Group & Older/Low    & Younger/Low  & 0 &  -0.5 &  -3.600787 &  2.600787 & 9.72e-01 & ns  \\\\\n",
       "\t6 & Group & Younger/High & Younger/Low  & 0 & -12.8 & -15.900787 & -9.699213 & 1.78e-12 & ****\\\\\n",
       "\\end{tabular}\n"
      ],
      "text/markdown": [
       "\n",
       "A rstatix_test: 6 × 9\n",
       "\n",
       "| <!--/--> | term &lt;chr&gt; | group1 &lt;chr&gt; | group2 &lt;chr&gt; | null.value &lt;dbl&gt; | estimate &lt;dbl&gt; | conf.low &lt;dbl&gt; | conf.high &lt;dbl&gt; | p.adj &lt;dbl&gt; | p.adj.signif &lt;chr&gt; |\n",
       "|---|---|---|---|---|---|---|---|---|---|\n",
       "| 1 | Group | Older/High   | Older/Low    | 0 |  -5.0 |  -8.100787 | -1.899213 | 6.10e-04 | ***  |\n",
       "| 2 | Group | Older/High   | Younger/High | 0 |   7.3 |   4.199213 | 10.400787 | 1.43e-06 | **** |\n",
       "| 3 | Group | Older/High   | Younger/Low  | 0 |  -5.5 |  -8.600787 | -2.399213 | 1.68e-04 | ***  |\n",
       "| 4 | Group | Older/Low    | Younger/High | 0 |  12.3 |   9.199213 | 15.400787 | 5.91e-12 | **** |\n",
       "| 5 | Group | Older/Low    | Younger/Low  | 0 |  -0.5 |  -3.600787 |  2.600787 | 9.72e-01 | ns   |\n",
       "| 6 | Group | Younger/High | Younger/Low  | 0 | -12.8 | -15.900787 | -9.699213 | 1.78e-12 | **** |\n",
       "\n"
      ],
      "text/plain": [
       "  term  group1       group2       null.value estimate conf.low   conf.high\n",
       "1 Group Older/High   Older/Low    0           -5.0     -8.100787 -1.899213\n",
       "2 Group Older/High   Younger/High 0            7.3      4.199213 10.400787\n",
       "3 Group Older/High   Younger/Low  0           -5.5     -8.600787 -2.399213\n",
       "4 Group Older/Low    Younger/High 0           12.3      9.199213 15.400787\n",
       "5 Group Older/Low    Younger/Low  0           -0.5     -3.600787  2.600787\n",
       "6 Group Younger/High Younger/Low  0          -12.8    -15.900787 -9.699213\n",
       "  p.adj    p.adj.signif\n",
       "1 6.10e-04 ***         \n",
       "2 1.43e-06 ****        \n",
       "3 1.68e-04 ***         \n",
       "4 5.91e-12 ****        \n",
       "5 9.72e-01 ns          \n",
       "6 1.78e-12 ****        "
      ]
     },
     "metadata": {},
     "output_type": "display_data"
    }
   ],
   "source": [
    "data_4g %>% tukey_hsd(Recall ~ Group)"
   ]
  },
  {
   "cell_type": "markdown",
   "metadata": {},
   "source": [
    " می بینیم تنها بین گروه پیرها و جوان ها زمانی که وظیفه ای با سطح پردازش پایین داده می شود تفاوت معناداری در یادآوری نمی بینیم در حالات دیگر تفاوت معنادار است "
   ]
  },
  {
   "cell_type": "markdown",
   "metadata": {},
   "source": [
    "#### 2. Now run a one-way analysis of variance on treatments 1 and 3 combined (n = 20) versus treatments 2 and 4 combined. What question are you answering?"
   ]
  },
  {
   "cell_type": "code",
   "execution_count": 112,
   "metadata": {},
   "outputs": [],
   "source": [
    "data_4gc = read.table('project_4_C.dat', header = TRUE)"
   ]
  },
  {
   "cell_type": "code",
   "execution_count": 113,
   "metadata": {},
   "outputs": [
    {
     "data": {
      "text/html": [
       "<table class=\"dataframe\">\n",
       "<caption>A data.frame: 40 × 2</caption>\n",
       "<thead>\n",
       "\t<tr><th scope=col>Group</th><th scope=col>Recall</th></tr>\n",
       "\t<tr><th scope=col>&lt;chr&gt;</th><th scope=col>&lt;int&gt;</th></tr>\n",
       "</thead>\n",
       "<tbody>\n",
       "\t<tr><td>Low </td><td> 8</td></tr>\n",
       "\t<tr><td>Low </td><td> 6</td></tr>\n",
       "\t<tr><td>Low </td><td> 4</td></tr>\n",
       "\t<tr><td>Low </td><td> 6</td></tr>\n",
       "\t<tr><td>Low </td><td> 7</td></tr>\n",
       "\t<tr><td>Low </td><td> 6</td></tr>\n",
       "\t<tr><td>Low </td><td> 5</td></tr>\n",
       "\t<tr><td>Low </td><td> 7</td></tr>\n",
       "\t<tr><td>Low </td><td> 9</td></tr>\n",
       "\t<tr><td>Low </td><td> 7</td></tr>\n",
       "\t<tr><td>High</td><td>21</td></tr>\n",
       "\t<tr><td>High</td><td>19</td></tr>\n",
       "\t<tr><td>High</td><td>17</td></tr>\n",
       "\t<tr><td>High</td><td>15</td></tr>\n",
       "\t<tr><td>High</td><td>22</td></tr>\n",
       "\t<tr><td>High</td><td>16</td></tr>\n",
       "\t<tr><td>High</td><td>22</td></tr>\n",
       "\t<tr><td>High</td><td>22</td></tr>\n",
       "\t<tr><td>High</td><td>18</td></tr>\n",
       "\t<tr><td>High</td><td>21</td></tr>\n",
       "\t<tr><td>Low </td><td> 9</td></tr>\n",
       "\t<tr><td>Low </td><td> 8</td></tr>\n",
       "\t<tr><td>Low </td><td> 6</td></tr>\n",
       "\t<tr><td>Low </td><td> 8</td></tr>\n",
       "\t<tr><td>Low </td><td>10</td></tr>\n",
       "\t<tr><td>Low </td><td> 4</td></tr>\n",
       "\t<tr><td>Low </td><td> 6</td></tr>\n",
       "\t<tr><td>Low </td><td> 5</td></tr>\n",
       "\t<tr><td>Low </td><td> 7</td></tr>\n",
       "\t<tr><td>Low </td><td> 7</td></tr>\n",
       "\t<tr><td>High</td><td>10</td></tr>\n",
       "\t<tr><td>High</td><td>19</td></tr>\n",
       "\t<tr><td>High</td><td>14</td></tr>\n",
       "\t<tr><td>High</td><td> 5</td></tr>\n",
       "\t<tr><td>High</td><td>10</td></tr>\n",
       "\t<tr><td>High</td><td>11</td></tr>\n",
       "\t<tr><td>High</td><td>14</td></tr>\n",
       "\t<tr><td>High</td><td>15</td></tr>\n",
       "\t<tr><td>High</td><td>11</td></tr>\n",
       "\t<tr><td>High</td><td>11</td></tr>\n",
       "</tbody>\n",
       "</table>\n"
      ],
      "text/latex": [
       "A data.frame: 40 × 2\n",
       "\\begin{tabular}{ll}\n",
       " Group & Recall\\\\\n",
       " <chr> & <int>\\\\\n",
       "\\hline\n",
       "\t Low  &  8\\\\\n",
       "\t Low  &  6\\\\\n",
       "\t Low  &  4\\\\\n",
       "\t Low  &  6\\\\\n",
       "\t Low  &  7\\\\\n",
       "\t Low  &  6\\\\\n",
       "\t Low  &  5\\\\\n",
       "\t Low  &  7\\\\\n",
       "\t Low  &  9\\\\\n",
       "\t Low  &  7\\\\\n",
       "\t High & 21\\\\\n",
       "\t High & 19\\\\\n",
       "\t High & 17\\\\\n",
       "\t High & 15\\\\\n",
       "\t High & 22\\\\\n",
       "\t High & 16\\\\\n",
       "\t High & 22\\\\\n",
       "\t High & 22\\\\\n",
       "\t High & 18\\\\\n",
       "\t High & 21\\\\\n",
       "\t Low  &  9\\\\\n",
       "\t Low  &  8\\\\\n",
       "\t Low  &  6\\\\\n",
       "\t Low  &  8\\\\\n",
       "\t Low  & 10\\\\\n",
       "\t Low  &  4\\\\\n",
       "\t Low  &  6\\\\\n",
       "\t Low  &  5\\\\\n",
       "\t Low  &  7\\\\\n",
       "\t Low  &  7\\\\\n",
       "\t High & 10\\\\\n",
       "\t High & 19\\\\\n",
       "\t High & 14\\\\\n",
       "\t High &  5\\\\\n",
       "\t High & 10\\\\\n",
       "\t High & 11\\\\\n",
       "\t High & 14\\\\\n",
       "\t High & 15\\\\\n",
       "\t High & 11\\\\\n",
       "\t High & 11\\\\\n",
       "\\end{tabular}\n"
      ],
      "text/markdown": [
       "\n",
       "A data.frame: 40 × 2\n",
       "\n",
       "| Group &lt;chr&gt; | Recall &lt;int&gt; |\n",
       "|---|---|\n",
       "| Low  |  8 |\n",
       "| Low  |  6 |\n",
       "| Low  |  4 |\n",
       "| Low  |  6 |\n",
       "| Low  |  7 |\n",
       "| Low  |  6 |\n",
       "| Low  |  5 |\n",
       "| Low  |  7 |\n",
       "| Low  |  9 |\n",
       "| Low  |  7 |\n",
       "| High | 21 |\n",
       "| High | 19 |\n",
       "| High | 17 |\n",
       "| High | 15 |\n",
       "| High | 22 |\n",
       "| High | 16 |\n",
       "| High | 22 |\n",
       "| High | 22 |\n",
       "| High | 18 |\n",
       "| High | 21 |\n",
       "| Low  |  9 |\n",
       "| Low  |  8 |\n",
       "| Low  |  6 |\n",
       "| Low  |  8 |\n",
       "| Low  | 10 |\n",
       "| Low  |  4 |\n",
       "| Low  |  6 |\n",
       "| Low  |  5 |\n",
       "| Low  |  7 |\n",
       "| Low  |  7 |\n",
       "| High | 10 |\n",
       "| High | 19 |\n",
       "| High | 14 |\n",
       "| High |  5 |\n",
       "| High | 10 |\n",
       "| High | 11 |\n",
       "| High | 14 |\n",
       "| High | 15 |\n",
       "| High | 11 |\n",
       "| High | 11 |\n",
       "\n"
      ],
      "text/plain": [
       "   Group Recall\n",
       "1  Low    8    \n",
       "2  Low    6    \n",
       "3  Low    4    \n",
       "4  Low    6    \n",
       "5  Low    7    \n",
       "6  Low    6    \n",
       "7  Low    5    \n",
       "8  Low    7    \n",
       "9  Low    9    \n",
       "10 Low    7    \n",
       "11 High  21    \n",
       "12 High  19    \n",
       "13 High  17    \n",
       "14 High  15    \n",
       "15 High  22    \n",
       "16 High  16    \n",
       "17 High  22    \n",
       "18 High  22    \n",
       "19 High  18    \n",
       "20 High  21    \n",
       "21 Low    9    \n",
       "22 Low    8    \n",
       "23 Low    6    \n",
       "24 Low    8    \n",
       "25 Low   10    \n",
       "26 Low    4    \n",
       "27 Low    6    \n",
       "28 Low    5    \n",
       "29 Low    7    \n",
       "30 Low    7    \n",
       "31 High  10    \n",
       "32 High  19    \n",
       "33 High  14    \n",
       "34 High   5    \n",
       "35 High  10    \n",
       "36 High  11    \n",
       "37 High  14    \n",
       "38 High  15    \n",
       "39 High  11    \n",
       "40 High  11    "
      ]
     },
     "metadata": {},
     "output_type": "display_data"
    }
   ],
   "source": [
    "#rename the group lables\n",
    "data_4gc$Group <- str_replace(data_4gc$Group, \"1\", \"Low\")\n",
    "data_4gc$Group <- str_replace(data_4gc$Group, \"3\", \"Low\")\n",
    "data_4gc$Group <- str_replace(data_4gc$Group, \"2\", \"High\")\n",
    "data_4gc$Group <- str_replace(data_4gc$Group, \"4\", \"High\")\n",
    "data_4gc"
   ]
  },
  {
   "cell_type": "code",
   "execution_count": 114,
   "metadata": {},
   "outputs": [
    {
     "data": {
      "text/html": [
       "<table class=\"dataframe\">\n",
       "<caption>A tibble: 2 × 14</caption>\n",
       "<thead>\n",
       "\t<tr><th scope=col>Group</th><th scope=col>variable</th><th scope=col>n</th><th scope=col>min</th><th scope=col>max</th><th scope=col>median</th><th scope=col>q1</th><th scope=col>q3</th><th scope=col>iqr</th><th scope=col>mad</th><th scope=col>mean</th><th scope=col>sd</th><th scope=col>se</th><th scope=col>ci</th></tr>\n",
       "\t<tr><th scope=col>&lt;chr&gt;</th><th scope=col>&lt;fct&gt;</th><th scope=col>&lt;dbl&gt;</th><th scope=col>&lt;dbl&gt;</th><th scope=col>&lt;dbl&gt;</th><th scope=col>&lt;dbl&gt;</th><th scope=col>&lt;dbl&gt;</th><th scope=col>&lt;dbl&gt;</th><th scope=col>&lt;dbl&gt;</th><th scope=col>&lt;dbl&gt;</th><th scope=col>&lt;dbl&gt;</th><th scope=col>&lt;dbl&gt;</th><th scope=col>&lt;dbl&gt;</th><th scope=col>&lt;dbl&gt;</th></tr>\n",
       "</thead>\n",
       "<tbody>\n",
       "\t<tr><td>High</td><td>Recall</td><td>20</td><td>5</td><td>22</td><td>15.5</td><td>11</td><td>19.5</td><td>8.5</td><td>6.672</td><td>15.65</td><td>4.902</td><td>1.096</td><td>2.294</td></tr>\n",
       "\t<tr><td>Low </td><td>Recall</td><td>20</td><td>4</td><td>10</td><td> 7.0</td><td> 6</td><td> 8.0</td><td>2.0</td><td>1.483</td><td> 6.75</td><td>1.618</td><td>0.362</td><td>0.757</td></tr>\n",
       "</tbody>\n",
       "</table>\n"
      ],
      "text/latex": [
       "A tibble: 2 × 14\n",
       "\\begin{tabular}{llllllllllllll}\n",
       " Group & variable & n & min & max & median & q1 & q3 & iqr & mad & mean & sd & se & ci\\\\\n",
       " <chr> & <fct> & <dbl> & <dbl> & <dbl> & <dbl> & <dbl> & <dbl> & <dbl> & <dbl> & <dbl> & <dbl> & <dbl> & <dbl>\\\\\n",
       "\\hline\n",
       "\t High & Recall & 20 & 5 & 22 & 15.5 & 11 & 19.5 & 8.5 & 6.672 & 15.65 & 4.902 & 1.096 & 2.294\\\\\n",
       "\t Low  & Recall & 20 & 4 & 10 &  7.0 &  6 &  8.0 & 2.0 & 1.483 &  6.75 & 1.618 & 0.362 & 0.757\\\\\n",
       "\\end{tabular}\n"
      ],
      "text/markdown": [
       "\n",
       "A tibble: 2 × 14\n",
       "\n",
       "| Group &lt;chr&gt; | variable &lt;fct&gt; | n &lt;dbl&gt; | min &lt;dbl&gt; | max &lt;dbl&gt; | median &lt;dbl&gt; | q1 &lt;dbl&gt; | q3 &lt;dbl&gt; | iqr &lt;dbl&gt; | mad &lt;dbl&gt; | mean &lt;dbl&gt; | sd &lt;dbl&gt; | se &lt;dbl&gt; | ci &lt;dbl&gt; |\n",
       "|---|---|---|---|---|---|---|---|---|---|---|---|---|---|\n",
       "| High | Recall | 20 | 5 | 22 | 15.5 | 11 | 19.5 | 8.5 | 6.672 | 15.65 | 4.902 | 1.096 | 2.294 |\n",
       "| Low  | Recall | 20 | 4 | 10 |  7.0 |  6 |  8.0 | 2.0 | 1.483 |  6.75 | 1.618 | 0.362 | 0.757 |\n",
       "\n"
      ],
      "text/plain": [
       "  Group variable n  min max median q1 q3   iqr mad   mean  sd    se    ci   \n",
       "1 High  Recall   20 5   22  15.5   11 19.5 8.5 6.672 15.65 4.902 1.096 2.294\n",
       "2 Low   Recall   20 4   10   7.0    6  8.0 2.0 1.483  6.75 1.618 0.362 0.757"
      ]
     },
     "metadata": {},
     "output_type": "display_data"
    }
   ],
   "source": [
    "data_4gc %>% group_by(Group) %>% get_summary_stats(Recall)"
   ]
  },
  {
   "cell_type": "code",
   "execution_count": 115,
   "metadata": {},
   "outputs": [
    {
     "data": {
      "image/png": "[encoded data removed]",
      "text/plain": [
       "plot without title"
      ]
     },
     "metadata": {
      "image/png": {
       "height": 420,
       "width": 420
      }
     },
     "output_type": "display_data"
    }
   ],
   "source": [
    "ggboxplot(data_4gc, x=\"Group\", y=\"Recall\", color=\"Group\",add=\"point\")"
   ]
  },
  {
   "cell_type": "code",
   "execution_count": 116,
   "metadata": {},
   "outputs": [
    {
     "data": {
      "text/html": [
       "<table class=\"dataframe\">\n",
       "<caption>A data.frame: 0 × 4</caption>\n",
       "<thead>\n",
       "\t<tr><th scope=col>Group</th><th scope=col>Recall</th><th scope=col>is.outlier</th><th scope=col>is.extreme</th></tr>\n",
       "\t<tr><th scope=col>&lt;chr&gt;</th><th scope=col>&lt;int&gt;</th><th scope=col>&lt;lgl&gt;</th><th scope=col>&lt;lgl&gt;</th></tr>\n",
       "</thead>\n",
       "<tbody>\n",
       "</tbody>\n",
       "</table>\n"
      ],
      "text/latex": [
       "A data.frame: 0 × 4\n",
       "\\begin{tabular}{llll}\n",
       " Group & Recall & is.outlier & is.extreme\\\\\n",
       " <chr> & <int> & <lgl> & <lgl>\\\\\n",
       "\\hline\n",
       "\\end{tabular}\n"
      ],
      "text/markdown": [
       "\n",
       "A data.frame: 0 × 4\n",
       "\n",
       "| Group &lt;chr&gt; | Recall &lt;int&gt; | is.outlier &lt;lgl&gt; | is.extreme &lt;lgl&gt; |\n",
       "|---|---|---|---|\n",
       "\n"
      ],
      "text/plain": [
       "     Group Recall is.outlier is.extreme"
      ]
     },
     "metadata": {},
     "output_type": "display_data"
    }
   ],
   "source": [
    "data_4gc %>% group_by(Group) %>% identify_outliers(Recall)"
   ]
  },
  {
   "cell_type": "code",
   "execution_count": 117,
   "metadata": {},
   "outputs": [
    {
     "data": {
      "image/png": "[encoded data removed]",
      "text/plain": [
       "plot without title"
      ]
     },
     "metadata": {
      "image/png": {
       "height": 420,
       "width": 420
      }
     },
     "output_type": "display_data"
    }
   ],
   "source": [
    "ggqqplot(data_4gc,\"Recall\")"
   ]
  },
  {
   "cell_type": "code",
   "execution_count": 118,
   "metadata": {},
   "outputs": [
    {
     "data": {
      "image/png": "[encoded data removed]",
      "text/plain": [
       "plot without title"
      ]
     },
     "metadata": {
      "image/png": {
       "height": 420,
       "width": 420
      }
     },
     "output_type": "display_data"
    }
   ],
   "source": [
    "ggqqplot(data_4gc, \"Recall\",facet.by=\"Group\")"
   ]
  },
  {
   "cell_type": "code",
   "execution_count": 119,
   "metadata": {},
   "outputs": [
    {
     "data": {
      "text/html": [
       "<table class=\"dataframe\">\n",
       "<caption>A tibble: 2 × 4</caption>\n",
       "<thead>\n",
       "\t<tr><th scope=col>Group</th><th scope=col>variable</th><th scope=col>statistic</th><th scope=col>p</th></tr>\n",
       "\t<tr><th scope=col>&lt;chr&gt;</th><th scope=col>&lt;chr&gt;</th><th scope=col>&lt;dbl&gt;</th><th scope=col>&lt;dbl&gt;</th></tr>\n",
       "</thead>\n",
       "<tbody>\n",
       "\t<tr><td>High</td><td>Recall</td><td>0.9390293</td><td>0.2298462</td></tr>\n",
       "\t<tr><td>Low </td><td>Recall</td><td>0.9614303</td><td>0.5728052</td></tr>\n",
       "</tbody>\n",
       "</table>\n"
      ],
      "text/latex": [
       "A tibble: 2 × 4\n",
       "\\begin{tabular}{llll}\n",
       " Group & variable & statistic & p\\\\\n",
       " <chr> & <chr> & <dbl> & <dbl>\\\\\n",
       "\\hline\n",
       "\t High & Recall & 0.9390293 & 0.2298462\\\\\n",
       "\t Low  & Recall & 0.9614303 & 0.5728052\\\\\n",
       "\\end{tabular}\n"
      ],
      "text/markdown": [
       "\n",
       "A tibble: 2 × 4\n",
       "\n",
       "| Group &lt;chr&gt; | variable &lt;chr&gt; | statistic &lt;dbl&gt; | p &lt;dbl&gt; |\n",
       "|---|---|---|---|\n",
       "| High | Recall | 0.9390293 | 0.2298462 |\n",
       "| Low  | Recall | 0.9614303 | 0.5728052 |\n",
       "\n"
      ],
      "text/plain": [
       "  Group variable statistic p        \n",
       "1 High  Recall   0.9390293 0.2298462\n",
       "2 Low   Recall   0.9614303 0.5728052"
      ]
     },
     "metadata": {},
     "output_type": "display_data"
    }
   ],
   "source": [
    "data_4gc %>% group_by(Group) %>% shapiro_test(Recall)"
   ]
  },
  {
   "cell_type": "markdown",
   "metadata": {},
   "source": [
    "فرض نرمالیتی برقرار است"
   ]
  },
  {
   "cell_type": "code",
   "execution_count": 120,
   "metadata": {},
   "outputs": [
    {
     "name": "stderr",
     "output_type": "stream",
     "text": [
      "Warning message in leveneTest.default(y = y, group = group, ...):\n",
      "\"group coerced to factor.\"\n"
     ]
    },
    {
     "data": {
      "text/html": [
       "<table class=\"dataframe\">\n",
       "<caption>A tibble: 1 × 4</caption>\n",
       "<thead>\n",
       "\t<tr><th scope=col>df1</th><th scope=col>df2</th><th scope=col>statistic</th><th scope=col>p</th></tr>\n",
       "\t<tr><th scope=col>&lt;int&gt;</th><th scope=col>&lt;int&gt;</th><th scope=col>&lt;dbl&gt;</th><th scope=col>&lt;dbl&gt;</th></tr>\n",
       "</thead>\n",
       "<tbody>\n",
       "\t<tr><td>1</td><td>38</td><td>20.03497</td><td>6.71822e-05</td></tr>\n",
       "</tbody>\n",
       "</table>\n"
      ],
      "text/latex": [
       "A tibble: 1 × 4\n",
       "\\begin{tabular}{llll}\n",
       " df1 & df2 & statistic & p\\\\\n",
       " <int> & <int> & <dbl> & <dbl>\\\\\n",
       "\\hline\n",
       "\t 1 & 38 & 20.03497 & 6.71822e-05\\\\\n",
       "\\end{tabular}\n"
      ],
      "text/markdown": [
       "\n",
       "A tibble: 1 × 4\n",
       "\n",
       "| df1 &lt;int&gt; | df2 &lt;int&gt; | statistic &lt;dbl&gt; | p &lt;dbl&gt; |\n",
       "|---|---|---|---|\n",
       "| 1 | 38 | 20.03497 | 6.71822e-05 |\n",
       "\n"
      ],
      "text/plain": [
       "  df1 df2 statistic p          \n",
       "1 1   38  20.03497  6.71822e-05"
      ]
     },
     "metadata": {},
     "output_type": "display_data"
    }
   ],
   "source": [
    "data_4gc %>% levene_test(Recall ~ Group)"
   ]
  },
  {
   "cell_type": "markdown",
   "metadata": {},
   "source": [
    "فرض همگنی واریانس ها برقرار نیست"
   ]
  },
  {
   "cell_type": "code",
   "execution_count": 121,
   "metadata": {},
   "outputs": [
    {
     "data": {
      "text/html": [
       "<table class=\"dataframe\">\n",
       "<caption>A anova_test: 1 × 7</caption>\n",
       "<thead>\n",
       "\t<tr><th></th><th scope=col>Effect</th><th scope=col>DFn</th><th scope=col>DFd</th><th scope=col>F</th><th scope=col>p</th><th scope=col>p&lt;.05</th><th scope=col>ges</th></tr>\n",
       "\t<tr><th></th><th scope=col>&lt;chr&gt;</th><th scope=col>&lt;dbl&gt;</th><th scope=col>&lt;dbl&gt;</th><th scope=col>&lt;dbl&gt;</th><th scope=col>&lt;dbl&gt;</th><th scope=col>&lt;chr&gt;</th><th scope=col>&lt;dbl&gt;</th></tr>\n",
       "</thead>\n",
       "<tbody>\n",
       "\t<tr><th scope=row>1</th><td>Group</td><td>1</td><td>38</td><td>59.451</td><td>2.75e-09</td><td>*</td><td>0.61</td></tr>\n",
       "</tbody>\n",
       "</table>\n"
      ],
      "text/latex": [
       "A anova\\_test: 1 × 7\n",
       "\\begin{tabular}{r|lllllll}\n",
       "  & Effect & DFn & DFd & F & p & p<.05 & ges\\\\\n",
       "  & <chr> & <dbl> & <dbl> & <dbl> & <dbl> & <chr> & <dbl>\\\\\n",
       "\\hline\n",
       "\t1 & Group & 1 & 38 & 59.451 & 2.75e-09 & * & 0.61\\\\\n",
       "\\end{tabular}\n"
      ],
      "text/markdown": [
       "\n",
       "A anova_test: 1 × 7\n",
       "\n",
       "| <!--/--> | Effect &lt;chr&gt; | DFn &lt;dbl&gt; | DFd &lt;dbl&gt; | F &lt;dbl&gt; | p &lt;dbl&gt; | p&lt;.05 &lt;chr&gt; | ges &lt;dbl&gt; |\n",
       "|---|---|---|---|---|---|---|---|\n",
       "| 1 | Group | 1 | 38 | 59.451 | 2.75e-09 | * | 0.61 |\n",
       "\n"
      ],
      "text/plain": [
       "  Effect DFn DFd F      p        p<.05 ges \n",
       "1 Group  1   38  59.451 2.75e-09 *     0.61"
      ]
     },
     "metadata": {},
     "output_type": "display_data"
    }
   ],
   "source": [
    "data_4gc %>% anova_test(Recall ~ Group)"
   ]
  },
  {
   "cell_type": "markdown",
   "metadata": {},
   "source": [
    "فرض صفر رد می شود: تفاوت بین گروه ها وجود دارد"
   ]
  },
  {
   "cell_type": "code",
   "execution_count": 122,
   "metadata": {
    "scrolled": true
   },
   "outputs": [
    {
     "data": {
      "text/html": [
       "<table class=\"dataframe\">\n",
       "<caption>A rstatix_test: 1 × 9</caption>\n",
       "<thead>\n",
       "\t<tr><th></th><th scope=col>term</th><th scope=col>group1</th><th scope=col>group2</th><th scope=col>null.value</th><th scope=col>estimate</th><th scope=col>conf.low</th><th scope=col>conf.high</th><th scope=col>p.adj</th><th scope=col>p.adj.signif</th></tr>\n",
       "\t<tr><th></th><th scope=col>&lt;chr&gt;</th><th scope=col>&lt;chr&gt;</th><th scope=col>&lt;chr&gt;</th><th scope=col>&lt;dbl&gt;</th><th scope=col>&lt;dbl&gt;</th><th scope=col>&lt;dbl&gt;</th><th scope=col>&lt;dbl&gt;</th><th scope=col>&lt;dbl&gt;</th><th scope=col>&lt;chr&gt;</th></tr>\n",
       "</thead>\n",
       "<tbody>\n",
       "\t<tr><th scope=row>1</th><td>Group</td><td>High</td><td>Low</td><td>0</td><td>-8.9</td><td>-11.23672</td><td>-6.563277</td><td>2.75e-09</td><td>****</td></tr>\n",
       "</tbody>\n",
       "</table>\n"
      ],
      "text/latex": [
       "A rstatix\\_test: 1 × 9\n",
       "\\begin{tabular}{r|lllllllll}\n",
       "  & term & group1 & group2 & null.value & estimate & conf.low & conf.high & p.adj & p.adj.signif\\\\\n",
       "  & <chr> & <chr> & <chr> & <dbl> & <dbl> & <dbl> & <dbl> & <dbl> & <chr>\\\\\n",
       "\\hline\n",
       "\t1 & Group & High & Low & 0 & -8.9 & -11.23672 & -6.563277 & 2.75e-09 & ****\\\\\n",
       "\\end{tabular}\n"
      ],
      "text/markdown": [
       "\n",
       "A rstatix_test: 1 × 9\n",
       "\n",
       "| <!--/--> | term &lt;chr&gt; | group1 &lt;chr&gt; | group2 &lt;chr&gt; | null.value &lt;dbl&gt; | estimate &lt;dbl&gt; | conf.low &lt;dbl&gt; | conf.high &lt;dbl&gt; | p.adj &lt;dbl&gt; | p.adj.signif &lt;chr&gt; |\n",
       "|---|---|---|---|---|---|---|---|---|---|\n",
       "| 1 | Group | High | Low | 0 | -8.9 | -11.23672 | -6.563277 | 2.75e-09 | **** |\n",
       "\n"
      ],
      "text/plain": [
       "  term  group1 group2 null.value estimate conf.low  conf.high p.adj   \n",
       "1 Group High   Low    0          -8.9     -11.23672 -6.563277 2.75e-09\n",
       "  p.adj.signif\n",
       "1 ****        "
      ]
     },
     "metadata": {},
     "output_type": "display_data"
    }
   ],
   "source": [
    "data_4gc %>% tukey_hsd(Recall ~ Group)"
   ]
  },
  {
   "cell_type": "markdown",
   "metadata": {},
   "source": [
    "از آنجایی که دو گروه داریم تفاوت بین این دو گروه نشان داده شده که بسیار است"
   ]
  },
  {
   "cell_type": "code",
   "execution_count": 74,
   "metadata": {},
   "outputs": [
    {
     "data": {
      "text/html": [
       "<table class=\"dataframe\">\n",
       "<caption>A rstatix_test: 1 × 8</caption>\n",
       "<thead>\n",
       "\t<tr><th></th><th scope=col>.y.</th><th scope=col>group1</th><th scope=col>group2</th><th scope=col>n1</th><th scope=col>n2</th><th scope=col>statistic</th><th scope=col>df</th><th scope=col>p</th></tr>\n",
       "\t<tr><th></th><th scope=col>&lt;chr&gt;</th><th scope=col>&lt;chr&gt;</th><th scope=col>&lt;chr&gt;</th><th scope=col>&lt;int&gt;</th><th scope=col>&lt;int&gt;</th><th scope=col>&lt;dbl&gt;</th><th scope=col>&lt;dbl&gt;</th><th scope=col>&lt;dbl&gt;</th></tr>\n",
       "</thead>\n",
       "<tbody>\n",
       "\t<tr><th scope=row>1</th><td>Recall</td><td>High</td><td>Low</td><td>20</td><td>20</td><td>7.710417</td><td>23.09225</td><td>7.81e-08</td></tr>\n",
       "</tbody>\n",
       "</table>\n"
      ],
      "text/latex": [
       "A rstatix\\_test: 1 × 8\n",
       "\\begin{tabular}{r|llllllll}\n",
       "  & .y. & group1 & group2 & n1 & n2 & statistic & df & p\\\\\n",
       "  & <chr> & <chr> & <chr> & <int> & <int> & <dbl> & <dbl> & <dbl>\\\\\n",
       "\\hline\n",
       "\t1 & Recall & High & Low & 20 & 20 & 7.710417 & 23.09225 & 7.81e-08\\\\\n",
       "\\end{tabular}\n"
      ],
      "text/markdown": [
       "\n",
       "A rstatix_test: 1 × 8\n",
       "\n",
       "| <!--/--> | .y. &lt;chr&gt; | group1 &lt;chr&gt; | group2 &lt;chr&gt; | n1 &lt;int&gt; | n2 &lt;int&gt; | statistic &lt;dbl&gt; | df &lt;dbl&gt; | p &lt;dbl&gt; |\n",
       "|---|---|---|---|---|---|---|---|---|\n",
       "| 1 | Recall | High | Low | 20 | 20 | 7.710417 | 23.09225 | 7.81e-08 |\n",
       "\n"
      ],
      "text/plain": [
       "  .y.    group1 group2 n1 n2 statistic df       p       \n",
       "1 Recall High   Low    20 20 7.710417  23.09225 7.81e-08"
      ]
     },
     "metadata": {},
     "output_type": "display_data"
    }
   ],
   "source": [
    "data_4gc %>% t_test(Recall ~ Group)"
   ]
  },
  {
   "cell_type": "markdown",
   "metadata": {},
   "source": [
    "نتیجه تی تست هم از نتیجه آنوا حمایت می کند"
   ]
  },
  {
   "cell_type": "markdown",
   "metadata": {},
   "source": [
    "در واقع در این مسئله اثر سهولت یا سختی پردازش بر یادآوری (فارغ از سن) سنجیده می شد که همانطور که انتظار میرفت متوجه شدیم سطح پردازش بر قدرت بازیابی تاثیر مثبت دارد : هرچه سطح چردازش بیشتر قدرت یادآوری بیشتر خواهد بود"
   ]
  },
  {
   "cell_type": "markdown",
   "metadata": {},
   "source": [
    "#### Why might your answer to part (2) be difficult to interpret?"
   ]
  },
  {
   "cell_type": "markdown",
   "metadata": {},
   "source": [
    "زیرا ترکیب گروه ها ممکن است منجر به از دست دادن تمایزات مهم بین گروه های فردی شود. این امر می تواند تفاوت های خاص بین 4 گروه متمایز را پنهان کند."
   ]
  },
  {
   "cell_type": "markdown",
   "metadata": {},
   "source": [
    "#### Now run an analysis of variance on treatments 1 and 2 combined compared with treatments 3 and 4 combined. What hypothesis are we testing?"
   ]
  },
  {
   "cell_type": "code",
   "execution_count": 76,
   "metadata": {},
   "outputs": [],
   "source": [
    "data_4gc2 = read.table('project_4_C.dat', header = TRUE)"
   ]
  },
  {
   "cell_type": "code",
   "execution_count": 77,
   "metadata": {},
   "outputs": [
    {
     "data": {
      "text/html": [
       "<table class=\"dataframe\">\n",
       "<caption>A data.frame: 40 × 2</caption>\n",
       "<thead>\n",
       "\t<tr><th scope=col>Group</th><th scope=col>Recall</th></tr>\n",
       "\t<tr><th scope=col>&lt;chr&gt;</th><th scope=col>&lt;int&gt;</th></tr>\n",
       "</thead>\n",
       "<tbody>\n",
       "\t<tr><td>Younger</td><td> 8</td></tr>\n",
       "\t<tr><td>Younger</td><td> 6</td></tr>\n",
       "\t<tr><td>Younger</td><td> 4</td></tr>\n",
       "\t<tr><td>Younger</td><td> 6</td></tr>\n",
       "\t<tr><td>Younger</td><td> 7</td></tr>\n",
       "\t<tr><td>Younger</td><td> 6</td></tr>\n",
       "\t<tr><td>Younger</td><td> 5</td></tr>\n",
       "\t<tr><td>Younger</td><td> 7</td></tr>\n",
       "\t<tr><td>Younger</td><td> 9</td></tr>\n",
       "\t<tr><td>Younger</td><td> 7</td></tr>\n",
       "\t<tr><td>Younger</td><td>21</td></tr>\n",
       "\t<tr><td>Younger</td><td>19</td></tr>\n",
       "\t<tr><td>Younger</td><td>17</td></tr>\n",
       "\t<tr><td>Younger</td><td>15</td></tr>\n",
       "\t<tr><td>Younger</td><td>22</td></tr>\n",
       "\t<tr><td>Younger</td><td>16</td></tr>\n",
       "\t<tr><td>Younger</td><td>22</td></tr>\n",
       "\t<tr><td>Younger</td><td>22</td></tr>\n",
       "\t<tr><td>Younger</td><td>18</td></tr>\n",
       "\t<tr><td>Younger</td><td>21</td></tr>\n",
       "\t<tr><td>Older  </td><td> 9</td></tr>\n",
       "\t<tr><td>Older  </td><td> 8</td></tr>\n",
       "\t<tr><td>Older  </td><td> 6</td></tr>\n",
       "\t<tr><td>Older  </td><td> 8</td></tr>\n",
       "\t<tr><td>Older  </td><td>10</td></tr>\n",
       "\t<tr><td>Older  </td><td> 4</td></tr>\n",
       "\t<tr><td>Older  </td><td> 6</td></tr>\n",
       "\t<tr><td>Older  </td><td> 5</td></tr>\n",
       "\t<tr><td>Older  </td><td> 7</td></tr>\n",
       "\t<tr><td>Older  </td><td> 7</td></tr>\n",
       "\t<tr><td>Older  </td><td>10</td></tr>\n",
       "\t<tr><td>Older  </td><td>19</td></tr>\n",
       "\t<tr><td>Older  </td><td>14</td></tr>\n",
       "\t<tr><td>Older  </td><td> 5</td></tr>\n",
       "\t<tr><td>Older  </td><td>10</td></tr>\n",
       "\t<tr><td>Older  </td><td>11</td></tr>\n",
       "\t<tr><td>Older  </td><td>14</td></tr>\n",
       "\t<tr><td>Older  </td><td>15</td></tr>\n",
       "\t<tr><td>Older  </td><td>11</td></tr>\n",
       "\t<tr><td>Older  </td><td>11</td></tr>\n",
       "</tbody>\n",
       "</table>\n"
      ],
      "text/latex": [
       "A data.frame: 40 × 2\n",
       "\\begin{tabular}{ll}\n",
       " Group & Recall\\\\\n",
       " <chr> & <int>\\\\\n",
       "\\hline\n",
       "\t Younger &  8\\\\\n",
       "\t Younger &  6\\\\\n",
       "\t Younger &  4\\\\\n",
       "\t Younger &  6\\\\\n",
       "\t Younger &  7\\\\\n",
       "\t Younger &  6\\\\\n",
       "\t Younger &  5\\\\\n",
       "\t Younger &  7\\\\\n",
       "\t Younger &  9\\\\\n",
       "\t Younger &  7\\\\\n",
       "\t Younger & 21\\\\\n",
       "\t Younger & 19\\\\\n",
       "\t Younger & 17\\\\\n",
       "\t Younger & 15\\\\\n",
       "\t Younger & 22\\\\\n",
       "\t Younger & 16\\\\\n",
       "\t Younger & 22\\\\\n",
       "\t Younger & 22\\\\\n",
       "\t Younger & 18\\\\\n",
       "\t Younger & 21\\\\\n",
       "\t Older   &  9\\\\\n",
       "\t Older   &  8\\\\\n",
       "\t Older   &  6\\\\\n",
       "\t Older   &  8\\\\\n",
       "\t Older   & 10\\\\\n",
       "\t Older   &  4\\\\\n",
       "\t Older   &  6\\\\\n",
       "\t Older   &  5\\\\\n",
       "\t Older   &  7\\\\\n",
       "\t Older   &  7\\\\\n",
       "\t Older   & 10\\\\\n",
       "\t Older   & 19\\\\\n",
       "\t Older   & 14\\\\\n",
       "\t Older   &  5\\\\\n",
       "\t Older   & 10\\\\\n",
       "\t Older   & 11\\\\\n",
       "\t Older   & 14\\\\\n",
       "\t Older   & 15\\\\\n",
       "\t Older   & 11\\\\\n",
       "\t Older   & 11\\\\\n",
       "\\end{tabular}\n"
      ],
      "text/markdown": [
       "\n",
       "A data.frame: 40 × 2\n",
       "\n",
       "| Group &lt;chr&gt; | Recall &lt;int&gt; |\n",
       "|---|---|\n",
       "| Younger |  8 |\n",
       "| Younger |  6 |\n",
       "| Younger |  4 |\n",
       "| Younger |  6 |\n",
       "| Younger |  7 |\n",
       "| Younger |  6 |\n",
       "| Younger |  5 |\n",
       "| Younger |  7 |\n",
       "| Younger |  9 |\n",
       "| Younger |  7 |\n",
       "| Younger | 21 |\n",
       "| Younger | 19 |\n",
       "| Younger | 17 |\n",
       "| Younger | 15 |\n",
       "| Younger | 22 |\n",
       "| Younger | 16 |\n",
       "| Younger | 22 |\n",
       "| Younger | 22 |\n",
       "| Younger | 18 |\n",
       "| Younger | 21 |\n",
       "| Older   |  9 |\n",
       "| Older   |  8 |\n",
       "| Older   |  6 |\n",
       "| Older   |  8 |\n",
       "| Older   | 10 |\n",
       "| Older   |  4 |\n",
       "| Older   |  6 |\n",
       "| Older   |  5 |\n",
       "| Older   |  7 |\n",
       "| Older   |  7 |\n",
       "| Older   | 10 |\n",
       "| Older   | 19 |\n",
       "| Older   | 14 |\n",
       "| Older   |  5 |\n",
       "| Older   | 10 |\n",
       "| Older   | 11 |\n",
       "| Older   | 14 |\n",
       "| Older   | 15 |\n",
       "| Older   | 11 |\n",
       "| Older   | 11 |\n",
       "\n"
      ],
      "text/plain": [
       "   Group   Recall\n",
       "1  Younger  8    \n",
       "2  Younger  6    \n",
       "3  Younger  4    \n",
       "4  Younger  6    \n",
       "5  Younger  7    \n",
       "6  Younger  6    \n",
       "7  Younger  5    \n",
       "8  Younger  7    \n",
       "9  Younger  9    \n",
       "10 Younger  7    \n",
       "11 Younger 21    \n",
       "12 Younger 19    \n",
       "13 Younger 17    \n",
       "14 Younger 15    \n",
       "15 Younger 22    \n",
       "16 Younger 16    \n",
       "17 Younger 22    \n",
       "18 Younger 22    \n",
       "19 Younger 18    \n",
       "20 Younger 21    \n",
       "21 Older    9    \n",
       "22 Older    8    \n",
       "23 Older    6    \n",
       "24 Older    8    \n",
       "25 Older   10    \n",
       "26 Older    4    \n",
       "27 Older    6    \n",
       "28 Older    5    \n",
       "29 Older    7    \n",
       "30 Older    7    \n",
       "31 Older   10    \n",
       "32 Older   19    \n",
       "33 Older   14    \n",
       "34 Older    5    \n",
       "35 Older   10    \n",
       "36 Older   11    \n",
       "37 Older   14    \n",
       "38 Older   15    \n",
       "39 Older   11    \n",
       "40 Older   11    "
      ]
     },
     "metadata": {},
     "output_type": "display_data"
    }
   ],
   "source": [
    "#rename the group lables\n",
    "data_4gc2$Group <- str_replace(data_4gc2$Group, \"1\", \"Younger\")\n",
    "data_4gc2$Group <- str_replace(data_4gc2$Group, \"2\", \"Younger\")\n",
    "data_4gc2$Group <- str_replace(data_4gc2$Group, \"3\", \"Older\")\n",
    "data_4gc2$Group <- str_replace(data_4gc2$Group, \"4\", \"Older\")\n",
    "data_4gc2"
   ]
  },
  {
   "cell_type": "code",
   "execution_count": 78,
   "metadata": {},
   "outputs": [
    {
     "data": {
      "text/html": [
       "<table class=\"dataframe\">\n",
       "<caption>A tibble: 2 × 14</caption>\n",
       "<thead>\n",
       "\t<tr><th scope=col>Group</th><th scope=col>variable</th><th scope=col>n</th><th scope=col>min</th><th scope=col>max</th><th scope=col>median</th><th scope=col>q1</th><th scope=col>q3</th><th scope=col>iqr</th><th scope=col>mad</th><th scope=col>mean</th><th scope=col>sd</th><th scope=col>se</th><th scope=col>ci</th></tr>\n",
       "\t<tr><th scope=col>&lt;chr&gt;</th><th scope=col>&lt;fct&gt;</th><th scope=col>&lt;dbl&gt;</th><th scope=col>&lt;dbl&gt;</th><th scope=col>&lt;dbl&gt;</th><th scope=col>&lt;dbl&gt;</th><th scope=col>&lt;dbl&gt;</th><th scope=col>&lt;dbl&gt;</th><th scope=col>&lt;dbl&gt;</th><th scope=col>&lt;dbl&gt;</th><th scope=col>&lt;dbl&gt;</th><th scope=col>&lt;dbl&gt;</th><th scope=col>&lt;dbl&gt;</th><th scope=col>&lt;dbl&gt;</th></tr>\n",
       "</thead>\n",
       "<tbody>\n",
       "\t<tr><td>Older  </td><td>Recall</td><td>20</td><td>4</td><td>19</td><td> 9.5</td><td>6.75</td><td>11.0</td><td> 4.25</td><td>3.706</td><td> 9.5</td><td>3.846</td><td>0.860</td><td>1.800</td></tr>\n",
       "\t<tr><td>Younger</td><td>Recall</td><td>20</td><td>4</td><td>22</td><td>12.0</td><td>6.75</td><td>19.5</td><td>12.75</td><td>8.896</td><td>12.9</td><td>6.889</td><td>1.541</td><td>3.224</td></tr>\n",
       "</tbody>\n",
       "</table>\n"
      ],
      "text/latex": [
       "A tibble: 2 × 14\n",
       "\\begin{tabular}{llllllllllllll}\n",
       " Group & variable & n & min & max & median & q1 & q3 & iqr & mad & mean & sd & se & ci\\\\\n",
       " <chr> & <fct> & <dbl> & <dbl> & <dbl> & <dbl> & <dbl> & <dbl> & <dbl> & <dbl> & <dbl> & <dbl> & <dbl> & <dbl>\\\\\n",
       "\\hline\n",
       "\t Older   & Recall & 20 & 4 & 19 &  9.5 & 6.75 & 11.0 &  4.25 & 3.706 &  9.5 & 3.846 & 0.860 & 1.800\\\\\n",
       "\t Younger & Recall & 20 & 4 & 22 & 12.0 & 6.75 & 19.5 & 12.75 & 8.896 & 12.9 & 6.889 & 1.541 & 3.224\\\\\n",
       "\\end{tabular}\n"
      ],
      "text/markdown": [
       "\n",
       "A tibble: 2 × 14\n",
       "\n",
       "| Group &lt;chr&gt; | variable &lt;fct&gt; | n &lt;dbl&gt; | min &lt;dbl&gt; | max &lt;dbl&gt; | median &lt;dbl&gt; | q1 &lt;dbl&gt; | q3 &lt;dbl&gt; | iqr &lt;dbl&gt; | mad &lt;dbl&gt; | mean &lt;dbl&gt; | sd &lt;dbl&gt; | se &lt;dbl&gt; | ci &lt;dbl&gt; |\n",
       "|---|---|---|---|---|---|---|---|---|---|---|---|---|---|\n",
       "| Older   | Recall | 20 | 4 | 19 |  9.5 | 6.75 | 11.0 |  4.25 | 3.706 |  9.5 | 3.846 | 0.860 | 1.800 |\n",
       "| Younger | Recall | 20 | 4 | 22 | 12.0 | 6.75 | 19.5 | 12.75 | 8.896 | 12.9 | 6.889 | 1.541 | 3.224 |\n",
       "\n"
      ],
      "text/plain": [
       "  Group   variable n  min max median q1   q3   iqr   mad   mean sd    se   \n",
       "1 Older   Recall   20 4   19   9.5   6.75 11.0  4.25 3.706  9.5 3.846 0.860\n",
       "2 Younger Recall   20 4   22  12.0   6.75 19.5 12.75 8.896 12.9 6.889 1.541\n",
       "  ci   \n",
       "1 1.800\n",
       "2 3.224"
      ]
     },
     "metadata": {},
     "output_type": "display_data"
    }
   ],
   "source": [
    "data_4gc2 %>% group_by(Group) %>% get_summary_stats(Recall)"
   ]
  },
  {
   "cell_type": "code",
   "execution_count": 79,
   "metadata": {},
   "outputs": [
    {
     "data": {
      "image/png": "[encoded data removed]",
      "text/plain": [
       "plot without title"
      ]
     },
     "metadata": {
      "image/png": {
       "height": 420,
       "width": 420
      }
     },
     "output_type": "display_data"
    }
   ],
   "source": [
    "ggboxplot(data_4gc2, x=\"Group\", y=\"Recall\", color=\"Group\",add=\"point\")"
   ]
  },
  {
   "cell_type": "code",
   "execution_count": 80,
   "metadata": {
    "scrolled": true
   },
   "outputs": [
    {
     "data": {
      "text/html": [
       "<table class=\"dataframe\">\n",
       "<caption>A tibble: 1 × 4</caption>\n",
       "<thead>\n",
       "\t<tr><th scope=col>Group</th><th scope=col>Recall</th><th scope=col>is.outlier</th><th scope=col>is.extreme</th></tr>\n",
       "\t<tr><th scope=col>&lt;chr&gt;</th><th scope=col>&lt;int&gt;</th><th scope=col>&lt;lgl&gt;</th><th scope=col>&lt;lgl&gt;</th></tr>\n",
       "</thead>\n",
       "<tbody>\n",
       "\t<tr><td>Older</td><td>19</td><td>TRUE</td><td>FALSE</td></tr>\n",
       "</tbody>\n",
       "</table>\n"
      ],
      "text/latex": [
       "A tibble: 1 × 4\n",
       "\\begin{tabular}{llll}\n",
       " Group & Recall & is.outlier & is.extreme\\\\\n",
       " <chr> & <int> & <lgl> & <lgl>\\\\\n",
       "\\hline\n",
       "\t Older & 19 & TRUE & FALSE\\\\\n",
       "\\end{tabular}\n"
      ],
      "text/markdown": [
       "\n",
       "A tibble: 1 × 4\n",
       "\n",
       "| Group &lt;chr&gt; | Recall &lt;int&gt; | is.outlier &lt;lgl&gt; | is.extreme &lt;lgl&gt; |\n",
       "|---|---|---|---|\n",
       "| Older | 19 | TRUE | FALSE |\n",
       "\n"
      ],
      "text/plain": [
       "  Group Recall is.outlier is.extreme\n",
       "1 Older 19     TRUE       FALSE     "
      ]
     },
     "metadata": {},
     "output_type": "display_data"
    }
   ],
   "source": [
    "data_4gc2 %>% group_by(Group) %>% identify_outliers(Recall)"
   ]
  },
  {
   "cell_type": "code",
   "execution_count": 81,
   "metadata": {},
   "outputs": [
    {
     "data": {
      "image/png": "[encoded data removed]",
      "text/plain": [
       "plot without title"
      ]
     },
     "metadata": {
      "image/png": {
       "height": 420,
       "width": 420
      }
     },
     "output_type": "display_data"
    }
   ],
   "source": [
    "ggqqplot(data_4gc2,\"Recall\")"
   ]
  },
  {
   "cell_type": "code",
   "execution_count": 82,
   "metadata": {},
   "outputs": [
    {
     "data": {
      "image/png": "[encoded data removed]",
      "text/plain": [
       "plot without title"
      ]
     },
     "metadata": {
      "image/png": {
       "height": 420,
       "width": 420
      }
     },
     "output_type": "display_data"
    }
   ],
   "source": [
    "ggqqplot(data_4gc2, \"Recall\",facet.by=\"Group\")"
   ]
  },
  {
   "cell_type": "code",
   "execution_count": 83,
   "metadata": {},
   "outputs": [
    {
     "data": {
      "text/html": [
       "<table class=\"dataframe\">\n",
       "<caption>A tibble: 2 × 4</caption>\n",
       "<thead>\n",
       "\t<tr><th scope=col>Group</th><th scope=col>variable</th><th scope=col>statistic</th><th scope=col>p</th></tr>\n",
       "\t<tr><th scope=col>&lt;chr&gt;</th><th scope=col>&lt;chr&gt;</th><th scope=col>&lt;dbl&gt;</th><th scope=col>&lt;dbl&gt;</th></tr>\n",
       "</thead>\n",
       "<tbody>\n",
       "\t<tr><td>Older  </td><td>Recall</td><td>0.9466776</td><td>0.319455036</td></tr>\n",
       "\t<tr><td>Younger</td><td>Recall</td><td>0.8440894</td><td>0.004250187</td></tr>\n",
       "</tbody>\n",
       "</table>\n"
      ],
      "text/latex": [
       "A tibble: 2 × 4\n",
       "\\begin{tabular}{llll}\n",
       " Group & variable & statistic & p\\\\\n",
       " <chr> & <chr> & <dbl> & <dbl>\\\\\n",
       "\\hline\n",
       "\t Older   & Recall & 0.9466776 & 0.319455036\\\\\n",
       "\t Younger & Recall & 0.8440894 & 0.004250187\\\\\n",
       "\\end{tabular}\n"
      ],
      "text/markdown": [
       "\n",
       "A tibble: 2 × 4\n",
       "\n",
       "| Group &lt;chr&gt; | variable &lt;chr&gt; | statistic &lt;dbl&gt; | p &lt;dbl&gt; |\n",
       "|---|---|---|---|\n",
       "| Older   | Recall | 0.9466776 | 0.319455036 |\n",
       "| Younger | Recall | 0.8440894 | 0.004250187 |\n",
       "\n"
      ],
      "text/plain": [
       "  Group   variable statistic p          \n",
       "1 Older   Recall   0.9466776 0.319455036\n",
       "2 Younger Recall   0.8440894 0.004250187"
      ]
     },
     "metadata": {},
     "output_type": "display_data"
    }
   ],
   "source": [
    "data_4gc2 %>% group_by(Group) %>% shapiro_test(Recall)"
   ]
  },
  {
   "cell_type": "markdown",
   "metadata": {},
   "source": [
    "فرض نرمالیتی رد می شود و باید از آزمونهای ناپارامتریک استفاده کنیم"
   ]
  },
  {
   "cell_type": "code",
   "execution_count": 85,
   "metadata": {},
   "outputs": [
    {
     "data": {
      "text/html": [
       "<table class=\"dataframe\">\n",
       "<caption>A rstatix_test: 1 × 6</caption>\n",
       "<thead>\n",
       "\t<tr><th></th><th scope=col>.y.</th><th scope=col>n</th><th scope=col>statistic</th><th scope=col>df</th><th scope=col>p</th><th scope=col>method</th></tr>\n",
       "\t<tr><th></th><th scope=col>&lt;chr&gt;</th><th scope=col>&lt;int&gt;</th><th scope=col>&lt;dbl&gt;</th><th scope=col>&lt;int&gt;</th><th scope=col>&lt;dbl&gt;</th><th scope=col>&lt;chr&gt;</th></tr>\n",
       "</thead>\n",
       "<tbody>\n",
       "\t<tr><th scope=row>1</th><td>Recall</td><td>40</td><td>1.490938</td><td>1</td><td>0.222</td><td>Kruskal-Wallis</td></tr>\n",
       "</tbody>\n",
       "</table>\n"
      ],
      "text/latex": [
       "A rstatix\\_test: 1 × 6\n",
       "\\begin{tabular}{r|llllll}\n",
       "  & .y. & n & statistic & df & p & method\\\\\n",
       "  & <chr> & <int> & <dbl> & <int> & <dbl> & <chr>\\\\\n",
       "\\hline\n",
       "\t1 & Recall & 40 & 1.490938 & 1 & 0.222 & Kruskal-Wallis\\\\\n",
       "\\end{tabular}\n"
      ],
      "text/markdown": [
       "\n",
       "A rstatix_test: 1 × 6\n",
       "\n",
       "| <!--/--> | .y. &lt;chr&gt; | n &lt;int&gt; | statistic &lt;dbl&gt; | df &lt;int&gt; | p &lt;dbl&gt; | method &lt;chr&gt; |\n",
       "|---|---|---|---|---|---|---|\n",
       "| 1 | Recall | 40 | 1.490938 | 1 | 0.222 | Kruskal-Wallis |\n",
       "\n"
      ],
      "text/plain": [
       "  .y.    n  statistic df p     method        \n",
       "1 Recall 40 1.490938  1  0.222 Kruskal-Wallis"
      ]
     },
     "metadata": {},
     "output_type": "display_data"
    }
   ],
   "source": [
    "data_4gc2 %>% kruskal_test(Recall ~ Group)"
   ]
  },
  {
   "cell_type": "code",
   "execution_count": 84,
   "metadata": {},
   "outputs": [
    {
     "data": {
      "text/html": [
       "<table class=\"dataframe\">\n",
       "<caption>A rstatix_test: 1 × 5</caption>\n",
       "<thead>\n",
       "\t<tr><th></th><th scope=col>.y.</th><th scope=col>n</th><th scope=col>effsize</th><th scope=col>method</th><th scope=col>magnitude</th></tr>\n",
       "\t<tr><th></th><th scope=col>&lt;chr&gt;</th><th scope=col>&lt;int&gt;</th><th scope=col>&lt;dbl&gt;</th><th scope=col>&lt;chr&gt;</th><th scope=col>&lt;ord&gt;</th></tr>\n",
       "</thead>\n",
       "<tbody>\n",
       "\t<tr><th scope=row>1</th><td>Recall</td><td>40</td><td>0.01291943</td><td>eta2[H]</td><td>small</td></tr>\n",
       "</tbody>\n",
       "</table>\n"
      ],
      "text/latex": [
       "A rstatix\\_test: 1 × 5\n",
       "\\begin{tabular}{r|lllll}\n",
       "  & .y. & n & effsize & method & magnitude\\\\\n",
       "  & <chr> & <int> & <dbl> & <chr> & <ord>\\\\\n",
       "\\hline\n",
       "\t1 & Recall & 40 & 0.01291943 & eta2{[}H{]} & small\\\\\n",
       "\\end{tabular}\n"
      ],
      "text/markdown": [
       "\n",
       "A rstatix_test: 1 × 5\n",
       "\n",
       "| <!--/--> | .y. &lt;chr&gt; | n &lt;int&gt; | effsize &lt;dbl&gt; | method &lt;chr&gt; | magnitude &lt;ord&gt; |\n",
       "|---|---|---|---|---|---|\n",
       "| 1 | Recall | 40 | 0.01291943 | eta2[H] | small |\n",
       "\n"
      ],
      "text/plain": [
       "  .y.    n  effsize    method  magnitude\n",
       "1 Recall 40 0.01291943 eta2[H] small    "
      ]
     },
     "metadata": {},
     "output_type": "display_data"
    }
   ],
   "source": [
    "data_4gc2 %>% kruskal_effsize(Recall ~ Group)"
   ]
  },
  {
   "cell_type": "code",
   "execution_count": 86,
   "metadata": {},
   "outputs": [
    {
     "data": {
      "text/html": [
       "<table class=\"dataframe\">\n",
       "<caption>A rstatix_test: 1 × 7</caption>\n",
       "<thead>\n",
       "\t<tr><th></th><th scope=col>.y.</th><th scope=col>group1</th><th scope=col>group2</th><th scope=col>n1</th><th scope=col>n2</th><th scope=col>statistic</th><th scope=col>p</th></tr>\n",
       "\t<tr><th></th><th scope=col>&lt;chr&gt;</th><th scope=col>&lt;chr&gt;</th><th scope=col>&lt;chr&gt;</th><th scope=col>&lt;int&gt;</th><th scope=col>&lt;int&gt;</th><th scope=col>&lt;dbl&gt;</th><th scope=col>&lt;dbl&gt;</th></tr>\n",
       "</thead>\n",
       "<tbody>\n",
       "\t<tr><th scope=row>1</th><td>Recall</td><td>Older</td><td>Younger</td><td>20</td><td>20</td><td>155</td><td>0.227</td></tr>\n",
       "</tbody>\n",
       "</table>\n"
      ],
      "text/latex": [
       "A rstatix\\_test: 1 × 7\n",
       "\\begin{tabular}{r|lllllll}\n",
       "  & .y. & group1 & group2 & n1 & n2 & statistic & p\\\\\n",
       "  & <chr> & <chr> & <chr> & <int> & <int> & <dbl> & <dbl>\\\\\n",
       "\\hline\n",
       "\t1 & Recall & Older & Younger & 20 & 20 & 155 & 0.227\\\\\n",
       "\\end{tabular}\n"
      ],
      "text/markdown": [
       "\n",
       "A rstatix_test: 1 × 7\n",
       "\n",
       "| <!--/--> | .y. &lt;chr&gt; | group1 &lt;chr&gt; | group2 &lt;chr&gt; | n1 &lt;int&gt; | n2 &lt;int&gt; | statistic &lt;dbl&gt; | p &lt;dbl&gt; |\n",
       "|---|---|---|---|---|---|---|---|\n",
       "| 1 | Recall | Older | Younger | 20 | 20 | 155 | 0.227 |\n",
       "\n"
      ],
      "text/plain": [
       "  .y.    group1 group2  n1 n2 statistic p    \n",
       "1 Recall Older  Younger 20 20 155       0.227"
      ]
     },
     "metadata": {},
     "output_type": "display_data"
    }
   ],
   "source": [
    "data_4gc2 %>% wilcox_test(Recall ~ Group, p.adjust.method = \"bonferroni\")"
   ]
  },
  {
   "cell_type": "markdown",
   "metadata": {},
   "source": [
    "نتایج نشان می دهد که تفاوت معنا داری بین سن ها در یادآوری وجود ندارد ( تایید فرض صفر) در حالی که انتظار ما چنین نیست. بخاطر ترکیب داده ها و در نظر گرفتن عاملی مثل سختی یا سهولت پردازش داده ها ما را به اشتباه می اندازند"
   ]
  },
  {
   "cell_type": "markdown",
   "metadata": {},
   "source": [
    "## 4-D"
   ]
  },
  {
   "cell_type": "markdown",
   "metadata": {},
   "source": [
    "#### Suppose that we collected additional data and had two more subjects in the Younger group, with scores of 13 and 15.\n",
    "1-Rerun the analysis of variance."
   ]
  },
  {
   "cell_type": "code",
   "execution_count": 89,
   "metadata": {},
   "outputs": [],
   "source": [
    "# Additional data\n",
    "additional_data <- data.frame(Group = c(\"Younger\", \"Younger\"),\n",
    "                              Recall = c(13, 15))"
   ]
  },
  {
   "cell_type": "code",
   "execution_count": 124,
   "metadata": {},
   "outputs": [
    {
     "data": {
      "text/html": [
       "<table class=\"dataframe\">\n",
       "<caption>A data.frame: 42 × 2</caption>\n",
       "<thead>\n",
       "\t<tr><th scope=col>Group</th><th scope=col>Recall</th></tr>\n",
       "\t<tr><th scope=col>&lt;chr&gt;</th><th scope=col>&lt;dbl&gt;</th></tr>\n",
       "</thead>\n",
       "<tbody>\n",
       "\t<tr><td>Younger</td><td> 8</td></tr>\n",
       "\t<tr><td>Younger</td><td> 6</td></tr>\n",
       "\t<tr><td>Younger</td><td> 4</td></tr>\n",
       "\t<tr><td>Younger</td><td> 6</td></tr>\n",
       "\t<tr><td>Younger</td><td> 7</td></tr>\n",
       "\t<tr><td>Younger</td><td> 6</td></tr>\n",
       "\t<tr><td>Younger</td><td> 5</td></tr>\n",
       "\t<tr><td>Younger</td><td> 7</td></tr>\n",
       "\t<tr><td>Younger</td><td> 9</td></tr>\n",
       "\t<tr><td>Younger</td><td> 7</td></tr>\n",
       "\t<tr><td>Younger</td><td>21</td></tr>\n",
       "\t<tr><td>Younger</td><td>19</td></tr>\n",
       "\t<tr><td>Younger</td><td>17</td></tr>\n",
       "\t<tr><td>Younger</td><td>15</td></tr>\n",
       "\t<tr><td>Younger</td><td>22</td></tr>\n",
       "\t<tr><td>Younger</td><td>16</td></tr>\n",
       "\t<tr><td>Younger</td><td>22</td></tr>\n",
       "\t<tr><td>Younger</td><td>22</td></tr>\n",
       "\t<tr><td>Younger</td><td>18</td></tr>\n",
       "\t<tr><td>Younger</td><td>21</td></tr>\n",
       "\t<tr><td>Older  </td><td> 9</td></tr>\n",
       "\t<tr><td>Older  </td><td> 8</td></tr>\n",
       "\t<tr><td>Older  </td><td> 6</td></tr>\n",
       "\t<tr><td>Older  </td><td> 8</td></tr>\n",
       "\t<tr><td>Older  </td><td>10</td></tr>\n",
       "\t<tr><td>Older  </td><td> 4</td></tr>\n",
       "\t<tr><td>Older  </td><td> 6</td></tr>\n",
       "\t<tr><td>Older  </td><td> 5</td></tr>\n",
       "\t<tr><td>Older  </td><td> 7</td></tr>\n",
       "\t<tr><td>Older  </td><td> 7</td></tr>\n",
       "\t<tr><td>Older  </td><td>10</td></tr>\n",
       "\t<tr><td>Older  </td><td>19</td></tr>\n",
       "\t<tr><td>Older  </td><td>14</td></tr>\n",
       "\t<tr><td>Older  </td><td> 5</td></tr>\n",
       "\t<tr><td>Older  </td><td>10</td></tr>\n",
       "\t<tr><td>Older  </td><td>11</td></tr>\n",
       "\t<tr><td>Older  </td><td>14</td></tr>\n",
       "\t<tr><td>Older  </td><td>15</td></tr>\n",
       "\t<tr><td>Older  </td><td>11</td></tr>\n",
       "\t<tr><td>Older  </td><td>11</td></tr>\n",
       "\t<tr><td>Younger</td><td>13</td></tr>\n",
       "\t<tr><td>Younger</td><td>15</td></tr>\n",
       "</tbody>\n",
       "</table>\n"
      ],
      "text/latex": [
       "A data.frame: 42 × 2\n",
       "\\begin{tabular}{ll}\n",
       " Group & Recall\\\\\n",
       " <chr> & <dbl>\\\\\n",
       "\\hline\n",
       "\t Younger &  8\\\\\n",
       "\t Younger &  6\\\\\n",
       "\t Younger &  4\\\\\n",
       "\t Younger &  6\\\\\n",
       "\t Younger &  7\\\\\n",
       "\t Younger &  6\\\\\n",
       "\t Younger &  5\\\\\n",
       "\t Younger &  7\\\\\n",
       "\t Younger &  9\\\\\n",
       "\t Younger &  7\\\\\n",
       "\t Younger & 21\\\\\n",
       "\t Younger & 19\\\\\n",
       "\t Younger & 17\\\\\n",
       "\t Younger & 15\\\\\n",
       "\t Younger & 22\\\\\n",
       "\t Younger & 16\\\\\n",
       "\t Younger & 22\\\\\n",
       "\t Younger & 22\\\\\n",
       "\t Younger & 18\\\\\n",
       "\t Younger & 21\\\\\n",
       "\t Older   &  9\\\\\n",
       "\t Older   &  8\\\\\n",
       "\t Older   &  6\\\\\n",
       "\t Older   &  8\\\\\n",
       "\t Older   & 10\\\\\n",
       "\t Older   &  4\\\\\n",
       "\t Older   &  6\\\\\n",
       "\t Older   &  5\\\\\n",
       "\t Older   &  7\\\\\n",
       "\t Older   &  7\\\\\n",
       "\t Older   & 10\\\\\n",
       "\t Older   & 19\\\\\n",
       "\t Older   & 14\\\\\n",
       "\t Older   &  5\\\\\n",
       "\t Older   & 10\\\\\n",
       "\t Older   & 11\\\\\n",
       "\t Older   & 14\\\\\n",
       "\t Older   & 15\\\\\n",
       "\t Older   & 11\\\\\n",
       "\t Older   & 11\\\\\n",
       "\t Younger & 13\\\\\n",
       "\t Younger & 15\\\\\n",
       "\\end{tabular}\n"
      ],
      "text/markdown": [
       "\n",
       "A data.frame: 42 × 2\n",
       "\n",
       "| Group &lt;chr&gt; | Recall &lt;dbl&gt; |\n",
       "|---|---|\n",
       "| Younger |  8 |\n",
       "| Younger |  6 |\n",
       "| Younger |  4 |\n",
       "| Younger |  6 |\n",
       "| Younger |  7 |\n",
       "| Younger |  6 |\n",
       "| Younger |  5 |\n",
       "| Younger |  7 |\n",
       "| Younger |  9 |\n",
       "| Younger |  7 |\n",
       "| Younger | 21 |\n",
       "| Younger | 19 |\n",
       "| Younger | 17 |\n",
       "| Younger | 15 |\n",
       "| Younger | 22 |\n",
       "| Younger | 16 |\n",
       "| Younger | 22 |\n",
       "| Younger | 22 |\n",
       "| Younger | 18 |\n",
       "| Younger | 21 |\n",
       "| Older   |  9 |\n",
       "| Older   |  8 |\n",
       "| Older   |  6 |\n",
       "| Older   |  8 |\n",
       "| Older   | 10 |\n",
       "| Older   |  4 |\n",
       "| Older   |  6 |\n",
       "| Older   |  5 |\n",
       "| Older   |  7 |\n",
       "| Older   |  7 |\n",
       "| Older   | 10 |\n",
       "| Older   | 19 |\n",
       "| Older   | 14 |\n",
       "| Older   |  5 |\n",
       "| Older   | 10 |\n",
       "| Older   | 11 |\n",
       "| Older   | 14 |\n",
       "| Older   | 15 |\n",
       "| Older   | 11 |\n",
       "| Older   | 11 |\n",
       "| Younger | 13 |\n",
       "| Younger | 15 |\n",
       "\n"
      ],
      "text/plain": [
       "   Group   Recall\n",
       "1  Younger  8    \n",
       "2  Younger  6    \n",
       "3  Younger  4    \n",
       "4  Younger  6    \n",
       "5  Younger  7    \n",
       "6  Younger  6    \n",
       "7  Younger  5    \n",
       "8  Younger  7    \n",
       "9  Younger  9    \n",
       "10 Younger  7    \n",
       "11 Younger 21    \n",
       "12 Younger 19    \n",
       "13 Younger 17    \n",
       "14 Younger 15    \n",
       "15 Younger 22    \n",
       "16 Younger 16    \n",
       "17 Younger 22    \n",
       "18 Younger 22    \n",
       "19 Younger 18    \n",
       "20 Younger 21    \n",
       "21 Older    9    \n",
       "22 Older    8    \n",
       "23 Older    6    \n",
       "24 Older    8    \n",
       "25 Older   10    \n",
       "26 Older    4    \n",
       "27 Older    6    \n",
       "28 Older    5    \n",
       "29 Older    7    \n",
       "30 Older    7    \n",
       "31 Older   10    \n",
       "32 Older   19    \n",
       "33 Older   14    \n",
       "34 Older    5    \n",
       "35 Older   10    \n",
       "36 Older   11    \n",
       "37 Older   14    \n",
       "38 Older   15    \n",
       "39 Older   11    \n",
       "40 Older   11    \n",
       "41 Younger 13    \n",
       "42 Younger 15    "
      ]
     },
     "metadata": {},
     "output_type": "display_data"
    }
   ],
   "source": [
    "data_4d <- rbind(data_4gc2, additional_data)\n",
    "data_4d"
   ]
  },
  {
   "cell_type": "code",
   "execution_count": 127,
   "metadata": {},
   "outputs": [
    {
     "data": {
      "text/html": [
       "<table class=\"dataframe\">\n",
       "<caption>A tibble: 2 × 14</caption>\n",
       "<thead>\n",
       "\t<tr><th scope=col>Group</th><th scope=col>variable</th><th scope=col>n</th><th scope=col>min</th><th scope=col>max</th><th scope=col>median</th><th scope=col>q1</th><th scope=col>q3</th><th scope=col>iqr</th><th scope=col>mad</th><th scope=col>mean</th><th scope=col>sd</th><th scope=col>se</th><th scope=col>ci</th></tr>\n",
       "\t<tr><th scope=col>&lt;chr&gt;</th><th scope=col>&lt;fct&gt;</th><th scope=col>&lt;dbl&gt;</th><th scope=col>&lt;dbl&gt;</th><th scope=col>&lt;dbl&gt;</th><th scope=col>&lt;dbl&gt;</th><th scope=col>&lt;dbl&gt;</th><th scope=col>&lt;dbl&gt;</th><th scope=col>&lt;dbl&gt;</th><th scope=col>&lt;dbl&gt;</th><th scope=col>&lt;dbl&gt;</th><th scope=col>&lt;dbl&gt;</th><th scope=col>&lt;dbl&gt;</th><th scope=col>&lt;dbl&gt;</th></tr>\n",
       "</thead>\n",
       "<tbody>\n",
       "\t<tr><td>Older  </td><td>Recall</td><td>20</td><td>4</td><td>19</td><td> 9.5</td><td>6.75</td><td>11.00</td><td> 4.25</td><td> 3.706</td><td> 9.5</td><td>3.846</td><td>0.86</td><td>1.800</td></tr>\n",
       "\t<tr><td>Younger</td><td>Recall</td><td>22</td><td>4</td><td>22</td><td>14.0</td><td>7.00</td><td>18.75</td><td>11.75</td><td>10.378</td><td>13.0</td><td>6.568</td><td>1.40</td><td>2.912</td></tr>\n",
       "</tbody>\n",
       "</table>\n"
      ],
      "text/latex": [
       "A tibble: 2 × 14\n",
       "\\begin{tabular}{llllllllllllll}\n",
       " Group & variable & n & min & max & median & q1 & q3 & iqr & mad & mean & sd & se & ci\\\\\n",
       " <chr> & <fct> & <dbl> & <dbl> & <dbl> & <dbl> & <dbl> & <dbl> & <dbl> & <dbl> & <dbl> & <dbl> & <dbl> & <dbl>\\\\\n",
       "\\hline\n",
       "\t Older   & Recall & 20 & 4 & 19 &  9.5 & 6.75 & 11.00 &  4.25 &  3.706 &  9.5 & 3.846 & 0.86 & 1.800\\\\\n",
       "\t Younger & Recall & 22 & 4 & 22 & 14.0 & 7.00 & 18.75 & 11.75 & 10.378 & 13.0 & 6.568 & 1.40 & 2.912\\\\\n",
       "\\end{tabular}\n"
      ],
      "text/markdown": [
       "\n",
       "A tibble: 2 × 14\n",
       "\n",
       "| Group &lt;chr&gt; | variable &lt;fct&gt; | n &lt;dbl&gt; | min &lt;dbl&gt; | max &lt;dbl&gt; | median &lt;dbl&gt; | q1 &lt;dbl&gt; | q3 &lt;dbl&gt; | iqr &lt;dbl&gt; | mad &lt;dbl&gt; | mean &lt;dbl&gt; | sd &lt;dbl&gt; | se &lt;dbl&gt; | ci &lt;dbl&gt; |\n",
       "|---|---|---|---|---|---|---|---|---|---|---|---|---|---|\n",
       "| Older   | Recall | 20 | 4 | 19 |  9.5 | 6.75 | 11.00 |  4.25 |  3.706 |  9.5 | 3.846 | 0.86 | 1.800 |\n",
       "| Younger | Recall | 22 | 4 | 22 | 14.0 | 7.00 | 18.75 | 11.75 | 10.378 | 13.0 | 6.568 | 1.40 | 2.912 |\n",
       "\n"
      ],
      "text/plain": [
       "  Group   variable n  min max median q1   q3    iqr   mad    mean sd    se  \n",
       "1 Older   Recall   20 4   19   9.5   6.75 11.00  4.25  3.706  9.5 3.846 0.86\n",
       "2 Younger Recall   22 4   22  14.0   7.00 18.75 11.75 10.378 13.0 6.568 1.40\n",
       "  ci   \n",
       "1 1.800\n",
       "2 2.912"
      ]
     },
     "metadata": {},
     "output_type": "display_data"
    }
   ],
   "source": [
    "data_4d %>% group_by(Group) %>% get_summary_stats(Recall)"
   ]
  },
  {
   "cell_type": "markdown",
   "metadata": {},
   "source": [
    "میانگین و میانه و واریانس گروه پیر طبیعتا تغییری نمی کند. اما میانگین گروه جوان تر از 12.9 به 13 تغییر پیدا می کند\n",
    "\n",
    "واریانس گروه جوان از 6.889 به 6.568 کاهش می یابد\n",
    "\n",
    "میانه گروه جوان از 12.0 به 14 افزایش می یابد\n"
   ]
  },
  {
   "cell_type": "code",
   "execution_count": 128,
   "metadata": {},
   "outputs": [
    {
     "data": {
      "image/png": "[encoded data removed]",
      "text/plain": [
       "plot without title"
      ]
     },
     "metadata": {
      "image/png": {
       "height": 420,
       "width": 420
      }
     },
     "output_type": "display_data"
    }
   ],
   "source": [
    "ggboxplot(data_4d, x=\"Group\", y=\"Recall\", color=\"Group\",add=\"point\")"
   ]
  },
  {
   "cell_type": "code",
   "execution_count": 129,
   "metadata": {},
   "outputs": [
    {
     "data": {
      "text/html": [
       "<table class=\"dataframe\">\n",
       "<caption>A tibble: 1 × 4</caption>\n",
       "<thead>\n",
       "\t<tr><th scope=col>Group</th><th scope=col>Recall</th><th scope=col>is.outlier</th><th scope=col>is.extreme</th></tr>\n",
       "\t<tr><th scope=col>&lt;chr&gt;</th><th scope=col>&lt;dbl&gt;</th><th scope=col>&lt;lgl&gt;</th><th scope=col>&lt;lgl&gt;</th></tr>\n",
       "</thead>\n",
       "<tbody>\n",
       "\t<tr><td>Older</td><td>19</td><td>TRUE</td><td>FALSE</td></tr>\n",
       "</tbody>\n",
       "</table>\n"
      ],
      "text/latex": [
       "A tibble: 1 × 4\n",
       "\\begin{tabular}{llll}\n",
       " Group & Recall & is.outlier & is.extreme\\\\\n",
       " <chr> & <dbl> & <lgl> & <lgl>\\\\\n",
       "\\hline\n",
       "\t Older & 19 & TRUE & FALSE\\\\\n",
       "\\end{tabular}\n"
      ],
      "text/markdown": [
       "\n",
       "A tibble: 1 × 4\n",
       "\n",
       "| Group &lt;chr&gt; | Recall &lt;dbl&gt; | is.outlier &lt;lgl&gt; | is.extreme &lt;lgl&gt; |\n",
       "|---|---|---|---|\n",
       "| Older | 19 | TRUE | FALSE |\n",
       "\n"
      ],
      "text/plain": [
       "  Group Recall is.outlier is.extreme\n",
       "1 Older 19     TRUE       FALSE     "
      ]
     },
     "metadata": {},
     "output_type": "display_data"
    }
   ],
   "source": [
    "data_4d %>% group_by(Group) %>% identify_outliers(Recall)"
   ]
  },
  {
   "cell_type": "code",
   "execution_count": 130,
   "metadata": {},
   "outputs": [
    {
     "data": {
      "image/png": "[encoded data removed]",
      "text/plain": [
       "plot without title"
      ]
     },
     "metadata": {
      "image/png": {
       "height": 420,
       "width": 420
      }
     },
     "output_type": "display_data"
    }
   ],
   "source": [
    "ggqqplot(data_4d,\"Recall\")"
   ]
  },
  {
   "cell_type": "code",
   "execution_count": 131,
   "metadata": {
    "scrolled": true
   },
   "outputs": [
    {
     "data": {
      "image/png": "[encoded data removed]",
      "text/plain": [
       "plot without title"
      ]
     },
     "metadata": {
      "image/png": {
       "height": 420,
       "width": 420
      }
     },
     "output_type": "display_data"
    }
   ],
   "source": [
    "ggqqplot(data_4d, \"Recall\",facet.by=\"Group\")"
   ]
  },
  {
   "cell_type": "code",
   "execution_count": 132,
   "metadata": {},
   "outputs": [
    {
     "data": {
      "text/html": [
       "<table class=\"dataframe\">\n",
       "<caption>A tibble: 2 × 4</caption>\n",
       "<thead>\n",
       "\t<tr><th scope=col>Group</th><th scope=col>variable</th><th scope=col>statistic</th><th scope=col>p</th></tr>\n",
       "\t<tr><th scope=col>&lt;chr&gt;</th><th scope=col>&lt;chr&gt;</th><th scope=col>&lt;dbl&gt;</th><th scope=col>&lt;dbl&gt;</th></tr>\n",
       "</thead>\n",
       "<tbody>\n",
       "\t<tr><td>Older  </td><td>Recall</td><td>0.9466776</td><td>0.31945504</td></tr>\n",
       "\t<tr><td>Younger</td><td>Recall</td><td>0.8760186</td><td>0.01015101</td></tr>\n",
       "</tbody>\n",
       "</table>\n"
      ],
      "text/latex": [
       "A tibble: 2 × 4\n",
       "\\begin{tabular}{llll}\n",
       " Group & variable & statistic & p\\\\\n",
       " <chr> & <chr> & <dbl> & <dbl>\\\\\n",
       "\\hline\n",
       "\t Older   & Recall & 0.9466776 & 0.31945504\\\\\n",
       "\t Younger & Recall & 0.8760186 & 0.01015101\\\\\n",
       "\\end{tabular}\n"
      ],
      "text/markdown": [
       "\n",
       "A tibble: 2 × 4\n",
       "\n",
       "| Group &lt;chr&gt; | variable &lt;chr&gt; | statistic &lt;dbl&gt; | p &lt;dbl&gt; |\n",
       "|---|---|---|---|\n",
       "| Older   | Recall | 0.9466776 | 0.31945504 |\n",
       "| Younger | Recall | 0.8760186 | 0.01015101 |\n",
       "\n"
      ],
      "text/plain": [
       "  Group   variable statistic p         \n",
       "1 Older   Recall   0.9466776 0.31945504\n",
       "2 Younger Recall   0.8760186 0.01015101"
      ]
     },
     "metadata": {},
     "output_type": "display_data"
    }
   ],
   "source": [
    "data_4d %>% group_by(Group) %>% shapiro_test(Recall)"
   ]
  },
  {
   "cell_type": "markdown",
   "metadata": {},
   "source": [
    "همچنان فرض نرمالیتی برقرار نیست"
   ]
  },
  {
   "cell_type": "code",
   "execution_count": 133,
   "metadata": {},
   "outputs": [
    {
     "data": {
      "text/html": [
       "<table class=\"dataframe\">\n",
       "<caption>A rstatix_test: 1 × 6</caption>\n",
       "<thead>\n",
       "\t<tr><th></th><th scope=col>.y.</th><th scope=col>n</th><th scope=col>statistic</th><th scope=col>df</th><th scope=col>p</th><th scope=col>method</th></tr>\n",
       "\t<tr><th></th><th scope=col>&lt;chr&gt;</th><th scope=col>&lt;int&gt;</th><th scope=col>&lt;dbl&gt;</th><th scope=col>&lt;int&gt;</th><th scope=col>&lt;dbl&gt;</th><th scope=col>&lt;chr&gt;</th></tr>\n",
       "</thead>\n",
       "<tbody>\n",
       "\t<tr><th scope=row>1</th><td>Recall</td><td>42</td><td>2.258027</td><td>1</td><td>0.133</td><td>Kruskal-Wallis</td></tr>\n",
       "</tbody>\n",
       "</table>\n"
      ],
      "text/latex": [
       "A rstatix\\_test: 1 × 6\n",
       "\\begin{tabular}{r|llllll}\n",
       "  & .y. & n & statistic & df & p & method\\\\\n",
       "  & <chr> & <int> & <dbl> & <int> & <dbl> & <chr>\\\\\n",
       "\\hline\n",
       "\t1 & Recall & 42 & 2.258027 & 1 & 0.133 & Kruskal-Wallis\\\\\n",
       "\\end{tabular}\n"
      ],
      "text/markdown": [
       "\n",
       "A rstatix_test: 1 × 6\n",
       "\n",
       "| <!--/--> | .y. &lt;chr&gt; | n &lt;int&gt; | statistic &lt;dbl&gt; | df &lt;int&gt; | p &lt;dbl&gt; | method &lt;chr&gt; |\n",
       "|---|---|---|---|---|---|---|\n",
       "| 1 | Recall | 42 | 2.258027 | 1 | 0.133 | Kruskal-Wallis |\n",
       "\n"
      ],
      "text/plain": [
       "  .y.    n  statistic df p     method        \n",
       "1 Recall 42 2.258027  1  0.133 Kruskal-Wallis"
      ]
     },
     "metadata": {},
     "output_type": "display_data"
    }
   ],
   "source": [
    "data_4d %>% kruskal_test(Recall ~ Group)"
   ]
  },
  {
   "cell_type": "code",
   "execution_count": 134,
   "metadata": {},
   "outputs": [
    {
     "data": {
      "text/html": [
       "<table class=\"dataframe\">\n",
       "<caption>A rstatix_test: 1 × 5</caption>\n",
       "<thead>\n",
       "\t<tr><th></th><th scope=col>.y.</th><th scope=col>n</th><th scope=col>effsize</th><th scope=col>method</th><th scope=col>magnitude</th></tr>\n",
       "\t<tr><th></th><th scope=col>&lt;chr&gt;</th><th scope=col>&lt;int&gt;</th><th scope=col>&lt;dbl&gt;</th><th scope=col>&lt;chr&gt;</th><th scope=col>&lt;ord&gt;</th></tr>\n",
       "</thead>\n",
       "<tbody>\n",
       "\t<tr><th scope=row>1</th><td>Recall</td><td>42</td><td>0.03145066</td><td>eta2[H]</td><td>small</td></tr>\n",
       "</tbody>\n",
       "</table>\n"
      ],
      "text/latex": [
       "A rstatix\\_test: 1 × 5\n",
       "\\begin{tabular}{r|lllll}\n",
       "  & .y. & n & effsize & method & magnitude\\\\\n",
       "  & <chr> & <int> & <dbl> & <chr> & <ord>\\\\\n",
       "\\hline\n",
       "\t1 & Recall & 42 & 0.03145066 & eta2{[}H{]} & small\\\\\n",
       "\\end{tabular}\n"
      ],
      "text/markdown": [
       "\n",
       "A rstatix_test: 1 × 5\n",
       "\n",
       "| <!--/--> | .y. &lt;chr&gt; | n &lt;int&gt; | effsize &lt;dbl&gt; | method &lt;chr&gt; | magnitude &lt;ord&gt; |\n",
       "|---|---|---|---|---|---|\n",
       "| 1 | Recall | 42 | 0.03145066 | eta2[H] | small |\n",
       "\n"
      ],
      "text/plain": [
       "  .y.    n  effsize    method  magnitude\n",
       "1 Recall 42 0.03145066 eta2[H] small    "
      ]
     },
     "metadata": {},
     "output_type": "display_data"
    }
   ],
   "source": [
    "data_4d %>% kruskal_effsize(Recall ~ Group)"
   ]
  },
  {
   "cell_type": "code",
   "execution_count": 135,
   "metadata": {},
   "outputs": [
    {
     "data": {
      "text/html": [
       "<table class=\"dataframe\">\n",
       "<caption>A rstatix_test: 1 × 7</caption>\n",
       "<thead>\n",
       "\t<tr><th></th><th scope=col>.y.</th><th scope=col>group1</th><th scope=col>group2</th><th scope=col>n1</th><th scope=col>n2</th><th scope=col>statistic</th><th scope=col>p</th></tr>\n",
       "\t<tr><th></th><th scope=col>&lt;chr&gt;</th><th scope=col>&lt;chr&gt;</th><th scope=col>&lt;chr&gt;</th><th scope=col>&lt;int&gt;</th><th scope=col>&lt;int&gt;</th><th scope=col>&lt;dbl&gt;</th><th scope=col>&lt;dbl&gt;</th></tr>\n",
       "</thead>\n",
       "<tbody>\n",
       "\t<tr><th scope=row>1</th><td>Recall</td><td>Older</td><td>Younger</td><td>20</td><td>22</td><td>160.5</td><td>0.136</td></tr>\n",
       "</tbody>\n",
       "</table>\n"
      ],
      "text/latex": [
       "A rstatix\\_test: 1 × 7\n",
       "\\begin{tabular}{r|lllllll}\n",
       "  & .y. & group1 & group2 & n1 & n2 & statistic & p\\\\\n",
       "  & <chr> & <chr> & <chr> & <int> & <int> & <dbl> & <dbl>\\\\\n",
       "\\hline\n",
       "\t1 & Recall & Older & Younger & 20 & 22 & 160.5 & 0.136\\\\\n",
       "\\end{tabular}\n"
      ],
      "text/markdown": [
       "\n",
       "A rstatix_test: 1 × 7\n",
       "\n",
       "| <!--/--> | .y. &lt;chr&gt; | group1 &lt;chr&gt; | group2 &lt;chr&gt; | n1 &lt;int&gt; | n2 &lt;int&gt; | statistic &lt;dbl&gt; | p &lt;dbl&gt; |\n",
       "|---|---|---|---|---|---|---|---|\n",
       "| 1 | Recall | Older | Younger | 20 | 22 | 160.5 | 0.136 |\n",
       "\n"
      ],
      "text/plain": [
       "  .y.    group1 group2  n1 n2 statistic p    \n",
       "1 Recall Older  Younger 20 22 160.5     0.136"
      ]
     },
     "metadata": {},
     "output_type": "display_data"
    }
   ],
   "source": [
    "data_4d %>% wilcox_test(Recall ~ Group, p.adjust.method = \"bonferroni\")"
   ]
  },
  {
   "cell_type": "markdown",
   "metadata": {},
   "source": [
    "همچنان قادر به رد فرض صفر نیستیم"
   ]
  },
  {
   "cell_type": "code",
   "execution_count": 142,
   "metadata": {},
   "outputs": [
    {
     "data": {
      "text/plain": [
       "\n",
       "\tWelch Two Sample t-test\n",
       "\n",
       "data:  Recall by Group\n",
       "t = -2.1298, df = 34.415, p-value = 0.04042\n",
       "alternative hypothesis: true difference in means between group Older and group Younger is not equal to 0\n",
       "95 percent confidence interval:\n",
       " -6.8381532 -0.1618468\n",
       "sample estimates:\n",
       "  mean in group Older mean in group Younger \n",
       "                  9.5                  13.0 \n"
      ]
     },
     "metadata": {},
     "output_type": "display_data"
    }
   ],
   "source": [
    "# Independent groups t-test without pooling variances\n",
    "ttest_without_pooling <- t.test(Recall ~ Group, data = data_4d, var.equal = FALSE)\n",
    "ttest_without_pooling\n"
   ]
  },
  {
   "cell_type": "code",
   "execution_count": 139,
   "metadata": {},
   "outputs": [
    {
     "data": {
      "text/plain": [
       "\n",
       "\tTwo Sample t-test\n",
       "\n",
       "data:  Recall by Group\n",
       "t = -2.0796, df = 40, p-value = 0.04402\n",
       "alternative hypothesis: true difference in means between group Older and group Younger is not equal to 0\n",
       "95 percent confidence interval:\n",
       " -6.90154472 -0.09845528\n",
       "sample estimates:\n",
       "  mean in group Older mean in group Younger \n",
       "                  9.5                  13.0 \n"
      ]
     },
     "metadata": {},
     "output_type": "display_data"
    }
   ],
   "source": [
    "# Independent groups t-test with pooling variances\n",
    "ttest_with_pooling <- t.test(Recall ~ Group, data = data_4d, var.equal = TRUE)\n",
    "ttest_with_pooling"
   ]
  }
 ],
 "metadata": {
  "kernelspec": {
   "display_name": "R",
   "language": "R",
   "name": "ir"
  },
  "language_info": {
   "codemirror_mode": "r",
   "file_extension": ".r",
   "mimetype": "text/x-r-source",
   "name": "R",
   "pygments_lexer": "r",
   "version": "4.1.3"
  }
 },
 "nbformat": 4,
 "nbformat_minor": 2
}
