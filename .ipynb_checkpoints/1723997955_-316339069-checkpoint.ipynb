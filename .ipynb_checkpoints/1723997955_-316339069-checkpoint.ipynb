{
 "cells": [
  {
   "cell_type": "markdown",
   "id": "5a3ba8d8",
   "metadata": {},
   "source": [
    "# PART A."
   ]
  },
  {
   "cell_type": "code",
   "execution_count": 5,
   "id": "e5c9e9d2",
   "metadata": {},
   "outputs": [
    {
     "data": {
      "text/html": [
       "3.92994204085053"
      ],
      "text/latex": [
       "3.92994204085053"
      ],
      "text/markdown": [
       "3.92994204085053"
      ],
      "text/plain": [
       "[1] 3.929942"
      ]
     },
     "metadata": {},
     "output_type": "display_data"
    }
   ],
   "source": [
    "x <- c(19, 15, 22, 13, 18, 15, 20, 25, 22)    #creates list 'x'.\n",
    "\n",
    " sd(x)  #calculates the standard deviation of the values in the list 'x'"
   ]
  },
  {
   "cell_type": "code",
   "execution_count": 6,
   "id": "befd56a9",
   "metadata": {},
   "outputs": [
    {
     "data": {
      "text/html": [
       "4.1726148019814"
      ],
      "text/latex": [
       "4.1726148019814"
      ],
      "text/markdown": [
       "4.1726148019814"
      ],
      "text/plain": [
       "[1] 4.172615"
      ]
     },
     "metadata": {},
     "output_type": "display_data"
    }
   ],
   "source": [
    "y <- c(14, 18, 17, 12, 21, 21, 24, 14)    #creates list 'y'.\n",
    "\n",
    " sd(y)  #calculates the standard deviation of the values in the list 'y'"
   ]
  },
  {
   "cell_type": "code",
   "execution_count": 7,
   "id": "bf97f343",
   "metadata": {},
   "outputs": [
    {
     "name": "stdout",
     "output_type": "stream",
     "text": [
      "[1] 18.77778\n"
     ]
    }
   ],
   "source": [
    "result.mean <- mean(x)\n",
    "print(result.mean)"
   ]
  },
  {
   "cell_type": "code",
   "execution_count": 8,
   "id": "606c4173",
   "metadata": {},
   "outputs": [
    {
     "name": "stdout",
     "output_type": "stream",
     "text": [
      "[1] 17.625\n"
     ]
    }
   ],
   "source": [
    "result.mean <- mean(y)\n",
    "print(result.mean)"
   ]
  },
  {
   "cell_type": "code",
   "execution_count": 9,
   "id": "5e944dcc",
   "metadata": {},
   "outputs": [],
   "source": [
    "n1 = 9"
   ]
  },
  {
   "cell_type": "code",
   "execution_count": 10,
   "id": "144c019b",
   "metadata": {},
   "outputs": [],
   "source": [
    "n2 = 8"
   ]
  },
  {
   "cell_type": "code",
   "execution_count": 15,
   "id": "b3a344e3",
   "metadata": {},
   "outputs": [],
   "source": [
    "s_p_square <- ((n1-1)*sd(x)^2 + (n2-1)*sd(y)^2)/(n1 + n2 - 2)"
   ]
  },
  {
   "cell_type": "code",
   "execution_count": 16,
   "id": "7e8a38ef",
   "metadata": {},
   "outputs": [
    {
     "data": {
      "text/html": [
       "16.362037037037"
      ],
      "text/latex": [
       "16.362037037037"
      ],
      "text/markdown": [
       "16.362037037037"
      ],
      "text/plain": [
       "[1] 16.36204"
      ]
     },
     "metadata": {},
     "output_type": "display_data"
    }
   ],
   "source": [
    "s_p_square"
   ]
  },
  {
   "cell_type": "code",
   "execution_count": 22,
   "id": "c49586b4",
   "metadata": {},
   "outputs": [],
   "source": [
    "t <- (mean(x) - mean(y)) / sqrt((s_p_square/n1) + (s_p_square/n2))"
   ]
  },
  {
   "cell_type": "code",
   "execution_count": 21,
   "id": "133ebed4",
   "metadata": {},
   "outputs": [
    {
     "data": {
      "text/html": [
       "0.58650092010437"
      ],
      "text/latex": [
       "0.58650092010437"
      ],
      "text/markdown": [
       "0.58650092010437"
      ],
      "text/plain": [
       "[1] 0.5865009"
      ]
     },
     "metadata": {},
     "output_type": "display_data"
    }
   ],
   "source": [
    "t"
   ]
  },
  {
   "cell_type": "code",
   "execution_count": 31,
   "id": "ae3ba6ee",
   "metadata": {},
   "outputs": [],
   "source": [
    "d <- qt(0.025, 15)"
   ]
  },
  {
   "cell_type": "code",
   "execution_count": 32,
   "id": "21b7f6e9",
   "metadata": {},
   "outputs": [
    {
     "data": {
      "text/html": [
       "-2.13144954555978"
      ],
      "text/latex": [
       "-2.13144954555978"
      ],
      "text/markdown": [
       "-2.13144954555978"
      ],
      "text/plain": [
       "[1] -2.13145"
      ]
     },
     "metadata": {},
     "output_type": "display_data"
    }
   ],
   "source": [
    "d"
   ]
  },
  {
   "cell_type": "markdown",
   "id": "777254db",
   "metadata": {},
   "source": [
    "t0.05[15] = +-(2.131) --> فرض صفر رد نمی شود"
   ]
  },
  {
   "cell_type": "markdown",
   "id": "644c4069",
   "metadata": {},
   "source": [
    "نمی توانیم نتیجه بگیریم که داده ها نشانگر تاثیر بایاس آزمایشگر هستند"
   ]
  },
  {
   "cell_type": "markdown",
   "id": "130e3f86",
   "metadata": {},
   "source": [
    "## confidence interval"
   ]
  },
  {
   "cell_type": "code",
   "execution_count": 27,
   "id": "a0084cb4",
   "metadata": {},
   "outputs": [],
   "source": [
    "Mean_difference <- (mean(x) - mean(y))  "
   ]
  },
  {
   "cell_type": "code",
   "execution_count": 28,
   "id": "ca92042c",
   "metadata": {},
   "outputs": [
    {
     "data": {
      "text/html": [
       "1.15277777777778"
      ],
      "text/latex": [
       "1.15277777777778"
      ],
      "text/markdown": [
       "1.15277777777778"
      ],
      "text/plain": [
       "[1] 1.152778"
      ]
     },
     "metadata": {},
     "output_type": "display_data"
    }
   ],
   "source": [
    "Mean_difference"
   ]
  },
  {
   "cell_type": "code",
   "execution_count": 33,
   "id": "ad0d1af1",
   "metadata": {},
   "outputs": [],
   "source": [
    "s_x1_x2 <- sqrt((s_p_square / n1) + (s_p_square / n2))"
   ]
  },
  {
   "cell_type": "code",
   "execution_count": 40,
   "id": "1bd1f4de",
   "metadata": {},
   "outputs": [
    {
     "data": {
      "text/html": [
       "1.96551742420564"
      ],
      "text/latex": [
       "1.96551742420564"
      ],
      "text/markdown": [
       "1.96551742420564"
      ],
      "text/plain": [
       "[1] 1.965517"
      ]
     },
     "metadata": {},
     "output_type": "display_data"
    }
   ],
   "source": [
    "s_x1_x2"
   ]
  },
  {
   "cell_type": "code",
   "execution_count": 34,
   "id": "4ab57d92",
   "metadata": {},
   "outputs": [],
   "source": [
    "ConfInt1 = Mean_difference + (2.13 * s_x1_x2)"
   ]
  },
  {
   "cell_type": "code",
   "execution_count": 35,
   "id": "10bd7645",
   "metadata": {},
   "outputs": [
    {
     "data": {
      "text/html": [
       "5.33932989133579"
      ],
      "text/latex": [
       "5.33932989133579"
      ],
      "text/markdown": [
       "5.33932989133579"
      ],
      "text/plain": [
       "[1] 5.33933"
      ]
     },
     "metadata": {},
     "output_type": "display_data"
    }
   ],
   "source": [
    "ConfInt1 "
   ]
  },
  {
   "cell_type": "code",
   "execution_count": 38,
   "id": "73da18ee",
   "metadata": {},
   "outputs": [],
   "source": [
    "ConfInt2 = Mean_difference - (2.13 * s_x1_x2)"
   ]
  },
  {
   "cell_type": "code",
   "execution_count": 39,
   "id": "6136b484",
   "metadata": {},
   "outputs": [
    {
     "data": {
      "text/html": [
       "-3.03377433578023"
      ],
      "text/latex": [
       "-3.03377433578023"
      ],
      "text/markdown": [
       "-3.03377433578023"
      ],
      "text/plain": [
       "[1] -3.033774"
      ]
     },
     "metadata": {},
     "output_type": "display_data"
    }
   ],
   "source": [
    "ConfInt2"
   ]
  },
  {
   "cell_type": "markdown",
   "id": "a13e446a",
   "metadata": {},
   "source": [
    "-3.03 < mu1 - mu2 < 5.34"
   ]
  },
  {
   "cell_type": "markdown",
   "id": "d1e9f048",
   "metadata": {},
   "source": [
    "## Effect size"
   ]
  },
  {
   "cell_type": "code",
   "execution_count": 25,
   "id": "d55774b3",
   "metadata": {},
   "outputs": [],
   "source": [
    "d <- (mean(x) - mean(y)) / sqrt(s_p_square)"
   ]
  },
  {
   "cell_type": "code",
   "execution_count": 26,
   "id": "8dc846ab",
   "metadata": {},
   "outputs": [
    {
     "data": {
      "text/html": [
       "0.284988220950924"
      ],
      "text/latex": [
       "0.284988220950924"
      ],
      "text/markdown": [
       "0.284988220950924"
      ],
      "text/plain": [
       "[1] 0.2849882"
      ]
     },
     "metadata": {},
     "output_type": "display_data"
    }
   ],
   "source": [
    "d"
   ]
  },
  {
   "cell_type": "markdown",
   "id": "427f673d",
   "metadata": {},
   "source": [
    "# PART B."
   ]
  },
  {
   "cell_type": "markdown",
   "id": "619fabb8",
   "metadata": {},
   "source": [
    "H1: mean(normal) <> mean(schizophrenic)\n",
    "میانگین جامعه نرمال با میانگین جامعه اسکیزوفرنیا متفاوت است."
   ]
  },
  {
   "cell_type": "code",
   "execution_count": null,
   "id": "9eacd446",
   "metadata": {},
   "outputs": [],
   "source": [
    " در گروه اسکیزوفرنی تنوع بسیار کمتری نسبت به گروه عادی وجود دارد زیرا تعداد تست ادراک موضوعی که نشاندهنده رابطه مثبت والد-فرزندی است  می توانست یک اثر کف در 0.0 داشته باشد "
   ]
  },
  {
   "cell_type": "code",
   "execution_count": 41,
   "id": "17ab2ea4",
   "metadata": {},
   "outputs": [],
   "source": [
    "setwd('D:/R Projects/Project2')"
   ]
  },
  {
   "cell_type": "code",
   "execution_count": 43,
   "id": "2f75c2cb",
   "metadata": {},
   "outputs": [],
   "source": [
    "Data = read.table(\"project_2_B.dat\", header=TRUE)"
   ]
  },
  {
   "cell_type": "code",
   "execution_count": 44,
   "id": "a61b5a96",
   "metadata": {},
   "outputs": [
    {
     "data": {
      "text/html": [
       "<table>\n",
       "<thead><tr><th scope=col>GROUP</th><th scope=col>NUMBER</th></tr></thead>\n",
       "<tbody>\n",
       "\t<tr><td>1</td><td>8</td></tr>\n",
       "\t<tr><td>1</td><td>4</td></tr>\n",
       "\t<tr><td>1</td><td>6</td></tr>\n",
       "\t<tr><td>1</td><td>3</td></tr>\n",
       "\t<tr><td>1</td><td>1</td></tr>\n",
       "\t<tr><td>1</td><td>4</td></tr>\n",
       "\t<tr><td>1</td><td>4</td></tr>\n",
       "\t<tr><td>1</td><td>6</td></tr>\n",
       "\t<tr><td>1</td><td>4</td></tr>\n",
       "\t<tr><td>1</td><td>2</td></tr>\n",
       "\t<tr><td>1</td><td>2</td></tr>\n",
       "\t<tr><td>1</td><td>1</td></tr>\n",
       "\t<tr><td>1</td><td>1</td></tr>\n",
       "\t<tr><td>1</td><td>4</td></tr>\n",
       "\t<tr><td>1</td><td>3</td></tr>\n",
       "\t<tr><td>1</td><td>3</td></tr>\n",
       "\t<tr><td>1</td><td>2</td></tr>\n",
       "\t<tr><td>1</td><td>6</td></tr>\n",
       "\t<tr><td>1</td><td>3</td></tr>\n",
       "\t<tr><td>1</td><td>4</td></tr>\n",
       "\t<tr><td>2</td><td>2</td></tr>\n",
       "\t<tr><td>2</td><td>1</td></tr>\n",
       "\t<tr><td>2</td><td>1</td></tr>\n",
       "\t<tr><td>2</td><td>3</td></tr>\n",
       "\t<tr><td>2</td><td>2</td></tr>\n",
       "\t<tr><td>2</td><td>7</td></tr>\n",
       "\t<tr><td>2</td><td>2</td></tr>\n",
       "\t<tr><td>2</td><td>1</td></tr>\n",
       "\t<tr><td>2</td><td>3</td></tr>\n",
       "\t<tr><td>2</td><td>1</td></tr>\n",
       "\t<tr><td>2</td><td>0</td></tr>\n",
       "\t<tr><td>2</td><td>2</td></tr>\n",
       "\t<tr><td>2</td><td>4</td></tr>\n",
       "\t<tr><td>2</td><td>2</td></tr>\n",
       "\t<tr><td>2</td><td>3</td></tr>\n",
       "\t<tr><td>2</td><td>3</td></tr>\n",
       "\t<tr><td>2</td><td>0</td></tr>\n",
       "\t<tr><td>2</td><td>1</td></tr>\n",
       "\t<tr><td>2</td><td>2</td></tr>\n",
       "\t<tr><td>2</td><td>2</td></tr>\n",
       "</tbody>\n",
       "</table>\n"
      ],
      "text/latex": [
       "\\begin{tabular}{r|ll}\n",
       " GROUP & NUMBER\\\\\n",
       "\\hline\n",
       "\t 1 & 8\\\\\n",
       "\t 1 & 4\\\\\n",
       "\t 1 & 6\\\\\n",
       "\t 1 & 3\\\\\n",
       "\t 1 & 1\\\\\n",
       "\t 1 & 4\\\\\n",
       "\t 1 & 4\\\\\n",
       "\t 1 & 6\\\\\n",
       "\t 1 & 4\\\\\n",
       "\t 1 & 2\\\\\n",
       "\t 1 & 2\\\\\n",
       "\t 1 & 1\\\\\n",
       "\t 1 & 1\\\\\n",
       "\t 1 & 4\\\\\n",
       "\t 1 & 3\\\\\n",
       "\t 1 & 3\\\\\n",
       "\t 1 & 2\\\\\n",
       "\t 1 & 6\\\\\n",
       "\t 1 & 3\\\\\n",
       "\t 1 & 4\\\\\n",
       "\t 2 & 2\\\\\n",
       "\t 2 & 1\\\\\n",
       "\t 2 & 1\\\\\n",
       "\t 2 & 3\\\\\n",
       "\t 2 & 2\\\\\n",
       "\t 2 & 7\\\\\n",
       "\t 2 & 2\\\\\n",
       "\t 2 & 1\\\\\n",
       "\t 2 & 3\\\\\n",
       "\t 2 & 1\\\\\n",
       "\t 2 & 0\\\\\n",
       "\t 2 & 2\\\\\n",
       "\t 2 & 4\\\\\n",
       "\t 2 & 2\\\\\n",
       "\t 2 & 3\\\\\n",
       "\t 2 & 3\\\\\n",
       "\t 2 & 0\\\\\n",
       "\t 2 & 1\\\\\n",
       "\t 2 & 2\\\\\n",
       "\t 2 & 2\\\\\n",
       "\\end{tabular}\n"
      ],
      "text/markdown": [
       "\n",
       "| GROUP | NUMBER |\n",
       "|---|---|\n",
       "| 1 | 8 |\n",
       "| 1 | 4 |\n",
       "| 1 | 6 |\n",
       "| 1 | 3 |\n",
       "| 1 | 1 |\n",
       "| 1 | 4 |\n",
       "| 1 | 4 |\n",
       "| 1 | 6 |\n",
       "| 1 | 4 |\n",
       "| 1 | 2 |\n",
       "| 1 | 2 |\n",
       "| 1 | 1 |\n",
       "| 1 | 1 |\n",
       "| 1 | 4 |\n",
       "| 1 | 3 |\n",
       "| 1 | 3 |\n",
       "| 1 | 2 |\n",
       "| 1 | 6 |\n",
       "| 1 | 3 |\n",
       "| 1 | 4 |\n",
       "| 2 | 2 |\n",
       "| 2 | 1 |\n",
       "| 2 | 1 |\n",
       "| 2 | 3 |\n",
       "| 2 | 2 |\n",
       "| 2 | 7 |\n",
       "| 2 | 2 |\n",
       "| 2 | 1 |\n",
       "| 2 | 3 |\n",
       "| 2 | 1 |\n",
       "| 2 | 0 |\n",
       "| 2 | 2 |\n",
       "| 2 | 4 |\n",
       "| 2 | 2 |\n",
       "| 2 | 3 |\n",
       "| 2 | 3 |\n",
       "| 2 | 0 |\n",
       "| 2 | 1 |\n",
       "| 2 | 2 |\n",
       "| 2 | 2 |\n",
       "\n"
      ],
      "text/plain": [
       "   GROUP NUMBER\n",
       "1  1     8     \n",
       "2  1     4     \n",
       "3  1     6     \n",
       "4  1     3     \n",
       "5  1     1     \n",
       "6  1     4     \n",
       "7  1     4     \n",
       "8  1     6     \n",
       "9  1     4     \n",
       "10 1     2     \n",
       "11 1     2     \n",
       "12 1     1     \n",
       "13 1     1     \n",
       "14 1     4     \n",
       "15 1     3     \n",
       "16 1     3     \n",
       "17 1     2     \n",
       "18 1     6     \n",
       "19 1     3     \n",
       "20 1     4     \n",
       "21 2     2     \n",
       "22 2     1     \n",
       "23 2     1     \n",
       "24 2     3     \n",
       "25 2     2     \n",
       "26 2     7     \n",
       "27 2     2     \n",
       "28 2     1     \n",
       "29 2     3     \n",
       "30 2     1     \n",
       "31 2     0     \n",
       "32 2     2     \n",
       "33 2     4     \n",
       "34 2     2     \n",
       "35 2     3     \n",
       "36 2     3     \n",
       "37 2     0     \n",
       "38 2     1     \n",
       "39 2     2     \n",
       "40 2     2     "
      ]
     },
     "metadata": {},
     "output_type": "display_data"
    }
   ],
   "source": [
    "Data"
   ]
  },
  {
   "cell_type": "code",
   "execution_count": 48,
   "id": "ad255f36",
   "metadata": {},
   "outputs": [
    {
     "name": "stderr",
     "output_type": "stream",
     "text": [
      "Warning message:\n",
      "\"package 'rstatix' was built under R version 3.6.3\"\n",
      "Attaching package: 'rstatix'\n",
      "\n",
      "The following object is masked from 'package:stats':\n",
      "\n",
      "    filter\n",
      "\n"
     ]
    }
   ],
   "source": [
    "library(rstatix)"
   ]
  },
  {
   "cell_type": "code",
   "execution_count": 49,
   "id": "259752f4",
   "metadata": {},
   "outputs": [
    {
     "name": "stderr",
     "output_type": "stream",
     "text": [
      "Warning message:\n",
      "\"package 'ggpubr' was built under R version 3.6.3\"Loading required package: ggplot2\n"
     ]
    }
   ],
   "source": [
    "library(ggpubr)"
   ]
  },
  {
   "cell_type": "code",
   "execution_count": 57,
   "id": "df122a5c",
   "metadata": {},
   "outputs": [],
   "source": [
    "data1 = Data %>% group_by(GROUP) %>% get_summary_stats(NUMBER)"
   ]
  },
  {
   "cell_type": "code",
   "execution_count": 58,
   "id": "93596284",
   "metadata": {},
   "outputs": [
    {
     "data": {
      "text/html": [
       "<table>\n",
       "<thead><tr><th scope=col>GROUP</th><th scope=col>variable</th><th scope=col>n</th><th scope=col>min</th><th scope=col>max</th><th scope=col>median</th><th scope=col>q1</th><th scope=col>q3</th><th scope=col>iqr</th><th scope=col>mad</th><th scope=col>mean</th><th scope=col>sd</th><th scope=col>se</th><th scope=col>ci</th></tr></thead>\n",
       "<tbody>\n",
       "\t<tr><td>1     </td><td>NUMBER</td><td>20    </td><td>1     </td><td>8     </td><td>3.5   </td><td>2     </td><td>4     </td><td>2     </td><td>1.483 </td><td>3.55  </td><td>1.877 </td><td>0.420 </td><td>0.879 </td></tr>\n",
       "\t<tr><td>2     </td><td>NUMBER</td><td>20    </td><td>0     </td><td>7     </td><td>2.0   </td><td>1     </td><td>3     </td><td>2     </td><td>1.483 </td><td>2.10  </td><td>1.553 </td><td>0.347 </td><td>0.727 </td></tr>\n",
       "</tbody>\n",
       "</table>\n"
      ],
      "text/latex": [
       "\\begin{tabular}{r|llllllllllllll}\n",
       " GROUP & variable & n & min & max & median & q1 & q3 & iqr & mad & mean & sd & se & ci\\\\\n",
       "\\hline\n",
       "\t 1      & NUMBER & 20     & 1      & 8      & 3.5    & 2      & 4      & 2      & 1.483  & 3.55   & 1.877  & 0.420  & 0.879 \\\\\n",
       "\t 2      & NUMBER & 20     & 0      & 7      & 2.0    & 1      & 3      & 2      & 1.483  & 2.10   & 1.553  & 0.347  & 0.727 \\\\\n",
       "\\end{tabular}\n"
      ],
      "text/markdown": [
       "\n",
       "| GROUP | variable | n | min | max | median | q1 | q3 | iqr | mad | mean | sd | se | ci |\n",
       "|---|---|---|---|---|---|---|---|---|---|---|---|---|---|\n",
       "| 1      | NUMBER | 20     | 1      | 8      | 3.5    | 2      | 4      | 2      | 1.483  | 3.55   | 1.877  | 0.420  | 0.879  |\n",
       "| 2      | NUMBER | 20     | 0      | 7      | 2.0    | 1      | 3      | 2      | 1.483  | 2.10   | 1.553  | 0.347  | 0.727  |\n",
       "\n"
      ],
      "text/plain": [
       "  GROUP variable n  min max median q1 q3 iqr mad   mean sd    se    ci   \n",
       "1 1     NUMBER   20 1   8   3.5    2  4  2   1.483 3.55 1.877 0.420 0.879\n",
       "2 2     NUMBER   20 0   7   2.0    1  3  2   1.483 2.10 1.553 0.347 0.727"
      ]
     },
     "metadata": {},
     "output_type": "display_data"
    }
   ],
   "source": [
    "data1"
   ]
  },
  {
   "cell_type": "code",
   "execution_count": 59,
   "id": "b9342dc7",
   "metadata": {},
   "outputs": [],
   "source": [
    "n1 = n2 = 20"
   ]
  },
  {
   "cell_type": "code",
   "execution_count": 61,
   "id": "199e4c17",
   "metadata": {},
   "outputs": [],
   "source": [
    "sd_x = 1.877"
   ]
  },
  {
   "cell_type": "code",
   "execution_count": 63,
   "id": "d427a527",
   "metadata": {},
   "outputs": [],
   "source": [
    "sd_y = 1.553"
   ]
  },
  {
   "cell_type": "code",
   "execution_count": 72,
   "id": "9d546c30",
   "metadata": {},
   "outputs": [],
   "source": [
    "mean_x = 3.55"
   ]
  },
  {
   "cell_type": "code",
   "execution_count": 65,
   "id": "4538367c",
   "metadata": {},
   "outputs": [],
   "source": [
    "mean_y = 2.10"
   ]
  },
  {
   "cell_type": "code",
   "execution_count": 64,
   "id": "9a0f01c8",
   "metadata": {},
   "outputs": [],
   "source": [
    "s_p_square <- ((n1-1)*(sd_x)^2 + (n2-1)*(sd_y)^2)/(n1 + n2 - 2)"
   ]
  },
  {
   "cell_type": "code",
   "execution_count": 66,
   "id": "9a2bd716",
   "metadata": {},
   "outputs": [],
   "source": [
    "d <- qt(0.025, 38)"
   ]
  },
  {
   "cell_type": "code",
   "execution_count": 67,
   "id": "8615f39c",
   "metadata": {},
   "outputs": [
    {
     "data": {
      "text/html": [
       "-2.02439416391197"
      ],
      "text/latex": [
       "-2.02439416391197"
      ],
      "text/markdown": [
       "-2.02439416391197"
      ],
      "text/plain": [
       "[1] -2.024394"
      ]
     },
     "metadata": {},
     "output_type": "display_data"
    }
   ],
   "source": [
    "d"
   ]
  },
  {
   "cell_type": "code",
   "execution_count": 68,
   "id": "e0050e97",
   "metadata": {},
   "outputs": [],
   "source": [
    "s_x1_x2 <- sqrt((s_p_square / n1) + (s_p_square / n2))"
   ]
  },
  {
   "cell_type": "code",
   "execution_count": 73,
   "id": "fa2ff8f9",
   "metadata": {},
   "outputs": [],
   "source": [
    "Mean_difference = mean_x - mean_y"
   ]
  },
  {
   "cell_type": "code",
   "execution_count": 74,
   "id": "5b4ba4bc",
   "metadata": {},
   "outputs": [],
   "source": [
    "ConfInt1 = Mean_difference + (2.02 * s_x1_x2)"
   ]
  },
  {
   "cell_type": "code",
   "execution_count": 79,
   "id": "e1742fa2",
   "metadata": {},
   "outputs": [
    {
     "data": {
      "text/html": [
       "2.5503845013267"
      ],
      "text/latex": [
       "2.5503845013267"
      ],
      "text/markdown": [
       "2.5503845013267"
      ],
      "text/plain": [
       "[1] 2.550385"
      ]
     },
     "metadata": {},
     "output_type": "display_data"
    }
   ],
   "source": [
    "ConfInt1"
   ]
  },
  {
   "cell_type": "code",
   "execution_count": 77,
   "id": "8702c4dd",
   "metadata": {},
   "outputs": [],
   "source": [
    "ConfInt2 = Mean_difference - (2.02 * s_x1_x2)"
   ]
  },
  {
   "cell_type": "code",
   "execution_count": 80,
   "id": "d551352d",
   "metadata": {},
   "outputs": [
    {
     "data": {
      "text/html": [
       "0.349615498673304"
      ],
      "text/latex": [
       "0.349615498673304"
      ],
      "text/markdown": [
       "0.349615498673304"
      ],
      "text/plain": [
       "[1] 0.3496155"
      ]
     },
     "metadata": {},
     "output_type": "display_data"
    }
   ],
   "source": [
    "ConfInt2"
   ]
  },
  {
   "cell_type": "markdown",
   "id": "39360c9c",
   "metadata": {},
   "source": [
    "confidence limits on mean1-mean2: 0.35 < mu1 - mu2 < 2.55"
   ]
  },
  {
   "cell_type": "markdown",
   "id": "9517362d",
   "metadata": {},
   "source": [
    "## Effect size"
   ]
  },
  {
   "cell_type": "code",
   "execution_count": 85,
   "id": "b9afd085",
   "metadata": {},
   "outputs": [],
   "source": [
    "d <- (mean(x) - mean(y)) / sqrt(s_p_square)"
   ]
  },
  {
   "cell_type": "code",
   "execution_count": 86,
   "id": "f9c54646",
   "metadata": {},
   "outputs": [
    {
     "data": {
      "text/html": [
       "0.669194712121841"
      ],
      "text/latex": [
       "0.669194712121841"
      ],
      "text/markdown": [
       "0.669194712121841"
      ],
      "text/plain": [
       "[1] 0.6691947"
      ]
     },
     "metadata": {},
     "output_type": "display_data"
    }
   ],
   "source": [
    "d"
   ]
  },
  {
   "cell_type": "markdown",
   "id": "b566be43",
   "metadata": {},
   "source": [
    "# PART C."
   ]
  },
  {
   "cell_type": "markdown",
   "id": "196536f7",
   "metadata": {},
   "source": [
    "## Brescoll and Uhlmann (2008) For Males"
   ]
  },
  {
   "cell_type": "code",
   "execution_count": null,
   "id": "9d2bec48",
   "metadata": {},
   "outputs": [],
   "source": [
    "mean_anger = 6.47"
   ]
  },
  {
   "cell_type": "code",
   "execution_count": null,
   "id": "e0edcdb8",
   "metadata": {},
   "outputs": [],
   "source": [
    "sd_anger = 2.25"
   ]
  },
  {
   "cell_type": "code",
   "execution_count": null,
   "id": "be7af35b",
   "metadata": {},
   "outputs": [],
   "source": [
    "mean_sad = 4.05"
   ]
  },
  {
   "cell_type": "code",
   "execution_count": null,
   "id": "f74334e4",
   "metadata": {},
   "outputs": [],
   "source": [
    "sd_sad = 1.61"
   ]
  },
  {
   "cell_type": "code",
   "execution_count": null,
   "id": "30329e9b",
   "metadata": {},
   "outputs": [],
   "source": [
    "n_anger = 19"
   ]
  },
  {
   "cell_type": "code",
   "execution_count": null,
   "id": "515136f7",
   "metadata": {},
   "outputs": [],
   "source": [
    "n_sad = 29"
   ]
  },
  {
   "cell_type": "code",
   "execution_count": null,
   "id": "79ef75ca",
   "metadata": {},
   "outputs": [],
   "source": []
  },
  {
   "cell_type": "code",
   "execution_count": null,
   "id": "fc2cd51c",
   "metadata": {},
   "outputs": [],
   "source": []
  },
  {
   "cell_type": "code",
   "execution_count": null,
   "id": "2e607a6f",
   "metadata": {},
   "outputs": [],
   "source": []
  },
  {
   "cell_type": "markdown",
   "id": "edd465a8",
   "metadata": {},
   "source": [
    "## Brescoll and Uhlmann (2008) For Females"
   ]
  },
  {
   "cell_type": "markdown",
   "id": "0050e032",
   "metadata": {},
   "source": [
    "فقط عصبانیت با دلیل معنادار است "
   ]
  },
  {
   "cell_type": "code",
   "execution_count": 88,
   "id": "98b5eaa8",
   "metadata": {},
   "outputs": [],
   "source": [
    "mean_NoAtt = 3.4"
   ]
  },
  {
   "cell_type": "code",
   "execution_count": 89,
   "id": "c5bd6ce0",
   "metadata": {},
   "outputs": [],
   "source": [
    "mean_Att = 5.02"
   ]
  },
  {
   "cell_type": "code",
   "execution_count": 92,
   "id": "0c189a12",
   "metadata": {},
   "outputs": [],
   "source": [
    "s_square_NoAtt = 1.44^2"
   ]
  },
  {
   "cell_type": "code",
   "execution_count": 93,
   "id": "9ec2e299",
   "metadata": {},
   "outputs": [],
   "source": [
    "s_square_Att = 1.66^2"
   ]
  },
  {
   "cell_type": "code",
   "execution_count": 94,
   "id": "29a527a8",
   "metadata": {},
   "outputs": [],
   "source": [
    "N_Att = 41"
   ]
  },
  {
   "cell_type": "code",
   "execution_count": 95,
   "id": "699204dd",
   "metadata": {},
   "outputs": [],
   "source": [
    "N_NoAtt = 41"
   ]
  },
  {
   "cell_type": "code",
   "execution_count": 107,
   "id": "2cd0dfaf",
   "metadata": {},
   "outputs": [],
   "source": [
    "s_p_square <- ((N_Att-1)*s_square_Att^2 + (N_NoAtt-1)*s_square_NoAtt^2 )/ (N_Att + N_NoAtt - 2)"
   ]
  },
  {
   "cell_type": "code",
   "execution_count": 122,
   "id": "08592f48",
   "metadata": {},
   "outputs": [
    {
     "data": {
      "text/html": [
       "5.94657416"
      ],
      "text/latex": [
       "5.94657416"
      ],
      "text/markdown": [
       "5.94657416"
      ],
      "text/plain": [
       "[1] 5.946574"
      ]
     },
     "metadata": {},
     "output_type": "display_data"
    }
   ],
   "source": [
    "s_p_square"
   ]
  },
  {
   "cell_type": "code",
   "execution_count": 123,
   "id": "711c40a1",
   "metadata": {},
   "outputs": [],
   "source": [
    "t_value <- ((mean_Att) - (mean_NoAtt)) / sqrt((s_p_square/N_Att) + (s_p_square/N_NoAtt))"
   ]
  },
  {
   "cell_type": "code",
   "execution_count": 124,
   "id": "2510f52c",
   "metadata": {},
   "outputs": [
    {
     "data": {
      "text/html": [
       "3.00786628255604"
      ],
      "text/latex": [
       "3.00786628255604"
      ],
      "text/markdown": [
       "3.00786628255604"
      ],
      "text/plain": [
       "[1] 3.007866"
      ]
     },
     "metadata": {},
     "output_type": "display_data"
    }
   ],
   "source": [
    "t_value"
   ]
  },
  {
   "cell_type": "code",
   "execution_count": 125,
   "id": "0d4e41fa",
   "metadata": {},
   "outputs": [],
   "source": [
    "probability = pt(t_value, 80, lower.tail = FALSE)"
   ]
  },
  {
   "cell_type": "code",
   "execution_count": 126,
   "id": "6a9e85b2",
   "metadata": {},
   "outputs": [
    {
     "data": {
      "text/html": [
       "0.00175794032990617"
      ],
      "text/latex": [
       "0.00175794032990617"
      ],
      "text/markdown": [
       "0.00175794032990617"
      ],
      "text/plain": [
       "[1] 0.00175794"
      ]
     },
     "metadata": {},
     "output_type": "display_data"
    }
   ],
   "source": [
    "probability"
   ]
  },
  {
   "cell_type": "markdown",
   "id": "1fc74abc",
   "metadata": {},
   "source": [
    "با توجه به مقدار محاسبه شده فرض صفر رد می شود و به این نتیجه می رسیم که وقتی برای عصبانیت زنان دلیلی باشد، نسبت به زمانی که دلیلی برای عصبانیت ارائه نشده است، معناداری بیشتری وجود دارد"
   ]
  },
  {
   "cell_type": "markdown",
   "id": "4b892520",
   "metadata": {},
   "source": [
    "## Effect size"
   ]
  },
  {
   "cell_type": "code",
   "execution_count": 129,
   "id": "eb09cb24",
   "metadata": {},
   "outputs": [],
   "source": [
    "es <- (mean_Att - mean_NoAtt) / sqrt(s_p_square)"
   ]
  },
  {
   "cell_type": "code",
   "execution_count": 130,
   "id": "70013dcf",
   "metadata": {},
   "outputs": [
    {
     "data": {
      "text/html": [
       "0.664326527623478"
      ],
      "text/latex": [
       "0.664326527623478"
      ],
      "text/markdown": [
       "0.664326527623478"
      ],
      "text/plain": [
       "[1] 0.6643265"
      ]
     },
     "metadata": {},
     "output_type": "display_data"
    }
   ],
   "source": [
    "es"
   ]
  },
  {
   "cell_type": "markdown",
   "id": "220f5f80",
   "metadata": {},
   "source": [
    "## calculations for men"
   ]
  },
  {
   "cell_type": "code",
   "execution_count": 131,
   "id": "db79e248",
   "metadata": {},
   "outputs": [],
   "source": [
    "mean_NoAtt = 5.42"
   ]
  },
  {
   "cell_type": "code",
   "execution_count": 132,
   "id": "a8966c0c",
   "metadata": {},
   "outputs": [],
   "source": [
    "mean_Att = 4.14"
   ]
  },
  {
   "cell_type": "code",
   "execution_count": 133,
   "id": "95503f64",
   "metadata": {},
   "outputs": [],
   "source": [
    "s_square_NoAtt = 1.63^2"
   ]
  },
  {
   "cell_type": "code",
   "execution_count": 134,
   "id": "83391c25",
   "metadata": {},
   "outputs": [],
   "source": [
    "s_square_Att = 2.46^2"
   ]
  },
  {
   "cell_type": "code",
   "execution_count": 135,
   "id": "4544a704",
   "metadata": {},
   "outputs": [],
   "source": [
    "s_p_square <- ((N_Att-1)*s_square_Att^2 + (N_NoAtt-1)*s_square_NoAtt^2 )/ (N_Att + N_NoAtt - 2)"
   ]
  },
  {
   "cell_type": "code",
   "execution_count": 136,
   "id": "d2cc5e45",
   "metadata": {},
   "outputs": [
    {
     "data": {
      "text/html": [
       "21.840490085"
      ],
      "text/latex": [
       "21.840490085"
      ],
      "text/markdown": [
       "21.840490085"
      ],
      "text/plain": [
       "[1] 21.84049"
      ]
     },
     "metadata": {},
     "output_type": "display_data"
    }
   ],
   "source": [
    "s_p_square"
   ]
  },
  {
   "cell_type": "code",
   "execution_count": 139,
   "id": "518d5661",
   "metadata": {},
   "outputs": [],
   "source": [
    "t_value <- ((mean_NoAtt) - (mean_Att)) / sqrt((s_p_square/N_Att) + (s_p_square/N_NoAtt))"
   ]
  },
  {
   "cell_type": "code",
   "execution_count": 140,
   "id": "0da94b9f",
   "metadata": {},
   "outputs": [
    {
     "data": {
      "text/html": [
       "1.24009715306845"
      ],
      "text/latex": [
       "1.24009715306845"
      ],
      "text/markdown": [
       "1.24009715306845"
      ],
      "text/plain": [
       "[1] 1.240097"
      ]
     },
     "metadata": {},
     "output_type": "display_data"
    }
   ],
   "source": [
    "t_value"
   ]
  },
  {
   "cell_type": "code",
   "execution_count": 141,
   "id": "b748277b",
   "metadata": {},
   "outputs": [],
   "source": [
    "probability = pt(t_value, 80, lower.tail = FALSE)"
   ]
  },
  {
   "cell_type": "code",
   "execution_count": 142,
   "id": "fe4a6451",
   "metadata": {},
   "outputs": [
    {
     "data": {
      "text/html": [
       "0.109282247646292"
      ],
      "text/latex": [
       "0.109282247646292"
      ],
      "text/markdown": [
       "0.109282247646292"
      ],
      "text/plain": [
       "[1] 0.1092822"
      ]
     },
     "metadata": {},
     "output_type": "display_data"
    }
   ],
   "source": [
    "probability"
   ]
  },
  {
   "cell_type": "markdown",
   "id": "36a3d7a6",
   "metadata": {},
   "source": [
    "با توجه به مقدار محاسبه شده فرض صفر رد نمی شود و به این نتیجه می رسیم که نمی توان برای حالتی که مردان با دلیل عصبانی میشوند یا اینکه دلیلی بر عصبانیت وجود ندارد تفاوتی گذاشت"
   ]
  },
  {
   "cell_type": "markdown",
   "id": "e4c08035",
   "metadata": {},
   "source": [
    "# PART D."
   ]
  },
  {
   "cell_type": "code",
   "execution_count": null,
   "id": "d217debd",
   "metadata": {},
   "outputs": [],
   "source": []
  },
  {
   "cell_type": "code",
   "execution_count": null,
   "id": "d2e735c9",
   "metadata": {},
   "outputs": [],
   "source": []
  },
  {
   "cell_type": "code",
   "execution_count": null,
   "id": "52403ebf",
   "metadata": {},
   "outputs": [],
   "source": []
  },
  {
   "cell_type": "code",
   "execution_count": null,
   "id": "f226ee6f",
   "metadata": {},
   "outputs": [],
   "source": []
  }
 ],
 "metadata": {
  "kernelspec": {
   "display_name": "R",
   "language": "R",
   "name": "ir"
  },
  "language_info": {
   "codemirror_mode": "r",
   "file_extension": ".r",
   "mimetype": "text/x-r-source",
   "name": "R",
   "pygments_lexer": "r",
   "version": "4.1.3"
  }
 },
 "nbformat": 4,
 "nbformat_minor": 5
}
