{
 "cells": [
  {
   "cell_type": "markdown",
   "metadata": {},
   "source": [
    "# Part A.\n",
    "\n",
    "Down’s syndrome is another problem that psychologists deal with. It has been proposed that mothers who give birth at older ages are more likely to have a child with Down’s syndrome. \n",
    "\n",
    "<img src=\"files/p4.png\" width=\"600\"/>\n",
    "\n",
    "The data are found in https://github.com/amanirad/Statistics-in-Cognitive-Sciences.\n",
    "\n",
    "- Plot the data below relating age to incidence.\n",
    "- Plot a scatter diagram for the percentage of Downs cases (Downs / Births) as a function of age.\n",
    "- Why would you not feel comfortable computing a Pearson correlation on the data?\n",
    "- One way to get around the problem you see is to convert the incidence of Down’s syndrome to ranked data. Replot the data using ranked incidence and calculate the correlation."
   ]
  },
  {
   "cell_type": "code",
   "execution_count": 52,
   "metadata": {},
   "outputs": [],
   "source": [
    "data = read.table('project_3_A.dat', header = TRUE)"
   ]
  },
  {
   "cell_type": "code",
   "execution_count": 53,
   "metadata": {},
   "outputs": [
    {
     "data": {
      "text/html": [
       "<table class=\"dataframe\">\n",
       "<caption>A data.frame: 30 × 3</caption>\n",
       "<thead>\n",
       "\t<tr><th scope=col>Age</th><th scope=col>Births</th><th scope=col>Downs</th></tr>\n",
       "\t<tr><th scope=col>&lt;dbl&gt;</th><th scope=col>&lt;int&gt;</th><th scope=col>&lt;int&gt;</th></tr>\n",
       "</thead>\n",
       "<tbody>\n",
       "\t<tr><td>17.5</td><td>13555</td><td>16</td></tr>\n",
       "\t<tr><td>18.5</td><td>13675</td><td>15</td></tr>\n",
       "\t<tr><td>19.5</td><td>18752</td><td>16</td></tr>\n",
       "\t<tr><td>20.5</td><td>22005</td><td>22</td></tr>\n",
       "\t<tr><td>21.5</td><td>23796</td><td>16</td></tr>\n",
       "\t<tr><td>22.5</td><td>24667</td><td>12</td></tr>\n",
       "\t<tr><td>23.5</td><td>24807</td><td>17</td></tr>\n",
       "\t<tr><td>24.5</td><td>23986</td><td>22</td></tr>\n",
       "\t<tr><td>25.5</td><td>22860</td><td>15</td></tr>\n",
       "\t<tr><td>26.5</td><td>21450</td><td>15</td></tr>\n",
       "\t<tr><td>27.5</td><td>19202</td><td>27</td></tr>\n",
       "\t<tr><td>28.5</td><td>17450</td><td>14</td></tr>\n",
       "\t<tr><td>29.5</td><td>15685</td><td> 9</td></tr>\n",
       "\t<tr><td>30.5</td><td>13954</td><td>12</td></tr>\n",
       "\t<tr><td>31.5</td><td>11987</td><td>12</td></tr>\n",
       "\t<tr><td>32.5</td><td>10983</td><td>18</td></tr>\n",
       "\t<tr><td>33.5</td><td> 9825</td><td>13</td></tr>\n",
       "\t<tr><td>34.5</td><td> 8483</td><td>11</td></tr>\n",
       "\t<tr><td>35.5</td><td> 7448</td><td>23</td></tr>\n",
       "\t<tr><td>36.5</td><td> 6628</td><td>13</td></tr>\n",
       "\t<tr><td>37.5</td><td> 5780</td><td>17</td></tr>\n",
       "\t<tr><td>38.5</td><td> 4834</td><td>15</td></tr>\n",
       "\t<tr><td>39.5</td><td> 3961</td><td>30</td></tr>\n",
       "\t<tr><td>40.5</td><td> 2952</td><td>31</td></tr>\n",
       "\t<tr><td>41.5</td><td> 2276</td><td>33</td></tr>\n",
       "\t<tr><td>42.5</td><td> 1589</td><td>20</td></tr>\n",
       "\t<tr><td>43.5</td><td> 1018</td><td>16</td></tr>\n",
       "\t<tr><td>44.5</td><td>  596</td><td>22</td></tr>\n",
       "\t<tr><td>45.5</td><td>  327</td><td>11</td></tr>\n",
       "\t<tr><td>46.5</td><td>  249</td><td> 7</td></tr>\n",
       "</tbody>\n",
       "</table>\n"
      ],
      "text/latex": [
       "A data.frame: 30 × 3\n",
       "\\begin{tabular}{lll}\n",
       " Age & Births & Downs\\\\\n",
       " <dbl> & <int> & <int>\\\\\n",
       "\\hline\n",
       "\t 17.5 & 13555 & 16\\\\\n",
       "\t 18.5 & 13675 & 15\\\\\n",
       "\t 19.5 & 18752 & 16\\\\\n",
       "\t 20.5 & 22005 & 22\\\\\n",
       "\t 21.5 & 23796 & 16\\\\\n",
       "\t 22.5 & 24667 & 12\\\\\n",
       "\t 23.5 & 24807 & 17\\\\\n",
       "\t 24.5 & 23986 & 22\\\\\n",
       "\t 25.5 & 22860 & 15\\\\\n",
       "\t 26.5 & 21450 & 15\\\\\n",
       "\t 27.5 & 19202 & 27\\\\\n",
       "\t 28.5 & 17450 & 14\\\\\n",
       "\t 29.5 & 15685 &  9\\\\\n",
       "\t 30.5 & 13954 & 12\\\\\n",
       "\t 31.5 & 11987 & 12\\\\\n",
       "\t 32.5 & 10983 & 18\\\\\n",
       "\t 33.5 &  9825 & 13\\\\\n",
       "\t 34.5 &  8483 & 11\\\\\n",
       "\t 35.5 &  7448 & 23\\\\\n",
       "\t 36.5 &  6628 & 13\\\\\n",
       "\t 37.5 &  5780 & 17\\\\\n",
       "\t 38.5 &  4834 & 15\\\\\n",
       "\t 39.5 &  3961 & 30\\\\\n",
       "\t 40.5 &  2952 & 31\\\\\n",
       "\t 41.5 &  2276 & 33\\\\\n",
       "\t 42.5 &  1589 & 20\\\\\n",
       "\t 43.5 &  1018 & 16\\\\\n",
       "\t 44.5 &   596 & 22\\\\\n",
       "\t 45.5 &   327 & 11\\\\\n",
       "\t 46.5 &   249 &  7\\\\\n",
       "\\end{tabular}\n"
      ],
      "text/markdown": [
       "\n",
       "A data.frame: 30 × 3\n",
       "\n",
       "| Age &lt;dbl&gt; | Births &lt;int&gt; | Downs &lt;int&gt; |\n",
       "|---|---|---|\n",
       "| 17.5 | 13555 | 16 |\n",
       "| 18.5 | 13675 | 15 |\n",
       "| 19.5 | 18752 | 16 |\n",
       "| 20.5 | 22005 | 22 |\n",
       "| 21.5 | 23796 | 16 |\n",
       "| 22.5 | 24667 | 12 |\n",
       "| 23.5 | 24807 | 17 |\n",
       "| 24.5 | 23986 | 22 |\n",
       "| 25.5 | 22860 | 15 |\n",
       "| 26.5 | 21450 | 15 |\n",
       "| 27.5 | 19202 | 27 |\n",
       "| 28.5 | 17450 | 14 |\n",
       "| 29.5 | 15685 |  9 |\n",
       "| 30.5 | 13954 | 12 |\n",
       "| 31.5 | 11987 | 12 |\n",
       "| 32.5 | 10983 | 18 |\n",
       "| 33.5 |  9825 | 13 |\n",
       "| 34.5 |  8483 | 11 |\n",
       "| 35.5 |  7448 | 23 |\n",
       "| 36.5 |  6628 | 13 |\n",
       "| 37.5 |  5780 | 17 |\n",
       "| 38.5 |  4834 | 15 |\n",
       "| 39.5 |  3961 | 30 |\n",
       "| 40.5 |  2952 | 31 |\n",
       "| 41.5 |  2276 | 33 |\n",
       "| 42.5 |  1589 | 20 |\n",
       "| 43.5 |  1018 | 16 |\n",
       "| 44.5 |   596 | 22 |\n",
       "| 45.5 |   327 | 11 |\n",
       "| 46.5 |   249 |  7 |\n",
       "\n"
      ],
      "text/plain": [
       "   Age  Births Downs\n",
       "1  17.5 13555  16   \n",
       "2  18.5 13675  15   \n",
       "3  19.5 18752  16   \n",
       "4  20.5 22005  22   \n",
       "5  21.5 23796  16   \n",
       "6  22.5 24667  12   \n",
       "7  23.5 24807  17   \n",
       "8  24.5 23986  22   \n",
       "9  25.5 22860  15   \n",
       "10 26.5 21450  15   \n",
       "11 27.5 19202  27   \n",
       "12 28.5 17450  14   \n",
       "13 29.5 15685   9   \n",
       "14 30.5 13954  12   \n",
       "15 31.5 11987  12   \n",
       "16 32.5 10983  18   \n",
       "17 33.5  9825  13   \n",
       "18 34.5  8483  11   \n",
       "19 35.5  7448  23   \n",
       "20 36.5  6628  13   \n",
       "21 37.5  5780  17   \n",
       "22 38.5  4834  15   \n",
       "23 39.5  3961  30   \n",
       "24 40.5  2952  31   \n",
       "25 41.5  2276  33   \n",
       "26 42.5  1589  20   \n",
       "27 43.5  1018  16   \n",
       "28 44.5   596  22   \n",
       "29 45.5   327  11   \n",
       "30 46.5   249   7   "
      ]
     },
     "metadata": {},
     "output_type": "display_data"
    }
   ],
   "source": [
    "data"
   ]
  },
  {
   "cell_type": "code",
   "execution_count": 62,
   "metadata": {
    "scrolled": true
   },
   "outputs": [
    {
     "data": {
      "image/png": "[encoded data removed]",
      "text/plain": [
       "Plot with title \"Age vs. Incidence of Down's Syndrome\""
      ]
     },
     "metadata": {
      "image/png": {
       "height": 420,
       "width": 420
      }
     },
     "output_type": "display_data"
    }
   ],
   "source": [
    "# Plot a scatter plot of age vs. incidence\n",
    "plot(data$Age, data$Downs, xlab = \"Age\", ylab = \"Incidence\",\n",
    "     main = \"Age vs. Incidence of Down's Syndrome\")"
   ]
  },
  {
   "cell_type": "code",
   "execution_count": 63,
   "metadata": {},
   "outputs": [],
   "source": [
    "# Calculate the percentage of Downs cases (Downs / Births)\n",
    "percentage <- data$Downs / data$Births\n"
   ]
  },
  {
   "cell_type": "code",
   "execution_count": 64,
   "metadata": {},
   "outputs": [
    {
     "data": {
      "image/png": "[encoded data removed]",
      "text/plain": [
       "Plot with title \"Age vs. Percentage of Downs Cases\""
      ]
     },
     "metadata": {
      "image/png": {
       "height": 420,
       "width": 420
      }
     },
     "output_type": "display_data"
    }
   ],
   "source": [
    "# Plot a scatter plot of age vs. percentage of Downs cases\n",
    "plot(data$Age, percentage, xlab = \"Age\", ylab = \"Percentage of Downs Cases\",\n",
    "     main = \"Age vs. Percentage of Downs Cases\")"
   ]
  },
  {
   "cell_type": "code",
   "execution_count": 71,
   "metadata": {},
   "outputs": [],
   "source": [
    "correlation <- cor(data$Age, percentage, method = \"pearson\")"
   ]
  },
  {
   "cell_type": "code",
   "execution_count": 73,
   "metadata": {
    "scrolled": true
   },
   "outputs": [
    {
     "data": {
      "text/html": [
       "0.732263867502411"
      ],
      "text/latex": [
       "0.732263867502411"
      ],
      "text/markdown": [
       "0.732263867502411"
      ],
      "text/plain": [
       "[1] 0.7322639"
      ]
     },
     "metadata": {},
     "output_type": "display_data"
    }
   ],
   "source": [
    "correlation"
   ]
  },
  {
   "cell_type": "markdown",
   "metadata": {},
   "source": [
    "دلیل اینکه کرلیشن به دست امده مورد قبول ما نیست این است که وقوع سندرم داون از توزیع نرمال تبعیت نمی کند و ممکن است در داده ها موارد پرت وجود داشته باشد. علاوه بر این، رابطه بین سن و وقوع سندرم داون ممکن است خطی نباشد، که یکی از مفروضات همبستگی پیرسون را نقض می کند.\n",
    "\n",
    "برای دور زدن این مشکل، می‌توانیم وقوع سندرم داون را به داده‌های رتبه‌بندی شده تبدیل کنیم و سپس با استفاده از ضریب همبستگی رتبه‌ای اسپیرمن، همبستگی را محاسبه کنیم. این به ما امکان می دهد تا قدرت و جهت رابطه بین سن و بروز سندرم داون را بدون فرض یک رابطه خطی یا توزیع نرمال ارزیابی کنیم.\n"
   ]
  },
  {
   "cell_type": "code",
   "execution_count": 107,
   "metadata": {},
   "outputs": [
    {
     "data": {
      "text/plain": [
       "\n",
       "Call:\n",
       "lm(formula = Downs ~ Age, data = data)\n",
       "\n",
       "Coefficients:\n",
       "(Intercept)          Age  \n",
       "    14.0443       0.1028  \n"
      ]
     },
     "metadata": {},
     "output_type": "display_data"
    }
   ],
   "source": [
    "lm_result <- lm(Downs ~ Age, data = data)\n",
    "lm_result"
   ]
  },
  {
   "cell_type": "code",
   "execution_count": 108,
   "metadata": {
    "scrolled": true
   },
   "outputs": [
    {
     "data": {
      "text/plain": [
       "\n",
       "Call:\n",
       "lm(formula = Downs ~ Age, data = data)\n",
       "\n",
       "Residuals:\n",
       "     Min       1Q   Median       3Q      Max \n",
       "-11.8237  -4.4549  -0.9222   2.9333  14.6902 \n",
       "\n",
       "Coefficients:\n",
       "            Estimate Std. Error t value Pr(>|t|)   \n",
       "(Intercept)  14.0443     4.5527   3.085  0.00455 **\n",
       "Age           0.1028     0.1373   0.748  0.46046   \n",
       "---\n",
       "Signif. codes:  0 '***' 0.001 '**' 0.01 '*' 0.05 '.' 0.1 ' ' 1\n",
       "\n",
       "Residual standard error: 6.511 on 28 degrees of freedom\n",
       "Multiple R-squared:  0.01961,\tAdjusted R-squared:  -0.0154 \n",
       "F-statistic: 0.5601 on 1 and 28 DF,  p-value: 0.4605\n"
      ]
     },
     "metadata": {},
     "output_type": "display_data"
    }
   ],
   "source": [
    "summary(lm_result)"
   ]
  },
  {
   "cell_type": "markdown",
   "metadata": {},
   "source": [
    "از تحلیل اطلاعات بالا عدم ارتباط خطی بین سن و وقوع سندرم دان قابل مشاهده ست ( مقدار پی مربوط به سن بزرگ است) و هم چنین مقدرا پی مربوط به آماره اف "
   ]
  },
  {
   "cell_type": "code",
   "execution_count": 70,
   "metadata": {},
   "outputs": [
    {
     "data": {
      "text/html": [
       "<style>\n",
       ".list-inline {list-style: none; margin:0; padding: 0}\n",
       ".list-inline>li {display: inline-block}\n",
       ".list-inline>li:not(:last-child)::after {content: \"\\00b7\"; padding: 0 .5ex}\n",
       "</style>\n",
       "<ol class=list-inline><li>14</li><li>13</li><li>8</li><li>11</li><li>4</li><li>1</li><li>5</li><li>10</li><li>3</li><li>6</li><li>17</li><li>7</li><li>2</li><li>9</li><li>12</li><li>18</li><li>16</li><li>15</li><li>21</li><li>19</li><li>20</li><li>22</li><li>23</li><li>24</li><li>26</li><li>25</li><li>27</li><li>30</li><li>29</li><li>28</li></ol>\n"
      ],
      "text/latex": [
       "\\begin{enumerate*}\n",
       "\\item 14\n",
       "\\item 13\n",
       "\\item 8\n",
       "\\item 11\n",
       "\\item 4\n",
       "\\item 1\n",
       "\\item 5\n",
       "\\item 10\n",
       "\\item 3\n",
       "\\item 6\n",
       "\\item 17\n",
       "\\item 7\n",
       "\\item 2\n",
       "\\item 9\n",
       "\\item 12\n",
       "\\item 18\n",
       "\\item 16\n",
       "\\item 15\n",
       "\\item 21\n",
       "\\item 19\n",
       "\\item 20\n",
       "\\item 22\n",
       "\\item 23\n",
       "\\item 24\n",
       "\\item 26\n",
       "\\item 25\n",
       "\\item 27\n",
       "\\item 30\n",
       "\\item 29\n",
       "\\item 28\n",
       "\\end{enumerate*}\n"
      ],
      "text/markdown": [
       "1. 14\n",
       "2. 13\n",
       "3. 8\n",
       "4. 11\n",
       "5. 4\n",
       "6. 1\n",
       "7. 5\n",
       "8. 10\n",
       "9. 3\n",
       "10. 6\n",
       "11. 17\n",
       "12. 7\n",
       "13. 2\n",
       "14. 9\n",
       "15. 12\n",
       "16. 18\n",
       "17. 16\n",
       "18. 15\n",
       "19. 21\n",
       "20. 19\n",
       "21. 20\n",
       "22. 22\n",
       "23. 23\n",
       "24. 24\n",
       "25. 26\n",
       "26. 25\n",
       "27. 27\n",
       "28. 30\n",
       "29. 29\n",
       "30. 28\n",
       "\n",
       "\n"
      ],
      "text/plain": [
       " [1] 14 13  8 11  4  1  5 10  3  6 17  7  2  9 12 18 16 15 21 19 20 22 23 24 26\n",
       "[26] 25 27 30 29 28"
      ]
     },
     "metadata": {},
     "output_type": "display_data"
    }
   ],
   "source": [
    "# Calculate the rank of the incidence data\n",
    "ranked_incidence <- rank(percentage)\n",
    "ranked_incidence"
   ]
  },
  {
   "cell_type": "code",
   "execution_count": 9,
   "metadata": {},
   "outputs": [
    {
     "data": {
      "image/png": "[encoded data removed]",
      "text/plain": [
       "Plot with title \"Age vs. Ranked Incidence of Down's Syndrome\""
      ]
     },
     "metadata": {
      "image/png": {
       "height": 420,
       "width": 420
      }
     },
     "output_type": "display_data"
    }
   ],
   "source": [
    "# Plot a scatter plot of ranked incidence vs. age\n",
    "plot(data$Age, ranked_incidence, xlab = \"Age\", ylab = \"Ranked Incidence\",\n",
    "     main = \"Age vs. Ranked Incidence of Down's Syndrome\")"
   ]
  },
  {
   "cell_type": "code",
   "execution_count": 109,
   "metadata": {},
   "outputs": [
    {
     "data": {
      "text/html": [
       "0.845161290322581"
      ],
      "text/latex": [
       "0.845161290322581"
      ],
      "text/markdown": [
       "0.845161290322581"
      ],
      "text/plain": [
       "[1] 0.8451613"
      ]
     },
     "metadata": {},
     "output_type": "display_data"
    }
   ],
   "source": [
    "# Calculate the correlation between age and ranked incidence\n",
    "cor(data$Age, ranked_incidence, method = \"pearson\")"
   ]
  },
  {
   "cell_type": "markdown",
   "metadata": {},
   "source": [
    "یک روش دیگر می تواند استفاده از روش اسپیرمن باشد"
   ]
  },
  {
   "cell_type": "code",
   "execution_count": 113,
   "metadata": {},
   "outputs": [
    {
     "data": {
      "text/html": [
       "0.845161290322581"
      ],
      "text/latex": [
       "0.845161290322581"
      ],
      "text/markdown": [
       "0.845161290322581"
      ],
      "text/plain": [
       "[1] 0.8451613"
      ]
     },
     "metadata": {},
     "output_type": "display_data"
    }
   ],
   "source": [
    "cor(data$Age, percentage, method = \"spearman\")"
   ]
  },
  {
   "cell_type": "markdown",
   "metadata": {},
   "source": [
    "# Part B. \n",
    "\n",
    "Two researchers found some interesting data on the consumption of alcohol and tobacco that illustrate an important statistical concept. Their data, taken from the Family Expenditure Survey of the British Department of Employment, follow. The dependent variables are the average weekly household expenditures for alcohol and tobacco in 11 regions of Great Britain.\n",
    "\n",
    "<img src=\"files/p5.png\" width=\"400\"/>\n",
    "\n",
    "The data are found in https://github.com/amanirad/Statistics-in-Cognitive-Sciences.\n",
    "\n",
    "- What is the relationship between these two variables?\n",
    "- Popular stereotypes have the Irish as heavy drinkers. Do the data support that belief?\n",
    "- What effect does the inclusion of Northern Ireland have on our results? (A scatterplot\n",
    "would be helpful.)"
   ]
  },
  {
   "cell_type": "code",
   "execution_count": 117,
   "metadata": {},
   "outputs": [],
   "source": [
    "data = read.table('project_3_B.dat', header = TRUE)"
   ]
  },
  {
   "cell_type": "code",
   "execution_count": 118,
   "metadata": {},
   "outputs": [
    {
     "data": {
      "text/html": [
       "<table class=\"dataframe\">\n",
       "<caption>A data.frame: 11 × 3</caption>\n",
       "<thead>\n",
       "\t<tr><th scope=col>ID</th><th scope=col>Alcohol</th><th scope=col>Tobacco</th></tr>\n",
       "\t<tr><th scope=col>&lt;int&gt;</th><th scope=col>&lt;dbl&gt;</th><th scope=col>&lt;dbl&gt;</th></tr>\n",
       "</thead>\n",
       "<tbody>\n",
       "\t<tr><td> 1</td><td>6.47</td><td>4.03</td></tr>\n",
       "\t<tr><td> 2</td><td>6.13</td><td>3.76</td></tr>\n",
       "\t<tr><td> 3</td><td>6.19</td><td>3.77</td></tr>\n",
       "\t<tr><td> 4</td><td>4.89</td><td>3.34</td></tr>\n",
       "\t<tr><td> 5</td><td>5.63</td><td>3.47</td></tr>\n",
       "\t<tr><td> 6</td><td>4.52</td><td>2.92</td></tr>\n",
       "\t<tr><td> 7</td><td>5.89</td><td>3.20</td></tr>\n",
       "\t<tr><td> 8</td><td>4.79</td><td>2.71</td></tr>\n",
       "\t<tr><td> 9</td><td>5.27</td><td>3.53</td></tr>\n",
       "\t<tr><td>10</td><td>6.08</td><td>4.51</td></tr>\n",
       "\t<tr><td>11</td><td>4.02</td><td>4.56</td></tr>\n",
       "</tbody>\n",
       "</table>\n"
      ],
      "text/latex": [
       "A data.frame: 11 × 3\n",
       "\\begin{tabular}{lll}\n",
       " ID & Alcohol & Tobacco\\\\\n",
       " <int> & <dbl> & <dbl>\\\\\n",
       "\\hline\n",
       "\t  1 & 6.47 & 4.03\\\\\n",
       "\t  2 & 6.13 & 3.76\\\\\n",
       "\t  3 & 6.19 & 3.77\\\\\n",
       "\t  4 & 4.89 & 3.34\\\\\n",
       "\t  5 & 5.63 & 3.47\\\\\n",
       "\t  6 & 4.52 & 2.92\\\\\n",
       "\t  7 & 5.89 & 3.20\\\\\n",
       "\t  8 & 4.79 & 2.71\\\\\n",
       "\t  9 & 5.27 & 3.53\\\\\n",
       "\t 10 & 6.08 & 4.51\\\\\n",
       "\t 11 & 4.02 & 4.56\\\\\n",
       "\\end{tabular}\n"
      ],
      "text/markdown": [
       "\n",
       "A data.frame: 11 × 3\n",
       "\n",
       "| ID &lt;int&gt; | Alcohol &lt;dbl&gt; | Tobacco &lt;dbl&gt; |\n",
       "|---|---|---|\n",
       "|  1 | 6.47 | 4.03 |\n",
       "|  2 | 6.13 | 3.76 |\n",
       "|  3 | 6.19 | 3.77 |\n",
       "|  4 | 4.89 | 3.34 |\n",
       "|  5 | 5.63 | 3.47 |\n",
       "|  6 | 4.52 | 2.92 |\n",
       "|  7 | 5.89 | 3.20 |\n",
       "|  8 | 4.79 | 2.71 |\n",
       "|  9 | 5.27 | 3.53 |\n",
       "| 10 | 6.08 | 4.51 |\n",
       "| 11 | 4.02 | 4.56 |\n",
       "\n"
      ],
      "text/plain": [
       "   ID Alcohol Tobacco\n",
       "1   1 6.47    4.03   \n",
       "2   2 6.13    3.76   \n",
       "3   3 6.19    3.77   \n",
       "4   4 4.89    3.34   \n",
       "5   5 5.63    3.47   \n",
       "6   6 4.52    2.92   \n",
       "7   7 5.89    3.20   \n",
       "8   8 4.79    2.71   \n",
       "9   9 5.27    3.53   \n",
       "10 10 6.08    4.51   \n",
       "11 11 4.02    4.56   "
      ]
     },
     "metadata": {},
     "output_type": "display_data"
    }
   ],
   "source": [
    "data"
   ]
  },
  {
   "cell_type": "code",
   "execution_count": 119,
   "metadata": {},
   "outputs": [
    {
     "data": {
      "image/png": "[encoded data removed]",
      "text/plain": [
       "Plot with title \"Alcohol vs. Tobacco Expenditure\""
      ]
     },
     "metadata": {
      "image/png": {
       "height": 420,
       "width": 420
      }
     },
     "output_type": "display_data"
    }
   ],
   "source": [
    "# Create a scatter plot of alcohol vs. tobacco expenditures\n",
    "plot(data$Alcohol, data$Tobacco, xlab = \"Alcohol Expenditure\", ylab = \"Tobacco Expenditure\",\n",
    "     main = \"Alcohol vs. Tobacco Expenditure\")\n"
   ]
  },
  {
   "cell_type": "code",
   "execution_count": 143,
   "metadata": {},
   "outputs": [
    {
     "data": {
      "text/html": [
       "0.223572114262644"
      ],
      "text/latex": [
       "0.223572114262644"
      ],
      "text/markdown": [
       "0.223572114262644"
      ],
      "text/plain": [
       "[1] 0.2235721"
      ]
     },
     "metadata": {},
     "output_type": "display_data"
    }
   ],
   "source": [
    "# Calculate the correlation coefficient\n",
    "correlation <- cor(data$Alcohol, data$Tobacco)\n",
    "correlation"
   ]
  },
  {
   "cell_type": "code",
   "execution_count": 123,
   "metadata": {},
   "outputs": [
    {
     "data": {
      "text/html": [
       "<table class=\"dataframe\">\n",
       "<caption>A data.frame: 1 × 3</caption>\n",
       "<thead>\n",
       "\t<tr><th></th><th scope=col>ID</th><th scope=col>Alcohol</th><th scope=col>Tobacco</th></tr>\n",
       "\t<tr><th></th><th scope=col>&lt;int&gt;</th><th scope=col>&lt;dbl&gt;</th><th scope=col>&lt;dbl&gt;</th></tr>\n",
       "</thead>\n",
       "<tbody>\n",
       "\t<tr><th scope=row>11</th><td>11</td><td>4.02</td><td>4.56</td></tr>\n",
       "</tbody>\n",
       "</table>\n"
      ],
      "text/latex": [
       "A data.frame: 1 × 3\n",
       "\\begin{tabular}{r|lll}\n",
       "  & ID & Alcohol & Tobacco\\\\\n",
       "  & <int> & <dbl> & <dbl>\\\\\n",
       "\\hline\n",
       "\t11 & 11 & 4.02 & 4.56\\\\\n",
       "\\end{tabular}\n"
      ],
      "text/markdown": [
       "\n",
       "A data.frame: 1 × 3\n",
       "\n",
       "| <!--/--> | ID &lt;int&gt; | Alcohol &lt;dbl&gt; | Tobacco &lt;dbl&gt; |\n",
       "|---|---|---|---|\n",
       "| 11 | 11 | 4.02 | 4.56 |\n",
       "\n"
      ],
      "text/plain": [
       "   ID Alcohol Tobacco\n",
       "11 11 4.02    4.56   "
      ]
     },
     "metadata": {},
     "output_type": "display_data"
    }
   ],
   "source": [
    "# Filter the data for regions in Ireland (e.g., Northern Ireland=11)\n",
    "ireland_data <- data[grep(11, data$ID), ]\n",
    "ireland_data"
   ]
  },
  {
   "cell_type": "code",
   "execution_count": 125,
   "metadata": {},
   "outputs": [
    {
     "data": {
      "text/html": [
       "4.02"
      ],
      "text/latex": [
       "4.02"
      ],
      "text/markdown": [
       "4.02"
      ],
      "text/plain": [
       "[1] 4.02"
      ]
     },
     "metadata": {},
     "output_type": "display_data"
    }
   ],
   "source": [
    "# Calculate the mean alcohol expenditure for Ireland\n",
    "mean_alcohol_ireland <- mean(ireland_data$Alcohol)\n",
    "mean_alcohol_ireland"
   ]
  },
  {
   "cell_type": "code",
   "execution_count": 126,
   "metadata": {},
   "outputs": [
    {
     "data": {
      "text/html": [
       "5.44363636363636"
      ],
      "text/latex": [
       "5.44363636363636"
      ],
      "text/markdown": [
       "5.44363636363636"
      ],
      "text/plain": [
       "[1] 5.443636"
      ]
     },
     "metadata": {},
     "output_type": "display_data"
    }
   ],
   "source": [
    "# Calculate the mean alcohol expenditure for all regions\n",
    "mean_alcohol_all <- mean(data$Alcohol)\n",
    "mean_alcohol_all\n"
   ]
  },
  {
   "cell_type": "code",
   "execution_count": 127,
   "metadata": {},
   "outputs": [
    {
     "data": {
      "text/html": [
       "FALSE"
      ],
      "text/latex": [
       "FALSE"
      ],
      "text/markdown": [
       "FALSE"
      ],
      "text/plain": [
       "[1] FALSE"
      ]
     },
     "metadata": {},
     "output_type": "display_data"
    }
   ],
   "source": [
    "# Compare the mean alcohol expenditure between Ireland and all regions\n",
    "is_heavy_drinker <- mean_alcohol_ireland > mean_alcohol_all\n",
    "is_heavy_drinker"
   ]
  },
  {
   "cell_type": "code",
   "execution_count": 32,
   "metadata": {},
   "outputs": [
    {
     "data": {
      "image/png": "[encoded data removed]",
      "text/plain": [
       "Plot with title \"Alcohol vs. Tobacco Expenditure (Including Northern Ireland)\""
      ]
     },
     "metadata": {
      "image/png": {
       "height": 420,
       "width": 420
      }
     },
     "output_type": "display_data"
    }
   ],
   "source": [
    "# Create a scatter plot of alcohol vs. tobacco expenditures with emphasis on Northern Ireland\n",
    "plot(data$Alcohol, data$Tobacco, xlab = \"Alcohol Expenditure\", ylab = \"Tobacco Expenditure\",\n",
    "     main = \"Alcohol vs. Tobacco Expenditure (Including Northern Ireland)\")\n"
   ]
  },
  {
   "cell_type": "code",
   "execution_count": 140,
   "metadata": {},
   "outputs": [
    {
     "data": {
      "text/html": [
       "<table class=\"dataframe\">\n",
       "<caption>A data.frame: 0 × 5</caption>\n",
       "<thead>\n",
       "\t<tr><th scope=col>Tobacco</th><th scope=col>ID</th><th scope=col>Alcohol</th><th scope=col>is.outlier</th><th scope=col>is.extreme</th></tr>\n",
       "\t<tr><th scope=col>&lt;dbl&gt;</th><th scope=col>&lt;int&gt;</th><th scope=col>&lt;dbl&gt;</th><th scope=col>&lt;lgl&gt;</th><th scope=col>&lt;lgl&gt;</th></tr>\n",
       "</thead>\n",
       "<tbody>\n",
       "</tbody>\n",
       "</table>\n"
      ],
      "text/latex": [
       "A data.frame: 0 × 5\n",
       "\\begin{tabular}{lllll}\n",
       " Tobacco & ID & Alcohol & is.outlier & is.extreme\\\\\n",
       " <dbl> & <int> & <dbl> & <lgl> & <lgl>\\\\\n",
       "\\hline\n",
       "\\end{tabular}\n"
      ],
      "text/markdown": [
       "\n",
       "A data.frame: 0 × 5\n",
       "\n",
       "| Tobacco &lt;dbl&gt; | ID &lt;int&gt; | Alcohol &lt;dbl&gt; | is.outlier &lt;lgl&gt; | is.extreme &lt;lgl&gt; |\n",
       "|---|---|---|---|---|\n",
       "\n"
      ],
      "text/plain": [
       "     Tobacco ID Alcohol is.outlier is.extreme"
      ]
     },
     "metadata": {},
     "output_type": "display_data"
    }
   ],
   "source": [
    "data %>% group_by(Tobacco) %>% identify_outliers(Alcohol)"
   ]
  },
  {
   "cell_type": "code",
   "execution_count": 129,
   "metadata": {},
   "outputs": [
    {
     "data": {
      "text/html": [
       "<table class=\"dataframe\">\n",
       "<caption>A data.frame: 10 × 3</caption>\n",
       "<thead>\n",
       "\t<tr><th></th><th scope=col>ID</th><th scope=col>Alcohol</th><th scope=col>Tobacco</th></tr>\n",
       "\t<tr><th></th><th scope=col>&lt;int&gt;</th><th scope=col>&lt;dbl&gt;</th><th scope=col>&lt;dbl&gt;</th></tr>\n",
       "</thead>\n",
       "<tbody>\n",
       "\t<tr><th scope=row>1</th><td> 1</td><td>6.47</td><td>4.03</td></tr>\n",
       "\t<tr><th scope=row>2</th><td> 2</td><td>6.13</td><td>3.76</td></tr>\n",
       "\t<tr><th scope=row>3</th><td> 3</td><td>6.19</td><td>3.77</td></tr>\n",
       "\t<tr><th scope=row>4</th><td> 4</td><td>4.89</td><td>3.34</td></tr>\n",
       "\t<tr><th scope=row>5</th><td> 5</td><td>5.63</td><td>3.47</td></tr>\n",
       "\t<tr><th scope=row>6</th><td> 6</td><td>4.52</td><td>2.92</td></tr>\n",
       "\t<tr><th scope=row>7</th><td> 7</td><td>5.89</td><td>3.20</td></tr>\n",
       "\t<tr><th scope=row>8</th><td> 8</td><td>4.79</td><td>2.71</td></tr>\n",
       "\t<tr><th scope=row>9</th><td> 9</td><td>5.27</td><td>3.53</td></tr>\n",
       "\t<tr><th scope=row>10</th><td>10</td><td>6.08</td><td>4.51</td></tr>\n",
       "</tbody>\n",
       "</table>\n"
      ],
      "text/latex": [
       "A data.frame: 10 × 3\n",
       "\\begin{tabular}{r|lll}\n",
       "  & ID & Alcohol & Tobacco\\\\\n",
       "  & <int> & <dbl> & <dbl>\\\\\n",
       "\\hline\n",
       "\t1 &  1 & 6.47 & 4.03\\\\\n",
       "\t2 &  2 & 6.13 & 3.76\\\\\n",
       "\t3 &  3 & 6.19 & 3.77\\\\\n",
       "\t4 &  4 & 4.89 & 3.34\\\\\n",
       "\t5 &  5 & 5.63 & 3.47\\\\\n",
       "\t6 &  6 & 4.52 & 2.92\\\\\n",
       "\t7 &  7 & 5.89 & 3.20\\\\\n",
       "\t8 &  8 & 4.79 & 2.71\\\\\n",
       "\t9 &  9 & 5.27 & 3.53\\\\\n",
       "\t10 & 10 & 6.08 & 4.51\\\\\n",
       "\\end{tabular}\n"
      ],
      "text/markdown": [
       "\n",
       "A data.frame: 10 × 3\n",
       "\n",
       "| <!--/--> | ID &lt;int&gt; | Alcohol &lt;dbl&gt; | Tobacco &lt;dbl&gt; |\n",
       "|---|---|---|---|\n",
       "| 1 |  1 | 6.47 | 4.03 |\n",
       "| 2 |  2 | 6.13 | 3.76 |\n",
       "| 3 |  3 | 6.19 | 3.77 |\n",
       "| 4 |  4 | 4.89 | 3.34 |\n",
       "| 5 |  5 | 5.63 | 3.47 |\n",
       "| 6 |  6 | 4.52 | 2.92 |\n",
       "| 7 |  7 | 5.89 | 3.20 |\n",
       "| 8 |  8 | 4.79 | 2.71 |\n",
       "| 9 |  9 | 5.27 | 3.53 |\n",
       "| 10 | 10 | 6.08 | 4.51 |\n",
       "\n"
      ],
      "text/plain": [
       "   ID Alcohol Tobacco\n",
       "1   1 6.47    4.03   \n",
       "2   2 6.13    3.76   \n",
       "3   3 6.19    3.77   \n",
       "4   4 4.89    3.34   \n",
       "5   5 5.63    3.47   \n",
       "6   6 4.52    2.92   \n",
       "7   7 5.89    3.20   \n",
       "8   8 4.79    2.71   \n",
       "9   9 5.27    3.53   \n",
       "10 10 6.08    4.51   "
      ]
     },
     "metadata": {},
     "output_type": "display_data"
    }
   ],
   "source": [
    "# Filter the data to exclude Northern Ireland\n",
    "data_no_northern_ireland <- data[!grepl(11, data$ID), ]\n",
    "data_no_northern_ireland "
   ]
  },
  {
   "cell_type": "code",
   "execution_count": 130,
   "metadata": {},
   "outputs": [
    {
     "data": {
      "image/png": "[encoded data removed]",
      "text/plain": [
       "Plot with title \"Alcohol vs. Tobacco Expenditure (Excluding Northern Ireland)\""
      ]
     },
     "metadata": {
      "image/png": {
       "height": 420,
       "width": 420
      }
     },
     "output_type": "display_data"
    }
   ],
   "source": [
    "# Create a scatter plot of alcohol vs. tobacco expenditures without Northern Ireland\n",
    "plot(data_no_northern_ireland$Alcohol, data_no_northern_ireland$Tobacco,\n",
    "     xlab = \"Alcohol Expenditure\", ylab = \"Tobacco Expenditure\",\n",
    "     main = \"Alcohol vs. Tobacco Expenditure (Excluding Northern Ireland)\")\n"
   ]
  },
  {
   "cell_type": "code",
   "execution_count": 144,
   "metadata": {},
   "outputs": [
    {
     "name": "stdout",
     "output_type": "stream",
     "text": [
      "Correlation (Alcohol vs. Tobacco) for All Data: 0.2235721 \n",
      "Correlation (Alcohol vs. Tobacco) without Ireland Data: 0.7842873 \n"
     ]
    }
   ],
   "source": [
    "# Print the correlation coefficient\n",
    "cat(\"Correlation (Alcohol vs. Tobacco) for All Data:\", correlation, \"\\n\")\n",
    "correlation_no_northern_ireland <- cor(data_no_northern_ireland$Alcohol, data_no_northern_ireland$Tobacco)\n",
    "cat(\"Correlation (Alcohol vs. Tobacco) without Ireland Data:\", correlation_no_northern_ireland, \"\\n\")\n"
   ]
  },
  {
   "cell_type": "markdown",
   "metadata": {},
   "source": [
    "  این مقدار کرلیشن به ما می گوید که ارتباط مثبتی بین مصرف تنباکو و الکل وجود دارد و مقدار ان با حذف داده ایرلند که به نظر داده پرتی به نظر می رسد افزایش می یابد"
   ]
  },
  {
   "cell_type": "markdown",
   "metadata": {},
   "source": [
    "# Part C.\n",
    "\n",
    "One of the assumptions lying behind our use of regression is the assumption of homogeneity of variance in arrays. One way to examine the data for violations of this assumption is to calculate predicted values of Y and the corresponding residuals (Y – Y^). If you plot the residuals against the predicted values, you should see a more or less random collection of points. The vertical dispersion should not increase or decrease systematically as you move from right to left, nor should there be any other apparent pattern. Create the scatterplot for the data https://github.com/amanirad/Statistics-in-Cognitive-Sciences. Explain the assumption of homogeneity of variances in detail."
   ]
  },
  {
   "cell_type": "code",
   "execution_count": 10,
   "metadata": {},
   "outputs": [],
   "source": [
    "df = read.table('project_3_C.dat', header = TRUE)"
   ]
  },
  {
   "cell_type": "code",
   "execution_count": 18,
   "metadata": {
    "scrolled": true
   },
   "outputs": [
    {
     "data": {
      "text/html": [
       "<table class=\"dataframe\">\n",
       "<caption>A data.frame: 89 × 20</caption>\n",
       "<thead>\n",
       "\t<tr><th scope=col>FamNum</th><th scope=col>SexP</th><th scope=col>SomTP</th><th scope=col>DepTP</th><th scope=col>AnxTP</th><th scope=col>HosTP</th><th scope=col>GSITP</th><th scope=col>SexS</th><th scope=col>SomTS</th><th scope=col>DepTS</th><th scope=col>AnxTS</th><th scope=col>HosTS</th><th scope=col>GSITS</th><th scope=col>SexChild</th><th scope=col>Intern</th><th scope=col>Extern</th><th scope=col>TotBP</th><th scope=col>InternT</th><th scope=col>ExternT</th><th scope=col>TotBPT</th></tr>\n",
       "\t<tr><th scope=col>&lt;int&gt;</th><th scope=col>&lt;chr&gt;</th><th scope=col>&lt;chr&gt;</th><th scope=col>&lt;chr&gt;</th><th scope=col>&lt;chr&gt;</th><th scope=col>&lt;chr&gt;</th><th scope=col>&lt;chr&gt;</th><th scope=col>&lt;chr&gt;</th><th scope=col>&lt;chr&gt;</th><th scope=col>&lt;chr&gt;</th><th scope=col>&lt;chr&gt;</th><th scope=col>&lt;chr&gt;</th><th scope=col>&lt;chr&gt;</th><th scope=col>&lt;chr&gt;</th><th scope=col>&lt;chr&gt;</th><th scope=col>&lt;chr&gt;</th><th scope=col>&lt;chr&gt;</th><th scope=col>&lt;chr&gt;</th><th scope=col>&lt;chr&gt;</th><th scope=col>&lt;chr&gt;</th></tr>\n",
       "</thead>\n",
       "<tbody>\n",
       "\t<tr><td>101</td><td>2</td><td>62</td><td>50</td><td>52</td><td>39</td><td>52</td><td>1</td><td>42</td><td>44</td><td>41</td><td>40</td><td>42</td><td>.</td><td>. </td><td>. </td><td>. </td><td>. </td><td>. </td><td>. </td></tr>\n",
       "\t<tr><td>104</td><td>1</td><td>56</td><td>65</td><td>55</td><td>40</td><td>57</td><td>2</td><td>53</td><td>73</td><td>68</td><td>67</td><td>71</td><td>1</td><td>11</td><td>12</td><td>28</td><td>58</td><td>57</td><td>60</td></tr>\n",
       "\t<tr><td>105</td><td>1</td><td>56</td><td>57</td><td>67</td><td>65</td><td>61</td><td>2</td><td>41</td><td>67</td><td>63</td><td>66</td><td>65</td><td>2</td><td>7 </td><td>7 </td><td>15</td><td>47</td><td>48</td><td>45</td></tr>\n",
       "\t<tr><td>106</td><td>2</td><td>41</td><td>61</td><td>64</td><td>53</td><td>57</td><td>1</td><td>60</td><td>60</td><td>59</td><td>67</td><td>62</td><td>1</td><td>6 </td><td>10</td><td>15</td><td>49</td><td>52</td><td>48</td></tr>\n",
       "\t<tr><td>107</td><td>2</td><td>61</td><td>61</td><td>52</td><td>56</td><td>57</td><td>1</td><td>42</td><td>44</td><td>50</td><td>61</td><td>50</td><td>1</td><td>10</td><td>11</td><td>25</td><td>58</td><td>57</td><td>58</td></tr>\n",
       "\t<tr><td>108</td><td>1</td><td>56</td><td>53</td><td>55</td><td>53</td><td>53</td><td>2</td><td>65</td><td>70</td><td>70</td><td>53</td><td>69</td><td>.</td><td>. </td><td>. </td><td>. </td><td>. </td><td>. </td><td>. </td></tr>\n",
       "\t<tr><td>109</td><td>2</td><td>57</td><td>64</td><td>59</td><td>53</td><td>60</td><td>.</td><td>. </td><td>. </td><td>. </td><td>. </td><td>. </td><td>.</td><td>. </td><td>. </td><td>. </td><td>. </td><td>. </td><td>. </td></tr>\n",
       "\t<tr><td>110</td><td>1</td><td>42</td><td>53</td><td>50</td><td>53</td><td>50</td><td>2</td><td>41</td><td>42</td><td>38</td><td>39</td><td>33</td><td>2</td><td>5 </td><td>5 </td><td>15</td><td>49</td><td>49</td><td>52</td></tr>\n",
       "\t<tr><td>111</td><td>2</td><td>51</td><td>42</td><td>38</td><td>39</td><td>39</td><td>1</td><td>60</td><td>44</td><td>41</td><td>40</td><td>45</td><td>.</td><td>. </td><td>. </td><td>. </td><td>. </td><td>. </td><td>. </td></tr>\n",
       "\t<tr><td>112</td><td>2</td><td>53</td><td>61</td><td>61</td><td>56</td><td>55</td><td>1</td><td>42</td><td>44</td><td>50</td><td>40</td><td>42</td><td>1</td><td>4 </td><td>9 </td><td>14</td><td>48</td><td>55</td><td>51</td></tr>\n",
       "\t<tr><td>113</td><td>1</td><td>42</td><td>44</td><td>50</td><td>40</td><td>42</td><td>2</td><td>41</td><td>42</td><td>38</td><td>39</td><td>43</td><td>.</td><td>. </td><td>. </td><td>. </td><td>. </td><td>. </td><td>. </td></tr>\n",
       "\t<tr><td>114</td><td>2</td><td>53</td><td>57</td><td>55</td><td>56</td><td>51</td><td>1</td><td>54</td><td>44</td><td>41</td><td>40</td><td>35</td><td>.</td><td>. </td><td>. </td><td>. </td><td>. </td><td>. </td><td>. </td></tr>\n",
       "\t<tr><td>115</td><td>.</td><td>. </td><td>. </td><td>. </td><td>. </td><td>. </td><td>2</td><td>58</td><td>57</td><td>52</td><td>53</td><td>57</td><td>2</td><td>9 </td><td>29</td><td>41</td><td>55</td><td>65</td><td>65</td></tr>\n",
       "\t<tr><td>116</td><td>2</td><td>57</td><td>70</td><td>59</td><td>66</td><td>66</td><td>.</td><td>. </td><td>. </td><td>. </td><td>. </td><td>. </td><td>1</td><td>18</td><td>11</td><td>32</td><td>64</td><td>57</td><td>61</td></tr>\n",
       "\t<tr><td>117</td><td>2</td><td>53</td><td>57</td><td>61</td><td>53</td><td>52</td><td>1</td><td>42</td><td>53</td><td>59</td><td>53</td><td>53</td><td>2</td><td>6 </td><td>9 </td><td>21</td><td>46</td><td>51</td><td>49</td></tr>\n",
       "\t<tr><td>118</td><td>1</td><td>68</td><td>53</td><td>55</td><td>53</td><td>59</td><td>.</td><td>. </td><td>. </td><td>. </td><td>. </td><td>. </td><td>.</td><td>. </td><td>. </td><td>. </td><td>. </td><td>. </td><td>. </td></tr>\n",
       "\t<tr><td>119</td><td>2</td><td>41</td><td>61</td><td>46</td><td>53</td><td>56</td><td>.</td><td>. </td><td>. </td><td>. </td><td>. </td><td>. </td><td>2</td><td>1 </td><td>0 </td><td>1 </td><td>40</td><td>38</td><td>33</td></tr>\n",
       "\t<tr><td>120</td><td>2</td><td>57</td><td>61</td><td>55</td><td>56</td><td>58</td><td>.</td><td>. </td><td>. </td><td>. </td><td>. </td><td>. </td><td>.</td><td>. </td><td>. </td><td>. </td><td>. </td><td>. </td><td>. </td></tr>\n",
       "\t<tr><td>121</td><td>2</td><td>61</td><td>63</td><td>63</td><td>72</td><td>63</td><td>.</td><td>. </td><td>. </td><td>. </td><td>. </td><td>. </td><td>1</td><td>24</td><td>16</td><td>44</td><td>67</td><td>61</td><td>64</td></tr>\n",
       "\t<tr><td>122</td><td>2</td><td>53</td><td>42</td><td>38</td><td>39</td><td>39</td><td>1</td><td>65</td><td>71</td><td>69</td><td>78</td><td>67</td><td>.</td><td>. </td><td>. </td><td>. </td><td>. </td><td>. </td><td>. </td></tr>\n",
       "\t<tr><td>123</td><td>2</td><td>41</td><td>57</td><td>61</td><td>67</td><td>57</td><td>1</td><td>60</td><td>78</td><td>55</td><td>61</td><td>64</td><td>1</td><td>4 </td><td>9 </td><td>13</td><td>46</td><td>51</td><td>46</td></tr>\n",
       "\t<tr><td>125</td><td>2</td><td>41</td><td>42</td><td>52</td><td>39</td><td>48</td><td>1</td><td>42</td><td>44</td><td>41</td><td>40</td><td>42</td><td>.</td><td>. </td><td>. </td><td>. </td><td>. </td><td>. </td><td>. </td></tr>\n",
       "\t<tr><td>126</td><td>2</td><td>58</td><td>42</td><td>55</td><td>60</td><td>54</td><td>.</td><td>. </td><td>. </td><td>. </td><td>. </td><td>. </td><td>.</td><td>. </td><td>. </td><td>. </td><td>. </td><td>. </td><td>. </td></tr>\n",
       "\t<tr><td>127</td><td>2</td><td>65</td><td>42</td><td>38</td><td>39</td><td>49</td><td>1</td><td>54</td><td>44</td><td>41</td><td>40</td><td>42</td><td>.</td><td>. </td><td>. </td><td>. </td><td>. </td><td>. </td><td>. </td></tr>\n",
       "\t<tr><td>129</td><td>2</td><td>51</td><td>42</td><td>55</td><td>53</td><td>54</td><td>1</td><td>54</td><td>44</td><td>55</td><td>53</td><td>50</td><td>.</td><td>. </td><td>. </td><td>. </td><td>. </td><td>. </td><td>. </td></tr>\n",
       "\t<tr><td>130</td><td>1</td><td>65</td><td>44</td><td>55</td><td>40</td><td>53</td><td>2</td><td>41</td><td>61</td><td>52</td><td>53</td><td>52</td><td>.</td><td>. </td><td>. </td><td>. </td><td>. </td><td>. </td><td>. </td></tr>\n",
       "\t<tr><td>131</td><td>2</td><td>58</td><td>50</td><td>52</td><td>39</td><td>48</td><td>.</td><td>. </td><td>. </td><td>. </td><td>. </td><td>. </td><td>.</td><td>. </td><td>. </td><td>. </td><td>. </td><td>. </td><td>. </td></tr>\n",
       "\t<tr><td>132</td><td>.</td><td>. </td><td>. </td><td>. </td><td>. </td><td>. </td><td>2</td><td>41</td><td>61</td><td>68</td><td>63</td><td>61</td><td>.</td><td>. </td><td>. </td><td>. </td><td>. </td><td>. </td><td>. </td></tr>\n",
       "\t<tr><td>135</td><td>2</td><td>53</td><td>50</td><td>38</td><td>39</td><td>45</td><td>1</td><td>42</td><td>44</td><td>50</td><td>53</td><td>50</td><td>2</td><td>1 </td><td>4 </td><td>7 </td><td>40</td><td>44</td><td>43</td></tr>\n",
       "\t<tr><td>138</td><td>2</td><td>41</td><td>42</td><td>38</td><td>39</td><td>43</td><td>.</td><td>. </td><td>. </td><td>. </td><td>. </td><td>. </td><td>1</td><td>2 </td><td>1 </td><td>3 </td><td>38</td><td>34</td><td>33</td></tr>\n",
       "\t<tr><td>...</td><td>...</td><td>...</td><td>...</td><td>...</td><td>...</td><td>...</td><td>...</td><td>...</td><td>...</td><td>...</td><td>...</td><td>...</td><td>...</td><td>...</td><td>...</td><td>...</td><td>...</td><td>...</td><td>...</td></tr>\n",
       "\t<tr><td>238</td><td>2</td><td>51</td><td>50</td><td>55</td><td>56</td><td>54</td><td>1</td><td>42</td><td>57</td><td>50</td><td>40</td><td>53</td><td>.</td><td>. </td><td>. </td><td>. </td><td>. </td><td>. </td><td>. </td></tr>\n",
       "\t<tr><td>239</td><td>2</td><td>66</td><td>54</td><td>55</td><td>53</td><td>63</td><td>.</td><td>. </td><td>. </td><td>. </td><td>. </td><td>. </td><td>1</td><td>24</td><td>15</td><td>45</td><td>69</td><td>57</td><td>65</td></tr>\n",
       "\t<tr><td>240</td><td>.</td><td>. </td><td>. </td><td>. </td><td>. </td><td>. </td><td>1</td><td>42</td><td>65</td><td>64</td><td>71</td><td>60</td><td>1</td><td>15</td><td>14</td><td>38</td><td>61</td><td>56</td><td>61</td></tr>\n",
       "\t<tr><td>243</td><td>.</td><td>. </td><td>. </td><td>. </td><td>. </td><td>. </td><td>2</td><td>51</td><td>57</td><td>55</td><td>53</td><td>54</td><td>.</td><td>. </td><td>. </td><td>. </td><td>. </td><td>. </td><td>. </td></tr>\n",
       "\t<tr><td>304</td><td>2</td><td>61</td><td>50</td><td>61</td><td>39</td><td>55</td><td>1</td><td>76</td><td>53</td><td>64</td><td>67</td><td>65</td><td>2</td><td>13</td><td>8 </td><td>22</td><td>58</td><td>52</td><td>57</td></tr>\n",
       "\t<tr><td>305</td><td>2</td><td>64</td><td>57</td><td>70</td><td>72</td><td>71</td><td>1</td><td>54</td><td>60</td><td>67</td><td>58</td><td>58</td><td>1</td><td>14</td><td>16</td><td>38</td><td>60</td><td>58</td><td>61</td></tr>\n",
       "\t<tr><td>306</td><td>2</td><td>69</td><td>64</td><td>68</td><td>63</td><td>66</td><td>1</td><td>54</td><td>44</td><td>64</td><td>53</td><td>48</td><td>2</td><td>20</td><td>25</td><td>45</td><td>67</td><td>65</td><td>67</td></tr>\n",
       "\t<tr><td>307</td><td>2</td><td>74</td><td>78</td><td>75</td><td>74</td><td>80</td><td>1</td><td>56</td><td>71</td><td>64</td><td>61</td><td>65</td><td>.</td><td>. </td><td>. </td><td>. </td><td>. </td><td>. </td><td>. </td></tr>\n",
       "\t<tr><td>308</td><td>2</td><td>51</td><td>62</td><td>55</td><td>53</td><td>54</td><td>1</td><td>75</td><td>67</td><td>64</td><td>61</td><td>66</td><td>.</td><td>. </td><td>. </td><td>. </td><td>. </td><td>. </td><td>. </td></tr>\n",
       "\t<tr><td>309</td><td>2</td><td>61</td><td>42</td><td>55</td><td>56</td><td>54</td><td>1</td><td>42</td><td>44</td><td>50</td><td>40</td><td>45</td><td>1</td><td>1 </td><td>1 </td><td>3 </td><td>40</td><td>41</td><td>39</td></tr>\n",
       "\t<tr><td>310</td><td>2</td><td>62</td><td>42</td><td>55</td><td>53</td><td>55</td><td>.</td><td>. </td><td>. </td><td>. </td><td>. </td><td>. </td><td>.</td><td>. </td><td>. </td><td>. </td><td>. </td><td>. </td><td>. </td></tr>\n",
       "\t<tr><td>311</td><td>2</td><td>68</td><td>63</td><td>64</td><td>56</td><td>63</td><td>.</td><td>. </td><td>. </td><td>. </td><td>. </td><td>. </td><td>2</td><td>15</td><td>6 </td><td>26</td><td>60</td><td>50</td><td>59</td></tr>\n",
       "\t<tr><td>312</td><td>2</td><td>78</td><td>73</td><td>75</td><td>74</td><td>80</td><td>.</td><td>. </td><td>. </td><td>. </td><td>. </td><td>. </td><td>2</td><td>42</td><td>40</td><td>83</td><td>77</td><td>74</td><td>77</td></tr>\n",
       "\t<tr><td>315</td><td>2</td><td>64</td><td>54</td><td>55</td><td>56</td><td>57</td><td>1</td><td>42</td><td>44</td><td>41</td><td>40</td><td>45</td><td>2</td><td>0 </td><td>0 </td><td>0 </td><td>37</td><td>38</td><td>30</td></tr>\n",
       "\t<tr><td>316</td><td>2</td><td>65</td><td>50</td><td>55</td><td>53</td><td>60</td><td>.</td><td>. </td><td>. </td><td>. </td><td>. </td><td>. </td><td>.</td><td>. </td><td>. </td><td>. </td><td>. </td><td>. </td><td>. </td></tr>\n",
       "\t<tr><td>317</td><td>2</td><td>. </td><td>. </td><td>. </td><td>. </td><td>. </td><td>2</td><td>41</td><td>50</td><td>55</td><td>39</td><td>45</td><td>.</td><td>. </td><td>. </td><td>. </td><td>. </td><td>. </td><td>. </td></tr>\n",
       "\t<tr><td>318</td><td>2</td><td>57</td><td>42</td><td>38</td><td>53</td><td>43</td><td>1</td><td>78</td><td>65</td><td>78</td><td>58</td><td>72</td><td>2</td><td>3 </td><td>10</td><td>16</td><td>45</td><td>52</td><td>49</td></tr>\n",
       "\t<tr><td>319</td><td>2</td><td>57</td><td>61</td><td>55</td><td>53</td><td>55</td><td>.</td><td>. </td><td>. </td><td>. </td><td>. </td><td>. </td><td>2</td><td>13</td><td>19</td><td>33</td><td>58</td><td>61</td><td>62</td></tr>\n",
       "\t<tr><td>320</td><td>1</td><td>. </td><td>. </td><td>. </td><td>. </td><td>. </td><td>2</td><td>. </td><td>. </td><td>. </td><td>. </td><td>. </td><td>.</td><td>. </td><td>. </td><td>. </td><td>. </td><td>. </td><td>. </td></tr>\n",
       "\t<tr><td>321</td><td>2</td><td>51</td><td>61</td><td>59</td><td>63</td><td>61</td><td>2</td><td>53</td><td>57</td><td>63</td><td>53</td><td>58</td><td>1</td><td>13</td><td>11</td><td>27</td><td>61</td><td>57</td><td>59</td></tr>\n",
       "\t<tr><td>322</td><td>2</td><td>41</td><td>54</td><td>59</td><td>53</td><td>57</td><td>.</td><td>. </td><td>. </td><td>. </td><td>. </td><td>. </td><td>.</td><td>. </td><td>. </td><td>. </td><td>. </td><td>. </td><td>. </td></tr>\n",
       "\t<tr><td>323</td><td>2</td><td>66</td><td>67</td><td>52</td><td>53</td><td>62</td><td>.</td><td>. </td><td>. </td><td>. </td><td>. </td><td>. </td><td>.</td><td>. </td><td>. </td><td>. </td><td>. </td><td>. </td><td>. </td></tr>\n",
       "\t<tr><td>324</td><td>2</td><td>61</td><td>57</td><td>68</td><td>53</td><td>57</td><td>.</td><td>. </td><td>. </td><td>. </td><td>. </td><td>. </td><td>1</td><td>0 </td><td>2 </td><td>3 </td><td>36</td><td>45</td><td>39</td></tr>\n",
       "\t<tr><td>325</td><td>2</td><td>67</td><td>63</td><td>61</td><td>53</td><td>66</td><td>1</td><td>54</td><td>71</td><td>74</td><td>61</td><td>72</td><td>1</td><td>15</td><td>42</td><td>59</td><td>62</td><td>75</td><td>68</td></tr>\n",
       "\t<tr><td>326</td><td>2</td><td>61</td><td>63</td><td>59</td><td>53</td><td>61</td><td>.</td><td>. </td><td>. </td><td>. </td><td>. </td><td>. </td><td>.</td><td>. </td><td>. </td><td>. </td><td>. </td><td>. </td><td>. </td></tr>\n",
       "\t<tr><td>327</td><td>2</td><td>. </td><td>. </td><td>. </td><td>. </td><td>. </td><td>.</td><td>. </td><td>. </td><td>. </td><td>. </td><td>. </td><td>.</td><td>. </td><td>. </td><td>. </td><td>. </td><td>. </td><td>. </td></tr>\n",
       "\t<tr><td>329</td><td>2</td><td>53</td><td>42</td><td>38</td><td>56</td><td>45</td><td>1</td><td>42</td><td>60</td><td>67</td><td>58</td><td>57</td><td>.</td><td>. </td><td>. </td><td>. </td><td>. </td><td>. </td><td>. </td></tr>\n",
       "\t<tr><td>332</td><td>2</td><td>51</td><td>50</td><td>52</td><td>39</td><td>48</td><td>.</td><td>. </td><td>. </td><td>. </td><td>. </td><td>. </td><td>.</td><td>. </td><td>. </td><td>. </td><td>. </td><td>. </td><td>. </td></tr>\n",
       "\t<tr><td>401</td><td>.</td><td>. </td><td>. </td><td>. </td><td>. </td><td>. </td><td>1</td><td>56</td><td>44</td><td>55</td><td>40</td><td>45</td><td>.</td><td>. </td><td>. </td><td>. </td><td>. </td><td>. </td><td>. </td></tr>\n",
       "\t<tr><td>404</td><td>1</td><td>68</td><td>73</td><td>74</td><td>63</td><td>72</td><td>2</td><td>51</td><td>50</td><td>46</td><td>66</td><td>55</td><td>.</td><td>. </td><td>. </td><td>. </td><td>. </td><td>. </td><td>. </td></tr>\n",
       "</tbody>\n",
       "</table>\n"
      ],
      "text/latex": [
       "A data.frame: 89 × 20\n",
       "\\begin{tabular}{llllllllllllllllllll}\n",
       " FamNum & SexP & SomTP & DepTP & AnxTP & HosTP & GSITP & SexS & SomTS & DepTS & AnxTS & HosTS & GSITS & SexChild & Intern & Extern & TotBP & InternT & ExternT & TotBPT\\\\\n",
       " <int> & <chr> & <chr> & <chr> & <chr> & <chr> & <chr> & <chr> & <chr> & <chr> & <chr> & <chr> & <chr> & <chr> & <chr> & <chr> & <chr> & <chr> & <chr> & <chr>\\\\\n",
       "\\hline\n",
       "\t 101 & 2 & 62 & 50 & 52 & 39 & 52 & 1 & 42 & 44 & 41 & 40 & 42 & . & .  & .  & .  & .  & .  & . \\\\\n",
       "\t 104 & 1 & 56 & 65 & 55 & 40 & 57 & 2 & 53 & 73 & 68 & 67 & 71 & 1 & 11 & 12 & 28 & 58 & 57 & 60\\\\\n",
       "\t 105 & 1 & 56 & 57 & 67 & 65 & 61 & 2 & 41 & 67 & 63 & 66 & 65 & 2 & 7  & 7  & 15 & 47 & 48 & 45\\\\\n",
       "\t 106 & 2 & 41 & 61 & 64 & 53 & 57 & 1 & 60 & 60 & 59 & 67 & 62 & 1 & 6  & 10 & 15 & 49 & 52 & 48\\\\\n",
       "\t 107 & 2 & 61 & 61 & 52 & 56 & 57 & 1 & 42 & 44 & 50 & 61 & 50 & 1 & 10 & 11 & 25 & 58 & 57 & 58\\\\\n",
       "\t 108 & 1 & 56 & 53 & 55 & 53 & 53 & 2 & 65 & 70 & 70 & 53 & 69 & . & .  & .  & .  & .  & .  & . \\\\\n",
       "\t 109 & 2 & 57 & 64 & 59 & 53 & 60 & . & .  & .  & .  & .  & .  & . & .  & .  & .  & .  & .  & . \\\\\n",
       "\t 110 & 1 & 42 & 53 & 50 & 53 & 50 & 2 & 41 & 42 & 38 & 39 & 33 & 2 & 5  & 5  & 15 & 49 & 49 & 52\\\\\n",
       "\t 111 & 2 & 51 & 42 & 38 & 39 & 39 & 1 & 60 & 44 & 41 & 40 & 45 & . & .  & .  & .  & .  & .  & . \\\\\n",
       "\t 112 & 2 & 53 & 61 & 61 & 56 & 55 & 1 & 42 & 44 & 50 & 40 & 42 & 1 & 4  & 9  & 14 & 48 & 55 & 51\\\\\n",
       "\t 113 & 1 & 42 & 44 & 50 & 40 & 42 & 2 & 41 & 42 & 38 & 39 & 43 & . & .  & .  & .  & .  & .  & . \\\\\n",
       "\t 114 & 2 & 53 & 57 & 55 & 56 & 51 & 1 & 54 & 44 & 41 & 40 & 35 & . & .  & .  & .  & .  & .  & . \\\\\n",
       "\t 115 & . & .  & .  & .  & .  & .  & 2 & 58 & 57 & 52 & 53 & 57 & 2 & 9  & 29 & 41 & 55 & 65 & 65\\\\\n",
       "\t 116 & 2 & 57 & 70 & 59 & 66 & 66 & . & .  & .  & .  & .  & .  & 1 & 18 & 11 & 32 & 64 & 57 & 61\\\\\n",
       "\t 117 & 2 & 53 & 57 & 61 & 53 & 52 & 1 & 42 & 53 & 59 & 53 & 53 & 2 & 6  & 9  & 21 & 46 & 51 & 49\\\\\n",
       "\t 118 & 1 & 68 & 53 & 55 & 53 & 59 & . & .  & .  & .  & .  & .  & . & .  & .  & .  & .  & .  & . \\\\\n",
       "\t 119 & 2 & 41 & 61 & 46 & 53 & 56 & . & .  & .  & .  & .  & .  & 2 & 1  & 0  & 1  & 40 & 38 & 33\\\\\n",
       "\t 120 & 2 & 57 & 61 & 55 & 56 & 58 & . & .  & .  & .  & .  & .  & . & .  & .  & .  & .  & .  & . \\\\\n",
       "\t 121 & 2 & 61 & 63 & 63 & 72 & 63 & . & .  & .  & .  & .  & .  & 1 & 24 & 16 & 44 & 67 & 61 & 64\\\\\n",
       "\t 122 & 2 & 53 & 42 & 38 & 39 & 39 & 1 & 65 & 71 & 69 & 78 & 67 & . & .  & .  & .  & .  & .  & . \\\\\n",
       "\t 123 & 2 & 41 & 57 & 61 & 67 & 57 & 1 & 60 & 78 & 55 & 61 & 64 & 1 & 4  & 9  & 13 & 46 & 51 & 46\\\\\n",
       "\t 125 & 2 & 41 & 42 & 52 & 39 & 48 & 1 & 42 & 44 & 41 & 40 & 42 & . & .  & .  & .  & .  & .  & . \\\\\n",
       "\t 126 & 2 & 58 & 42 & 55 & 60 & 54 & . & .  & .  & .  & .  & .  & . & .  & .  & .  & .  & .  & . \\\\\n",
       "\t 127 & 2 & 65 & 42 & 38 & 39 & 49 & 1 & 54 & 44 & 41 & 40 & 42 & . & .  & .  & .  & .  & .  & . \\\\\n",
       "\t 129 & 2 & 51 & 42 & 55 & 53 & 54 & 1 & 54 & 44 & 55 & 53 & 50 & . & .  & .  & .  & .  & .  & . \\\\\n",
       "\t 130 & 1 & 65 & 44 & 55 & 40 & 53 & 2 & 41 & 61 & 52 & 53 & 52 & . & .  & .  & .  & .  & .  & . \\\\\n",
       "\t 131 & 2 & 58 & 50 & 52 & 39 & 48 & . & .  & .  & .  & .  & .  & . & .  & .  & .  & .  & .  & . \\\\\n",
       "\t 132 & . & .  & .  & .  & .  & .  & 2 & 41 & 61 & 68 & 63 & 61 & . & .  & .  & .  & .  & .  & . \\\\\n",
       "\t 135 & 2 & 53 & 50 & 38 & 39 & 45 & 1 & 42 & 44 & 50 & 53 & 50 & 2 & 1  & 4  & 7  & 40 & 44 & 43\\\\\n",
       "\t 138 & 2 & 41 & 42 & 38 & 39 & 43 & . & .  & .  & .  & .  & .  & 1 & 2  & 1  & 3  & 38 & 34 & 33\\\\\n",
       "\t ... & ... & ... & ... & ... & ... & ... & ... & ... & ... & ... & ... & ... & ... & ... & ... & ... & ... & ... & ...\\\\\n",
       "\t 238 & 2 & 51 & 50 & 55 & 56 & 54 & 1 & 42 & 57 & 50 & 40 & 53 & . & .  & .  & .  & .  & .  & . \\\\\n",
       "\t 239 & 2 & 66 & 54 & 55 & 53 & 63 & . & .  & .  & .  & .  & .  & 1 & 24 & 15 & 45 & 69 & 57 & 65\\\\\n",
       "\t 240 & . & .  & .  & .  & .  & .  & 1 & 42 & 65 & 64 & 71 & 60 & 1 & 15 & 14 & 38 & 61 & 56 & 61\\\\\n",
       "\t 243 & . & .  & .  & .  & .  & .  & 2 & 51 & 57 & 55 & 53 & 54 & . & .  & .  & .  & .  & .  & . \\\\\n",
       "\t 304 & 2 & 61 & 50 & 61 & 39 & 55 & 1 & 76 & 53 & 64 & 67 & 65 & 2 & 13 & 8  & 22 & 58 & 52 & 57\\\\\n",
       "\t 305 & 2 & 64 & 57 & 70 & 72 & 71 & 1 & 54 & 60 & 67 & 58 & 58 & 1 & 14 & 16 & 38 & 60 & 58 & 61\\\\\n",
       "\t 306 & 2 & 69 & 64 & 68 & 63 & 66 & 1 & 54 & 44 & 64 & 53 & 48 & 2 & 20 & 25 & 45 & 67 & 65 & 67\\\\\n",
       "\t 307 & 2 & 74 & 78 & 75 & 74 & 80 & 1 & 56 & 71 & 64 & 61 & 65 & . & .  & .  & .  & .  & .  & . \\\\\n",
       "\t 308 & 2 & 51 & 62 & 55 & 53 & 54 & 1 & 75 & 67 & 64 & 61 & 66 & . & .  & .  & .  & .  & .  & . \\\\\n",
       "\t 309 & 2 & 61 & 42 & 55 & 56 & 54 & 1 & 42 & 44 & 50 & 40 & 45 & 1 & 1  & 1  & 3  & 40 & 41 & 39\\\\\n",
       "\t 310 & 2 & 62 & 42 & 55 & 53 & 55 & . & .  & .  & .  & .  & .  & . & .  & .  & .  & .  & .  & . \\\\\n",
       "\t 311 & 2 & 68 & 63 & 64 & 56 & 63 & . & .  & .  & .  & .  & .  & 2 & 15 & 6  & 26 & 60 & 50 & 59\\\\\n",
       "\t 312 & 2 & 78 & 73 & 75 & 74 & 80 & . & .  & .  & .  & .  & .  & 2 & 42 & 40 & 83 & 77 & 74 & 77\\\\\n",
       "\t 315 & 2 & 64 & 54 & 55 & 56 & 57 & 1 & 42 & 44 & 41 & 40 & 45 & 2 & 0  & 0  & 0  & 37 & 38 & 30\\\\\n",
       "\t 316 & 2 & 65 & 50 & 55 & 53 & 60 & . & .  & .  & .  & .  & .  & . & .  & .  & .  & .  & .  & . \\\\\n",
       "\t 317 & 2 & .  & .  & .  & .  & .  & 2 & 41 & 50 & 55 & 39 & 45 & . & .  & .  & .  & .  & .  & . \\\\\n",
       "\t 318 & 2 & 57 & 42 & 38 & 53 & 43 & 1 & 78 & 65 & 78 & 58 & 72 & 2 & 3  & 10 & 16 & 45 & 52 & 49\\\\\n",
       "\t 319 & 2 & 57 & 61 & 55 & 53 & 55 & . & .  & .  & .  & .  & .  & 2 & 13 & 19 & 33 & 58 & 61 & 62\\\\\n",
       "\t 320 & 1 & .  & .  & .  & .  & .  & 2 & .  & .  & .  & .  & .  & . & .  & .  & .  & .  & .  & . \\\\\n",
       "\t 321 & 2 & 51 & 61 & 59 & 63 & 61 & 2 & 53 & 57 & 63 & 53 & 58 & 1 & 13 & 11 & 27 & 61 & 57 & 59\\\\\n",
       "\t 322 & 2 & 41 & 54 & 59 & 53 & 57 & . & .  & .  & .  & .  & .  & . & .  & .  & .  & .  & .  & . \\\\\n",
       "\t 323 & 2 & 66 & 67 & 52 & 53 & 62 & . & .  & .  & .  & .  & .  & . & .  & .  & .  & .  & .  & . \\\\\n",
       "\t 324 & 2 & 61 & 57 & 68 & 53 & 57 & . & .  & .  & .  & .  & .  & 1 & 0  & 2  & 3  & 36 & 45 & 39\\\\\n",
       "\t 325 & 2 & 67 & 63 & 61 & 53 & 66 & 1 & 54 & 71 & 74 & 61 & 72 & 1 & 15 & 42 & 59 & 62 & 75 & 68\\\\\n",
       "\t 326 & 2 & 61 & 63 & 59 & 53 & 61 & . & .  & .  & .  & .  & .  & . & .  & .  & .  & .  & .  & . \\\\\n",
       "\t 327 & 2 & .  & .  & .  & .  & .  & . & .  & .  & .  & .  & .  & . & .  & .  & .  & .  & .  & . \\\\\n",
       "\t 329 & 2 & 53 & 42 & 38 & 56 & 45 & 1 & 42 & 60 & 67 & 58 & 57 & . & .  & .  & .  & .  & .  & . \\\\\n",
       "\t 332 & 2 & 51 & 50 & 52 & 39 & 48 & . & .  & .  & .  & .  & .  & . & .  & .  & .  & .  & .  & . \\\\\n",
       "\t 401 & . & .  & .  & .  & .  & .  & 1 & 56 & 44 & 55 & 40 & 45 & . & .  & .  & .  & .  & .  & . \\\\\n",
       "\t 404 & 1 & 68 & 73 & 74 & 63 & 72 & 2 & 51 & 50 & 46 & 66 & 55 & . & .  & .  & .  & .  & .  & . \\\\\n",
       "\\end{tabular}\n"
      ],
      "text/markdown": [
       "\n",
       "A data.frame: 89 × 20\n",
       "\n",
       "| FamNum &lt;int&gt; | SexP &lt;chr&gt; | SomTP &lt;chr&gt; | DepTP &lt;chr&gt; | AnxTP &lt;chr&gt; | HosTP &lt;chr&gt; | GSITP &lt;chr&gt; | SexS &lt;chr&gt; | SomTS &lt;chr&gt; | DepTS &lt;chr&gt; | AnxTS &lt;chr&gt; | HosTS &lt;chr&gt; | GSITS &lt;chr&gt; | SexChild &lt;chr&gt; | Intern &lt;chr&gt; | Extern &lt;chr&gt; | TotBP &lt;chr&gt; | InternT &lt;chr&gt; | ExternT &lt;chr&gt; | TotBPT &lt;chr&gt; |\n",
       "|---|---|---|---|---|---|---|---|---|---|---|---|---|---|---|---|---|---|---|---|\n",
       "| 101 | 2 | 62 | 50 | 52 | 39 | 52 | 1 | 42 | 44 | 41 | 40 | 42 | . | .  | .  | .  | .  | .  | .  |\n",
       "| 104 | 1 | 56 | 65 | 55 | 40 | 57 | 2 | 53 | 73 | 68 | 67 | 71 | 1 | 11 | 12 | 28 | 58 | 57 | 60 |\n",
       "| 105 | 1 | 56 | 57 | 67 | 65 | 61 | 2 | 41 | 67 | 63 | 66 | 65 | 2 | 7  | 7  | 15 | 47 | 48 | 45 |\n",
       "| 106 | 2 | 41 | 61 | 64 | 53 | 57 | 1 | 60 | 60 | 59 | 67 | 62 | 1 | 6  | 10 | 15 | 49 | 52 | 48 |\n",
       "| 107 | 2 | 61 | 61 | 52 | 56 | 57 | 1 | 42 | 44 | 50 | 61 | 50 | 1 | 10 | 11 | 25 | 58 | 57 | 58 |\n",
       "| 108 | 1 | 56 | 53 | 55 | 53 | 53 | 2 | 65 | 70 | 70 | 53 | 69 | . | .  | .  | .  | .  | .  | .  |\n",
       "| 109 | 2 | 57 | 64 | 59 | 53 | 60 | . | .  | .  | .  | .  | .  | . | .  | .  | .  | .  | .  | .  |\n",
       "| 110 | 1 | 42 | 53 | 50 | 53 | 50 | 2 | 41 | 42 | 38 | 39 | 33 | 2 | 5  | 5  | 15 | 49 | 49 | 52 |\n",
       "| 111 | 2 | 51 | 42 | 38 | 39 | 39 | 1 | 60 | 44 | 41 | 40 | 45 | . | .  | .  | .  | .  | .  | .  |\n",
       "| 112 | 2 | 53 | 61 | 61 | 56 | 55 | 1 | 42 | 44 | 50 | 40 | 42 | 1 | 4  | 9  | 14 | 48 | 55 | 51 |\n",
       "| 113 | 1 | 42 | 44 | 50 | 40 | 42 | 2 | 41 | 42 | 38 | 39 | 43 | . | .  | .  | .  | .  | .  | .  |\n",
       "| 114 | 2 | 53 | 57 | 55 | 56 | 51 | 1 | 54 | 44 | 41 | 40 | 35 | . | .  | .  | .  | .  | .  | .  |\n",
       "| 115 | . | .  | .  | .  | .  | .  | 2 | 58 | 57 | 52 | 53 | 57 | 2 | 9  | 29 | 41 | 55 | 65 | 65 |\n",
       "| 116 | 2 | 57 | 70 | 59 | 66 | 66 | . | .  | .  | .  | .  | .  | 1 | 18 | 11 | 32 | 64 | 57 | 61 |\n",
       "| 117 | 2 | 53 | 57 | 61 | 53 | 52 | 1 | 42 | 53 | 59 | 53 | 53 | 2 | 6  | 9  | 21 | 46 | 51 | 49 |\n",
       "| 118 | 1 | 68 | 53 | 55 | 53 | 59 | . | .  | .  | .  | .  | .  | . | .  | .  | .  | .  | .  | .  |\n",
       "| 119 | 2 | 41 | 61 | 46 | 53 | 56 | . | .  | .  | .  | .  | .  | 2 | 1  | 0  | 1  | 40 | 38 | 33 |\n",
       "| 120 | 2 | 57 | 61 | 55 | 56 | 58 | . | .  | .  | .  | .  | .  | . | .  | .  | .  | .  | .  | .  |\n",
       "| 121 | 2 | 61 | 63 | 63 | 72 | 63 | . | .  | .  | .  | .  | .  | 1 | 24 | 16 | 44 | 67 | 61 | 64 |\n",
       "| 122 | 2 | 53 | 42 | 38 | 39 | 39 | 1 | 65 | 71 | 69 | 78 | 67 | . | .  | .  | .  | .  | .  | .  |\n",
       "| 123 | 2 | 41 | 57 | 61 | 67 | 57 | 1 | 60 | 78 | 55 | 61 | 64 | 1 | 4  | 9  | 13 | 46 | 51 | 46 |\n",
       "| 125 | 2 | 41 | 42 | 52 | 39 | 48 | 1 | 42 | 44 | 41 | 40 | 42 | . | .  | .  | .  | .  | .  | .  |\n",
       "| 126 | 2 | 58 | 42 | 55 | 60 | 54 | . | .  | .  | .  | .  | .  | . | .  | .  | .  | .  | .  | .  |\n",
       "| 127 | 2 | 65 | 42 | 38 | 39 | 49 | 1 | 54 | 44 | 41 | 40 | 42 | . | .  | .  | .  | .  | .  | .  |\n",
       "| 129 | 2 | 51 | 42 | 55 | 53 | 54 | 1 | 54 | 44 | 55 | 53 | 50 | . | .  | .  | .  | .  | .  | .  |\n",
       "| 130 | 1 | 65 | 44 | 55 | 40 | 53 | 2 | 41 | 61 | 52 | 53 | 52 | . | .  | .  | .  | .  | .  | .  |\n",
       "| 131 | 2 | 58 | 50 | 52 | 39 | 48 | . | .  | .  | .  | .  | .  | . | .  | .  | .  | .  | .  | .  |\n",
       "| 132 | . | .  | .  | .  | .  | .  | 2 | 41 | 61 | 68 | 63 | 61 | . | .  | .  | .  | .  | .  | .  |\n",
       "| 135 | 2 | 53 | 50 | 38 | 39 | 45 | 1 | 42 | 44 | 50 | 53 | 50 | 2 | 1  | 4  | 7  | 40 | 44 | 43 |\n",
       "| 138 | 2 | 41 | 42 | 38 | 39 | 43 | . | .  | .  | .  | .  | .  | 1 | 2  | 1  | 3  | 38 | 34 | 33 |\n",
       "| ... | ... | ... | ... | ... | ... | ... | ... | ... | ... | ... | ... | ... | ... | ... | ... | ... | ... | ... | ... |\n",
       "| 238 | 2 | 51 | 50 | 55 | 56 | 54 | 1 | 42 | 57 | 50 | 40 | 53 | . | .  | .  | .  | .  | .  | .  |\n",
       "| 239 | 2 | 66 | 54 | 55 | 53 | 63 | . | .  | .  | .  | .  | .  | 1 | 24 | 15 | 45 | 69 | 57 | 65 |\n",
       "| 240 | . | .  | .  | .  | .  | .  | 1 | 42 | 65 | 64 | 71 | 60 | 1 | 15 | 14 | 38 | 61 | 56 | 61 |\n",
       "| 243 | . | .  | .  | .  | .  | .  | 2 | 51 | 57 | 55 | 53 | 54 | . | .  | .  | .  | .  | .  | .  |\n",
       "| 304 | 2 | 61 | 50 | 61 | 39 | 55 | 1 | 76 | 53 | 64 | 67 | 65 | 2 | 13 | 8  | 22 | 58 | 52 | 57 |\n",
       "| 305 | 2 | 64 | 57 | 70 | 72 | 71 | 1 | 54 | 60 | 67 | 58 | 58 | 1 | 14 | 16 | 38 | 60 | 58 | 61 |\n",
       "| 306 | 2 | 69 | 64 | 68 | 63 | 66 | 1 | 54 | 44 | 64 | 53 | 48 | 2 | 20 | 25 | 45 | 67 | 65 | 67 |\n",
       "| 307 | 2 | 74 | 78 | 75 | 74 | 80 | 1 | 56 | 71 | 64 | 61 | 65 | . | .  | .  | .  | .  | .  | .  |\n",
       "| 308 | 2 | 51 | 62 | 55 | 53 | 54 | 1 | 75 | 67 | 64 | 61 | 66 | . | .  | .  | .  | .  | .  | .  |\n",
       "| 309 | 2 | 61 | 42 | 55 | 56 | 54 | 1 | 42 | 44 | 50 | 40 | 45 | 1 | 1  | 1  | 3  | 40 | 41 | 39 |\n",
       "| 310 | 2 | 62 | 42 | 55 | 53 | 55 | . | .  | .  | .  | .  | .  | . | .  | .  | .  | .  | .  | .  |\n",
       "| 311 | 2 | 68 | 63 | 64 | 56 | 63 | . | .  | .  | .  | .  | .  | 2 | 15 | 6  | 26 | 60 | 50 | 59 |\n",
       "| 312 | 2 | 78 | 73 | 75 | 74 | 80 | . | .  | .  | .  | .  | .  | 2 | 42 | 40 | 83 | 77 | 74 | 77 |\n",
       "| 315 | 2 | 64 | 54 | 55 | 56 | 57 | 1 | 42 | 44 | 41 | 40 | 45 | 2 | 0  | 0  | 0  | 37 | 38 | 30 |\n",
       "| 316 | 2 | 65 | 50 | 55 | 53 | 60 | . | .  | .  | .  | .  | .  | . | .  | .  | .  | .  | .  | .  |\n",
       "| 317 | 2 | .  | .  | .  | .  | .  | 2 | 41 | 50 | 55 | 39 | 45 | . | .  | .  | .  | .  | .  | .  |\n",
       "| 318 | 2 | 57 | 42 | 38 | 53 | 43 | 1 | 78 | 65 | 78 | 58 | 72 | 2 | 3  | 10 | 16 | 45 | 52 | 49 |\n",
       "| 319 | 2 | 57 | 61 | 55 | 53 | 55 | . | .  | .  | .  | .  | .  | 2 | 13 | 19 | 33 | 58 | 61 | 62 |\n",
       "| 320 | 1 | .  | .  | .  | .  | .  | 2 | .  | .  | .  | .  | .  | . | .  | .  | .  | .  | .  | .  |\n",
       "| 321 | 2 | 51 | 61 | 59 | 63 | 61 | 2 | 53 | 57 | 63 | 53 | 58 | 1 | 13 | 11 | 27 | 61 | 57 | 59 |\n",
       "| 322 | 2 | 41 | 54 | 59 | 53 | 57 | . | .  | .  | .  | .  | .  | . | .  | .  | .  | .  | .  | .  |\n",
       "| 323 | 2 | 66 | 67 | 52 | 53 | 62 | . | .  | .  | .  | .  | .  | . | .  | .  | .  | .  | .  | .  |\n",
       "| 324 | 2 | 61 | 57 | 68 | 53 | 57 | . | .  | .  | .  | .  | .  | 1 | 0  | 2  | 3  | 36 | 45 | 39 |\n",
       "| 325 | 2 | 67 | 63 | 61 | 53 | 66 | 1 | 54 | 71 | 74 | 61 | 72 | 1 | 15 | 42 | 59 | 62 | 75 | 68 |\n",
       "| 326 | 2 | 61 | 63 | 59 | 53 | 61 | . | .  | .  | .  | .  | .  | . | .  | .  | .  | .  | .  | .  |\n",
       "| 327 | 2 | .  | .  | .  | .  | .  | . | .  | .  | .  | .  | .  | . | .  | .  | .  | .  | .  | .  |\n",
       "| 329 | 2 | 53 | 42 | 38 | 56 | 45 | 1 | 42 | 60 | 67 | 58 | 57 | . | .  | .  | .  | .  | .  | .  |\n",
       "| 332 | 2 | 51 | 50 | 52 | 39 | 48 | . | .  | .  | .  | .  | .  | . | .  | .  | .  | .  | .  | .  |\n",
       "| 401 | . | .  | .  | .  | .  | .  | 1 | 56 | 44 | 55 | 40 | 45 | . | .  | .  | .  | .  | .  | .  |\n",
       "| 404 | 1 | 68 | 73 | 74 | 63 | 72 | 2 | 51 | 50 | 46 | 66 | 55 | . | .  | .  | .  | .  | .  | .  |\n",
       "\n"
      ],
      "text/plain": [
       "    FamNum SexP SomTP DepTP AnxTP HosTP GSITP SexS SomTS DepTS AnxTS HosTS\n",
       "1   101    2    62    50    52    39    52    1    42    44    41    40   \n",
       "2   104    1    56    65    55    40    57    2    53    73    68    67   \n",
       "3   105    1    56    57    67    65    61    2    41    67    63    66   \n",
       "4   106    2    41    61    64    53    57    1    60    60    59    67   \n",
       "5   107    2    61    61    52    56    57    1    42    44    50    61   \n",
       "6   108    1    56    53    55    53    53    2    65    70    70    53   \n",
       "7   109    2    57    64    59    53    60    .    .     .     .     .    \n",
       "8   110    1    42    53    50    53    50    2    41    42    38    39   \n",
       "9   111    2    51    42    38    39    39    1    60    44    41    40   \n",
       "10  112    2    53    61    61    56    55    1    42    44    50    40   \n",
       "11  113    1    42    44    50    40    42    2    41    42    38    39   \n",
       "12  114    2    53    57    55    56    51    1    54    44    41    40   \n",
       "13  115    .    .     .     .     .     .     2    58    57    52    53   \n",
       "14  116    2    57    70    59    66    66    .    .     .     .     .    \n",
       "15  117    2    53    57    61    53    52    1    42    53    59    53   \n",
       "16  118    1    68    53    55    53    59    .    .     .     .     .    \n",
       "17  119    2    41    61    46    53    56    .    .     .     .     .    \n",
       "18  120    2    57    61    55    56    58    .    .     .     .     .    \n",
       "19  121    2    61    63    63    72    63    .    .     .     .     .    \n",
       "20  122    2    53    42    38    39    39    1    65    71    69    78   \n",
       "21  123    2    41    57    61    67    57    1    60    78    55    61   \n",
       "22  125    2    41    42    52    39    48    1    42    44    41    40   \n",
       "23  126    2    58    42    55    60    54    .    .     .     .     .    \n",
       "24  127    2    65    42    38    39    49    1    54    44    41    40   \n",
       "25  129    2    51    42    55    53    54    1    54    44    55    53   \n",
       "26  130    1    65    44    55    40    53    2    41    61    52    53   \n",
       "27  131    2    58    50    52    39    48    .    .     .     .     .    \n",
       "28  132    .    .     .     .     .     .     2    41    61    68    63   \n",
       "29  135    2    53    50    38    39    45    1    42    44    50    53   \n",
       "30  138    2    41    42    38    39    43    .    .     .     .     .    \n",
       "... ...    ...  ...   ...   ...   ...   ...   ...  ...   ...   ...   ...  \n",
       "60  238    2    51    50    55    56    54    1    42    57    50    40   \n",
       "61  239    2    66    54    55    53    63    .    .     .     .     .    \n",
       "62  240    .    .     .     .     .     .     1    42    65    64    71   \n",
       "63  243    .    .     .     .     .     .     2    51    57    55    53   \n",
       "64  304    2    61    50    61    39    55    1    76    53    64    67   \n",
       "65  305    2    64    57    70    72    71    1    54    60    67    58   \n",
       "66  306    2    69    64    68    63    66    1    54    44    64    53   \n",
       "67  307    2    74    78    75    74    80    1    56    71    64    61   \n",
       "68  308    2    51    62    55    53    54    1    75    67    64    61   \n",
       "69  309    2    61    42    55    56    54    1    42    44    50    40   \n",
       "70  310    2    62    42    55    53    55    .    .     .     .     .    \n",
       "71  311    2    68    63    64    56    63    .    .     .     .     .    \n",
       "72  312    2    78    73    75    74    80    .    .     .     .     .    \n",
       "73  315    2    64    54    55    56    57    1    42    44    41    40   \n",
       "74  316    2    65    50    55    53    60    .    .     .     .     .    \n",
       "75  317    2    .     .     .     .     .     2    41    50    55    39   \n",
       "76  318    2    57    42    38    53    43    1    78    65    78    58   \n",
       "77  319    2    57    61    55    53    55    .    .     .     .     .    \n",
       "78  320    1    .     .     .     .     .     2    .     .     .     .    \n",
       "79  321    2    51    61    59    63    61    2    53    57    63    53   \n",
       "80  322    2    41    54    59    53    57    .    .     .     .     .    \n",
       "81  323    2    66    67    52    53    62    .    .     .     .     .    \n",
       "82  324    2    61    57    68    53    57    .    .     .     .     .    \n",
       "83  325    2    67    63    61    53    66    1    54    71    74    61   \n",
       "84  326    2    61    63    59    53    61    .    .     .     .     .    \n",
       "85  327    2    .     .     .     .     .     .    .     .     .     .    \n",
       "86  329    2    53    42    38    56    45    1    42    60    67    58   \n",
       "87  332    2    51    50    52    39    48    .    .     .     .     .    \n",
       "88  401    .    .     .     .     .     .     1    56    44    55    40   \n",
       "89  404    1    68    73    74    63    72    2    51    50    46    66   \n",
       "    GSITS SexChild Intern Extern TotBP InternT ExternT TotBPT\n",
       "1   42    .        .      .      .     .       .       .     \n",
       "2   71    1        11     12     28    58      57      60    \n",
       "3   65    2        7      7      15    47      48      45    \n",
       "4   62    1        6      10     15    49      52      48    \n",
       "5   50    1        10     11     25    58      57      58    \n",
       "6   69    .        .      .      .     .       .       .     \n",
       "7   .     .        .      .      .     .       .       .     \n",
       "8   33    2        5      5      15    49      49      52    \n",
       "9   45    .        .      .      .     .       .       .     \n",
       "10  42    1        4      9      14    48      55      51    \n",
       "11  43    .        .      .      .     .       .       .     \n",
       "12  35    .        .      .      .     .       .       .     \n",
       "13  57    2        9      29     41    55      65      65    \n",
       "14  .     1        18     11     32    64      57      61    \n",
       "15  53    2        6      9      21    46      51      49    \n",
       "16  .     .        .      .      .     .       .       .     \n",
       "17  .     2        1      0      1     40      38      33    \n",
       "18  .     .        .      .      .     .       .       .     \n",
       "19  .     1        24     16     44    67      61      64    \n",
       "20  67    .        .      .      .     .       .       .     \n",
       "21  64    1        4      9      13    46      51      46    \n",
       "22  42    .        .      .      .     .       .       .     \n",
       "23  .     .        .      .      .     .       .       .     \n",
       "24  42    .        .      .      .     .       .       .     \n",
       "25  50    .        .      .      .     .       .       .     \n",
       "26  52    .        .      .      .     .       .       .     \n",
       "27  .     .        .      .      .     .       .       .     \n",
       "28  61    .        .      .      .     .       .       .     \n",
       "29  50    2        1      4      7     40      44      43    \n",
       "30  .     1        2      1      3     38      34      33    \n",
       "... ...   ...      ...    ...    ...   ...     ...     ...   \n",
       "60  53    .        .      .      .     .       .       .     \n",
       "61  .     1        24     15     45    69      57      65    \n",
       "62  60    1        15     14     38    61      56      61    \n",
       "63  54    .        .      .      .     .       .       .     \n",
       "64  65    2        13     8      22    58      52      57    \n",
       "65  58    1        14     16     38    60      58      61    \n",
       "66  48    2        20     25     45    67      65      67    \n",
       "67  65    .        .      .      .     .       .       .     \n",
       "68  66    .        .      .      .     .       .       .     \n",
       "69  45    1        1      1      3     40      41      39    \n",
       "70  .     .        .      .      .     .       .       .     \n",
       "71  .     2        15     6      26    60      50      59    \n",
       "72  .     2        42     40     83    77      74      77    \n",
       "73  45    2        0      0      0     37      38      30    \n",
       "74  .     .        .      .      .     .       .       .     \n",
       "75  45    .        .      .      .     .       .       .     \n",
       "76  72    2        3      10     16    45      52      49    \n",
       "77  .     2        13     19     33    58      61      62    \n",
       "78  .     .        .      .      .     .       .       .     \n",
       "79  58    1        13     11     27    61      57      59    \n",
       "80  .     .        .      .      .     .       .       .     \n",
       "81  .     .        .      .      .     .       .       .     \n",
       "82  .     1        0      2      3     36      45      39    \n",
       "83  72    1        15     42     59    62      75      68    \n",
       "84  .     .        .      .      .     .       .       .     \n",
       "85  .     .        .      .      .     .       .       .     \n",
       "86  57    .        .      .      .     .       .       .     \n",
       "87  .     .        .      .      .     .       .       .     \n",
       "88  45    .        .      .      .     .       .       .     \n",
       "89  55    .        .      .      .     .       .       .     "
      ]
     },
     "metadata": {},
     "output_type": "display_data"
    }
   ],
   "source": [
    "df"
   ]
  }
 ],
 "metadata": {
  "kernelspec": {
   "display_name": "R",
   "language": "R",
   "name": "ir"
  },
  "language_info": {
   "codemirror_mode": "r",
   "file_extension": ".r",
   "mimetype": "text/x-r-source",
   "name": "R",
   "pygments_lexer": "r",
   "version": "4.1.3"
  }
 },
 "nbformat": 4,
 "nbformat_minor": 2
}
