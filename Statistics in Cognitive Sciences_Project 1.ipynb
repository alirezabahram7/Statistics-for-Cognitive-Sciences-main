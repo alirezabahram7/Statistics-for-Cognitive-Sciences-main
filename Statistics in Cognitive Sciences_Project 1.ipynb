{
 "cells": [
  {
   "cell_type": "markdown",
   "metadata": {},
   "source": [
    "# Data from the Mental Rotation Experiment\n"
   ]
  },
  {
   "cell_type": "markdown",
   "metadata": {},
   "source": [
    "Psychologists interested in sensory perception have long wondered how people compare two things mentally. For example, suppose that I presented you with two visual images in different orientations. Either they are identical images that have been rotated with respect to each other (e.g., a normal capital R and a capital R lying on its back) or they are mirror images of each other (e.g., R and R). Your task is to tell me as quickly as possible whether they are the same image or mirror images.This may sound easy, but it is not. I can measure both the accuracy of your response and its speed. I can also ask if the time it takes you to respond depends on how far the images have been rotated from one another. Below is an example of two stimuli presented on a computer screen.The cross in the center is the fixation point on which you should focus between trials.\n",
    "\n",
    "<img src=\"files/p1.png\" width=\"600\"/>\n",
    "\n",
    "\n",
    " \n",
    "The observer’s task is to press the letter S or the letter M as quickly as possi- ble, depending on whether you think these are the Same stimulus or Mirror images of each other.Then another pair of figures appears with the same instructions. I collected my own data from 600 trials that allowed for 10 different degrees of rotation in 20° steps. Having collected the data I now need to make sense of what I have.There are a number of interesting questions that I could ask of the data. \n",
    "\n",
    "I measured the time, in hundredths of a second, that the subject took to respond. This process was repeated over many randomly organized trials. \n",
    "\n",
    "An example of the data file is shown below, and you can download the full set of data in Project1.dat here (https://github.com/amanirad/Statistics-in-Cognitive-Sciences).\n",
    "\n",
    "<img src=\"files/p12.png\" width=\"600\"/>\n",
    "\n",
    "1. Plot ungrouped as well as grouped frequency distribution for these data.\n",
    "2. Create the histogram for the data using a reasonable number of intervals. Fit the probability density of each condition on the data.\n",
    "3. Plot ungrouped as well as grouped boxplot for these data.\n",
    "4. Discuss the statistical summary of the data in each condition in the form of statistics of mean, standard deviation, median, quantiles, etc.\n",
    "5. Does this data include outliers? Should they be removed? How? Remove them if necessary.\n",
    "6. Check the normality of the data using: \n",
    " 1. Find and plot a sampling distribution using a selection of samples such as 50 with sample size equals to 5 from the data in the table above.  \n",
    "    1. Compare the means and the standard deviations for the distribution in main data and the sampling distribution of the mean.\n",
    "    2. What would the Central Limit Theorem lead you to expect in this situation?\n",
    "    3. Do the data correspond to what you would predict?\n",
    "    4. In what way would the result differ if you had drawn more samples of size 5?\n",
    "    5. In what way would the result differ if you had drawn 50 samples of size 15?\n",
    " 2. Check out the QQ plot. \n",
    " 3. Use the appropriate statistical test and check its p-value and discuss it. What is the null hypothesis? Outline the hypothesis-testing procedure that you have just applied. Compute 95% confidence llimit on mean (or median).\n",
    "7. Is the data distribution symmetrical? Examine and discuss it using an appropriate statistical test.\n",
    "8. We are interested in seeing whether the required degree of mental rotation influenced reaction time. What is the best research hypothesis here? What is the null hypothesis? Choose the appropriate statistical tests to examine the hypothesis in details (post hoc tests, effect size measures and etc.) and report (interpret) on the results. \n",
    "9. In this experiment, is there a linear or non-linear relationship between the response times of the conditions? Based on which one can make a significant prediction of another response time? (Use appropriate regression, statistical tests, R^2, etc.) Was performance improving significantly over trials? Can we assume that there is no systematic linear trend over time?"
   ]
  },
  {
   "cell_type": "code",
   "execution_count": 811,
   "metadata": {},
   "outputs": [],
   "source": [
    "#load data\n",
    "data = read.table('Project1.dat', header = TRUE)"
   ]
  },
  {
   "cell_type": "code",
   "execution_count": 812,
   "metadata": {
    "scrolled": true
   },
   "outputs": [
    {
     "data": {
      "text/html": [
       "<table class=\"dataframe\">\n",
       "<caption>A data.frame: 600 × 7</caption>\n",
       "<thead>\n",
       "\t<tr><th scope=col>Trial</th><th scope=col>Angle</th><th scope=col>Stimulus</th><th scope=col>Response</th><th scope=col>RTmsec</th><th scope=col>Accuracy</th><th scope=col>RTsec</th></tr>\n",
       "\t<tr><th scope=col>&lt;int&gt;</th><th scope=col>&lt;int&gt;</th><th scope=col>&lt;chr&gt;</th><th scope=col>&lt;chr&gt;</th><th scope=col>&lt;int&gt;</th><th scope=col>&lt;int&gt;</th><th scope=col>&lt;dbl&gt;</th></tr>\n",
       "</thead>\n",
       "<tbody>\n",
       "\t<tr><td> 1</td><td>140</td><td>Same--</td><td>Same--</td><td>4422</td><td>1</td><td>4.42</td></tr>\n",
       "\t<tr><td> 2</td><td> 60</td><td>Same--</td><td>Same--</td><td>1750</td><td>1</td><td>1.75</td></tr>\n",
       "\t<tr><td> 3</td><td>180</td><td>Mirror</td><td>Mirror</td><td>1437</td><td>1</td><td>1.44</td></tr>\n",
       "\t<tr><td> 4</td><td>100</td><td>Mirror</td><td>Same--</td><td>1735</td><td>0</td><td>1.74</td></tr>\n",
       "\t<tr><td> 5</td><td>160</td><td>Mirror</td><td>Mirror</td><td>1937</td><td>1</td><td>1.94</td></tr>\n",
       "\t<tr><td> 6</td><td>180</td><td>Mirror</td><td>Mirror</td><td>1422</td><td>1</td><td>1.42</td></tr>\n",
       "\t<tr><td> 7</td><td>180</td><td>Mirror</td><td>Mirror</td><td>1937</td><td>1</td><td>1.94</td></tr>\n",
       "\t<tr><td> 8</td><td>  0</td><td>Same--</td><td>Same--</td><td>1235</td><td>1</td><td>1.24</td></tr>\n",
       "\t<tr><td> 9</td><td> 40</td><td>Mirror</td><td>Mirror</td><td>3297</td><td>1</td><td>3.30</td></tr>\n",
       "\t<tr><td>10</td><td>140</td><td>Same--</td><td>Same--</td><td>1984</td><td>1</td><td>1.98</td></tr>\n",
       "\t<tr><td>11</td><td> 60</td><td>Mirror</td><td>Mirror</td><td>1844</td><td>1</td><td>1.84</td></tr>\n",
       "\t<tr><td>12</td><td>160</td><td>Same--</td><td>Same--</td><td>3453</td><td>1</td><td>3.45</td></tr>\n",
       "\t<tr><td>13</td><td> 40</td><td>Mirror</td><td>Mirror</td><td>3000</td><td>1</td><td>3.00</td></tr>\n",
       "\t<tr><td>14</td><td>180</td><td>Mirror</td><td>Mirror</td><td>4437</td><td>1</td><td>4.44</td></tr>\n",
       "\t<tr><td>15</td><td>140</td><td>Mirror</td><td>Mirror</td><td>2922</td><td>1</td><td>2.92</td></tr>\n",
       "\t<tr><td>16</td><td>120</td><td>Mirror</td><td>Mirror</td><td>2641</td><td>1</td><td>2.64</td></tr>\n",
       "\t<tr><td>17</td><td>180</td><td>Same--</td><td>Mirror</td><td>1937</td><td>0</td><td>1.94</td></tr>\n",
       "\t<tr><td>18</td><td>100</td><td>Mirror</td><td>Mirror</td><td>4204</td><td>1</td><td>4.20</td></tr>\n",
       "\t<tr><td>19</td><td> 60</td><td>Mirror</td><td>Mirror</td><td>3828</td><td>1</td><td>3.83</td></tr>\n",
       "\t<tr><td>20</td><td> 40</td><td>Mirror</td><td>Mirror</td><td>2140</td><td>1</td><td>2.14</td></tr>\n",
       "\t<tr><td>21</td><td> 60</td><td>Mirror</td><td>Mirror</td><td>3469</td><td>1</td><td>3.47</td></tr>\n",
       "\t<tr><td>22</td><td> 60</td><td>Mirror</td><td>Mirror</td><td>2422</td><td>1</td><td>2.42</td></tr>\n",
       "\t<tr><td>23</td><td>  0</td><td>Same--</td><td>Same--</td><td>2047</td><td>1</td><td>2.05</td></tr>\n",
       "\t<tr><td>24</td><td>120</td><td>Same--</td><td>Same--</td><td>1422</td><td>1</td><td>1.42</td></tr>\n",
       "\t<tr><td>25</td><td> 40</td><td>Same--</td><td>Same--</td><td>1937</td><td>1</td><td>1.94</td></tr>\n",
       "\t<tr><td>26</td><td> 60</td><td>Mirror</td><td>Mirror</td><td>2235</td><td>1</td><td>2.23</td></tr>\n",
       "\t<tr><td>27</td><td>  0</td><td>Mirror</td><td>Mirror</td><td>2140</td><td>1</td><td>2.14</td></tr>\n",
       "\t<tr><td>28</td><td>160</td><td>Mirror</td><td>Mirror</td><td>1328</td><td>1</td><td>1.33</td></tr>\n",
       "\t<tr><td>29</td><td>180</td><td>Mirror</td><td>Mirror</td><td>2453</td><td>1</td><td>2.45</td></tr>\n",
       "\t<tr><td>30</td><td>160</td><td>Mirror</td><td>Mirror</td><td>1422</td><td>1</td><td>1.42</td></tr>\n",
       "\t<tr><td>...</td><td>...</td><td>...</td><td>...</td><td>...</td><td>...</td><td>...</td></tr>\n",
       "\t<tr><td>571</td><td>  0</td><td>Mirror</td><td>Mirror</td><td>1531</td><td>1</td><td>1.53</td></tr>\n",
       "\t<tr><td>572</td><td>100</td><td>Same--</td><td>Same--</td><td>1625</td><td>1</td><td>1.62</td></tr>\n",
       "\t<tr><td>573</td><td>120</td><td>Mirror</td><td>Mirror</td><td>1032</td><td>1</td><td>1.03</td></tr>\n",
       "\t<tr><td>574</td><td>100</td><td>Mirror</td><td>Mirror</td><td>1422</td><td>1</td><td>1.42</td></tr>\n",
       "\t<tr><td>575</td><td>120</td><td>Mirror</td><td>Mirror</td><td>1031</td><td>1</td><td>1.03</td></tr>\n",
       "\t<tr><td>576</td><td>140</td><td>Same--</td><td>Mirror</td><td>1422</td><td>0</td><td>1.42</td></tr>\n",
       "\t<tr><td>577</td><td>180</td><td>Mirror</td><td>Mirror</td><td>1125</td><td>1</td><td>1.12</td></tr>\n",
       "\t<tr><td>578</td><td>  0</td><td>Same--</td><td>Same--</td><td> 828</td><td>1</td><td>0.83</td></tr>\n",
       "\t<tr><td>579</td><td>120</td><td>Mirror</td><td>Mirror</td><td>2140</td><td>1</td><td>2.14</td></tr>\n",
       "\t<tr><td>580</td><td>140</td><td>Same--</td><td>Same--</td><td>1219</td><td>1</td><td>1.22</td></tr>\n",
       "\t<tr><td>581</td><td>140</td><td>Same--</td><td>Same--</td><td>1922</td><td>1</td><td>1.92</td></tr>\n",
       "\t<tr><td>582</td><td> 40</td><td>Same--</td><td>Same--</td><td>1031</td><td>1</td><td>1.03</td></tr>\n",
       "\t<tr><td>583</td><td> 20</td><td>Same--</td><td>Same--</td><td> 719</td><td>1</td><td>0.72</td></tr>\n",
       "\t<tr><td>584</td><td>100</td><td>Same--</td><td>Same--</td><td>1125</td><td>1</td><td>1.12</td></tr>\n",
       "\t<tr><td>585</td><td> 20</td><td>Same--</td><td>Same--</td><td> 922</td><td>1</td><td>0.92</td></tr>\n",
       "\t<tr><td>586</td><td> 40</td><td>Same--</td><td>Same--</td><td> 718</td><td>1</td><td>0.72</td></tr>\n",
       "\t<tr><td>587</td><td>140</td><td>Same--</td><td>Mirror</td><td>1016</td><td>0</td><td>1.02</td></tr>\n",
       "\t<tr><td>588</td><td> 20</td><td>Same--</td><td>Mirror</td><td>1031</td><td>0</td><td>1.03</td></tr>\n",
       "\t<tr><td>589</td><td>  0</td><td>Same--</td><td>Same--</td><td> 922</td><td>1</td><td>0.92</td></tr>\n",
       "\t<tr><td>590</td><td>100</td><td>Same--</td><td>Same--</td><td> 922</td><td>1</td><td>0.92</td></tr>\n",
       "\t<tr><td>591</td><td>100</td><td>Same--</td><td>Same--</td><td>1015</td><td>1</td><td>1.01</td></tr>\n",
       "\t<tr><td>592</td><td> 20</td><td>Mirror</td><td>Same--</td><td>1328</td><td>0</td><td>1.33</td></tr>\n",
       "\t<tr><td>593</td><td> 40</td><td>Mirror</td><td>Mirror</td><td>1531</td><td>1</td><td>1.53</td></tr>\n",
       "\t<tr><td>594</td><td> 40</td><td>Mirror</td><td>Mirror</td><td>1328</td><td>1</td><td>1.33</td></tr>\n",
       "\t<tr><td>595</td><td> 20</td><td>Mirror</td><td>Mirror</td><td>1422</td><td>1</td><td>1.42</td></tr>\n",
       "\t<tr><td>596</td><td>  0</td><td>Mirror</td><td>Mirror</td><td>1031</td><td>1</td><td>1.03</td></tr>\n",
       "\t<tr><td>597</td><td> 40</td><td>Mirror</td><td>Mirror</td><td>1219</td><td>1</td><td>1.22</td></tr>\n",
       "\t<tr><td>598</td><td>  0</td><td>Mirror</td><td>Mirror</td><td>1125</td><td>1</td><td>1.12</td></tr>\n",
       "\t<tr><td>599</td><td> 20</td><td>Mirror</td><td>Mirror</td><td> 828</td><td>1</td><td>0.83</td></tr>\n",
       "\t<tr><td>600</td><td> 40</td><td>Mirror</td><td>Mirror</td><td>1125</td><td>1</td><td>1.12</td></tr>\n",
       "</tbody>\n",
       "</table>\n"
      ],
      "text/latex": [
       "A data.frame: 600 × 7\n",
       "\\begin{tabular}{lllllll}\n",
       " Trial & Angle & Stimulus & Response & RTmsec & Accuracy & RTsec\\\\\n",
       " <int> & <int> & <chr> & <chr> & <int> & <int> & <dbl>\\\\\n",
       "\\hline\n",
       "\t  1 & 140 & Same-- & Same-- & 4422 & 1 & 4.42\\\\\n",
       "\t  2 &  60 & Same-- & Same-- & 1750 & 1 & 1.75\\\\\n",
       "\t  3 & 180 & Mirror & Mirror & 1437 & 1 & 1.44\\\\\n",
       "\t  4 & 100 & Mirror & Same-- & 1735 & 0 & 1.74\\\\\n",
       "\t  5 & 160 & Mirror & Mirror & 1937 & 1 & 1.94\\\\\n",
       "\t  6 & 180 & Mirror & Mirror & 1422 & 1 & 1.42\\\\\n",
       "\t  7 & 180 & Mirror & Mirror & 1937 & 1 & 1.94\\\\\n",
       "\t  8 &   0 & Same-- & Same-- & 1235 & 1 & 1.24\\\\\n",
       "\t  9 &  40 & Mirror & Mirror & 3297 & 1 & 3.30\\\\\n",
       "\t 10 & 140 & Same-- & Same-- & 1984 & 1 & 1.98\\\\\n",
       "\t 11 &  60 & Mirror & Mirror & 1844 & 1 & 1.84\\\\\n",
       "\t 12 & 160 & Same-- & Same-- & 3453 & 1 & 3.45\\\\\n",
       "\t 13 &  40 & Mirror & Mirror & 3000 & 1 & 3.00\\\\\n",
       "\t 14 & 180 & Mirror & Mirror & 4437 & 1 & 4.44\\\\\n",
       "\t 15 & 140 & Mirror & Mirror & 2922 & 1 & 2.92\\\\\n",
       "\t 16 & 120 & Mirror & Mirror & 2641 & 1 & 2.64\\\\\n",
       "\t 17 & 180 & Same-- & Mirror & 1937 & 0 & 1.94\\\\\n",
       "\t 18 & 100 & Mirror & Mirror & 4204 & 1 & 4.20\\\\\n",
       "\t 19 &  60 & Mirror & Mirror & 3828 & 1 & 3.83\\\\\n",
       "\t 20 &  40 & Mirror & Mirror & 2140 & 1 & 2.14\\\\\n",
       "\t 21 &  60 & Mirror & Mirror & 3469 & 1 & 3.47\\\\\n",
       "\t 22 &  60 & Mirror & Mirror & 2422 & 1 & 2.42\\\\\n",
       "\t 23 &   0 & Same-- & Same-- & 2047 & 1 & 2.05\\\\\n",
       "\t 24 & 120 & Same-- & Same-- & 1422 & 1 & 1.42\\\\\n",
       "\t 25 &  40 & Same-- & Same-- & 1937 & 1 & 1.94\\\\\n",
       "\t 26 &  60 & Mirror & Mirror & 2235 & 1 & 2.23\\\\\n",
       "\t 27 &   0 & Mirror & Mirror & 2140 & 1 & 2.14\\\\\n",
       "\t 28 & 160 & Mirror & Mirror & 1328 & 1 & 1.33\\\\\n",
       "\t 29 & 180 & Mirror & Mirror & 2453 & 1 & 2.45\\\\\n",
       "\t 30 & 160 & Mirror & Mirror & 1422 & 1 & 1.42\\\\\n",
       "\t ... & ... & ... & ... & ... & ... & ...\\\\\n",
       "\t 571 &   0 & Mirror & Mirror & 1531 & 1 & 1.53\\\\\n",
       "\t 572 & 100 & Same-- & Same-- & 1625 & 1 & 1.62\\\\\n",
       "\t 573 & 120 & Mirror & Mirror & 1032 & 1 & 1.03\\\\\n",
       "\t 574 & 100 & Mirror & Mirror & 1422 & 1 & 1.42\\\\\n",
       "\t 575 & 120 & Mirror & Mirror & 1031 & 1 & 1.03\\\\\n",
       "\t 576 & 140 & Same-- & Mirror & 1422 & 0 & 1.42\\\\\n",
       "\t 577 & 180 & Mirror & Mirror & 1125 & 1 & 1.12\\\\\n",
       "\t 578 &   0 & Same-- & Same-- &  828 & 1 & 0.83\\\\\n",
       "\t 579 & 120 & Mirror & Mirror & 2140 & 1 & 2.14\\\\\n",
       "\t 580 & 140 & Same-- & Same-- & 1219 & 1 & 1.22\\\\\n",
       "\t 581 & 140 & Same-- & Same-- & 1922 & 1 & 1.92\\\\\n",
       "\t 582 &  40 & Same-- & Same-- & 1031 & 1 & 1.03\\\\\n",
       "\t 583 &  20 & Same-- & Same-- &  719 & 1 & 0.72\\\\\n",
       "\t 584 & 100 & Same-- & Same-- & 1125 & 1 & 1.12\\\\\n",
       "\t 585 &  20 & Same-- & Same-- &  922 & 1 & 0.92\\\\\n",
       "\t 586 &  40 & Same-- & Same-- &  718 & 1 & 0.72\\\\\n",
       "\t 587 & 140 & Same-- & Mirror & 1016 & 0 & 1.02\\\\\n",
       "\t 588 &  20 & Same-- & Mirror & 1031 & 0 & 1.03\\\\\n",
       "\t 589 &   0 & Same-- & Same-- &  922 & 1 & 0.92\\\\\n",
       "\t 590 & 100 & Same-- & Same-- &  922 & 1 & 0.92\\\\\n",
       "\t 591 & 100 & Same-- & Same-- & 1015 & 1 & 1.01\\\\\n",
       "\t 592 &  20 & Mirror & Same-- & 1328 & 0 & 1.33\\\\\n",
       "\t 593 &  40 & Mirror & Mirror & 1531 & 1 & 1.53\\\\\n",
       "\t 594 &  40 & Mirror & Mirror & 1328 & 1 & 1.33\\\\\n",
       "\t 595 &  20 & Mirror & Mirror & 1422 & 1 & 1.42\\\\\n",
       "\t 596 &   0 & Mirror & Mirror & 1031 & 1 & 1.03\\\\\n",
       "\t 597 &  40 & Mirror & Mirror & 1219 & 1 & 1.22\\\\\n",
       "\t 598 &   0 & Mirror & Mirror & 1125 & 1 & 1.12\\\\\n",
       "\t 599 &  20 & Mirror & Mirror &  828 & 1 & 0.83\\\\\n",
       "\t 600 &  40 & Mirror & Mirror & 1125 & 1 & 1.12\\\\\n",
       "\\end{tabular}\n"
      ],
      "text/markdown": [
       "\n",
       "A data.frame: 600 × 7\n",
       "\n",
       "| Trial &lt;int&gt; | Angle &lt;int&gt; | Stimulus &lt;chr&gt; | Response &lt;chr&gt; | RTmsec &lt;int&gt; | Accuracy &lt;int&gt; | RTsec &lt;dbl&gt; |\n",
       "|---|---|---|---|---|---|---|\n",
       "|  1 | 140 | Same-- | Same-- | 4422 | 1 | 4.42 |\n",
       "|  2 |  60 | Same-- | Same-- | 1750 | 1 | 1.75 |\n",
       "|  3 | 180 | Mirror | Mirror | 1437 | 1 | 1.44 |\n",
       "|  4 | 100 | Mirror | Same-- | 1735 | 0 | 1.74 |\n",
       "|  5 | 160 | Mirror | Mirror | 1937 | 1 | 1.94 |\n",
       "|  6 | 180 | Mirror | Mirror | 1422 | 1 | 1.42 |\n",
       "|  7 | 180 | Mirror | Mirror | 1937 | 1 | 1.94 |\n",
       "|  8 |   0 | Same-- | Same-- | 1235 | 1 | 1.24 |\n",
       "|  9 |  40 | Mirror | Mirror | 3297 | 1 | 3.30 |\n",
       "| 10 | 140 | Same-- | Same-- | 1984 | 1 | 1.98 |\n",
       "| 11 |  60 | Mirror | Mirror | 1844 | 1 | 1.84 |\n",
       "| 12 | 160 | Same-- | Same-- | 3453 | 1 | 3.45 |\n",
       "| 13 |  40 | Mirror | Mirror | 3000 | 1 | 3.00 |\n",
       "| 14 | 180 | Mirror | Mirror | 4437 | 1 | 4.44 |\n",
       "| 15 | 140 | Mirror | Mirror | 2922 | 1 | 2.92 |\n",
       "| 16 | 120 | Mirror | Mirror | 2641 | 1 | 2.64 |\n",
       "| 17 | 180 | Same-- | Mirror | 1937 | 0 | 1.94 |\n",
       "| 18 | 100 | Mirror | Mirror | 4204 | 1 | 4.20 |\n",
       "| 19 |  60 | Mirror | Mirror | 3828 | 1 | 3.83 |\n",
       "| 20 |  40 | Mirror | Mirror | 2140 | 1 | 2.14 |\n",
       "| 21 |  60 | Mirror | Mirror | 3469 | 1 | 3.47 |\n",
       "| 22 |  60 | Mirror | Mirror | 2422 | 1 | 2.42 |\n",
       "| 23 |   0 | Same-- | Same-- | 2047 | 1 | 2.05 |\n",
       "| 24 | 120 | Same-- | Same-- | 1422 | 1 | 1.42 |\n",
       "| 25 |  40 | Same-- | Same-- | 1937 | 1 | 1.94 |\n",
       "| 26 |  60 | Mirror | Mirror | 2235 | 1 | 2.23 |\n",
       "| 27 |   0 | Mirror | Mirror | 2140 | 1 | 2.14 |\n",
       "| 28 | 160 | Mirror | Mirror | 1328 | 1 | 1.33 |\n",
       "| 29 | 180 | Mirror | Mirror | 2453 | 1 | 2.45 |\n",
       "| 30 | 160 | Mirror | Mirror | 1422 | 1 | 1.42 |\n",
       "| ... | ... | ... | ... | ... | ... | ... |\n",
       "| 571 |   0 | Mirror | Mirror | 1531 | 1 | 1.53 |\n",
       "| 572 | 100 | Same-- | Same-- | 1625 | 1 | 1.62 |\n",
       "| 573 | 120 | Mirror | Mirror | 1032 | 1 | 1.03 |\n",
       "| 574 | 100 | Mirror | Mirror | 1422 | 1 | 1.42 |\n",
       "| 575 | 120 | Mirror | Mirror | 1031 | 1 | 1.03 |\n",
       "| 576 | 140 | Same-- | Mirror | 1422 | 0 | 1.42 |\n",
       "| 577 | 180 | Mirror | Mirror | 1125 | 1 | 1.12 |\n",
       "| 578 |   0 | Same-- | Same-- |  828 | 1 | 0.83 |\n",
       "| 579 | 120 | Mirror | Mirror | 2140 | 1 | 2.14 |\n",
       "| 580 | 140 | Same-- | Same-- | 1219 | 1 | 1.22 |\n",
       "| 581 | 140 | Same-- | Same-- | 1922 | 1 | 1.92 |\n",
       "| 582 |  40 | Same-- | Same-- | 1031 | 1 | 1.03 |\n",
       "| 583 |  20 | Same-- | Same-- |  719 | 1 | 0.72 |\n",
       "| 584 | 100 | Same-- | Same-- | 1125 | 1 | 1.12 |\n",
       "| 585 |  20 | Same-- | Same-- |  922 | 1 | 0.92 |\n",
       "| 586 |  40 | Same-- | Same-- |  718 | 1 | 0.72 |\n",
       "| 587 | 140 | Same-- | Mirror | 1016 | 0 | 1.02 |\n",
       "| 588 |  20 | Same-- | Mirror | 1031 | 0 | 1.03 |\n",
       "| 589 |   0 | Same-- | Same-- |  922 | 1 | 0.92 |\n",
       "| 590 | 100 | Same-- | Same-- |  922 | 1 | 0.92 |\n",
       "| 591 | 100 | Same-- | Same-- | 1015 | 1 | 1.01 |\n",
       "| 592 |  20 | Mirror | Same-- | 1328 | 0 | 1.33 |\n",
       "| 593 |  40 | Mirror | Mirror | 1531 | 1 | 1.53 |\n",
       "| 594 |  40 | Mirror | Mirror | 1328 | 1 | 1.33 |\n",
       "| 595 |  20 | Mirror | Mirror | 1422 | 1 | 1.42 |\n",
       "| 596 |   0 | Mirror | Mirror | 1031 | 1 | 1.03 |\n",
       "| 597 |  40 | Mirror | Mirror | 1219 | 1 | 1.22 |\n",
       "| 598 |   0 | Mirror | Mirror | 1125 | 1 | 1.12 |\n",
       "| 599 |  20 | Mirror | Mirror |  828 | 1 | 0.83 |\n",
       "| 600 |  40 | Mirror | Mirror | 1125 | 1 | 1.12 |\n",
       "\n"
      ],
      "text/plain": [
       "    Trial Angle Stimulus Response RTmsec Accuracy RTsec\n",
       "1    1    140   Same--   Same--   4422   1        4.42 \n",
       "2    2     60   Same--   Same--   1750   1        1.75 \n",
       "3    3    180   Mirror   Mirror   1437   1        1.44 \n",
       "4    4    100   Mirror   Same--   1735   0        1.74 \n",
       "5    5    160   Mirror   Mirror   1937   1        1.94 \n",
       "6    6    180   Mirror   Mirror   1422   1        1.42 \n",
       "7    7    180   Mirror   Mirror   1937   1        1.94 \n",
       "8    8      0   Same--   Same--   1235   1        1.24 \n",
       "9    9     40   Mirror   Mirror   3297   1        3.30 \n",
       "10  10    140   Same--   Same--   1984   1        1.98 \n",
       "11  11     60   Mirror   Mirror   1844   1        1.84 \n",
       "12  12    160   Same--   Same--   3453   1        3.45 \n",
       "13  13     40   Mirror   Mirror   3000   1        3.00 \n",
       "14  14    180   Mirror   Mirror   4437   1        4.44 \n",
       "15  15    140   Mirror   Mirror   2922   1        2.92 \n",
       "16  16    120   Mirror   Mirror   2641   1        2.64 \n",
       "17  17    180   Same--   Mirror   1937   0        1.94 \n",
       "18  18    100   Mirror   Mirror   4204   1        4.20 \n",
       "19  19     60   Mirror   Mirror   3828   1        3.83 \n",
       "20  20     40   Mirror   Mirror   2140   1        2.14 \n",
       "21  21     60   Mirror   Mirror   3469   1        3.47 \n",
       "22  22     60   Mirror   Mirror   2422   1        2.42 \n",
       "23  23      0   Same--   Same--   2047   1        2.05 \n",
       "24  24    120   Same--   Same--   1422   1        1.42 \n",
       "25  25     40   Same--   Same--   1937   1        1.94 \n",
       "26  26     60   Mirror   Mirror   2235   1        2.23 \n",
       "27  27      0   Mirror   Mirror   2140   1        2.14 \n",
       "28  28    160   Mirror   Mirror   1328   1        1.33 \n",
       "29  29    180   Mirror   Mirror   2453   1        2.45 \n",
       "30  30    160   Mirror   Mirror   1422   1        1.42 \n",
       "... ...   ...   ...      ...      ...    ...      ...  \n",
       "571 571     0   Mirror   Mirror   1531   1        1.53 \n",
       "572 572   100   Same--   Same--   1625   1        1.62 \n",
       "573 573   120   Mirror   Mirror   1032   1        1.03 \n",
       "574 574   100   Mirror   Mirror   1422   1        1.42 \n",
       "575 575   120   Mirror   Mirror   1031   1        1.03 \n",
       "576 576   140   Same--   Mirror   1422   0        1.42 \n",
       "577 577   180   Mirror   Mirror   1125   1        1.12 \n",
       "578 578     0   Same--   Same--    828   1        0.83 \n",
       "579 579   120   Mirror   Mirror   2140   1        2.14 \n",
       "580 580   140   Same--   Same--   1219   1        1.22 \n",
       "581 581   140   Same--   Same--   1922   1        1.92 \n",
       "582 582    40   Same--   Same--   1031   1        1.03 \n",
       "583 583    20   Same--   Same--    719   1        0.72 \n",
       "584 584   100   Same--   Same--   1125   1        1.12 \n",
       "585 585    20   Same--   Same--    922   1        0.92 \n",
       "586 586    40   Same--   Same--    718   1        0.72 \n",
       "587 587   140   Same--   Mirror   1016   0        1.02 \n",
       "588 588    20   Same--   Mirror   1031   0        1.03 \n",
       "589 589     0   Same--   Same--    922   1        0.92 \n",
       "590 590   100   Same--   Same--    922   1        0.92 \n",
       "591 591   100   Same--   Same--   1015   1        1.01 \n",
       "592 592    20   Mirror   Same--   1328   0        1.33 \n",
       "593 593    40   Mirror   Mirror   1531   1        1.53 \n",
       "594 594    40   Mirror   Mirror   1328   1        1.33 \n",
       "595 595    20   Mirror   Mirror   1422   1        1.42 \n",
       "596 596     0   Mirror   Mirror   1031   1        1.03 \n",
       "597 597    40   Mirror   Mirror   1219   1        1.22 \n",
       "598 598     0   Mirror   Mirror   1125   1        1.12 \n",
       "599 599    20   Mirror   Mirror    828   1        0.83 \n",
       "600 600    40   Mirror   Mirror   1125   1        1.12 "
      ]
     },
     "metadata": {},
     "output_type": "display_data"
    }
   ],
   "source": [
    "data"
   ]
  },
  {
   "cell_type": "code",
   "execution_count": 813,
   "metadata": {},
   "outputs": [
    {
     "data": {
      "image/png": "[encoded data removed]",
      "text/plain": [
       "plot without title"
      ]
     },
     "metadata": {
      "image/png": {
       "height": 420,
       "width": 420
      }
     },
     "output_type": "display_data"
    }
   ],
   "source": [
    "plot(data$RTsec)"
   ]
  },
  {
   "cell_type": "markdown",
   "metadata": {},
   "source": [
    "## 1. Plot ungrouped as well as grouped frequency distribution for these data.\n"
   ]
  },
  {
   "cell_type": "code",
   "execution_count": 543,
   "metadata": {
    "scrolled": false
   },
   "outputs": [],
   "source": [
    "library(magrittr)\n",
    "library(dplyr)\n",
    "library(rstatix)"
   ]
  },
  {
   "cell_type": "markdown",
   "metadata": {},
   "source": [
    "### Plot Ungrouped frequency distribution"
   ]
  },
  {
   "cell_type": "code",
   "execution_count": 544,
   "metadata": {},
   "outputs": [],
   "source": [
    "library(ggplot2)"
   ]
  },
  {
   "cell_type": "code",
   "execution_count": 545,
   "metadata": {
    "scrolled": true
   },
   "outputs": [
    {
     "data": {
      "image/png": "[encoded data removed]",
      "text/plain": [
       "plot without title"
      ]
     },
     "metadata": {
      "image/png": {
       "height": 420,
       "width": 420
      }
     },
     "output_type": "display_data"
    }
   ],
   "source": [
    "\n",
    "ggplot(data, aes(x = RTsec)) +\n",
    "  geom_density(alpha = 0.5) +\n",
    "  labs(title = \"Frequency Distribution\", x = \"Response Time (sec)\", y = \"Frequency\")"
   ]
  },
  {
   "cell_type": "markdown",
   "metadata": {},
   "source": [
    "### Plot Grouped frequency distribution (Grouped By Stimulus)"
   ]
  },
  {
   "cell_type": "code",
   "execution_count": 546,
   "metadata": {
    "scrolled": false
   },
   "outputs": [
    {
     "data": {
      "image/png": "[encoded data removed]",
      "text/plain": [
       "plot without title"
      ]
     },
     "metadata": {
      "image/png": {
       "height": 420,
       "width": 420
      }
     },
     "output_type": "display_data"
    }
   ],
   "source": [
    "ggplot(data, aes(x = RTsec, fill = Stimulus)) +\n",
    "  geom_density(alpha = 0.5) +\n",
    "  labs(title = \"Frequency Distribution\", x = \"Response Time (sec)\", y = \"Frequency\") +\n",
    "  scale_fill_manual(values = c(\"Same--\" = \"yellow\", \"Mirror\" = \"red\"))"
   ]
  },
  {
   "cell_type": "markdown",
   "metadata": {},
   "source": [
    "همانطور که از توزیع داده ها میتوان دید و طبق انتظاری که از توزیع مربوط به زمان واکنش داریم، دیتا چولگی به سمت چپ (چولگی مثبت) دارد. "
   ]
  },
  {
   "cell_type": "markdown",
   "metadata": {},
   "source": [
    "### Plot Grouped frequency distribution (Grouped By Angle)"
   ]
  },
  {
   "cell_type": "code",
   "execution_count": 547,
   "metadata": {},
   "outputs": [],
   "source": [
    "freq_table <- data %>%\n",
    "  group_by(Angle) %>%\n",
    "  summarise(n = n(), min = min(RTsec), max = max(RTsec), mean = mean(RTsec), sd = sd(RTsec))"
   ]
  },
  {
   "cell_type": "code",
   "execution_count": 548,
   "metadata": {},
   "outputs": [
    {
     "name": "stderr",
     "output_type": "stream",
     "text": [
      "Warning message:\n",
      "\"\u001b[1m\u001b[22mWidth not defined\n",
      "\u001b[36mi\u001b[39m Set with `position_dodge(width = ...)`\"\n"
     ]
    },
    {
     "data": {
      "image/png": "[encoded data removed]",
      "text/plain": [
       "plot without title"
      ]
     },
     "metadata": {
      "image/png": {
       "height": 420,
       "width": 420
      }
     },
     "output_type": "display_data"
    }
   ],
   "source": [
    "ggplot(data, aes(x = RTsec, fill = Angle)) +\n",
    "  geom_density(alpha = 0.5, position = \"dodge\") +\n",
    "  labs(title = \"Grouped Frequency Distribution\", x = \"Response Time (sec)\", y = \"Density\") +\n",
    "  facet_wrap(~ Angle, ncol = 1) +\n",
    "  geom_vline(data = freq_table, aes(xintercept = mean), linetype = \"dashed\") "
   ]
  },
  {
   "cell_type": "markdown",
   "metadata": {},
   "source": [
    "## 2. Create the histogram for the data using a reasonable number of intervals. Fit the probability density of each condition on the data.\n"
   ]
  },
  {
   "cell_type": "markdown",
   "metadata": {},
   "source": [
    "برای بردن هیستوگرام از فضای فرکانسی به فضای احتمالاتی این مقدار را ست می کنیم:\n",
    "probability = TRUE\n",
    "\n",
    "برای داشتن بازه های خواناتر میتوان مقدار braeks را تنظیم کرد\n"
   ]
  },
  {
   "cell_type": "code",
   "execution_count": 818,
   "metadata": {
    "scrolled": true
   },
   "outputs": [
    {
     "data": {
      "image/png": "[encoded data removed]",
      "text/plain": [
       "Plot with title \"Frequency Distribution\""
      ]
     },
     "metadata": {
      "image/png": {
       "height": 420,
       "width": 420
      }
     },
     "output_type": "display_data"
    }
   ],
   "source": [
    "hist(data$RTsec,breaks=10, probability = TRUE, main=\"Frequency Distribution\", xlab = \"Response Time (sec)\",ylab = \"Frequency\")\n",
    "\n",
    "#Fit a Curve On Data\n",
    "lines(density(data$RTsec),col=\"blue\")\n"
   ]
  },
  {
   "cell_type": "markdown",
   "metadata": {},
   "source": [
    "#### Fit Normal Distribution Curve On Data"
   ]
  },
  {
   "cell_type": "code",
   "execution_count": 820,
   "metadata": {},
   "outputs": [],
   "source": [
    "data$RTsec_sorted = sort(data$RTsec)"
   ]
  },
  {
   "cell_type": "code",
   "execution_count": 821,
   "metadata": {},
   "outputs": [
    {
     "data": {
      "text/html": [
       "<table class=\"dataframe\">\n",
       "<caption>A data.frame: 600 × 8</caption>\n",
       "<thead>\n",
       "\t<tr><th scope=col>Trial</th><th scope=col>Angle</th><th scope=col>Stimulus</th><th scope=col>Response</th><th scope=col>RTmsec</th><th scope=col>Accuracy</th><th scope=col>RTsec</th><th scope=col>RTsec_sorted</th></tr>\n",
       "\t<tr><th scope=col>&lt;int&gt;</th><th scope=col>&lt;int&gt;</th><th scope=col>&lt;chr&gt;</th><th scope=col>&lt;chr&gt;</th><th scope=col>&lt;int&gt;</th><th scope=col>&lt;int&gt;</th><th scope=col>&lt;dbl&gt;</th><th scope=col>&lt;dbl&gt;</th></tr>\n",
       "</thead>\n",
       "<tbody>\n",
       "\t<tr><td> 1</td><td>140</td><td>Same--</td><td>Same--</td><td>4422</td><td>1</td><td>4.42</td><td>0.72</td></tr>\n",
       "\t<tr><td> 2</td><td> 60</td><td>Same--</td><td>Same--</td><td>1750</td><td>1</td><td>1.75</td><td>0.72</td></tr>\n",
       "\t<tr><td> 3</td><td>180</td><td>Mirror</td><td>Mirror</td><td>1437</td><td>1</td><td>1.44</td><td>0.72</td></tr>\n",
       "\t<tr><td> 4</td><td>100</td><td>Mirror</td><td>Same--</td><td>1735</td><td>0</td><td>1.74</td><td>0.72</td></tr>\n",
       "\t<tr><td> 5</td><td>160</td><td>Mirror</td><td>Mirror</td><td>1937</td><td>1</td><td>1.94</td><td>0.72</td></tr>\n",
       "\t<tr><td> 6</td><td>180</td><td>Mirror</td><td>Mirror</td><td>1422</td><td>1</td><td>1.42</td><td>0.73</td></tr>\n",
       "\t<tr><td> 7</td><td>180</td><td>Mirror</td><td>Mirror</td><td>1937</td><td>1</td><td>1.94</td><td>0.73</td></tr>\n",
       "\t<tr><td> 8</td><td>  0</td><td>Same--</td><td>Same--</td><td>1235</td><td>1</td><td>1.24</td><td>0.81</td></tr>\n",
       "\t<tr><td> 9</td><td> 40</td><td>Mirror</td><td>Mirror</td><td>3297</td><td>1</td><td>3.30</td><td>0.81</td></tr>\n",
       "\t<tr><td>10</td><td>140</td><td>Same--</td><td>Same--</td><td>1984</td><td>1</td><td>1.98</td><td>0.81</td></tr>\n",
       "\t<tr><td>11</td><td> 60</td><td>Mirror</td><td>Mirror</td><td>1844</td><td>1</td><td>1.84</td><td>0.81</td></tr>\n",
       "\t<tr><td>12</td><td>160</td><td>Same--</td><td>Same--</td><td>3453</td><td>1</td><td>3.45</td><td>0.81</td></tr>\n",
       "\t<tr><td>13</td><td> 40</td><td>Mirror</td><td>Mirror</td><td>3000</td><td>1</td><td>3.00</td><td>0.83</td></tr>\n",
       "\t<tr><td>14</td><td>180</td><td>Mirror</td><td>Mirror</td><td>4437</td><td>1</td><td>4.44</td><td>0.83</td></tr>\n",
       "\t<tr><td>15</td><td>140</td><td>Mirror</td><td>Mirror</td><td>2922</td><td>1</td><td>2.92</td><td>0.83</td></tr>\n",
       "\t<tr><td>16</td><td>120</td><td>Mirror</td><td>Mirror</td><td>2641</td><td>1</td><td>2.64</td><td>0.83</td></tr>\n",
       "\t<tr><td>17</td><td>180</td><td>Same--</td><td>Mirror</td><td>1937</td><td>0</td><td>1.94</td><td>0.83</td></tr>\n",
       "\t<tr><td>18</td><td>100</td><td>Mirror</td><td>Mirror</td><td>4204</td><td>1</td><td>4.20</td><td>0.83</td></tr>\n",
       "\t<tr><td>19</td><td> 60</td><td>Mirror</td><td>Mirror</td><td>3828</td><td>1</td><td>3.83</td><td>0.83</td></tr>\n",
       "\t<tr><td>20</td><td> 40</td><td>Mirror</td><td>Mirror</td><td>2140</td><td>1</td><td>2.14</td><td>0.83</td></tr>\n",
       "\t<tr><td>21</td><td> 60</td><td>Mirror</td><td>Mirror</td><td>3469</td><td>1</td><td>3.47</td><td>0.83</td></tr>\n",
       "\t<tr><td>22</td><td> 60</td><td>Mirror</td><td>Mirror</td><td>2422</td><td>1</td><td>2.42</td><td>0.83</td></tr>\n",
       "\t<tr><td>23</td><td>  0</td><td>Same--</td><td>Same--</td><td>2047</td><td>1</td><td>2.05</td><td>0.83</td></tr>\n",
       "\t<tr><td>24</td><td>120</td><td>Same--</td><td>Same--</td><td>1422</td><td>1</td><td>1.42</td><td>0.83</td></tr>\n",
       "\t<tr><td>25</td><td> 40</td><td>Same--</td><td>Same--</td><td>1937</td><td>1</td><td>1.94</td><td>0.83</td></tr>\n",
       "\t<tr><td>26</td><td> 60</td><td>Mirror</td><td>Mirror</td><td>2235</td><td>1</td><td>2.23</td><td>0.92</td></tr>\n",
       "\t<tr><td>27</td><td>  0</td><td>Mirror</td><td>Mirror</td><td>2140</td><td>1</td><td>2.14</td><td>0.92</td></tr>\n",
       "\t<tr><td>28</td><td>160</td><td>Mirror</td><td>Mirror</td><td>1328</td><td>1</td><td>1.33</td><td>0.92</td></tr>\n",
       "\t<tr><td>29</td><td>180</td><td>Mirror</td><td>Mirror</td><td>2453</td><td>1</td><td>2.45</td><td>0.92</td></tr>\n",
       "\t<tr><td>30</td><td>160</td><td>Mirror</td><td>Mirror</td><td>1422</td><td>1</td><td>1.42</td><td>0.92</td></tr>\n",
       "\t<tr><td>...</td><td>...</td><td>...</td><td>...</td><td>...</td><td>...</td><td>...</td><td>...</td></tr>\n",
       "\t<tr><td>571</td><td>  0</td><td>Mirror</td><td>Mirror</td><td>1531</td><td>1</td><td>1.53</td><td>2.92</td></tr>\n",
       "\t<tr><td>572</td><td>100</td><td>Same--</td><td>Same--</td><td>1625</td><td>1</td><td>1.62</td><td>2.92</td></tr>\n",
       "\t<tr><td>573</td><td>120</td><td>Mirror</td><td>Mirror</td><td>1032</td><td>1</td><td>1.03</td><td>2.95</td></tr>\n",
       "\t<tr><td>574</td><td>100</td><td>Mirror</td><td>Mirror</td><td>1422</td><td>1</td><td>1.42</td><td>2.95</td></tr>\n",
       "\t<tr><td>575</td><td>120</td><td>Mirror</td><td>Mirror</td><td>1031</td><td>1</td><td>1.03</td><td>2.95</td></tr>\n",
       "\t<tr><td>576</td><td>140</td><td>Same--</td><td>Mirror</td><td>1422</td><td>0</td><td>1.42</td><td>3.00</td></tr>\n",
       "\t<tr><td>577</td><td>180</td><td>Mirror</td><td>Mirror</td><td>1125</td><td>1</td><td>1.12</td><td>3.00</td></tr>\n",
       "\t<tr><td>578</td><td>  0</td><td>Same--</td><td>Same--</td><td> 828</td><td>1</td><td>0.83</td><td>3.05</td></tr>\n",
       "\t<tr><td>579</td><td>120</td><td>Mirror</td><td>Mirror</td><td>2140</td><td>1</td><td>2.14</td><td>3.05</td></tr>\n",
       "\t<tr><td>580</td><td>140</td><td>Same--</td><td>Same--</td><td>1219</td><td>1</td><td>1.22</td><td>3.05</td></tr>\n",
       "\t<tr><td>581</td><td>140</td><td>Same--</td><td>Same--</td><td>1922</td><td>1</td><td>1.92</td><td>3.17</td></tr>\n",
       "\t<tr><td>582</td><td> 40</td><td>Same--</td><td>Same--</td><td>1031</td><td>1</td><td>1.03</td><td>3.19</td></tr>\n",
       "\t<tr><td>583</td><td> 20</td><td>Same--</td><td>Same--</td><td> 719</td><td>1</td><td>0.72</td><td>3.27</td></tr>\n",
       "\t<tr><td>584</td><td>100</td><td>Same--</td><td>Same--</td><td>1125</td><td>1</td><td>1.12</td><td>3.30</td></tr>\n",
       "\t<tr><td>585</td><td> 20</td><td>Same--</td><td>Same--</td><td> 922</td><td>1</td><td>0.92</td><td>3.30</td></tr>\n",
       "\t<tr><td>586</td><td> 40</td><td>Same--</td><td>Same--</td><td> 718</td><td>1</td><td>0.72</td><td>3.34</td></tr>\n",
       "\t<tr><td>587</td><td>140</td><td>Same--</td><td>Mirror</td><td>1016</td><td>0</td><td>1.02</td><td>3.45</td></tr>\n",
       "\t<tr><td>588</td><td> 20</td><td>Same--</td><td>Mirror</td><td>1031</td><td>0</td><td>1.03</td><td>3.45</td></tr>\n",
       "\t<tr><td>589</td><td>  0</td><td>Same--</td><td>Same--</td><td> 922</td><td>1</td><td>0.92</td><td>3.45</td></tr>\n",
       "\t<tr><td>590</td><td>100</td><td>Same--</td><td>Same--</td><td> 922</td><td>1</td><td>0.92</td><td>3.47</td></tr>\n",
       "\t<tr><td>591</td><td>100</td><td>Same--</td><td>Same--</td><td>1015</td><td>1</td><td>1.01</td><td>3.75</td></tr>\n",
       "\t<tr><td>592</td><td> 20</td><td>Mirror</td><td>Same--</td><td>1328</td><td>0</td><td>1.33</td><td>3.83</td></tr>\n",
       "\t<tr><td>593</td><td> 40</td><td>Mirror</td><td>Mirror</td><td>1531</td><td>1</td><td>1.53</td><td>3.86</td></tr>\n",
       "\t<tr><td>594</td><td> 40</td><td>Mirror</td><td>Mirror</td><td>1328</td><td>1</td><td>1.33</td><td>3.91</td></tr>\n",
       "\t<tr><td>595</td><td> 20</td><td>Mirror</td><td>Mirror</td><td>1422</td><td>1</td><td>1.42</td><td>3.98</td></tr>\n",
       "\t<tr><td>596</td><td>  0</td><td>Mirror</td><td>Mirror</td><td>1031</td><td>1</td><td>1.03</td><td>4.12</td></tr>\n",
       "\t<tr><td>597</td><td> 40</td><td>Mirror</td><td>Mirror</td><td>1219</td><td>1</td><td>1.22</td><td>4.16</td></tr>\n",
       "\t<tr><td>598</td><td>  0</td><td>Mirror</td><td>Mirror</td><td>1125</td><td>1</td><td>1.12</td><td>4.20</td></tr>\n",
       "\t<tr><td>599</td><td> 20</td><td>Mirror</td><td>Mirror</td><td> 828</td><td>1</td><td>0.83</td><td>4.42</td></tr>\n",
       "\t<tr><td>600</td><td> 40</td><td>Mirror</td><td>Mirror</td><td>1125</td><td>1</td><td>1.12</td><td>4.44</td></tr>\n",
       "</tbody>\n",
       "</table>\n"
      ],
      "text/latex": [
       "A data.frame: 600 × 8\n",
       "\\begin{tabular}{llllllll}\n",
       " Trial & Angle & Stimulus & Response & RTmsec & Accuracy & RTsec & RTsec\\_sorted\\\\\n",
       " <int> & <int> & <chr> & <chr> & <int> & <int> & <dbl> & <dbl>\\\\\n",
       "\\hline\n",
       "\t  1 & 140 & Same-- & Same-- & 4422 & 1 & 4.42 & 0.72\\\\\n",
       "\t  2 &  60 & Same-- & Same-- & 1750 & 1 & 1.75 & 0.72\\\\\n",
       "\t  3 & 180 & Mirror & Mirror & 1437 & 1 & 1.44 & 0.72\\\\\n",
       "\t  4 & 100 & Mirror & Same-- & 1735 & 0 & 1.74 & 0.72\\\\\n",
       "\t  5 & 160 & Mirror & Mirror & 1937 & 1 & 1.94 & 0.72\\\\\n",
       "\t  6 & 180 & Mirror & Mirror & 1422 & 1 & 1.42 & 0.73\\\\\n",
       "\t  7 & 180 & Mirror & Mirror & 1937 & 1 & 1.94 & 0.73\\\\\n",
       "\t  8 &   0 & Same-- & Same-- & 1235 & 1 & 1.24 & 0.81\\\\\n",
       "\t  9 &  40 & Mirror & Mirror & 3297 & 1 & 3.30 & 0.81\\\\\n",
       "\t 10 & 140 & Same-- & Same-- & 1984 & 1 & 1.98 & 0.81\\\\\n",
       "\t 11 &  60 & Mirror & Mirror & 1844 & 1 & 1.84 & 0.81\\\\\n",
       "\t 12 & 160 & Same-- & Same-- & 3453 & 1 & 3.45 & 0.81\\\\\n",
       "\t 13 &  40 & Mirror & Mirror & 3000 & 1 & 3.00 & 0.83\\\\\n",
       "\t 14 & 180 & Mirror & Mirror & 4437 & 1 & 4.44 & 0.83\\\\\n",
       "\t 15 & 140 & Mirror & Mirror & 2922 & 1 & 2.92 & 0.83\\\\\n",
       "\t 16 & 120 & Mirror & Mirror & 2641 & 1 & 2.64 & 0.83\\\\\n",
       "\t 17 & 180 & Same-- & Mirror & 1937 & 0 & 1.94 & 0.83\\\\\n",
       "\t 18 & 100 & Mirror & Mirror & 4204 & 1 & 4.20 & 0.83\\\\\n",
       "\t 19 &  60 & Mirror & Mirror & 3828 & 1 & 3.83 & 0.83\\\\\n",
       "\t 20 &  40 & Mirror & Mirror & 2140 & 1 & 2.14 & 0.83\\\\\n",
       "\t 21 &  60 & Mirror & Mirror & 3469 & 1 & 3.47 & 0.83\\\\\n",
       "\t 22 &  60 & Mirror & Mirror & 2422 & 1 & 2.42 & 0.83\\\\\n",
       "\t 23 &   0 & Same-- & Same-- & 2047 & 1 & 2.05 & 0.83\\\\\n",
       "\t 24 & 120 & Same-- & Same-- & 1422 & 1 & 1.42 & 0.83\\\\\n",
       "\t 25 &  40 & Same-- & Same-- & 1937 & 1 & 1.94 & 0.83\\\\\n",
       "\t 26 &  60 & Mirror & Mirror & 2235 & 1 & 2.23 & 0.92\\\\\n",
       "\t 27 &   0 & Mirror & Mirror & 2140 & 1 & 2.14 & 0.92\\\\\n",
       "\t 28 & 160 & Mirror & Mirror & 1328 & 1 & 1.33 & 0.92\\\\\n",
       "\t 29 & 180 & Mirror & Mirror & 2453 & 1 & 2.45 & 0.92\\\\\n",
       "\t 30 & 160 & Mirror & Mirror & 1422 & 1 & 1.42 & 0.92\\\\\n",
       "\t ... & ... & ... & ... & ... & ... & ... & ...\\\\\n",
       "\t 571 &   0 & Mirror & Mirror & 1531 & 1 & 1.53 & 2.92\\\\\n",
       "\t 572 & 100 & Same-- & Same-- & 1625 & 1 & 1.62 & 2.92\\\\\n",
       "\t 573 & 120 & Mirror & Mirror & 1032 & 1 & 1.03 & 2.95\\\\\n",
       "\t 574 & 100 & Mirror & Mirror & 1422 & 1 & 1.42 & 2.95\\\\\n",
       "\t 575 & 120 & Mirror & Mirror & 1031 & 1 & 1.03 & 2.95\\\\\n",
       "\t 576 & 140 & Same-- & Mirror & 1422 & 0 & 1.42 & 3.00\\\\\n",
       "\t 577 & 180 & Mirror & Mirror & 1125 & 1 & 1.12 & 3.00\\\\\n",
       "\t 578 &   0 & Same-- & Same-- &  828 & 1 & 0.83 & 3.05\\\\\n",
       "\t 579 & 120 & Mirror & Mirror & 2140 & 1 & 2.14 & 3.05\\\\\n",
       "\t 580 & 140 & Same-- & Same-- & 1219 & 1 & 1.22 & 3.05\\\\\n",
       "\t 581 & 140 & Same-- & Same-- & 1922 & 1 & 1.92 & 3.17\\\\\n",
       "\t 582 &  40 & Same-- & Same-- & 1031 & 1 & 1.03 & 3.19\\\\\n",
       "\t 583 &  20 & Same-- & Same-- &  719 & 1 & 0.72 & 3.27\\\\\n",
       "\t 584 & 100 & Same-- & Same-- & 1125 & 1 & 1.12 & 3.30\\\\\n",
       "\t 585 &  20 & Same-- & Same-- &  922 & 1 & 0.92 & 3.30\\\\\n",
       "\t 586 &  40 & Same-- & Same-- &  718 & 1 & 0.72 & 3.34\\\\\n",
       "\t 587 & 140 & Same-- & Mirror & 1016 & 0 & 1.02 & 3.45\\\\\n",
       "\t 588 &  20 & Same-- & Mirror & 1031 & 0 & 1.03 & 3.45\\\\\n",
       "\t 589 &   0 & Same-- & Same-- &  922 & 1 & 0.92 & 3.45\\\\\n",
       "\t 590 & 100 & Same-- & Same-- &  922 & 1 & 0.92 & 3.47\\\\\n",
       "\t 591 & 100 & Same-- & Same-- & 1015 & 1 & 1.01 & 3.75\\\\\n",
       "\t 592 &  20 & Mirror & Same-- & 1328 & 0 & 1.33 & 3.83\\\\\n",
       "\t 593 &  40 & Mirror & Mirror & 1531 & 1 & 1.53 & 3.86\\\\\n",
       "\t 594 &  40 & Mirror & Mirror & 1328 & 1 & 1.33 & 3.91\\\\\n",
       "\t 595 &  20 & Mirror & Mirror & 1422 & 1 & 1.42 & 3.98\\\\\n",
       "\t 596 &   0 & Mirror & Mirror & 1031 & 1 & 1.03 & 4.12\\\\\n",
       "\t 597 &  40 & Mirror & Mirror & 1219 & 1 & 1.22 & 4.16\\\\\n",
       "\t 598 &   0 & Mirror & Mirror & 1125 & 1 & 1.12 & 4.20\\\\\n",
       "\t 599 &  20 & Mirror & Mirror &  828 & 1 & 0.83 & 4.42\\\\\n",
       "\t 600 &  40 & Mirror & Mirror & 1125 & 1 & 1.12 & 4.44\\\\\n",
       "\\end{tabular}\n"
      ],
      "text/markdown": [
       "\n",
       "A data.frame: 600 × 8\n",
       "\n",
       "| Trial &lt;int&gt; | Angle &lt;int&gt; | Stimulus &lt;chr&gt; | Response &lt;chr&gt; | RTmsec &lt;int&gt; | Accuracy &lt;int&gt; | RTsec &lt;dbl&gt; | RTsec_sorted &lt;dbl&gt; |\n",
       "|---|---|---|---|---|---|---|---|\n",
       "|  1 | 140 | Same-- | Same-- | 4422 | 1 | 4.42 | 0.72 |\n",
       "|  2 |  60 | Same-- | Same-- | 1750 | 1 | 1.75 | 0.72 |\n",
       "|  3 | 180 | Mirror | Mirror | 1437 | 1 | 1.44 | 0.72 |\n",
       "|  4 | 100 | Mirror | Same-- | 1735 | 0 | 1.74 | 0.72 |\n",
       "|  5 | 160 | Mirror | Mirror | 1937 | 1 | 1.94 | 0.72 |\n",
       "|  6 | 180 | Mirror | Mirror | 1422 | 1 | 1.42 | 0.73 |\n",
       "|  7 | 180 | Mirror | Mirror | 1937 | 1 | 1.94 | 0.73 |\n",
       "|  8 |   0 | Same-- | Same-- | 1235 | 1 | 1.24 | 0.81 |\n",
       "|  9 |  40 | Mirror | Mirror | 3297 | 1 | 3.30 | 0.81 |\n",
       "| 10 | 140 | Same-- | Same-- | 1984 | 1 | 1.98 | 0.81 |\n",
       "| 11 |  60 | Mirror | Mirror | 1844 | 1 | 1.84 | 0.81 |\n",
       "| 12 | 160 | Same-- | Same-- | 3453 | 1 | 3.45 | 0.81 |\n",
       "| 13 |  40 | Mirror | Mirror | 3000 | 1 | 3.00 | 0.83 |\n",
       "| 14 | 180 | Mirror | Mirror | 4437 | 1 | 4.44 | 0.83 |\n",
       "| 15 | 140 | Mirror | Mirror | 2922 | 1 | 2.92 | 0.83 |\n",
       "| 16 | 120 | Mirror | Mirror | 2641 | 1 | 2.64 | 0.83 |\n",
       "| 17 | 180 | Same-- | Mirror | 1937 | 0 | 1.94 | 0.83 |\n",
       "| 18 | 100 | Mirror | Mirror | 4204 | 1 | 4.20 | 0.83 |\n",
       "| 19 |  60 | Mirror | Mirror | 3828 | 1 | 3.83 | 0.83 |\n",
       "| 20 |  40 | Mirror | Mirror | 2140 | 1 | 2.14 | 0.83 |\n",
       "| 21 |  60 | Mirror | Mirror | 3469 | 1 | 3.47 | 0.83 |\n",
       "| 22 |  60 | Mirror | Mirror | 2422 | 1 | 2.42 | 0.83 |\n",
       "| 23 |   0 | Same-- | Same-- | 2047 | 1 | 2.05 | 0.83 |\n",
       "| 24 | 120 | Same-- | Same-- | 1422 | 1 | 1.42 | 0.83 |\n",
       "| 25 |  40 | Same-- | Same-- | 1937 | 1 | 1.94 | 0.83 |\n",
       "| 26 |  60 | Mirror | Mirror | 2235 | 1 | 2.23 | 0.92 |\n",
       "| 27 |   0 | Mirror | Mirror | 2140 | 1 | 2.14 | 0.92 |\n",
       "| 28 | 160 | Mirror | Mirror | 1328 | 1 | 1.33 | 0.92 |\n",
       "| 29 | 180 | Mirror | Mirror | 2453 | 1 | 2.45 | 0.92 |\n",
       "| 30 | 160 | Mirror | Mirror | 1422 | 1 | 1.42 | 0.92 |\n",
       "| ... | ... | ... | ... | ... | ... | ... | ... |\n",
       "| 571 |   0 | Mirror | Mirror | 1531 | 1 | 1.53 | 2.92 |\n",
       "| 572 | 100 | Same-- | Same-- | 1625 | 1 | 1.62 | 2.92 |\n",
       "| 573 | 120 | Mirror | Mirror | 1032 | 1 | 1.03 | 2.95 |\n",
       "| 574 | 100 | Mirror | Mirror | 1422 | 1 | 1.42 | 2.95 |\n",
       "| 575 | 120 | Mirror | Mirror | 1031 | 1 | 1.03 | 2.95 |\n",
       "| 576 | 140 | Same-- | Mirror | 1422 | 0 | 1.42 | 3.00 |\n",
       "| 577 | 180 | Mirror | Mirror | 1125 | 1 | 1.12 | 3.00 |\n",
       "| 578 |   0 | Same-- | Same-- |  828 | 1 | 0.83 | 3.05 |\n",
       "| 579 | 120 | Mirror | Mirror | 2140 | 1 | 2.14 | 3.05 |\n",
       "| 580 | 140 | Same-- | Same-- | 1219 | 1 | 1.22 | 3.05 |\n",
       "| 581 | 140 | Same-- | Same-- | 1922 | 1 | 1.92 | 3.17 |\n",
       "| 582 |  40 | Same-- | Same-- | 1031 | 1 | 1.03 | 3.19 |\n",
       "| 583 |  20 | Same-- | Same-- |  719 | 1 | 0.72 | 3.27 |\n",
       "| 584 | 100 | Same-- | Same-- | 1125 | 1 | 1.12 | 3.30 |\n",
       "| 585 |  20 | Same-- | Same-- |  922 | 1 | 0.92 | 3.30 |\n",
       "| 586 |  40 | Same-- | Same-- |  718 | 1 | 0.72 | 3.34 |\n",
       "| 587 | 140 | Same-- | Mirror | 1016 | 0 | 1.02 | 3.45 |\n",
       "| 588 |  20 | Same-- | Mirror | 1031 | 0 | 1.03 | 3.45 |\n",
       "| 589 |   0 | Same-- | Same-- |  922 | 1 | 0.92 | 3.45 |\n",
       "| 590 | 100 | Same-- | Same-- |  922 | 1 | 0.92 | 3.47 |\n",
       "| 591 | 100 | Same-- | Same-- | 1015 | 1 | 1.01 | 3.75 |\n",
       "| 592 |  20 | Mirror | Same-- | 1328 | 0 | 1.33 | 3.83 |\n",
       "| 593 |  40 | Mirror | Mirror | 1531 | 1 | 1.53 | 3.86 |\n",
       "| 594 |  40 | Mirror | Mirror | 1328 | 1 | 1.33 | 3.91 |\n",
       "| 595 |  20 | Mirror | Mirror | 1422 | 1 | 1.42 | 3.98 |\n",
       "| 596 |   0 | Mirror | Mirror | 1031 | 1 | 1.03 | 4.12 |\n",
       "| 597 |  40 | Mirror | Mirror | 1219 | 1 | 1.22 | 4.16 |\n",
       "| 598 |   0 | Mirror | Mirror | 1125 | 1 | 1.12 | 4.20 |\n",
       "| 599 |  20 | Mirror | Mirror |  828 | 1 | 0.83 | 4.42 |\n",
       "| 600 |  40 | Mirror | Mirror | 1125 | 1 | 1.12 | 4.44 |\n",
       "\n"
      ],
      "text/plain": [
       "    Trial Angle Stimulus Response RTmsec Accuracy RTsec RTsec_sorted\n",
       "1    1    140   Same--   Same--   4422   1        4.42  0.72        \n",
       "2    2     60   Same--   Same--   1750   1        1.75  0.72        \n",
       "3    3    180   Mirror   Mirror   1437   1        1.44  0.72        \n",
       "4    4    100   Mirror   Same--   1735   0        1.74  0.72        \n",
       "5    5    160   Mirror   Mirror   1937   1        1.94  0.72        \n",
       "6    6    180   Mirror   Mirror   1422   1        1.42  0.73        \n",
       "7    7    180   Mirror   Mirror   1937   1        1.94  0.73        \n",
       "8    8      0   Same--   Same--   1235   1        1.24  0.81        \n",
       "9    9     40   Mirror   Mirror   3297   1        3.30  0.81        \n",
       "10  10    140   Same--   Same--   1984   1        1.98  0.81        \n",
       "11  11     60   Mirror   Mirror   1844   1        1.84  0.81        \n",
       "12  12    160   Same--   Same--   3453   1        3.45  0.81        \n",
       "13  13     40   Mirror   Mirror   3000   1        3.00  0.83        \n",
       "14  14    180   Mirror   Mirror   4437   1        4.44  0.83        \n",
       "15  15    140   Mirror   Mirror   2922   1        2.92  0.83        \n",
       "16  16    120   Mirror   Mirror   2641   1        2.64  0.83        \n",
       "17  17    180   Same--   Mirror   1937   0        1.94  0.83        \n",
       "18  18    100   Mirror   Mirror   4204   1        4.20  0.83        \n",
       "19  19     60   Mirror   Mirror   3828   1        3.83  0.83        \n",
       "20  20     40   Mirror   Mirror   2140   1        2.14  0.83        \n",
       "21  21     60   Mirror   Mirror   3469   1        3.47  0.83        \n",
       "22  22     60   Mirror   Mirror   2422   1        2.42  0.83        \n",
       "23  23      0   Same--   Same--   2047   1        2.05  0.83        \n",
       "24  24    120   Same--   Same--   1422   1        1.42  0.83        \n",
       "25  25     40   Same--   Same--   1937   1        1.94  0.83        \n",
       "26  26     60   Mirror   Mirror   2235   1        2.23  0.92        \n",
       "27  27      0   Mirror   Mirror   2140   1        2.14  0.92        \n",
       "28  28    160   Mirror   Mirror   1328   1        1.33  0.92        \n",
       "29  29    180   Mirror   Mirror   2453   1        2.45  0.92        \n",
       "30  30    160   Mirror   Mirror   1422   1        1.42  0.92        \n",
       "... ...   ...   ...      ...      ...    ...      ...   ...         \n",
       "571 571     0   Mirror   Mirror   1531   1        1.53  2.92        \n",
       "572 572   100   Same--   Same--   1625   1        1.62  2.92        \n",
       "573 573   120   Mirror   Mirror   1032   1        1.03  2.95        \n",
       "574 574   100   Mirror   Mirror   1422   1        1.42  2.95        \n",
       "575 575   120   Mirror   Mirror   1031   1        1.03  2.95        \n",
       "576 576   140   Same--   Mirror   1422   0        1.42  3.00        \n",
       "577 577   180   Mirror   Mirror   1125   1        1.12  3.00        \n",
       "578 578     0   Same--   Same--    828   1        0.83  3.05        \n",
       "579 579   120   Mirror   Mirror   2140   1        2.14  3.05        \n",
       "580 580   140   Same--   Same--   1219   1        1.22  3.05        \n",
       "581 581   140   Same--   Same--   1922   1        1.92  3.17        \n",
       "582 582    40   Same--   Same--   1031   1        1.03  3.19        \n",
       "583 583    20   Same--   Same--    719   1        0.72  3.27        \n",
       "584 584   100   Same--   Same--   1125   1        1.12  3.30        \n",
       "585 585    20   Same--   Same--    922   1        0.92  3.30        \n",
       "586 586    40   Same--   Same--    718   1        0.72  3.34        \n",
       "587 587   140   Same--   Mirror   1016   0        1.02  3.45        \n",
       "588 588    20   Same--   Mirror   1031   0        1.03  3.45        \n",
       "589 589     0   Same--   Same--    922   1        0.92  3.45        \n",
       "590 590   100   Same--   Same--    922   1        0.92  3.47        \n",
       "591 591   100   Same--   Same--   1015   1        1.01  3.75        \n",
       "592 592    20   Mirror   Same--   1328   0        1.33  3.83        \n",
       "593 593    40   Mirror   Mirror   1531   1        1.53  3.86        \n",
       "594 594    40   Mirror   Mirror   1328   1        1.33  3.91        \n",
       "595 595    20   Mirror   Mirror   1422   1        1.42  3.98        \n",
       "596 596     0   Mirror   Mirror   1031   1        1.03  4.12        \n",
       "597 597    40   Mirror   Mirror   1219   1        1.22  4.16        \n",
       "598 598     0   Mirror   Mirror   1125   1        1.12  4.20        \n",
       "599 599    20   Mirror   Mirror    828   1        0.83  4.42        \n",
       "600 600    40   Mirror   Mirror   1125   1        1.12  4.44        "
      ]
     },
     "metadata": {},
     "output_type": "display_data"
    }
   ],
   "source": [
    "data"
   ]
  },
  {
   "cell_type": "markdown",
   "metadata": {},
   "source": [
    "#### Normal Distribution"
   ]
  },
  {
   "cell_type": "code",
   "execution_count": 822,
   "metadata": {},
   "outputs": [
    {
     "data": {
      "text/html": [
       "1.6245"
      ],
      "text/latex": [
       "1.6245"
      ],
      "text/markdown": [
       "1.6245"
      ],
      "text/plain": [
       "[1] 1.6245"
      ]
     },
     "metadata": {},
     "output_type": "display_data"
    },
    {
     "data": {
      "text/html": [
       "0.63772452591349"
      ],
      "text/latex": [
       "0.63772452591349"
      ],
      "text/markdown": [
       "0.63772452591349"
      ],
      "text/plain": [
       "[1] 0.6377245"
      ]
     },
     "metadata": {},
     "output_type": "display_data"
    }
   ],
   "source": [
    "meanRT = mean(data$RTsec_sorted)\n",
    "sdRT = sd(data$RTsec_sorted)\n",
    "meanRT\n",
    "sdRT"
   ]
  },
  {
   "cell_type": "code",
   "execution_count": 823,
   "metadata": {},
   "outputs": [],
   "source": [
    "yn = dnorm(data$RTsec_sorted, mean= meanRT, sd=sdRT)"
   ]
  },
  {
   "cell_type": "code",
   "execution_count": 824,
   "metadata": {},
   "outputs": [
    {
     "data": {
      "image/png": "[encoded data removed]",
      "text/plain": [
       "Plot with title \"Frequency Distribution\""
      ]
     },
     "metadata": {
      "image/png": {
       "height": 420,
       "width": 420
      }
     },
     "output_type": "display_data"
    }
   ],
   "source": [
    "hist(data$RTsec_sorted,breaks=10, probability = TRUE, main=\"Frequency Distribution\", xlab = \"Response Time (sec)\",ylab = \"Frequency\")\n",
    "lines(data$RTsec_sorted, yn, col=\"red\")\n",
    "lines(density(data$RTsec_sorted),col=\"blue\")"
   ]
  },
  {
   "cell_type": "markdown",
   "metadata": {},
   "source": [
    "در این جا از مقدار 10 برای ایجاد اینتروال استفاده شده که بازه های خوانا و معنا دارتری داشته باشم"
   ]
  },
  {
   "cell_type": "markdown",
   "metadata": {},
   "source": [
    "## 3.Plot ungrouped as well as grouped boxplot for these data."
   ]
  },
  {
   "cell_type": "code",
   "execution_count": 825,
   "metadata": {},
   "outputs": [],
   "source": [
    "library(ggpubr)"
   ]
  },
  {
   "cell_type": "code",
   "execution_count": 826,
   "metadata": {},
   "outputs": [
    {
     "data": {
      "image/png": "[encoded data removed]",
      "text/plain": [
       "plot without title"
      ]
     },
     "metadata": {
      "image/png": {
       "height": 420,
       "width": 420
      }
     },
     "output_type": "display_data"
    }
   ],
   "source": [
    "#plot Ungrouped Boxplot\n",
    "ggboxplot(data$RTsec) "
   ]
  },
  {
   "cell_type": "code",
   "execution_count": 557,
   "metadata": {},
   "outputs": [
    {
     "data": {
      "image/png": "[encoded data removed]",
      "text/plain": [
       "plot without title"
      ]
     },
     "metadata": {
      "image/png": {
       "height": 420,
       "width": 420
      }
     },
     "output_type": "display_data"
    }
   ],
   "source": [
    "#Plot grouped Boxplot (Grouped By Angle Only)\n",
    "ggboxplot(data, x=\"Angle\", y=\"RTsec\")"
   ]
  },
  {
   "cell_type": "code",
   "execution_count": 558,
   "metadata": {},
   "outputs": [
    {
     "data": {
      "image/png": "[encoded data removed]",
      "text/plain": [
       "plot without title"
      ]
     },
     "metadata": {
      "image/png": {
       "height": 420,
       "width": 420
      }
     },
     "output_type": "display_data"
    }
   ],
   "source": [
    "#Plot grouped Boxplot (Grouped By Stimulus Only)\n",
    "ggboxplot(data, x=\"Stimulus\", y=\"RTsec\")"
   ]
  },
  {
   "cell_type": "code",
   "execution_count": 559,
   "metadata": {
    "scrolled": true
   },
   "outputs": [
    {
     "data": {
      "image/png": "[encoded data removed]",
      "text/plain": [
       "plot without title"
      ]
     },
     "metadata": {
      "image/png": {
       "height": 420,
       "width": 420
      }
     },
     "output_type": "display_data"
    }
   ],
   "source": [
    "#Plot grouped Boxplot (Grouped By Angle & Stimulus)\n",
    "ggboxplot(data, x=\"Angle\", y=\"RTsec\", color=\"Stimulus\")"
   ]
  },
  {
   "cell_type": "markdown",
   "metadata": {},
   "source": [
    "همانطور که از مشاهده باکسپلاتها قابل استنتاج است در موارد همسان، با افزایش زاویه، زمان واکنش افزایش می یابد. در موارد آینه ای، لزوما چنین ارتباط خطی ای وجود ندارد: بیشنیه زمان واکنش را برای زاویه 100 درجه داریم\n"
   ]
  },
  {
   "cell_type": "markdown",
   "metadata": {},
   "source": [
    "## 4.Discuss the statistical summary of the data in each condition in the form of statistics of mean, standard deviation, median, quantiles, etc."
   ]
  },
  {
   "cell_type": "code",
   "execution_count": 560,
   "metadata": {},
   "outputs": [
    {
     "data": {
      "text/html": [
       "<table class=\"dataframe\">\n",
       "<caption>A tibble: 20 × 15</caption>\n",
       "<thead>\n",
       "\t<tr><th scope=col>Angle</th><th scope=col>Stimulus</th><th scope=col>variable</th><th scope=col>n</th><th scope=col>min</th><th scope=col>max</th><th scope=col>median</th><th scope=col>q1</th><th scope=col>q3</th><th scope=col>iqr</th><th scope=col>mad</th><th scope=col>mean</th><th scope=col>sd</th><th scope=col>se</th><th scope=col>ci</th></tr>\n",
       "\t<tr><th scope=col>&lt;int&gt;</th><th scope=col>&lt;chr&gt;</th><th scope=col>&lt;fct&gt;</th><th scope=col>&lt;dbl&gt;</th><th scope=col>&lt;dbl&gt;</th><th scope=col>&lt;dbl&gt;</th><th scope=col>&lt;dbl&gt;</th><th scope=col>&lt;dbl&gt;</th><th scope=col>&lt;dbl&gt;</th><th scope=col>&lt;dbl&gt;</th><th scope=col>&lt;dbl&gt;</th><th scope=col>&lt;dbl&gt;</th><th scope=col>&lt;dbl&gt;</th><th scope=col>&lt;dbl&gt;</th><th scope=col>&lt;dbl&gt;</th></tr>\n",
       "</thead>\n",
       "<tbody>\n",
       "\t<tr><td>  0</td><td>Mirror</td><td>RTsec</td><td>30</td><td>0.81</td><td>3.45</td><td>1.530</td><td>1.145</td><td>1.830</td><td>0.685</td><td>0.534</td><td>1.662</td><td>0.637</td><td>0.116</td><td>0.238</td></tr>\n",
       "\t<tr><td>  0</td><td>Same--</td><td>RTsec</td><td>30</td><td>0.73</td><td>2.33</td><td>1.015</td><td>0.830</td><td>1.240</td><td>0.410</td><td>0.274</td><td>1.154</td><td>0.429</td><td>0.078</td><td>0.160</td></tr>\n",
       "\t<tr><td> 20</td><td>Mirror</td><td>RTsec</td><td>30</td><td>0.83</td><td>2.14</td><td>1.430</td><td>1.232</td><td>1.830</td><td>0.598</td><td>0.460</td><td>1.510</td><td>0.372</td><td>0.068</td><td>0.139</td></tr>\n",
       "\t<tr><td> 20</td><td>Same--</td><td>RTsec</td><td>30</td><td>0.72</td><td>1.83</td><td>1.120</td><td>0.920</td><td>1.195</td><td>0.275</td><td>0.297</td><td>1.086</td><td>0.243</td><td>0.044</td><td>0.091</td></tr>\n",
       "\t<tr><td> 40</td><td>Mirror</td><td>RTsec</td><td>30</td><td>0.92</td><td>3.30</td><td>1.485</td><td>1.145</td><td>1.845</td><td>0.700</td><td>0.541</td><td>1.571</td><td>0.552</td><td>0.101</td><td>0.206</td></tr>\n",
       "\t<tr><td> 40</td><td>Same--</td><td>RTsec</td><td>30</td><td>0.72</td><td>2.55</td><td>1.330</td><td>0.945</td><td>1.598</td><td>0.653</td><td>0.519</td><td>1.371</td><td>0.448</td><td>0.082</td><td>0.167</td></tr>\n",
       "\t<tr><td> 60</td><td>Mirror</td><td>RTsec</td><td>30</td><td>0.83</td><td>3.83</td><td>1.575</td><td>1.232</td><td>1.838</td><td>0.605</td><td>0.445</td><td>1.683</td><td>0.734</td><td>0.134</td><td>0.274</td></tr>\n",
       "\t<tr><td> 60</td><td>Same--</td><td>RTsec</td><td>30</td><td>0.72</td><td>2.95</td><td>1.575</td><td>1.160</td><td>2.007</td><td>0.847</td><td>0.675</td><td>1.644</td><td>0.553</td><td>0.101</td><td>0.207</td></tr>\n",
       "\t<tr><td> 80</td><td>Mirror</td><td>RTsec</td><td>30</td><td>0.83</td><td>4.12</td><td>1.525</td><td>1.220</td><td>1.840</td><td>0.620</td><td>0.467</td><td>1.611</td><td>0.638</td><td>0.117</td><td>0.238</td></tr>\n",
       "\t<tr><td> 80</td><td>Same--</td><td>RTsec</td><td>30</td><td>0.83</td><td>3.98</td><td>1.530</td><td>1.223</td><td>1.913</td><td>0.690</td><td>0.460</td><td>1.700</td><td>0.760</td><td>0.139</td><td>0.284</td></tr>\n",
       "\t<tr><td>100</td><td>Mirror</td><td>RTsec</td><td>29</td><td>0.92</td><td>4.20</td><td>1.530</td><td>1.230</td><td>2.140</td><td>0.910</td><td>0.608</td><td>1.784</td><td>0.784</td><td>0.146</td><td>0.298</td></tr>\n",
       "\t<tr><td>100</td><td>Same--</td><td>RTsec</td><td>31</td><td>0.92</td><td>2.84</td><td>1.620</td><td>1.330</td><td>2.185</td><td>0.855</td><td>0.578</td><td>1.697</td><td>0.525</td><td>0.094</td><td>0.193</td></tr>\n",
       "\t<tr><td>120</td><td>Mirror</td><td>RTsec</td><td>30</td><td>0.92</td><td>3.75</td><td>1.330</td><td>1.145</td><td>1.808</td><td>0.663</td><td>0.445</td><td>1.584</td><td>0.643</td><td>0.117</td><td>0.240</td></tr>\n",
       "\t<tr><td>120</td><td>Same--</td><td>RTsec</td><td>30</td><td>0.92</td><td>4.16</td><td>1.685</td><td>1.352</td><td>2.045</td><td>0.692</td><td>0.526</td><td>1.876</td><td>0.789</td><td>0.144</td><td>0.294</td></tr>\n",
       "\t<tr><td>140</td><td>Mirror</td><td>RTsec</td><td>30</td><td>0.92</td><td>3.34</td><td>1.475</td><td>1.160</td><td>1.913</td><td>0.753</td><td>0.593</td><td>1.643</td><td>0.664</td><td>0.121</td><td>0.248</td></tr>\n",
       "\t<tr><td>140</td><td>Same--</td><td>RTsec</td><td>30</td><td>1.02</td><td>4.42</td><td>1.805</td><td>1.530</td><td>1.970</td><td>0.440</td><td>0.408</td><td>1.950</td><td>0.671</td><td>0.123</td><td>0.251</td></tr>\n",
       "\t<tr><td>160</td><td>Mirror</td><td>RTsec</td><td>29</td><td>0.92</td><td>2.64</td><td>1.330</td><td>1.120</td><td>1.740</td><td>0.620</td><td>0.430</td><td>1.480</td><td>0.412</td><td>0.076</td><td>0.157</td></tr>\n",
       "\t<tr><td>160</td><td>Same--</td><td>RTsec</td><td>31</td><td>0.94</td><td>3.45</td><td>1.550</td><td>1.380</td><td>2.030</td><td>0.650</td><td>0.326</td><td>1.734</td><td>0.533</td><td>0.096</td><td>0.195</td></tr>\n",
       "\t<tr><td>180</td><td>Mirror</td><td>RTsec</td><td>30</td><td>0.92</td><td>4.44</td><td>1.480</td><td>1.330</td><td>1.915</td><td>0.585</td><td>0.460</td><td>1.709</td><td>0.769</td><td>0.140</td><td>0.287</td></tr>\n",
       "\t<tr><td>180</td><td>Same--</td><td>RTsec</td><td>30</td><td>1.03</td><td>3.30</td><td>1.940</td><td>1.620</td><td>2.365</td><td>0.745</td><td>0.541</td><td>2.036</td><td>0.615</td><td>0.112</td><td>0.230</td></tr>\n",
       "</tbody>\n",
       "</table>\n"
      ],
      "text/latex": [
       "A tibble: 20 × 15\n",
       "\\begin{tabular}{lllllllllllllll}\n",
       " Angle & Stimulus & variable & n & min & max & median & q1 & q3 & iqr & mad & mean & sd & se & ci\\\\\n",
       " <int> & <chr> & <fct> & <dbl> & <dbl> & <dbl> & <dbl> & <dbl> & <dbl> & <dbl> & <dbl> & <dbl> & <dbl> & <dbl> & <dbl>\\\\\n",
       "\\hline\n",
       "\t   0 & Mirror & RTsec & 30 & 0.81 & 3.45 & 1.530 & 1.145 & 1.830 & 0.685 & 0.534 & 1.662 & 0.637 & 0.116 & 0.238\\\\\n",
       "\t   0 & Same-- & RTsec & 30 & 0.73 & 2.33 & 1.015 & 0.830 & 1.240 & 0.410 & 0.274 & 1.154 & 0.429 & 0.078 & 0.160\\\\\n",
       "\t  20 & Mirror & RTsec & 30 & 0.83 & 2.14 & 1.430 & 1.232 & 1.830 & 0.598 & 0.460 & 1.510 & 0.372 & 0.068 & 0.139\\\\\n",
       "\t  20 & Same-- & RTsec & 30 & 0.72 & 1.83 & 1.120 & 0.920 & 1.195 & 0.275 & 0.297 & 1.086 & 0.243 & 0.044 & 0.091\\\\\n",
       "\t  40 & Mirror & RTsec & 30 & 0.92 & 3.30 & 1.485 & 1.145 & 1.845 & 0.700 & 0.541 & 1.571 & 0.552 & 0.101 & 0.206\\\\\n",
       "\t  40 & Same-- & RTsec & 30 & 0.72 & 2.55 & 1.330 & 0.945 & 1.598 & 0.653 & 0.519 & 1.371 & 0.448 & 0.082 & 0.167\\\\\n",
       "\t  60 & Mirror & RTsec & 30 & 0.83 & 3.83 & 1.575 & 1.232 & 1.838 & 0.605 & 0.445 & 1.683 & 0.734 & 0.134 & 0.274\\\\\n",
       "\t  60 & Same-- & RTsec & 30 & 0.72 & 2.95 & 1.575 & 1.160 & 2.007 & 0.847 & 0.675 & 1.644 & 0.553 & 0.101 & 0.207\\\\\n",
       "\t  80 & Mirror & RTsec & 30 & 0.83 & 4.12 & 1.525 & 1.220 & 1.840 & 0.620 & 0.467 & 1.611 & 0.638 & 0.117 & 0.238\\\\\n",
       "\t  80 & Same-- & RTsec & 30 & 0.83 & 3.98 & 1.530 & 1.223 & 1.913 & 0.690 & 0.460 & 1.700 & 0.760 & 0.139 & 0.284\\\\\n",
       "\t 100 & Mirror & RTsec & 29 & 0.92 & 4.20 & 1.530 & 1.230 & 2.140 & 0.910 & 0.608 & 1.784 & 0.784 & 0.146 & 0.298\\\\\n",
       "\t 100 & Same-- & RTsec & 31 & 0.92 & 2.84 & 1.620 & 1.330 & 2.185 & 0.855 & 0.578 & 1.697 & 0.525 & 0.094 & 0.193\\\\\n",
       "\t 120 & Mirror & RTsec & 30 & 0.92 & 3.75 & 1.330 & 1.145 & 1.808 & 0.663 & 0.445 & 1.584 & 0.643 & 0.117 & 0.240\\\\\n",
       "\t 120 & Same-- & RTsec & 30 & 0.92 & 4.16 & 1.685 & 1.352 & 2.045 & 0.692 & 0.526 & 1.876 & 0.789 & 0.144 & 0.294\\\\\n",
       "\t 140 & Mirror & RTsec & 30 & 0.92 & 3.34 & 1.475 & 1.160 & 1.913 & 0.753 & 0.593 & 1.643 & 0.664 & 0.121 & 0.248\\\\\n",
       "\t 140 & Same-- & RTsec & 30 & 1.02 & 4.42 & 1.805 & 1.530 & 1.970 & 0.440 & 0.408 & 1.950 & 0.671 & 0.123 & 0.251\\\\\n",
       "\t 160 & Mirror & RTsec & 29 & 0.92 & 2.64 & 1.330 & 1.120 & 1.740 & 0.620 & 0.430 & 1.480 & 0.412 & 0.076 & 0.157\\\\\n",
       "\t 160 & Same-- & RTsec & 31 & 0.94 & 3.45 & 1.550 & 1.380 & 2.030 & 0.650 & 0.326 & 1.734 & 0.533 & 0.096 & 0.195\\\\\n",
       "\t 180 & Mirror & RTsec & 30 & 0.92 & 4.44 & 1.480 & 1.330 & 1.915 & 0.585 & 0.460 & 1.709 & 0.769 & 0.140 & 0.287\\\\\n",
       "\t 180 & Same-- & RTsec & 30 & 1.03 & 3.30 & 1.940 & 1.620 & 2.365 & 0.745 & 0.541 & 2.036 & 0.615 & 0.112 & 0.230\\\\\n",
       "\\end{tabular}\n"
      ],
      "text/markdown": [
       "\n",
       "A tibble: 20 × 15\n",
       "\n",
       "| Angle &lt;int&gt; | Stimulus &lt;chr&gt; | variable &lt;fct&gt; | n &lt;dbl&gt; | min &lt;dbl&gt; | max &lt;dbl&gt; | median &lt;dbl&gt; | q1 &lt;dbl&gt; | q3 &lt;dbl&gt; | iqr &lt;dbl&gt; | mad &lt;dbl&gt; | mean &lt;dbl&gt; | sd &lt;dbl&gt; | se &lt;dbl&gt; | ci &lt;dbl&gt; |\n",
       "|---|---|---|---|---|---|---|---|---|---|---|---|---|---|---|\n",
       "|   0 | Mirror | RTsec | 30 | 0.81 | 3.45 | 1.530 | 1.145 | 1.830 | 0.685 | 0.534 | 1.662 | 0.637 | 0.116 | 0.238 |\n",
       "|   0 | Same-- | RTsec | 30 | 0.73 | 2.33 | 1.015 | 0.830 | 1.240 | 0.410 | 0.274 | 1.154 | 0.429 | 0.078 | 0.160 |\n",
       "|  20 | Mirror | RTsec | 30 | 0.83 | 2.14 | 1.430 | 1.232 | 1.830 | 0.598 | 0.460 | 1.510 | 0.372 | 0.068 | 0.139 |\n",
       "|  20 | Same-- | RTsec | 30 | 0.72 | 1.83 | 1.120 | 0.920 | 1.195 | 0.275 | 0.297 | 1.086 | 0.243 | 0.044 | 0.091 |\n",
       "|  40 | Mirror | RTsec | 30 | 0.92 | 3.30 | 1.485 | 1.145 | 1.845 | 0.700 | 0.541 | 1.571 | 0.552 | 0.101 | 0.206 |\n",
       "|  40 | Same-- | RTsec | 30 | 0.72 | 2.55 | 1.330 | 0.945 | 1.598 | 0.653 | 0.519 | 1.371 | 0.448 | 0.082 | 0.167 |\n",
       "|  60 | Mirror | RTsec | 30 | 0.83 | 3.83 | 1.575 | 1.232 | 1.838 | 0.605 | 0.445 | 1.683 | 0.734 | 0.134 | 0.274 |\n",
       "|  60 | Same-- | RTsec | 30 | 0.72 | 2.95 | 1.575 | 1.160 | 2.007 | 0.847 | 0.675 | 1.644 | 0.553 | 0.101 | 0.207 |\n",
       "|  80 | Mirror | RTsec | 30 | 0.83 | 4.12 | 1.525 | 1.220 | 1.840 | 0.620 | 0.467 | 1.611 | 0.638 | 0.117 | 0.238 |\n",
       "|  80 | Same-- | RTsec | 30 | 0.83 | 3.98 | 1.530 | 1.223 | 1.913 | 0.690 | 0.460 | 1.700 | 0.760 | 0.139 | 0.284 |\n",
       "| 100 | Mirror | RTsec | 29 | 0.92 | 4.20 | 1.530 | 1.230 | 2.140 | 0.910 | 0.608 | 1.784 | 0.784 | 0.146 | 0.298 |\n",
       "| 100 | Same-- | RTsec | 31 | 0.92 | 2.84 | 1.620 | 1.330 | 2.185 | 0.855 | 0.578 | 1.697 | 0.525 | 0.094 | 0.193 |\n",
       "| 120 | Mirror | RTsec | 30 | 0.92 | 3.75 | 1.330 | 1.145 | 1.808 | 0.663 | 0.445 | 1.584 | 0.643 | 0.117 | 0.240 |\n",
       "| 120 | Same-- | RTsec | 30 | 0.92 | 4.16 | 1.685 | 1.352 | 2.045 | 0.692 | 0.526 | 1.876 | 0.789 | 0.144 | 0.294 |\n",
       "| 140 | Mirror | RTsec | 30 | 0.92 | 3.34 | 1.475 | 1.160 | 1.913 | 0.753 | 0.593 | 1.643 | 0.664 | 0.121 | 0.248 |\n",
       "| 140 | Same-- | RTsec | 30 | 1.02 | 4.42 | 1.805 | 1.530 | 1.970 | 0.440 | 0.408 | 1.950 | 0.671 | 0.123 | 0.251 |\n",
       "| 160 | Mirror | RTsec | 29 | 0.92 | 2.64 | 1.330 | 1.120 | 1.740 | 0.620 | 0.430 | 1.480 | 0.412 | 0.076 | 0.157 |\n",
       "| 160 | Same-- | RTsec | 31 | 0.94 | 3.45 | 1.550 | 1.380 | 2.030 | 0.650 | 0.326 | 1.734 | 0.533 | 0.096 | 0.195 |\n",
       "| 180 | Mirror | RTsec | 30 | 0.92 | 4.44 | 1.480 | 1.330 | 1.915 | 0.585 | 0.460 | 1.709 | 0.769 | 0.140 | 0.287 |\n",
       "| 180 | Same-- | RTsec | 30 | 1.03 | 3.30 | 1.940 | 1.620 | 2.365 | 0.745 | 0.541 | 2.036 | 0.615 | 0.112 | 0.230 |\n",
       "\n"
      ],
      "text/plain": [
       "   Angle Stimulus variable n  min  max  median q1    q3    iqr   mad   mean \n",
       "1    0   Mirror   RTsec    30 0.81 3.45 1.530  1.145 1.830 0.685 0.534 1.662\n",
       "2    0   Same--   RTsec    30 0.73 2.33 1.015  0.830 1.240 0.410 0.274 1.154\n",
       "3   20   Mirror   RTsec    30 0.83 2.14 1.430  1.232 1.830 0.598 0.460 1.510\n",
       "4   20   Same--   RTsec    30 0.72 1.83 1.120  0.920 1.195 0.275 0.297 1.086\n",
       "5   40   Mirror   RTsec    30 0.92 3.30 1.485  1.145 1.845 0.700 0.541 1.571\n",
       "6   40   Same--   RTsec    30 0.72 2.55 1.330  0.945 1.598 0.653 0.519 1.371\n",
       "7   60   Mirror   RTsec    30 0.83 3.83 1.575  1.232 1.838 0.605 0.445 1.683\n",
       "8   60   Same--   RTsec    30 0.72 2.95 1.575  1.160 2.007 0.847 0.675 1.644\n",
       "9   80   Mirror   RTsec    30 0.83 4.12 1.525  1.220 1.840 0.620 0.467 1.611\n",
       "10  80   Same--   RTsec    30 0.83 3.98 1.530  1.223 1.913 0.690 0.460 1.700\n",
       "11 100   Mirror   RTsec    29 0.92 4.20 1.530  1.230 2.140 0.910 0.608 1.784\n",
       "12 100   Same--   RTsec    31 0.92 2.84 1.620  1.330 2.185 0.855 0.578 1.697\n",
       "13 120   Mirror   RTsec    30 0.92 3.75 1.330  1.145 1.808 0.663 0.445 1.584\n",
       "14 120   Same--   RTsec    30 0.92 4.16 1.685  1.352 2.045 0.692 0.526 1.876\n",
       "15 140   Mirror   RTsec    30 0.92 3.34 1.475  1.160 1.913 0.753 0.593 1.643\n",
       "16 140   Same--   RTsec    30 1.02 4.42 1.805  1.530 1.970 0.440 0.408 1.950\n",
       "17 160   Mirror   RTsec    29 0.92 2.64 1.330  1.120 1.740 0.620 0.430 1.480\n",
       "18 160   Same--   RTsec    31 0.94 3.45 1.550  1.380 2.030 0.650 0.326 1.734\n",
       "19 180   Mirror   RTsec    30 0.92 4.44 1.480  1.330 1.915 0.585 0.460 1.709\n",
       "20 180   Same--   RTsec    30 1.03 3.30 1.940  1.620 2.365 0.745 0.541 2.036\n",
       "   sd    se    ci   \n",
       "1  0.637 0.116 0.238\n",
       "2  0.429 0.078 0.160\n",
       "3  0.372 0.068 0.139\n",
       "4  0.243 0.044 0.091\n",
       "5  0.552 0.101 0.206\n",
       "6  0.448 0.082 0.167\n",
       "7  0.734 0.134 0.274\n",
       "8  0.553 0.101 0.207\n",
       "9  0.638 0.117 0.238\n",
       "10 0.760 0.139 0.284\n",
       "11 0.784 0.146 0.298\n",
       "12 0.525 0.094 0.193\n",
       "13 0.643 0.117 0.240\n",
       "14 0.789 0.144 0.294\n",
       "15 0.664 0.121 0.248\n",
       "16 0.671 0.123 0.251\n",
       "17 0.412 0.076 0.157\n",
       "18 0.533 0.096 0.195\n",
       "19 0.769 0.140 0.287\n",
       "20 0.615 0.112 0.230"
      ]
     },
     "metadata": {},
     "output_type": "display_data"
    }
   ],
   "source": [
    "data %>% group_by(Angle,Stimulus) %>% get_summary_stats(RTsec)"
   ]
  },
  {
   "cell_type": "markdown",
   "metadata": {},
   "source": [
    "داده های ارائه شده در جدول، خلاصه آماری زمان پاسخ را بر حسب ثانیه برای دو محرک مختلف (آینه ای و همسان) در زوایای مختلف (0 تا 180 درجه) نشان می دهد. داده ها شامل تعداد مشاهدات، مقادیر حداقل و حداکثر، میانه، چارک اول و سوم، محدوده بین چارکی ، انحراف مطلق میانه ، میانگین، انحراف معیار ، خطای استاندارد و فاصله اطمینان هستند .\n",
    "\n",
    "به طور کلی، میانگین زمان پاسخ برای هر دو محرک با افزایش زاویه از 0 به 180 درجه افزایش یافته ست. برای محرک آینه ای، میانگین زمان پاسخ از 1.662 ثانیه در 0 درجه تا 1.784 ثانیه در 100 درجه متغیر است. برای محرک همسان، میانگین زمان پاسخ از 1.086 ثانیه در 20 درجه تا 2.036 ثانیه در 180 درجه متغیر است.\n",
    "\n",
    "انحراف معیار نیز با افزایش زاویه برای هر دو محرک افزایش یافت. این امر نشان می دهد که تنوع زمان پاسخ ها با دشوارتر شدن تکلیف با افزایش زوایا افزایش می یابد.\n",
    "\n",
    "میانه زمانهای پاسخ به طور کلی شبیه به میانگین زمان های پاسخ است، که نشان می دهد داده ها دارای انحراف نیستند. مقادیر محدوده بین چارکی و انحراف مطلق میانه نیز با این مشاهدات سازگار است.\n",
    "\n",
    "مقادیر خطای استاندارد و فاصله اطمینان اطلاعاتی را در مورد دقت میانگین تخمین ها ارائه می دهند. هر چه خطای استاندارد کوچکتر و فاصله اطمینان باریکتر باشد، تخمین دقیق تر است. به طور کلی، مقادیر حطای استاندارد و فاصله اطمینان نسبتا کوچک بودند، که نشان می‌دهد میانگین تخمین‌ها دقیق اند.\n",
    "\n",
    "به طور کلی، خلاصه آماری داده ها نشان می دهد که زاویه تاثیر مشهودی بر روی زمان پاسخ برای هر دو محرک دارد."
   ]
  },
  {
   "cell_type": "markdown",
   "metadata": {},
   "source": [
    "## 5.Does this data include outliers? Should they be removed? How? Remove them if necessary.\n"
   ]
  },
  {
   "cell_type": "code",
   "execution_count": 634,
   "metadata": {
    "scrolled": true
   },
   "outputs": [
    {
     "data": {
      "text/html": [
       "<table class=\"dataframe\">\n",
       "<caption>A tibble: 28 × 9</caption>\n",
       "<thead>\n",
       "\t<tr><th scope=col>Angle</th><th scope=col>Stimulus</th><th scope=col>Trial</th><th scope=col>Response</th><th scope=col>RTmsec</th><th scope=col>Accuracy</th><th scope=col>RTsec</th><th scope=col>is.outlier</th><th scope=col>is.extreme</th></tr>\n",
       "\t<tr><th scope=col>&lt;int&gt;</th><th scope=col>&lt;chr&gt;</th><th scope=col>&lt;int&gt;</th><th scope=col>&lt;chr&gt;</th><th scope=col>&lt;int&gt;</th><th scope=col>&lt;int&gt;</th><th scope=col>&lt;dbl&gt;</th><th scope=col>&lt;lgl&gt;</th><th scope=col>&lt;lgl&gt;</th></tr>\n",
       "</thead>\n",
       "<tbody>\n",
       "\t<tr><td>  0</td><td>Mirror</td><td>179</td><td>Same--</td><td>3453</td><td>0</td><td>3.45</td><td>TRUE</td><td>FALSE</td></tr>\n",
       "\t<tr><td>  0</td><td>Mirror</td><td>190</td><td>Mirror</td><td>3047</td><td>1</td><td>3.05</td><td>TRUE</td><td>FALSE</td></tr>\n",
       "\t<tr><td>  0</td><td>Same--</td><td> 23</td><td>Same--</td><td>2047</td><td>1</td><td>2.05</td><td>TRUE</td><td>FALSE</td></tr>\n",
       "\t<tr><td>  0</td><td>Same--</td><td> 39</td><td>Same--</td><td>2125</td><td>1</td><td>2.12</td><td>TRUE</td><td>FALSE</td></tr>\n",
       "\t<tr><td>  0</td><td>Same--</td><td>217</td><td>Same--</td><td>2328</td><td>1</td><td>2.33</td><td>TRUE</td><td>FALSE</td></tr>\n",
       "\t<tr><td> 20</td><td>Same--</td><td>254</td><td>Same--</td><td>1828</td><td>1</td><td>1.83</td><td>TRUE</td><td>FALSE</td></tr>\n",
       "\t<tr><td> 40</td><td>Mirror</td><td>  9</td><td>Mirror</td><td>3297</td><td>1</td><td>3.30</td><td>TRUE</td><td>FALSE</td></tr>\n",
       "\t<tr><td> 40</td><td>Mirror</td><td> 13</td><td>Mirror</td><td>3000</td><td>1</td><td>3.00</td><td>TRUE</td><td>FALSE</td></tr>\n",
       "\t<tr><td> 60</td><td>Mirror</td><td> 19</td><td>Mirror</td><td>3828</td><td>1</td><td>3.83</td><td>TRUE</td><td> TRUE</td></tr>\n",
       "\t<tr><td> 60</td><td>Mirror</td><td> 21</td><td>Mirror</td><td>3469</td><td>1</td><td>3.47</td><td>TRUE</td><td>FALSE</td></tr>\n",
       "\t<tr><td> 60</td><td>Mirror</td><td>112</td><td>Mirror</td><td>3266</td><td>1</td><td>3.27</td><td>TRUE</td><td>FALSE</td></tr>\n",
       "\t<tr><td> 80</td><td>Mirror</td><td> 90</td><td>Mirror</td><td>4125</td><td>1</td><td>4.12</td><td>TRUE</td><td> TRUE</td></tr>\n",
       "\t<tr><td> 80</td><td>Same--</td><td>155</td><td>Same--</td><td>3906</td><td>1</td><td>3.91</td><td>TRUE</td><td>FALSE</td></tr>\n",
       "\t<tr><td> 80</td><td>Same--</td><td>199</td><td>Same--</td><td>3985</td><td>1</td><td>3.98</td><td>TRUE</td><td>FALSE</td></tr>\n",
       "\t<tr><td>100</td><td>Mirror</td><td> 18</td><td>Mirror</td><td>4204</td><td>1</td><td>4.20</td><td>TRUE</td><td>FALSE</td></tr>\n",
       "\t<tr><td>120</td><td>Mirror</td><td>517</td><td>Mirror</td><td>3750</td><td>1</td><td>3.75</td><td>TRUE</td><td>FALSE</td></tr>\n",
       "\t<tr><td>120</td><td>Same--</td><td> 64</td><td>Same--</td><td>3859</td><td>1</td><td>3.86</td><td>TRUE</td><td>FALSE</td></tr>\n",
       "\t<tr><td>120</td><td>Same--</td><td>180</td><td>Same--</td><td>4156</td><td>1</td><td>4.16</td><td>TRUE</td><td> TRUE</td></tr>\n",
       "\t<tr><td>120</td><td>Same--</td><td>237</td><td>Mirror</td><td>3172</td><td>0</td><td>3.17</td><td>TRUE</td><td>FALSE</td></tr>\n",
       "\t<tr><td>140</td><td>Mirror</td><td>202</td><td>Same--</td><td>3344</td><td>0</td><td>3.34</td><td>TRUE</td><td>FALSE</td></tr>\n",
       "\t<tr><td>140</td><td>Same--</td><td>  1</td><td>Same--</td><td>4422</td><td>1</td><td>4.42</td><td>TRUE</td><td> TRUE</td></tr>\n",
       "\t<tr><td>140</td><td>Same--</td><td> 41</td><td>Same--</td><td>2750</td><td>1</td><td>2.75</td><td>TRUE</td><td>FALSE</td></tr>\n",
       "\t<tr><td>140</td><td>Same--</td><td>127</td><td>Same--</td><td>2750</td><td>1</td><td>2.75</td><td>TRUE</td><td>FALSE</td></tr>\n",
       "\t<tr><td>140</td><td>Same--</td><td>209</td><td>Mirror</td><td>2954</td><td>0</td><td>2.95</td><td>TRUE</td><td>FALSE</td></tr>\n",
       "\t<tr><td>140</td><td>Same--</td><td>455</td><td>Same--</td><td>2843</td><td>1</td><td>2.84</td><td>TRUE</td><td>FALSE</td></tr>\n",
       "\t<tr><td>160</td><td>Same--</td><td> 12</td><td>Same--</td><td>3453</td><td>1</td><td>3.45</td><td>TRUE</td><td>FALSE</td></tr>\n",
       "\t<tr><td>180</td><td>Mirror</td><td> 14</td><td>Mirror</td><td>4437</td><td>1</td><td>4.44</td><td>TRUE</td><td> TRUE</td></tr>\n",
       "\t<tr><td>180</td><td>Mirror</td><td> 34</td><td>Mirror</td><td>3453</td><td>1</td><td>3.45</td><td>TRUE</td><td>FALSE</td></tr>\n",
       "</tbody>\n",
       "</table>\n"
      ],
      "text/latex": [
       "A tibble: 28 × 9\n",
       "\\begin{tabular}{lllllllll}\n",
       " Angle & Stimulus & Trial & Response & RTmsec & Accuracy & RTsec & is.outlier & is.extreme\\\\\n",
       " <int> & <chr> & <int> & <chr> & <int> & <int> & <dbl> & <lgl> & <lgl>\\\\\n",
       "\\hline\n",
       "\t   0 & Mirror & 179 & Same-- & 3453 & 0 & 3.45 & TRUE & FALSE\\\\\n",
       "\t   0 & Mirror & 190 & Mirror & 3047 & 1 & 3.05 & TRUE & FALSE\\\\\n",
       "\t   0 & Same-- &  23 & Same-- & 2047 & 1 & 2.05 & TRUE & FALSE\\\\\n",
       "\t   0 & Same-- &  39 & Same-- & 2125 & 1 & 2.12 & TRUE & FALSE\\\\\n",
       "\t   0 & Same-- & 217 & Same-- & 2328 & 1 & 2.33 & TRUE & FALSE\\\\\n",
       "\t  20 & Same-- & 254 & Same-- & 1828 & 1 & 1.83 & TRUE & FALSE\\\\\n",
       "\t  40 & Mirror &   9 & Mirror & 3297 & 1 & 3.30 & TRUE & FALSE\\\\\n",
       "\t  40 & Mirror &  13 & Mirror & 3000 & 1 & 3.00 & TRUE & FALSE\\\\\n",
       "\t  60 & Mirror &  19 & Mirror & 3828 & 1 & 3.83 & TRUE &  TRUE\\\\\n",
       "\t  60 & Mirror &  21 & Mirror & 3469 & 1 & 3.47 & TRUE & FALSE\\\\\n",
       "\t  60 & Mirror & 112 & Mirror & 3266 & 1 & 3.27 & TRUE & FALSE\\\\\n",
       "\t  80 & Mirror &  90 & Mirror & 4125 & 1 & 4.12 & TRUE &  TRUE\\\\\n",
       "\t  80 & Same-- & 155 & Same-- & 3906 & 1 & 3.91 & TRUE & FALSE\\\\\n",
       "\t  80 & Same-- & 199 & Same-- & 3985 & 1 & 3.98 & TRUE & FALSE\\\\\n",
       "\t 100 & Mirror &  18 & Mirror & 4204 & 1 & 4.20 & TRUE & FALSE\\\\\n",
       "\t 120 & Mirror & 517 & Mirror & 3750 & 1 & 3.75 & TRUE & FALSE\\\\\n",
       "\t 120 & Same-- &  64 & Same-- & 3859 & 1 & 3.86 & TRUE & FALSE\\\\\n",
       "\t 120 & Same-- & 180 & Same-- & 4156 & 1 & 4.16 & TRUE &  TRUE\\\\\n",
       "\t 120 & Same-- & 237 & Mirror & 3172 & 0 & 3.17 & TRUE & FALSE\\\\\n",
       "\t 140 & Mirror & 202 & Same-- & 3344 & 0 & 3.34 & TRUE & FALSE\\\\\n",
       "\t 140 & Same-- &   1 & Same-- & 4422 & 1 & 4.42 & TRUE &  TRUE\\\\\n",
       "\t 140 & Same-- &  41 & Same-- & 2750 & 1 & 2.75 & TRUE & FALSE\\\\\n",
       "\t 140 & Same-- & 127 & Same-- & 2750 & 1 & 2.75 & TRUE & FALSE\\\\\n",
       "\t 140 & Same-- & 209 & Mirror & 2954 & 0 & 2.95 & TRUE & FALSE\\\\\n",
       "\t 140 & Same-- & 455 & Same-- & 2843 & 1 & 2.84 & TRUE & FALSE\\\\\n",
       "\t 160 & Same-- &  12 & Same-- & 3453 & 1 & 3.45 & TRUE & FALSE\\\\\n",
       "\t 180 & Mirror &  14 & Mirror & 4437 & 1 & 4.44 & TRUE &  TRUE\\\\\n",
       "\t 180 & Mirror &  34 & Mirror & 3453 & 1 & 3.45 & TRUE & FALSE\\\\\n",
       "\\end{tabular}\n"
      ],
      "text/markdown": [
       "\n",
       "A tibble: 28 × 9\n",
       "\n",
       "| Angle &lt;int&gt; | Stimulus &lt;chr&gt; | Trial &lt;int&gt; | Response &lt;chr&gt; | RTmsec &lt;int&gt; | Accuracy &lt;int&gt; | RTsec &lt;dbl&gt; | is.outlier &lt;lgl&gt; | is.extreme &lt;lgl&gt; |\n",
       "|---|---|---|---|---|---|---|---|---|\n",
       "|   0 | Mirror | 179 | Same-- | 3453 | 0 | 3.45 | TRUE | FALSE |\n",
       "|   0 | Mirror | 190 | Mirror | 3047 | 1 | 3.05 | TRUE | FALSE |\n",
       "|   0 | Same-- |  23 | Same-- | 2047 | 1 | 2.05 | TRUE | FALSE |\n",
       "|   0 | Same-- |  39 | Same-- | 2125 | 1 | 2.12 | TRUE | FALSE |\n",
       "|   0 | Same-- | 217 | Same-- | 2328 | 1 | 2.33 | TRUE | FALSE |\n",
       "|  20 | Same-- | 254 | Same-- | 1828 | 1 | 1.83 | TRUE | FALSE |\n",
       "|  40 | Mirror |   9 | Mirror | 3297 | 1 | 3.30 | TRUE | FALSE |\n",
       "|  40 | Mirror |  13 | Mirror | 3000 | 1 | 3.00 | TRUE | FALSE |\n",
       "|  60 | Mirror |  19 | Mirror | 3828 | 1 | 3.83 | TRUE |  TRUE |\n",
       "|  60 | Mirror |  21 | Mirror | 3469 | 1 | 3.47 | TRUE | FALSE |\n",
       "|  60 | Mirror | 112 | Mirror | 3266 | 1 | 3.27 | TRUE | FALSE |\n",
       "|  80 | Mirror |  90 | Mirror | 4125 | 1 | 4.12 | TRUE |  TRUE |\n",
       "|  80 | Same-- | 155 | Same-- | 3906 | 1 | 3.91 | TRUE | FALSE |\n",
       "|  80 | Same-- | 199 | Same-- | 3985 | 1 | 3.98 | TRUE | FALSE |\n",
       "| 100 | Mirror |  18 | Mirror | 4204 | 1 | 4.20 | TRUE | FALSE |\n",
       "| 120 | Mirror | 517 | Mirror | 3750 | 1 | 3.75 | TRUE | FALSE |\n",
       "| 120 | Same-- |  64 | Same-- | 3859 | 1 | 3.86 | TRUE | FALSE |\n",
       "| 120 | Same-- | 180 | Same-- | 4156 | 1 | 4.16 | TRUE |  TRUE |\n",
       "| 120 | Same-- | 237 | Mirror | 3172 | 0 | 3.17 | TRUE | FALSE |\n",
       "| 140 | Mirror | 202 | Same-- | 3344 | 0 | 3.34 | TRUE | FALSE |\n",
       "| 140 | Same-- |   1 | Same-- | 4422 | 1 | 4.42 | TRUE |  TRUE |\n",
       "| 140 | Same-- |  41 | Same-- | 2750 | 1 | 2.75 | TRUE | FALSE |\n",
       "| 140 | Same-- | 127 | Same-- | 2750 | 1 | 2.75 | TRUE | FALSE |\n",
       "| 140 | Same-- | 209 | Mirror | 2954 | 0 | 2.95 | TRUE | FALSE |\n",
       "| 140 | Same-- | 455 | Same-- | 2843 | 1 | 2.84 | TRUE | FALSE |\n",
       "| 160 | Same-- |  12 | Same-- | 3453 | 1 | 3.45 | TRUE | FALSE |\n",
       "| 180 | Mirror |  14 | Mirror | 4437 | 1 | 4.44 | TRUE |  TRUE |\n",
       "| 180 | Mirror |  34 | Mirror | 3453 | 1 | 3.45 | TRUE | FALSE |\n",
       "\n"
      ],
      "text/plain": [
       "   Angle Stimulus Trial Response RTmsec Accuracy RTsec is.outlier is.extreme\n",
       "1    0   Mirror   179   Same--   3453   0        3.45  TRUE       FALSE     \n",
       "2    0   Mirror   190   Mirror   3047   1        3.05  TRUE       FALSE     \n",
       "3    0   Same--    23   Same--   2047   1        2.05  TRUE       FALSE     \n",
       "4    0   Same--    39   Same--   2125   1        2.12  TRUE       FALSE     \n",
       "5    0   Same--   217   Same--   2328   1        2.33  TRUE       FALSE     \n",
       "6   20   Same--   254   Same--   1828   1        1.83  TRUE       FALSE     \n",
       "7   40   Mirror     9   Mirror   3297   1        3.30  TRUE       FALSE     \n",
       "8   40   Mirror    13   Mirror   3000   1        3.00  TRUE       FALSE     \n",
       "9   60   Mirror    19   Mirror   3828   1        3.83  TRUE        TRUE     \n",
       "10  60   Mirror    21   Mirror   3469   1        3.47  TRUE       FALSE     \n",
       "11  60   Mirror   112   Mirror   3266   1        3.27  TRUE       FALSE     \n",
       "12  80   Mirror    90   Mirror   4125   1        4.12  TRUE        TRUE     \n",
       "13  80   Same--   155   Same--   3906   1        3.91  TRUE       FALSE     \n",
       "14  80   Same--   199   Same--   3985   1        3.98  TRUE       FALSE     \n",
       "15 100   Mirror    18   Mirror   4204   1        4.20  TRUE       FALSE     \n",
       "16 120   Mirror   517   Mirror   3750   1        3.75  TRUE       FALSE     \n",
       "17 120   Same--    64   Same--   3859   1        3.86  TRUE       FALSE     \n",
       "18 120   Same--   180   Same--   4156   1        4.16  TRUE        TRUE     \n",
       "19 120   Same--   237   Mirror   3172   0        3.17  TRUE       FALSE     \n",
       "20 140   Mirror   202   Same--   3344   0        3.34  TRUE       FALSE     \n",
       "21 140   Same--     1   Same--   4422   1        4.42  TRUE        TRUE     \n",
       "22 140   Same--    41   Same--   2750   1        2.75  TRUE       FALSE     \n",
       "23 140   Same--   127   Same--   2750   1        2.75  TRUE       FALSE     \n",
       "24 140   Same--   209   Mirror   2954   0        2.95  TRUE       FALSE     \n",
       "25 140   Same--   455   Same--   2843   1        2.84  TRUE       FALSE     \n",
       "26 160   Same--    12   Same--   3453   1        3.45  TRUE       FALSE     \n",
       "27 180   Mirror    14   Mirror   4437   1        4.44  TRUE        TRUE     \n",
       "28 180   Mirror    34   Mirror   3453   1        3.45  TRUE       FALSE     "
      ]
     },
     "metadata": {},
     "output_type": "display_data"
    }
   ],
   "source": [
    "data %>% group_by(Angle,Stimulus) %>% identify_outliers(RTsec)"
   ]
  },
  {
   "cell_type": "markdown",
   "metadata": {},
   "source": [
    "تنها مقادیر بیشینه ی آوتلایر از داده ها حذف شدند."
   ]
  },
  {
   "cell_type": "code",
   "execution_count": 827,
   "metadata": {},
   "outputs": [
    {
     "data": {
      "text/html": [
       "<table class=\"dataframe\">\n",
       "<caption>A data.frame: 595 × 8</caption>\n",
       "<thead>\n",
       "\t<tr><th></th><th scope=col>Trial</th><th scope=col>Angle</th><th scope=col>Stimulus</th><th scope=col>Response</th><th scope=col>RTmsec</th><th scope=col>Accuracy</th><th scope=col>RTsec</th><th scope=col>RTsec_sorted</th></tr>\n",
       "\t<tr><th></th><th scope=col>&lt;int&gt;</th><th scope=col>&lt;int&gt;</th><th scope=col>&lt;chr&gt;</th><th scope=col>&lt;chr&gt;</th><th scope=col>&lt;int&gt;</th><th scope=col>&lt;int&gt;</th><th scope=col>&lt;dbl&gt;</th><th scope=col>&lt;dbl&gt;</th></tr>\n",
       "</thead>\n",
       "<tbody>\n",
       "\t<tr><th scope=row>2</th><td> 2</td><td> 60</td><td>Same--</td><td>Same--</td><td>1750</td><td>1</td><td>1.75</td><td>0.72</td></tr>\n",
       "\t<tr><th scope=row>3</th><td> 3</td><td>180</td><td>Mirror</td><td>Mirror</td><td>1437</td><td>1</td><td>1.44</td><td>0.72</td></tr>\n",
       "\t<tr><th scope=row>4</th><td> 4</td><td>100</td><td>Mirror</td><td>Same--</td><td>1735</td><td>0</td><td>1.74</td><td>0.72</td></tr>\n",
       "\t<tr><th scope=row>5</th><td> 5</td><td>160</td><td>Mirror</td><td>Mirror</td><td>1937</td><td>1</td><td>1.94</td><td>0.72</td></tr>\n",
       "\t<tr><th scope=row>6</th><td> 6</td><td>180</td><td>Mirror</td><td>Mirror</td><td>1422</td><td>1</td><td>1.42</td><td>0.73</td></tr>\n",
       "\t<tr><th scope=row>7</th><td> 7</td><td>180</td><td>Mirror</td><td>Mirror</td><td>1937</td><td>1</td><td>1.94</td><td>0.73</td></tr>\n",
       "\t<tr><th scope=row>8</th><td> 8</td><td>  0</td><td>Same--</td><td>Same--</td><td>1235</td><td>1</td><td>1.24</td><td>0.81</td></tr>\n",
       "\t<tr><th scope=row>9</th><td> 9</td><td> 40</td><td>Mirror</td><td>Mirror</td><td>3297</td><td>1</td><td>3.30</td><td>0.81</td></tr>\n",
       "\t<tr><th scope=row>10</th><td>10</td><td>140</td><td>Same--</td><td>Same--</td><td>1984</td><td>1</td><td>1.98</td><td>0.81</td></tr>\n",
       "\t<tr><th scope=row>11</th><td>11</td><td> 60</td><td>Mirror</td><td>Mirror</td><td>1844</td><td>1</td><td>1.84</td><td>0.81</td></tr>\n",
       "\t<tr><th scope=row>12</th><td>12</td><td>160</td><td>Same--</td><td>Same--</td><td>3453</td><td>1</td><td>3.45</td><td>0.81</td></tr>\n",
       "\t<tr><th scope=row>13</th><td>13</td><td> 40</td><td>Mirror</td><td>Mirror</td><td>3000</td><td>1</td><td>3.00</td><td>0.83</td></tr>\n",
       "\t<tr><th scope=row>15</th><td>15</td><td>140</td><td>Mirror</td><td>Mirror</td><td>2922</td><td>1</td><td>2.92</td><td>0.83</td></tr>\n",
       "\t<tr><th scope=row>16</th><td>16</td><td>120</td><td>Mirror</td><td>Mirror</td><td>2641</td><td>1</td><td>2.64</td><td>0.83</td></tr>\n",
       "\t<tr><th scope=row>17</th><td>17</td><td>180</td><td>Same--</td><td>Mirror</td><td>1937</td><td>0</td><td>1.94</td><td>0.83</td></tr>\n",
       "\t<tr><th scope=row>18</th><td>18</td><td>100</td><td>Mirror</td><td>Mirror</td><td>4204</td><td>1</td><td>4.20</td><td>0.83</td></tr>\n",
       "\t<tr><th scope=row>20</th><td>20</td><td> 40</td><td>Mirror</td><td>Mirror</td><td>2140</td><td>1</td><td>2.14</td><td>0.83</td></tr>\n",
       "\t<tr><th scope=row>21</th><td>21</td><td> 60</td><td>Mirror</td><td>Mirror</td><td>3469</td><td>1</td><td>3.47</td><td>0.83</td></tr>\n",
       "\t<tr><th scope=row>22</th><td>22</td><td> 60</td><td>Mirror</td><td>Mirror</td><td>2422</td><td>1</td><td>2.42</td><td>0.83</td></tr>\n",
       "\t<tr><th scope=row>23</th><td>23</td><td>  0</td><td>Same--</td><td>Same--</td><td>2047</td><td>1</td><td>2.05</td><td>0.83</td></tr>\n",
       "\t<tr><th scope=row>24</th><td>24</td><td>120</td><td>Same--</td><td>Same--</td><td>1422</td><td>1</td><td>1.42</td><td>0.83</td></tr>\n",
       "\t<tr><th scope=row>25</th><td>25</td><td> 40</td><td>Same--</td><td>Same--</td><td>1937</td><td>1</td><td>1.94</td><td>0.83</td></tr>\n",
       "\t<tr><th scope=row>26</th><td>26</td><td> 60</td><td>Mirror</td><td>Mirror</td><td>2235</td><td>1</td><td>2.23</td><td>0.92</td></tr>\n",
       "\t<tr><th scope=row>27</th><td>27</td><td>  0</td><td>Mirror</td><td>Mirror</td><td>2140</td><td>1</td><td>2.14</td><td>0.92</td></tr>\n",
       "\t<tr><th scope=row>28</th><td>28</td><td>160</td><td>Mirror</td><td>Mirror</td><td>1328</td><td>1</td><td>1.33</td><td>0.92</td></tr>\n",
       "\t<tr><th scope=row>29</th><td>29</td><td>180</td><td>Mirror</td><td>Mirror</td><td>2453</td><td>1</td><td>2.45</td><td>0.92</td></tr>\n",
       "\t<tr><th scope=row>30</th><td>30</td><td>160</td><td>Mirror</td><td>Mirror</td><td>1422</td><td>1</td><td>1.42</td><td>0.92</td></tr>\n",
       "\t<tr><th scope=row>31</th><td>31</td><td>180</td><td>Mirror</td><td>Mirror</td><td>1532</td><td>1</td><td>1.53</td><td>0.92</td></tr>\n",
       "\t<tr><th scope=row>32</th><td>32</td><td>180</td><td>Mirror</td><td>Mirror</td><td>1640</td><td>1</td><td>1.64</td><td>0.92</td></tr>\n",
       "\t<tr><th scope=row>33</th><td>33</td><td>120</td><td>Same--</td><td>Same--</td><td>1828</td><td>1</td><td>1.83</td><td>0.92</td></tr>\n",
       "\t<tr><th scope=row>...</th><td>...</td><td>...</td><td>...</td><td>...</td><td>...</td><td>...</td><td>...</td><td>...</td></tr>\n",
       "\t<tr><th scope=row>571</th><td>571</td><td>  0</td><td>Mirror</td><td>Mirror</td><td>1531</td><td>1</td><td>1.53</td><td>2.92</td></tr>\n",
       "\t<tr><th scope=row>572</th><td>572</td><td>100</td><td>Same--</td><td>Same--</td><td>1625</td><td>1</td><td>1.62</td><td>2.92</td></tr>\n",
       "\t<tr><th scope=row>573</th><td>573</td><td>120</td><td>Mirror</td><td>Mirror</td><td>1032</td><td>1</td><td>1.03</td><td>2.95</td></tr>\n",
       "\t<tr><th scope=row>574</th><td>574</td><td>100</td><td>Mirror</td><td>Mirror</td><td>1422</td><td>1</td><td>1.42</td><td>2.95</td></tr>\n",
       "\t<tr><th scope=row>575</th><td>575</td><td>120</td><td>Mirror</td><td>Mirror</td><td>1031</td><td>1</td><td>1.03</td><td>2.95</td></tr>\n",
       "\t<tr><th scope=row>576</th><td>576</td><td>140</td><td>Same--</td><td>Mirror</td><td>1422</td><td>0</td><td>1.42</td><td>3.00</td></tr>\n",
       "\t<tr><th scope=row>577</th><td>577</td><td>180</td><td>Mirror</td><td>Mirror</td><td>1125</td><td>1</td><td>1.12</td><td>3.00</td></tr>\n",
       "\t<tr><th scope=row>578</th><td>578</td><td>  0</td><td>Same--</td><td>Same--</td><td> 828</td><td>1</td><td>0.83</td><td>3.05</td></tr>\n",
       "\t<tr><th scope=row>579</th><td>579</td><td>120</td><td>Mirror</td><td>Mirror</td><td>2140</td><td>1</td><td>2.14</td><td>3.05</td></tr>\n",
       "\t<tr><th scope=row>580</th><td>580</td><td>140</td><td>Same--</td><td>Same--</td><td>1219</td><td>1</td><td>1.22</td><td>3.05</td></tr>\n",
       "\t<tr><th scope=row>581</th><td>581</td><td>140</td><td>Same--</td><td>Same--</td><td>1922</td><td>1</td><td>1.92</td><td>3.17</td></tr>\n",
       "\t<tr><th scope=row>582</th><td>582</td><td> 40</td><td>Same--</td><td>Same--</td><td>1031</td><td>1</td><td>1.03</td><td>3.19</td></tr>\n",
       "\t<tr><th scope=row>583</th><td>583</td><td> 20</td><td>Same--</td><td>Same--</td><td> 719</td><td>1</td><td>0.72</td><td>3.27</td></tr>\n",
       "\t<tr><th scope=row>584</th><td>584</td><td>100</td><td>Same--</td><td>Same--</td><td>1125</td><td>1</td><td>1.12</td><td>3.30</td></tr>\n",
       "\t<tr><th scope=row>585</th><td>585</td><td> 20</td><td>Same--</td><td>Same--</td><td> 922</td><td>1</td><td>0.92</td><td>3.30</td></tr>\n",
       "\t<tr><th scope=row>586</th><td>586</td><td> 40</td><td>Same--</td><td>Same--</td><td> 718</td><td>1</td><td>0.72</td><td>3.34</td></tr>\n",
       "\t<tr><th scope=row>587</th><td>587</td><td>140</td><td>Same--</td><td>Mirror</td><td>1016</td><td>0</td><td>1.02</td><td>3.45</td></tr>\n",
       "\t<tr><th scope=row>588</th><td>588</td><td> 20</td><td>Same--</td><td>Mirror</td><td>1031</td><td>0</td><td>1.03</td><td>3.45</td></tr>\n",
       "\t<tr><th scope=row>589</th><td>589</td><td>  0</td><td>Same--</td><td>Same--</td><td> 922</td><td>1</td><td>0.92</td><td>3.45</td></tr>\n",
       "\t<tr><th scope=row>590</th><td>590</td><td>100</td><td>Same--</td><td>Same--</td><td> 922</td><td>1</td><td>0.92</td><td>3.47</td></tr>\n",
       "\t<tr><th scope=row>591</th><td>591</td><td>100</td><td>Same--</td><td>Same--</td><td>1015</td><td>1</td><td>1.01</td><td>3.75</td></tr>\n",
       "\t<tr><th scope=row>592</th><td>592</td><td> 20</td><td>Mirror</td><td>Same--</td><td>1328</td><td>0</td><td>1.33</td><td>3.83</td></tr>\n",
       "\t<tr><th scope=row>593</th><td>593</td><td> 40</td><td>Mirror</td><td>Mirror</td><td>1531</td><td>1</td><td>1.53</td><td>3.86</td></tr>\n",
       "\t<tr><th scope=row>594</th><td>594</td><td> 40</td><td>Mirror</td><td>Mirror</td><td>1328</td><td>1</td><td>1.33</td><td>3.91</td></tr>\n",
       "\t<tr><th scope=row>595</th><td>595</td><td> 20</td><td>Mirror</td><td>Mirror</td><td>1422</td><td>1</td><td>1.42</td><td>3.98</td></tr>\n",
       "\t<tr><th scope=row>596</th><td>596</td><td>  0</td><td>Mirror</td><td>Mirror</td><td>1031</td><td>1</td><td>1.03</td><td>4.12</td></tr>\n",
       "\t<tr><th scope=row>597</th><td>597</td><td> 40</td><td>Mirror</td><td>Mirror</td><td>1219</td><td>1</td><td>1.22</td><td>4.16</td></tr>\n",
       "\t<tr><th scope=row>598</th><td>598</td><td>  0</td><td>Mirror</td><td>Mirror</td><td>1125</td><td>1</td><td>1.12</td><td>4.20</td></tr>\n",
       "\t<tr><th scope=row>599</th><td>599</td><td> 20</td><td>Mirror</td><td>Mirror</td><td> 828</td><td>1</td><td>0.83</td><td>4.42</td></tr>\n",
       "\t<tr><th scope=row>600</th><td>600</td><td> 40</td><td>Mirror</td><td>Mirror</td><td>1125</td><td>1</td><td>1.12</td><td>4.44</td></tr>\n",
       "</tbody>\n",
       "</table>\n"
      ],
      "text/latex": [
       "A data.frame: 595 × 8\n",
       "\\begin{tabular}{r|llllllll}\n",
       "  & Trial & Angle & Stimulus & Response & RTmsec & Accuracy & RTsec & RTsec\\_sorted\\\\\n",
       "  & <int> & <int> & <chr> & <chr> & <int> & <int> & <dbl> & <dbl>\\\\\n",
       "\\hline\n",
       "\t2 &  2 &  60 & Same-- & Same-- & 1750 & 1 & 1.75 & 0.72\\\\\n",
       "\t3 &  3 & 180 & Mirror & Mirror & 1437 & 1 & 1.44 & 0.72\\\\\n",
       "\t4 &  4 & 100 & Mirror & Same-- & 1735 & 0 & 1.74 & 0.72\\\\\n",
       "\t5 &  5 & 160 & Mirror & Mirror & 1937 & 1 & 1.94 & 0.72\\\\\n",
       "\t6 &  6 & 180 & Mirror & Mirror & 1422 & 1 & 1.42 & 0.73\\\\\n",
       "\t7 &  7 & 180 & Mirror & Mirror & 1937 & 1 & 1.94 & 0.73\\\\\n",
       "\t8 &  8 &   0 & Same-- & Same-- & 1235 & 1 & 1.24 & 0.81\\\\\n",
       "\t9 &  9 &  40 & Mirror & Mirror & 3297 & 1 & 3.30 & 0.81\\\\\n",
       "\t10 & 10 & 140 & Same-- & Same-- & 1984 & 1 & 1.98 & 0.81\\\\\n",
       "\t11 & 11 &  60 & Mirror & Mirror & 1844 & 1 & 1.84 & 0.81\\\\\n",
       "\t12 & 12 & 160 & Same-- & Same-- & 3453 & 1 & 3.45 & 0.81\\\\\n",
       "\t13 & 13 &  40 & Mirror & Mirror & 3000 & 1 & 3.00 & 0.83\\\\\n",
       "\t15 & 15 & 140 & Mirror & Mirror & 2922 & 1 & 2.92 & 0.83\\\\\n",
       "\t16 & 16 & 120 & Mirror & Mirror & 2641 & 1 & 2.64 & 0.83\\\\\n",
       "\t17 & 17 & 180 & Same-- & Mirror & 1937 & 0 & 1.94 & 0.83\\\\\n",
       "\t18 & 18 & 100 & Mirror & Mirror & 4204 & 1 & 4.20 & 0.83\\\\\n",
       "\t20 & 20 &  40 & Mirror & Mirror & 2140 & 1 & 2.14 & 0.83\\\\\n",
       "\t21 & 21 &  60 & Mirror & Mirror & 3469 & 1 & 3.47 & 0.83\\\\\n",
       "\t22 & 22 &  60 & Mirror & Mirror & 2422 & 1 & 2.42 & 0.83\\\\\n",
       "\t23 & 23 &   0 & Same-- & Same-- & 2047 & 1 & 2.05 & 0.83\\\\\n",
       "\t24 & 24 & 120 & Same-- & Same-- & 1422 & 1 & 1.42 & 0.83\\\\\n",
       "\t25 & 25 &  40 & Same-- & Same-- & 1937 & 1 & 1.94 & 0.83\\\\\n",
       "\t26 & 26 &  60 & Mirror & Mirror & 2235 & 1 & 2.23 & 0.92\\\\\n",
       "\t27 & 27 &   0 & Mirror & Mirror & 2140 & 1 & 2.14 & 0.92\\\\\n",
       "\t28 & 28 & 160 & Mirror & Mirror & 1328 & 1 & 1.33 & 0.92\\\\\n",
       "\t29 & 29 & 180 & Mirror & Mirror & 2453 & 1 & 2.45 & 0.92\\\\\n",
       "\t30 & 30 & 160 & Mirror & Mirror & 1422 & 1 & 1.42 & 0.92\\\\\n",
       "\t31 & 31 & 180 & Mirror & Mirror & 1532 & 1 & 1.53 & 0.92\\\\\n",
       "\t32 & 32 & 180 & Mirror & Mirror & 1640 & 1 & 1.64 & 0.92\\\\\n",
       "\t33 & 33 & 120 & Same-- & Same-- & 1828 & 1 & 1.83 & 0.92\\\\\n",
       "\t... & ... & ... & ... & ... & ... & ... & ... & ...\\\\\n",
       "\t571 & 571 &   0 & Mirror & Mirror & 1531 & 1 & 1.53 & 2.92\\\\\n",
       "\t572 & 572 & 100 & Same-- & Same-- & 1625 & 1 & 1.62 & 2.92\\\\\n",
       "\t573 & 573 & 120 & Mirror & Mirror & 1032 & 1 & 1.03 & 2.95\\\\\n",
       "\t574 & 574 & 100 & Mirror & Mirror & 1422 & 1 & 1.42 & 2.95\\\\\n",
       "\t575 & 575 & 120 & Mirror & Mirror & 1031 & 1 & 1.03 & 2.95\\\\\n",
       "\t576 & 576 & 140 & Same-- & Mirror & 1422 & 0 & 1.42 & 3.00\\\\\n",
       "\t577 & 577 & 180 & Mirror & Mirror & 1125 & 1 & 1.12 & 3.00\\\\\n",
       "\t578 & 578 &   0 & Same-- & Same-- &  828 & 1 & 0.83 & 3.05\\\\\n",
       "\t579 & 579 & 120 & Mirror & Mirror & 2140 & 1 & 2.14 & 3.05\\\\\n",
       "\t580 & 580 & 140 & Same-- & Same-- & 1219 & 1 & 1.22 & 3.05\\\\\n",
       "\t581 & 581 & 140 & Same-- & Same-- & 1922 & 1 & 1.92 & 3.17\\\\\n",
       "\t582 & 582 &  40 & Same-- & Same-- & 1031 & 1 & 1.03 & 3.19\\\\\n",
       "\t583 & 583 &  20 & Same-- & Same-- &  719 & 1 & 0.72 & 3.27\\\\\n",
       "\t584 & 584 & 100 & Same-- & Same-- & 1125 & 1 & 1.12 & 3.30\\\\\n",
       "\t585 & 585 &  20 & Same-- & Same-- &  922 & 1 & 0.92 & 3.30\\\\\n",
       "\t586 & 586 &  40 & Same-- & Same-- &  718 & 1 & 0.72 & 3.34\\\\\n",
       "\t587 & 587 & 140 & Same-- & Mirror & 1016 & 0 & 1.02 & 3.45\\\\\n",
       "\t588 & 588 &  20 & Same-- & Mirror & 1031 & 0 & 1.03 & 3.45\\\\\n",
       "\t589 & 589 &   0 & Same-- & Same-- &  922 & 1 & 0.92 & 3.45\\\\\n",
       "\t590 & 590 & 100 & Same-- & Same-- &  922 & 1 & 0.92 & 3.47\\\\\n",
       "\t591 & 591 & 100 & Same-- & Same-- & 1015 & 1 & 1.01 & 3.75\\\\\n",
       "\t592 & 592 &  20 & Mirror & Same-- & 1328 & 0 & 1.33 & 3.83\\\\\n",
       "\t593 & 593 &  40 & Mirror & Mirror & 1531 & 1 & 1.53 & 3.86\\\\\n",
       "\t594 & 594 &  40 & Mirror & Mirror & 1328 & 1 & 1.33 & 3.91\\\\\n",
       "\t595 & 595 &  20 & Mirror & Mirror & 1422 & 1 & 1.42 & 3.98\\\\\n",
       "\t596 & 596 &   0 & Mirror & Mirror & 1031 & 1 & 1.03 & 4.12\\\\\n",
       "\t597 & 597 &  40 & Mirror & Mirror & 1219 & 1 & 1.22 & 4.16\\\\\n",
       "\t598 & 598 &   0 & Mirror & Mirror & 1125 & 1 & 1.12 & 4.20\\\\\n",
       "\t599 & 599 &  20 & Mirror & Mirror &  828 & 1 & 0.83 & 4.42\\\\\n",
       "\t600 & 600 &  40 & Mirror & Mirror & 1125 & 1 & 1.12 & 4.44\\\\\n",
       "\\end{tabular}\n"
      ],
      "text/markdown": [
       "\n",
       "A data.frame: 595 × 8\n",
       "\n",
       "| <!--/--> | Trial &lt;int&gt; | Angle &lt;int&gt; | Stimulus &lt;chr&gt; | Response &lt;chr&gt; | RTmsec &lt;int&gt; | Accuracy &lt;int&gt; | RTsec &lt;dbl&gt; | RTsec_sorted &lt;dbl&gt; |\n",
       "|---|---|---|---|---|---|---|---|---|\n",
       "| 2 |  2 |  60 | Same-- | Same-- | 1750 | 1 | 1.75 | 0.72 |\n",
       "| 3 |  3 | 180 | Mirror | Mirror | 1437 | 1 | 1.44 | 0.72 |\n",
       "| 4 |  4 | 100 | Mirror | Same-- | 1735 | 0 | 1.74 | 0.72 |\n",
       "| 5 |  5 | 160 | Mirror | Mirror | 1937 | 1 | 1.94 | 0.72 |\n",
       "| 6 |  6 | 180 | Mirror | Mirror | 1422 | 1 | 1.42 | 0.73 |\n",
       "| 7 |  7 | 180 | Mirror | Mirror | 1937 | 1 | 1.94 | 0.73 |\n",
       "| 8 |  8 |   0 | Same-- | Same-- | 1235 | 1 | 1.24 | 0.81 |\n",
       "| 9 |  9 |  40 | Mirror | Mirror | 3297 | 1 | 3.30 | 0.81 |\n",
       "| 10 | 10 | 140 | Same-- | Same-- | 1984 | 1 | 1.98 | 0.81 |\n",
       "| 11 | 11 |  60 | Mirror | Mirror | 1844 | 1 | 1.84 | 0.81 |\n",
       "| 12 | 12 | 160 | Same-- | Same-- | 3453 | 1 | 3.45 | 0.81 |\n",
       "| 13 | 13 |  40 | Mirror | Mirror | 3000 | 1 | 3.00 | 0.83 |\n",
       "| 15 | 15 | 140 | Mirror | Mirror | 2922 | 1 | 2.92 | 0.83 |\n",
       "| 16 | 16 | 120 | Mirror | Mirror | 2641 | 1 | 2.64 | 0.83 |\n",
       "| 17 | 17 | 180 | Same-- | Mirror | 1937 | 0 | 1.94 | 0.83 |\n",
       "| 18 | 18 | 100 | Mirror | Mirror | 4204 | 1 | 4.20 | 0.83 |\n",
       "| 20 | 20 |  40 | Mirror | Mirror | 2140 | 1 | 2.14 | 0.83 |\n",
       "| 21 | 21 |  60 | Mirror | Mirror | 3469 | 1 | 3.47 | 0.83 |\n",
       "| 22 | 22 |  60 | Mirror | Mirror | 2422 | 1 | 2.42 | 0.83 |\n",
       "| 23 | 23 |   0 | Same-- | Same-- | 2047 | 1 | 2.05 | 0.83 |\n",
       "| 24 | 24 | 120 | Same-- | Same-- | 1422 | 1 | 1.42 | 0.83 |\n",
       "| 25 | 25 |  40 | Same-- | Same-- | 1937 | 1 | 1.94 | 0.83 |\n",
       "| 26 | 26 |  60 | Mirror | Mirror | 2235 | 1 | 2.23 | 0.92 |\n",
       "| 27 | 27 |   0 | Mirror | Mirror | 2140 | 1 | 2.14 | 0.92 |\n",
       "| 28 | 28 | 160 | Mirror | Mirror | 1328 | 1 | 1.33 | 0.92 |\n",
       "| 29 | 29 | 180 | Mirror | Mirror | 2453 | 1 | 2.45 | 0.92 |\n",
       "| 30 | 30 | 160 | Mirror | Mirror | 1422 | 1 | 1.42 | 0.92 |\n",
       "| 31 | 31 | 180 | Mirror | Mirror | 1532 | 1 | 1.53 | 0.92 |\n",
       "| 32 | 32 | 180 | Mirror | Mirror | 1640 | 1 | 1.64 | 0.92 |\n",
       "| 33 | 33 | 120 | Same-- | Same-- | 1828 | 1 | 1.83 | 0.92 |\n",
       "| ... | ... | ... | ... | ... | ... | ... | ... | ... |\n",
       "| 571 | 571 |   0 | Mirror | Mirror | 1531 | 1 | 1.53 | 2.92 |\n",
       "| 572 | 572 | 100 | Same-- | Same-- | 1625 | 1 | 1.62 | 2.92 |\n",
       "| 573 | 573 | 120 | Mirror | Mirror | 1032 | 1 | 1.03 | 2.95 |\n",
       "| 574 | 574 | 100 | Mirror | Mirror | 1422 | 1 | 1.42 | 2.95 |\n",
       "| 575 | 575 | 120 | Mirror | Mirror | 1031 | 1 | 1.03 | 2.95 |\n",
       "| 576 | 576 | 140 | Same-- | Mirror | 1422 | 0 | 1.42 | 3.00 |\n",
       "| 577 | 577 | 180 | Mirror | Mirror | 1125 | 1 | 1.12 | 3.00 |\n",
       "| 578 | 578 |   0 | Same-- | Same-- |  828 | 1 | 0.83 | 3.05 |\n",
       "| 579 | 579 | 120 | Mirror | Mirror | 2140 | 1 | 2.14 | 3.05 |\n",
       "| 580 | 580 | 140 | Same-- | Same-- | 1219 | 1 | 1.22 | 3.05 |\n",
       "| 581 | 581 | 140 | Same-- | Same-- | 1922 | 1 | 1.92 | 3.17 |\n",
       "| 582 | 582 |  40 | Same-- | Same-- | 1031 | 1 | 1.03 | 3.19 |\n",
       "| 583 | 583 |  20 | Same-- | Same-- |  719 | 1 | 0.72 | 3.27 |\n",
       "| 584 | 584 | 100 | Same-- | Same-- | 1125 | 1 | 1.12 | 3.30 |\n",
       "| 585 | 585 |  20 | Same-- | Same-- |  922 | 1 | 0.92 | 3.30 |\n",
       "| 586 | 586 |  40 | Same-- | Same-- |  718 | 1 | 0.72 | 3.34 |\n",
       "| 587 | 587 | 140 | Same-- | Mirror | 1016 | 0 | 1.02 | 3.45 |\n",
       "| 588 | 588 |  20 | Same-- | Mirror | 1031 | 0 | 1.03 | 3.45 |\n",
       "| 589 | 589 |   0 | Same-- | Same-- |  922 | 1 | 0.92 | 3.45 |\n",
       "| 590 | 590 | 100 | Same-- | Same-- |  922 | 1 | 0.92 | 3.47 |\n",
       "| 591 | 591 | 100 | Same-- | Same-- | 1015 | 1 | 1.01 | 3.75 |\n",
       "| 592 | 592 |  20 | Mirror | Same-- | 1328 | 0 | 1.33 | 3.83 |\n",
       "| 593 | 593 |  40 | Mirror | Mirror | 1531 | 1 | 1.53 | 3.86 |\n",
       "| 594 | 594 |  40 | Mirror | Mirror | 1328 | 1 | 1.33 | 3.91 |\n",
       "| 595 | 595 |  20 | Mirror | Mirror | 1422 | 1 | 1.42 | 3.98 |\n",
       "| 596 | 596 |   0 | Mirror | Mirror | 1031 | 1 | 1.03 | 4.12 |\n",
       "| 597 | 597 |  40 | Mirror | Mirror | 1219 | 1 | 1.22 | 4.16 |\n",
       "| 598 | 598 |   0 | Mirror | Mirror | 1125 | 1 | 1.12 | 4.20 |\n",
       "| 599 | 599 |  20 | Mirror | Mirror |  828 | 1 | 0.83 | 4.42 |\n",
       "| 600 | 600 |  40 | Mirror | Mirror | 1125 | 1 | 1.12 | 4.44 |\n",
       "\n"
      ],
      "text/plain": [
       "    Trial Angle Stimulus Response RTmsec Accuracy RTsec RTsec_sorted\n",
       "2    2     60   Same--   Same--   1750   1        1.75  0.72        \n",
       "3    3    180   Mirror   Mirror   1437   1        1.44  0.72        \n",
       "4    4    100   Mirror   Same--   1735   0        1.74  0.72        \n",
       "5    5    160   Mirror   Mirror   1937   1        1.94  0.72        \n",
       "6    6    180   Mirror   Mirror   1422   1        1.42  0.73        \n",
       "7    7    180   Mirror   Mirror   1937   1        1.94  0.73        \n",
       "8    8      0   Same--   Same--   1235   1        1.24  0.81        \n",
       "9    9     40   Mirror   Mirror   3297   1        3.30  0.81        \n",
       "10  10    140   Same--   Same--   1984   1        1.98  0.81        \n",
       "11  11     60   Mirror   Mirror   1844   1        1.84  0.81        \n",
       "12  12    160   Same--   Same--   3453   1        3.45  0.81        \n",
       "13  13     40   Mirror   Mirror   3000   1        3.00  0.83        \n",
       "15  15    140   Mirror   Mirror   2922   1        2.92  0.83        \n",
       "16  16    120   Mirror   Mirror   2641   1        2.64  0.83        \n",
       "17  17    180   Same--   Mirror   1937   0        1.94  0.83        \n",
       "18  18    100   Mirror   Mirror   4204   1        4.20  0.83        \n",
       "20  20     40   Mirror   Mirror   2140   1        2.14  0.83        \n",
       "21  21     60   Mirror   Mirror   3469   1        3.47  0.83        \n",
       "22  22     60   Mirror   Mirror   2422   1        2.42  0.83        \n",
       "23  23      0   Same--   Same--   2047   1        2.05  0.83        \n",
       "24  24    120   Same--   Same--   1422   1        1.42  0.83        \n",
       "25  25     40   Same--   Same--   1937   1        1.94  0.83        \n",
       "26  26     60   Mirror   Mirror   2235   1        2.23  0.92        \n",
       "27  27      0   Mirror   Mirror   2140   1        2.14  0.92        \n",
       "28  28    160   Mirror   Mirror   1328   1        1.33  0.92        \n",
       "29  29    180   Mirror   Mirror   2453   1        2.45  0.92        \n",
       "30  30    160   Mirror   Mirror   1422   1        1.42  0.92        \n",
       "31  31    180   Mirror   Mirror   1532   1        1.53  0.92        \n",
       "32  32    180   Mirror   Mirror   1640   1        1.64  0.92        \n",
       "33  33    120   Same--   Same--   1828   1        1.83  0.92        \n",
       "... ...   ...   ...      ...      ...    ...      ...   ...         \n",
       "571 571     0   Mirror   Mirror   1531   1        1.53  2.92        \n",
       "572 572   100   Same--   Same--   1625   1        1.62  2.92        \n",
       "573 573   120   Mirror   Mirror   1032   1        1.03  2.95        \n",
       "574 574   100   Mirror   Mirror   1422   1        1.42  2.95        \n",
       "575 575   120   Mirror   Mirror   1031   1        1.03  2.95        \n",
       "576 576   140   Same--   Mirror   1422   0        1.42  3.00        \n",
       "577 577   180   Mirror   Mirror   1125   1        1.12  3.00        \n",
       "578 578     0   Same--   Same--    828   1        0.83  3.05        \n",
       "579 579   120   Mirror   Mirror   2140   1        2.14  3.05        \n",
       "580 580   140   Same--   Same--   1219   1        1.22  3.05        \n",
       "581 581   140   Same--   Same--   1922   1        1.92  3.17        \n",
       "582 582    40   Same--   Same--   1031   1        1.03  3.19        \n",
       "583 583    20   Same--   Same--    719   1        0.72  3.27        \n",
       "584 584   100   Same--   Same--   1125   1        1.12  3.30        \n",
       "585 585    20   Same--   Same--    922   1        0.92  3.30        \n",
       "586 586    40   Same--   Same--    718   1        0.72  3.34        \n",
       "587 587   140   Same--   Mirror   1016   0        1.02  3.45        \n",
       "588 588    20   Same--   Mirror   1031   0        1.03  3.45        \n",
       "589 589     0   Same--   Same--    922   1        0.92  3.45        \n",
       "590 590   100   Same--   Same--    922   1        0.92  3.47        \n",
       "591 591   100   Same--   Same--   1015   1        1.01  3.75        \n",
       "592 592    20   Mirror   Same--   1328   0        1.33  3.83        \n",
       "593 593    40   Mirror   Mirror   1531   1        1.53  3.86        \n",
       "594 594    40   Mirror   Mirror   1328   1        1.33  3.91        \n",
       "595 595    20   Mirror   Mirror   1422   1        1.42  3.98        \n",
       "596 596     0   Mirror   Mirror   1031   1        1.03  4.12        \n",
       "597 597    40   Mirror   Mirror   1219   1        1.22  4.16        \n",
       "598 598     0   Mirror   Mirror   1125   1        1.12  4.20        \n",
       "599 599    20   Mirror   Mirror    828   1        0.83  4.42        \n",
       "600 600    40   Mirror   Mirror   1125   1        1.12  4.44        "
      ]
     },
     "metadata": {},
     "output_type": "display_data"
    }
   ],
   "source": [
    "data <- data[-c(1,14,19,90,180),]\n",
    "\n",
    "data"
   ]
  },
  {
   "cell_type": "markdown",
   "metadata": {},
   "source": [
    "از آنجایی که فقط داده هایی که دقت صحیح داشته اند برای ما اهمیت دارند داده های مربوط به  حدس های غلط از داده ها حذف می شوند "
   ]
  },
  {
   "cell_type": "code",
   "execution_count": 636,
   "metadata": {},
   "outputs": [
    {
     "data": {
      "text/html": [
       "<table class=\"dataframe\">\n",
       "<caption>A data.frame: 540 × 7</caption>\n",
       "<thead>\n",
       "\t<tr><th scope=col>Trial</th><th scope=col>Angle</th><th scope=col>Stimulus</th><th scope=col>Response</th><th scope=col>RTmsec</th><th scope=col>Accuracy</th><th scope=col>RTsec</th></tr>\n",
       "\t<tr><th scope=col>&lt;int&gt;</th><th scope=col>&lt;int&gt;</th><th scope=col>&lt;chr&gt;</th><th scope=col>&lt;chr&gt;</th><th scope=col>&lt;int&gt;</th><th scope=col>&lt;int&gt;</th><th scope=col>&lt;dbl&gt;</th></tr>\n",
       "</thead>\n",
       "<tbody>\n",
       "\t<tr><td> 2</td><td> 60</td><td>Same--</td><td>Same--</td><td>1750</td><td>1</td><td>1.75</td></tr>\n",
       "\t<tr><td> 3</td><td>180</td><td>Mirror</td><td>Mirror</td><td>1437</td><td>1</td><td>1.44</td></tr>\n",
       "\t<tr><td> 5</td><td>160</td><td>Mirror</td><td>Mirror</td><td>1937</td><td>1</td><td>1.94</td></tr>\n",
       "\t<tr><td> 6</td><td>180</td><td>Mirror</td><td>Mirror</td><td>1422</td><td>1</td><td>1.42</td></tr>\n",
       "\t<tr><td> 7</td><td>180</td><td>Mirror</td><td>Mirror</td><td>1937</td><td>1</td><td>1.94</td></tr>\n",
       "\t<tr><td> 8</td><td>  0</td><td>Same--</td><td>Same--</td><td>1235</td><td>1</td><td>1.24</td></tr>\n",
       "\t<tr><td> 9</td><td> 40</td><td>Mirror</td><td>Mirror</td><td>3297</td><td>1</td><td>3.30</td></tr>\n",
       "\t<tr><td>10</td><td>140</td><td>Same--</td><td>Same--</td><td>1984</td><td>1</td><td>1.98</td></tr>\n",
       "\t<tr><td>11</td><td> 60</td><td>Mirror</td><td>Mirror</td><td>1844</td><td>1</td><td>1.84</td></tr>\n",
       "\t<tr><td>12</td><td>160</td><td>Same--</td><td>Same--</td><td>3453</td><td>1</td><td>3.45</td></tr>\n",
       "\t<tr><td>13</td><td> 40</td><td>Mirror</td><td>Mirror</td><td>3000</td><td>1</td><td>3.00</td></tr>\n",
       "\t<tr><td>15</td><td>140</td><td>Mirror</td><td>Mirror</td><td>2922</td><td>1</td><td>2.92</td></tr>\n",
       "\t<tr><td>16</td><td>120</td><td>Mirror</td><td>Mirror</td><td>2641</td><td>1</td><td>2.64</td></tr>\n",
       "\t<tr><td>18</td><td>100</td><td>Mirror</td><td>Mirror</td><td>4204</td><td>1</td><td>4.20</td></tr>\n",
       "\t<tr><td>20</td><td> 40</td><td>Mirror</td><td>Mirror</td><td>2140</td><td>1</td><td>2.14</td></tr>\n",
       "\t<tr><td>21</td><td> 60</td><td>Mirror</td><td>Mirror</td><td>3469</td><td>1</td><td>3.47</td></tr>\n",
       "\t<tr><td>22</td><td> 60</td><td>Mirror</td><td>Mirror</td><td>2422</td><td>1</td><td>2.42</td></tr>\n",
       "\t<tr><td>23</td><td>  0</td><td>Same--</td><td>Same--</td><td>2047</td><td>1</td><td>2.05</td></tr>\n",
       "\t<tr><td>24</td><td>120</td><td>Same--</td><td>Same--</td><td>1422</td><td>1</td><td>1.42</td></tr>\n",
       "\t<tr><td>25</td><td> 40</td><td>Same--</td><td>Same--</td><td>1937</td><td>1</td><td>1.94</td></tr>\n",
       "\t<tr><td>26</td><td> 60</td><td>Mirror</td><td>Mirror</td><td>2235</td><td>1</td><td>2.23</td></tr>\n",
       "\t<tr><td>27</td><td>  0</td><td>Mirror</td><td>Mirror</td><td>2140</td><td>1</td><td>2.14</td></tr>\n",
       "\t<tr><td>28</td><td>160</td><td>Mirror</td><td>Mirror</td><td>1328</td><td>1</td><td>1.33</td></tr>\n",
       "\t<tr><td>29</td><td>180</td><td>Mirror</td><td>Mirror</td><td>2453</td><td>1</td><td>2.45</td></tr>\n",
       "\t<tr><td>30</td><td>160</td><td>Mirror</td><td>Mirror</td><td>1422</td><td>1</td><td>1.42</td></tr>\n",
       "\t<tr><td>31</td><td>180</td><td>Mirror</td><td>Mirror</td><td>1532</td><td>1</td><td>1.53</td></tr>\n",
       "\t<tr><td>32</td><td>180</td><td>Mirror</td><td>Mirror</td><td>1640</td><td>1</td><td>1.64</td></tr>\n",
       "\t<tr><td>33</td><td>120</td><td>Same--</td><td>Same--</td><td>1828</td><td>1</td><td>1.83</td></tr>\n",
       "\t<tr><td>34</td><td>180</td><td>Mirror</td><td>Mirror</td><td>3453</td><td>1</td><td>3.45</td></tr>\n",
       "\t<tr><td>35</td><td> 40</td><td>Mirror</td><td>Mirror</td><td>1938</td><td>1</td><td>1.94</td></tr>\n",
       "\t<tr><td>...</td><td>...</td><td>...</td><td>...</td><td>...</td><td>...</td><td>...</td></tr>\n",
       "\t<tr><td>567</td><td>180</td><td>Mirror</td><td>Mirror</td><td>1016</td><td>1</td><td>1.02</td></tr>\n",
       "\t<tr><td>568</td><td>  0</td><td>Same--</td><td>Same--</td><td> 828</td><td>1</td><td>0.83</td></tr>\n",
       "\t<tr><td>569</td><td>180</td><td>Mirror</td><td>Mirror</td><td>1328</td><td>1</td><td>1.33</td></tr>\n",
       "\t<tr><td>570</td><td>100</td><td>Same--</td><td>Same--</td><td>1234</td><td>1</td><td>1.23</td></tr>\n",
       "\t<tr><td>571</td><td>  0</td><td>Mirror</td><td>Mirror</td><td>1531</td><td>1</td><td>1.53</td></tr>\n",
       "\t<tr><td>572</td><td>100</td><td>Same--</td><td>Same--</td><td>1625</td><td>1</td><td>1.62</td></tr>\n",
       "\t<tr><td>573</td><td>120</td><td>Mirror</td><td>Mirror</td><td>1032</td><td>1</td><td>1.03</td></tr>\n",
       "\t<tr><td>574</td><td>100</td><td>Mirror</td><td>Mirror</td><td>1422</td><td>1</td><td>1.42</td></tr>\n",
       "\t<tr><td>575</td><td>120</td><td>Mirror</td><td>Mirror</td><td>1031</td><td>1</td><td>1.03</td></tr>\n",
       "\t<tr><td>577</td><td>180</td><td>Mirror</td><td>Mirror</td><td>1125</td><td>1</td><td>1.12</td></tr>\n",
       "\t<tr><td>578</td><td>  0</td><td>Same--</td><td>Same--</td><td> 828</td><td>1</td><td>0.83</td></tr>\n",
       "\t<tr><td>579</td><td>120</td><td>Mirror</td><td>Mirror</td><td>2140</td><td>1</td><td>2.14</td></tr>\n",
       "\t<tr><td>580</td><td>140</td><td>Same--</td><td>Same--</td><td>1219</td><td>1</td><td>1.22</td></tr>\n",
       "\t<tr><td>581</td><td>140</td><td>Same--</td><td>Same--</td><td>1922</td><td>1</td><td>1.92</td></tr>\n",
       "\t<tr><td>582</td><td> 40</td><td>Same--</td><td>Same--</td><td>1031</td><td>1</td><td>1.03</td></tr>\n",
       "\t<tr><td>583</td><td> 20</td><td>Same--</td><td>Same--</td><td> 719</td><td>1</td><td>0.72</td></tr>\n",
       "\t<tr><td>584</td><td>100</td><td>Same--</td><td>Same--</td><td>1125</td><td>1</td><td>1.12</td></tr>\n",
       "\t<tr><td>585</td><td> 20</td><td>Same--</td><td>Same--</td><td> 922</td><td>1</td><td>0.92</td></tr>\n",
       "\t<tr><td>586</td><td> 40</td><td>Same--</td><td>Same--</td><td> 718</td><td>1</td><td>0.72</td></tr>\n",
       "\t<tr><td>589</td><td>  0</td><td>Same--</td><td>Same--</td><td> 922</td><td>1</td><td>0.92</td></tr>\n",
       "\t<tr><td>590</td><td>100</td><td>Same--</td><td>Same--</td><td> 922</td><td>1</td><td>0.92</td></tr>\n",
       "\t<tr><td>591</td><td>100</td><td>Same--</td><td>Same--</td><td>1015</td><td>1</td><td>1.01</td></tr>\n",
       "\t<tr><td>593</td><td> 40</td><td>Mirror</td><td>Mirror</td><td>1531</td><td>1</td><td>1.53</td></tr>\n",
       "\t<tr><td>594</td><td> 40</td><td>Mirror</td><td>Mirror</td><td>1328</td><td>1</td><td>1.33</td></tr>\n",
       "\t<tr><td>595</td><td> 20</td><td>Mirror</td><td>Mirror</td><td>1422</td><td>1</td><td>1.42</td></tr>\n",
       "\t<tr><td>596</td><td>  0</td><td>Mirror</td><td>Mirror</td><td>1031</td><td>1</td><td>1.03</td></tr>\n",
       "\t<tr><td>597</td><td> 40</td><td>Mirror</td><td>Mirror</td><td>1219</td><td>1</td><td>1.22</td></tr>\n",
       "\t<tr><td>598</td><td>  0</td><td>Mirror</td><td>Mirror</td><td>1125</td><td>1</td><td>1.12</td></tr>\n",
       "\t<tr><td>599</td><td> 20</td><td>Mirror</td><td>Mirror</td><td> 828</td><td>1</td><td>0.83</td></tr>\n",
       "\t<tr><td>600</td><td> 40</td><td>Mirror</td><td>Mirror</td><td>1125</td><td>1</td><td>1.12</td></tr>\n",
       "</tbody>\n",
       "</table>\n"
      ],
      "text/latex": [
       "A data.frame: 540 × 7\n",
       "\\begin{tabular}{lllllll}\n",
       " Trial & Angle & Stimulus & Response & RTmsec & Accuracy & RTsec\\\\\n",
       " <int> & <int> & <chr> & <chr> & <int> & <int> & <dbl>\\\\\n",
       "\\hline\n",
       "\t  2 &  60 & Same-- & Same-- & 1750 & 1 & 1.75\\\\\n",
       "\t  3 & 180 & Mirror & Mirror & 1437 & 1 & 1.44\\\\\n",
       "\t  5 & 160 & Mirror & Mirror & 1937 & 1 & 1.94\\\\\n",
       "\t  6 & 180 & Mirror & Mirror & 1422 & 1 & 1.42\\\\\n",
       "\t  7 & 180 & Mirror & Mirror & 1937 & 1 & 1.94\\\\\n",
       "\t  8 &   0 & Same-- & Same-- & 1235 & 1 & 1.24\\\\\n",
       "\t  9 &  40 & Mirror & Mirror & 3297 & 1 & 3.30\\\\\n",
       "\t 10 & 140 & Same-- & Same-- & 1984 & 1 & 1.98\\\\\n",
       "\t 11 &  60 & Mirror & Mirror & 1844 & 1 & 1.84\\\\\n",
       "\t 12 & 160 & Same-- & Same-- & 3453 & 1 & 3.45\\\\\n",
       "\t 13 &  40 & Mirror & Mirror & 3000 & 1 & 3.00\\\\\n",
       "\t 15 & 140 & Mirror & Mirror & 2922 & 1 & 2.92\\\\\n",
       "\t 16 & 120 & Mirror & Mirror & 2641 & 1 & 2.64\\\\\n",
       "\t 18 & 100 & Mirror & Mirror & 4204 & 1 & 4.20\\\\\n",
       "\t 20 &  40 & Mirror & Mirror & 2140 & 1 & 2.14\\\\\n",
       "\t 21 &  60 & Mirror & Mirror & 3469 & 1 & 3.47\\\\\n",
       "\t 22 &  60 & Mirror & Mirror & 2422 & 1 & 2.42\\\\\n",
       "\t 23 &   0 & Same-- & Same-- & 2047 & 1 & 2.05\\\\\n",
       "\t 24 & 120 & Same-- & Same-- & 1422 & 1 & 1.42\\\\\n",
       "\t 25 &  40 & Same-- & Same-- & 1937 & 1 & 1.94\\\\\n",
       "\t 26 &  60 & Mirror & Mirror & 2235 & 1 & 2.23\\\\\n",
       "\t 27 &   0 & Mirror & Mirror & 2140 & 1 & 2.14\\\\\n",
       "\t 28 & 160 & Mirror & Mirror & 1328 & 1 & 1.33\\\\\n",
       "\t 29 & 180 & Mirror & Mirror & 2453 & 1 & 2.45\\\\\n",
       "\t 30 & 160 & Mirror & Mirror & 1422 & 1 & 1.42\\\\\n",
       "\t 31 & 180 & Mirror & Mirror & 1532 & 1 & 1.53\\\\\n",
       "\t 32 & 180 & Mirror & Mirror & 1640 & 1 & 1.64\\\\\n",
       "\t 33 & 120 & Same-- & Same-- & 1828 & 1 & 1.83\\\\\n",
       "\t 34 & 180 & Mirror & Mirror & 3453 & 1 & 3.45\\\\\n",
       "\t 35 &  40 & Mirror & Mirror & 1938 & 1 & 1.94\\\\\n",
       "\t ... & ... & ... & ... & ... & ... & ...\\\\\n",
       "\t 567 & 180 & Mirror & Mirror & 1016 & 1 & 1.02\\\\\n",
       "\t 568 &   0 & Same-- & Same-- &  828 & 1 & 0.83\\\\\n",
       "\t 569 & 180 & Mirror & Mirror & 1328 & 1 & 1.33\\\\\n",
       "\t 570 & 100 & Same-- & Same-- & 1234 & 1 & 1.23\\\\\n",
       "\t 571 &   0 & Mirror & Mirror & 1531 & 1 & 1.53\\\\\n",
       "\t 572 & 100 & Same-- & Same-- & 1625 & 1 & 1.62\\\\\n",
       "\t 573 & 120 & Mirror & Mirror & 1032 & 1 & 1.03\\\\\n",
       "\t 574 & 100 & Mirror & Mirror & 1422 & 1 & 1.42\\\\\n",
       "\t 575 & 120 & Mirror & Mirror & 1031 & 1 & 1.03\\\\\n",
       "\t 577 & 180 & Mirror & Mirror & 1125 & 1 & 1.12\\\\\n",
       "\t 578 &   0 & Same-- & Same-- &  828 & 1 & 0.83\\\\\n",
       "\t 579 & 120 & Mirror & Mirror & 2140 & 1 & 2.14\\\\\n",
       "\t 580 & 140 & Same-- & Same-- & 1219 & 1 & 1.22\\\\\n",
       "\t 581 & 140 & Same-- & Same-- & 1922 & 1 & 1.92\\\\\n",
       "\t 582 &  40 & Same-- & Same-- & 1031 & 1 & 1.03\\\\\n",
       "\t 583 &  20 & Same-- & Same-- &  719 & 1 & 0.72\\\\\n",
       "\t 584 & 100 & Same-- & Same-- & 1125 & 1 & 1.12\\\\\n",
       "\t 585 &  20 & Same-- & Same-- &  922 & 1 & 0.92\\\\\n",
       "\t 586 &  40 & Same-- & Same-- &  718 & 1 & 0.72\\\\\n",
       "\t 589 &   0 & Same-- & Same-- &  922 & 1 & 0.92\\\\\n",
       "\t 590 & 100 & Same-- & Same-- &  922 & 1 & 0.92\\\\\n",
       "\t 591 & 100 & Same-- & Same-- & 1015 & 1 & 1.01\\\\\n",
       "\t 593 &  40 & Mirror & Mirror & 1531 & 1 & 1.53\\\\\n",
       "\t 594 &  40 & Mirror & Mirror & 1328 & 1 & 1.33\\\\\n",
       "\t 595 &  20 & Mirror & Mirror & 1422 & 1 & 1.42\\\\\n",
       "\t 596 &   0 & Mirror & Mirror & 1031 & 1 & 1.03\\\\\n",
       "\t 597 &  40 & Mirror & Mirror & 1219 & 1 & 1.22\\\\\n",
       "\t 598 &   0 & Mirror & Mirror & 1125 & 1 & 1.12\\\\\n",
       "\t 599 &  20 & Mirror & Mirror &  828 & 1 & 0.83\\\\\n",
       "\t 600 &  40 & Mirror & Mirror & 1125 & 1 & 1.12\\\\\n",
       "\\end{tabular}\n"
      ],
      "text/markdown": [
       "\n",
       "A data.frame: 540 × 7\n",
       "\n",
       "| Trial &lt;int&gt; | Angle &lt;int&gt; | Stimulus &lt;chr&gt; | Response &lt;chr&gt; | RTmsec &lt;int&gt; | Accuracy &lt;int&gt; | RTsec &lt;dbl&gt; |\n",
       "|---|---|---|---|---|---|---|\n",
       "|  2 |  60 | Same-- | Same-- | 1750 | 1 | 1.75 |\n",
       "|  3 | 180 | Mirror | Mirror | 1437 | 1 | 1.44 |\n",
       "|  5 | 160 | Mirror | Mirror | 1937 | 1 | 1.94 |\n",
       "|  6 | 180 | Mirror | Mirror | 1422 | 1 | 1.42 |\n",
       "|  7 | 180 | Mirror | Mirror | 1937 | 1 | 1.94 |\n",
       "|  8 |   0 | Same-- | Same-- | 1235 | 1 | 1.24 |\n",
       "|  9 |  40 | Mirror | Mirror | 3297 | 1 | 3.30 |\n",
       "| 10 | 140 | Same-- | Same-- | 1984 | 1 | 1.98 |\n",
       "| 11 |  60 | Mirror | Mirror | 1844 | 1 | 1.84 |\n",
       "| 12 | 160 | Same-- | Same-- | 3453 | 1 | 3.45 |\n",
       "| 13 |  40 | Mirror | Mirror | 3000 | 1 | 3.00 |\n",
       "| 15 | 140 | Mirror | Mirror | 2922 | 1 | 2.92 |\n",
       "| 16 | 120 | Mirror | Mirror | 2641 | 1 | 2.64 |\n",
       "| 18 | 100 | Mirror | Mirror | 4204 | 1 | 4.20 |\n",
       "| 20 |  40 | Mirror | Mirror | 2140 | 1 | 2.14 |\n",
       "| 21 |  60 | Mirror | Mirror | 3469 | 1 | 3.47 |\n",
       "| 22 |  60 | Mirror | Mirror | 2422 | 1 | 2.42 |\n",
       "| 23 |   0 | Same-- | Same-- | 2047 | 1 | 2.05 |\n",
       "| 24 | 120 | Same-- | Same-- | 1422 | 1 | 1.42 |\n",
       "| 25 |  40 | Same-- | Same-- | 1937 | 1 | 1.94 |\n",
       "| 26 |  60 | Mirror | Mirror | 2235 | 1 | 2.23 |\n",
       "| 27 |   0 | Mirror | Mirror | 2140 | 1 | 2.14 |\n",
       "| 28 | 160 | Mirror | Mirror | 1328 | 1 | 1.33 |\n",
       "| 29 | 180 | Mirror | Mirror | 2453 | 1 | 2.45 |\n",
       "| 30 | 160 | Mirror | Mirror | 1422 | 1 | 1.42 |\n",
       "| 31 | 180 | Mirror | Mirror | 1532 | 1 | 1.53 |\n",
       "| 32 | 180 | Mirror | Mirror | 1640 | 1 | 1.64 |\n",
       "| 33 | 120 | Same-- | Same-- | 1828 | 1 | 1.83 |\n",
       "| 34 | 180 | Mirror | Mirror | 3453 | 1 | 3.45 |\n",
       "| 35 |  40 | Mirror | Mirror | 1938 | 1 | 1.94 |\n",
       "| ... | ... | ... | ... | ... | ... | ... |\n",
       "| 567 | 180 | Mirror | Mirror | 1016 | 1 | 1.02 |\n",
       "| 568 |   0 | Same-- | Same-- |  828 | 1 | 0.83 |\n",
       "| 569 | 180 | Mirror | Mirror | 1328 | 1 | 1.33 |\n",
       "| 570 | 100 | Same-- | Same-- | 1234 | 1 | 1.23 |\n",
       "| 571 |   0 | Mirror | Mirror | 1531 | 1 | 1.53 |\n",
       "| 572 | 100 | Same-- | Same-- | 1625 | 1 | 1.62 |\n",
       "| 573 | 120 | Mirror | Mirror | 1032 | 1 | 1.03 |\n",
       "| 574 | 100 | Mirror | Mirror | 1422 | 1 | 1.42 |\n",
       "| 575 | 120 | Mirror | Mirror | 1031 | 1 | 1.03 |\n",
       "| 577 | 180 | Mirror | Mirror | 1125 | 1 | 1.12 |\n",
       "| 578 |   0 | Same-- | Same-- |  828 | 1 | 0.83 |\n",
       "| 579 | 120 | Mirror | Mirror | 2140 | 1 | 2.14 |\n",
       "| 580 | 140 | Same-- | Same-- | 1219 | 1 | 1.22 |\n",
       "| 581 | 140 | Same-- | Same-- | 1922 | 1 | 1.92 |\n",
       "| 582 |  40 | Same-- | Same-- | 1031 | 1 | 1.03 |\n",
       "| 583 |  20 | Same-- | Same-- |  719 | 1 | 0.72 |\n",
       "| 584 | 100 | Same-- | Same-- | 1125 | 1 | 1.12 |\n",
       "| 585 |  20 | Same-- | Same-- |  922 | 1 | 0.92 |\n",
       "| 586 |  40 | Same-- | Same-- |  718 | 1 | 0.72 |\n",
       "| 589 |   0 | Same-- | Same-- |  922 | 1 | 0.92 |\n",
       "| 590 | 100 | Same-- | Same-- |  922 | 1 | 0.92 |\n",
       "| 591 | 100 | Same-- | Same-- | 1015 | 1 | 1.01 |\n",
       "| 593 |  40 | Mirror | Mirror | 1531 | 1 | 1.53 |\n",
       "| 594 |  40 | Mirror | Mirror | 1328 | 1 | 1.33 |\n",
       "| 595 |  20 | Mirror | Mirror | 1422 | 1 | 1.42 |\n",
       "| 596 |   0 | Mirror | Mirror | 1031 | 1 | 1.03 |\n",
       "| 597 |  40 | Mirror | Mirror | 1219 | 1 | 1.22 |\n",
       "| 598 |   0 | Mirror | Mirror | 1125 | 1 | 1.12 |\n",
       "| 599 |  20 | Mirror | Mirror |  828 | 1 | 0.83 |\n",
       "| 600 |  40 | Mirror | Mirror | 1125 | 1 | 1.12 |\n",
       "\n"
      ],
      "text/plain": [
       "    Trial Angle Stimulus Response RTmsec Accuracy RTsec\n",
       "1    2     60   Same--   Same--   1750   1        1.75 \n",
       "2    3    180   Mirror   Mirror   1437   1        1.44 \n",
       "3    5    160   Mirror   Mirror   1937   1        1.94 \n",
       "4    6    180   Mirror   Mirror   1422   1        1.42 \n",
       "5    7    180   Mirror   Mirror   1937   1        1.94 \n",
       "6    8      0   Same--   Same--   1235   1        1.24 \n",
       "7    9     40   Mirror   Mirror   3297   1        3.30 \n",
       "8   10    140   Same--   Same--   1984   1        1.98 \n",
       "9   11     60   Mirror   Mirror   1844   1        1.84 \n",
       "10  12    160   Same--   Same--   3453   1        3.45 \n",
       "11  13     40   Mirror   Mirror   3000   1        3.00 \n",
       "12  15    140   Mirror   Mirror   2922   1        2.92 \n",
       "13  16    120   Mirror   Mirror   2641   1        2.64 \n",
       "14  18    100   Mirror   Mirror   4204   1        4.20 \n",
       "15  20     40   Mirror   Mirror   2140   1        2.14 \n",
       "16  21     60   Mirror   Mirror   3469   1        3.47 \n",
       "17  22     60   Mirror   Mirror   2422   1        2.42 \n",
       "18  23      0   Same--   Same--   2047   1        2.05 \n",
       "19  24    120   Same--   Same--   1422   1        1.42 \n",
       "20  25     40   Same--   Same--   1937   1        1.94 \n",
       "21  26     60   Mirror   Mirror   2235   1        2.23 \n",
       "22  27      0   Mirror   Mirror   2140   1        2.14 \n",
       "23  28    160   Mirror   Mirror   1328   1        1.33 \n",
       "24  29    180   Mirror   Mirror   2453   1        2.45 \n",
       "25  30    160   Mirror   Mirror   1422   1        1.42 \n",
       "26  31    180   Mirror   Mirror   1532   1        1.53 \n",
       "27  32    180   Mirror   Mirror   1640   1        1.64 \n",
       "28  33    120   Same--   Same--   1828   1        1.83 \n",
       "29  34    180   Mirror   Mirror   3453   1        3.45 \n",
       "30  35     40   Mirror   Mirror   1938   1        1.94 \n",
       "... ...   ...   ...      ...      ...    ...      ...  \n",
       "511 567   180   Mirror   Mirror   1016   1        1.02 \n",
       "512 568     0   Same--   Same--    828   1        0.83 \n",
       "513 569   180   Mirror   Mirror   1328   1        1.33 \n",
       "514 570   100   Same--   Same--   1234   1        1.23 \n",
       "515 571     0   Mirror   Mirror   1531   1        1.53 \n",
       "516 572   100   Same--   Same--   1625   1        1.62 \n",
       "517 573   120   Mirror   Mirror   1032   1        1.03 \n",
       "518 574   100   Mirror   Mirror   1422   1        1.42 \n",
       "519 575   120   Mirror   Mirror   1031   1        1.03 \n",
       "520 577   180   Mirror   Mirror   1125   1        1.12 \n",
       "521 578     0   Same--   Same--    828   1        0.83 \n",
       "522 579   120   Mirror   Mirror   2140   1        2.14 \n",
       "523 580   140   Same--   Same--   1219   1        1.22 \n",
       "524 581   140   Same--   Same--   1922   1        1.92 \n",
       "525 582    40   Same--   Same--   1031   1        1.03 \n",
       "526 583    20   Same--   Same--    719   1        0.72 \n",
       "527 584   100   Same--   Same--   1125   1        1.12 \n",
       "528 585    20   Same--   Same--    922   1        0.92 \n",
       "529 586    40   Same--   Same--    718   1        0.72 \n",
       "530 589     0   Same--   Same--    922   1        0.92 \n",
       "531 590   100   Same--   Same--    922   1        0.92 \n",
       "532 591   100   Same--   Same--   1015   1        1.01 \n",
       "533 593    40   Mirror   Mirror   1531   1        1.53 \n",
       "534 594    40   Mirror   Mirror   1328   1        1.33 \n",
       "535 595    20   Mirror   Mirror   1422   1        1.42 \n",
       "536 596     0   Mirror   Mirror   1031   1        1.03 \n",
       "537 597    40   Mirror   Mirror   1219   1        1.22 \n",
       "538 598     0   Mirror   Mirror   1125   1        1.12 \n",
       "539 599    20   Mirror   Mirror    828   1        0.83 \n",
       "540 600    40   Mirror   Mirror   1125   1        1.12 "
      ]
     },
     "metadata": {},
     "output_type": "display_data"
    }
   ],
   "source": [
    "data %>%  filter(Accuracy==1)"
   ]
  },
  {
   "cell_type": "markdown",
   "metadata": {},
   "source": [
    "## 6.Check the normality of the data using:"
   ]
  },
  {
   "cell_type": "code",
   "execution_count": 764,
   "metadata": {
    "scrolled": true
   },
   "outputs": [
    {
     "data": {
      "text/html": [
       "<table class=\"dataframe\">\n",
       "<caption>A tibble: 20 × 5</caption>\n",
       "<thead>\n",
       "\t<tr><th scope=col>Angle</th><th scope=col>Stimulus</th><th scope=col>variable</th><th scope=col>statistic</th><th scope=col>p</th></tr>\n",
       "\t<tr><th scope=col>&lt;int&gt;</th><th scope=col>&lt;chr&gt;</th><th scope=col>&lt;chr&gt;</th><th scope=col>&lt;dbl&gt;</th><th scope=col>&lt;dbl&gt;</th></tr>\n",
       "</thead>\n",
       "<tbody>\n",
       "\t<tr><td>  0</td><td>Mirror</td><td>RTsec</td><td>0.9026489</td><td>9.755896e-03</td></tr>\n",
       "\t<tr><td>  0</td><td>Same--</td><td>RTsec</td><td>0.7891064</td><td>4.177021e-05</td></tr>\n",
       "\t<tr><td> 20</td><td>Mirror</td><td>RTsec</td><td>0.9594340</td><td>2.996037e-01</td></tr>\n",
       "\t<tr><td> 20</td><td>Same--</td><td>RTsec</td><td>0.9292004</td><td>4.676145e-02</td></tr>\n",
       "\t<tr><td> 40</td><td>Mirror</td><td>RTsec</td><td>0.8496028</td><td>6.082773e-04</td></tr>\n",
       "\t<tr><td> 40</td><td>Same--</td><td>RTsec</td><td>0.9511340</td><td>1.812921e-01</td></tr>\n",
       "\t<tr><td> 60</td><td>Mirror</td><td>RTsec</td><td>0.8283013</td><td>2.250139e-04</td></tr>\n",
       "\t<tr><td> 60</td><td>Same--</td><td>RTsec</td><td>0.9758657</td><td>7.082290e-01</td></tr>\n",
       "\t<tr><td> 80</td><td>Mirror</td><td>RTsec</td><td>0.8131660</td><td>1.150080e-04</td></tr>\n",
       "\t<tr><td> 80</td><td>Same--</td><td>RTsec</td><td>0.8234052</td><td>1.805461e-04</td></tr>\n",
       "\t<tr><td>100</td><td>Mirror</td><td>RTsec</td><td>0.8682327</td><td>1.846534e-03</td></tr>\n",
       "\t<tr><td>100</td><td>Same--</td><td>RTsec</td><td>0.9349490</td><td>5.987777e-02</td></tr>\n",
       "\t<tr><td>120</td><td>Mirror</td><td>RTsec</td><td>0.8293758</td><td>2.362491e-04</td></tr>\n",
       "\t<tr><td>120</td><td>Same--</td><td>RTsec</td><td>0.8661488</td><td>1.376839e-03</td></tr>\n",
       "\t<tr><td>140</td><td>Mirror</td><td>RTsec</td><td>0.8891858</td><td>4.614688e-03</td></tr>\n",
       "\t<tr><td>140</td><td>Same--</td><td>RTsec</td><td>0.8259200</td><td>2.020877e-04</td></tr>\n",
       "\t<tr><td>160</td><td>Mirror</td><td>RTsec</td><td>0.9376187</td><td>8.686297e-02</td></tr>\n",
       "\t<tr><td>160</td><td>Same--</td><td>RTsec</td><td>0.8964574</td><td>5.886896e-03</td></tr>\n",
       "\t<tr><td>180</td><td>Mirror</td><td>RTsec</td><td>0.7966505</td><td>5.699875e-05</td></tr>\n",
       "\t<tr><td>180</td><td>Same--</td><td>RTsec</td><td>0.9342932</td><td>6.391149e-02</td></tr>\n",
       "</tbody>\n",
       "</table>\n"
      ],
      "text/latex": [
       "A tibble: 20 × 5\n",
       "\\begin{tabular}{lllll}\n",
       " Angle & Stimulus & variable & statistic & p\\\\\n",
       " <int> & <chr> & <chr> & <dbl> & <dbl>\\\\\n",
       "\\hline\n",
       "\t   0 & Mirror & RTsec & 0.9026489 & 9.755896e-03\\\\\n",
       "\t   0 & Same-- & RTsec & 0.7891064 & 4.177021e-05\\\\\n",
       "\t  20 & Mirror & RTsec & 0.9594340 & 2.996037e-01\\\\\n",
       "\t  20 & Same-- & RTsec & 0.9292004 & 4.676145e-02\\\\\n",
       "\t  40 & Mirror & RTsec & 0.8496028 & 6.082773e-04\\\\\n",
       "\t  40 & Same-- & RTsec & 0.9511340 & 1.812921e-01\\\\\n",
       "\t  60 & Mirror & RTsec & 0.8283013 & 2.250139e-04\\\\\n",
       "\t  60 & Same-- & RTsec & 0.9758657 & 7.082290e-01\\\\\n",
       "\t  80 & Mirror & RTsec & 0.8131660 & 1.150080e-04\\\\\n",
       "\t  80 & Same-- & RTsec & 0.8234052 & 1.805461e-04\\\\\n",
       "\t 100 & Mirror & RTsec & 0.8682327 & 1.846534e-03\\\\\n",
       "\t 100 & Same-- & RTsec & 0.9349490 & 5.987777e-02\\\\\n",
       "\t 120 & Mirror & RTsec & 0.8293758 & 2.362491e-04\\\\\n",
       "\t 120 & Same-- & RTsec & 0.8661488 & 1.376839e-03\\\\\n",
       "\t 140 & Mirror & RTsec & 0.8891858 & 4.614688e-03\\\\\n",
       "\t 140 & Same-- & RTsec & 0.8259200 & 2.020877e-04\\\\\n",
       "\t 160 & Mirror & RTsec & 0.9376187 & 8.686297e-02\\\\\n",
       "\t 160 & Same-- & RTsec & 0.8964574 & 5.886896e-03\\\\\n",
       "\t 180 & Mirror & RTsec & 0.7966505 & 5.699875e-05\\\\\n",
       "\t 180 & Same-- & RTsec & 0.9342932 & 6.391149e-02\\\\\n",
       "\\end{tabular}\n"
      ],
      "text/markdown": [
       "\n",
       "A tibble: 20 × 5\n",
       "\n",
       "| Angle &lt;int&gt; | Stimulus &lt;chr&gt; | variable &lt;chr&gt; | statistic &lt;dbl&gt; | p &lt;dbl&gt; |\n",
       "|---|---|---|---|---|\n",
       "|   0 | Mirror | RTsec | 0.9026489 | 9.755896e-03 |\n",
       "|   0 | Same-- | RTsec | 0.7891064 | 4.177021e-05 |\n",
       "|  20 | Mirror | RTsec | 0.9594340 | 2.996037e-01 |\n",
       "|  20 | Same-- | RTsec | 0.9292004 | 4.676145e-02 |\n",
       "|  40 | Mirror | RTsec | 0.8496028 | 6.082773e-04 |\n",
       "|  40 | Same-- | RTsec | 0.9511340 | 1.812921e-01 |\n",
       "|  60 | Mirror | RTsec | 0.8283013 | 2.250139e-04 |\n",
       "|  60 | Same-- | RTsec | 0.9758657 | 7.082290e-01 |\n",
       "|  80 | Mirror | RTsec | 0.8131660 | 1.150080e-04 |\n",
       "|  80 | Same-- | RTsec | 0.8234052 | 1.805461e-04 |\n",
       "| 100 | Mirror | RTsec | 0.8682327 | 1.846534e-03 |\n",
       "| 100 | Same-- | RTsec | 0.9349490 | 5.987777e-02 |\n",
       "| 120 | Mirror | RTsec | 0.8293758 | 2.362491e-04 |\n",
       "| 120 | Same-- | RTsec | 0.8661488 | 1.376839e-03 |\n",
       "| 140 | Mirror | RTsec | 0.8891858 | 4.614688e-03 |\n",
       "| 140 | Same-- | RTsec | 0.8259200 | 2.020877e-04 |\n",
       "| 160 | Mirror | RTsec | 0.9376187 | 8.686297e-02 |\n",
       "| 160 | Same-- | RTsec | 0.8964574 | 5.886896e-03 |\n",
       "| 180 | Mirror | RTsec | 0.7966505 | 5.699875e-05 |\n",
       "| 180 | Same-- | RTsec | 0.9342932 | 6.391149e-02 |\n",
       "\n"
      ],
      "text/plain": [
       "   Angle Stimulus variable statistic p           \n",
       "1    0   Mirror   RTsec    0.9026489 9.755896e-03\n",
       "2    0   Same--   RTsec    0.7891064 4.177021e-05\n",
       "3   20   Mirror   RTsec    0.9594340 2.996037e-01\n",
       "4   20   Same--   RTsec    0.9292004 4.676145e-02\n",
       "5   40   Mirror   RTsec    0.8496028 6.082773e-04\n",
       "6   40   Same--   RTsec    0.9511340 1.812921e-01\n",
       "7   60   Mirror   RTsec    0.8283013 2.250139e-04\n",
       "8   60   Same--   RTsec    0.9758657 7.082290e-01\n",
       "9   80   Mirror   RTsec    0.8131660 1.150080e-04\n",
       "10  80   Same--   RTsec    0.8234052 1.805461e-04\n",
       "11 100   Mirror   RTsec    0.8682327 1.846534e-03\n",
       "12 100   Same--   RTsec    0.9349490 5.987777e-02\n",
       "13 120   Mirror   RTsec    0.8293758 2.362491e-04\n",
       "14 120   Same--   RTsec    0.8661488 1.376839e-03\n",
       "15 140   Mirror   RTsec    0.8891858 4.614688e-03\n",
       "16 140   Same--   RTsec    0.8259200 2.020877e-04\n",
       "17 160   Mirror   RTsec    0.9376187 8.686297e-02\n",
       "18 160   Same--   RTsec    0.8964574 5.886896e-03\n",
       "19 180   Mirror   RTsec    0.7966505 5.699875e-05\n",
       "20 180   Same--   RTsec    0.9342932 6.391149e-02"
      ]
     },
     "metadata": {},
     "output_type": "display_data"
    }
   ],
   "source": [
    "data %>% group_by(Angle,Stimulus) %>% shapiro_test(RTsec)"
   ]
  },
  {
   "cell_type": "markdown",
   "metadata": {},
   "source": [
    "یکی از راه های سنجش نرمال بودن توزیع استفاده از تست شپیرو ست. از انجایی که مقدار\n",
    "p-value\n",
    "برای همه حالات، مقدار بسیار کوچکی ست در می یابیم که توزیع ما از توزیع نرمال تبعیت نمی کند."
   ]
  },
  {
   "cell_type": "markdown",
   "metadata": {},
   "source": [
    "## 7.Find and plot a sampling distribution using a selection of samples such as 50 with sample size equals to 5 from the data in the table above"
   ]
  },
  {
   "cell_type": "code",
   "execution_count": 834,
   "metadata": {},
   "outputs": [
    {
     "data": {
      "image/png": "[encoded data removed]",
      "text/plain": [
       "Plot with title \"Sampling Distribution of Mean\""
      ]
     },
     "metadata": {
      "image/png": {
       "height": 420,
       "width": 420
      }
     },
     "output_type": "display_data"
    }
   ],
   "source": [
    "sample_means <- replicate(50, mean(sample(data$RTsec, size = 5, replace = TRUE)))\n",
    "hist(sample_means,probability=TRUE, main = \"Sampling Distribution of Mean\", xlab = \"Sample Mean\", ylab = \"Frequency\", col = \"lightblue\")\n",
    "lines(density(sample_means),col='red')"
   ]
  },
  {
   "cell_type": "markdown",
   "metadata": {},
   "source": [
    "### 7.A Compare the means and the standard deviations for the distribution in main data and the sampling distribution of the mean.\n"
   ]
  },
  {
   "cell_type": "code",
   "execution_count": 765,
   "metadata": {
    "scrolled": true
   },
   "outputs": [
    {
     "name": "stdout",
     "output_type": "stream",
     "text": [
      "[1] \"Main Data:\"\n",
      "[1] \"Mean: 1.54504332755633\"\n",
      "[1] \"Standard Deviation: 0.500311402883819\"\n",
      "[1] \"Sampling Distribution of Mean:\"\n",
      "[1] \"Mean: 1.5446233\"\n",
      "[1] \"Standard Deviation: 0.222906189361293\"\n"
     ]
    }
   ],
   "source": [
    "main_data_mean <- mean(data_clean$RTsec)\n",
    "main_data_sd <- sd(data_clean$RTsec)\n",
    "sample_means_mean <- mean(sample_means)\n",
    "sample_means_sd <- sd(sample_means)\n",
    "print(\"Main Data:\")\n",
    "print(paste(\"Mean:\", main_data_mean))\n",
    "print(paste(\"Standard Deviation:\", main_data_sd))\n",
    "print(\"Sampling Distribution of Mean:\")\n",
    "print(paste(\"Mean:\", sample_means_mean))\n",
    "print(paste(\"Standard Deviation:\", sample_means_sd))\n"
   ]
  },
  {
   "cell_type": "markdown",
   "metadata": {},
   "source": [
    "میانگین داده های اصلی 1.545 است، در حالی که میانگین توزیع نمونه گیری میانگین نیز 1.545 . این نشان می دهد که میانگین نمونه برآورد خوبی از میانگین جامعه است.\n",
    "\n",
    "انحراف معیار داده های اصلی 0.500 است، در حالی که انحراف معیار توزیع نمونه گیری میانگین 0.223 است. انحراف معیار توزیع نمونه‌گیری کوچکتر از انحراف معیار داده‌های اصلی است، که انتظار می‌رود زیرا انحراف معیار توزیع نمونه‌گیری با افزایش حجم نمونه کاهش می‌یابد. این نشان می دهد که میانگین نمونه تخمین دقیق تری از میانگین جامعه نسبت به هر مشاهده منفرد در داده های اصلی است."
   ]
  },
  {
   "cell_type": "markdown",
   "metadata": {},
   "source": [
    "### 7.B What would the Central Limit Theorem lead you to expect in this situation?\n"
   ]
  },
  {
   "cell_type": "markdown",
   "metadata": {},
   "source": [
    "قضیه حد مرکزی بیان میکند که با افزایش حجم نمونه، توزیع نمونه‌گیری میانگین به توزیع نرمال با میانگین برابر با میانگین جامعه و انحراف معیار برابر با انحراف استاندارد جمعیت تقسیم بر جذر اندازه نمونه خواهد بود.  علاوه بر این، این قضیه پیش‌بینی می‌کند که با افزایش حجم نمونه، میانگین نمونه تخمین دقیق‌تری از میانگین جامعه خواهد بود.\n",
    "\n"
   ]
  },
  {
   "cell_type": "markdown",
   "metadata": {},
   "source": [
    "### 7.C Do the data correspond to what you would predict?\n"
   ]
  },
  {
   "cell_type": "markdown",
   "metadata": {},
   "source": [
    "داده ها در این موقعیت با آنچه که ما بر اساس قضیه حد مرکزی پیش بینی کردیم مطابقت دارد. میانگین داده‌های اصلی و میانگین توزیع نمونه‌گیری میانگین برابر است که نشان می‌دهد میانگین نمونه برآورد خوبی از میانگین جامعه است. انحراف معیار توزیع نمونه‌گیری میانگین کمتر از انحراف معیار داده‌های اصلی است که با افزایش حجم نمونه چنین انتظاری را داشتیم. بنابراین، داده ها از  قضیه حد مرکزی حمایت می کنند."
   ]
  },
  {
   "cell_type": "markdown",
   "metadata": {},
   "source": [
    "### 7.D In what way would the result differ if you had drawn more samples of size 5?\n"
   ]
  },
  {
   "cell_type": "code",
   "execution_count": 569,
   "metadata": {},
   "outputs": [
    {
     "data": {
      "image/png": "[encoded data removed]",
      "text/plain": [
       "Plot with title \"Sampling Distribution of Mean\""
      ]
     },
     "metadata": {
      "image/png": {
       "height": 420,
       "width": 420
      }
     },
     "output_type": "display_data"
    }
   ],
   "source": [
    "sample_means <- replicate(20000, mean(sample(data_clean$RTsec, size = 5, replace = TRUE)))\n",
    "hist(sample_means,probability=TRUE, main = \"Sampling Distribution of Mean\", xlab = \"Sample Mean\", ylab = \"Frequency\", col = \"lightblue\")\n",
    "lines(density(sample_means),col='red')"
   ]
  },
  {
   "cell_type": "markdown",
   "metadata": {},
   "source": [
    "اگر نمونه‌های بیشتری با اندازه 5 داشته باشیم، توزیع نمونه‌گیری میانگین همچنان به توزیع نرمال با میانگین برابر با میانگین جامعه و انحراف معیار برابر با انحراف استاندارد جمعیت تقسیم بر جذر حجم نمونه نزدیک می‌شود. با این حال، به دلیل حجم نمونه کوچکتر، ممکن است تنوع بیشتری در میانگین نمونه وجود داشته باشد که منجر به گسترش عرضی توزیع نمونه می‌شود. علاوه بر این، به دلیل حجم نمونه کوچکتر، ممکن است مقادیر پرت یا شدیدتری در میانگین نمونه وجود داشته باشد. به طور کلی، دقت میانگین نمونه به عنوان برآورد میانگین جامعه ممکن است با حجم نمونه کوچکتر متغیرتر و کمتر قابل اعتماد باشد."
   ]
  },
  {
   "cell_type": "code",
   "execution_count": null,
   "metadata": {},
   "outputs": [],
   "source": []
  },
  {
   "cell_type": "markdown",
   "metadata": {},
   "source": [
    "### 7.E In what way would the result differ if you had drawn 50 samples of size 15?\n"
   ]
  },
  {
   "cell_type": "code",
   "execution_count": 401,
   "metadata": {},
   "outputs": [
    {
     "data": {
      "image/png": "[encoded data removed]",
      "text/plain": [
       "Plot with title \"Sampling Distribution of Mean\""
      ]
     },
     "metadata": {
      "image/png": {
       "height": 420,
       "width": 420
      }
     },
     "output_type": "display_data"
    }
   ],
   "source": [
    "sample_means <- replicate(50, mean(sample(data_clean$RTsec, size = 15, replace = TRUE)))\n",
    "hist(sample_means,probability=TRUE, main = \"Sampling Distribution of Mean\", xlab = \"Sample Mean\", ylab = \"Frequency\", col = \"lightblue\")\n",
    "lines(density(sample_means),col='red')"
   ]
  },
  {
   "cell_type": "markdown",
   "metadata": {},
   "source": [
    "اگر 50 نمونه با اندازه 15 داشته باشیم، توزیع نمونه‌گیری میانگین همچنان از قضیه حد مرکزی تبعیت می کند. با این حال، به دلیل حجم نمونه بزرگتر، تنوع کمتری در میانگین نمونه وجود خواهد داشت که منجر به گسترش محدودتر توزیع نمونه می شود. بعلاوه، به دلیل حجم نمونه بزرگتر، مقادیر پرت یا اکستریم کمتری در میانگین نمونه وجود خواهد داشت. به طور کلی، دقت میانگین نمونه به عنوان تخمین میانگین جامعه قابل اعتمادتر و با حجم نمونه بزرگتر سازگارتر خواهد بود."
   ]
  },
  {
   "cell_type": "markdown",
   "metadata": {},
   "source": [
    "## 8. Check out the QQ plot.\n"
   ]
  },
  {
   "cell_type": "code",
   "execution_count": 570,
   "metadata": {
    "scrolled": true
   },
   "outputs": [
    {
     "data": {
      "image/png": "[encoded data removed]",
      "text/plain": [
       "plot without title"
      ]
     },
     "metadata": {
      "image/png": {
       "height": 420,
       "width": 420
      }
     },
     "output_type": "display_data"
    }
   ],
   "source": [
    "ggqqplot(data, \"RTsec\") "
   ]
  },
  {
   "cell_type": "code",
   "execution_count": 383,
   "metadata": {},
   "outputs": [
    {
     "data": {
      "image/png": "[encoded data removed]",
      "text/plain": [
       "plot without title"
      ]
     },
     "metadata": {
      "image/png": {
       "height": 420,
       "width": 420
      }
     },
     "output_type": "display_data"
    }
   ],
   "source": [
    "ggqqplot(data, \"RTsec\", facet.by=\"Angle\", col=\"Stimulus\") "
   ]
  },
  {
   "cell_type": "markdown",
   "metadata": {},
   "source": [
    "از آنجایی که همه داده ها در بازه اطمینان توزیع نرمال قرار نمی گیرند میتوان نتیجه گرفت که توزیع ما نرمال نیست "
   ]
  },
  {
   "cell_type": "markdown",
   "metadata": {},
   "source": [
    "## 9.Use the appropriate statistical test and check its p-value and discuss it. What is the null hypothesis? Outline the hypothesis-testing procedure that you have just applied. Compute 95% confidence llimit on mean (or median).\n"
   ]
  },
  {
   "cell_type": "markdown",
   "metadata": {},
   "source": [
    "از آنجایی که توزیع زمان واکنش نرمال نیست باید از روش های ناپارمتری استفاده کرد . در این مورد چون دو متغیر مستقل و یک متغیر وابسته داریم از کراسکال-والیس استفاده می کنیم."
   ]
  },
  {
   "cell_type": "code",
   "execution_count": 718,
   "metadata": {},
   "outputs": [],
   "source": [
    "library(rstatix)"
   ]
  },
  {
   "cell_type": "code",
   "execution_count": 847,
   "metadata": {
    "scrolled": false
   },
   "outputs": [
    {
     "data": {
      "text/plain": [
       "\n",
       "\tKruskal-Wallis rank sum test\n",
       "\n",
       "data:  RTsec by Angle\n",
       "Kruskal-Wallis chi-squared = 47.504, df = 9, p-value = 3.161e-07\n"
      ]
     },
     "metadata": {},
     "output_type": "display_data"
    }
   ],
   "source": [
    "# Perform Kruskal-Wallis test\n",
    "group_by_data = data %>% group_by(Stimulus)\n",
    "kruskal.test(RTsec ~ Angle, data=group_by_data)"
   ]
  },
  {
   "cell_type": "code",
   "execution_count": 848,
   "metadata": {},
   "outputs": [
    {
     "data": {
      "text/html": [
       "<table class=\"dataframe\">\n",
       "<caption>A rstatix_test: 2 × 6</caption>\n",
       "<thead>\n",
       "\t<tr><th></th><th scope=col>Stimulus</th><th scope=col>.y.</th><th scope=col>n</th><th scope=col>effsize</th><th scope=col>method</th><th scope=col>magnitude</th></tr>\n",
       "\t<tr><th></th><th scope=col>&lt;chr&gt;</th><th scope=col>&lt;chr&gt;</th><th scope=col>&lt;int&gt;</th><th scope=col>&lt;dbl&gt;</th><th scope=col>&lt;chr&gt;</th><th scope=col>&lt;ord&gt;</th></tr>\n",
       "</thead>\n",
       "<tbody>\n",
       "\t<tr><th scope=row>1</th><td>Mirror</td><td>RTsec</td><td>295</td><td>-0.02395359</td><td>eta2[H]</td><td>small</td></tr>\n",
       "\t<tr><th scope=row>2</th><td>Same--</td><td>RTsec</td><td>300</td><td> 0.26839997</td><td>eta2[H]</td><td>large</td></tr>\n",
       "</tbody>\n",
       "</table>\n"
      ],
      "text/latex": [
       "A rstatix\\_test: 2 × 6\n",
       "\\begin{tabular}{r|llllll}\n",
       "  & Stimulus & .y. & n & effsize & method & magnitude\\\\\n",
       "  & <chr> & <chr> & <int> & <dbl> & <chr> & <ord>\\\\\n",
       "\\hline\n",
       "\t1 & Mirror & RTsec & 295 & -0.02395359 & eta2{[}H{]} & small\\\\\n",
       "\t2 & Same-- & RTsec & 300 &  0.26839997 & eta2{[}H{]} & large\\\\\n",
       "\\end{tabular}\n"
      ],
      "text/markdown": [
       "\n",
       "A rstatix_test: 2 × 6\n",
       "\n",
       "| <!--/--> | Stimulus &lt;chr&gt; | .y. &lt;chr&gt; | n &lt;int&gt; | effsize &lt;dbl&gt; | method &lt;chr&gt; | magnitude &lt;ord&gt; |\n",
       "|---|---|---|---|---|---|---|\n",
       "| 1 | Mirror | RTsec | 295 | -0.02395359 | eta2[H] | small |\n",
       "| 2 | Same-- | RTsec | 300 |  0.26839997 | eta2[H] | large |\n",
       "\n"
      ],
      "text/plain": [
       "  Stimulus .y.   n   effsize     method  magnitude\n",
       "1 Mirror   RTsec 295 -0.02395359 eta2[H] small    \n",
       "2 Same--   RTsec 300  0.26839997 eta2[H] large    "
      ]
     },
     "metadata": {},
     "output_type": "display_data"
    }
   ],
   "source": [
    "kruskal_effsize(RTsec ~ Angle, data=group_by_data)"
   ]
  },
  {
   "cell_type": "markdown",
   "metadata": {},
   "source": [
    "همانطور که از مقدار بسیار کوچک پی و مقدار بزرگ افکت سایز (برای محرک همسان) برمی آید فرض صفر ما که عبارت بود از برابر بودن میانگین زمان واکنش در همه شرایط رد می شود. "
   ]
  },
  {
   "cell_type": "code",
   "execution_count": 729,
   "metadata": {},
   "outputs": [],
   "source": [
    "confidence_interval <- quantile(data$RTsec, probs = c(0.025, 0.975))"
   ]
  },
  {
   "cell_type": "code",
   "execution_count": 855,
   "metadata": {
    "scrolled": true
   },
   "outputs": [
    {
     "data": {
      "text/html": [
       "<style>\n",
       ".dl-inline {width: auto; margin:0; padding: 0}\n",
       ".dl-inline>dt, .dl-inline>dd {float: none; width: auto; display: inline-block}\n",
       ".dl-inline>dt::after {content: \":\\0020\"; padding-right: .5ex}\n",
       ".dl-inline>dt:not(:first-of-type) {padding-left: .5ex}\n",
       "</style><dl class=dl-inline><dt>2.5%</dt><dd>0.83</dd><dt>97.5%</dt><dd>3.068</dd></dl>\n"
      ],
      "text/latex": [
       "\\begin{description*}\n",
       "\\item[2.5\\textbackslash{}\\%] 0.83\n",
       "\\item[97.5\\textbackslash{}\\%] 3.068\n",
       "\\end{description*}\n"
      ],
      "text/markdown": [
       "2.5%\n",
       ":   0.8397.5%\n",
       ":   3.068\n",
       "\n"
      ],
      "text/plain": [
       " 2.5% 97.5% \n",
       "0.830 3.068 "
      ]
     },
     "metadata": {},
     "output_type": "display_data"
    }
   ],
   "source": [
    "confidence_interval"
   ]
  },
  {
   "cell_type": "markdown",
   "metadata": {},
   "source": [
    "فاصله اطمینان محاسبه‌شده محدوده‌ای را نشان می‌دهد که در آن می‌توانیم 95 درصد مطمئن باشیم که میانه جمعیت واقعی زمان واکنش در آن قرار دارد.\n",
    "\n",
    " آزمون های ناپارامتریک نسبت به مفروضات توزیعی حساسیت کمتری دارند و زمانی می توان از آنها استفاده کرد که داده ها از توزیع نرمال پیروی نمی کنند. با این حال، در نظر گرفتن حجم نمونه و ماهیت داده ها هنگام تفسیر نتایج مهم است."
   ]
  },
  {
   "cell_type": "markdown",
   "metadata": {},
   "source": [
    "## 10.Is the data distribution symmetrical? Examine and discuss it using an appropriate statistical test.\n"
   ]
  },
  {
   "cell_type": "code",
   "execution_count": 735,
   "metadata": {},
   "outputs": [],
   "source": [
    "library(lawstat)"
   ]
  },
  {
   "cell_type": "code",
   "execution_count": 588,
   "metadata": {},
   "outputs": [
    {
     "data": {
      "text/plain": [
       "\n",
       "\tm-out-of-n bootstrap symmetry test by Miao, Gel, and Gastwirth (2006)\n",
       "\n",
       "data:  data$RTsec\n",
       "Test statistic = 5.302, p-value < 2.2e-16\n",
       "alternative hypothesis: the distribution is asymmetric.\n",
       "sample estimates:\n",
       "bootstrap optimal m \n",
       "                234 \n"
      ]
     },
     "metadata": {},
     "output_type": "display_data"
    }
   ],
   "source": [
    "symmetry.test(data$RTsec)"
   ]
  },
  {
   "cell_type": "markdown",
   "metadata": {},
   "source": [
    "چون مقدار\n",
    "p-value\n",
    "بسیار کوچک است فرض متقارن بودن رد می شود."
   ]
  },
  {
   "cell_type": "markdown",
   "metadata": {},
   "source": [
    "## 11.We are interested in seeing whether the required degree of mental rotation influenced reaction time. What is the best research hypothesis here? What is the null hypothesis? Choose the appropriate statistical tests to examine the hypothesis in details (post hoc tests, effect size measures and etc.) and report (interpret) on the results.\n"
   ]
  },
  {
   "cell_type": "markdown",
   "metadata": {},
   "source": [
    "برای بررسی اینکه آیا درجه چرخش ذهنی مورد نیاز بر زمان واکنش تأثیر گذاشته است، می‌توانیم فرضیه تحقیق و فرضیه صفر را تنظیم کنیم:\n",
    "\n",
    "فرضیه تحقیق: بر اساس میزان چرخش ذهنی (زاویه) تفاوت معنی داری در زمان واکنش  وجود دارد.\n",
    "\n",
    "فرضیه صفر: بر اساس میزان چرخش ذهنی (زاویه) تفاوت معنی داری در زمان واکنش  وجود ندارد."
   ]
  },
  {
   "cell_type": "markdown",
   "metadata": {},
   "source": [
    "از آنجایی که داده‌ها ناپارامتریک هستند، می‌توانیم از آزمون کراسکال-والیس به جای آنالیز واریانس  برای بررسی فرضیه استفاده کنیم.\n"
   ]
  },
  {
   "cell_type": "code",
   "execution_count": 773,
   "metadata": {},
   "outputs": [],
   "source": [
    "# Perform Kruskal-Wallis test\n",
    "kruskal_result <- kruskal.test(RTsec ~ Angle,data=data)"
   ]
  },
  {
   "cell_type": "code",
   "execution_count": 774,
   "metadata": {},
   "outputs": [
    {
     "data": {
      "text/plain": [
       "\n",
       "\tKruskal-Wallis rank sum test\n",
       "\n",
       "data:  RTsec by Angle\n",
       "Kruskal-Wallis chi-squared = 49.585, df = 9, p-value = 1.289e-07\n"
      ]
     },
     "metadata": {},
     "output_type": "display_data"
    }
   ],
   "source": [
    "kruskal_result"
   ]
  },
  {
   "cell_type": "markdown",
   "metadata": {},
   "source": [
    "مقدار پی ولو بسیار کوچک فرض صفر ما را رد می کند و در نتیجه درجه چرخش تفاوت معنا داری در زمان پاسخ ایجاد می کند. اما برای بررسی دقیق تر و موردی سراغ آزمون های پست هاک میرویم"
   ]
  },
  {
   "cell_type": "code",
   "execution_count": 858,
   "metadata": {
    "scrolled": true
   },
   "outputs": [
    {
     "ename": "ERROR",
     "evalue": "Error in UseMethod(\"wilcox_test\"): no applicable method for 'wilcox_test' applied to an object of class \"data.frame\"\n",
     "output_type": "error",
     "traceback": [
      "Error in UseMethod(\"wilcox_test\"): no applicable method for 'wilcox_test' applied to an object of class \"data.frame\"\nTraceback:\n",
      "1. data %>% wilcox_test(RTsec ~ Angle, p.adjust.method = \"bonferroni\")",
      "2. wilcox_test(., RTsec ~ Angle, p.adjust.method = \"bonferroni\")"
     ]
    }
   ],
   "source": [
    "# Conduct post-hoc tests \n",
    "data %>% wilcox_test(RTsec ~ Angle, p.adjust.method = \"bonferroni\")"
   ]
  },
  {
   "cell_type": "code",
   "execution_count": 609,
   "metadata": {},
   "outputs": [
    {
     "name": "stderr",
     "output_type": "stream",
     "text": [
      "Warning message:\n",
      "\"package 'coin' is in use and will not be installed\"\n"
     ]
    }
   ],
   "source": [
    "install.packages(\"coin\")"
   ]
  },
  {
   "cell_type": "code",
   "execution_count": 610,
   "metadata": {},
   "outputs": [],
   "source": [
    "library(coin)"
   ]
  },
  {
   "cell_type": "code",
   "execution_count": 860,
   "metadata": {
    "scrolled": true
   },
   "outputs": [
    {
     "data": {
      "text/html": [
       "<table class=\"dataframe\">\n",
       "<caption>A rstatix_test: 45 × 7</caption>\n",
       "<thead>\n",
       "\t<tr><th></th><th scope=col>.y.</th><th scope=col>group1</th><th scope=col>group2</th><th scope=col>effsize</th><th scope=col>n1</th><th scope=col>n2</th><th scope=col>magnitude</th></tr>\n",
       "\t<tr><th></th><th scope=col>&lt;chr&gt;</th><th scope=col>&lt;chr&gt;</th><th scope=col>&lt;chr&gt;</th><th scope=col>&lt;dbl&gt;</th><th scope=col>&lt;int&gt;</th><th scope=col>&lt;int&gt;</th><th scope=col>&lt;ord&gt;</th></tr>\n",
       "</thead>\n",
       "<tbody>\n",
       "\t<tr><th scope=row>1</th><td>RTsec</td><td>0  </td><td>20 </td><td>0.025689563</td><td>60</td><td>60</td><td>small   </td></tr>\n",
       "\t<tr><th scope=row>2</th><td>RTsec</td><td>0  </td><td>40 </td><td>0.118106261</td><td>60</td><td>60</td><td>small   </td></tr>\n",
       "\t<tr><th scope=row>3</th><td>RTsec</td><td>0  </td><td>60 </td><td>0.241045596</td><td>60</td><td>59</td><td>small   </td></tr>\n",
       "\t<tr><th scope=row>4</th><td>RTsec</td><td>0  </td><td>80 </td><td>0.214433365</td><td>60</td><td>59</td><td>small   </td></tr>\n",
       "\t<tr><th scope=row>5</th><td>RTsec</td><td>0  </td><td>100</td><td>0.293303168</td><td>60</td><td>60</td><td>small   </td></tr>\n",
       "\t<tr><th scope=row>6</th><td>RTsec</td><td>0  </td><td>120</td><td>0.259533811</td><td>60</td><td>59</td><td>small   </td></tr>\n",
       "\t<tr><th scope=row>7</th><td>RTsec</td><td>0  </td><td>140</td><td>0.325289620</td><td>60</td><td>59</td><td>moderate</td></tr>\n",
       "\t<tr><th scope=row>8</th><td>RTsec</td><td>0  </td><td>160</td><td>0.259830634</td><td>60</td><td>60</td><td>small   </td></tr>\n",
       "\t<tr><th scope=row>9</th><td>RTsec</td><td>0  </td><td>180</td><td>0.362830792</td><td>60</td><td>59</td><td>moderate</td></tr>\n",
       "\t<tr><th scope=row>10</th><td>RTsec</td><td>20 </td><td>40 </td><td>0.173333344</td><td>60</td><td>60</td><td>small   </td></tr>\n",
       "\t<tr><th scope=row>11</th><td>RTsec</td><td>20 </td><td>60 </td><td>0.301623689</td><td>60</td><td>59</td><td>moderate</td></tr>\n",
       "\t<tr><th scope=row>12</th><td>RTsec</td><td>20 </td><td>80 </td><td>0.281531587</td><td>60</td><td>59</td><td>small   </td></tr>\n",
       "\t<tr><th scope=row>13</th><td>RTsec</td><td>20 </td><td>100</td><td>0.370933099</td><td>60</td><td>60</td><td>moderate</td></tr>\n",
       "\t<tr><th scope=row>14</th><td>RTsec</td><td>20 </td><td>120</td><td>0.325509463</td><td>60</td><td>59</td><td>moderate</td></tr>\n",
       "\t<tr><th scope=row>15</th><td>RTsec</td><td>20 </td><td>140</td><td>0.398220673</td><td>60</td><td>59</td><td>moderate</td></tr>\n",
       "\t<tr><th scope=row>16</th><td>RTsec</td><td>20 </td><td>160</td><td>0.337586852</td><td>60</td><td>60</td><td>moderate</td></tr>\n",
       "\t<tr><th scope=row>17</th><td>RTsec</td><td>20 </td><td>180</td><td>0.458894065</td><td>60</td><td>59</td><td>moderate</td></tr>\n",
       "\t<tr><th scope=row>18</th><td>RTsec</td><td>40 </td><td>60 </td><td>0.150327809</td><td>60</td><td>59</td><td>small   </td></tr>\n",
       "\t<tr><th scope=row>19</th><td>RTsec</td><td>40 </td><td>80 </td><td>0.114925574</td><td>60</td><td>59</td><td>small   </td></tr>\n",
       "\t<tr><th scope=row>20</th><td>RTsec</td><td>40 </td><td>100</td><td>0.201755497</td><td>60</td><td>60</td><td>small   </td></tr>\n",
       "\t<tr><th scope=row>21</th><td>RTsec</td><td>40 </td><td>120</td><td>0.156188643</td><td>60</td><td>59</td><td>small   </td></tr>\n",
       "\t<tr><th scope=row>22</th><td>RTsec</td><td>40 </td><td>140</td><td>0.247101690</td><td>60</td><td>59</td><td>small   </td></tr>\n",
       "\t<tr><th scope=row>23</th><td>RTsec</td><td>40 </td><td>160</td><td>0.161300965</td><td>60</td><td>60</td><td>small   </td></tr>\n",
       "\t<tr><th scope=row>24</th><td>RTsec</td><td>40 </td><td>180</td><td>0.299049297</td><td>60</td><td>59</td><td>small   </td></tr>\n",
       "\t<tr><th scope=row>25</th><td>RTsec</td><td>60 </td><td>80 </td><td>0.032488514</td><td>59</td><td>59</td><td>small   </td></tr>\n",
       "\t<tr><th scope=row>26</th><td>RTsec</td><td>60 </td><td>100</td><td>0.053892790</td><td>59</td><td>60</td><td>small   </td></tr>\n",
       "\t<tr><th scope=row>27</th><td>RTsec</td><td>60 </td><td>120</td><td>0.018111546</td><td>59</td><td>59</td><td>small   </td></tr>\n",
       "\t<tr><th scope=row>28</th><td>RTsec</td><td>60 </td><td>140</td><td>0.102399203</td><td>59</td><td>59</td><td>small   </td></tr>\n",
       "\t<tr><th scope=row>29</th><td>RTsec</td><td>60 </td><td>160</td><td>0.005368054</td><td>59</td><td>60</td><td>small   </td></tr>\n",
       "\t<tr><th scope=row>30</th><td>RTsec</td><td>60 </td><td>180</td><td>0.156976717</td><td>59</td><td>59</td><td>small   </td></tr>\n",
       "\t<tr><th scope=row>31</th><td>RTsec</td><td>80 </td><td>100</td><td>0.096558774</td><td>59</td><td>60</td><td>small   </td></tr>\n",
       "\t<tr><th scope=row>32</th><td>RTsec</td><td>80 </td><td>120</td><td>0.045645086</td><td>59</td><td>59</td><td>small   </td></tr>\n",
       "\t<tr><th scope=row>33</th><td>RTsec</td><td>80 </td><td>140</td><td>0.137615486</td><td>59</td><td>59</td><td>small   </td></tr>\n",
       "\t<tr><th scope=row>34</th><td>RTsec</td><td>80 </td><td>160</td><td>0.034885002</td><td>59</td><td>60</td><td>small   </td></tr>\n",
       "\t<tr><th scope=row>35</th><td>RTsec</td><td>80 </td><td>180</td><td>0.192406334</td><td>59</td><td>59</td><td>small   </td></tr>\n",
       "\t<tr><th scope=row>36</th><td>RTsec</td><td>100</td><td>120</td><td>0.048058101</td><td>60</td><td>59</td><td>small   </td></tr>\n",
       "\t<tr><th scope=row>37</th><td>RTsec</td><td>100</td><td>140</td><td>0.050218963</td><td>60</td><td>59</td><td>small   </td></tr>\n",
       "\t<tr><th scope=row>38</th><td>RTsec</td><td>100</td><td>160</td><td>0.066444070</td><td>60</td><td>60</td><td>small   </td></tr>\n",
       "\t<tr><th scope=row>39</th><td>RTsec</td><td>100</td><td>180</td><td>0.090455309</td><td>60</td><td>59</td><td>small   </td></tr>\n",
       "\t<tr><th scope=row>40</th><td>RTsec</td><td>120</td><td>140</td><td>0.085547266</td><td>59</td><td>59</td><td>small   </td></tr>\n",
       "\t<tr><th scope=row>41</th><td>RTsec</td><td>120</td><td>160</td><td>0.012937331</td><td>59</td><td>60</td><td>small   </td></tr>\n",
       "\t<tr><th scope=row>42</th><td>RTsec</td><td>120</td><td>180</td><td>0.147595019</td><td>59</td><td>59</td><td>small   </td></tr>\n",
       "\t<tr><th scope=row>43</th><td>RTsec</td><td>140</td><td>160</td><td>0.119481636</td><td>59</td><td>60</td><td>small   </td></tr>\n",
       "\t<tr><th scope=row>44</th><td>RTsec</td><td>140</td><td>180</td><td>0.059000754</td><td>59</td><td>59</td><td>small   </td></tr>\n",
       "\t<tr><th scope=row>45</th><td>RTsec</td><td>160</td><td>180</td><td>0.174893239</td><td>60</td><td>59</td><td>small   </td></tr>\n",
       "</tbody>\n",
       "</table>\n"
      ],
      "text/latex": [
       "A rstatix\\_test: 45 × 7\n",
       "\\begin{tabular}{r|lllllll}\n",
       "  & .y. & group1 & group2 & effsize & n1 & n2 & magnitude\\\\\n",
       "  & <chr> & <chr> & <chr> & <dbl> & <int> & <int> & <ord>\\\\\n",
       "\\hline\n",
       "\t1 & RTsec & 0   & 20  & 0.025689563 & 60 & 60 & small   \\\\\n",
       "\t2 & RTsec & 0   & 40  & 0.118106261 & 60 & 60 & small   \\\\\n",
       "\t3 & RTsec & 0   & 60  & 0.241045596 & 60 & 59 & small   \\\\\n",
       "\t4 & RTsec & 0   & 80  & 0.214433365 & 60 & 59 & small   \\\\\n",
       "\t5 & RTsec & 0   & 100 & 0.293303168 & 60 & 60 & small   \\\\\n",
       "\t6 & RTsec & 0   & 120 & 0.259533811 & 60 & 59 & small   \\\\\n",
       "\t7 & RTsec & 0   & 140 & 0.325289620 & 60 & 59 & moderate\\\\\n",
       "\t8 & RTsec & 0   & 160 & 0.259830634 & 60 & 60 & small   \\\\\n",
       "\t9 & RTsec & 0   & 180 & 0.362830792 & 60 & 59 & moderate\\\\\n",
       "\t10 & RTsec & 20  & 40  & 0.173333344 & 60 & 60 & small   \\\\\n",
       "\t11 & RTsec & 20  & 60  & 0.301623689 & 60 & 59 & moderate\\\\\n",
       "\t12 & RTsec & 20  & 80  & 0.281531587 & 60 & 59 & small   \\\\\n",
       "\t13 & RTsec & 20  & 100 & 0.370933099 & 60 & 60 & moderate\\\\\n",
       "\t14 & RTsec & 20  & 120 & 0.325509463 & 60 & 59 & moderate\\\\\n",
       "\t15 & RTsec & 20  & 140 & 0.398220673 & 60 & 59 & moderate\\\\\n",
       "\t16 & RTsec & 20  & 160 & 0.337586852 & 60 & 60 & moderate\\\\\n",
       "\t17 & RTsec & 20  & 180 & 0.458894065 & 60 & 59 & moderate\\\\\n",
       "\t18 & RTsec & 40  & 60  & 0.150327809 & 60 & 59 & small   \\\\\n",
       "\t19 & RTsec & 40  & 80  & 0.114925574 & 60 & 59 & small   \\\\\n",
       "\t20 & RTsec & 40  & 100 & 0.201755497 & 60 & 60 & small   \\\\\n",
       "\t21 & RTsec & 40  & 120 & 0.156188643 & 60 & 59 & small   \\\\\n",
       "\t22 & RTsec & 40  & 140 & 0.247101690 & 60 & 59 & small   \\\\\n",
       "\t23 & RTsec & 40  & 160 & 0.161300965 & 60 & 60 & small   \\\\\n",
       "\t24 & RTsec & 40  & 180 & 0.299049297 & 60 & 59 & small   \\\\\n",
       "\t25 & RTsec & 60  & 80  & 0.032488514 & 59 & 59 & small   \\\\\n",
       "\t26 & RTsec & 60  & 100 & 0.053892790 & 59 & 60 & small   \\\\\n",
       "\t27 & RTsec & 60  & 120 & 0.018111546 & 59 & 59 & small   \\\\\n",
       "\t28 & RTsec & 60  & 140 & 0.102399203 & 59 & 59 & small   \\\\\n",
       "\t29 & RTsec & 60  & 160 & 0.005368054 & 59 & 60 & small   \\\\\n",
       "\t30 & RTsec & 60  & 180 & 0.156976717 & 59 & 59 & small   \\\\\n",
       "\t31 & RTsec & 80  & 100 & 0.096558774 & 59 & 60 & small   \\\\\n",
       "\t32 & RTsec & 80  & 120 & 0.045645086 & 59 & 59 & small   \\\\\n",
       "\t33 & RTsec & 80  & 140 & 0.137615486 & 59 & 59 & small   \\\\\n",
       "\t34 & RTsec & 80  & 160 & 0.034885002 & 59 & 60 & small   \\\\\n",
       "\t35 & RTsec & 80  & 180 & 0.192406334 & 59 & 59 & small   \\\\\n",
       "\t36 & RTsec & 100 & 120 & 0.048058101 & 60 & 59 & small   \\\\\n",
       "\t37 & RTsec & 100 & 140 & 0.050218963 & 60 & 59 & small   \\\\\n",
       "\t38 & RTsec & 100 & 160 & 0.066444070 & 60 & 60 & small   \\\\\n",
       "\t39 & RTsec & 100 & 180 & 0.090455309 & 60 & 59 & small   \\\\\n",
       "\t40 & RTsec & 120 & 140 & 0.085547266 & 59 & 59 & small   \\\\\n",
       "\t41 & RTsec & 120 & 160 & 0.012937331 & 59 & 60 & small   \\\\\n",
       "\t42 & RTsec & 120 & 180 & 0.147595019 & 59 & 59 & small   \\\\\n",
       "\t43 & RTsec & 140 & 160 & 0.119481636 & 59 & 60 & small   \\\\\n",
       "\t44 & RTsec & 140 & 180 & 0.059000754 & 59 & 59 & small   \\\\\n",
       "\t45 & RTsec & 160 & 180 & 0.174893239 & 60 & 59 & small   \\\\\n",
       "\\end{tabular}\n"
      ],
      "text/markdown": [
       "\n",
       "A rstatix_test: 45 × 7\n",
       "\n",
       "| <!--/--> | .y. &lt;chr&gt; | group1 &lt;chr&gt; | group2 &lt;chr&gt; | effsize &lt;dbl&gt; | n1 &lt;int&gt; | n2 &lt;int&gt; | magnitude &lt;ord&gt; |\n",
       "|---|---|---|---|---|---|---|---|\n",
       "| 1 | RTsec | 0   | 20  | 0.025689563 | 60 | 60 | small    |\n",
       "| 2 | RTsec | 0   | 40  | 0.118106261 | 60 | 60 | small    |\n",
       "| 3 | RTsec | 0   | 60  | 0.241045596 | 60 | 59 | small    |\n",
       "| 4 | RTsec | 0   | 80  | 0.214433365 | 60 | 59 | small    |\n",
       "| 5 | RTsec | 0   | 100 | 0.293303168 | 60 | 60 | small    |\n",
       "| 6 | RTsec | 0   | 120 | 0.259533811 | 60 | 59 | small    |\n",
       "| 7 | RTsec | 0   | 140 | 0.325289620 | 60 | 59 | moderate |\n",
       "| 8 | RTsec | 0   | 160 | 0.259830634 | 60 | 60 | small    |\n",
       "| 9 | RTsec | 0   | 180 | 0.362830792 | 60 | 59 | moderate |\n",
       "| 10 | RTsec | 20  | 40  | 0.173333344 | 60 | 60 | small    |\n",
       "| 11 | RTsec | 20  | 60  | 0.301623689 | 60 | 59 | moderate |\n",
       "| 12 | RTsec | 20  | 80  | 0.281531587 | 60 | 59 | small    |\n",
       "| 13 | RTsec | 20  | 100 | 0.370933099 | 60 | 60 | moderate |\n",
       "| 14 | RTsec | 20  | 120 | 0.325509463 | 60 | 59 | moderate |\n",
       "| 15 | RTsec | 20  | 140 | 0.398220673 | 60 | 59 | moderate |\n",
       "| 16 | RTsec | 20  | 160 | 0.337586852 | 60 | 60 | moderate |\n",
       "| 17 | RTsec | 20  | 180 | 0.458894065 | 60 | 59 | moderate |\n",
       "| 18 | RTsec | 40  | 60  | 0.150327809 | 60 | 59 | small    |\n",
       "| 19 | RTsec | 40  | 80  | 0.114925574 | 60 | 59 | small    |\n",
       "| 20 | RTsec | 40  | 100 | 0.201755497 | 60 | 60 | small    |\n",
       "| 21 | RTsec | 40  | 120 | 0.156188643 | 60 | 59 | small    |\n",
       "| 22 | RTsec | 40  | 140 | 0.247101690 | 60 | 59 | small    |\n",
       "| 23 | RTsec | 40  | 160 | 0.161300965 | 60 | 60 | small    |\n",
       "| 24 | RTsec | 40  | 180 | 0.299049297 | 60 | 59 | small    |\n",
       "| 25 | RTsec | 60  | 80  | 0.032488514 | 59 | 59 | small    |\n",
       "| 26 | RTsec | 60  | 100 | 0.053892790 | 59 | 60 | small    |\n",
       "| 27 | RTsec | 60  | 120 | 0.018111546 | 59 | 59 | small    |\n",
       "| 28 | RTsec | 60  | 140 | 0.102399203 | 59 | 59 | small    |\n",
       "| 29 | RTsec | 60  | 160 | 0.005368054 | 59 | 60 | small    |\n",
       "| 30 | RTsec | 60  | 180 | 0.156976717 | 59 | 59 | small    |\n",
       "| 31 | RTsec | 80  | 100 | 0.096558774 | 59 | 60 | small    |\n",
       "| 32 | RTsec | 80  | 120 | 0.045645086 | 59 | 59 | small    |\n",
       "| 33 | RTsec | 80  | 140 | 0.137615486 | 59 | 59 | small    |\n",
       "| 34 | RTsec | 80  | 160 | 0.034885002 | 59 | 60 | small    |\n",
       "| 35 | RTsec | 80  | 180 | 0.192406334 | 59 | 59 | small    |\n",
       "| 36 | RTsec | 100 | 120 | 0.048058101 | 60 | 59 | small    |\n",
       "| 37 | RTsec | 100 | 140 | 0.050218963 | 60 | 59 | small    |\n",
       "| 38 | RTsec | 100 | 160 | 0.066444070 | 60 | 60 | small    |\n",
       "| 39 | RTsec | 100 | 180 | 0.090455309 | 60 | 59 | small    |\n",
       "| 40 | RTsec | 120 | 140 | 0.085547266 | 59 | 59 | small    |\n",
       "| 41 | RTsec | 120 | 160 | 0.012937331 | 59 | 60 | small    |\n",
       "| 42 | RTsec | 120 | 180 | 0.147595019 | 59 | 59 | small    |\n",
       "| 43 | RTsec | 140 | 160 | 0.119481636 | 59 | 60 | small    |\n",
       "| 44 | RTsec | 140 | 180 | 0.059000754 | 59 | 59 | small    |\n",
       "| 45 | RTsec | 160 | 180 | 0.174893239 | 60 | 59 | small    |\n",
       "\n"
      ],
      "text/plain": [
       "   .y.   group1 group2 effsize     n1 n2 magnitude\n",
       "1  RTsec 0      20     0.025689563 60 60 small    \n",
       "2  RTsec 0      40     0.118106261 60 60 small    \n",
       "3  RTsec 0      60     0.241045596 60 59 small    \n",
       "4  RTsec 0      80     0.214433365 60 59 small    \n",
       "5  RTsec 0      100    0.293303168 60 60 small    \n",
       "6  RTsec 0      120    0.259533811 60 59 small    \n",
       "7  RTsec 0      140    0.325289620 60 59 moderate \n",
       "8  RTsec 0      160    0.259830634 60 60 small    \n",
       "9  RTsec 0      180    0.362830792 60 59 moderate \n",
       "10 RTsec 20     40     0.173333344 60 60 small    \n",
       "11 RTsec 20     60     0.301623689 60 59 moderate \n",
       "12 RTsec 20     80     0.281531587 60 59 small    \n",
       "13 RTsec 20     100    0.370933099 60 60 moderate \n",
       "14 RTsec 20     120    0.325509463 60 59 moderate \n",
       "15 RTsec 20     140    0.398220673 60 59 moderate \n",
       "16 RTsec 20     160    0.337586852 60 60 moderate \n",
       "17 RTsec 20     180    0.458894065 60 59 moderate \n",
       "18 RTsec 40     60     0.150327809 60 59 small    \n",
       "19 RTsec 40     80     0.114925574 60 59 small    \n",
       "20 RTsec 40     100    0.201755497 60 60 small    \n",
       "21 RTsec 40     120    0.156188643 60 59 small    \n",
       "22 RTsec 40     140    0.247101690 60 59 small    \n",
       "23 RTsec 40     160    0.161300965 60 60 small    \n",
       "24 RTsec 40     180    0.299049297 60 59 small    \n",
       "25 RTsec 60     80     0.032488514 59 59 small    \n",
       "26 RTsec 60     100    0.053892790 59 60 small    \n",
       "27 RTsec 60     120    0.018111546 59 59 small    \n",
       "28 RTsec 60     140    0.102399203 59 59 small    \n",
       "29 RTsec 60     160    0.005368054 59 60 small    \n",
       "30 RTsec 60     180    0.156976717 59 59 small    \n",
       "31 RTsec 80     100    0.096558774 59 60 small    \n",
       "32 RTsec 80     120    0.045645086 59 59 small    \n",
       "33 RTsec 80     140    0.137615486 59 59 small    \n",
       "34 RTsec 80     160    0.034885002 59 60 small    \n",
       "35 RTsec 80     180    0.192406334 59 59 small    \n",
       "36 RTsec 100    120    0.048058101 60 59 small    \n",
       "37 RTsec 100    140    0.050218963 60 59 small    \n",
       "38 RTsec 100    160    0.066444070 60 60 small    \n",
       "39 RTsec 100    180    0.090455309 60 59 small    \n",
       "40 RTsec 120    140    0.085547266 59 59 small    \n",
       "41 RTsec 120    160    0.012937331 59 60 small    \n",
       "42 RTsec 120    180    0.147595019 59 59 small    \n",
       "43 RTsec 140    160    0.119481636 59 60 small    \n",
       "44 RTsec 140    180    0.059000754 59 59 small    \n",
       "45 RTsec 160    180    0.174893239 60 59 small    "
      ]
     },
     "metadata": {},
     "output_type": "display_data"
    }
   ],
   "source": [
    "data %>% wilcox_effsize(RTsec ~ Angle)"
   ]
  },
  {
   "cell_type": "markdown",
   "metadata": {},
   "source": [
    "زوایای که تفاوت معناداری با هم دارند در جداول بالا مشخص شده اند. "
   ]
  },
  {
   "cell_type": "markdown",
   "metadata": {},
   "source": [
    "## 12.In this experiment, is there a linear or non-linear relationship between the response times of the conditions? Based on which one can make a significant prediction of another response time? (Use appropriate regression, statistical tests, R^2, etc.) Was performance improving significantly over trials? Can we assume that there is no systematic linear trend over time?\n"
   ]
  },
  {
   "cell_type": "code",
   "execution_count": 802,
   "metadata": {
    "scrolled": false
   },
   "outputs": [
    {
     "data": {
      "text/plain": [
       "\n",
       "Call:\n",
       "lm(formula = RTsec ~ Trial, data = data)\n",
       "\n",
       "Coefficients:\n",
       "(Intercept)        Trial  \n",
       "   2.095957    -0.001569  \n"
      ]
     },
     "metadata": {},
     "output_type": "display_data"
    }
   ],
   "source": [
    "# Perform linear regression analysis\n",
    "lm_result <- lm(RTsec ~ Trial, data = data)\n",
    "lm_result"
   ]
  },
  {
   "cell_type": "code",
   "execution_count": 803,
   "metadata": {
    "scrolled": true
   },
   "outputs": [
    {
     "data": {
      "text/plain": [
       "\n",
       "Call:\n",
       "lm(formula = RTsec ~ Trial, data = data)\n",
       "\n",
       "Residuals:\n",
       "    Min      1Q  Median      3Q     Max \n",
       "-1.2106 -0.4023 -0.1290  0.2538  2.4652 \n",
       "\n",
       "Coefficients:\n",
       "              Estimate Std. Error t value Pr(>|t|)    \n",
       "(Intercept)  2.0959569  0.0471958   44.41   <2e-16 ***\n",
       "Trial       -0.0015689  0.0001361  -11.53   <2e-16 ***\n",
       "---\n",
       "Signif. codes:  0 '***' 0.001 '**' 0.01 '*' 0.05 '.' 0.1 ' ' 1\n",
       "\n",
       "Residual standard error: 0.5773 on 598 degrees of freedom\n",
       "Multiple R-squared:  0.1819,\tAdjusted R-squared:  0.1805 \n",
       "F-statistic: 132.9 on 1 and 598 DF,  p-value: < 2.2e-16\n"
      ]
     },
     "metadata": {},
     "output_type": "display_data"
    }
   ],
   "source": [
    "# Check the regression model summary\n",
    "summary(lm_result)"
   ]
  },
  {
   "cell_type": "markdown",
   "metadata": {},
   "source": [
    "مدل رگرسیون خطی برای رابطه بین  (زمان واکنش) و ازمایه(ترایال) موارد زیر را نشان میدهد:\n",
    "\n",
    "1. اینترسپت: اینترسپت تخمینی 2.0959569 است که نشان دهنده زمان واکنش مورد انتظار در آغاز تکلیف است.\n",
    "\n",
    "2. ضریب آزمایه: ضریب تخمینی برای آزمایه 0.0015689- است. این ضریب نشان دهنده تغییر مورد انتظار در زمان واکنش برای هر واحد افزایش در تعداد آزمایه است. به عبارت دیگر، با افزایش تعداد آزمایه، کاهش جزئی در زمان واکنش وجود دارد.\n",
    "\n",
    "3. معناداری: هر دو ضریب راینترسپت و آزمایه دارای مقادیر پی بسیار پایینی هستند که نشان می دهد از نظر آماری معنی دار هستند. این امر نشان می دهد که تعداد آزمایه تأثیر قابل توجهی بر زمان واکنش دارد.\n",
    "\n",
    "4. آر اسکوئر: مقدار آراسکوئر چندگانه 0.1819 است، به این معنی که تقریباً 18.19٪ از تغییرپذیری در زمان واکنش را می توان با رابطه خطی با عدد آزمایه توضیح داد.\n",
    "\n",
    "آماره اف: آماره اف 132.9 با مقدار پی بسیار کوچک نشان می دهد که مدل کلی قابل توجه است و نشان دهنده ی که یک رابطه خطی بین زمان پاسخ و آزمایه می باشد5...\n",
    "\n",
    "در مجموع، بر اساس نتایج تحلیل رگرسیون خطی، می‌توان نتیجه گرفت که رابطه خطی آماری معنی‌داری بین تعداد آزمایه و زمان واکنش وجود دارد. ضریب منفی برای آزمایه نشان می دهد که زمان واکنش با افزایش تعداد آزمایه کاهش می یابد. (18.19٪ بر اساس آراسکوئر)،  نشان می‌دهد عوامل دیگری که در مدل گنجانده نشده‌اند نیز ممکن است در تغییر زمان واکنش نقش داشته باشند."
   ]
  },
  {
   "cell_type": "code",
   "execution_count": 804,
   "metadata": {},
   "outputs": [
    {
     "data": {
      "text/html": [
       "0.181875135076516"
      ],
      "text/latex": [
       "0.181875135076516"
      ],
      "text/markdown": [
       "0.181875135076516"
      ],
      "text/plain": [
       "[1] 0.1818751"
      ]
     },
     "metadata": {},
     "output_type": "display_data"
    }
   ],
   "source": [
    "# Calculate R-squared value\n",
    "r_squared <- summary(lm_result)$r.squared\n",
    "r_squared"
   ]
  },
  {
   "cell_type": "code",
   "execution_count": 861,
   "metadata": {},
   "outputs": [],
   "source": [
    "# Visualize the relationship between Trial and RTsec\n",
    "regression_plot <- ggplot(data, aes(x = Trial, y = RTsec)) +\n",
    "  geom_point() +\n",
    "  geom_smooth(method = \"lm\", se = FALSE, color = \"blue\") +\n",
    "  labs(x = \"Trial\", y = \"Reaction Time (RTsec)\") +\n",
    "  theme_minimal()"
   ]
  },
  {
   "cell_type": "code",
   "execution_count": 862,
   "metadata": {},
   "outputs": [
    {
     "name": "stderr",
     "output_type": "stream",
     "text": [
      "\u001b[1m\u001b[22m`geom_smooth()` using formula = 'y ~ x'\n"
     ]
    },
    {
     "data": {
      "image/png": "[encoded data removed]",
      "text/plain": [
       "plot without title"
      ]
     },
     "metadata": {
      "image/png": {
       "height": 420,
       "width": 420
      }
     },
     "output_type": "display_data"
    }
   ],
   "source": [
    "# Display the regression plot\n",
    "regression_plot"
   ]
  },
  {
   "cell_type": "code",
   "execution_count": 809,
   "metadata": {},
   "outputs": [],
   "source": [
    "# Check for improvement in performance over trials\n",
    "trial_coefficient <- coef(lm_result)[\"Trial\"]\n",
    "performance_improvement <- ifelse(trial_coefficient < 0, \"Performance improvement\", \"No performance improvement\")"
   ]
  },
  {
   "cell_type": "code",
   "execution_count": 810,
   "metadata": {
    "scrolled": false
   },
   "outputs": [
    {
     "data": {
      "text/html": [
       "<strong>Trial:</strong> 'Performance improvement'"
      ],
      "text/latex": [
       "\\textbf{Trial:} 'Performance improvement'"
      ],
      "text/markdown": [
       "**Trial:** 'Performance improvement'"
      ],
      "text/plain": [
       "                    Trial \n",
       "\"Performance improvement\" "
      ]
     },
     "metadata": {},
     "output_type": "display_data"
    }
   ],
   "source": [
    "# Print the result\n",
    "performance_improvement\n"
   ]
  }
 ],
 "metadata": {
  "kernelspec": {
   "display_name": "R",
   "language": "R",
   "name": "ir"
  },
  "language_info": {
   "codemirror_mode": "r",
   "file_extension": ".r",
   "mimetype": "text/x-r-source",
   "name": "R",
   "pygments_lexer": "r",
   "version": "4.1.3"
  }
 },
 "nbformat": 4,
 "nbformat_minor": 2
}
